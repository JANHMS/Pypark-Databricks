{
 "cells": [
  {
   "cell_type": "markdown",
   "metadata": {},
   "source": [
    "<font color='green'>**TA Comment**: Excellent Project! I liked the interactive plots. However, it would have been nice if the relevant information had been highlighted to begin with in the more cluttered plots. Fortunately, you explained very well what the main take aways were.\n",
    "\n",
    "**Grades**:\n",
    "* Enny: 9.81\n",
    "* Jan: 9.81\n",
    "* Stefan: 9.81\n",
    "</font>"
   ]
  },
  {
   "cell_type": "markdown",
   "metadata": {
    "id": "PlsPJUw7wCWZ"
   },
   "source": [
    "# 02807: Project 2\n",
    " \n",
    "## Practical information\n",
    " \n",
    "* This project must be completed in groups of 3 students.\n",
    "* This project must be handed in as an *.ipynb notebook to the course site on DTU Inside. Go to the Assignments tab to upload your submission. \n",
    "* The notebook must be runnable on Google Colab.\n",
    "* This project is due on Monday, November 30, 20:00.\n",
    "* Each group has to hand in *one* notebook with their solutions.\n",
    "* Your code must be written in Python/PySpark.\n",
    "* For each question you may use as many cells for your solution as you like.\n",
    "* You should not remove the problem statements.\n",
    "* Your notebook should be runnable, i.e., clicking in the code cells should display the result that you want to have assessed.  \n",
    "* You are not expected to use machine learning to solve any of the exercises.\n",
    " \n",
    "## Colaboration policy\n",
    " \n",
    "* It is not allowed to collaborate on the exercises with students outside your group, except for discussing the text of the exercise with teachers and fellow students enrolled on the course in the same semester. \n",
    "* It is not allowed to exchange, hand-over or in any other way communicate solutions or parts of solutions to the exercises. \n",
    "* It is not allowed to use solutions from similar courses, or solutions found elsewhere."
   ]
  },
  {
   "cell_type": "markdown",
   "metadata": {
    "id": "ZP30rwxHDQyG"
   },
   "source": [
    "## Contribution table and grading\n",
    "\n",
    "* The total amount of points in the project is 105.\n",
    "* You have to indicate who has solved each part of each exercise in a **contribution table**. \n",
    "* The following is an example of a contribution table:\n",
    "\n",
    "|        | Exercise 1 | Exercise 2 | Exercise 3 | Exercise 4 |\n",
    "|--------|------------|------------|------------|------------|\n",
    "| **Part 1** | John       |    Mary        |     Ann       |   Mary, Ann         |\n",
    "| **Part 2** |     Mary       |    Mary        |   Ann         |    John, Ann        |\n",
    "| **Part 3** |     John, Mary, Ann       |      John, Ann      |   John         | **n.a.**      |\n",
    "| **Part 4** | **n.a.**       |  Ann          |     John, Mary       | **n.a.**       |\n",
    "| **Part 5** | **n.a.**     | John, Mary, Ann           | **n.a.**       | **n.a.**       |\n",
    "| **Part 6** | **n.a.**       | John, Mary, Ann           | **n.a.**      | **n.a.**      |\n",
    "\n",
    "* A group member can take credit for solving a part of an exercise only if they have contributed **substantially** to the solution. \n",
    "* Simple contributions, such as correcting a small bug or double-checking the results of functions, are not sufficient for taking credit for a solution.\n",
    "* Several group members can take credit for the same solution if they all have contributed substantially to it.\n",
    "* **Each group member must solve at least 105/3=35 points**. \n",
    "* **If no name is provided for an exercise's part, all group members will be assigned responsibility for it**.\n",
    "* Group members should decide amongst themselves how to collaborate on the project to meet the above-mentioned constraints.  \n",
    "* Grades are individual. The grade $\\text{grade}(m)$ for a group member $m$ ranges from 0 to 10 and is calculated as follows: \n",
    "\n",
    "  * $\\text{individual-score}(m) = \\frac{\\text{total number of points for the parts correctly solved by }m}{\\text{total number of points for the parts contributed by }m}$\n",
    "\n",
    "  * $\\text{group-score} = \\frac{\\text{total number of points correctly solved by any group member}}{\\text{total number of points in the project}}$\n",
    "\n",
    "  * $\\text{grade}(m) =  7.5 \\cdot \\text{individual-score}(m) + 2.5 \\cdot \\text{group-score}$\n",
    "\n",
    "* **Example**: in the contribution table above, suppose that all parts are solved correctly except for those of Exercise 4, which are both wrong. Then Ann's grade is calculated as follows:\n",
    "\n",
    "  * $\\text{individual-part}(Ann) = \\frac{2.5 + 2.5 + 10 + 10 + 5 + 10 + 5}{2.5 + 2.5 + 10 + 10 + 5 + 10 + 5 + 10 + 10} = \\frac{45}{65} = 0.692$\n",
    "\n",
    "  * $\\text{group-part} = \\frac{85}{105} = 0.809$\n",
    "\n",
    "  * $\\text{grade}(Ann) =  7.14$\n"
   ]
  },
  {
   "cell_type": "markdown",
   "metadata": {
    "id": "m7RWIOjnTvxC"
   },
   "source": [
    "# Guidelines\n",
    "- Data processing should be done using PySpark. Once data has been reduced to aggregate form, you may use collect to extract it into Python for visualisation.\n",
    "- Your solutions will be evaluated by correctness, code quality and interpretability of the output. This means that you have to write clean and efficient Spark code that will generate sensible execution plans, and that the tables and visualisations that you produce are meaningful and easy to read.\n",
    "- You may add more cells for your solutions, but you should not modify the notebook otherwise."
   ]
  },
  {
   "cell_type": "markdown",
   "metadata": {
    "id": "fFNRs5ehSSjy"
   },
   "source": [
    "#<font color='red'>Additional Guidelines (added 4-Nov)</font>\n",
    "\n",
    "- You have to submit an *.ipynb file that runs on Google Colab. You may work on any other platform to develop your solutions, but you must make sure that the final form of the notebook is runnable on Colab. \n",
    "\n",
    "- Do not clear output cells when submitting the *.ipynb file, so we can see the results of your code cell executions without necessarily running them.\n",
    "\n",
    "- To work with the 2 large files in Project 2, we suggest that you do the following:\n",
    "\n",
    "1.   Create a new google account dedicated exclusively to Project 2.\n",
    "2.   Use the free 15 GB of Google Drive storage provided with the account to store listings.csv and reviews.csv (if necessary, zip the files first).\n",
    "3. Mount your Google Drive in the runtime's virtual machine. This will allow you to access the data from your Google Drive. Here is an official guide to mounting Drive on Colab: https://colab.research.google.com/notebooks/io.ipynb#scrollTo=p2E4EKhCWEC5\n",
    "4. Now, the two files are available in the `/content/drive folder of your runtime's virtual machine. \n",
    "\n",
    "* You are allowed to use a different way of storing/reading the two large files, but make sure to do so in a way in which we can easily run your notebook.\n",
    "\n",
    "\n",
    "\n",
    "\n",
    "\n",
    "\n",
    "\n"
   ]
  },
  {
   "cell_type": "markdown",
   "metadata": {
    "id": "vklet8XdRGVV"
   },
   "source": [
    "# Group declaration table \n",
    "\n",
    "This table must be filled before submission.\n",
    "\n"
   ]
  },
  {
   "cell_type": "code",
   "execution_count": null,
   "metadata": {
    "colab": {
     "base_uri": "https://localhost:8080/",
     "height": 332
    },
    "id": "chiXA3CzRSA1",
    "outputId": "e5a029f0-dd74-4103-b447-645dd7f3dd73"
   },
   "outputs": [
    {
     "data": {
      "text/html": [
       "<div>\n",
       "<style scoped>\n",
       "    .dataframe tbody tr th:only-of-type {\n",
       "        vertical-align: middle;\n",
       "    }\n",
       "\n",
       "    .dataframe tbody tr th {\n",
       "        vertical-align: top;\n",
       "    }\n",
       "\n",
       "    .dataframe thead th {\n",
       "        text-align: right;\n",
       "    }\n",
       "</style>\n",
       "<table border=\"1\" class=\"dataframe\">\n",
       "  <thead>\n",
       "    <tr style=\"text-align: right;\">\n",
       "      <th></th>\n",
       "      <th>Exercise 1</th>\n",
       "      <th>Exercise 2</th>\n",
       "    </tr>\n",
       "  </thead>\n",
       "  <tbody>\n",
       "    <tr>\n",
       "      <th>Part 1</th>\n",
       "      <td>Enny, Jan, Stefan</td>\n",
       "      <td>Enny, Jan, Stefan</td>\n",
       "    </tr>\n",
       "    <tr>\n",
       "      <th>Part 2.1</th>\n",
       "      <td>Enny, Jan, Stefan</td>\n",
       "      <td>Enny, Jan, Stefan</td>\n",
       "    </tr>\n",
       "    <tr>\n",
       "      <th>Part 2.2</th>\n",
       "      <td>Enny, Jan, Stefan</td>\n",
       "      <td>Enny, Jan, Stefan</td>\n",
       "    </tr>\n",
       "    <tr>\n",
       "      <th>Part 2.3</th>\n",
       "      <td>Enny, Jan, Stefan</td>\n",
       "      <td>Enny, Jan, Stefan</td>\n",
       "    </tr>\n",
       "    <tr>\n",
       "      <th>Part 2.4</th>\n",
       "      <td>Enny, Jan, Stefan</td>\n",
       "      <td>Enny, Jan, Stefan</td>\n",
       "    </tr>\n",
       "    <tr>\n",
       "      <th>Part 2.5</th>\n",
       "      <td></td>\n",
       "      <td>Enny, Jan, Stefan</td>\n",
       "    </tr>\n",
       "    <tr>\n",
       "      <th>Part 2.6</th>\n",
       "      <td></td>\n",
       "      <td>Enny, Jan, Stefan</td>\n",
       "    </tr>\n",
       "    <tr>\n",
       "      <th>Part 3.1</th>\n",
       "      <td></td>\n",
       "      <td>Enny, Jan, Stefan</td>\n",
       "    </tr>\n",
       "    <tr>\n",
       "      <th>Part 3.2</th>\n",
       "      <td></td>\n",
       "      <td>Enny, Jan, Stefan</td>\n",
       "    </tr>\n",
       "  </tbody>\n",
       "</table>\n",
       "</div>"
      ],
      "text/plain": [
       "                 Exercise 1         Exercise 2\n",
       "Part 1    Enny, Jan, Stefan  Enny, Jan, Stefan\n",
       "Part 2.1  Enny, Jan, Stefan  Enny, Jan, Stefan\n",
       "Part 2.2  Enny, Jan, Stefan  Enny, Jan, Stefan\n",
       "Part 2.3  Enny, Jan, Stefan  Enny, Jan, Stefan\n",
       "Part 2.4  Enny, Jan, Stefan  Enny, Jan, Stefan\n",
       "Part 2.5                     Enny, Jan, Stefan\n",
       "Part 2.6                     Enny, Jan, Stefan\n",
       "Part 3.1                     Enny, Jan, Stefan\n",
       "Part 3.2                     Enny, Jan, Stefan"
      ]
     },
     "execution_count": 2,
     "metadata": {
      "tags": []
     },
     "output_type": "execute_result"
    }
   ],
   "source": [
    "import pandas as pd\n",
    "\n",
    "d = {'Exercise 1' : [\"Enny, Jan, Stefan\", \"Enny, Jan, Stefan\", \"Enny, Jan, Stefan\",\n",
    "                     \"Enny, Jan, Stefan\", \"Enny, Jan, Stefan\", \"\", \"\", \"\", \"\"], \n",
    "     'Exercise 2' : [\"Enny, Jan, Stefan\", \"Enny, Jan, Stefan\", \"Enny, Jan, Stefan\",\n",
    "                     \"Enny, Jan, Stefan\", \"Enny, Jan, Stefan\", \"Enny, Jan, Stefan\",\n",
    "                     \"Enny, Jan, Stefan\", \"Enny, Jan, Stefan\", \"Enny, Jan, Stefan\"],\n",
    "     } \n",
    "  \n",
    "ct = pd.DataFrame(d, index =['Part 1','Part 2.1','Part 2.2','Part 2.3','Part 2.4','Part 2.5','Part 2.6','Part 3.1','Part 3.2']) \n",
    "\n",
    "ct"
   ]
  },
  {
   "cell_type": "markdown",
   "metadata": {
    "id": "-4hk-43Io9sI"
   },
   "source": [
    "# Create Spark session and define imports"
   ]
  },
  {
   "cell_type": "code",
   "execution_count": null,
   "metadata": {
    "colab": {
     "base_uri": "https://localhost:8080/"
    },
    "id": "2ftW7yaGo9sJ",
    "outputId": "ff22a028-77d3-4cb4-db93-98b9ce63f48b"
   },
   "outputs": [
    {
     "name": "stdout",
     "output_type": "stream",
     "text": [
      "Collecting pyspark\n",
      "\u001b[?25l  Downloading https://files.pythonhosted.org/packages/f0/26/198fc8c0b98580f617cb03cb298c6056587b8f0447e20fa40c5b634ced77/pyspark-3.0.1.tar.gz (204.2MB)\n",
      "\u001b[K     |████████████████████████████████| 204.2MB 67kB/s \n",
      "\u001b[?25hCollecting py4j==0.10.9\n",
      "\u001b[?25l  Downloading https://files.pythonhosted.org/packages/9e/b6/6a4fb90cd235dc8e265a6a2067f2a2c99f0d91787f06aca4bcf7c23f3f80/py4j-0.10.9-py2.py3-none-any.whl (198kB)\n",
      "\u001b[K     |████████████████████████████████| 204kB 41.9MB/s \n",
      "\u001b[?25hBuilding wheels for collected packages: pyspark\n",
      "  Building wheel for pyspark (setup.py) ... \u001b[?25l\u001b[?25hdone\n",
      "  Created wheel for pyspark: filename=pyspark-3.0.1-py2.py3-none-any.whl size=204612243 sha256=a395c03758585b3861fe696aede44afd86c8ac45fbf47747d2dc31ff100f1a4a\n",
      "  Stored in directory: /root/.cache/pip/wheels/5e/bd/07/031766ca628adec8435bb40f0bd83bb676ce65ff4007f8e73f\n",
      "Successfully built pyspark\n",
      "Installing collected packages: py4j, pyspark\n",
      "Successfully installed py4j-0.10.9 pyspark-3.0.1\n",
      "The following additional packages will be installed:\n",
      "  openjdk-8-jre-headless\n",
      "Suggested packages:\n",
      "  openjdk-8-demo openjdk-8-source libnss-mdns fonts-dejavu-extra\n",
      "  fonts-ipafont-gothic fonts-ipafont-mincho fonts-wqy-microhei\n",
      "  fonts-wqy-zenhei fonts-indic\n",
      "The following NEW packages will be installed:\n",
      "  openjdk-8-jdk-headless openjdk-8-jre-headless\n",
      "0 upgraded, 2 newly installed, 0 to remove and 14 not upgraded.\n",
      "Need to get 36.5 MB of archives.\n",
      "After this operation, 143 MB of additional disk space will be used.\n",
      "Selecting previously unselected package openjdk-8-jre-headless:amd64.\n",
      "(Reading database ... 144793 files and directories currently installed.)\n",
      "Preparing to unpack .../openjdk-8-jre-headless_8u275-b01-0ubuntu1~18.04_amd64.deb ...\n",
      "Unpacking openjdk-8-jre-headless:amd64 (8u275-b01-0ubuntu1~18.04) ...\n",
      "Selecting previously unselected package openjdk-8-jdk-headless:amd64.\n",
      "Preparing to unpack .../openjdk-8-jdk-headless_8u275-b01-0ubuntu1~18.04_amd64.deb ...\n",
      "Unpacking openjdk-8-jdk-headless:amd64 (8u275-b01-0ubuntu1~18.04) ...\n",
      "Setting up openjdk-8-jre-headless:amd64 (8u275-b01-0ubuntu1~18.04) ...\n",
      "update-alternatives: using /usr/lib/jvm/java-8-openjdk-amd64/jre/bin/orbd to provide /usr/bin/orbd (orbd) in auto mode\n",
      "update-alternatives: using /usr/lib/jvm/java-8-openjdk-amd64/jre/bin/servertool to provide /usr/bin/servertool (servertool) in auto mode\n",
      "update-alternatives: using /usr/lib/jvm/java-8-openjdk-amd64/jre/bin/tnameserv to provide /usr/bin/tnameserv (tnameserv) in auto mode\n",
      "Setting up openjdk-8-jdk-headless:amd64 (8u275-b01-0ubuntu1~18.04) ...\n",
      "update-alternatives: using /usr/lib/jvm/java-8-openjdk-amd64/bin/idlj to provide /usr/bin/idlj (idlj) in auto mode\n",
      "update-alternatives: using /usr/lib/jvm/java-8-openjdk-amd64/bin/wsimport to provide /usr/bin/wsimport (wsimport) in auto mode\n",
      "update-alternatives: using /usr/lib/jvm/java-8-openjdk-amd64/bin/jsadebugd to provide /usr/bin/jsadebugd (jsadebugd) in auto mode\n",
      "update-alternatives: using /usr/lib/jvm/java-8-openjdk-amd64/bin/native2ascii to provide /usr/bin/native2ascii (native2ascii) in auto mode\n",
      "update-alternatives: using /usr/lib/jvm/java-8-openjdk-amd64/bin/javah to provide /usr/bin/javah (javah) in auto mode\n",
      "update-alternatives: using /usr/lib/jvm/java-8-openjdk-amd64/bin/clhsdb to provide /usr/bin/clhsdb (clhsdb) in auto mode\n",
      "update-alternatives: using /usr/lib/jvm/java-8-openjdk-amd64/bin/xjc to provide /usr/bin/xjc (xjc) in auto mode\n",
      "update-alternatives: using /usr/lib/jvm/java-8-openjdk-amd64/bin/hsdb to provide /usr/bin/hsdb (hsdb) in auto mode\n",
      "update-alternatives: using /usr/lib/jvm/java-8-openjdk-amd64/bin/schemagen to provide /usr/bin/schemagen (schemagen) in auto mode\n",
      "update-alternatives: using /usr/lib/jvm/java-8-openjdk-amd64/bin/extcheck to provide /usr/bin/extcheck (extcheck) in auto mode\n",
      "update-alternatives: using /usr/lib/jvm/java-8-openjdk-amd64/bin/jhat to provide /usr/bin/jhat (jhat) in auto mode\n",
      "update-alternatives: using /usr/lib/jvm/java-8-openjdk-amd64/bin/wsgen to provide /usr/bin/wsgen (wsgen) in auto mode\n"
     ]
    }
   ],
   "source": [
    "# Define the imports that we want to use and create spark session\n",
    "!pip install pyspark\n",
    "!pip install -U -q PyDrive\n",
    "!apt install openjdk-8-jdk-headless -qq\n",
    "import os\n",
    "os.environ[\"JAVA_HOME\"] = \"/usr/lib/jvm/java-8-openjdk-amd64\"\n",
    "\n",
    "import pyspark\n",
    "from pyspark.sql import *\n",
    "from pyspark.sql import functions as f\n",
    "from pyspark.sql.types import *\n",
    "from pyspark import SparkContext, SparkConf\n",
    "from pyspark.sql.functions import *\n",
    "\n",
    "import matplotlib.pyplot as plt\n",
    "import seaborn as sns\n",
    "sns.set()\n",
    "import numpy as np\n",
    "import plotly.express as px\n",
    "import plotly.graph_objects as go\n",
    "from plotly.subplots import make_subplots\n",
    "from pyspark.sql.functions import split, explode\n",
    "from pyspark.sql.functions import col, size\n",
    "from nltk.corpus import stopwords  \n",
    "from nltk.tokenize import word_tokenize  \n",
    "from pyspark.ml.feature import RegexTokenizer\n",
    "from pyspark.ml.feature import StopWordsRemover\n",
    "import nltk\n",
    "nltk.download('stopwords')"
   ]
  },
  {
   "cell_type": "code",
   "execution_count": null,
   "metadata": {
    "id": "r_XM2sacuSIs"
   },
   "outputs": [],
   "source": [
    "# create the Spark session\n",
    "conf = SparkConf().set(\"spark.ui.port\", \"4050\")\n",
    "sc = pyspark.SparkContext(conf=conf)\n",
    "spark = SparkSession.builder.getOrCreate()"
   ]
  },
  {
   "cell_type": "markdown",
   "metadata": {
    "id": "m2en_PI7rphC"
   },
   "source": [
    "# Exercise 1: Airbnb analysis (52.5 points)\n"
   ]
  },
  {
   "cell_type": "markdown",
   "metadata": {
    "id": "dPlNQTICo9sH"
   },
   "source": [
    "## Introduction\n",
    "\n",
    "<img src=\"https://www.esquireme.com/public/images/2019/11/03/airbnb-678x381.jpg\" alt=\"airbnb\" width=\"600\"/>\n",
    "\n",
    "[Airbnb](http://airbnb.com) is an online marketplace for arranging or offering lodgings. In this exercise you will use Spark to analyze data obtained from the Airbnb website. The purpose of the analysis is to extract information about trends and patterns from the data.\n",
    "\n",
    "The project has two parts.\n",
    "\n",
    "### Part 1: Loading, describing and preparing the data\n",
    "There's quite a lot of data. Make sure that you can load and correctly parse the data, and that you understand what the dataset contains. You should also prepare the data for the analysis in part two.\n",
    "\n",
    "### Par 2: Analysis\n",
    "In this part your goal is to learn about trends and usage patterns from the data. You should give solutions to the tasks defined in this notebook, and you should use Spark to do the data processing. You may use other libraries like for instance Pandas and matplotlib for visualisation.\n"
   ]
  },
  {
   "cell_type": "markdown",
   "metadata": {
    "id": "irkTU3UWo9sM"
   },
   "source": [
    "## Part 1: Loading, describing and preparing the data (2.5 pts)\n",
    "The data comes in two files. Start by downloading the files.\n",
    "\n",
    "- [Listings](https://files.dtu.dk/u/lT8jJJs_IyiHPyMs/listings.csv?l) (5 GB)\n",
    "- [Reviews](https://files.dtu.dk/u/yH8FBcZ_BQjafwUN/reviews.csv?l) (9.5 GB)"
   ]
  },
  {
   "cell_type": "markdown",
   "metadata": {
    "id": "mPtdLqvto9sN"
   },
   "source": [
    "### Load the data\n",
    "The data has multiline rows (rows that span multiple lines in the file). To correctly parse these you should use the `multiLine` option and set the `escape` character to be `\"`."
   ]
  },
  {
   "cell_type": "code",
   "execution_count": null,
   "metadata": {
    "colab": {
     "base_uri": "https://localhost:8080/"
    },
    "id": "K5kDvbDoo9sN",
    "outputId": "492a8dd5-bb1b-4517-d789-4c720d2fe6ce"
   },
   "outputs": [
    {
     "name": "stdout",
     "output_type": "stream",
     "text": [
      "Mounted at /content/drive\n"
     ]
    }
   ],
   "source": [
    "from google.colab import drive\n",
    "# This will prompt for authorization.\n",
    "\n",
    "drive.mount('/content/drive')"
   ]
  },
  {
   "cell_type": "markdown",
   "metadata": {
    "id": "1RTdk54WgtV3"
   },
   "source": [
    "## **Note**\n",
    "It is important that this notebook is run in Colab, as it includes interactive plots which can't be shown in Jupyter notebook. Alternatively you have to run the code cells again in Jupyter to see them."
   ]
  },
  {
   "cell_type": "markdown",
   "metadata": {
    "id": "0q7-6q52bN_3"
   },
   "source": [
    "First the data is loaded from the CSV files. Since the Schema is unknown, we choose to infer it:"
   ]
  },
  {
   "cell_type": "code",
   "execution_count": null,
   "metadata": {
    "id": "siF3v6tQtsW2"
   },
   "outputs": [],
   "source": [
    "listings = spark.read.option(\"multiLine\", True).option(\"escape\", \"\\\"\").option('inferSchema', True).option('header', True).csv(\"/content/drive/My Drive/listings.csv\")\n",
    "reviews = spark.read.option(\"multiLine\", True).option(\"escape\", \"\\\"\").option('inferSchema', True).option('header', True).csv(\"/content/drive/My Drive/reviews.csv\")"
   ]
  },
  {
   "cell_type": "markdown",
   "metadata": {
    "id": "HV89khYqo9sQ"
   },
   "source": [
    "### Describe the data\n",
    "**List the features (schema) and sizes of the datasets.**"
   ]
  },
  {
   "cell_type": "markdown",
   "metadata": {
    "id": "zAP-Uf-AeNSR"
   },
   "source": [
    "First off, we list the features of the `listings` dataset for at better understanding of what the dataset is about."
   ]
  },
  {
   "cell_type": "code",
   "execution_count": null,
   "metadata": {
    "colab": {
     "base_uri": "https://localhost:8080/"
    },
    "id": "GGc-HSnd0L-Y",
    "outputId": "34027ab4-6422-4d08-9e5b-d15e5273196f"
   },
   "outputs": [
    {
     "name": "stdout",
     "output_type": "stream",
     "text": [
      "root\n",
      " |-- id: string (nullable = true)\n",
      " |-- listing_url: string (nullable = true)\n",
      " |-- scrape_id: string (nullable = true)\n",
      " |-- last_scraped: string (nullable = true)\n",
      " |-- name: string (nullable = true)\n",
      " |-- summary: string (nullable = true)\n",
      " |-- space: string (nullable = true)\n",
      " |-- description: string (nullable = true)\n",
      " |-- experiences_offered: string (nullable = true)\n",
      " |-- neighborhood_overview: string (nullable = true)\n",
      " |-- notes: string (nullable = true)\n",
      " |-- transit: string (nullable = true)\n",
      " |-- access: string (nullable = true)\n",
      " |-- interaction: string (nullable = true)\n",
      " |-- house_rules: string (nullable = true)\n",
      " |-- thumbnail_url: string (nullable = true)\n",
      " |-- medium_url: string (nullable = true)\n",
      " |-- picture_url: string (nullable = true)\n",
      " |-- xl_picture_url: string (nullable = true)\n",
      " |-- host_id: string (nullable = true)\n",
      " |-- host_url: string (nullable = true)\n",
      " |-- host_name: string (nullable = true)\n",
      " |-- host_since: string (nullable = true)\n",
      " |-- host_location: string (nullable = true)\n",
      " |-- host_about: string (nullable = true)\n",
      " |-- host_response_time: string (nullable = true)\n",
      " |-- host_response_rate: string (nullable = true)\n",
      " |-- host_acceptance_rate: string (nullable = true)\n",
      " |-- host_is_superhost: string (nullable = true)\n",
      " |-- host_thumbnail_url: string (nullable = true)\n",
      " |-- host_picture_url: string (nullable = true)\n",
      " |-- host_neighbourhood: string (nullable = true)\n",
      " |-- host_listings_count: string (nullable = true)\n",
      " |-- host_total_listings_count: string (nullable = true)\n",
      " |-- host_verifications: string (nullable = true)\n",
      " |-- host_has_profile_pic: string (nullable = true)\n",
      " |-- host_identity_verified: string (nullable = true)\n",
      " |-- street: string (nullable = true)\n",
      " |-- neighbourhood: string (nullable = true)\n",
      " |-- neighbourhood_cleansed: string (nullable = true)\n",
      " |-- neighbourhood_group_cleansed: string (nullable = true)\n",
      " |-- city: string (nullable = true)\n",
      " |-- state: string (nullable = true)\n",
      " |-- zipcode: string (nullable = true)\n",
      " |-- market: string (nullable = true)\n",
      " |-- smart_location: string (nullable = true)\n",
      " |-- country_code: string (nullable = true)\n",
      " |-- country: string (nullable = true)\n",
      " |-- latitude: string (nullable = true)\n",
      " |-- longitude: string (nullable = true)\n",
      " |-- is_location_exact: string (nullable = true)\n",
      " |-- property_type: string (nullable = true)\n",
      " |-- room_type: string (nullable = true)\n",
      " |-- accommodates: string (nullable = true)\n",
      " |-- bathrooms: string (nullable = true)\n",
      " |-- bedrooms: string (nullable = true)\n",
      " |-- beds: string (nullable = true)\n",
      " |-- bed_type: string (nullable = true)\n",
      " |-- amenities: string (nullable = true)\n",
      " |-- square_feet: string (nullable = true)\n",
      " |-- price: string (nullable = true)\n",
      " |-- weekly_price: string (nullable = true)\n",
      " |-- monthly_price: string (nullable = true)\n",
      " |-- security_deposit: string (nullable = true)\n",
      " |-- cleaning_fee: string (nullable = true)\n",
      " |-- guests_included: string (nullable = true)\n",
      " |-- extra_people: string (nullable = true)\n",
      " |-- minimum_nights: string (nullable = true)\n",
      " |-- maximum_nights: string (nullable = true)\n",
      " |-- minimum_minimum_nights: string (nullable = true)\n",
      " |-- maximum_minimum_nights: string (nullable = true)\n",
      " |-- minimum_maximum_nights: string (nullable = true)\n",
      " |-- maximum_maximum_nights: string (nullable = true)\n",
      " |-- minimum_nights_avg_ntm: string (nullable = true)\n",
      " |-- maximum_nights_avg_ntm: string (nullable = true)\n",
      " |-- calendar_updated: string (nullable = true)\n",
      " |-- has_availability: string (nullable = true)\n",
      " |-- availability_30: string (nullable = true)\n",
      " |-- availability_60: string (nullable = true)\n",
      " |-- availability_90: string (nullable = true)\n",
      " |-- availability_365: string (nullable = true)\n",
      " |-- calendar_last_scraped: string (nullable = true)\n",
      " |-- number_of_reviews: string (nullable = true)\n",
      " |-- number_of_reviews_ltm: string (nullable = true)\n",
      " |-- first_review: string (nullable = true)\n",
      " |-- last_review: string (nullable = true)\n",
      " |-- review_scores_rating: string (nullable = true)\n",
      " |-- review_scores_accuracy: string (nullable = true)\n",
      " |-- review_scores_cleanliness: string (nullable = true)\n",
      " |-- review_scores_checkin: string (nullable = true)\n",
      " |-- review_scores_communication: string (nullable = true)\n",
      " |-- review_scores_location: string (nullable = true)\n",
      " |-- review_scores_value: string (nullable = true)\n",
      " |-- requires_license: string (nullable = true)\n",
      " |-- license: string (nullable = true)\n",
      " |-- jurisdiction_names: string (nullable = true)\n",
      " |-- instant_bookable: string (nullable = true)\n",
      " |-- is_business_travel_ready: string (nullable = true)\n",
      " |-- cancellation_policy: string (nullable = true)\n",
      " |-- require_guest_profile_picture: string (nullable = true)\n",
      " |-- require_guest_phone_verification: string (nullable = true)\n",
      " |-- calculated_host_listings_count: string (nullable = true)\n",
      " |-- calculated_host_listings_count_entire_homes: string (nullable = true)\n",
      " |-- calculated_host_listings_count_private_rooms: string (nullable = true)\n",
      " |-- calculated_host_listings_count_shared_rooms: string (nullable = true)\n",
      " |-- reviews_per_month: string (nullable = true)\n",
      "\n"
     ]
    }
   ],
   "source": [
    "# Schema of listings file:\n",
    "listings.printSchema()"
   ]
  },
  {
   "cell_type": "markdown",
   "metadata": {
    "id": "Pex46HZ2gygx"
   },
   "source": [
    "It is seen that the `listings` dataset has many features to describe each listing on Airbnb. We expect that the listings are to be distinguished in the `id` feature. The features are very specific and describe the listings in terms of their location, i.e. city, state, country, state, latitude and longitude. There are also other features describing the interior in terms of number of bathrooms, bedrooms, beds and amenities. For our task specifically, some of the features will be more important than others to analyze. These will be e.g. city, country and neighbourhood.\n",
    "\n",
    "We also examine the features of the `reviews` dataset:"
   ]
  },
  {
   "cell_type": "code",
   "execution_count": null,
   "metadata": {
    "colab": {
     "base_uri": "https://localhost:8080/"
    },
    "id": "grWrHGVf0Te7",
    "outputId": "2b8ae56d-5ac8-4809-adbc-bdf13b880447"
   },
   "outputs": [
    {
     "name": "stdout",
     "output_type": "stream",
     "text": [
      "root\n",
      " |-- listing_id: string (nullable = true)\n",
      " |-- id: string (nullable = true)\n",
      " |-- date: string (nullable = true)\n",
      " |-- reviewer_id: string (nullable = true)\n",
      " |-- reviewer_name: string (nullable = true)\n",
      " |-- comments: string (nullable = true)\n",
      "\n"
     ]
    }
   ],
   "source": [
    "# Schema of reviews file:\n",
    "reviews.printSchema()"
   ]
  },
  {
   "cell_type": "markdown",
   "metadata": {
    "id": "zIuT8UimiuqC"
   },
   "source": [
    "The `reviews` dataset differs significantly from `listings`. This dataset only consists of 6 features, describing `listing_id`, which corresponds to the `id` column in the `listings` dataset. The entries in the `reviews` dataset are distinguished by their `id`. The dataset also includes features that are more specific to the reviewer, `reviewer_id` and `reviewer_name`. Furthermore, it also holds information of `date` and `comments`."
   ]
  },
  {
   "cell_type": "markdown",
   "metadata": {
    "id": "VWD9V5YokIs2"
   },
   "source": [
    "Now, we look at the sizes of the datasets in terms of observations and features:"
   ]
  },
  {
   "cell_type": "code",
   "execution_count": null,
   "metadata": {
    "colab": {
     "base_uri": "https://localhost:8080/"
    },
    "id": "o2tgtSpH2Ro-",
    "outputId": "bbc0672d-db8c-465a-c803-38cdc630c088"
   },
   "outputs": [
    {
     "name": "stdout",
     "output_type": "stream",
     "text": [
      "The number of rows in listings is 1330480\n",
      "The number of columns in listings is 106\n"
     ]
    }
   ],
   "source": [
    "# Number of rows columns in listings\n",
    "print('The number of rows in listings is', listings.count())\n",
    "print('The number of columns in listings is', len(listings.columns))"
   ]
  },
  {
   "cell_type": "code",
   "execution_count": null,
   "metadata": {
    "colab": {
     "base_uri": "https://localhost:8080/"
    },
    "id": "VUozurAE3M_u",
    "outputId": "b779d386-df6a-464b-9f78-4576855b6bea"
   },
   "outputs": [
    {
     "name": "stdout",
     "output_type": "stream",
     "text": [
      "The number of rows in reviews is 32297300\n",
      "The number of columns in reviews is 6\n"
     ]
    }
   ],
   "source": [
    "#Number of rows and columnss in reviews\n",
    "print('The number of rows in reviews is', reviews.count())\n",
    "print('The number of columns in reviews is', len(reviews.columns))"
   ]
  },
  {
   "cell_type": "markdown",
   "metadata": {
    "id": "lpNAQ_1lkUWu"
   },
   "source": [
    "By the code as seen above, `listings` has fewer entries than `reviews`, which is expected, as for one listing, there are multiple people booking it. As also seen when printing the schema, the `listings` dataset consists of more features than the `reviews` dataset, indicating that the listings are described more in detail."
   ]
  },
  {
   "cell_type": "markdown",
   "metadata": {
    "id": "XKbSZIYqlQ3Y"
   },
   "source": [
    "We also take a look at some of the entries in the two datasets:"
   ]
  },
  {
   "cell_type": "code",
   "execution_count": null,
   "metadata": {
    "colab": {
     "base_uri": "https://localhost:8080/"
    },
    "id": "Bp1qkXQTo9sR",
    "outputId": "50ea43d0-fc8e-447d-9d73-917cfa620552"
   },
   "outputs": [
    {
     "name": "stdout",
     "output_type": "stream",
     "text": [
      "+------+--------------------+--------------+------------+--------------------+--------------------+--------------------+--------------------+-------------------+---------------------+--------------------+--------------------+--------------------+--------------------+--------------------+-------------+----------+--------------------+--------------+-------+--------------------+---------+----------+--------------------+--------------------+------------------+------------------+--------------------+-----------------+--------------------+--------------------+------------------+-------------------+-------------------------+--------------------+--------------------+----------------------+--------------------+-------------+----------------------+----------------------------+---------+----------------+-------+---------+-----------------+------------+-------+--------+---------+-----------------+-----------------+---------------+------------+---------+--------+----+--------+--------------------+-----------+---------+------------+-------------+----------------+------------+---------------+------------+--------------+--------------+----------------------+----------------------+----------------------+----------------------+----------------------+----------------------+----------------+----------------+---------------+---------------+---------------+----------------+---------------------+-----------------+---------------------+------------+-----------+--------------------+----------------------+-------------------------+---------------------+---------------------------+----------------------+-------------------+----------------+-------+------------------+----------------+------------------------+--------------------+-----------------------------+--------------------------------+------------------------------+-------------------------------------------+--------------------------------------------+-------------------------------------------+-----------------+\n",
      "|    id|         listing_url|     scrape_id|last_scraped|                name|             summary|               space|         description|experiences_offered|neighborhood_overview|               notes|             transit|              access|         interaction|         house_rules|thumbnail_url|medium_url|         picture_url|xl_picture_url|host_id|            host_url|host_name|host_since|       host_location|          host_about|host_response_time|host_response_rate|host_acceptance_rate|host_is_superhost|  host_thumbnail_url|    host_picture_url|host_neighbourhood|host_listings_count|host_total_listings_count|  host_verifications|host_has_profile_pic|host_identity_verified|              street|neighbourhood|neighbourhood_cleansed|neighbourhood_group_cleansed|     city|           state|zipcode|   market|   smart_location|country_code|country|latitude|longitude|is_location_exact|    property_type|      room_type|accommodates|bathrooms|bedrooms|beds|bed_type|           amenities|square_feet|    price|weekly_price|monthly_price|security_deposit|cleaning_fee|guests_included|extra_people|minimum_nights|maximum_nights|minimum_minimum_nights|maximum_minimum_nights|minimum_maximum_nights|maximum_maximum_nights|minimum_nights_avg_ntm|maximum_nights_avg_ntm|calendar_updated|has_availability|availability_30|availability_60|availability_90|availability_365|calendar_last_scraped|number_of_reviews|number_of_reviews_ltm|first_review|last_review|review_scores_rating|review_scores_accuracy|review_scores_cleanliness|review_scores_checkin|review_scores_communication|review_scores_location|review_scores_value|requires_license|license|jurisdiction_names|instant_bookable|is_business_travel_ready| cancellation_policy|require_guest_profile_picture|require_guest_phone_verification|calculated_host_listings_count|calculated_host_listings_count_entire_homes|calculated_host_listings_count_private_rooms|calculated_host_listings_count_shared_rooms|reviews_per_month|\n",
      "+------+--------------------+--------------+------------+--------------------+--------------------+--------------------+--------------------+-------------------+---------------------+--------------------+--------------------+--------------------+--------------------+--------------------+-------------+----------+--------------------+--------------+-------+--------------------+---------+----------+--------------------+--------------------+------------------+------------------+--------------------+-----------------+--------------------+--------------------+------------------+-------------------+-------------------------+--------------------+--------------------+----------------------+--------------------+-------------+----------------------+----------------------------+---------+----------------+-------+---------+-----------------+------------+-------+--------+---------+-----------------+-----------------+---------------+------------+---------+--------+----+--------+--------------------+-----------+---------+------------+-------------+----------------+------------+---------------+------------+--------------+--------------+----------------------+----------------------+----------------------+----------------------+----------------------+----------------------+----------------+----------------+---------------+---------------+---------------+----------------+---------------------+-----------------+---------------------+------------+-----------+--------------------+----------------------+-------------------------+---------------------+---------------------------+----------------------+-------------------+----------------+-------+------------------+----------------+------------------------+--------------------+-----------------------------+--------------------------------+------------------------------+-------------------------------------------+--------------------------------------------+-------------------------------------------+-----------------+\n",
      "|145320|https://www.airbn...|20190928160308|  2019-09-28|In the middle of ...|Mitt boende passa...|A cozy three room...|Mitt boende passa...|               none| The flat is in th...|                null|My flat is close ...|You can stay in e...|Just ask me every...|No smoking inside...|         null|      null|https://a0.muscac...|          null| 703851|https://www.airbn...|      Kim|2011-06-15|Stockholm, Stockh...|Hi, I'm Kim, a de...|               N/A|               N/A|                 N/A|                t|https://a0.muscac...|https://a0.muscac...|              null|                  1|                        1|['email', 'phone'...|                   t|                     t|Stockholm, Stockh...|    Södermalm|            Södermalms|                        null|Stockholm|  Stockholms län| 118 53|Stockholm|Stockholm, Sweden|          SE| Sweden|59.31364| 18.05256|                f|        Apartment|   Private room|           2|      1.0|       1|   2|Real Bed|{TV,\"Cable TV\",Wi...|       null|$1,272.00|        null|         null|            null|     $417.00|              2|       $0.00|             2|          1125|                     2|                     2|                  1125|                  1125|                   2.0|                1125.0|    3 months ago|               t|              0|              0|             26|              26|           2019-09-28|               72|                   27|  2017-05-30| 2019-06-25|                  97|                    10|                       10|                   10|                         10|                    10|                 10|               f|   null|              null|               t|                       f|strict_14_with_gr...|                            f|                               f|                             1|                                          0|                                           1|                                          0|             2.54|\n",
      "|155220|https://www.airbn...|20190928160308|  2019-09-28|Stockholm, new sp...|Convenient and sp...|ABOUT THE HOUSE: ...|ABOUT THE HOUSE: ...|               none| Close to nature a...|Bikes to borrow a...|Yes regular busse...|Everything in the...|I will make you f...|          No smoking|         null|      null|https://a0.muscac...|          null| 746396|https://www.airbn...|Madeleine|2011-06-26|Stockholm, Stockh...|I work with human...|within a few hours|               63%|                 N/A|                f|https://a0.muscac...|https://a0.muscac...|              null|                  2|                        2|['email', 'phone'...|                   t|                     f|Stockholm, Stockh...|    Skarpnäck|            Skarpnäcks|                        null|Stockholm|Stockholm County|   null|Stockholm|Stockholm, Sweden|          SE| Sweden|59.24667| 18.17799|                f|            House|Entire home/apt|           3|      1.0|       2|   3|Real Bed|{TV,\"Cable TV\",In...|          0|$1,203.00|   $4,000.00|   $15,000.00|       $3,000.00|   $1,000.00|              3|     $500.00|             3|           730|                     3|                     3|                   730|                   730|                   3.0|                 730.0|    8 months ago|               t|              0|              0|              0|               0|           2019-09-28|                0|                    0|        null|       null|                null|                  null|                     null|                 null|                       null|                  null|               null|               f|   null|              null|               f|                       f|            moderate|                            f|                               f|                             2|                                          2|                                           0|                                          0|             null|\n",
      "|155685|https://www.airbn...|20190928160308|  2019-09-28|Hornstull with wa...|This apartment is...|46 sqm apartment ...|This apartment is...|               none| There is a funky ...|                null|Very close to pub...|Everything in the...|I meet in most ar...|•  The person tha...|         null|      null|https://a0.muscac...|          null| 748592|https://www.airbn...|   Robert|2011-06-27|Stockholm, Stockh...|Robert work with ...|               N/A|               N/A|                 N/A|                f|https://a0.muscac...|https://a0.muscac...|              null|                  1|                        1|['email', 'phone'...|                   t|                     f|Stockholm, Stockh...|    Södermalm|            Södermalms|                        null|Stockholm|Stockholm County|  11739|Stockholm|Stockholm, Sweden|          SE| Sweden|59.31535| 18.03277|                t|        Apartment|Entire home/apt|           2|      1.0|       2|   2|Real Bed|{TV,Wifi,Kitchen,...|       null|$3,209.00|        null|   $17,111.00|            null|        null|              1|       $0.00|             4|           365|                     4|                     4|                   365|                   365|                   4.0|                 365.0|    4 months ago|               t|              0|              0|              0|               0|           2019-09-28|               22|                    0|  2011-08-23| 2015-12-01|                  94|                     9|                       10|                   10|                         10|                     9|                  9|               f|   null|              null|               f|                       f|            moderate|                            f|                               f|                             1|                                          1|                                           0|                                          0|             0.22|\n",
      "|164448|https://www.airbn...|20190928160308|  2019-09-28|Double room in ce...|I am renting out ...|ROOM: The room ha...|I am renting out ...|               none|                 null|                null|                null|                null|                null|All the other fac...|         null|      null|https://a0.muscac...|          null| 784312|https://www.airbn...|       Li|2011-07-06|Stockholm, Stockh...|I am a recently r...|    within an hour|              100%|                 N/A|                t|https://a0.muscac...|https://a0.muscac...|         Södermalm|                  2|                        2|['email', 'phone'...|                   t|                     t|Stockholm, Stockh...|    Södermalm|            Södermalms|                        null|Stockholm|Stockholm County|  11864|Stockholm|Stockholm, Sweden|          SE| Sweden|59.31268| 18.06258|                t|        Apartment|   Private room|           2|      1.0|       1|   2|Real Bed|{TV,Internet,Wifi...|       null|  $597.00|   $4,000.00|   $12,000.00|            null|        null|              1|       $0.00|             3|           300|                     3|                     3|                   300|                   300|                   3.0|                 300.0|     2 weeks ago|               t|             15|             37|             59|             140|           2019-09-28|              311|                   55|  2011-07-30| 2019-09-26|                  97|                    10|                       10|                   10|                         10|                    10|                 10|               f|   null|              null|               t|                       f|            flexible|                            t|                               t|                             2|                                          0|                                           2|                                          0|             3.13|\n",
      "|170651|https://www.airbn...|20190928160308|  2019-09-28|Petit Charm Rooft...|                null|Welcome to this b...|Welcome to this b...|               none|                 null|                null|                null|                null|                null|I like to have th...|         null|      null|https://a0.muscac...|          null| 814021|https://www.airbn...|    Marie|2011-07-13|Stockholm, Stockh...|Im a happy person...|within a few hours|              100%|                 N/A|                f|https://a0.muscac...|https://a0.muscac...|         Södermalm|                  1|                        1|['email', 'phone'...|                   t|                     f|Stockholm, Stockh...|    Södermalm|            Södermalms|                        null|Stockholm|Stockholm County|  11737|Stockholm|Stockholm, Sweden|          SE| Sweden|59.31568| 18.03138|                t|        Apartment|Entire home/apt|           4|      1.0|       1|   2|Real Bed|{Internet,Wifi,Ki...|       null|  $734.00|        null|   $18,181.00|       $2,139.00|     $321.00|              2|     $321.00|             3|            30|                     3|                     3|                    30|                    30|                   3.0|                  30.0|     6 weeks ago|               t|             13|             38|             58|             216|           2019-09-28|               33|                    7|  2011-08-14| 2019-09-01|                  93|                    10|                        9|                   10|                         10|                    10|                  9|               f|   null|              null|               f|                       f|strict_14_with_gr...|                            f|                               f|                             1|                                          1|                                           0|                                          0|             0.33|\n",
      "|206221|https://www.airbn...|20190928160308|  2019-09-28|Doubleroom at Söd...|                null|The region is sit...|The region is sit...|               none|                 null|                null|                null|                null|                null|                null|         null|      null|https://a0.muscac...|          null|1022374|https://www.airbn...|Elisabeth|2011-08-26|              Sweden|I'm a positive pe...|      within a day|               50%|                 N/A|                f|https://a0.muscac...|https://a0.muscac...|              null|                  1|                        1|['email', 'phone'...|                   t|                     f|Stockholm, Stockh...|    Södermalm|            Södermalms|                        null|Stockholm|Stockholm County|  11639|Stockholm|Stockholm, Sweden|          SE| Sweden|59.31226| 18.07942|                t|Bed and breakfast|    Shared room|           2|      1.0|       1|   2|Real Bed|{Wifi,Breakfast,E...|         96|  $665.00|        null|         null|            null|        null|              2|     $200.00|             3|            14|                     3|                     3|                    14|                    14|                   3.0|                  14.0|     2 weeks ago|               t|              2|             25|             55|             330|           2019-09-28|               78|                   12|  2011-11-30| 2019-08-13|                  98|                    10|                       10|                   10|                         10|                    10|                 10|               f|   null|              null|               f|                       f|            flexible|                            f|                               f|                             1|                                          0|                                           0|                                          1|             0.82|\n",
      "|220233|https://www.airbn...|20190928160308|  2019-09-28|Central apartment...|My apartment is l...|38 sqm apartment ...|My apartment is l...|               none| The apartment is ...|The apartment win...|Subway station (t...|As a guest you wi...|I'm happy to prov...|I trust my guests...|         null|      null|https://a0.muscac...|          null|1137208|https://www.airbn...|  Martina|2011-09-10|Stockholm, Stockh...|Want to enjoy the...|               N/A|               N/A|                 N/A|                f|https://a0.muscac...|https://a0.muscac...|          Norrmalm|                  1|                        1|['email', 'phone'...|                   t|                     f|Stockholm, Stockh...|     Norrmalm|             Norrmalms|                        null|Stockholm|  Stockholms län|  11320|Stockholm|Stockholm, Sweden|          SE| Sweden|59.33948| 18.03551|                t|        Apartment|Entire home/apt|           2|      1.0|       1|   2|Real Bed|{TV,Internet,Wifi...|       null|  $890.00|        null|   $10,500.00|            null|        null|              1|       $0.00|             3|           365|                     3|                     3|                   365|                   365|                   3.0|                 365.0|   33 months ago|               t|              0|              0|              0|               0|           2019-09-28|                0|                    0|        null|       null|                null|                  null|                     null|                 null|                       null|                  null|               null|               f|   null|              null|               f|                       f|            moderate|                            f|                               f|                             1|                                          1|                                           0|                                          0|             null|\n",
      "|220851|https://www.airbn...|20190928160308|  2019-09-28|One room in appar...|            Welcome!|Welcome! One big ...|Welcome! Welcome!...|               none| Many restaurangs ...|No smoking No par...|          3 min walk|   Kitchen,bathroom.|Sometimes i am at...|no smoking in the...|         null|      null|https://a0.muscac...|          null| 412283|https://www.airbn...|  Fredric|2011-02-27|Stockholm, Stockh...|I am into arts yo...|within a few hours|               83%|                 N/A|                f|https://a0.muscac...|https://a0.muscac...|       Kungsholmen|                  1|                        1|['email', 'phone'...|                   t|                     f|Stockholm, Stockh...|  Kungsholmen|          Kungsholmens|                        null|Stockholm|Stockholm County|  11341|Stockholm|Stockholm, Sweden|          SE| Sweden|59.33376| 18.03816|                t|        Apartment|   Private room|           1|      1.0|       1|   1|Real Bed|{Wifi,Kitchen,Ele...|       null|  $597.00|   $4,000.00|   $15,000.00|            null|     $300.00|              1|       $0.00|             3|            20|                     3|                     3|                    20|                    20|                   3.0|                  20.0|     6 weeks ago|               t|             19|             49|             79|             354|           2019-09-28|               45|                   10|  2011-09-29| 2019-08-23|                  93|                     9|                        9|                   10|                         10|                    10|                  9|               f|   null|              null|               f|                       f|            flexible|                            f|                               f|                             1|                                          0|                                           1|                                          0|             0.46|\n",
      "|242188|https://www.airbn...|20190928160308|  2019-09-28|Single room in ce...|I am renting out ...|ROOM:  The room h...|I am renting out ...|               none|                 null|                null|                null|                null|                null|A modern five bed...|         null|      null|https://a0.muscac...|          null| 784312|https://www.airbn...|       Li|2011-07-06|Stockholm, Stockh...|I am a recently r...|    within an hour|              100%|                 N/A|                t|https://a0.muscac...|https://a0.muscac...|         Södermalm|                  2|                        2|['email', 'phone'...|                   t|                     t|Stockholm, Stockh...|    Södermalm|            Södermalms|                        null|Stockholm|Stockholm County|  11864|Stockholm|Stockholm, Sweden|          SE| Sweden|59.31347| 18.06106|                t|        Apartment|   Private room|           1|      1.0|       1|   1|Real Bed|{TV,Internet,Wifi...|       null|  $558.00|   $3,000.00|    $8,500.00|            null|        null|              1|       $0.00|             2|           300|                     2|                     2|                   300|                   300|                   2.0|                 300.0|     3 weeks ago|               t|             13|             35|             54|             139|           2019-09-28|              296|                   51|  2012-02-13| 2019-09-26|                  97|                    10|                       10|                   10|                         10|                    10|                 10|               f|   null|              null|               t|                       f|            flexible|                            t|                               t|                             2|                                          0|                                           2|                                          0|             3.19|\n",
      "|259025|https://www.airbn...|20190928160308|  2019-09-28|sufficient large ...|                null|If I describe how...|If I describe how...|               none|                 null|Kista mall, Stock...|Rinkeby Metro Sta...|When you are four...|                null|Do not allow anim...|         null|      null|https://a0.muscac...|          null|1361093|https://www.airbn...|      Ali|2011-11-02|Stockholm, Stockh...|Come and enjoy St...|    within an hour|              100%|                 N/A|                f|https://a0.muscac...|https://a0.muscac...|              null|                  3|                        3|['email', 'phone'...|                   t|                     t|Stockholm, Stockh...|Rinkeby-Kista|        Rinkeby-Tensta|                        null|Stockholm|Stockholm County|  16371|Stockholm|Stockholm, Sweden|          SE| Sweden|59.38682| 17.92276|                t|        Townhouse|   Private room|           1|      1.0|       1|   1|Real Bed|{TV,\"Cable TV\",In...|          0|  $196.00|        null|    $8,657.00|            null|     $200.00|              1|     $100.00|            60|          1000|                    60|                    60|                  1000|                  1000|                  60.0|                1000.0|   10 months ago|               t|             30|             60|             90|             365|           2019-09-28|               60|                    0|  2011-11-23| 2015-11-08|                  89|                     9|                       10|                    9|                          9|                     7|                  9|               f|   null|              null|               f|                       f|strict_14_with_gr...|                            t|                               t|                             2|                                          0|                                           2|                                          0|             0.63|\n",
      "|259722|https://www.airbn...|20190928160308|  2019-09-28|Near shopping-IT ...|It's a nice and c...|It's a nice and c...|It's a nice and c...|               none|                 null|It's good if you ...|                null|You have your own...|I'm not at home s...|I want a copy of ...|         null|      null|https://a0.muscac...|          null|1261494|https://www.airbn...|  Marcelo|2011-10-07|Stockholm, Stockh...|Hi! \r\n",
      "I am an IT-...|within a few hours|              100%|                 N/A|                f|https://a0.muscac...|https://a0.muscac...|              null|                  1|                        1|['email', 'phone'...|                   t|                     t|Stockholm, Stockh...|Rinkeby-Kista|        Rinkeby-Tensta|                        null|Stockholm|Stockholm County|  16474|Stockholm|Stockholm, Sweden|          SE| Sweden|59.41003|  17.9366|                t|        Apartment|   Private room|           2|      1.0|       1|   2|Real Bed|{TV,\"Cable TV\",In...|        560|  $225.00|   $2,567.00|    $7,700.00|       $1,069.00|     $535.00|              1|     $267.00|            21|           365|                    21|                    21|                   365|                   365|                  21.0|                 365.0|    5 months ago|               t|              0|             17|             47|             322|           2019-09-28|               23|                    2|  2012-03-01| 2019-05-13|                  92|                     9|                       10|                    9|                          9|                     9|                  8|               f|   null|              null|               f|                       f|strict_14_with_gr...|                            f|                               f|                             1|                                          0|                                           1|                                          0|             0.25|\n",
      "|273906|https://www.airbn...|20190928160308|  2019-09-28|Penthouse in cent...|                null|This is a unique ...|This is a unique ...|               none|                 null|                null|                null|                null|                null|One of the main r...|         null|      null|https://a0.muscac...|          null|1432722|https://www.airbn...|  Rodrigo|2011-11-22|Stockholm, Stockh...|I am from Chile a...|    within an hour|              100%|                 N/A|                f|https://a0.muscac...|https://a0.muscac...|         Södermalm|                  2|                        2|['email', 'phone'...|                   t|                     f|Stockholm, Stockh...|    Skarpnäck|            Södermalms|                        null|Stockholm|Stockholm County|  12068|Stockholm|Stockholm, Sweden|          SE| Sweden|59.30414|  18.1068|                t|        Apartment|Entire home/apt|           4|      2.0|       3|   3|Real Bed|{TV,\"Cable TV\",In...|       1399|$1,957.00|  $12,719.00|   $48,918.00|           $0.00|   $1,223.00|              1|       $0.00|             6|            30|                     6|                     6|                    30|                    30|                   6.0|                  30.0|    5 months ago|               t|              0|              0|              0|             270|           2019-09-28|                8|                    0|  2012-07-19| 2018-07-07|                 100|                    10|                       10|                   10|                         10|                    10|                 10|               f|   null|              null|               t|                       f|strict_14_with_gr...|                            f|                               f|                             1|                                          1|                                           0|                                          0|             0.09|\n",
      "|274876|https://www.airbn...|20190928160308|  2019-09-28|Designer apartmen...|                null|Hej and welcome! ...|Hej and welcome! ...|               none| A quiet neighbour...|Check-in time is ...|Bus: Just outside...|                null|You can always re...|                null|         null|      null|https://a0.muscac...|          null|1437153|https://www.airbn...|     Emma|2011-11-23|Stockholm, Stockh...|Hi, this is my pl...|within a few hours|              100%|                 N/A|                t|https://a0.muscac...|https://a0.muscac...|              null|                  1|                        1|['email', 'phone'...|                   t|                     f|Stockholm, Stockh...|    Södermalm|            Södermalms|                        null|Stockholm|Stockholm County|  11628|Stockholm|Stockholm, Sweden|          SE| Sweden|59.31849| 18.09536|                t|        Apartment|Entire home/apt|           5|      1.0|       3|   5|Real Bed|{TV,\"Cable TV\",In...|       null|$3,150.00|        null|         null|       $4,278.00|   $1,069.00|              5|     $428.00|             4|           100|                     4|                     4|                   100|                   100|                   4.0|                 100.0|     6 weeks ago|               t|             27|             57|             87|             362|           2019-09-28|              113|                   23|  2012-04-29| 2019-09-22|                  99|                    10|                       10|                   10|                         10|                    10|                  9|               f|   null|              null|               f|                       f|            moderate|                            t|                               t|                             1|                                          1|                                           0|                                          0|             1.25|\n",
      "|278311|https://www.airbn...|20190928160308|  2019-09-28|Entire apt (some ...|When we will be a...|This awesome plac...|When we will be a...|               none| I love the lake, ...|                null|I love the public...|The entire apt, t...|I won't be around...|If you'd like to ...|         null|      null|https://a0.muscac...|          null|1452838|https://www.airbn...|   Linnéa|2011-11-29|Stockholm, Stockh...|Playful, fun-lovi...|within a few hours|              100%|                 N/A|                f|https://a0.muscac...|https://a0.muscac...|            Farsta|                  1|                        1|['email', 'phone'...|                   t|                     f|Farsta, Stockholm...|       Farsta|                Farsta|                        null|   Farsta|  Stockholms län|  12331|Stockholm|   Farsta, Sweden|          SE| Sweden|59.24534| 18.08729|                t|        Apartment|Entire home/apt|           6|      1.0|       1|   3|Real Bed|{Internet,Wifi,Ki...|        936|  $411.00|   $3,300.00|   $12,900.00|       $1,000.00|     $200.00|              1|     $250.00|             1|            30|                     1|                     1|                    30|                    30|                   1.0|                  30.0|     4 weeks ago|               t|             13|             43|             73|             348|           2019-09-28|               52|                    4|  2011-12-16| 2019-09-06|                  92|                     9|                        9|                   10|                         10|                     9|                  9|               f|   null|              null|               f|                       f|            moderate|                            f|                               f|                             1|                                          1|                                           0|                                          0|             0.55|\n",
      "|283446|https://www.airbn...|20190928160308|  2019-09-28|Comfort Stay @ Ki...|Independent priva...|Independent priva...|Independent priva...|               none| Our apartment is ...|Metro is availabl...|Our apartment is ...|hi-speed internet...|we ask few questi...|•VEGETARIAN FOOD ...|         null|      null|https://a0.muscac...|          null|1476562|https://www.airbn...| Vidhatri|2011-12-06|Stockholm, Stockh...|Hi..I am Vidhatri...|               N/A|               N/A|                 N/A|                f|https://a0.muscac...|https://a0.muscac...|     Rinkeby-Kista|                  1|                        1|['email', 'phone'...|                   t|                     t|Stockholm, Stockh...|Rinkeby-Kista|        Rinkeby-Tensta|                        null|Stockholm|Stockholm County|  16472|Stockholm|Stockholm, Sweden|          SE| Sweden|59.41533| 17.91465|                t|        Apartment|   Private room|           2|      1.0|       1|   2|Real Bed|{TV,\"Cable TV\",In...|        958|  $294.00|   $3,023.00|    $9,850.00|            null|        null|              1|     $175.00|             2|          1125|                     2|                     2|                  1125|                  1125|                   2.0|                1125.0|    4 months ago|               t|              0|              0|              6|               6|           2019-09-28|              104|                    1|  2012-07-03| 2018-10-28|                  97|                    10|                       10|                   10|                         10|                     9|                 10|               f|   null|              null|               t|                       f|            moderate|                            f|                               f|                             1|                                          0|                                           1|                                          0|             1.18|\n",
      "|299154|https://www.airbn...|20190928160308|  2019-09-28|Cosy apartment ce...|Very centrally lo...|An small apartmen...|Very centrally lo...|               none| Södermalm, often ...|Keys Leave the ke...|The subway is jus...|Hole apartment wi...|I interact with g...|Keys Leave the ke...|         null|      null|https://a0.muscac...|          null|1541953|https://www.airbn...|   Daniel|2011-12-28|Stockholm, Stockh...|Nice and friendly...|    within an hour|              100%|                 N/A|                f|https://a0.muscac...|https://a0.muscac...|         Södermalm|                  1|                        1|['email', 'phone'...|                   t|                     t|Stockholm, Stockh...|    Södermalm|            Södermalms|                        null|Stockholm|Stockholm County|  11846|Stockholm|Stockholm, Sweden|          SE| Sweden|59.31767| 18.07137|                t|        Apartment|Entire home/apt|           4|      1.0|       1|   2|Real Bed|{TV,\"Cable TV\",In...|        312|$1,106.00|        null|         null|       $1,500.00|       $0.00|              2|     $135.00|             2|            60|                     1|                     3|                    60|                    60|                   2.0|                  60.0|      a week ago|               t|              5|             26|             43|             232|           2019-09-28|              480|                   63|  2013-06-16| 2019-09-27|                  92|                    10|                        9|                   10|                         10|                    10|                  9|               f|   null|              null|               t|                       f|strict_14_with_gr...|                            f|                               t|                             1|                                          1|                                           0|                                          0|             6.27|\n",
      "|301680|https://www.airbn...|20190928160308|  2019-09-28|one cosy double r...|there are several...|Your room is cosy...|there are several...|               none| Beautiful surroun...|There is recyklin...|Just around the c...|A modern kitchen ...|If you enjoy fitn...|I expect that whe...|         null|      null|https://a0.muscac...|          null|1554143|https://www.airbn...|   Anitta|2012-01-01|Stockholm, Stockh...|I am a teacher an...|    within an hour|               83%|                 N/A|                f|https://a0.muscac...|https://a0.muscac...|              null|                  2|                        2|['email', 'phone'...|                   t|                     f|Långbro, Stockhol...|       Älvsjö|                Älvsjö|                        null|  Långbro|Stockholm County|  12533|Stockholm|  Långbro, Sweden|          SE| Sweden|59.27778| 17.99226|                t|Bed and breakfast|   Private room|           2|      1.0|       1|   1|Real Bed|{TV,Internet,Wifi...|       null|  $753.00|   $2,500.00|    $9,000.00|            null|      $80.00|              1|     $200.00|             1|          1125|                     1|                     1|                  1125|                  1125|                   1.0|                1125.0|    2 months ago|               t|             30|             60|             90|             365|           2019-09-28|               34|                    0|  2012-07-09| 2018-07-16|                  92|                     9|                       10|                    9|                          9|                     9|                  9|               f|   null|              null|               f|                       f|            flexible|                            f|                               f|                             2|                                          1|                                           1|                                          0|             0.39|\n",
      "|302496|https://www.airbn...|20190928160308|  2019-09-28|Spacious, bright,...|This unique apart...|The apartment is ...|This unique apart...|               none| The neighborhood ...|                null|Busstation with t...|You will have acc...|Ii you have probl...|No smoking. No pe...|         null|      null|https://a0.muscac...|          null|1557657|https://www.airbn...|     Seta|2012-01-02|Stockholm, Stockh...|I am described as...|      within a day|              100%|                 N/A|                t|https://a0.muscac...|https://a0.muscac...|          Norrmalm|                  2|                        2|['email', 'phone'...|                   t|                     t|Norrmalm, Stockho...|     Norrmalm|             Norrmalms|                        null| Norrmalm|Stockholm County|  11351|Stockholm| Norrmalm, Sweden|          SE| Sweden|59.34518| 18.06044|                t|        Apartment|Entire home/apt|           6|      1.5|       3|   6|Real Bed|{TV,Internet,Wifi...|       null|$2,798.00|        null|   $56,000.00|           $0.00|   $1,000.00|              4|     $500.00|             5|            60|                     5|                     5|                    60|                    60|                   5.0|                  60.0|     5 weeks ago|               t|              1|              2|              5|             267|           2019-09-28|               65|                   18|  2012-06-18| 2019-09-18|                  99|                    10|                       10|                   10|                         10|                    10|                 10|               f|   null|              null|               f|                       f|            moderate|                            f|                               f|                             1|                                          1|                                           0|                                          0|             0.73|\n",
      "|313195|https://www.airbn...|20190928160308|  2019-09-28|Design, style & v...|Just some minutes...|This perfectly co...|Just some minutes...|               none| Very near is all ...|                null|7 min walk to the...|Rent it up to 3 p...|                null|We love to welcom...|         null|      null|https://a0.muscac...|          null| 956221|https://www.airbn...|    David|2011-08-11|Stockholm, Stockh...|I'm an architect ...|               N/A|               N/A|                 N/A|                f|https://a0.muscac...|https://a0.muscac...|              null|                  2|                        2|['email', 'phone'...|                   t|                     t|Stockholm, Stockh...|     Norrmalm|             Norrmalms|                        null|Stockholm|Stockholm County|  11347|Stockholm|Stockholm, Sweden|          SE| Sweden|59.34763| 18.05015|                t|        Apartment|Entire home/apt|           3|      1.0|       1|   1|Real Bed|{Internet,Wifi,Ki...|          0|  $900.00|        null|         null|       $1,069.00|     $321.00|              2|     $203.00|             3|            30|                     3|                     3|                    30|                    30|                   3.0|                  30.0|   10 months ago|               t|              0|              0|              0|              46|           2019-09-28|               45|                    0|  2012-08-03| 2017-08-13|                  96|                    10|                        9|                   10|                          9|                     9|                  9|               f|   null|              null|               f|                       f|            moderate|                            f|                               f|                             1|                                          1|                                           0|                                          0|             0.52|\n",
      "|313763|https://www.airbn...|20190928160308|  2019-09-28|Excellent locatio...|Trendy Vasastan i...|Just by the Odenp...|Trendy Vasastan i...|               none| Vasastan (Vasasta...|    No kids allowed.|Walking distance ...|Smoking only allo...|                null|No loud music or ...|         null|      null|https://a0.muscac...|          null|1533849|https://www.airbn...|Martin P.|2011-12-25|Sarasota, Florida...|I host mostly so ...|    within an hour|              100%|                 N/A|                f|https://a0.muscac...|https://a0.muscac...|          Norrmalm|                  4|                        4|['email', 'phone'...|                   t|                     t|Stockholm, Stockh...|     Norrmalm|             Norrmalms|                        null|Stockholm|  Stockholms län| 113 28|Stockholm|Stockholm, Sweden|          SE| Sweden|59.34398| 18.04959|                f|             Loft|   Private room|           1|      1.0|       1|   1|Real Bed|{TV,\"Cable TV\",In...|       null|  $646.00|     $840.00|    $2,780.00|         $900.00|     $290.00|              2|       $0.00|             2|            45|                     2|                     2|                    45|                    45|                   2.0|                  45.0|      a week ago|               t|              4|              4|              4|               4|           2019-09-28|               50|                    6|  2012-06-04| 2019-09-03|                  98|                    10|                       10|                   10|                         10|                    10|                  9|               f|   null|              null|               f|                       f|strict_14_with_gr...|                            t|                               f|                             1|                                          0|                                           1|                                          0|             0.56|\n",
      "+------+--------------------+--------------+------------+--------------------+--------------------+--------------------+--------------------+-------------------+---------------------+--------------------+--------------------+--------------------+--------------------+--------------------+-------------+----------+--------------------+--------------+-------+--------------------+---------+----------+--------------------+--------------------+------------------+------------------+--------------------+-----------------+--------------------+--------------------+------------------+-------------------+-------------------------+--------------------+--------------------+----------------------+--------------------+-------------+----------------------+----------------------------+---------+----------------+-------+---------+-----------------+------------+-------+--------+---------+-----------------+-----------------+---------------+------------+---------+--------+----+--------+--------------------+-----------+---------+------------+-------------+----------------+------------+---------------+------------+--------------+--------------+----------------------+----------------------+----------------------+----------------------+----------------------+----------------------+----------------+----------------+---------------+---------------+---------------+----------------+---------------------+-----------------+---------------------+------------+-----------+--------------------+----------------------+-------------------------+---------------------+---------------------------+----------------------+-------------------+----------------+-------+------------------+----------------+------------------------+--------------------+-----------------------------+--------------------------------+------------------------------+-------------------------------------------+--------------------------------------------+-------------------------------------------+-----------------+\n",
      "only showing top 20 rows\n",
      "\n"
     ]
    }
   ],
   "source": [
    "# listings data\n",
    "listings.show()"
   ]
  },
  {
   "cell_type": "markdown",
   "metadata": {
    "id": "etSt-Ryvlrlw"
   },
   "source": [
    "For the `listings` dataset, it is immediately seen that it consists of some null-values for e.g. the `summary`, `neighborhood_overview`, `notes`, `transit` and `house_rules` columns. This is expected as these are fields, where the host can put in information about the listing, and some listings can lack some of these fields. Also, it is seen that the fields consists of values that can be interpreted as different data types, e.g. strings for the names, floating point numbers for the prices and boolean values when it comes to whether the host is a superhost."
   ]
  },
  {
   "cell_type": "code",
   "execution_count": null,
   "metadata": {
    "colab": {
     "base_uri": "https://localhost:8080/"
    },
    "id": "W04GkE2I0Z8Q",
    "outputId": "0312ccf5-09da-4ff3-f408-1bcd9679e0ce"
   },
   "outputs": [
    {
     "name": "stdout",
     "output_type": "stream",
     "text": [
      "+----------+---------+----------+-----------+-------------+--------------------+\n",
      "|listing_id|       id|      date|reviewer_id|reviewer_name|            comments|\n",
      "+----------+---------+----------+-----------+-------------+--------------------+\n",
      "|    145320|156423122|2017-05-30|  123386382|        Erwin|Prima plek om Sto...|\n",
      "|    145320|170211906|2017-07-15|  123091743|         Anne|Cosy and clean fl...|\n",
      "|    145320|172169175|2017-07-20|      78004|     Patricia|The host canceled...|\n",
      "|    145320|176647581|2017-07-31|  103178743|    Charlotte|Kim's place was o...|\n",
      "|    145320|185676021|2017-08-22|    4023961|    Alexander|great spacious ap...|\n",
      "|    145320|189668224|2017-09-02|  142869362|        Heiko|Kim is a very fri...|\n",
      "|    145320|191894030|2017-09-09|   25194419|        Jason|The apartment is ...|\n",
      "|    145320|193316070|2017-09-13|   52056015|        David|Nicely appointed,...|\n",
      "|    145320|196760607|2017-09-24|    3980456|        Janne|It was a pleasure...|\n",
      "|    145320|201885633|2017-10-09|   72139946|     Florence|Kim's place is si...|\n",
      "|    145320|203410181|2017-10-15|   23002655|      Charlie|We absolutely lov...|\n",
      "|    145320|210619953|2017-11-10|    3451329|      Natalia|Amazing place to ...|\n",
      "|    145320|211523951|2017-11-13|  105945750|       Ainhoa|Very pleasant sta...|\n",
      "|    145320|212932349|2017-11-19|     203826|           Fe|We had a wonderfu...|\n",
      "|    145320|214018139|2017-11-24|   70756436|       Marcel|Great location! C...|\n",
      "|    145320|216533345|2017-12-04|   10655526|      Shannon|Lovely flat in a ...|\n",
      "|    145320|219021131|2017-12-16|   29246547|          Dan|Kim’s flat is in ...|\n",
      "|    145320|231273225|2018-01-31|  160717975|          Sam|I would definitel...|\n",
      "|    145320|233159940|2018-02-08|   33212603|       Katina|Kim's place is pe...|\n",
      "|    145320|234271335|2018-02-12|  160422715|      Kensuke|The flat is so co...|\n",
      "+----------+---------+----------+-----------+-------------+--------------------+\n",
      "only showing top 20 rows\n",
      "\n"
     ]
    }
   ],
   "source": [
    "# reviews data\n",
    "reviews.show()"
   ]
  },
  {
   "cell_type": "markdown",
   "metadata": {
    "id": "hoz1Sjd-ncBY"
   },
   "source": [
    "From the first 20 entries, it can be seen that the features, `listing_id`, `id`, `date` and `reviewer_id` are generated by the site. Since the dataset lists each of the reviews, it is expected that we do not see any null-values from the first 20 entires, as anyone leaving a review must have put a name and a comment. This does not mean that the dataset does not consist of any null-values, though."
   ]
  },
  {
   "cell_type": "markdown",
   "metadata": {
    "id": "JHJAEVBio9sT"
   },
   "source": [
    "### Prepare the data for analysis\n",
    "**You should prepare two dataframes to be used in the analysis part of the project. You should not be concerned with cleaning the data. There's a lot of it, so it will be sufficient to drop rows that have bad values. You may want to go back and refine this step at a later point when doing the analysis.**"
   ]
  },
  {
   "cell_type": "markdown",
   "metadata": {
    "id": "TPRg4hM5odkP"
   },
   "source": [
    "In the following, we prepare the data for analysis. This is specifically aimed towards the tasks that we will be completing in the analysis to come. We remove the cities with `null` values and clean up the `prices` column such that all values are floating point numbers. Furthermore, we prepare the `reviews_scores_rating` column such that it consists of floating point numbers as well."
   ]
  },
  {
   "cell_type": "code",
   "execution_count": null,
   "metadata": {
    "id": "zIyGgzmDo9sU"
   },
   "outputs": [],
   "source": [
    "# Remove city with 'null'\n",
    "listings = listings.filter(f.col('city').isNotNull())\n",
    "\n",
    "# Remove neighbourhoods with 'null'\n",
    "listings = listings.filter(f.col('neighbourhood').isNotNull())\n",
    "\n",
    "# Prepare prices column\n",
    "listings = listings.filter(listings.price.isNotNull())\n",
    "listings = listings.withColumn('price', f.regexp_replace('price', '\\$', ''))\n",
    "listings = listings.withColumn('price', f.regexp_replace('price', '\\,', ''))\n",
    "listings = listings.withColumn(\"price\", listings[\"price\"].cast(FloatType()).alias(\"price\"))\n",
    "\n",
    "# Prepare ratings column\n",
    "listings = listings.filter(listings.review_scores_rating.isNotNull())\n",
    "listings = listings.withColumn(\"review_scores_rating\", listings[\"review_scores_rating\"].cast(FloatType()).alias(\"review_scores_rating\"))"
   ]
  },
  {
   "cell_type": "markdown",
   "metadata": {
    "id": "dgLkljMQo9sW"
   },
   "source": [
    "## Part 2: Analysing the data (50 pts)\n",
    "Use Spark and your favorite tool for data visualization to solve the following tasks. Imagine that you are talking to your colleagues or your new boss. Think about how you present the data. Include headers, legends and well-written descriptions for graphs/charts. Think of the solutions you provide as an \"executive summary\" of your findings. You should put an effort in presentation and writing, not just coding."
   ]
  },
  {
   "cell_type": "markdown",
   "metadata": {
    "id": "Tll0H4rzKm6x"
   },
   "source": [
    "\n",
    "### 2.1: The basics (10 pts)\n",
    "**Compute and visualise a dataframe with the number of listings and neighbourhoods per city.**"
   ]
  },
  {
   "cell_type": "markdown",
   "metadata": {
    "id": "X4j2VsRwpg3Y"
   },
   "source": [
    "We start by selecting the relevant features from the `listings` dataframe. These include `id`, `city` and `neighbourhood`. We group by `city` and count the number of distinct neighbourhoods and listings (through their id's) within the city. For the visualization, we realize that the dataset consists of many cities, thus we choose to visualize only the top 25 cities with most listings."
   ]
  },
  {
   "cell_type": "code",
   "execution_count": null,
   "metadata": {
    "colab": {
     "base_uri": "https://localhost:8080/"
    },
    "id": "e0Bk7rpgDISe",
    "outputId": "c412960b-a57f-41c4-8a14-f12f0d20ffad"
   },
   "outputs": [
    {
     "name": "stdout",
     "output_type": "stream",
     "text": [
      "+----------------+--------------------+--------------+\n",
      "|            city|count(neighbourhood)|listing_counts|\n",
      "+----------------+--------------------+--------------+\n",
      "|           Paris|                  63|         48136|\n",
      "|  Greater London|                 149|         33228|\n",
      "|          London|                 148|         25356|\n",
      "|     Los Angeles|                  95|         22285|\n",
      "|          Berlin|                  93|         19711|\n",
      "|            Roma|                  42|         18568|\n",
      "|         Toronto|                 140|         17868|\n",
      "|       København|                  21|         17421|\n",
      "|       Amsterdam|                  44|         16918|\n",
      "|        New York|                  90|         16096|\n",
      "|          Madrid|                  66|         15767|\n",
      "|       Barcelona|                  68|         15503|\n",
      "|        Brooklyn|                  51|         15144|\n",
      "|         Beijing|                  61|         14113|\n",
      "|        Montréal|                  43|         13495|\n",
      "|          Milano|                  24|         13457|\n",
      "|          Lisboa|                  48|         13220|\n",
      "|Ciudad de México|                  54|         10753|\n",
      "|       San Diego|                 107|         10323|\n",
      "|       Edinburgh|                  13|          9824|\n",
      "|  Rio de Janeiro|                  75|          9409|\n",
      "|            Wien|                  23|          9213|\n",
      "|         Firenze|                  14|          8763|\n",
      "|          Austin|                  79|          8041|\n",
      "|            Lyon|                   9|          8003|\n",
      "+----------------+--------------------+--------------+\n",
      "only showing top 25 rows\n",
      "\n"
     ]
    }
   ],
   "source": [
    "# Select relevant features used for this exercise\n",
    "listings_prep = listings.select(f.col('id').alias('listing_id'), 'city', 'neighbourhood').drop_duplicates()\n",
    "\n",
    "# Group by 'city' and count the number of distinct neighbourhoods and listings\n",
    "# within the city\n",
    "# Filter for cities with null values and sort by number of listings in\n",
    "# descending order\n",
    "city_neighbourhood_listing = listings_prep.groupBy('city').agg(\n",
    "                              f.countDistinct('neighbourhood'),\n",
    "                              f.countDistinct('listing_id').alias('listing_counts'),\n",
    "                              ).filter(f.col('city').isNotNull()).sort(\"listing_counts\", ascending=False)\n",
    "city_neighbourhood_listing.show(25)"
   ]
  },
  {
   "cell_type": "markdown",
   "metadata": {
    "id": "8CS3EprU-tQy"
   },
   "source": [
    "We make a visualization of the table in the following code:"
   ]
  },
  {
   "cell_type": "code",
   "execution_count": null,
   "metadata": {
    "colab": {
     "base_uri": "https://localhost:8080/",
     "height": 617
    },
    "id": "96rCNoDe7XDP",
    "outputId": "430dffcf-c100-43ad-ef43-508c79aee5bb"
   },
   "outputs": [
    {
     "data": {
      "text/html": [
       "<html>\n",
       "<head><meta charset=\"utf-8\" /></head>\n",
       "<body>\n",
       "    <div>\n",
       "            <script src=\"https://cdnjs.cloudflare.com/ajax/libs/mathjax/2.7.5/MathJax.js?config=TeX-AMS-MML_SVG\"></script><script type=\"text/javascript\">if (window.MathJax) {MathJax.Hub.Config({SVG: {font: \"STIX-Web\"}});}</script>\n",
       "                <script type=\"text/javascript\">window.PlotlyConfig = {MathJaxConfig: 'local'};</script>\n",
       "        <script src=\"https://cdn.plot.ly/plotly-latest.min.js\"></script>    \n",
       "            <div id=\"bc47f297-599e-4595-8cc2-4fdc7a81ee6b\" class=\"plotly-graph-div\" style=\"height:600px; width:900px;\"></div>\n",
       "            <script type=\"text/javascript\">\n",
       "                \n",
       "                    window.PLOTLYENV=window.PLOTLYENV || {};\n",
       "                    \n",
       "                if (document.getElementById(\"bc47f297-599e-4595-8cc2-4fdc7a81ee6b\")) {\n",
       "                    Plotly.newPlot(\n",
       "                        'bc47f297-599e-4595-8cc2-4fdc7a81ee6b',\n",
       "                        [{\"name\": \"\", \"orientation\": \"h\", \"type\": \"bar\", \"x\": [63, 149, 148, 95, 93, 42, 140, 21, 44, 90, 66, 68, 51, 61, 43, 24, 48, 54, 107, 13, 75, 23, 14, 79, 9], \"xaxis\": \"x\", \"y\": [\"Paris\", \"Greater London\", \"London\", \"Los Angeles\", \"Berlin\", \"Roma\", \"Toronto\", \"K\\u00f8benhavn\", \"Amsterdam\", \"New York\", \"Madrid\", \"Barcelona\", \"Brooklyn\", \"Beijing\", \"Montr\\u00e9al\", \"Milano\", \"Lisboa\", \"Ciudad de M\\u00e9xico\", \"San Diego\", \"Edinburgh\", \"Rio de Janeiro\", \"Wien\", \"Firenze\", \"Austin\", \"Lyon\"], \"yaxis\": \"y\"}, {\"name\": \"\", \"orientation\": \"h\", \"type\": \"bar\", \"x\": [48136, 33228, 25356, 22285, 19711, 18568, 17868, 17421, 16918, 16096, 15767, 15503, 15144, 14113, 13495, 13457, 13220, 10753, 10323, 9824, 9409, 9213, 8763, 8041, 8003], \"xaxis\": \"x2\", \"y\": [\"Paris\", \"Greater London\", \"London\", \"Los Angeles\", \"Berlin\", \"Roma\", \"Toronto\", \"K\\u00f8benhavn\", \"Amsterdam\", \"New York\", \"Madrid\", \"Barcelona\", \"Brooklyn\", \"Beijing\", \"Montr\\u00e9al\", \"Milano\", \"Lisboa\", \"Ciudad de M\\u00e9xico\", \"San Diego\", \"Edinburgh\", \"Rio de Janeiro\", \"Wien\", \"Firenze\", \"Austin\", \"Lyon\"], \"yaxis\": \"y2\"}],\n",
       "                        {\"annotations\": [{\"font\": {\"size\": 16}, \"showarrow\": false, \"text\": \"Neighbourhoods\", \"x\": 0.225, \"xanchor\": \"center\", \"xref\": \"paper\", \"y\": 1.0, \"yanchor\": \"bottom\", \"yref\": \"paper\"}, {\"font\": {\"size\": 16}, \"showarrow\": false, \"text\": \"Listings\", \"x\": 0.775, \"xanchor\": \"center\", \"xref\": \"paper\", \"y\": 1.0, \"yanchor\": \"bottom\", \"yref\": \"paper\"}], \"height\": 600, \"showlegend\": false, \"template\": {\"data\": {\"bar\": [{\"error_x\": {\"color\": \"#2a3f5f\"}, \"error_y\": {\"color\": \"#2a3f5f\"}, \"marker\": {\"line\": {\"color\": \"white\", \"width\": 0.5}}, \"type\": \"bar\"}], \"barpolar\": [{\"marker\": {\"line\": {\"color\": \"white\", \"width\": 0.5}}, \"type\": \"barpolar\"}], \"carpet\": [{\"aaxis\": {\"endlinecolor\": \"#2a3f5f\", \"gridcolor\": \"#C8D4E3\", \"linecolor\": \"#C8D4E3\", \"minorgridcolor\": \"#C8D4E3\", \"startlinecolor\": \"#2a3f5f\"}, \"baxis\": {\"endlinecolor\": \"#2a3f5f\", \"gridcolor\": \"#C8D4E3\", \"linecolor\": \"#C8D4E3\", \"minorgridcolor\": \"#C8D4E3\", \"startlinecolor\": \"#2a3f5f\"}, \"type\": \"carpet\"}], \"choropleth\": [{\"colorbar\": {\"outlinewidth\": 0, \"ticks\": \"\"}, \"type\": \"choropleth\"}], \"contour\": [{\"colorbar\": {\"outlinewidth\": 0, \"ticks\": \"\"}, \"colorscale\": [[0.0, \"#0d0887\"], [0.1111111111111111, \"#46039f\"], [0.2222222222222222, \"#7201a8\"], [0.3333333333333333, \"#9c179e\"], [0.4444444444444444, \"#bd3786\"], [0.5555555555555556, \"#d8576b\"], [0.6666666666666666, \"#ed7953\"], [0.7777777777777778, \"#fb9f3a\"], [0.8888888888888888, \"#fdca26\"], [1.0, \"#f0f921\"]], \"type\": \"contour\"}], \"contourcarpet\": [{\"colorbar\": {\"outlinewidth\": 0, \"ticks\": \"\"}, \"type\": \"contourcarpet\"}], \"heatmap\": [{\"colorbar\": {\"outlinewidth\": 0, \"ticks\": \"\"}, \"colorscale\": [[0.0, \"#0d0887\"], [0.1111111111111111, \"#46039f\"], [0.2222222222222222, \"#7201a8\"], [0.3333333333333333, \"#9c179e\"], [0.4444444444444444, \"#bd3786\"], [0.5555555555555556, \"#d8576b\"], [0.6666666666666666, \"#ed7953\"], [0.7777777777777778, \"#fb9f3a\"], [0.8888888888888888, \"#fdca26\"], [1.0, \"#f0f921\"]], \"type\": \"heatmap\"}], \"heatmapgl\": [{\"colorbar\": {\"outlinewidth\": 0, \"ticks\": \"\"}, \"colorscale\": [[0.0, \"#0d0887\"], [0.1111111111111111, \"#46039f\"], [0.2222222222222222, \"#7201a8\"], [0.3333333333333333, \"#9c179e\"], [0.4444444444444444, \"#bd3786\"], [0.5555555555555556, \"#d8576b\"], [0.6666666666666666, \"#ed7953\"], [0.7777777777777778, \"#fb9f3a\"], [0.8888888888888888, \"#fdca26\"], [1.0, \"#f0f921\"]], \"type\": \"heatmapgl\"}], \"histogram\": [{\"marker\": {\"colorbar\": {\"outlinewidth\": 0, \"ticks\": \"\"}}, \"type\": \"histogram\"}], \"histogram2d\": [{\"colorbar\": {\"outlinewidth\": 0, \"ticks\": \"\"}, \"colorscale\": [[0.0, \"#0d0887\"], [0.1111111111111111, \"#46039f\"], [0.2222222222222222, \"#7201a8\"], [0.3333333333333333, \"#9c179e\"], [0.4444444444444444, \"#bd3786\"], [0.5555555555555556, \"#d8576b\"], [0.6666666666666666, \"#ed7953\"], [0.7777777777777778, \"#fb9f3a\"], [0.8888888888888888, \"#fdca26\"], [1.0, \"#f0f921\"]], \"type\": \"histogram2d\"}], \"histogram2dcontour\": [{\"colorbar\": {\"outlinewidth\": 0, \"ticks\": \"\"}, \"colorscale\": [[0.0, \"#0d0887\"], [0.1111111111111111, \"#46039f\"], [0.2222222222222222, \"#7201a8\"], [0.3333333333333333, \"#9c179e\"], [0.4444444444444444, \"#bd3786\"], [0.5555555555555556, \"#d8576b\"], [0.6666666666666666, \"#ed7953\"], [0.7777777777777778, \"#fb9f3a\"], [0.8888888888888888, \"#fdca26\"], [1.0, \"#f0f921\"]], \"type\": \"histogram2dcontour\"}], \"mesh3d\": [{\"colorbar\": {\"outlinewidth\": 0, \"ticks\": \"\"}, \"type\": \"mesh3d\"}], \"parcoords\": [{\"line\": {\"colorbar\": {\"outlinewidth\": 0, \"ticks\": \"\"}}, \"type\": \"parcoords\"}], \"pie\": [{\"automargin\": true, \"type\": \"pie\"}], \"scatter\": [{\"marker\": {\"colorbar\": {\"outlinewidth\": 0, \"ticks\": \"\"}}, \"type\": \"scatter\"}], \"scatter3d\": [{\"line\": {\"colorbar\": {\"outlinewidth\": 0, \"ticks\": \"\"}}, \"marker\": {\"colorbar\": {\"outlinewidth\": 0, \"ticks\": \"\"}}, \"type\": \"scatter3d\"}], \"scattercarpet\": [{\"marker\": {\"colorbar\": {\"outlinewidth\": 0, \"ticks\": \"\"}}, \"type\": \"scattercarpet\"}], \"scattergeo\": [{\"marker\": {\"colorbar\": {\"outlinewidth\": 0, \"ticks\": \"\"}}, \"type\": \"scattergeo\"}], \"scattergl\": [{\"marker\": {\"colorbar\": {\"outlinewidth\": 0, \"ticks\": \"\"}}, \"type\": \"scattergl\"}], \"scattermapbox\": [{\"marker\": {\"colorbar\": {\"outlinewidth\": 0, \"ticks\": \"\"}}, \"type\": \"scattermapbox\"}], \"scatterpolar\": [{\"marker\": {\"colorbar\": {\"outlinewidth\": 0, \"ticks\": \"\"}}, \"type\": \"scatterpolar\"}], \"scatterpolargl\": [{\"marker\": {\"colorbar\": {\"outlinewidth\": 0, \"ticks\": \"\"}}, \"type\": \"scatterpolargl\"}], \"scatterternary\": [{\"marker\": {\"colorbar\": {\"outlinewidth\": 0, \"ticks\": \"\"}}, \"type\": \"scatterternary\"}], \"surface\": [{\"colorbar\": {\"outlinewidth\": 0, \"ticks\": \"\"}, \"colorscale\": [[0.0, \"#0d0887\"], [0.1111111111111111, \"#46039f\"], [0.2222222222222222, \"#7201a8\"], [0.3333333333333333, \"#9c179e\"], [0.4444444444444444, \"#bd3786\"], [0.5555555555555556, \"#d8576b\"], [0.6666666666666666, \"#ed7953\"], [0.7777777777777778, \"#fb9f3a\"], [0.8888888888888888, \"#fdca26\"], [1.0, \"#f0f921\"]], \"type\": \"surface\"}], \"table\": [{\"cells\": {\"fill\": {\"color\": \"#EBF0F8\"}, \"line\": {\"color\": \"white\"}}, \"header\": {\"fill\": {\"color\": \"#C8D4E3\"}, \"line\": {\"color\": \"white\"}}, \"type\": \"table\"}]}, \"layout\": {\"annotationdefaults\": {\"arrowcolor\": \"#2a3f5f\", \"arrowhead\": 0, \"arrowwidth\": 1}, \"coloraxis\": {\"colorbar\": {\"outlinewidth\": 0, \"ticks\": \"\"}}, \"colorscale\": {\"diverging\": [[0, \"#8e0152\"], [0.1, \"#c51b7d\"], [0.2, \"#de77ae\"], [0.3, \"#f1b6da\"], [0.4, \"#fde0ef\"], [0.5, \"#f7f7f7\"], [0.6, \"#e6f5d0\"], [0.7, \"#b8e186\"], [0.8, \"#7fbc41\"], [0.9, \"#4d9221\"], [1, \"#276419\"]], \"sequential\": [[0.0, \"#0d0887\"], [0.1111111111111111, \"#46039f\"], [0.2222222222222222, \"#7201a8\"], [0.3333333333333333, \"#9c179e\"], [0.4444444444444444, \"#bd3786\"], [0.5555555555555556, \"#d8576b\"], [0.6666666666666666, \"#ed7953\"], [0.7777777777777778, \"#fb9f3a\"], [0.8888888888888888, \"#fdca26\"], [1.0, \"#f0f921\"]], \"sequentialminus\": [[0.0, \"#0d0887\"], [0.1111111111111111, \"#46039f\"], [0.2222222222222222, \"#7201a8\"], [0.3333333333333333, \"#9c179e\"], [0.4444444444444444, \"#bd3786\"], [0.5555555555555556, \"#d8576b\"], [0.6666666666666666, \"#ed7953\"], [0.7777777777777778, \"#fb9f3a\"], [0.8888888888888888, \"#fdca26\"], [1.0, \"#f0f921\"]]}, \"colorway\": [\"#636efa\", \"#EF553B\", \"#00cc96\", \"#ab63fa\", \"#FFA15A\", \"#19d3f3\", \"#FF6692\", \"#B6E880\", \"#FF97FF\", \"#FECB52\"], \"font\": {\"color\": \"#2a3f5f\"}, \"geo\": {\"bgcolor\": \"white\", \"lakecolor\": \"white\", \"landcolor\": \"white\", \"showlakes\": true, \"showland\": true, \"subunitcolor\": \"#C8D4E3\"}, \"hoverlabel\": {\"align\": \"left\"}, \"hovermode\": \"closest\", \"mapbox\": {\"style\": \"light\"}, \"paper_bgcolor\": \"white\", \"plot_bgcolor\": \"white\", \"polar\": {\"angularaxis\": {\"gridcolor\": \"#EBF0F8\", \"linecolor\": \"#EBF0F8\", \"ticks\": \"\"}, \"bgcolor\": \"white\", \"radialaxis\": {\"gridcolor\": \"#EBF0F8\", \"linecolor\": \"#EBF0F8\", \"ticks\": \"\"}}, \"scene\": {\"xaxis\": {\"backgroundcolor\": \"white\", \"gridcolor\": \"#DFE8F3\", \"gridwidth\": 2, \"linecolor\": \"#EBF0F8\", \"showbackground\": true, \"ticks\": \"\", \"zerolinecolor\": \"#EBF0F8\"}, \"yaxis\": {\"backgroundcolor\": \"white\", \"gridcolor\": \"#DFE8F3\", \"gridwidth\": 2, \"linecolor\": \"#EBF0F8\", \"showbackground\": true, \"ticks\": \"\", \"zerolinecolor\": \"#EBF0F8\"}, \"zaxis\": {\"backgroundcolor\": \"white\", \"gridcolor\": \"#DFE8F3\", \"gridwidth\": 2, \"linecolor\": \"#EBF0F8\", \"showbackground\": true, \"ticks\": \"\", \"zerolinecolor\": \"#EBF0F8\"}}, \"shapedefaults\": {\"line\": {\"color\": \"#2a3f5f\"}}, \"ternary\": {\"aaxis\": {\"gridcolor\": \"#DFE8F3\", \"linecolor\": \"#A2B1C6\", \"ticks\": \"\"}, \"baxis\": {\"gridcolor\": \"#DFE8F3\", \"linecolor\": \"#A2B1C6\", \"ticks\": \"\"}, \"bgcolor\": \"white\", \"caxis\": {\"gridcolor\": \"#DFE8F3\", \"linecolor\": \"#A2B1C6\", \"ticks\": \"\"}}, \"title\": {\"x\": 0.05}, \"xaxis\": {\"automargin\": true, \"gridcolor\": \"#EBF0F8\", \"linecolor\": \"#EBF0F8\", \"ticks\": \"\", \"title\": {\"standoff\": 15}, \"zerolinecolor\": \"#EBF0F8\", \"zerolinewidth\": 2}, \"yaxis\": {\"automargin\": true, \"gridcolor\": \"#EBF0F8\", \"linecolor\": \"#EBF0F8\", \"ticks\": \"\", \"title\": {\"standoff\": 15}, \"zerolinecolor\": \"#EBF0F8\", \"zerolinewidth\": 2}}}, \"width\": 900, \"xaxis\": {\"anchor\": \"y\", \"domain\": [0.0, 0.45]}, \"xaxis2\": {\"anchor\": \"y2\", \"domain\": [0.55, 1.0]}, \"yaxis\": {\"anchor\": \"x\", \"domain\": [0.0, 1.0]}, \"yaxis2\": {\"anchor\": \"x2\", \"domain\": [0.0, 1.0], \"matches\": \"y\", \"showticklabels\": false}},\n",
       "                        {\"responsive\": true}\n",
       "                    ).then(function(){\n",
       "                            \n",
       "var gd = document.getElementById('bc47f297-599e-4595-8cc2-4fdc7a81ee6b');\n",
       "var x = new MutationObserver(function (mutations, observer) {{\n",
       "        var display = window.getComputedStyle(gd).display;\n",
       "        if (!display || display === 'none') {{\n",
       "            console.log([gd, 'removed!']);\n",
       "            Plotly.purge(gd);\n",
       "            observer.disconnect();\n",
       "        }}\n",
       "}});\n",
       "\n",
       "// Listen for the removal of the full notebook cells\n",
       "var notebookContainer = gd.closest('#notebook-container');\n",
       "if (notebookContainer) {{\n",
       "    x.observe(notebookContainer, {childList: true});\n",
       "}}\n",
       "\n",
       "// Listen for the clearing of the current output cell\n",
       "var outputEl = gd.closest('.output');\n",
       "if (outputEl) {{\n",
       "    x.observe(outputEl, {childList: true});\n",
       "}}\n",
       "\n",
       "                        })\n",
       "                };\n",
       "                \n",
       "            </script>\n",
       "        </div>\n",
       "</body>\n",
       "</html>"
      ]
     },
     "metadata": {
      "tags": []
     },
     "output_type": "display_data"
    }
   ],
   "source": [
    "# Choose top 25 cities with most listings and convert to Pandas dataframe\n",
    "city_neighbourhood_listing_lim25 = city_neighbourhood_listing.limit(25)\n",
    "city_neighbourhood_listing_lim25_df = city_neighbourhood_listing_lim25.toPandas()\n",
    "\n",
    "# Make two subplots using plotly\n",
    "fig = make_subplots(1,2, \n",
    "                    subplot_titles=('Neighbourhoods', 'Listings'), \n",
    "                    shared_yaxes = True)\n",
    "\n",
    "# Add bar plot with neighbourhood counts, horizontal orientation\n",
    "fig.add_trace(\n",
    "    go.Bar(x=city_neighbourhood_listing_lim25_df['count(neighbourhood)'], \n",
    "           y=city_neighbourhood_listing_lim25_df.city, \n",
    "           orientation='h', \n",
    "           name=''), \n",
    "    1, 1\n",
    "    )\n",
    "\n",
    "# Add bar plot with listings counts, horizontal orientation\n",
    "fig.add_trace(\n",
    "    go.Bar(\n",
    "        x=city_neighbourhood_listing_lim25_df['listing_counts'],\n",
    "        y=city_neighbourhood_listing_lim25_df.city, \n",
    "        orientation='h', \n",
    "        name=''),\n",
    "    1,2\n",
    "    )\n",
    "\n",
    "# Update layout with template and dimensions\n",
    "fig.update_layout(\n",
    "    height=600, \n",
    "    width=900, \n",
    "    template='plotly_white', \n",
    "    showlegend=False\n",
    "    )\n",
    "\n",
    "fig.show()"
   ]
  },
  {
   "cell_type": "markdown",
   "metadata": {
    "id": "jlsJCXFV_jG_"
   },
   "source": [
    "From the above plot, it is seen that many listings does not correspond to having many neighbourhoods. Paris is the city with the most listings by far, but it does not have the most neighbourhoods."
   ]
  },
  {
   "cell_type": "markdown",
   "metadata": {
    "id": "Dmjzrz28o9sa"
   },
   "source": [
    "**Based on the table above, you should choose a city that you want to continue your analysis for. The city should have mulitple neighbourhoods with listings in them.**\n",
    "\n",
    "**Compute and visualize the number of listings of different property types per neighbourhood in your city.**"
   ]
  },
  {
   "cell_type": "markdown",
   "metadata": {
    "id": "Jb1bhNvK7EGW"
   },
   "source": [
    "We would like to choose a city that has a large amount of listings and neighbourhoods. In order to not have too many observations, we exclude cities such as Paris, London and Los Angeles. We choose to base our analysis on Madrid with its 15768 listings and 66 neighbourhoods.\n",
    "\n",
    "For simplicity, we filter the `listings` dataframe such that we get all listings that are in Madrid. This yields the `madrid_listings` dataframe, which has significantly less entries. Furthermore, for this exercise, we only need each entry's id, neighbourhood and property type. We group the dataset by the neighbourhood and property type and count the number of listings within each property type in each city."
   ]
  },
  {
   "cell_type": "code",
   "execution_count": null,
   "metadata": {
    "colab": {
     "base_uri": "https://localhost:8080/"
    },
    "id": "jigDK1OFo9sa",
    "outputId": "1a48d79d-c0d7-4eba-8685-3377365bd35c"
   },
   "outputs": [
    {
     "name": "stdout",
     "output_type": "stream",
     "text": [
      "+-------------+--------------------+--------------------+\n",
      "|neighbourhood|       property_type|listing_counts_types|\n",
      "+-------------+--------------------+--------------------+\n",
      "|      Acacias|         Guest suite|                   2|\n",
      "|      Acacias|  Serviced apartment|                   2|\n",
      "|      Acacias|         Condominium|                   1|\n",
      "|      Acacias|                Loft|                   1|\n",
      "|      Acacias|           Apartment|                  49|\n",
      "|      Acacias|               House|                   2|\n",
      "|      Acacias|Casa particular (...|                   1|\n",
      "|      Adelfas|               House|                   1|\n",
      "|      Adelfas|           Apartment|                  25|\n",
      "|      Adelfas|               Other|                   1|\n",
      "|      Adelfas|                Loft|                   2|\n",
      "|      Almagro|  Serviced apartment|                   6|\n",
      "|      Almagro|                Loft|                   3|\n",
      "|      Almagro|         Condominium|                   1|\n",
      "|      Almagro|               House|                   2|\n",
      "|      Almagro|           Apartment|                  47|\n",
      "|      Almagro|Casa particular (...|                   1|\n",
      "|     Almenara|           Apartment|                  20|\n",
      "|     Almenara|               House|                   2|\n",
      "|     Almenara|                Loft|                   1|\n",
      "+-------------+--------------------+--------------------+\n",
      "only showing top 20 rows\n",
      "\n"
     ]
    }
   ],
   "source": [
    "# Filter by listings where the city is Madrid\n",
    "madrid_listings = listings.filter(listings.city == 'Madrid')\n",
    "\n",
    "# Select the columns that we wish to use\n",
    "madrid_listings_prep = madrid_listings.select(f.col('id').alias('listing_id'), 'neighbourhood', \"property_type\")\n",
    "\n",
    "# Make a dataframe, grouped by neighbourhood and property type\n",
    "# Count the distict listings IDs within the category\n",
    "madrid_listings_neigh = madrid_listings_prep.groupBy(\"neighbourhood\", \"property_type\")\\\n",
    "                    .agg(f.countDistinct('listing_id').alias('listing_counts_types'))\\\n",
    "                    .filter(f.col('neighbourhood').isNotNull())\\\n",
    "                    .sort(\"neighbourhood\")\n",
    "\n",
    "madrid_listings_neigh.show()"
   ]
  },
  {
   "cell_type": "markdown",
   "metadata": {
    "id": "fWEt-sNk6dV2"
   },
   "source": [
    "We make a visualization in the following code:"
   ]
  },
  {
   "cell_type": "code",
   "execution_count": null,
   "metadata": {
    "colab": {
     "base_uri": "https://localhost:8080/",
     "height": 717
    },
    "id": "XIVGDbNQ3Eei",
    "outputId": "e46a8a7d-b717-4c9d-982c-29157016b665"
   },
   "outputs": [
    {
     "data": {
      "text/html": [
       "<html>\n",
       "<head><meta charset=\"utf-8\" /></head>\n",
       "<body>\n",
       "    <div>\n",
       "            <script src=\"https://cdnjs.cloudflare.com/ajax/libs/mathjax/2.7.5/MathJax.js?config=TeX-AMS-MML_SVG\"></script><script type=\"text/javascript\">if (window.MathJax) {MathJax.Hub.Config({SVG: {font: \"STIX-Web\"}});}</script>\n",
       "                <script type=\"text/javascript\">window.PlotlyConfig = {MathJaxConfig: 'local'};</script>\n",
       "        <script src=\"https://cdn.plot.ly/plotly-latest.min.js\"></script>    \n",
       "            <div id=\"5b88ba24-7369-4434-a097-94f13bd7e1a4\" class=\"plotly-graph-div\" style=\"height:700px; width:100%;\"></div>\n",
       "            <script type=\"text/javascript\">\n",
       "                \n",
       "                    window.PLOTLYENV=window.PLOTLYENV || {};\n",
       "                    \n",
       "                if (document.getElementById(\"5b88ba24-7369-4434-a097-94f13bd7e1a4\")) {\n",
       "                    Plotly.newPlot(\n",
       "                        '5b88ba24-7369-4434-a097-94f13bd7e1a4',\n",
       "                        [{\"name\": \"La Chopera\", \"type\": \"bar\", \"x\": [\"House\", \"Condominium\", \"Tiny house\", \"Apartment\", \"Serviced apartment\"], \"y\": [1, 1, 1, 51, 1]}, {\"name\": \"Lista\", \"type\": \"bar\", \"x\": [\"Hotel\", \"Apartment\", \"Serviced apartment\", \"Guest suite\", \"Condominium\"], \"y\": [1, 62, 3, 1, 1]}, {\"name\": \"Pacifico\", \"type\": \"bar\", \"x\": [\"Condominium\", \"House\", \"Apartment\"], \"y\": [1, 2, 43]}, {\"name\": \"Justicia\", \"type\": \"bar\", \"x\": [\"Hostel\", \"Bed and breakfast\", \"Boutique hotel\", \"House\", \"Serviced apartment\", \"Guesthouse\", \"Condominium\", \"Apartment\", \"Other\", \"Loft\", \"Guest suite\", \"Casa particular (Cuba)\"], \"y\": [4, 3, 2, 5, 16, 1, 8, 395, 3, 20, 1, 1]}, {\"name\": \"San Blas\", \"type\": \"bar\", \"x\": [\"Townhouse\", \"Chalet\", \"Loft\", \"Condominium\", \"Casa particular (Cuba)\", \"House\", \"Bed and breakfast\", \"Apartment\", \"Other\"], \"y\": [1, 5, 19, 25, 1, 29, 3, 129, 1]}, {\"name\": \"Villaverde\", \"type\": \"bar\", \"x\": [\"Loft\", \"Condominium\", \"Bed and breakfast\", \"Apartment\", \"Tiny house\", \"House\", \"Townhouse\"], \"y\": [2, 7, 1, 80, 1, 14, 1]}, {\"name\": \"Vic\\u00e1lvaro\", \"type\": \"bar\", \"x\": [\"Condominium\", \"House\", \"Loft\", \"Guest suite\", \"Apartment\"], \"y\": [2, 4, 3, 1, 15]}, {\"name\": \"Castillejos\", \"type\": \"bar\", \"x\": [\"Other\", \"Apartment\", \"House\", \"Condominium\"], \"y\": [5, 36, 5, 2]}, {\"name\": \"Moratalaz\", \"type\": \"bar\", \"x\": [\"Condominium\", \"House\", \"Serviced apartment\", \"Apartment\"], \"y\": [2, 10, 1, 61]}, {\"name\": \"Delicias\", \"type\": \"bar\", \"x\": [\"Guest suite\", \"Condominium\", \"Apartment\", \"Bungalow\", \"Loft\", \"House\"], \"y\": [1, 3, 88, 1, 1, 7]}, {\"name\": \"Arganzuela\", \"type\": \"bar\", \"x\": [\"Boutique hotel\", \"House\", \"Guesthouse\", \"Bed and breakfast\", \"Apartment\", \"Guest suite\", \"Condominium\", \"Loft\", \"Serviced apartment\", \"Casa particular (Cuba)\"], \"y\": [1, 17, 2, 9, 396, 2, 13, 15, 6, 1]}, {\"name\": \"Prosperidad\", \"type\": \"bar\", \"x\": [\"House\", \"Apartment\", \"Loft\"], \"y\": [1, 53, 5]}, {\"name\": \"Atocha\", \"type\": \"bar\", \"x\": [\"Apartment\"], \"y\": [9]}, {\"name\": \"Hispanoam\\u00e9rica\", \"type\": \"bar\", \"x\": [\"House\", \"Condominium\", \"Hostel\", \"Other\", \"Loft\", \"Apartment\", \"Bed and breakfast\", \"Chalet\"], \"y\": [2, 1, 1, 1, 1, 26, 1, 2]}, {\"name\": \"Cuatro Caminos\", \"type\": \"bar\", \"x\": [\"House\", \"Bed and breakfast\", \"Condominium\", \"Apartment\"], \"y\": [5, 1, 4, 65]}, {\"name\": \"Berruguete\", \"type\": \"bar\", \"x\": [\"House\", \"Loft\", \"Condominium\", \"Bed and breakfast\", \"Apartment\"], \"y\": [6, 3, 4, 2, 40]}, {\"name\": \"Acacias\", \"type\": \"bar\", \"x\": [\"House\", \"Loft\", \"Apartment\", \"Serviced apartment\", \"Guest suite\", \"Condominium\", \"Casa particular (Cuba)\"], \"y\": [2, 1, 49, 2, 2, 1, 1]}, {\"name\": \"Arg\\u00fcelles\", \"type\": \"bar\", \"x\": [\"Apartment\", \"Condominium\", \"Serviced apartment\", \"Loft\", \"House\", \"Boutique hotel\", \"Guest suite\"], \"y\": [116, 4, 1, 5, 7, 1, 1]}, {\"name\": \"Goya\", \"type\": \"bar\", \"x\": [\"House\", \"Other\", \"Loft\", \"Serviced apartment\", \"Boutique hotel\", \"Apartment\"], \"y\": [5, 1, 6, 1, 1, 110]}, {\"name\": \"Ciudad Lineal\", \"type\": \"bar\", \"x\": [\"Camper/RV\", \"House\", \"Serviced apartment\", \"Other\", \"Apartment\", \"Casa particular (Cuba)\", \"Guest suite\", \"Townhouse\", \"Loft\", \"Condominium\", \"Bed and breakfast\"], \"y\": [1, 25, 1, 1, 342, 3, 3, 1, 24, 14, 4]}, {\"name\": \"Retiro\", \"type\": \"bar\", \"x\": [\"Guest suite\", \"House\", \"Guesthouse\", \"Apartment\", \"Serviced apartment\", \"Loft\", \"Bed and breakfast\", \"Condominium\", \"Other\"], \"y\": [3, 17, 1, 237, 1, 12, 4, 14, 2]}, {\"name\": \"Villa de Vallecas\", \"type\": \"bar\", \"x\": [\"Guesthouse\", \"Loft\", \"Bed and breakfast\", \"Condominium\", \"Apartment\", \"Serviced apartment\", \"House\"], \"y\": [1, 4, 2, 10, 36, 1, 9]}, {\"name\": \"Guindalera\", \"type\": \"bar\", \"x\": [\"Apartment\", \"Loft\", \"House\", \"Guest suite\", \"Condominium\"], \"y\": [68, 4, 1, 3, 2]}, {\"name\": \"Almagro\", \"type\": \"bar\", \"x\": [\"Casa particular (Cuba)\", \"House\", \"Apartment\", \"Condominium\", \"Serviced apartment\", \"Loft\"], \"y\": [1, 2, 47, 1, 6, 3]}, {\"name\": \"Almenara\", \"type\": \"bar\", \"x\": [\"Apartment\", \"House\", \"Loft\"], \"y\": [20, 2, 1]}, {\"name\": \"Sol\", \"type\": \"bar\", \"x\": [\"Guesthouse\", \"Condominium\", \"Hotel\", \"Bed and breakfast\", \"Loft\", \"Apartment\", \"Hostel\", \"Serviced apartment\", \"House\"], \"y\": [2, 7, 5, 4, 16, 457, 9, 25, 6]}, {\"name\": \"Valdeacederas\", \"type\": \"bar\", \"x\": [\"House\", \"Guesthouse\", \"Bed and breakfast\", \"Apartment\", \"Loft\", \"Other\"], \"y\": [2, 1, 1, 24, 4, 1]}, {\"name\": \"Carabanchel\", \"type\": \"bar\", \"x\": [\"House\", \"Guest suite\", \"Tiny house\", \"Apartment\", \"Townhouse\", \"Serviced apartment\", \"Villa\", \"Other\", \"Guesthouse\", \"Loft\", \"Condominium\", \"Bed and breakfast\"], \"y\": [36, 3, 1, 355, 3, 1, 2, 2, 1, 9, 30, 4]}, {\"name\": \"Trafalgar\", \"type\": \"bar\", \"x\": [\"Loft\", \"Guest suite\", \"Condominium\", \"Boutique hotel\", \"Apartment\", \"House\", \"Guesthouse\", \"Serviced apartment\"], \"y\": [7, 1, 2, 1, 110, 4, 1, 2]}, {\"name\": \"Tetu\\u00e1n\", \"type\": \"bar\", \"x\": [\"Apartment\", \"Guest suite\", \"Bed and breakfast\", \"Other\", \"Casa particular (Cuba)\", \"Serviced apartment\", \"Condominium\", \"Tiny house\", \"Hotel\", \"House\", \"Boutique hotel\", \"Loft\"], \"y\": [250, 2, 2, 2, 2, 4, 7, 1, 1, 15, 2, 14]}, {\"name\": \"Recoletos\", \"type\": \"bar\", \"x\": [\"Serviced apartment\", \"Loft\", \"Apartment\", \"Guesthouse\", \"Boutique hotel\", \"House\", \"Condominium\"], \"y\": [12, 3, 106, 1, 9, 2, 1]}, {\"name\": \"Salamanca\", \"type\": \"bar\", \"x\": [\"Chalet\", \"Hostel\", \"House\", \"Bed and breakfast\", \"Guest suite\", \"Condominium\", \"Other\", \"Townhouse\", \"Guesthouse\", \"Dome house\", \"Apartment\", \"Boutique hotel\", \"Serviced apartment\", \"Loft\"], \"y\": [1, 1, 22, 1, 3, 13, 1, 1, 1, 1, 427, 9, 15, 13]}, {\"name\": \"Usera\", \"type\": \"bar\", \"x\": [\"Chalet\", \"Townhouse\", \"Aparthotel\", \"Tiny house\", \"Condominium\", \"Serviced apartment\", \"Loft\", \"Apartment\", \"Guest suite\", \"House\", \"Guesthouse\"], \"y\": [1, 1, 2, 1, 16, 16, 3, 173, 3, 16, 2]}, {\"name\": \"Palacio\", \"type\": \"bar\", \"x\": [\"Guest suite\", \"Apartment\", \"House\", \"Condominium\", \"Loft\", \"Guesthouse\", \"Hostel\", \"Serviced apartment\"], \"y\": [1, 442, 7, 8, 28, 1, 3, 7]}, {\"name\": \"Imperial\", \"type\": \"bar\", \"x\": [\"Tiny house\", \"Condominium\", \"Loft\", \"Apartment\", \"House\"], \"y\": [1, 2, 2, 56, 1]}, {\"name\": \"Nueva Espa\\u00f1a\", \"type\": \"bar\", \"x\": [\"Condominium\", \"Apartment\"], \"y\": [1, 12]}, {\"name\": \"Castellana\", \"type\": \"bar\", \"x\": [\"Condominium\", \"House\", \"Serviced apartment\", \"Apartment\"], \"y\": [4, 1, 2, 45]}, {\"name\": \"Aluche\", \"type\": \"bar\", \"x\": [\"Serviced apartment\", \"House\", \"Other\", \"Guest suite\", \"Condominium\", \"Apartment\", \"Bed and breakfast\", \"Loft\"], \"y\": [4, 28, 1, 1, 13, 396, 3, 6]}, {\"name\": \"Castilla\", \"type\": \"bar\", \"x\": [\"Guest suite\", \"Condominium\", \"Serviced apartment\", \"Loft\", \"Apartment\"], \"y\": [1, 1, 3, 1, 13]}, {\"name\": \"La Latina\", \"type\": \"bar\", \"x\": [\"Apartment\", \"Serviced apartment\", \"Hostel\", \"Loft\", \"Tiny house\", \"Hotel\", \"Bed and breakfast\", \"House\", \"Other\", \"Condominium\"], \"y\": [432, 7, 1, 21, 1, 1, 1, 11, 1, 13]}, {\"name\": \"Centro\", \"type\": \"bar\", \"x\": [\"Hut\", \"Loft\", \"Tent\", \"Tiny house\", \"Guest suite\", \"Dome house\", \"Casa particular (Cuba)\", \"Serviced apartment\", \"Townhouse\", \"Aparthotel\", \"Guesthouse\", \"Other\", \"Apartment\", \"Hostel\", \"House\", \"Boutique hotel\", \"Bed and breakfast\", \"Condominium\", \"Hotel\"], \"y\": [1, 210, 1, 2, 11, 2, 2, 99, 1, 3, 7, 7, 3754, 47, 87, 20, 25, 72, 5]}, {\"name\": \"Gaztambide\", \"type\": \"bar\", \"x\": [\"House\", \"Apartment\", \"Condominium\", \"Serviced apartment\"], \"y\": [2, 68, 2, 2]}, {\"name\": \"El Viso\", \"type\": \"bar\", \"x\": [\"Bed and breakfast\", \"Other\", \"Condominium\", \"House\", \"Apartment\"], \"y\": [1, 1, 2, 3, 16]}, {\"name\": \"Ciudad Jardin\", \"type\": \"bar\", \"x\": [\"Apartment\", \"House\", \"Casa particular (Cuba)\", \"Other\", \"Loft\", \"Bed and breakfast\"], \"y\": [16, 3, 1, 1, 3, 1]}, {\"name\": \"Fuencarral-el Pardo\", \"type\": \"bar\", \"x\": [\"Guest suite\", \"Other\", \"Serviced apartment\", \"Loft\", \"House\", \"Chalet\", \"Townhouse\", \"Apartment\", \"Casa particular (Cuba)\", \"Condominium\", \"Boutique hotel\", \"Bed and breakfast\"], \"y\": [1, 1, 2, 2, 24, 2, 6, 124, 2, 11, 2, 3]}, {\"name\": \"Cortes\", \"type\": \"bar\", \"x\": [\"House\", \"Condominium\", \"Serviced apartment\", \"Boutique hotel\", \"Hostel\", \"Loft\", \"Apartment\"], \"y\": [5, 8, 9, 4, 1, 9, 248]}, {\"name\": \"Jer\\u00f3nimos\", \"type\": \"bar\", \"x\": [\"Apartment\", \"Serviced apartment\", \"House\", \"Bed and breakfast\", \"Hostel\", \"Condominium\"], \"y\": [45, 1, 5, 2, 1, 2]}, {\"name\": \"Embajadores\", \"type\": \"bar\", \"x\": [\"House\", \"Serviced apartment\", \"Loft\", \"Hotel\", \"Bed and breakfast\", \"Hostel\", \"Apartment\", \"Boutique hotel\", \"Condominium\"], \"y\": [21, 12, 52, 1, 1, 9, 895, 7, 20]}, {\"name\": \"Rios Rosas\", \"type\": \"bar\", \"x\": [\"Condominium\", \"Guest suite\", \"Serviced apartment\", \"House\", \"Loft\", \"Apartment\"], \"y\": [3, 1, 2, 4, 1, 43]}, {\"name\": \"Barajas\", \"type\": \"bar\", \"x\": [\"Camper/RV\", \"House\", \"Condominium\", \"Other\", \"Casa particular (Cuba)\", \"Apartment\", \"Townhouse\", \"Bed and breakfast\"], \"y\": [1, 11, 10, 1, 2, 75, 3, 3]}, {\"name\": \"Chamber\\u00ed\", \"type\": \"bar\", \"x\": [\"Hostel\", \"Condominium\", \"Guest suite\", \"Bed and breakfast\", \"Serviced apartment\", \"Apartment\", \"Loft\", \"House\", \"Boutique hotel\"], \"y\": [1, 6, 2, 2, 9, 415, 19, 17, 2]}, {\"name\": \"Adelfas\", \"type\": \"bar\", \"x\": [\"Apartment\", \"Loft\", \"Other\", \"House\"], \"y\": [25, 2, 1, 1]}, {\"name\": \"Ibiza\", \"type\": \"bar\", \"x\": [\"Other\", \"House\", \"Apartment\", \"Condominium\", \"Loft\"], \"y\": [2, 3, 60, 1, 2]}, {\"name\": \"Palos do Moguer\", \"type\": \"bar\", \"x\": [\"Guesthouse\", \"Serviced apartment\", \"Guest suite\", \"House\", \"Loft\", \"Apartment\"], \"y\": [1, 2, 2, 2, 7, 115]}, {\"name\": \"El Tr\\u00e9ntaiseis\", \"type\": \"bar\", \"x\": [\"House\", \"Apartment\", \"Chalet\"], \"y\": [1, 5, 1]}, {\"name\": \"Hortaleza\", \"type\": \"bar\", \"x\": [\"Serviced apartment\", \"House\", \"Apartment\", \"Guest suite\", \"Chalet\", \"Condominium\", \"Camper/RV\", \"Loft\", \"Villa\", \"Guesthouse\", \"Bed and breakfast\", \"Hostel\", \"Townhouse\"], \"y\": [3, 35, 134, 4, 4, 17, 1, 12, 1, 1, 4, 19, 5]}, {\"name\": \"Fuente del Berro\", \"type\": \"bar\", \"x\": [\"House\", \"Apartment\", \"Chalet\", \"Condominium\", \"Guest suite\", \"Townhouse\", \"Serviced apartment\", \"Loft\"], \"y\": [10, 30, 1, 3, 1, 1, 2, 1]}, {\"name\": \"Puente de Vallecas\", \"type\": \"bar\", \"x\": [\"Condominium\", \"Serviced apartment\", \"House\", \"Other\", \"Loft\", \"Guesthouse\", \"Apartment\", \"Bed and breakfast\", \"Chalet\", \"Tiny house\", \"Townhouse\", \"Guest suite\", \"Casa particular (Cuba)\", \"Hostel\"], \"y\": [14, 2, 42, 1, 14, 2, 329, 3, 1, 1, 6, 3, 1, 5]}, {\"name\": \"Vallehermosa\", \"type\": \"bar\", \"x\": [\"Apartment\", \"Loft\"], \"y\": [12, 1]}, {\"name\": \"Malasa\\u00f1a\", \"type\": \"bar\", \"x\": [\"Hotel\", \"Guest suite\", \"Apartment\", \"Serviced apartment\", \"House\", \"Earth house\", \"Condominium\", \"Hostel\", \"Loft\", \"Tiny house\", \"Other\", \"Bed and breakfast\"], \"y\": [1, 1, 439, 6, 15, 1, 3, 8, 27, 1, 1, 5]}, {\"name\": \"Estrella\", \"type\": \"bar\", \"x\": [\"Apartment\"], \"y\": [10]}, {\"name\": \"Moncloa\", \"type\": \"bar\", \"x\": [\"Condominium\", \"Tiny house\", \"House\", \"Chalet\", \"Bed and breakfast\", \"Guest suite\", \"Apartment\", \"Loft\", \"Villa\", \"Townhouse\", \"Serviced apartment\", \"Guesthouse\"], \"y\": [11, 1, 20, 2, 9, 4, 176, 5, 1, 7, 4, 2]}, {\"name\": \"Bellas Vistas\", \"type\": \"bar\", \"x\": [\"Loft\", \"Serviced apartment\", \"Apartment\", \"Condominium\", \"Casa particular (Cuba)\", \"Other\", \"House\"], \"y\": [5, 1, 42, 3, 1, 1, 2]}, {\"name\": \"Legazpi\", \"type\": \"bar\", \"x\": [\"House\", \"Loft\", \"Condominium\", \"Apartment\"], \"y\": [3, 1, 1, 12]}, {\"name\": \"Arapiles\", \"type\": \"bar\", \"x\": [\"House\", \"Loft\", \"Guesthouse\", \"Apartment\", \"Condominium\", \"Other\"], \"y\": [4, 2, 1, 59, 2, 1]}, {\"name\": \"Chamart\\u00edn\", \"type\": \"bar\", \"x\": [\"Serviced apartment\", \"Townhouse\", \"Loft\", \"Guesthouse\", \"House\", \"Guest suite\", \"Condominium\", \"Hotel\", \"Apartment\", \"Hostel\", \"Bed and breakfast\"], \"y\": [5, 2, 3, 1, 12, 1, 15, 1, 172, 2, 1]}],\n",
       "                        {\"height\": 700, \"template\": {\"data\": {\"bar\": [{\"error_x\": {\"color\": \"#2a3f5f\"}, \"error_y\": {\"color\": \"#2a3f5f\"}, \"marker\": {\"line\": {\"color\": \"#E5ECF6\", \"width\": 0.5}}, \"type\": \"bar\"}], \"barpolar\": [{\"marker\": {\"line\": {\"color\": \"#E5ECF6\", \"width\": 0.5}}, \"type\": \"barpolar\"}], \"carpet\": [{\"aaxis\": {\"endlinecolor\": \"#2a3f5f\", \"gridcolor\": \"white\", \"linecolor\": \"white\", \"minorgridcolor\": \"white\", \"startlinecolor\": \"#2a3f5f\"}, \"baxis\": {\"endlinecolor\": \"#2a3f5f\", \"gridcolor\": \"white\", \"linecolor\": \"white\", \"minorgridcolor\": \"white\", \"startlinecolor\": \"#2a3f5f\"}, \"type\": \"carpet\"}], \"choropleth\": [{\"colorbar\": {\"outlinewidth\": 0, \"ticks\": \"\"}, \"type\": \"choropleth\"}], \"contour\": [{\"colorbar\": {\"outlinewidth\": 0, \"ticks\": \"\"}, \"colorscale\": [[0.0, \"#0d0887\"], [0.1111111111111111, \"#46039f\"], [0.2222222222222222, \"#7201a8\"], [0.3333333333333333, \"#9c179e\"], [0.4444444444444444, \"#bd3786\"], [0.5555555555555556, \"#d8576b\"], [0.6666666666666666, \"#ed7953\"], [0.7777777777777778, \"#fb9f3a\"], [0.8888888888888888, \"#fdca26\"], [1.0, \"#f0f921\"]], \"type\": \"contour\"}], \"contourcarpet\": [{\"colorbar\": {\"outlinewidth\": 0, \"ticks\": \"\"}, \"type\": \"contourcarpet\"}], \"heatmap\": [{\"colorbar\": {\"outlinewidth\": 0, \"ticks\": \"\"}, \"colorscale\": [[0.0, \"#0d0887\"], [0.1111111111111111, \"#46039f\"], [0.2222222222222222, \"#7201a8\"], [0.3333333333333333, \"#9c179e\"], [0.4444444444444444, \"#bd3786\"], [0.5555555555555556, \"#d8576b\"], [0.6666666666666666, \"#ed7953\"], [0.7777777777777778, \"#fb9f3a\"], [0.8888888888888888, \"#fdca26\"], [1.0, \"#f0f921\"]], \"type\": \"heatmap\"}], \"heatmapgl\": [{\"colorbar\": {\"outlinewidth\": 0, \"ticks\": \"\"}, \"colorscale\": [[0.0, \"#0d0887\"], [0.1111111111111111, \"#46039f\"], [0.2222222222222222, \"#7201a8\"], [0.3333333333333333, \"#9c179e\"], [0.4444444444444444, \"#bd3786\"], [0.5555555555555556, \"#d8576b\"], [0.6666666666666666, \"#ed7953\"], [0.7777777777777778, \"#fb9f3a\"], [0.8888888888888888, \"#fdca26\"], [1.0, \"#f0f921\"]], \"type\": \"heatmapgl\"}], \"histogram\": [{\"marker\": {\"colorbar\": {\"outlinewidth\": 0, \"ticks\": \"\"}}, \"type\": \"histogram\"}], \"histogram2d\": [{\"colorbar\": {\"outlinewidth\": 0, \"ticks\": \"\"}, \"colorscale\": [[0.0, \"#0d0887\"], [0.1111111111111111, \"#46039f\"], [0.2222222222222222, \"#7201a8\"], [0.3333333333333333, \"#9c179e\"], [0.4444444444444444, \"#bd3786\"], [0.5555555555555556, \"#d8576b\"], [0.6666666666666666, \"#ed7953\"], [0.7777777777777778, \"#fb9f3a\"], [0.8888888888888888, \"#fdca26\"], [1.0, \"#f0f921\"]], \"type\": \"histogram2d\"}], \"histogram2dcontour\": [{\"colorbar\": {\"outlinewidth\": 0, \"ticks\": \"\"}, \"colorscale\": [[0.0, \"#0d0887\"], [0.1111111111111111, \"#46039f\"], [0.2222222222222222, \"#7201a8\"], [0.3333333333333333, \"#9c179e\"], [0.4444444444444444, \"#bd3786\"], [0.5555555555555556, \"#d8576b\"], [0.6666666666666666, \"#ed7953\"], [0.7777777777777778, \"#fb9f3a\"], [0.8888888888888888, \"#fdca26\"], [1.0, \"#f0f921\"]], \"type\": \"histogram2dcontour\"}], \"mesh3d\": [{\"colorbar\": {\"outlinewidth\": 0, \"ticks\": \"\"}, \"type\": \"mesh3d\"}], \"parcoords\": [{\"line\": {\"colorbar\": {\"outlinewidth\": 0, \"ticks\": \"\"}}, \"type\": \"parcoords\"}], \"pie\": [{\"automargin\": true, \"type\": \"pie\"}], \"scatter\": [{\"marker\": {\"colorbar\": {\"outlinewidth\": 0, \"ticks\": \"\"}}, \"type\": \"scatter\"}], \"scatter3d\": [{\"line\": {\"colorbar\": {\"outlinewidth\": 0, \"ticks\": \"\"}}, \"marker\": {\"colorbar\": {\"outlinewidth\": 0, \"ticks\": \"\"}}, \"type\": \"scatter3d\"}], \"scattercarpet\": [{\"marker\": {\"colorbar\": {\"outlinewidth\": 0, \"ticks\": \"\"}}, \"type\": \"scattercarpet\"}], \"scattergeo\": [{\"marker\": {\"colorbar\": {\"outlinewidth\": 0, \"ticks\": \"\"}}, \"type\": \"scattergeo\"}], \"scattergl\": [{\"marker\": {\"colorbar\": {\"outlinewidth\": 0, \"ticks\": \"\"}}, \"type\": \"scattergl\"}], \"scattermapbox\": [{\"marker\": {\"colorbar\": {\"outlinewidth\": 0, \"ticks\": \"\"}}, \"type\": \"scattermapbox\"}], \"scatterpolar\": [{\"marker\": {\"colorbar\": {\"outlinewidth\": 0, \"ticks\": \"\"}}, \"type\": \"scatterpolar\"}], \"scatterpolargl\": [{\"marker\": {\"colorbar\": {\"outlinewidth\": 0, \"ticks\": \"\"}}, \"type\": \"scatterpolargl\"}], \"scatterternary\": [{\"marker\": {\"colorbar\": {\"outlinewidth\": 0, \"ticks\": \"\"}}, \"type\": \"scatterternary\"}], \"surface\": [{\"colorbar\": {\"outlinewidth\": 0, \"ticks\": \"\"}, \"colorscale\": [[0.0, \"#0d0887\"], [0.1111111111111111, \"#46039f\"], [0.2222222222222222, \"#7201a8\"], [0.3333333333333333, \"#9c179e\"], [0.4444444444444444, \"#bd3786\"], [0.5555555555555556, \"#d8576b\"], [0.6666666666666666, \"#ed7953\"], [0.7777777777777778, \"#fb9f3a\"], [0.8888888888888888, \"#fdca26\"], [1.0, \"#f0f921\"]], \"type\": \"surface\"}], \"table\": [{\"cells\": {\"fill\": {\"color\": \"#EBF0F8\"}, \"line\": {\"color\": \"white\"}}, \"header\": {\"fill\": {\"color\": \"#C8D4E3\"}, \"line\": {\"color\": \"white\"}}, \"type\": \"table\"}]}, \"layout\": {\"annotationdefaults\": {\"arrowcolor\": \"#2a3f5f\", \"arrowhead\": 0, \"arrowwidth\": 1}, \"coloraxis\": {\"colorbar\": {\"outlinewidth\": 0, \"ticks\": \"\"}}, \"colorscale\": {\"diverging\": [[0, \"#8e0152\"], [0.1, \"#c51b7d\"], [0.2, \"#de77ae\"], [0.3, \"#f1b6da\"], [0.4, \"#fde0ef\"], [0.5, \"#f7f7f7\"], [0.6, \"#e6f5d0\"], [0.7, \"#b8e186\"], [0.8, \"#7fbc41\"], [0.9, \"#4d9221\"], [1, \"#276419\"]], \"sequential\": [[0.0, \"#0d0887\"], [0.1111111111111111, \"#46039f\"], [0.2222222222222222, \"#7201a8\"], [0.3333333333333333, \"#9c179e\"], [0.4444444444444444, \"#bd3786\"], [0.5555555555555556, \"#d8576b\"], [0.6666666666666666, \"#ed7953\"], [0.7777777777777778, \"#fb9f3a\"], [0.8888888888888888, \"#fdca26\"], [1.0, \"#f0f921\"]], \"sequentialminus\": [[0.0, \"#0d0887\"], [0.1111111111111111, \"#46039f\"], [0.2222222222222222, \"#7201a8\"], [0.3333333333333333, \"#9c179e\"], [0.4444444444444444, \"#bd3786\"], [0.5555555555555556, \"#d8576b\"], [0.6666666666666666, \"#ed7953\"], [0.7777777777777778, \"#fb9f3a\"], [0.8888888888888888, \"#fdca26\"], [1.0, \"#f0f921\"]]}, \"colorway\": [\"#636efa\", \"#EF553B\", \"#00cc96\", \"#ab63fa\", \"#FFA15A\", \"#19d3f3\", \"#FF6692\", \"#B6E880\", \"#FF97FF\", \"#FECB52\"], \"font\": {\"color\": \"#2a3f5f\"}, \"geo\": {\"bgcolor\": \"white\", \"lakecolor\": \"white\", \"landcolor\": \"#E5ECF6\", \"showlakes\": true, \"showland\": true, \"subunitcolor\": \"white\"}, \"hoverlabel\": {\"align\": \"left\"}, \"hovermode\": \"closest\", \"mapbox\": {\"style\": \"light\"}, \"paper_bgcolor\": \"white\", \"plot_bgcolor\": \"#E5ECF6\", \"polar\": {\"angularaxis\": {\"gridcolor\": \"white\", \"linecolor\": \"white\", \"ticks\": \"\"}, \"bgcolor\": \"#E5ECF6\", \"radialaxis\": {\"gridcolor\": \"white\", \"linecolor\": \"white\", \"ticks\": \"\"}}, \"scene\": {\"xaxis\": {\"backgroundcolor\": \"#E5ECF6\", \"gridcolor\": \"white\", \"gridwidth\": 2, \"linecolor\": \"white\", \"showbackground\": true, \"ticks\": \"\", \"zerolinecolor\": \"white\"}, \"yaxis\": {\"backgroundcolor\": \"#E5ECF6\", \"gridcolor\": \"white\", \"gridwidth\": 2, \"linecolor\": \"white\", \"showbackground\": true, \"ticks\": \"\", \"zerolinecolor\": \"white\"}, \"zaxis\": {\"backgroundcolor\": \"#E5ECF6\", \"gridcolor\": \"white\", \"gridwidth\": 2, \"linecolor\": \"white\", \"showbackground\": true, \"ticks\": \"\", \"zerolinecolor\": \"white\"}}, \"shapedefaults\": {\"line\": {\"color\": \"#2a3f5f\"}}, \"ternary\": {\"aaxis\": {\"gridcolor\": \"white\", \"linecolor\": \"white\", \"ticks\": \"\"}, \"baxis\": {\"gridcolor\": \"white\", \"linecolor\": \"white\", \"ticks\": \"\"}, \"bgcolor\": \"#E5ECF6\", \"caxis\": {\"gridcolor\": \"white\", \"linecolor\": \"white\", \"ticks\": \"\"}}, \"title\": {\"x\": 0.05}, \"xaxis\": {\"automargin\": true, \"gridcolor\": \"white\", \"linecolor\": \"white\", \"ticks\": \"\", \"title\": {\"standoff\": 15}, \"zerolinecolor\": \"white\", \"zerolinewidth\": 2}, \"yaxis\": {\"automargin\": true, \"gridcolor\": \"white\", \"linecolor\": \"white\", \"ticks\": \"\", \"title\": {\"standoff\": 15}, \"zerolinecolor\": \"white\", \"zerolinewidth\": 2}}}, \"updatemenus\": [{\"active\": -1, \"buttons\": [{\"args\": [{\"visible\": [true, false, false, false, false, false, false, false, false, false, false, false, false, false, false, false, false, false, false, false, false, false, false, false, false, false, false, false, false, false, false, false, false, false, false, false, false, false, false, false, false, false, false, false, false, false, false, false, false, false, false, false, false, false, false, false, false, false, false, false, false, false, false, false, false, false]}, {\"title\": \"La Chopera\"}], \"label\": \"La Chopera\", \"method\": \"update\"}, {\"args\": [{\"visible\": [false, true, false, false, false, false, false, false, false, false, false, false, false, false, false, false, false, false, false, false, false, false, false, false, false, false, false, false, false, false, false, false, false, false, false, false, false, false, false, false, false, false, false, false, false, false, false, false, false, false, false, false, false, false, false, false, false, false, false, false, false, false, false, false, false, false]}, {\"title\": \"Lista\"}], \"label\": \"Lista\", \"method\": \"update\"}, {\"args\": [{\"visible\": [false, false, true, false, false, false, false, false, false, false, false, false, false, false, false, false, false, false, false, false, false, false, false, false, false, false, false, false, false, false, false, false, false, false, false, false, false, false, false, false, false, false, false, false, false, false, false, false, false, false, false, false, false, false, false, false, false, false, false, false, false, false, false, false, false, false]}, {\"title\": \"Pacifico\"}], \"label\": \"Pacifico\", \"method\": \"update\"}, {\"args\": [{\"visible\": [false, false, false, true, false, false, false, false, false, false, false, false, false, false, false, false, false, false, false, false, false, false, false, false, false, false, false, false, false, false, false, false, false, false, false, false, false, false, false, false, false, false, false, false, false, false, false, false, false, false, false, false, false, false, false, false, false, false, false, false, false, false, false, false, false, false]}, {\"title\": \"Justicia\"}], \"label\": \"Justicia\", \"method\": \"update\"}, {\"args\": [{\"visible\": [false, false, false, false, true, false, false, false, false, false, false, false, false, false, false, false, false, false, false, false, false, false, false, false, false, false, false, false, false, false, false, false, false, false, false, false, false, false, false, false, false, false, false, false, false, false, false, false, false, false, false, false, false, false, false, false, false, false, false, false, false, false, false, false, false, false]}, {\"title\": \"San Blas\"}], \"label\": \"San Blas\", \"method\": \"update\"}, {\"args\": [{\"visible\": [false, false, false, false, false, true, false, false, false, false, false, false, false, false, false, false, false, false, false, false, false, false, false, false, false, false, false, false, false, false, false, false, false, false, false, false, false, false, false, false, false, false, false, false, false, false, false, false, false, false, false, false, false, false, false, false, false, false, false, false, false, false, false, false, false, false]}, {\"title\": \"Villaverde\"}], \"label\": \"Villaverde\", \"method\": \"update\"}, {\"args\": [{\"visible\": [false, false, false, false, false, false, true, false, false, false, false, false, false, false, false, false, false, false, false, false, false, false, false, false, false, false, false, false, false, false, false, false, false, false, false, false, false, false, false, false, false, false, false, false, false, false, false, false, false, false, false, false, false, false, false, false, false, false, false, false, false, false, false, false, false, false]}, {\"title\": \"Vic\\u00e1lvaro\"}], \"label\": \"Vic\\u00e1lvaro\", \"method\": \"update\"}, {\"args\": [{\"visible\": [false, false, false, false, false, false, false, true, false, false, false, false, false, false, false, false, false, false, false, false, false, false, false, false, false, false, false, false, false, false, false, false, false, false, false, false, false, false, false, false, false, false, false, false, false, false, false, false, false, false, false, false, false, false, false, false, false, false, false, false, false, false, false, false, false, false]}, {\"title\": \"Castillejos\"}], \"label\": \"Castillejos\", \"method\": \"update\"}, {\"args\": [{\"visible\": [false, false, false, false, false, false, false, false, true, false, false, false, false, false, false, false, false, false, false, false, false, false, false, false, false, false, false, false, false, false, false, false, false, false, false, false, false, false, false, false, false, false, false, false, false, false, false, false, false, false, false, false, false, false, false, false, false, false, false, false, false, false, false, false, false, false]}, {\"title\": \"Moratalaz\"}], \"label\": \"Moratalaz\", \"method\": \"update\"}, {\"args\": [{\"visible\": [false, false, false, false, false, false, false, false, false, true, false, false, false, false, false, false, false, false, false, false, false, false, false, false, false, false, false, false, false, false, false, false, false, false, false, false, false, false, false, false, false, false, false, false, false, false, false, false, false, false, false, false, false, false, false, false, false, false, false, false, false, false, false, false, false, false]}, {\"title\": \"Delicias\"}], \"label\": \"Delicias\", \"method\": \"update\"}, {\"args\": [{\"visible\": [false, false, false, false, false, false, false, false, false, false, true, false, false, false, false, false, false, false, false, false, false, false, false, false, false, false, false, false, false, false, false, false, false, false, false, false, false, false, false, false, false, false, false, false, false, false, false, false, false, false, false, false, false, false, false, false, false, false, false, false, false, false, false, false, false, false]}, {\"title\": \"Arganzuela\"}], \"label\": \"Arganzuela\", \"method\": \"update\"}, {\"args\": [{\"visible\": [false, false, false, false, false, false, false, false, false, false, false, true, false, false, false, false, false, false, false, false, false, false, false, false, false, false, false, false, false, false, false, false, false, false, false, false, false, false, false, false, false, false, false, false, false, false, false, false, false, false, false, false, false, false, false, false, false, false, false, false, false, false, false, false, false, false]}, {\"title\": \"Prosperidad\"}], \"label\": \"Prosperidad\", \"method\": \"update\"}, {\"args\": [{\"visible\": [false, false, false, false, false, false, false, false, false, false, false, false, true, false, false, false, false, false, false, false, false, false, false, false, false, false, false, false, false, false, false, false, false, false, false, false, false, false, false, false, false, false, false, false, false, false, false, false, false, false, false, false, false, false, false, false, false, false, false, false, false, false, false, false, false, false]}, {\"title\": \"Atocha\"}], \"label\": \"Atocha\", \"method\": \"update\"}, {\"args\": [{\"visible\": [false, false, false, false, false, false, false, false, false, false, false, false, false, true, false, false, false, false, false, false, false, false, false, false, false, false, false, false, false, false, false, false, false, false, false, false, false, false, false, false, false, false, false, false, false, false, false, false, false, false, false, false, false, false, false, false, false, false, false, false, false, false, false, false, false, false]}, {\"title\": \"Hispanoam\\u00e9rica\"}], \"label\": \"Hispanoam\\u00e9rica\", \"method\": \"update\"}, {\"args\": [{\"visible\": [false, false, false, false, false, false, false, false, false, false, false, false, false, false, true, false, false, false, false, false, false, false, false, false, false, false, false, false, false, false, false, false, false, false, false, false, false, false, false, false, false, false, false, false, false, false, false, false, false, false, false, false, false, false, false, false, false, false, false, false, false, false, false, false, false, false]}, {\"title\": \"Cuatro Caminos\"}], \"label\": \"Cuatro Caminos\", \"method\": \"update\"}, {\"args\": [{\"visible\": [false, false, false, false, false, false, false, false, false, false, false, false, false, false, false, true, false, false, false, false, false, false, false, false, false, false, false, false, false, false, false, false, false, false, false, false, false, false, false, false, false, false, false, false, false, false, false, false, false, false, false, false, false, false, false, false, false, false, false, false, false, false, false, false, false, false]}, {\"title\": \"Berruguete\"}], \"label\": \"Berruguete\", \"method\": \"update\"}, {\"args\": [{\"visible\": [false, false, false, false, false, false, false, false, false, false, false, false, false, false, false, false, true, false, false, false, false, false, false, false, false, false, false, false, false, false, false, false, false, false, false, false, false, false, false, false, false, false, false, false, false, false, false, false, false, false, false, false, false, false, false, false, false, false, false, false, false, false, false, false, false, false]}, {\"title\": \"Acacias\"}], \"label\": \"Acacias\", \"method\": \"update\"}, {\"args\": [{\"visible\": [false, false, false, false, false, false, false, false, false, false, false, false, false, false, false, false, false, true, false, false, false, false, false, false, false, false, false, false, false, false, false, false, false, false, false, false, false, false, false, false, false, false, false, false, false, false, false, false, false, false, false, false, false, false, false, false, false, false, false, false, false, false, false, false, false, false]}, {\"title\": \"Arg\\u00fcelles\"}], \"label\": \"Arg\\u00fcelles\", \"method\": \"update\"}, {\"args\": [{\"visible\": [false, false, false, false, false, false, false, false, false, false, false, false, false, false, false, false, false, false, true, false, false, false, false, false, false, false, false, false, false, false, false, false, false, false, false, false, false, false, false, false, false, false, false, false, false, false, false, false, false, false, false, false, false, false, false, false, false, false, false, false, false, false, false, false, false, false]}, {\"title\": \"Goya\"}], \"label\": \"Goya\", \"method\": \"update\"}, {\"args\": [{\"visible\": [false, false, false, false, false, false, false, false, false, false, false, false, false, false, false, false, false, false, false, true, false, false, false, false, false, false, false, false, false, false, false, false, false, false, false, false, false, false, false, false, false, false, false, false, false, false, false, false, false, false, false, false, false, false, false, false, false, false, false, false, false, false, false, false, false, false]}, {\"title\": \"Ciudad Lineal\"}], \"label\": \"Ciudad Lineal\", \"method\": \"update\"}, {\"args\": [{\"visible\": [false, false, false, false, false, false, false, false, false, false, false, false, false, false, false, false, false, false, false, false, true, false, false, false, false, false, false, false, false, false, false, false, false, false, false, false, false, false, false, false, false, false, false, false, false, false, false, false, false, false, false, false, false, false, false, false, false, false, false, false, false, false, false, false, false, false]}, {\"title\": \"Retiro\"}], \"label\": \"Retiro\", \"method\": \"update\"}, {\"args\": [{\"visible\": [false, false, false, false, false, false, false, false, false, false, false, false, false, false, false, false, false, false, false, false, false, true, false, false, false, false, false, false, false, false, false, false, false, false, false, false, false, false, false, false, false, false, false, false, false, false, false, false, false, false, false, false, false, false, false, false, false, false, false, false, false, false, false, false, false, false]}, {\"title\": \"Villa de Vallecas\"}], \"label\": \"Villa de Vallecas\", \"method\": \"update\"}, {\"args\": [{\"visible\": [false, false, false, false, false, false, false, false, false, false, false, false, false, false, false, false, false, false, false, false, false, false, true, false, false, false, false, false, false, false, false, false, false, false, false, false, false, false, false, false, false, false, false, false, false, false, false, false, false, false, false, false, false, false, false, false, false, false, false, false, false, false, false, false, false, false]}, {\"title\": \"Guindalera\"}], \"label\": \"Guindalera\", \"method\": \"update\"}, {\"args\": [{\"visible\": [false, false, false, false, false, false, false, false, false, false, false, false, false, false, false, false, false, false, false, false, false, false, false, true, false, false, false, false, false, false, false, false, false, false, false, false, false, false, false, false, false, false, false, false, false, false, false, false, false, false, false, false, false, false, false, false, false, false, false, false, false, false, false, false, false, false]}, {\"title\": \"Almagro\"}], \"label\": \"Almagro\", \"method\": \"update\"}, {\"args\": [{\"visible\": [false, false, false, false, false, false, false, false, false, false, false, false, false, false, false, false, false, false, false, false, false, false, false, false, true, false, false, false, false, false, false, false, false, false, false, false, false, false, false, false, false, false, false, false, false, false, false, false, false, false, false, false, false, false, false, false, false, false, false, false, false, false, false, false, false, false]}, {\"title\": \"Almenara\"}], \"label\": \"Almenara\", \"method\": \"update\"}, {\"args\": [{\"visible\": [false, false, false, false, false, false, false, false, false, false, false, false, false, false, false, false, false, false, false, false, false, false, false, false, false, true, false, false, false, false, false, false, false, false, false, false, false, false, false, false, false, false, false, false, false, false, false, false, false, false, false, false, false, false, false, false, false, false, false, false, false, false, false, false, false, false]}, {\"title\": \"Sol\"}], \"label\": \"Sol\", \"method\": \"update\"}, {\"args\": [{\"visible\": [false, false, false, false, false, false, false, false, false, false, false, false, false, false, false, false, false, false, false, false, false, false, false, false, false, false, true, false, false, false, false, false, false, false, false, false, false, false, false, false, false, false, false, false, false, false, false, false, false, false, false, false, false, false, false, false, false, false, false, false, false, false, false, false, false, false]}, {\"title\": \"Valdeacederas\"}], \"label\": \"Valdeacederas\", \"method\": \"update\"}, {\"args\": [{\"visible\": [false, false, false, false, false, false, false, false, false, false, false, false, false, false, false, false, false, false, false, false, false, false, false, false, false, false, false, true, false, false, false, false, false, false, false, false, false, false, false, false, false, false, false, false, false, false, false, false, false, false, false, false, false, false, false, false, false, false, false, false, false, false, false, false, false, false]}, {\"title\": \"Carabanchel\"}], \"label\": \"Carabanchel\", \"method\": \"update\"}, {\"args\": [{\"visible\": [false, false, false, false, false, false, false, false, false, false, false, false, false, false, false, false, false, false, false, false, false, false, false, false, false, false, false, false, true, false, false, false, false, false, false, false, false, false, false, false, false, false, false, false, false, false, false, false, false, false, false, false, false, false, false, false, false, false, false, false, false, false, false, false, false, false]}, {\"title\": \"Trafalgar\"}], \"label\": \"Trafalgar\", \"method\": \"update\"}, {\"args\": [{\"visible\": [false, false, false, false, false, false, false, false, false, false, false, false, false, false, false, false, false, false, false, false, false, false, false, false, false, false, false, false, false, true, false, false, false, false, false, false, false, false, false, false, false, false, false, false, false, false, false, false, false, false, false, false, false, false, false, false, false, false, false, false, false, false, false, false, false, false]}, {\"title\": \"Tetu\\u00e1n\"}], \"label\": \"Tetu\\u00e1n\", \"method\": \"update\"}, {\"args\": [{\"visible\": [false, false, false, false, false, false, false, false, false, false, false, false, false, false, false, false, false, false, false, false, false, false, false, false, false, false, false, false, false, false, true, false, false, false, false, false, false, false, false, false, false, false, false, false, false, false, false, false, false, false, false, false, false, false, false, false, false, false, false, false, false, false, false, false, false, false]}, {\"title\": \"Recoletos\"}], \"label\": \"Recoletos\", \"method\": \"update\"}, {\"args\": [{\"visible\": [false, false, false, false, false, false, false, false, false, false, false, false, false, false, false, false, false, false, false, false, false, false, false, false, false, false, false, false, false, false, false, true, false, false, false, false, false, false, false, false, false, false, false, false, false, false, false, false, false, false, false, false, false, false, false, false, false, false, false, false, false, false, false, false, false, false]}, {\"title\": \"Salamanca\"}], \"label\": \"Salamanca\", \"method\": \"update\"}, {\"args\": [{\"visible\": [false, false, false, false, false, false, false, false, false, false, false, false, false, false, false, false, false, false, false, false, false, false, false, false, false, false, false, false, false, false, false, false, true, false, false, false, false, false, false, false, false, false, false, false, false, false, false, false, false, false, false, false, false, false, false, false, false, false, false, false, false, false, false, false, false, false]}, {\"title\": \"Usera\"}], \"label\": \"Usera\", \"method\": \"update\"}, {\"args\": [{\"visible\": [false, false, false, false, false, false, false, false, false, false, false, false, false, false, false, false, false, false, false, false, false, false, false, false, false, false, false, false, false, false, false, false, false, true, false, false, false, false, false, false, false, false, false, false, false, false, false, false, false, false, false, false, false, false, false, false, false, false, false, false, false, false, false, false, false, false]}, {\"title\": \"Palacio\"}], \"label\": \"Palacio\", \"method\": \"update\"}, {\"args\": [{\"visible\": [false, false, false, false, false, false, false, false, false, false, false, false, false, false, false, false, false, false, false, false, false, false, false, false, false, false, false, false, false, false, false, false, false, false, true, false, false, false, false, false, false, false, false, false, false, false, false, false, false, false, false, false, false, false, false, false, false, false, false, false, false, false, false, false, false, false]}, {\"title\": \"Imperial\"}], \"label\": \"Imperial\", \"method\": \"update\"}, {\"args\": [{\"visible\": [false, false, false, false, false, false, false, false, false, false, false, false, false, false, false, false, false, false, false, false, false, false, false, false, false, false, false, false, false, false, false, false, false, false, false, true, false, false, false, false, false, false, false, false, false, false, false, false, false, false, false, false, false, false, false, false, false, false, false, false, false, false, false, false, false, false]}, {\"title\": \"Nueva Espa\\u00f1a\"}], \"label\": \"Nueva Espa\\u00f1a\", \"method\": \"update\"}, {\"args\": [{\"visible\": [false, false, false, false, false, false, false, false, false, false, false, false, false, false, false, false, false, false, false, false, false, false, false, false, false, false, false, false, false, false, false, false, false, false, false, false, true, false, false, false, false, false, false, false, false, false, false, false, false, false, false, false, false, false, false, false, false, false, false, false, false, false, false, false, false, false]}, {\"title\": \"Castellana\"}], \"label\": \"Castellana\", \"method\": \"update\"}, {\"args\": [{\"visible\": [false, false, false, false, false, false, false, false, false, false, false, false, false, false, false, false, false, false, false, false, false, false, false, false, false, false, false, false, false, false, false, false, false, false, false, false, false, true, false, false, false, false, false, false, false, false, false, false, false, false, false, false, false, false, false, false, false, false, false, false, false, false, false, false, false, false]}, {\"title\": \"Aluche\"}], \"label\": \"Aluche\", \"method\": \"update\"}, {\"args\": [{\"visible\": [false, false, false, false, false, false, false, false, false, false, false, false, false, false, false, false, false, false, false, false, false, false, false, false, false, false, false, false, false, false, false, false, false, false, false, false, false, false, true, false, false, false, false, false, false, false, false, false, false, false, false, false, false, false, false, false, false, false, false, false, false, false, false, false, false, false]}, {\"title\": \"Castilla\"}], \"label\": \"Castilla\", \"method\": \"update\"}, {\"args\": [{\"visible\": [false, false, false, false, false, false, false, false, false, false, false, false, false, false, false, false, false, false, false, false, false, false, false, false, false, false, false, false, false, false, false, false, false, false, false, false, false, false, false, true, false, false, false, false, false, false, false, false, false, false, false, false, false, false, false, false, false, false, false, false, false, false, false, false, false, false]}, {\"title\": \"La Latina\"}], \"label\": \"La Latina\", \"method\": \"update\"}, {\"args\": [{\"visible\": [false, false, false, false, false, false, false, false, false, false, false, false, false, false, false, false, false, false, false, false, false, false, false, false, false, false, false, false, false, false, false, false, false, false, false, false, false, false, false, false, true, false, false, false, false, false, false, false, false, false, false, false, false, false, false, false, false, false, false, false, false, false, false, false, false, false]}, {\"title\": \"Centro\"}], \"label\": \"Centro\", \"method\": \"update\"}, {\"args\": [{\"visible\": [false, false, false, false, false, false, false, false, false, false, false, false, false, false, false, false, false, false, false, false, false, false, false, false, false, false, false, false, false, false, false, false, false, false, false, false, false, false, false, false, false, true, false, false, false, false, false, false, false, false, false, false, false, false, false, false, false, false, false, false, false, false, false, false, false, false]}, {\"title\": \"Gaztambide\"}], \"label\": \"Gaztambide\", \"method\": \"update\"}, {\"args\": [{\"visible\": [false, false, false, false, false, false, false, false, false, false, false, false, false, false, false, false, false, false, false, false, false, false, false, false, false, false, false, false, false, false, false, false, false, false, false, false, false, false, false, false, false, false, true, false, false, false, false, false, false, false, false, false, false, false, false, false, false, false, false, false, false, false, false, false, false, false]}, {\"title\": \"El Viso\"}], \"label\": \"El Viso\", \"method\": \"update\"}, {\"args\": [{\"visible\": [false, false, false, false, false, false, false, false, false, false, false, false, false, false, false, false, false, false, false, false, false, false, false, false, false, false, false, false, false, false, false, false, false, false, false, false, false, false, false, false, false, false, false, true, false, false, false, false, false, false, false, false, false, false, false, false, false, false, false, false, false, false, false, false, false, false]}, {\"title\": \"Ciudad Jardin\"}], \"label\": \"Ciudad Jardin\", \"method\": \"update\"}, {\"args\": [{\"visible\": [false, false, false, false, false, false, false, false, false, false, false, false, false, false, false, false, false, false, false, false, false, false, false, false, false, false, false, false, false, false, false, false, false, false, false, false, false, false, false, false, false, false, false, false, true, false, false, false, false, false, false, false, false, false, false, false, false, false, false, false, false, false, false, false, false, false]}, {\"title\": \"Fuencarral-el Pardo\"}], \"label\": \"Fuencarral-el Pardo\", \"method\": \"update\"}, {\"args\": [{\"visible\": [false, false, false, false, false, false, false, false, false, false, false, false, false, false, false, false, false, false, false, false, false, false, false, false, false, false, false, false, false, false, false, false, false, false, false, false, false, false, false, false, false, false, false, false, false, true, false, false, false, false, false, false, false, false, false, false, false, false, false, false, false, false, false, false, false, false]}, {\"title\": \"Cortes\"}], \"label\": \"Cortes\", \"method\": \"update\"}, {\"args\": [{\"visible\": [false, false, false, false, false, false, false, false, false, false, false, false, false, false, false, false, false, false, false, false, false, false, false, false, false, false, false, false, false, false, false, false, false, false, false, false, false, false, false, false, false, false, false, false, false, false, true, false, false, false, false, false, false, false, false, false, false, false, false, false, false, false, false, false, false, false]}, {\"title\": \"Jer\\u00f3nimos\"}], \"label\": \"Jer\\u00f3nimos\", \"method\": \"update\"}, {\"args\": [{\"visible\": [false, false, false, false, false, false, false, false, false, false, false, false, false, false, false, false, false, false, false, false, false, false, false, false, false, false, false, false, false, false, false, false, false, false, false, false, false, false, false, false, false, false, false, false, false, false, false, true, false, false, false, false, false, false, false, false, false, false, false, false, false, false, false, false, false, false]}, {\"title\": \"Embajadores\"}], \"label\": \"Embajadores\", \"method\": \"update\"}, {\"args\": [{\"visible\": [false, false, false, false, false, false, false, false, false, false, false, false, false, false, false, false, false, false, false, false, false, false, false, false, false, false, false, false, false, false, false, false, false, false, false, false, false, false, false, false, false, false, false, false, false, false, false, false, true, false, false, false, false, false, false, false, false, false, false, false, false, false, false, false, false, false]}, {\"title\": \"Rios Rosas\"}], \"label\": \"Rios Rosas\", \"method\": \"update\"}, {\"args\": [{\"visible\": [false, false, false, false, false, false, false, false, false, false, false, false, false, false, false, false, false, false, false, false, false, false, false, false, false, false, false, false, false, false, false, false, false, false, false, false, false, false, false, false, false, false, false, false, false, false, false, false, false, true, false, false, false, false, false, false, false, false, false, false, false, false, false, false, false, false]}, {\"title\": \"Barajas\"}], \"label\": \"Barajas\", \"method\": \"update\"}, {\"args\": [{\"visible\": [false, false, false, false, false, false, false, false, false, false, false, false, false, false, false, false, false, false, false, false, false, false, false, false, false, false, false, false, false, false, false, false, false, false, false, false, false, false, false, false, false, false, false, false, false, false, false, false, false, false, true, false, false, false, false, false, false, false, false, false, false, false, false, false, false, false]}, {\"title\": \"Chamber\\u00ed\"}], \"label\": \"Chamber\\u00ed\", \"method\": \"update\"}, {\"args\": [{\"visible\": [false, false, false, false, false, false, false, false, false, false, false, false, false, false, false, false, false, false, false, false, false, false, false, false, false, false, false, false, false, false, false, false, false, false, false, false, false, false, false, false, false, false, false, false, false, false, false, false, false, false, false, true, false, false, false, false, false, false, false, false, false, false, false, false, false, false]}, {\"title\": \"Adelfas\"}], \"label\": \"Adelfas\", \"method\": \"update\"}, {\"args\": [{\"visible\": [false, false, false, false, false, false, false, false, false, false, false, false, false, false, false, false, false, false, false, false, false, false, false, false, false, false, false, false, false, false, false, false, false, false, false, false, false, false, false, false, false, false, false, false, false, false, false, false, false, false, false, false, true, false, false, false, false, false, false, false, false, false, false, false, false, false]}, {\"title\": \"Ibiza\"}], \"label\": \"Ibiza\", \"method\": \"update\"}, {\"args\": [{\"visible\": [false, false, false, false, false, false, false, false, false, false, false, false, false, false, false, false, false, false, false, false, false, false, false, false, false, false, false, false, false, false, false, false, false, false, false, false, false, false, false, false, false, false, false, false, false, false, false, false, false, false, false, false, false, true, false, false, false, false, false, false, false, false, false, false, false, false]}, {\"title\": \"Palos do Moguer\"}], \"label\": \"Palos do Moguer\", \"method\": \"update\"}, {\"args\": [{\"visible\": [false, false, false, false, false, false, false, false, false, false, false, false, false, false, false, false, false, false, false, false, false, false, false, false, false, false, false, false, false, false, false, false, false, false, false, false, false, false, false, false, false, false, false, false, false, false, false, false, false, false, false, false, false, false, true, false, false, false, false, false, false, false, false, false, false, false]}, {\"title\": \"El Tr\\u00e9ntaiseis\"}], \"label\": \"El Tr\\u00e9ntaiseis\", \"method\": \"update\"}, {\"args\": [{\"visible\": [false, false, false, false, false, false, false, false, false, false, false, false, false, false, false, false, false, false, false, false, false, false, false, false, false, false, false, false, false, false, false, false, false, false, false, false, false, false, false, false, false, false, false, false, false, false, false, false, false, false, false, false, false, false, false, true, false, false, false, false, false, false, false, false, false, false]}, {\"title\": \"Hortaleza\"}], \"label\": \"Hortaleza\", \"method\": \"update\"}, {\"args\": [{\"visible\": [false, false, false, false, false, false, false, false, false, false, false, false, false, false, false, false, false, false, false, false, false, false, false, false, false, false, false, false, false, false, false, false, false, false, false, false, false, false, false, false, false, false, false, false, false, false, false, false, false, false, false, false, false, false, false, false, true, false, false, false, false, false, false, false, false, false]}, {\"title\": \"Fuente del Berro\"}], \"label\": \"Fuente del Berro\", \"method\": \"update\"}, {\"args\": [{\"visible\": [false, false, false, false, false, false, false, false, false, false, false, false, false, false, false, false, false, false, false, false, false, false, false, false, false, false, false, false, false, false, false, false, false, false, false, false, false, false, false, false, false, false, false, false, false, false, false, false, false, false, false, false, false, false, false, false, false, true, false, false, false, false, false, false, false, false]}, {\"title\": \"Puente de Vallecas\"}], \"label\": \"Puente de Vallecas\", \"method\": \"update\"}, {\"args\": [{\"visible\": [false, false, false, false, false, false, false, false, false, false, false, false, false, false, false, false, false, false, false, false, false, false, false, false, false, false, false, false, false, false, false, false, false, false, false, false, false, false, false, false, false, false, false, false, false, false, false, false, false, false, false, false, false, false, false, false, false, false, true, false, false, false, false, false, false, false]}, {\"title\": \"Vallehermosa\"}], \"label\": \"Vallehermosa\", \"method\": \"update\"}, {\"args\": [{\"visible\": [false, false, false, false, false, false, false, false, false, false, false, false, false, false, false, false, false, false, false, false, false, false, false, false, false, false, false, false, false, false, false, false, false, false, false, false, false, false, false, false, false, false, false, false, false, false, false, false, false, false, false, false, false, false, false, false, false, false, false, true, false, false, false, false, false, false]}, {\"title\": \"Malasa\\u00f1a\"}], \"label\": \"Malasa\\u00f1a\", \"method\": \"update\"}, {\"args\": [{\"visible\": [false, false, false, false, false, false, false, false, false, false, false, false, false, false, false, false, false, false, false, false, false, false, false, false, false, false, false, false, false, false, false, false, false, false, false, false, false, false, false, false, false, false, false, false, false, false, false, false, false, false, false, false, false, false, false, false, false, false, false, false, true, false, false, false, false, false]}, {\"title\": \"Estrella\"}], \"label\": \"Estrella\", \"method\": \"update\"}, {\"args\": [{\"visible\": [false, false, false, false, false, false, false, false, false, false, false, false, false, false, false, false, false, false, false, false, false, false, false, false, false, false, false, false, false, false, false, false, false, false, false, false, false, false, false, false, false, false, false, false, false, false, false, false, false, false, false, false, false, false, false, false, false, false, false, false, false, true, false, false, false, false]}, {\"title\": \"Moncloa\"}], \"label\": \"Moncloa\", \"method\": \"update\"}, {\"args\": [{\"visible\": [false, false, false, false, false, false, false, false, false, false, false, false, false, false, false, false, false, false, false, false, false, false, false, false, false, false, false, false, false, false, false, false, false, false, false, false, false, false, false, false, false, false, false, false, false, false, false, false, false, false, false, false, false, false, false, false, false, false, false, false, false, false, true, false, false, false]}, {\"title\": \"Bellas Vistas\"}], \"label\": \"Bellas Vistas\", \"method\": \"update\"}, {\"args\": [{\"visible\": [false, false, false, false, false, false, false, false, false, false, false, false, false, false, false, false, false, false, false, false, false, false, false, false, false, false, false, false, false, false, false, false, false, false, false, false, false, false, false, false, false, false, false, false, false, false, false, false, false, false, false, false, false, false, false, false, false, false, false, false, false, false, false, true, false, false]}, {\"title\": \"Legazpi\"}], \"label\": \"Legazpi\", \"method\": \"update\"}, {\"args\": [{\"visible\": [false, false, false, false, false, false, false, false, false, false, false, false, false, false, false, false, false, false, false, false, false, false, false, false, false, false, false, false, false, false, false, false, false, false, false, false, false, false, false, false, false, false, false, false, false, false, false, false, false, false, false, false, false, false, false, false, false, false, false, false, false, false, false, false, true, false]}, {\"title\": \"Arapiles\"}], \"label\": \"Arapiles\", \"method\": \"update\"}, {\"args\": [{\"visible\": [false, false, false, false, false, false, false, false, false, false, false, false, false, false, false, false, false, false, false, false, false, false, false, false, false, false, false, false, false, false, false, false, false, false, false, false, false, false, false, false, false, false, false, false, false, false, false, false, false, false, false, false, false, false, false, false, false, false, false, false, false, false, false, false, false, true]}, {\"title\": \"Chamart\\u00edn\"}], \"label\": \"Chamart\\u00edn\", \"method\": \"update\"}]}], \"xaxis\": {\"categoryarray\": [\"Townhouse\", \"Hostel\", \"Guesthouse\", \"Guest suite\", \"Loft\", \"Boutique hotel\", \"Bungalow\", \"Casa particular (Cuba)\", \"House\", \"Villa\", \"Hotel\", \"Tent\", \"Chalet\", \"Apartment\", \"Other\", \"Camper/RV\", \"Condominium\", \"Bed and breakfast\", \"Serviced apartment\", \"Aparthotel\", \"Earth house\", \"Dome house\", \"Hut\", \"Tiny house\"], \"categoryorder\": \"array\", \"range\": [-1, 24], \"title\": {\"text\": \"neighbourhood\"}}, \"yaxis\": {\"title\": {\"text\": \"Properties\"}}},\n",
       "                        {\"responsive\": true}\n",
       "                    ).then(function(){\n",
       "                            \n",
       "var gd = document.getElementById('5b88ba24-7369-4434-a097-94f13bd7e1a4');\n",
       "var x = new MutationObserver(function (mutations, observer) {{\n",
       "        var display = window.getComputedStyle(gd).display;\n",
       "        if (!display || display === 'none') {{\n",
       "            console.log([gd, 'removed!']);\n",
       "            Plotly.purge(gd);\n",
       "            observer.disconnect();\n",
       "        }}\n",
       "}});\n",
       "\n",
       "// Listen for the removal of the full notebook cells\n",
       "var notebookContainer = gd.closest('#notebook-container');\n",
       "if (notebookContainer) {{\n",
       "    x.observe(notebookContainer, {childList: true});\n",
       "}}\n",
       "\n",
       "// Listen for the clearing of the current output cell\n",
       "var outputEl = gd.closest('.output');\n",
       "if (outputEl) {{\n",
       "    x.observe(outputEl, {childList: true});\n",
       "}}\n",
       "\n",
       "                        })\n",
       "                };\n",
       "                \n",
       "            </script>\n",
       "        </div>\n",
       "</body>\n",
       "</html>"
      ]
     },
     "metadata": {
      "tags": []
     },
     "output_type": "display_data"
    }
   ],
   "source": [
    "# Make a visualization with a drop down menu by first transforming the\n",
    "# dataframe into Pandas\n",
    "madrid_listings_neigh_df = madrid_listings_neigh.toPandas()\n",
    "\n",
    "# Find all the neighbourhood values\n",
    "madrid_neighbourhoods = list(set(madrid_listings_neigh_df.neighbourhood.values))\n",
    "\n",
    "# Make a dictionary with the neighbourhood as key and property type and number\n",
    "# of properties as value\n",
    "nb_dict = {i: madrid_listings_neigh_df[madrid_listings_neigh_df.neighbourhood==i] for i in madrid_neighbourhoods}\n",
    "\n",
    "# Find all the property types\n",
    "madrid_property_types = list(set(madrid_listings_neigh_df.property_type.values))\n",
    "\n",
    "# Make the bar plot for each neighbourhood\n",
    "plot_data = [go.Bar(name = nb_name,\n",
    "                    x=nb_dict[nb_name]['property_type'],\n",
    "                    y=nb_dict[nb_name]['listing_counts_types']) for nb_name in madrid_neighbourhoods]\n",
    "plot = go.Figure(data=plot_data)\n",
    "\n",
    "# Add dropdown menu\n",
    "visibility = [False]*len(madrid_neighbourhoods)\n",
    "plot_buttons = [dict(label=madrid_neighbourhoods[i],\n",
    "                     method='update',\n",
    "                     args=[{\"visible\": [visibility[j] if i!=j else True for j in range(len(visibility))]},\n",
    "                            {\"title\": madrid_neighbourhoods[i]}]) for i in range(len(madrid_neighbourhoods))]\n",
    "\n",
    "# Add title, axis labels, and dropdown menus\n",
    "plot.update_layout(\n",
    "    height=700,\n",
    "    updatemenus=[ \n",
    "        dict( \n",
    "            active=-1, \n",
    "            buttons=list(plot_buttons), \n",
    "        ) \n",
    "    ],\n",
    "    xaxis={'title': 'neighbourhood',\n",
    "           'categoryorder': 'array',\n",
    "           'categoryarray': madrid_property_types},\n",
    "    yaxis = {'title': 'Properties'}\n",
    ") \n",
    "plot.update_xaxes(range=[-1, 24])\n",
    "  \n",
    "plot.show() "
   ]
  },
  {
   "cell_type": "markdown",
   "metadata": {
    "id": "wusr5cStUGZt"
   },
   "source": [
    "In the above plot, use the drop down menu to switch between the neighbourhoods of Madrid. One of the things to see is that in by far all of the neighbourhoods, apartments are the property type with most listings. Some of the neighbourhoods such as Atocha consists of only 9 listings, all being apartments. There are also some neighbourhoods with many listings such as Centro. This makes a lot of sense as centro is the Central district of Madrid consisting of shopping streets and sights. Thus it would be attractive for many property owners to rent out their e.g. apartment on Airbnb. Generally, more houses, townhouses etc. are listed once getting further away from the city center, which is seen by examining a neighbourhood such as Hortaleza.\n",
    "\n",
    "It is also interesting to observe the special property types that exists. In Usera, you can for example live in a Chalet, which might not be expected for Madrid. But as Usera is a riverside suburb, according to its Wikipedia, it does make sense that these types of housings exists. Other special properties include camper/RV in Hortaleza, bungalow in Delicias, casa particular (Cuba) in Barajas, or earth house in Malasaña."
   ]
  },
  {
   "cell_type": "markdown",
   "metadata": {
    "id": "ZDItrynto9sd"
   },
   "source": [
    "### 2.2. Prices (10 pts)\n",
    "**Compute the minimum, maximum and average listing price in your city.**"
   ]
  },
  {
   "cell_type": "markdown",
   "metadata": {
    "id": "qo5OIdRHt09r"
   },
   "source": [
    "We compute the minimum, maximum and average price of listings in Madrid. We get the following table:"
   ]
  },
  {
   "cell_type": "code",
   "execution_count": null,
   "metadata": {
    "colab": {
     "base_uri": "https://localhost:8080/"
    },
    "id": "1TOIFtzYo9sd",
    "outputId": "8dfad448-3ef7-441a-e35b-bdd355668408"
   },
   "outputs": [
    {
     "name": "stdout",
     "output_type": "stream",
     "text": [
      "+-----------------+----------+----------+\n",
      "|       avg(price)|min(price)|max(price)|\n",
      "+-----------------+----------+----------+\n",
      "|97.14086382951734|       8.0|    9999.0|\n",
      "+-----------------+----------+----------+\n",
      "\n"
     ]
    }
   ],
   "source": [
    "# Compute minimum, maximum and average listing in Madrid\n",
    "madrid_listings.select(f.avg('price'), f.min('price'), f.max('price')).show()"
   ]
  },
  {
   "cell_type": "markdown",
   "metadata": {
    "id": "kf4J_W2QdyB2"
   },
   "source": [
    "This tells us that the minimum and maximum prices for the listings in Madrid are 8 and 9999 dollars, respectively. This must be the lowest and highest prices possible to choose through the Airbnb website. The average price is around 97 dollars."
   ]
  },
  {
   "cell_type": "markdown",
   "metadata": {
    "id": "fGnx3na2o9sg"
   },
   "source": [
    "**Compute and visualise the distribution of listing prices in your city. Write a paragraph describing your findings.**"
   ]
  },
  {
   "cell_type": "markdown",
   "metadata": {
    "id": "sSyAJ6mxAM77"
   },
   "source": [
    "To examine the distribution of listing prices in Madrid, we make a histogram. The entire plot leads to very few listings with prices over 500 dollars, i.e. the histogram has a long tail. Thus to make it clearer, only a range between 0 and 500 dollars is examined:"
   ]
  },
  {
   "cell_type": "code",
   "execution_count": null,
   "metadata": {
    "colab": {
     "base_uri": "https://localhost:8080/",
     "height": 638
    },
    "id": "Lxnbn6mJo9sg",
    "outputId": "72cc3b0f-f9f4-4710-c75a-fa1528b745dd"
   },
   "outputs": [
    {
     "data": {
      "image/png": "[encoded data removed]",
      "text/plain": [
       "<Figure size 1080x720 with 1 Axes>"
      ]
     },
     "metadata": {
      "tags": []
     },
     "output_type": "display_data"
    }
   ],
   "source": [
    "# Transform dataframe to Pandas\n",
    "madrid_price_df = madrid_listings.toPandas()\n",
    "\n",
    "# Make a histogram with prices on the x-axis and occurences on y-axis.\n",
    "price_values = madrid_price_df.price.values\n",
    "plt.figure(figsize = [15,10])\n",
    "plt.xticks(np.arange(0, 9999, 100))\n",
    "plt.xlim(0, 500)                    # Limit x axis to a range of 0 to 500\n",
    "plt.xticks(rotation=90)\n",
    "plt.hist(price_values, bins=500)\n",
    "plt.title('Price distribution')\n",
    "plt.xlabel('Price')\n",
    "plt.ylabel('Listings')\n",
    "plt.show()"
   ]
  },
  {
   "cell_type": "markdown",
   "metadata": {
    "id": "O571pVpNAqZu"
   },
   "source": [
    "It is seen that many listings have prices within 100 dollars. This corresponds to one of our earlier findings, i.e. most of the listings in the different neighbourhoods of Madrid are apartments, lofts and condos. As these are typically small and have few rooms, they are expected to be cheap as well."
   ]
  },
  {
   "cell_type": "markdown",
   "metadata": {
    "id": "prCAgb0ko9sj"
   },
   "source": [
    "**The value of a listing is its rating divided by its price. Compute and show a dataframe with the 3 highest valued listings in each neighbourhood.**"
   ]
  },
  {
   "cell_type": "markdown",
   "metadata": {
    "id": "WJB_1E8xC9LI"
   },
   "source": [
    "The value (rating/price) of each listing is calculated. A new dataframe is defined to, where a `value` feature is added to `madrid_listings`. For this exercise, we wish to display the ID, neighbourhood, rating, price and value of each listing, thus only these features are extracted. We then use a `Window` to partition by the neighbourhood and then order by its value. At last, we select to show the 3 highest valued listings for each neighbourhood. In case of ties, all tied listings are shown."
   ]
  },
  {
   "cell_type": "code",
   "execution_count": null,
   "metadata": {
    "colab": {
     "base_uri": "https://localhost:8080/"
    },
    "id": "TspJVUDpo9sj",
    "outputId": "ac95a8c8-d9b4-406e-dd57-4177bb8d81ee"
   },
   "outputs": [
    {
     "name": "stdout",
     "output_type": "stream",
     "text": [
      "+----------+-------------------+------+-----+------------------+----+\n",
      "|listing_id|neighbourhood      |rating|price|value             |rank|\n",
      "+----------+-------------------+------+-----+------------------+----+\n",
      "|22114138  |Legazpi            |99.0  |22.0 |4.5               |1   |\n",
      "|26825     |Legazpi            |94.0  |25.0 |3.76              |2   |\n",
      "|25791819  |Legazpi            |99.0  |35.0 |2.8285714285714287|3   |\n",
      "|25544054  |Goya               |96.0  |16.0 |6.0               |1   |\n",
      "|6787248   |Goya               |100.0 |17.0 |5.882352941176471 |2   |\n",
      "|18855540  |Goya               |100.0 |22.0 |4.545454545454546 |3   |\n",
      "|4000081   |Villa de Vallecas  |100.0 |12.0 |8.333333333333334 |1   |\n",
      "|4000092   |Villa de Vallecas  |93.0  |12.0 |7.75              |2   |\n",
      "|37106820  |Villa de Vallecas  |92.0  |13.0 |7.076923076923077 |3   |\n",
      "|32703550  |Castellana         |100.0 |16.0 |6.25              |1   |\n",
      "|19219871  |Castellana         |90.0  |28.0 |3.2142857142857144|2   |\n",
      "|13814652  |Castellana         |92.0  |29.0 |3.1724137931034484|3   |\n",
      "|36823891  |La Chopera         |100.0 |15.0 |6.666666666666667 |1   |\n",
      "|11218525  |La Chopera         |94.0  |18.0 |5.222222222222222 |2   |\n",
      "|23994155  |La Chopera         |93.0  |18.0 |5.166666666666667 |3   |\n",
      "|13817195  |Nueva España       |100.0 |35.0 |2.857142857142857 |1   |\n",
      "|32372135  |Nueva España       |86.0  |52.0 |1.6538461538461537|2   |\n",
      "|18279410  |Nueva España       |98.0  |77.0 |1.2727272727272727|3   |\n",
      "|9901912   |Recoletos          |100.0 |14.0 |7.142857142857143 |1   |\n",
      "|32962980  |Recoletos          |90.0  |18.0 |5.0               |2   |\n",
      "|17517955  |Recoletos          |100.0 |26.0 |3.8461538461538463|3   |\n",
      "|21924102  |Tetuán             |96.0  |12.0 |8.0               |1   |\n",
      "|22265136  |Tetuán             |98.0  |14.0 |7.0               |2   |\n",
      "|3254586   |Tetuán             |100.0 |16.0 |6.25              |3   |\n",
      "|35530457  |Hortaleza          |100.0 |15.0 |6.666666666666667 |1   |\n",
      "|23451465  |Hortaleza          |89.0  |14.0 |6.357142857142857 |2   |\n",
      "|13074144  |Hortaleza          |100.0 |16.0 |6.25              |3   |\n",
      "|838712    |Jerónimos          |93.0  |20.0 |4.65              |1   |\n",
      "|814870    |Jerónimos          |88.0  |20.0 |4.4               |2   |\n",
      "|35990283  |Jerónimos          |90.0  |25.0 |3.6               |3   |\n",
      "|36125539  |Argüelles          |100.0 |18.0 |5.555555555555555 |1   |\n",
      "|36293453  |Argüelles          |100.0 |18.0 |5.555555555555555 |1   |\n",
      "|12996024  |Argüelles          |95.0  |18.0 |5.277777777777778 |3   |\n",
      "|35464332  |El Tréntaiseis     |100.0 |40.0 |2.5               |1   |\n",
      "|27242442  |El Tréntaiseis     |100.0 |49.0 |2.0408163265306123|2   |\n",
      "|19631249  |El Tréntaiseis     |94.0  |56.0 |1.6785714285714286|3   |\n",
      "|13543366  |Vallehermosa       |93.0  |20.0 |4.65              |1   |\n",
      "|21941840  |Vallehermosa       |92.0  |28.0 |3.2857142857142856|2   |\n",
      "|13870115  |Vallehermosa       |100.0 |54.0 |1.8518518518518519|3   |\n",
      "|23242437  |Puente de Vallecas |92.0  |10.0 |9.2               |1   |\n",
      "|17776165  |Puente de Vallecas |96.0  |12.0 |8.0               |2   |\n",
      "|22042300  |Puente de Vallecas |93.0  |12.0 |7.75              |3   |\n",
      "|13075348  |Chamberí           |100.0 |9.0  |11.11111111111111 |1   |\n",
      "|37646305  |Chamberí           |100.0 |14.0 |7.142857142857143 |2   |\n",
      "|16305644  |Chamberí           |96.0  |14.0 |6.857142857142857 |3   |\n",
      "|13756542  |Lista              |89.0  |15.0 |5.933333333333334 |1   |\n",
      "|5711745   |Lista              |83.0  |18.0 |4.611111111111111 |2   |\n",
      "|18308268  |Lista              |95.0  |21.0 |4.523809523809524 |3   |\n",
      "|35192340  |Almagro            |100.0 |20.0 |5.0               |1   |\n",
      "|35366005  |Almagro            |90.0  |19.0 |4.7368421052631575|2   |\n",
      "|35192776  |Almagro            |91.0  |20.0 |4.55              |3   |\n",
      "|36303043  |Valdeacederas      |100.0 |17.0 |5.882352941176471 |1   |\n",
      "|36838203  |Valdeacederas      |100.0 |18.0 |5.555555555555555 |2   |\n",
      "|19651156  |Valdeacederas      |100.0 |20.0 |5.0               |3   |\n",
      "|34872400  |Valdeacederas      |100.0 |20.0 |5.0               |3   |\n",
      "|23409683  |Usera              |90.0  |10.0 |9.0               |1   |\n",
      "|14945353  |Usera              |95.0  |14.0 |6.785714285714286 |2   |\n",
      "|11365268  |Usera              |94.0  |14.0 |6.714285714285714 |3   |\n",
      "|13989162  |Carabanchel        |100.0 |9.0  |11.11111111111111 |1   |\n",
      "|21877008  |Carabanchel        |100.0 |10.0 |10.0              |2   |\n",
      "|27876974  |Carabanchel        |94.0  |10.0 |9.4               |3   |\n",
      "|22093111  |Palos do Moguer    |97.0  |17.0 |5.705882352941177 |1   |\n",
      "|23461721  |Palos do Moguer    |100.0 |20.0 |5.0               |2   |\n",
      "|12962514  |Palos do Moguer    |90.0  |20.0 |4.5               |3   |\n",
      "|17123595  |Fuencarral-el Pardo|100.0 |10.0 |10.0              |1   |\n",
      "|23059974  |Fuencarral-el Pardo|98.0  |12.0 |8.166666666666666 |2   |\n",
      "|11375664  |Fuencarral-el Pardo|100.0 |13.0 |7.6923076923076925|3   |\n",
      "|30375804  |Fuente del Berro   |92.0  |13.0 |7.076923076923077 |1   |\n",
      "|36030084  |Fuente del Berro   |97.0  |15.0 |6.466666666666667 |2   |\n",
      "|19826108  |Fuente del Berro   |100.0 |20.0 |5.0               |3   |\n",
      "|37251669  |Fuente del Berro   |100.0 |20.0 |5.0               |3   |\n",
      "|17392708  |El Viso            |100.0 |22.0 |4.545454545454546 |1   |\n",
      "|1882845   |El Viso            |98.0  |25.0 |3.92              |2   |\n",
      "|13357599  |El Viso            |97.0  |32.0 |3.03125           |3   |\n",
      "|22141851  |Arapiles           |94.0  |19.0 |4.947368421052632 |1   |\n",
      "|35196097  |Arapiles           |100.0 |25.0 |4.0               |2   |\n",
      "|36353544  |Arapiles           |100.0 |25.0 |4.0               |2   |\n",
      "|18287421  |Chamartín          |85.0  |9.0  |9.444444444444445 |1   |\n",
      "|21534424  |Chamartín          |87.0  |15.0 |5.8               |2   |\n",
      "|19733869  |Chamartín          |95.0  |18.0 |5.277777777777778 |3   |\n",
      "|20575616  |Estrella           |100.0 |16.0 |6.25              |1   |\n",
      "|13582120  |Estrella           |97.0  |20.0 |4.85              |2   |\n",
      "|400139    |Estrella           |86.0  |24.0 |3.5833333333333335|3   |\n",
      "|24821285  |Sol                |87.0  |10.0 |8.7               |1   |\n",
      "|21511210  |Sol                |96.0  |15.0 |6.4               |2   |\n",
      "|21618464  |Sol                |100.0 |20.0 |5.0               |3   |\n",
      "|30155642  |Bellas Vistas      |91.0  |20.0 |4.55              |1   |\n",
      "|22448040  |Bellas Vistas      |99.0  |25.0 |3.96              |2   |\n",
      "|35453793  |Bellas Vistas      |95.0  |24.0 |3.9583333333333335|3   |\n",
      "|19715868  |Guindalera         |100.0 |16.0 |6.25              |1   |\n",
      "|644592    |Guindalera         |85.0  |16.0 |5.3125            |2   |\n",
      "|7673946   |Guindalera         |92.0  |20.0 |4.6               |3   |\n",
      "|18175287  |Berruguete         |95.0  |15.0 |6.333333333333333 |1   |\n",
      "|6358574   |Berruguete         |100.0 |18.0 |5.555555555555555 |2   |\n",
      "|22165350  |Berruguete         |91.0  |20.0 |4.55              |3   |\n",
      "|34582508  |Moratalaz          |100.0 |13.0 |7.6923076923076925|1   |\n",
      "|36926493  |Moratalaz          |96.0  |13.0 |7.384615384615385 |2   |\n",
      "|20408381  |Moratalaz          |98.0  |14.0 |7.0               |3   |\n",
      "|4652573   |Trafalgar          |96.0  |13.0 |7.384615384615385 |1   |\n",
      "|3362113   |Trafalgar          |98.0  |18.0 |5.444444444444445 |2   |\n",
      "|22352494  |Trafalgar          |90.0  |18.0 |5.0               |3   |\n",
      "|22381438  |Trafalgar          |90.0  |18.0 |5.0               |3   |\n",
      "|36072750  |Trafalgar          |100.0 |20.0 |5.0               |3   |\n",
      "|28973693  |Villaverde         |90.0  |9.0  |10.0              |1   |\n",
      "|32955645  |Villaverde         |100.0 |10.0 |10.0              |1   |\n",
      "|22144374  |Villaverde         |94.0  |10.0 |9.4               |3   |\n",
      "|25900414  |Villaverde         |94.0  |10.0 |9.4               |3   |\n",
      "|19359371  |Castillejos        |93.0  |16.0 |5.8125            |1   |\n",
      "|9808033   |Castillejos        |100.0 |22.0 |4.545454545454546 |2   |\n",
      "|9454217   |Castillejos        |98.0  |22.0 |4.454545454545454 |3   |\n",
      "|21764635  |Almenara           |92.0  |18.0 |5.111111111111111 |1   |\n",
      "|16713703  |Almenara           |97.0  |25.0 |3.88              |2   |\n",
      "|28049357  |Almenara           |94.0  |29.0 |3.2413793103448274|3   |\n",
      "|16722483  |Ibiza              |95.0  |18.0 |5.277777777777778 |1   |\n",
      "|34862268  |Ibiza              |97.0  |20.0 |4.85              |2   |\n",
      "|9658630   |Ibiza              |91.0  |19.0 |4.7894736842105265|3   |\n",
      "|18351752  |Ciudad Lineal      |100.0 |8.0  |12.5              |1   |\n",
      "|13775292  |Ciudad Lineal      |96.0  |12.0 |8.0               |2   |\n",
      "|22809388  |Ciudad Lineal      |100.0 |13.0 |7.6923076923076925|3   |\n",
      "|37386902  |Vicálvaro          |100.0 |15.0 |6.666666666666667 |1   |\n",
      "|15898112  |Vicálvaro          |94.0  |15.0 |6.266666666666667 |2   |\n",
      "|26437160  |Vicálvaro          |100.0 |17.0 |5.882352941176471 |3   |\n",
      "|9952708   |Palacio            |95.0  |15.0 |6.333333333333333 |1   |\n",
      "|22182516  |Palacio            |90.0  |15.0 |6.0               |2   |\n",
      "|37171358  |Palacio            |100.0 |17.0 |5.882352941176471 |3   |\n",
      "|20734742  |Retiro             |100.0 |12.0 |8.333333333333334 |1   |\n",
      "|20434007  |Retiro             |93.0  |15.0 |6.2               |2   |\n",
      "|20169279  |Retiro             |88.0  |15.0 |5.866666666666666 |3   |\n",
      "|35707354  |Gaztambide         |93.0  |19.0 |4.894736842105263 |1   |\n",
      "|23802259  |Gaztambide         |80.0  |18.0 |4.444444444444445 |2   |\n",
      "|35706327  |Gaztambide         |84.0  |19.0 |4.421052631578948 |3   |\n",
      "|6983569   |Justicia           |84.0  |12.0 |7.0               |1   |\n",
      "|28478505  |Justicia           |95.0  |15.0 |6.333333333333333 |2   |\n",
      "|28264183  |Justicia           |92.0  |15.0 |6.133333333333334 |3   |\n",
      "|828095    |San Blas           |100.0 |12.0 |8.333333333333334 |1   |\n",
      "|17520670  |San Blas           |93.0  |12.0 |7.75              |2   |\n",
      "|12171895  |San Blas           |100.0 |13.0 |7.6923076923076925|3   |\n",
      "|26024376  |Malasaña           |82.0  |10.0 |8.2               |1   |\n",
      "|26469909  |Malasaña           |100.0 |15.0 |6.666666666666667 |2   |\n",
      "|30526843  |Malasaña           |100.0 |17.0 |5.882352941176471 |3   |\n",
      "|30534205  |Malasaña           |100.0 |17.0 |5.882352941176471 |3   |\n",
      "|21099860  |Pacifico           |97.0  |18.0 |5.388888888888889 |1   |\n",
      "|12357602  |Pacifico           |96.0  |20.0 |4.8               |2   |\n",
      "|526162    |Pacifico           |86.0  |19.0 |4.526315789473684 |3   |\n",
      "|25130216  |Moncloa            |100.0 |13.0 |7.6923076923076925|1   |\n",
      "|35735803  |Moncloa            |100.0 |14.0 |7.142857142857143 |2   |\n",
      "|36371201  |Moncloa            |100.0 |15.0 |6.666666666666667 |3   |\n",
      "|7087210   |Cuatro Caminos     |98.0  |18.0 |5.444444444444445 |1   |\n",
      "|35973198  |Cuatro Caminos     |100.0 |21.0 |4.761904761904762 |2   |\n",
      "|13673598  |Cuatro Caminos     |100.0 |22.0 |4.545454545454546 |3   |\n",
      "|37771208  |Castilla           |100.0 |25.0 |4.0               |1   |\n",
      "|21050218  |Castilla           |100.0 |30.0 |3.3333333333333335|2   |\n",
      "|33332411  |Castilla           |98.0  |30.0 |3.2666666666666666|3   |\n",
      "|18466399  |Acacias            |92.0  |17.0 |5.411764705882353 |1   |\n",
      "|19259974  |Acacias            |100.0 |20.0 |5.0               |2   |\n",
      "|32862746  |Acacias            |95.0  |19.0 |5.0               |2   |\n",
      "|33501514  |Acacias            |100.0 |20.0 |5.0               |2   |\n",
      "|34957022  |Barajas            |100.0 |17.0 |5.882352941176471 |1   |\n",
      "|10493296  |Barajas            |96.0  |19.0 |5.052631578947368 |2   |\n",
      "|23000277  |Barajas            |95.0  |19.0 |5.0               |3   |\n",
      "|30280756  |Barajas            |100.0 |20.0 |5.0               |3   |\n",
      "|19117571  |Rios Rosas         |80.0  |11.0 |7.2727272727272725|1   |\n",
      "|35583575  |Rios Rosas         |90.0  |19.0 |4.7368421052631575|2   |\n",
      "|20733548  |Rios Rosas         |80.0  |19.0 |4.2105263157894735|3   |\n",
      "|19980724  |La Latina          |100.0 |13.0 |7.6923076923076925|1   |\n",
      "|13655938  |La Latina          |87.0  |14.0 |6.214285714285714 |2   |\n",
      "|13629756  |La Latina          |95.0  |18.0 |5.277777777777778 |3   |\n",
      "|3599402   |Imperial           |100.0 |20.0 |5.0               |1   |\n",
      "|22942499  |Imperial           |100.0 |20.0 |5.0               |1   |\n",
      "|16754837  |Imperial           |99.0  |21.0 |4.714285714285714 |3   |\n",
      "|17619720  |Adelfas            |97.0  |18.0 |5.388888888888889 |1   |\n",
      "|34536303  |Adelfas            |100.0 |19.0 |5.2631578947368425|2   |\n",
      "|34851475  |Adelfas            |93.0  |18.0 |5.166666666666667 |3   |\n",
      "|20265530  |Ciudad Jardin      |100.0 |19.0 |5.2631578947368425|1   |\n",
      "|38034130  |Ciudad Jardin      |100.0 |20.0 |5.0               |2   |\n",
      "|32545489  |Ciudad Jardin      |93.0  |25.0 |3.72              |3   |\n",
      "|18289548  |Prosperidad        |88.0  |9.0  |9.777777777777779 |1   |\n",
      "|23125052  |Prosperidad        |95.0  |16.0 |5.9375            |2   |\n",
      "|30464565  |Prosperidad        |100.0 |20.0 |5.0               |3   |\n",
      "|33302178  |Cortes             |95.0  |18.0 |5.277777777777778 |1   |\n",
      "|14421409  |Cortes             |94.0  |18.0 |5.222222222222222 |2   |\n",
      "|32868883  |Cortes             |92.0  |18.0 |5.111111111111111 |3   |\n",
      "|12992434  |Aluche             |93.0  |9.0  |10.333333333333334|1   |\n",
      "|11887620  |Aluche             |100.0 |10.0 |10.0              |2   |\n",
      "|22205306  |Aluche             |100.0 |10.0 |10.0              |2   |\n",
      "|17783553  |Centro             |100.0 |10.0 |10.0              |1   |\n",
      "|18107706  |Centro             |100.0 |14.0 |7.142857142857143 |2   |\n",
      "|8324044   |Centro             |100.0 |15.0 |6.666666666666667 |3   |\n",
      "|31286905  |Centro             |100.0 |15.0 |6.666666666666667 |3   |\n",
      "|36087096  |Arganzuela         |98.0  |10.0 |9.8               |1   |\n",
      "|3310463   |Arganzuela         |98.0  |13.0 |7.538461538461538 |2   |\n",
      "|12600216  |Arganzuela         |100.0 |15.0 |6.666666666666667 |3   |\n",
      "|9753808   |Embajadores        |100.0 |10.0 |10.0              |1   |\n",
      "|18343092  |Embajadores        |98.0  |14.0 |7.0               |2   |\n",
      "|18435461  |Embajadores        |96.0  |14.0 |6.857142857142857 |3   |\n",
      "|27868671  |Atocha             |91.0  |45.0 |2.022222222222222 |1   |\n",
      "|5776887   |Atocha             |99.0  |55.0 |1.8               |2   |\n",
      "|9471684   |Atocha             |95.0  |55.0 |1.7272727272727273|3   |\n",
      "|27536029  |Salamanca          |100.0 |12.0 |8.333333333333334 |1   |\n",
      "|1491263   |Salamanca          |97.0  |13.0 |7.461538461538462 |2   |\n",
      "|32374467  |Salamanca          |98.0  |15.0 |6.533333333333333 |3   |\n",
      "|19795471  |Hispanoamérica     |96.0  |24.0 |4.0               |1   |\n",
      "|28212304  |Hispanoamérica     |100.0 |25.0 |4.0               |1   |\n",
      "|29921031  |Hispanoamérica     |95.0  |28.0 |3.392857142857143 |3   |\n",
      "|38236520  |Delicias           |90.0  |10.0 |9.0               |1   |\n",
      "|37231306  |Delicias           |80.0  |13.0 |6.153846153846154 |2   |\n",
      "|36443205  |Delicias           |100.0 |17.0 |5.882352941176471 |3   |\n",
      "+----------+-------------------+------+-----+------------------+----+\n",
      "\n"
     ]
    }
   ],
   "source": [
    "# Add the 'value' column to our listings dataframe for Madrid\n",
    "madrid_listings2 = madrid_listings.withColumn(\"value\", madrid_listings.review_scores_rating/madrid_listings.price)\n",
    "\n",
    "# Select the relevant columns necessary for the exercise\n",
    "madrid_listings_vals = madrid_listings2.select(f.col('id').alias('listing_id'), 'neighbourhood', f.col('review_scores_rating').alias('rating'), 'price', \"value\")\n",
    "\n",
    "# Make a window, where we take the neighbourhood value and order by their value\n",
    "window = Window.partitionBy(madrid_listings2['neighbourhood']).orderBy(madrid_listings2['value'].desc())\n",
    "\n",
    "# Dataframe with, where each neighbourhood is sorted in terms of their value\n",
    "# in descending order. We only take top 3\n",
    "madrid_listings_vals.select('*', f.rank().over(window).alias('rank')) \\\n",
    "                    .filter(f.col('rank') <= 3)\\\n",
    "                    .show(madrid_listings_vals.count(), False) "
   ]
  },
  {
   "cell_type": "markdown",
   "metadata": {
    "id": "M9fX2A7fED2P"
   },
   "source": [
    "As Madrid has 66 neighbourhoods, we get an output that is long. It is seen that some neighbourhoods have listings with relatively low ratings, e.g. Nueva Espana, although the rating is high. This is due to their high prices. By quickly examining the neighbourhood's [Wikipedia page](https://en.wikipedia.org/wiki/Nueva_Espa%C3%B1a_(Madrid)), it is a neighbourhood housing people with high incomes. Thus it would not be surprising if the real estate price is high, leading to high listing prices on Airbnb.\n",
    "\n",
    "Other examples include Atocha, which is the neighbourhood, where the largest railway station of Madrid, Atocha Railway Station, is placed. Thus it does not come as a surprise that the listing prices within this neighbourhood is high. Furthermore, some of the listings are within neighbourhoods of famous sights such as the football stadium of Real Madrid, which is in the Hispanoamérica neighbourhood. This would also be a reason for the prices being high."
   ]
  },
  {
   "cell_type": "markdown",
   "metadata": {
    "id": "JVwa--Bto9sm"
   },
   "source": [
    "### 2.3. Trends (10 pts)\n",
    "**Now we want to analyze the \"popularity\" of your city. The data does not contain the number of bookings per listing, but we have a large number of reviews, and we will assume that this is a good indicator of activity on listings.**"
   ]
  },
  {
   "cell_type": "markdown",
   "metadata": {
    "id": "B4JEJpnZQ7p-"
   },
   "source": [
    "We analyze the popularity of Madrid by the number of reviews. In order to do this, we inner-join the two dataframes, `listings` and `reviews` by the ID of the listing and keep the date for which the review is posted. This gives us an insight to how popular each listing has been on different days of the year."
   ]
  },
  {
   "cell_type": "code",
   "execution_count": null,
   "metadata": {
    "id": "KU6oPnP94Ppz"
   },
   "outputs": [],
   "source": [
    "# Prepare a dataframe, where the ID of the listing and the neighbourhood is selected\n",
    "madrid_listings_trend = madrid_listings.select(f.col('id').alias('listing_id'), 'neighbourhood')\n",
    "\n",
    "# Make a dataframe where listings and reviews are joined in terms of the ID of\n",
    "# the listing\n",
    "madrid_pop = madrid_listings_trend.join(reviews, ['listing_id'], 'inner')\\\n",
    "                                  .withColumn('date', f.col('date')\\\n",
    "                                  .cast(DateType()))"
   ]
  },
  {
   "cell_type": "markdown",
   "metadata": {
    "id": "Tb3TTbgGo9sm"
   },
   "source": [
    "**Compute and visualize the popularity (i.e., number of reviews) of your city over time. Can you identify any trends? Write a paragraph describing your findings.**"
   ]
  },
  {
   "cell_type": "markdown",
   "metadata": {
    "id": "0wSDpcGYR2CF"
   },
   "source": [
    "To visualize the popularity, we count the number of reviews for each date during the timeframe."
   ]
  },
  {
   "cell_type": "code",
   "execution_count": null,
   "metadata": {
    "colab": {
     "base_uri": "https://localhost:8080/",
     "height": 419
    },
    "id": "Tamc5ofG4bTm",
    "outputId": "74672de3-2cbc-492f-f11b-74b44fbdc902"
   },
   "outputs": [
    {
     "data": {
      "text/html": [
       "<div>\n",
       "<style scoped>\n",
       "    .dataframe tbody tr th:only-of-type {\n",
       "        vertical-align: middle;\n",
       "    }\n",
       "\n",
       "    .dataframe tbody tr th {\n",
       "        vertical-align: top;\n",
       "    }\n",
       "\n",
       "    .dataframe thead th {\n",
       "        text-align: right;\n",
       "    }\n",
       "</style>\n",
       "<table border=\"1\" class=\"dataframe\">\n",
       "  <thead>\n",
       "    <tr style=\"text-align: right;\">\n",
       "      <th></th>\n",
       "      <th>date</th>\n",
       "      <th>reviews</th>\n",
       "    </tr>\n",
       "  </thead>\n",
       "  <tbody>\n",
       "    <tr>\n",
       "      <th>0</th>\n",
       "      <td>2010-03-14</td>\n",
       "      <td>1</td>\n",
       "    </tr>\n",
       "    <tr>\n",
       "      <th>1</th>\n",
       "      <td>2010-03-23</td>\n",
       "      <td>1</td>\n",
       "    </tr>\n",
       "    <tr>\n",
       "      <th>2</th>\n",
       "      <td>2010-04-10</td>\n",
       "      <td>1</td>\n",
       "    </tr>\n",
       "    <tr>\n",
       "      <th>3</th>\n",
       "      <td>2010-04-21</td>\n",
       "      <td>1</td>\n",
       "    </tr>\n",
       "    <tr>\n",
       "      <th>4</th>\n",
       "      <td>2010-04-26</td>\n",
       "      <td>1</td>\n",
       "    </tr>\n",
       "    <tr>\n",
       "      <th>...</th>\n",
       "      <td>...</td>\n",
       "      <td>...</td>\n",
       "    </tr>\n",
       "    <tr>\n",
       "      <th>3014</th>\n",
       "      <td>2019-09-15</td>\n",
       "      <td>1053</td>\n",
       "    </tr>\n",
       "    <tr>\n",
       "      <th>3015</th>\n",
       "      <td>2019-09-16</td>\n",
       "      <td>520</td>\n",
       "    </tr>\n",
       "    <tr>\n",
       "      <th>3016</th>\n",
       "      <td>2019-09-17</td>\n",
       "      <td>308</td>\n",
       "    </tr>\n",
       "    <tr>\n",
       "      <th>3017</th>\n",
       "      <td>2019-09-18</td>\n",
       "      <td>196</td>\n",
       "    </tr>\n",
       "    <tr>\n",
       "      <th>3018</th>\n",
       "      <td>2019-09-19</td>\n",
       "      <td>7</td>\n",
       "    </tr>\n",
       "  </tbody>\n",
       "</table>\n",
       "<p>3019 rows × 2 columns</p>\n",
       "</div>"
      ],
      "text/plain": [
       "            date  reviews\n",
       "0     2010-03-14        1\n",
       "1     2010-03-23        1\n",
       "2     2010-04-10        1\n",
       "3     2010-04-21        1\n",
       "4     2010-04-26        1\n",
       "...          ...      ...\n",
       "3014  2019-09-15     1053\n",
       "3015  2019-09-16      520\n",
       "3016  2019-09-17      308\n",
       "3017  2019-09-18      196\n",
       "3018  2019-09-19        7\n",
       "\n",
       "[3019 rows x 2 columns]"
      ]
     },
     "execution_count": 116,
     "metadata": {
      "tags": []
     },
     "output_type": "execute_result"
    }
   ],
   "source": [
    "# Make a dataframe where we count the number of reviews for each day\n",
    "madrid_popbydate = madrid_pop.groupBy('date')\\\n",
    "                             .agg(f.count('id').alias('reviews'))\\\n",
    "                             .orderBy('date').toPandas()\n",
    "madrid_popbydate"
   ]
  },
  {
   "cell_type": "markdown",
   "metadata": {
    "id": "bi4QtRTDSF0Q"
   },
   "source": [
    "From the small sample of the data, as seen above, we can already get a small insight to how the number of reviews has risen over time. We now visualize the entire timeframe:"
   ]
  },
  {
   "cell_type": "code",
   "execution_count": null,
   "metadata": {
    "colab": {
     "base_uri": "https://localhost:8080/",
     "height": 542
    },
    "id": "f_hghPh04Jcd",
    "outputId": "121eb4f5-e82c-46b2-9b22-152efbac8507"
   },
   "outputs": [
    {
     "data": {
      "text/html": [
       "<html>\n",
       "<head><meta charset=\"utf-8\" /></head>\n",
       "<body>\n",
       "    <div>\n",
       "            <script src=\"https://cdnjs.cloudflare.com/ajax/libs/mathjax/2.7.5/MathJax.js?config=TeX-AMS-MML_SVG\"></script><script type=\"text/javascript\">if (window.MathJax) {MathJax.Hub.Config({SVG: {font: \"STIX-Web\"}});}</script>\n",
       "                <script type=\"text/javascript\">window.PlotlyConfig = {MathJaxConfig: 'local'};</script>\n",
       "        <script src=\"https://cdn.plot.ly/plotly-latest.min.js\"></script>    \n",
       "            <div id=\"de2e9f6b-5ab4-40c4-b67c-fd55aa632f9d\" class=\"plotly-graph-div\" style=\"height:525px; width:100%;\"></div>\n",
       "            <script type=\"text/javascript\">\n",
       "                \n",
       "                    window.PLOTLYENV=window.PLOTLYENV || {};\n",
       "                    \n",
       "                if (document.getElementById(\"de2e9f6b-5ab4-40c4-b67c-fd55aa632f9d\")) {\n",
       "                    Plotly.newPlot(\n",
       "                        'de2e9f6b-5ab4-40c4-b67c-fd55aa632f9d',\n",
       "                        [{\"type\": \"scatter\", \"x\": [\"2010-03-14\", \"2010-03-23\", \"2010-04-10\", \"2010-04-21\", \"2010-04-26\", \"2010-05-10\", \"2010-05-15\", \"2010-05-23\", \"2010-05-24\", \"2010-06-23\", \"2010-06-25\", \"2010-06-28\", \"2010-07-06\", \"2010-09-09\", \"2010-09-12\", \"2010-09-15\", \"2010-09-27\", \"2010-09-30\", \"2010-10-10\", \"2010-10-12\", \"2010-10-14\", \"2010-10-18\", \"2010-10-24\", \"2010-11-01\", \"2010-11-02\", \"2010-11-14\", \"2010-11-24\", \"2010-11-28\", \"2010-12-07\", \"2010-12-09\", \"2011-01-10\", \"2011-01-19\", \"2011-02-13\", \"2011-02-22\", \"2011-02-23\", \"2011-02-26\", \"2011-02-28\", \"2011-03-11\", \"2011-03-14\", \"2011-03-18\", \"2011-03-23\", \"2011-03-29\", \"2011-04-09\", \"2011-04-11\", \"2011-04-20\", \"2011-04-26\", \"2011-05-03\", \"2011-05-04\", \"2011-05-06\", \"2011-05-07\", \"2011-05-08\", \"2011-05-13\", \"2011-05-16\", \"2011-05-17\", \"2011-05-20\", \"2011-05-23\", \"2011-05-24\", \"2011-05-25\", \"2011-05-26\", \"2011-05-27\", \"2011-05-28\", \"2011-05-29\", \"2011-05-31\", \"2011-06-02\", \"2011-06-03\", \"2011-06-04\", \"2011-06-05\", \"2011-06-06\", \"2011-06-07\", \"2011-06-09\", \"2011-06-10\", \"2011-06-13\", \"2011-06-14\", \"2011-06-17\", \"2011-06-18\", \"2011-06-19\", \"2011-06-20\", \"2011-06-21\", \"2011-06-22\", \"2011-06-25\", \"2011-06-26\", \"2011-06-27\", \"2011-06-28\", \"2011-06-29\", \"2011-06-30\", \"2011-07-01\", \"2011-07-02\", \"2011-07-03\", \"2011-07-05\", \"2011-07-06\", \"2011-07-07\", \"2011-07-08\", \"2011-07-09\", \"2011-07-10\", \"2011-07-11\", \"2011-07-12\", \"2011-07-13\", \"2011-07-14\", \"2011-07-15\", \"2011-07-16\", \"2011-07-18\", \"2011-07-19\", \"2011-07-20\", \"2011-07-21\", \"2011-07-22\", \"2011-07-23\", \"2011-07-24\", \"2011-07-25\", \"2011-07-26\", \"2011-07-28\", \"2011-07-30\", \"2011-08-02\", \"2011-08-03\", \"2011-08-05\", \"2011-08-06\", \"2011-08-07\", \"2011-08-08\", \"2011-08-10\", \"2011-08-12\", \"2011-08-13\", \"2011-08-15\", \"2011-08-16\", \"2011-08-17\", \"2011-08-21\", \"2011-08-23\", \"2011-08-24\", \"2011-08-25\", \"2011-08-26\", \"2011-08-27\", \"2011-08-28\", \"2011-08-30\", \"2011-08-31\", \"2011-09-05\", \"2011-09-06\", \"2011-09-08\", \"2011-09-09\", \"2011-09-10\", \"2011-09-12\", \"2011-09-13\", \"2011-09-14\", \"2011-09-15\", \"2011-09-16\", \"2011-09-17\", \"2011-09-18\", \"2011-09-19\", \"2011-09-20\", \"2011-09-22\", \"2011-09-24\", \"2011-09-25\", \"2011-09-26\", \"2011-09-27\", \"2011-09-28\", \"2011-09-29\", \"2011-09-30\", \"2011-10-01\", \"2011-10-02\", \"2011-10-03\", \"2011-10-06\", \"2011-10-07\", \"2011-10-08\", \"2011-10-09\", \"2011-10-10\", \"2011-10-11\", \"2011-10-12\", \"2011-10-14\", \"2011-10-16\", \"2011-10-17\", \"2011-10-18\", \"2011-10-19\", \"2011-10-20\", \"2011-10-21\", \"2011-10-23\", \"2011-10-24\", \"2011-10-25\", \"2011-10-26\", \"2011-10-27\", \"2011-10-28\", \"2011-10-29\", \"2011-11-01\", \"2011-11-02\", \"2011-11-04\", \"2011-11-06\", \"2011-11-07\", \"2011-11-08\", \"2011-11-09\", \"2011-11-10\", \"2011-11-11\", \"2011-11-12\", \"2011-11-14\", \"2011-11-15\", \"2011-11-18\", \"2011-11-20\", \"2011-11-21\", \"2011-11-22\", \"2011-11-23\", \"2011-11-24\", \"2011-11-25\", \"2011-11-26\", \"2011-11-27\", \"2011-11-28\", \"2011-11-29\", \"2011-11-30\", \"2011-12-01\", \"2011-12-02\", \"2011-12-03\", \"2011-12-05\", \"2011-12-06\", \"2011-12-07\", \"2011-12-08\", \"2011-12-10\", \"2011-12-11\", \"2011-12-12\", \"2011-12-13\", \"2011-12-14\", \"2011-12-15\", \"2011-12-17\", \"2011-12-19\", \"2011-12-20\", \"2011-12-21\", \"2011-12-22\", \"2011-12-23\", \"2011-12-24\", \"2011-12-25\", \"2011-12-27\", \"2011-12-29\", \"2011-12-30\", \"2011-12-31\", \"2012-01-01\", \"2012-01-02\", \"2012-01-03\", \"2012-01-04\", \"2012-01-06\", \"2012-01-07\", \"2012-01-08\", \"2012-01-09\", \"2012-01-10\", \"2012-01-11\", \"2012-01-16\", \"2012-01-17\", \"2012-01-20\", \"2012-01-21\", \"2012-01-22\", \"2012-01-23\", \"2012-01-24\", \"2012-01-25\", \"2012-01-27\", \"2012-01-28\", \"2012-01-29\", \"2012-01-30\", \"2012-01-31\", \"2012-02-04\", \"2012-02-05\", \"2012-02-06\", \"2012-02-07\", \"2012-02-08\", \"2012-02-09\", \"2012-02-10\", \"2012-02-11\", \"2012-02-13\", \"2012-02-14\", \"2012-02-15\", \"2012-02-16\", \"2012-02-17\", \"2012-02-18\", \"2012-02-19\", \"2012-02-20\", \"2012-02-21\", \"2012-02-22\", \"2012-02-23\", \"2012-02-24\", \"2012-02-25\", \"2012-02-26\", \"2012-02-27\", \"2012-02-28\", \"2012-03-01\", \"2012-03-02\", \"2012-03-03\", \"2012-03-04\", \"2012-03-05\", \"2012-03-06\", \"2012-03-07\", \"2012-03-10\", \"2012-03-11\", \"2012-03-12\", \"2012-03-13\", \"2012-03-14\", \"2012-03-15\", \"2012-03-17\", \"2012-03-18\", \"2012-03-19\", \"2012-03-20\", \"2012-03-21\", \"2012-03-22\", \"2012-03-23\", \"2012-03-24\", \"2012-03-25\", \"2012-03-26\", \"2012-03-27\", \"2012-03-28\", \"2012-03-29\", \"2012-03-30\", \"2012-03-31\", \"2012-04-01\", \"2012-04-02\", \"2012-04-03\", \"2012-04-04\", \"2012-04-05\", \"2012-04-06\", \"2012-04-07\", \"2012-04-08\", \"2012-04-09\", \"2012-04-10\", \"2012-04-11\", \"2012-04-12\", \"2012-04-13\", \"2012-04-14\", \"2012-04-15\", \"2012-04-16\", \"2012-04-17\", \"2012-04-18\", \"2012-04-19\", \"2012-04-20\", \"2012-04-21\", \"2012-04-22\", \"2012-04-23\", \"2012-04-24\", \"2012-04-25\", \"2012-04-26\", \"2012-04-27\", \"2012-04-28\", \"2012-04-29\", \"2012-04-30\", \"2012-05-01\", \"2012-05-02\", \"2012-05-03\", \"2012-05-04\", \"2012-05-05\", \"2012-05-06\", \"2012-05-07\", \"2012-05-08\", \"2012-05-09\", \"2012-05-10\", \"2012-05-11\", \"2012-05-12\", \"2012-05-13\", \"2012-05-14\", \"2012-05-15\", \"2012-05-16\", \"2012-05-17\", \"2012-05-18\", \"2012-05-19\", \"2012-05-20\", \"2012-05-21\", \"2012-05-22\", \"2012-05-23\", \"2012-05-24\", \"2012-05-25\", \"2012-05-26\", \"2012-05-27\", \"2012-05-28\", \"2012-05-29\", \"2012-05-30\", \"2012-05-31\", \"2012-06-01\", \"2012-06-02\", \"2012-06-03\", \"2012-06-04\", \"2012-06-05\", \"2012-06-06\", \"2012-06-07\", \"2012-06-08\", \"2012-06-09\", \"2012-06-10\", \"2012-06-11\", \"2012-06-12\", \"2012-06-13\", \"2012-06-14\", \"2012-06-15\", \"2012-06-16\", \"2012-06-17\", \"2012-06-18\", \"2012-06-19\", \"2012-06-20\", \"2012-06-21\", \"2012-06-22\", \"2012-06-23\", \"2012-06-24\", \"2012-06-25\", \"2012-06-26\", \"2012-06-27\", \"2012-06-28\", \"2012-06-29\", \"2012-06-30\", \"2012-07-01\", \"2012-07-02\", \"2012-07-03\", \"2012-07-04\", \"2012-07-05\", \"2012-07-06\", \"2012-07-07\", \"2012-07-08\", \"2012-07-09\", \"2012-07-10\", \"2012-07-11\", \"2012-07-12\", \"2012-07-13\", \"2012-07-14\", \"2012-07-15\", \"2012-07-16\", \"2012-07-17\", \"2012-07-18\", \"2012-07-19\", \"2012-07-20\", \"2012-07-21\", \"2012-07-22\", \"2012-07-23\", \"2012-07-24\", \"2012-07-25\", \"2012-07-26\", \"2012-07-27\", \"2012-07-28\", \"2012-07-29\", \"2012-07-30\", \"2012-07-31\", \"2012-08-01\", \"2012-08-02\", \"2012-08-03\", \"2012-08-04\", \"2012-08-05\", \"2012-08-06\", \"2012-08-07\", \"2012-08-08\", \"2012-08-09\", \"2012-08-10\", \"2012-08-11\", \"2012-08-12\", \"2012-08-13\", \"2012-08-14\", \"2012-08-15\", \"2012-08-16\", \"2012-08-17\", \"2012-08-18\", \"2012-08-19\", \"2012-08-20\", \"2012-08-21\", \"2012-08-22\", \"2012-08-23\", \"2012-08-24\", \"2012-08-25\", \"2012-08-26\", \"2012-08-27\", \"2012-08-28\", \"2012-08-29\", \"2012-08-30\", \"2012-08-31\", \"2012-09-01\", \"2012-09-02\", \"2012-09-03\", \"2012-09-04\", \"2012-09-05\", \"2012-09-06\", \"2012-09-07\", \"2012-09-08\", \"2012-09-09\", \"2012-09-10\", \"2012-09-11\", \"2012-09-12\", \"2012-09-14\", \"2012-09-15\", \"2012-09-16\", \"2012-09-17\", \"2012-09-18\", \"2012-09-19\", \"2012-09-20\", \"2012-09-21\", \"2012-09-22\", \"2012-09-23\", \"2012-09-24\", \"2012-09-25\", \"2012-09-26\", \"2012-09-27\", \"2012-09-28\", \"2012-09-29\", \"2012-09-30\", \"2012-10-01\", \"2012-10-02\", \"2012-10-03\", \"2012-10-04\", \"2012-10-05\", \"2012-10-06\", \"2012-10-07\", \"2012-10-08\", \"2012-10-09\", \"2012-10-10\", \"2012-10-11\", \"2012-10-12\", \"2012-10-13\", \"2012-10-14\", \"2012-10-15\", \"2012-10-16\", \"2012-10-17\", \"2012-10-18\", \"2012-10-19\", \"2012-10-20\", \"2012-10-21\", \"2012-10-22\", \"2012-10-23\", \"2012-10-24\", \"2012-10-25\", \"2012-10-26\", \"2012-10-27\", \"2012-10-28\", \"2012-10-29\", \"2012-10-30\", \"2012-10-31\", \"2012-11-01\", \"2012-11-02\", \"2012-11-03\", \"2012-11-04\", \"2012-11-05\", \"2012-11-06\", \"2012-11-07\", \"2012-11-08\", \"2012-11-09\", \"2012-11-10\", \"2012-11-11\", \"2012-11-12\", \"2012-11-13\", \"2012-11-14\", \"2012-11-15\", \"2012-11-16\", \"2012-11-17\", \"2012-11-18\", \"2012-11-19\", \"2012-11-20\", \"2012-11-21\", \"2012-11-22\", \"2012-11-23\", \"2012-11-24\", \"2012-11-25\", \"2012-11-26\", \"2012-11-27\", \"2012-11-28\", \"2012-11-29\", \"2012-11-30\", \"2012-12-01\", \"2012-12-02\", \"2012-12-03\", \"2012-12-04\", \"2012-12-06\", \"2012-12-08\", \"2012-12-09\", \"2012-12-11\", \"2012-12-12\", \"2012-12-13\", \"2012-12-14\", \"2012-12-15\", \"2012-12-16\", \"2012-12-17\", \"2012-12-18\", \"2012-12-19\", \"2012-12-20\", \"2012-12-21\", \"2012-12-22\", \"2012-12-23\", \"2012-12-24\", \"2012-12-25\", \"2012-12-26\", \"2012-12-27\", \"2012-12-28\", \"2012-12-29\", \"2012-12-30\", \"2012-12-31\", \"2013-01-01\", \"2013-01-02\", \"2013-01-03\", \"2013-01-04\", \"2013-01-05\", \"2013-01-06\", \"2013-01-07\", \"2013-01-08\", \"2013-01-09\", \"2013-01-10\", \"2013-01-11\", \"2013-01-12\", \"2013-01-13\", \"2013-01-14\", \"2013-01-15\", \"2013-01-16\", \"2013-01-17\", \"2013-01-18\", \"2013-01-19\", \"2013-01-20\", \"2013-01-21\", \"2013-01-22\", \"2013-01-24\", \"2013-01-25\", \"2013-01-26\", \"2013-01-27\", \"2013-01-28\", \"2013-01-29\", \"2013-01-30\", \"2013-01-31\", \"2013-02-01\", \"2013-02-02\", \"2013-02-03\", \"2013-02-04\", \"2013-02-05\", \"2013-02-06\", \"2013-02-07\", \"2013-02-09\", \"2013-02-10\", \"2013-02-11\", \"2013-02-12\", \"2013-02-13\", \"2013-02-14\", \"2013-02-15\", \"2013-02-16\", \"2013-02-17\", \"2013-02-18\", \"2013-02-19\", \"2013-02-20\", \"2013-02-22\", \"2013-02-24\", \"2013-02-26\", \"2013-02-27\", \"2013-02-28\", \"2013-03-01\", \"2013-03-02\", \"2013-03-03\", \"2013-03-04\", \"2013-03-05\", \"2013-03-06\", \"2013-03-07\", \"2013-03-08\", \"2013-03-09\", \"2013-03-10\", \"2013-03-11\", \"2013-03-12\", \"2013-03-13\", \"2013-03-14\", \"2013-03-15\", \"2013-03-16\", \"2013-03-17\", \"2013-03-18\", \"2013-03-19\", \"2013-03-20\", \"2013-03-21\", \"2013-03-22\", \"2013-03-23\", \"2013-03-24\", \"2013-03-25\", \"2013-03-26\", \"2013-03-27\", \"2013-03-28\", \"2013-03-29\", \"2013-03-30\", \"2013-03-31\", \"2013-04-01\", \"2013-04-02\", \"2013-04-03\", \"2013-04-04\", \"2013-04-05\", \"2013-04-06\", \"2013-04-07\", \"2013-04-08\", \"2013-04-09\", \"2013-04-10\", \"2013-04-11\", \"2013-04-12\", \"2013-04-13\", \"2013-04-14\", \"2013-04-15\", \"2013-04-16\", \"2013-04-17\", \"2013-04-18\", \"2013-04-19\", \"2013-04-20\", \"2013-04-21\", \"2013-04-22\", \"2013-04-23\", \"2013-04-24\", \"2013-04-25\", \"2013-04-26\", \"2013-04-27\", \"2013-04-28\", \"2013-04-29\", \"2013-04-30\", \"2013-05-01\", \"2013-05-02\", \"2013-05-03\", \"2013-05-04\", \"2013-05-05\", \"2013-05-06\", \"2013-05-07\", \"2013-05-08\", \"2013-05-09\", \"2013-05-10\", \"2013-05-11\", \"2013-05-12\", \"2013-05-13\", \"2013-05-14\", \"2013-05-15\", \"2013-05-16\", \"2013-05-17\", \"2013-05-18\", \"2013-05-19\", \"2013-05-20\", \"2013-05-21\", \"2013-05-22\", \"2013-05-23\", \"2013-05-24\", \"2013-05-25\", \"2013-05-26\", \"2013-05-27\", \"2013-05-28\", \"2013-05-29\", \"2013-05-30\", \"2013-05-31\", \"2013-06-01\", \"2013-06-02\", \"2013-06-03\", \"2013-06-04\", \"2013-06-05\", \"2013-06-06\", \"2013-06-07\", \"2013-06-08\", \"2013-06-09\", \"2013-06-10\", \"2013-06-11\", \"2013-06-12\", \"2013-06-13\", \"2013-06-14\", \"2013-06-15\", \"2013-06-16\", \"2013-06-17\", \"2013-06-18\", \"2013-06-19\", \"2013-06-20\", \"2013-06-21\", \"2013-06-22\", \"2013-06-23\", \"2013-06-24\", \"2013-06-25\", \"2013-06-26\", \"2013-06-27\", \"2013-06-28\", \"2013-06-29\", \"2013-06-30\", \"2013-07-01\", \"2013-07-02\", \"2013-07-03\", \"2013-07-04\", \"2013-07-05\", \"2013-07-06\", \"2013-07-07\", \"2013-07-08\", \"2013-07-09\", \"2013-07-10\", \"2013-07-11\", \"2013-07-12\", \"2013-07-13\", \"2013-07-14\", \"2013-07-15\", \"2013-07-16\", \"2013-07-17\", \"2013-07-18\", \"2013-07-19\", \"2013-07-20\", \"2013-07-21\", \"2013-07-22\", \"2013-07-23\", \"2013-07-24\", \"2013-07-25\", \"2013-07-26\", \"2013-07-27\", \"2013-07-28\", \"2013-07-29\", \"2013-07-30\", \"2013-07-31\", \"2013-08-01\", \"2013-08-02\", \"2013-08-03\", \"2013-08-04\", \"2013-08-05\", \"2013-08-06\", \"2013-08-07\", \"2013-08-08\", \"2013-08-09\", \"2013-08-10\", \"2013-08-11\", \"2013-08-12\", \"2013-08-13\", \"2013-08-14\", \"2013-08-15\", \"2013-08-16\", \"2013-08-17\", \"2013-08-18\", \"2013-08-19\", \"2013-08-20\", \"2013-08-21\", \"2013-08-22\", \"2013-08-23\", \"2013-08-24\", \"2013-08-25\", \"2013-08-26\", \"2013-08-27\", \"2013-08-28\", \"2013-08-29\", \"2013-08-30\", \"2013-08-31\", \"2013-09-01\", \"2013-09-02\", \"2013-09-03\", \"2013-09-04\", \"2013-09-05\", \"2013-09-06\", \"2013-09-07\", \"2013-09-08\", \"2013-09-09\", \"2013-09-10\", \"2013-09-11\", \"2013-09-12\", \"2013-09-13\", \"2013-09-14\", \"2013-09-15\", \"2013-09-16\", \"2013-09-17\", \"2013-09-18\", \"2013-09-19\", \"2013-09-20\", \"2013-09-21\", \"2013-09-22\", \"2013-09-23\", \"2013-09-24\", \"2013-09-25\", \"2013-09-26\", \"2013-09-27\", \"2013-09-28\", \"2013-09-29\", \"2013-09-30\", \"2013-10-01\", \"2013-10-02\", \"2013-10-03\", \"2013-10-04\", \"2013-10-05\", \"2013-10-06\", \"2013-10-07\", \"2013-10-08\", \"2013-10-09\", \"2013-10-10\", \"2013-10-11\", \"2013-10-12\", \"2013-10-13\", \"2013-10-14\", \"2013-10-15\", \"2013-10-16\", \"2013-10-17\", \"2013-10-18\", \"2013-10-19\", \"2013-10-20\", \"2013-10-21\", \"2013-10-22\", \"2013-10-23\", \"2013-10-24\", \"2013-10-25\", \"2013-10-26\", \"2013-10-27\", \"2013-10-28\", \"2013-10-29\", \"2013-10-30\", \"2013-10-31\", \"2013-11-01\", \"2013-11-02\", \"2013-11-03\", \"2013-11-04\", \"2013-11-05\", \"2013-11-06\", \"2013-11-07\", \"2013-11-08\", \"2013-11-09\", \"2013-11-10\", \"2013-11-11\", \"2013-11-12\", \"2013-11-13\", \"2013-11-14\", \"2013-11-15\", \"2013-11-16\", \"2013-11-17\", \"2013-11-18\", \"2013-11-19\", \"2013-11-20\", \"2013-11-21\", \"2013-11-22\", \"2013-11-23\", \"2013-11-24\", \"2013-11-25\", \"2013-11-26\", \"2013-11-27\", \"2013-11-28\", \"2013-11-29\", \"2013-11-30\", \"2013-12-01\", \"2013-12-02\", \"2013-12-03\", \"2013-12-04\", \"2013-12-05\", \"2013-12-06\", \"2013-12-07\", \"2013-12-08\", \"2013-12-09\", \"2013-12-10\", \"2013-12-11\", \"2013-12-12\", \"2013-12-13\", \"2013-12-14\", \"2013-12-15\", \"2013-12-16\", \"2013-12-17\", \"2013-12-18\", \"2013-12-19\", \"2013-12-20\", \"2013-12-21\", \"2013-12-22\", \"2013-12-23\", \"2013-12-24\", \"2013-12-25\", \"2013-12-26\", \"2013-12-27\", \"2013-12-28\", \"2013-12-29\", \"2013-12-30\", \"2013-12-31\", \"2014-01-01\", \"2014-01-02\", \"2014-01-03\", \"2014-01-04\", \"2014-01-05\", \"2014-01-06\", \"2014-01-07\", \"2014-01-08\", \"2014-01-09\", \"2014-01-10\", \"2014-01-11\", \"2014-01-12\", \"2014-01-13\", \"2014-01-14\", \"2014-01-15\", \"2014-01-16\", \"2014-01-17\", \"2014-01-18\", \"2014-01-19\", \"2014-01-20\", \"2014-01-21\", \"2014-01-22\", \"2014-01-23\", \"2014-01-24\", \"2014-01-25\", \"2014-01-26\", \"2014-01-27\", \"2014-01-28\", \"2014-01-29\", \"2014-01-30\", \"2014-01-31\", \"2014-02-01\", \"2014-02-02\", \"2014-02-03\", \"2014-02-04\", \"2014-02-05\", \"2014-02-06\", \"2014-02-07\", \"2014-02-08\", \"2014-02-09\", \"2014-02-10\", \"2014-02-11\", \"2014-02-12\", \"2014-02-13\", \"2014-02-14\", \"2014-02-15\", \"2014-02-16\", \"2014-02-17\", \"2014-02-18\", \"2014-02-19\", \"2014-02-20\", \"2014-02-21\", \"2014-02-22\", \"2014-02-23\", \"2014-02-24\", \"2014-02-25\", \"2014-02-26\", \"2014-02-27\", \"2014-02-28\", \"2014-03-01\", \"2014-03-02\", \"2014-03-03\", \"2014-03-04\", \"2014-03-05\", \"2014-03-06\", \"2014-03-07\", \"2014-03-08\", \"2014-03-09\", \"2014-03-10\", \"2014-03-11\", \"2014-03-12\", \"2014-03-13\", \"2014-03-14\", \"2014-03-15\", \"2014-03-16\", \"2014-03-17\", \"2014-03-18\", \"2014-03-19\", \"2014-03-20\", \"2014-03-21\", \"2014-03-22\", \"2014-03-23\", \"2014-03-24\", \"2014-03-25\", \"2014-03-26\", \"2014-03-27\", \"2014-03-28\", \"2014-03-29\", \"2014-03-30\", \"2014-03-31\", \"2014-04-01\", \"2014-04-02\", \"2014-04-03\", \"2014-04-04\", \"2014-04-05\", \"2014-04-06\", \"2014-04-07\", \"2014-04-08\", \"2014-04-09\", \"2014-04-10\", \"2014-04-11\", \"2014-04-12\", \"2014-04-13\", \"2014-04-14\", \"2014-04-15\", \"2014-04-16\", \"2014-04-17\", \"2014-04-18\", \"2014-04-19\", \"2014-04-20\", \"2014-04-21\", \"2014-04-22\", \"2014-04-23\", \"2014-04-24\", \"2014-04-25\", \"2014-04-26\", \"2014-04-27\", \"2014-04-28\", \"2014-04-29\", \"2014-04-30\", \"2014-05-01\", \"2014-05-02\", \"2014-05-03\", \"2014-05-04\", \"2014-05-05\", \"2014-05-06\", \"2014-05-07\", \"2014-05-08\", \"2014-05-09\", \"2014-05-10\", \"2014-05-11\", \"2014-05-12\", \"2014-05-13\", \"2014-05-14\", \"2014-05-15\", \"2014-05-16\", \"2014-05-17\", \"2014-05-18\", \"2014-05-19\", \"2014-05-20\", \"2014-05-21\", \"2014-05-22\", \"2014-05-23\", \"2014-05-24\", \"2014-05-25\", \"2014-05-26\", \"2014-05-27\", \"2014-05-28\", \"2014-05-29\", \"2014-05-30\", \"2014-05-31\", \"2014-06-01\", \"2014-06-02\", \"2014-06-03\", \"2014-06-04\", \"2014-06-05\", \"2014-06-06\", \"2014-06-07\", \"2014-06-08\", \"2014-06-09\", \"2014-06-10\", \"2014-06-11\", \"2014-06-12\", \"2014-06-13\", \"2014-06-14\", \"2014-06-15\", \"2014-06-16\", \"2014-06-17\", \"2014-06-18\", \"2014-06-19\", \"2014-06-20\", \"2014-06-21\", \"2014-06-22\", \"2014-06-23\", \"2014-06-24\", \"2014-06-25\", \"2014-06-26\", \"2014-06-27\", \"2014-06-28\", \"2014-06-29\", \"2014-06-30\", \"2014-07-01\", \"2014-07-02\", \"2014-07-03\", \"2014-07-04\", \"2014-07-05\", \"2014-07-06\", \"2014-07-07\", \"2014-07-08\", \"2014-07-09\", \"2014-07-10\", \"2014-07-11\", \"2014-07-12\", \"2014-07-13\", \"2014-07-14\", \"2014-07-15\", \"2014-07-16\", \"2014-07-17\", \"2014-07-18\", \"2014-07-19\", \"2014-07-20\", \"2014-07-21\", \"2014-07-22\", \"2014-07-23\", \"2014-07-24\", \"2014-07-25\", \"2014-07-26\", \"2014-07-27\", \"2014-07-28\", \"2014-07-29\", \"2014-07-30\", \"2014-07-31\", \"2014-08-01\", \"2014-08-02\", \"2014-08-03\", \"2014-08-04\", \"2014-08-05\", \"2014-08-06\", \"2014-08-07\", \"2014-08-08\", \"2014-08-09\", \"2014-08-10\", \"2014-08-11\", \"2014-08-12\", \"2014-08-13\", \"2014-08-14\", \"2014-08-15\", \"2014-08-16\", \"2014-08-17\", \"2014-08-18\", \"2014-08-19\", \"2014-08-20\", \"2014-08-21\", \"2014-08-22\", \"2014-08-23\", \"2014-08-24\", \"2014-08-25\", \"2014-08-26\", \"2014-08-27\", \"2014-08-28\", \"2014-08-29\", \"2014-08-30\", \"2014-08-31\", \"2014-09-01\", \"2014-09-02\", \"2014-09-03\", \"2014-09-04\", \"2014-09-05\", \"2014-09-06\", \"2014-09-07\", \"2014-09-08\", \"2014-09-09\", \"2014-09-10\", \"2014-09-11\", \"2014-09-12\", \"2014-09-13\", \"2014-09-14\", \"2014-09-15\", \"2014-09-16\", \"2014-09-17\", \"2014-09-18\", \"2014-09-19\", \"2014-09-20\", \"2014-09-21\", \"2014-09-22\", \"2014-09-23\", \"2014-09-24\", \"2014-09-25\", \"2014-09-26\", \"2014-09-27\", \"2014-09-28\", \"2014-09-29\", \"2014-09-30\", \"2014-10-01\", \"2014-10-02\", \"2014-10-03\", \"2014-10-04\", \"2014-10-05\", \"2014-10-06\", \"2014-10-07\", \"2014-10-08\", \"2014-10-09\", \"2014-10-10\", \"2014-10-11\", \"2014-10-12\", \"2014-10-13\", \"2014-10-14\", \"2014-10-15\", \"2014-10-16\", \"2014-10-17\", \"2014-10-18\", \"2014-10-19\", \"2014-10-20\", \"2014-10-21\", \"2014-10-22\", \"2014-10-23\", \"2014-10-24\", \"2014-10-25\", \"2014-10-26\", \"2014-10-27\", \"2014-10-28\", \"2014-10-29\", \"2014-10-30\", \"2014-10-31\", \"2014-11-01\", \"2014-11-02\", \"2014-11-03\", \"2014-11-04\", \"2014-11-05\", \"2014-11-06\", \"2014-11-07\", \"2014-11-08\", \"2014-11-09\", \"2014-11-10\", \"2014-11-11\", \"2014-11-12\", \"2014-11-13\", \"2014-11-14\", \"2014-11-15\", \"2014-11-16\", \"2014-11-17\", \"2014-11-18\", \"2014-11-19\", \"2014-11-20\", \"2014-11-21\", \"2014-11-22\", \"2014-11-23\", \"2014-11-24\", \"2014-11-25\", \"2014-11-26\", \"2014-11-27\", \"2014-11-28\", \"2014-11-29\", \"2014-11-30\", \"2014-12-01\", \"2014-12-02\", \"2014-12-03\", \"2014-12-04\", \"2014-12-05\", \"2014-12-06\", \"2014-12-07\", \"2014-12-08\", \"2014-12-09\", \"2014-12-10\", \"2014-12-11\", \"2014-12-12\", \"2014-12-13\", \"2014-12-14\", \"2014-12-15\", \"2014-12-16\", \"2014-12-17\", \"2014-12-18\", \"2014-12-19\", \"2014-12-20\", \"2014-12-21\", \"2014-12-22\", \"2014-12-23\", \"2014-12-24\", \"2014-12-25\", \"2014-12-26\", \"2014-12-27\", \"2014-12-28\", \"2014-12-29\", \"2014-12-30\", \"2014-12-31\", \"2015-01-01\", \"2015-01-02\", \"2015-01-03\", \"2015-01-04\", \"2015-01-05\", \"2015-01-06\", \"2015-01-07\", \"2015-01-08\", \"2015-01-09\", \"2015-01-10\", \"2015-01-11\", \"2015-01-12\", \"2015-01-13\", \"2015-01-14\", \"2015-01-15\", \"2015-01-16\", \"2015-01-17\", \"2015-01-18\", \"2015-01-19\", \"2015-01-20\", \"2015-01-21\", \"2015-01-22\", \"2015-01-23\", \"2015-01-24\", \"2015-01-25\", \"2015-01-26\", \"2015-01-27\", \"2015-01-28\", \"2015-01-29\", \"2015-01-30\", \"2015-01-31\", \"2015-02-01\", \"2015-02-02\", \"2015-02-03\", \"2015-02-04\", \"2015-02-05\", \"2015-02-06\", \"2015-02-07\", \"2015-02-08\", \"2015-02-09\", \"2015-02-10\", \"2015-02-11\", \"2015-02-12\", \"2015-02-13\", \"2015-02-14\", \"2015-02-15\", \"2015-02-16\", \"2015-02-17\", \"2015-02-18\", \"2015-02-19\", \"2015-02-20\", \"2015-02-21\", \"2015-02-22\", \"2015-02-23\", \"2015-02-24\", \"2015-02-25\", \"2015-02-26\", \"2015-02-27\", \"2015-02-28\", \"2015-03-01\", \"2015-03-02\", \"2015-03-03\", \"2015-03-04\", \"2015-03-05\", \"2015-03-06\", \"2015-03-07\", \"2015-03-08\", \"2015-03-09\", \"2015-03-10\", \"2015-03-11\", \"2015-03-12\", \"2015-03-13\", \"2015-03-14\", \"2015-03-15\", \"2015-03-16\", \"2015-03-17\", \"2015-03-18\", \"2015-03-19\", \"2015-03-20\", \"2015-03-21\", \"2015-03-22\", \"2015-03-23\", \"2015-03-24\", \"2015-03-25\", \"2015-03-26\", \"2015-03-27\", \"2015-03-28\", \"2015-03-29\", \"2015-03-30\", \"2015-03-31\", \"2015-04-01\", \"2015-04-02\", \"2015-04-03\", \"2015-04-04\", \"2015-04-05\", \"2015-04-06\", \"2015-04-07\", \"2015-04-08\", \"2015-04-09\", \"2015-04-10\", \"2015-04-11\", \"2015-04-12\", \"2015-04-13\", \"2015-04-14\", \"2015-04-15\", \"2015-04-16\", \"2015-04-17\", \"2015-04-18\", \"2015-04-19\", \"2015-04-20\", \"2015-04-21\", \"2015-04-22\", \"2015-04-23\", \"2015-04-24\", \"2015-04-25\", \"2015-04-26\", \"2015-04-27\", \"2015-04-28\", \"2015-04-29\", \"2015-04-30\", \"2015-05-01\", \"2015-05-02\", \"2015-05-03\", \"2015-05-04\", \"2015-05-05\", \"2015-05-06\", \"2015-05-07\", \"2015-05-08\", \"2015-05-09\", \"2015-05-10\", \"2015-05-11\", \"2015-05-12\", \"2015-05-13\", \"2015-05-14\", \"2015-05-15\", \"2015-05-16\", \"2015-05-17\", \"2015-05-18\", \"2015-05-19\", \"2015-05-20\", \"2015-05-21\", \"2015-05-22\", \"2015-05-23\", \"2015-05-24\", \"2015-05-25\", \"2015-05-26\", \"2015-05-27\", \"2015-05-28\", \"2015-05-29\", \"2015-05-30\", \"2015-05-31\", \"2015-06-01\", \"2015-06-02\", \"2015-06-03\", \"2015-06-04\", \"2015-06-05\", \"2015-06-06\", \"2015-06-07\", \"2015-06-08\", \"2015-06-09\", \"2015-06-10\", \"2015-06-11\", \"2015-06-12\", \"2015-06-13\", \"2015-06-14\", \"2015-06-15\", \"2015-06-16\", \"2015-06-17\", \"2015-06-18\", \"2015-06-19\", \"2015-06-20\", \"2015-06-21\", \"2015-06-22\", \"2015-06-23\", \"2015-06-24\", \"2015-06-25\", \"2015-06-26\", \"2015-06-27\", \"2015-06-28\", \"2015-06-29\", \"2015-06-30\", \"2015-07-01\", \"2015-07-02\", \"2015-07-03\", \"2015-07-04\", \"2015-07-05\", \"2015-07-06\", \"2015-07-07\", \"2015-07-08\", \"2015-07-09\", \"2015-07-10\", \"2015-07-11\", \"2015-07-12\", \"2015-07-13\", \"2015-07-14\", \"2015-07-15\", \"2015-07-16\", \"2015-07-17\", \"2015-07-18\", \"2015-07-19\", \"2015-07-20\", \"2015-07-21\", \"2015-07-22\", \"2015-07-23\", \"2015-07-24\", \"2015-07-25\", \"2015-07-26\", \"2015-07-27\", \"2015-07-28\", \"2015-07-29\", \"2015-07-30\", \"2015-07-31\", \"2015-08-01\", \"2015-08-02\", \"2015-08-03\", \"2015-08-04\", \"2015-08-05\", \"2015-08-07\", \"2015-08-08\", \"2015-08-09\", \"2015-08-10\", \"2015-08-11\", \"2015-08-12\", \"2015-08-13\", \"2015-08-14\", \"2015-08-15\", \"2015-08-16\", \"2015-08-17\", \"2015-08-18\", \"2015-08-19\", \"2015-08-20\", \"2015-08-21\", \"2015-08-22\", \"2015-08-23\", \"2015-08-24\", \"2015-08-25\", \"2015-08-26\", \"2015-08-27\", \"2015-08-28\", \"2015-08-29\", \"2015-08-30\", \"2015-08-31\", \"2015-09-01\", \"2015-09-02\", \"2015-09-03\", \"2015-09-04\", \"2015-09-05\", \"2015-09-06\", \"2015-09-07\", \"2015-09-08\", \"2015-09-09\", \"2015-09-10\", \"2015-09-11\", \"2015-09-12\", \"2015-09-13\", \"2015-09-14\", \"2015-09-15\", \"2015-09-16\", \"2015-09-17\", \"2015-09-18\", \"2015-09-19\", \"2015-09-20\", \"2015-09-21\", \"2015-09-22\", \"2015-09-23\", \"2015-09-24\", \"2015-09-25\", \"2015-09-26\", \"2015-09-27\", \"2015-09-28\", \"2015-09-29\", \"2015-09-30\", \"2015-10-01\", \"2015-10-02\", \"2015-10-03\", \"2015-10-04\", \"2015-10-05\", \"2015-10-06\", \"2015-10-07\", \"2015-10-08\", \"2015-10-09\", \"2015-10-10\", \"2015-10-11\", \"2015-10-12\", \"2015-10-13\", \"2015-10-14\", \"2015-10-15\", \"2015-10-16\", \"2015-10-17\", \"2015-10-18\", \"2015-10-19\", \"2015-10-20\", \"2015-10-21\", \"2015-10-22\", \"2015-10-23\", \"2015-10-24\", \"2015-10-25\", \"2015-10-26\", \"2015-10-27\", \"2015-10-28\", \"2015-10-29\", \"2015-10-30\", \"2015-10-31\", \"2015-11-01\", \"2015-11-02\", \"2015-11-03\", \"2015-11-04\", \"2015-11-05\", \"2015-11-06\", \"2015-11-07\", \"2015-11-08\", \"2015-11-09\", \"2015-11-10\", \"2015-11-11\", \"2015-11-12\", \"2015-11-13\", \"2015-11-14\", \"2015-11-15\", \"2015-11-16\", \"2015-11-17\", \"2015-11-18\", \"2015-11-19\", \"2015-11-20\", \"2015-11-21\", \"2015-11-22\", \"2015-11-23\", \"2015-11-24\", \"2015-11-25\", \"2015-11-27\", \"2015-11-28\", \"2015-11-29\", \"2015-11-30\", \"2015-12-01\", \"2015-12-02\", \"2015-12-03\", \"2015-12-04\", \"2015-12-05\", \"2015-12-06\", \"2015-12-07\", \"2015-12-08\", \"2015-12-09\", \"2015-12-10\", \"2015-12-11\", \"2015-12-12\", \"2015-12-13\", \"2015-12-14\", \"2015-12-15\", \"2015-12-16\", \"2015-12-17\", \"2015-12-18\", \"2015-12-19\", \"2015-12-20\", \"2015-12-21\", \"2015-12-22\", \"2015-12-23\", \"2015-12-24\", \"2015-12-25\", \"2015-12-26\", \"2015-12-27\", \"2015-12-28\", \"2015-12-29\", \"2015-12-30\", \"2015-12-31\", \"2016-01-01\", \"2016-01-02\", \"2016-01-03\", \"2016-01-04\", \"2016-01-05\", \"2016-01-06\", \"2016-01-07\", \"2016-01-08\", \"2016-01-09\", \"2016-01-10\", \"2016-01-11\", \"2016-01-12\", \"2016-01-13\", \"2016-01-14\", \"2016-01-15\", \"2016-01-16\", \"2016-01-17\", \"2016-01-18\", \"2016-01-19\", \"2016-01-20\", \"2016-01-21\", \"2016-01-22\", \"2016-01-23\", \"2016-01-24\", \"2016-01-25\", \"2016-01-26\", \"2016-01-27\", \"2016-01-28\", \"2016-01-29\", \"2016-01-30\", \"2016-01-31\", \"2016-02-01\", \"2016-02-02\", \"2016-02-03\", \"2016-02-04\", \"2016-02-05\", \"2016-02-06\", \"2016-02-07\", \"2016-02-08\", \"2016-02-09\", \"2016-02-10\", \"2016-02-11\", \"2016-02-12\", \"2016-02-13\", \"2016-02-14\", \"2016-02-15\", \"2016-02-16\", \"2016-02-17\", \"2016-02-18\", \"2016-02-19\", \"2016-02-20\", \"2016-02-21\", \"2016-02-22\", \"2016-02-23\", \"2016-02-24\", \"2016-02-25\", \"2016-02-26\", \"2016-02-27\", \"2016-02-28\", \"2016-02-29\", \"2016-03-01\", \"2016-03-02\", \"2016-03-03\", \"2016-03-04\", \"2016-03-05\", \"2016-03-06\", \"2016-03-07\", \"2016-03-08\", \"2016-03-09\", \"2016-03-10\", \"2016-03-11\", \"2016-03-12\", \"2016-03-13\", \"2016-03-14\", \"2016-03-15\", \"2016-03-16\", \"2016-03-17\", \"2016-03-18\", \"2016-03-19\", \"2016-03-20\", \"2016-03-21\", \"2016-03-22\", \"2016-03-23\", \"2016-03-24\", \"2016-03-25\", \"2016-03-26\", \"2016-03-27\", \"2016-03-28\", \"2016-03-29\", \"2016-03-30\", \"2016-03-31\", \"2016-04-01\", \"2016-04-02\", \"2016-04-03\", \"2016-04-04\", \"2016-04-05\", \"2016-04-06\", \"2016-04-07\", \"2016-04-08\", \"2016-04-09\", \"2016-04-10\", \"2016-04-11\", \"2016-04-12\", \"2016-04-13\", \"2016-04-14\", \"2016-04-15\", \"2016-04-16\", \"2016-04-17\", \"2016-04-18\", \"2016-04-19\", \"2016-04-20\", \"2016-04-21\", \"2016-04-22\", \"2016-04-23\", \"2016-04-24\", \"2016-04-25\", \"2016-04-26\", \"2016-04-27\", \"2016-04-28\", \"2016-04-29\", \"2016-04-30\", \"2016-05-01\", \"2016-05-02\", \"2016-05-03\", \"2016-05-04\", \"2016-05-05\", \"2016-05-06\", \"2016-05-07\", \"2016-05-08\", \"2016-05-09\", \"2016-05-10\", \"2016-05-11\", \"2016-05-12\", \"2016-05-13\", \"2016-05-14\", \"2016-05-15\", \"2016-05-16\", \"2016-05-17\", \"2016-05-18\", \"2016-05-19\", \"2016-05-20\", \"2016-05-21\", \"2016-05-22\", \"2016-05-23\", \"2016-05-24\", \"2016-05-25\", \"2016-05-26\", \"2016-05-27\", \"2016-05-28\", \"2016-05-29\", \"2016-05-30\", \"2016-05-31\", \"2016-06-01\", \"2016-06-02\", \"2016-06-03\", \"2016-06-04\", \"2016-06-05\", \"2016-06-06\", \"2016-06-07\", \"2016-06-08\", \"2016-06-09\", \"2016-06-10\", \"2016-06-11\", \"2016-06-12\", \"2016-06-13\", \"2016-06-14\", \"2016-06-15\", \"2016-06-16\", \"2016-06-17\", \"2016-06-18\", \"2016-06-19\", \"2016-06-20\", \"2016-06-21\", \"2016-06-22\", \"2016-06-23\", \"2016-06-24\", \"2016-06-25\", \"2016-06-26\", \"2016-06-27\", \"2016-06-28\", \"2016-06-29\", \"2016-06-30\", \"2016-07-01\", \"2016-07-02\", \"2016-07-03\", \"2016-07-04\", \"2016-07-05\", \"2016-07-06\", \"2016-07-07\", \"2016-07-08\", \"2016-07-09\", \"2016-07-10\", \"2016-07-11\", \"2016-07-12\", \"2016-07-13\", \"2016-07-14\", \"2016-07-15\", \"2016-07-16\", \"2016-07-17\", \"2016-07-18\", \"2016-07-19\", \"2016-07-20\", \"2016-07-21\", \"2016-07-22\", \"2016-07-23\", \"2016-07-24\", \"2016-07-25\", \"2016-07-26\", \"2016-07-27\", \"2016-07-28\", \"2016-07-29\", \"2016-07-30\", \"2016-07-31\", \"2016-08-01\", \"2016-08-02\", \"2016-08-03\", \"2016-08-04\", \"2016-08-05\", \"2016-08-06\", \"2016-08-07\", \"2016-08-08\", \"2016-08-09\", \"2016-08-10\", \"2016-08-11\", \"2016-08-12\", \"2016-08-13\", \"2016-08-14\", \"2016-08-15\", \"2016-08-16\", \"2016-08-17\", \"2016-08-18\", \"2016-08-19\", \"2016-08-20\", \"2016-08-21\", \"2016-08-22\", \"2016-08-23\", \"2016-08-24\", \"2016-08-25\", \"2016-08-26\", \"2016-08-27\", \"2016-08-28\", \"2016-08-29\", \"2016-08-30\", \"2016-08-31\", \"2016-09-01\", \"2016-09-02\", \"2016-09-03\", \"2016-09-04\", \"2016-09-05\", \"2016-09-06\", \"2016-09-07\", \"2016-09-08\", \"2016-09-09\", \"2016-09-10\", \"2016-09-11\", \"2016-09-12\", \"2016-09-13\", \"2016-09-14\", \"2016-09-15\", \"2016-09-16\", \"2016-09-17\", \"2016-09-18\", \"2016-09-19\", \"2016-09-20\", \"2016-09-21\", \"2016-09-22\", \"2016-09-23\", \"2016-09-24\", \"2016-09-25\", \"2016-09-26\", \"2016-09-27\", \"2016-09-28\", \"2016-09-29\", \"2016-09-30\", \"2016-10-01\", \"2016-10-02\", \"2016-10-03\", \"2016-10-04\", \"2016-10-05\", \"2016-10-06\", \"2016-10-07\", \"2016-10-08\", \"2016-10-09\", \"2016-10-10\", \"2016-10-11\", \"2016-10-12\", \"2016-10-13\", \"2016-10-14\", \"2016-10-15\", \"2016-10-16\", \"2016-10-17\", \"2016-10-18\", \"2016-10-19\", \"2016-10-20\", \"2016-10-21\", \"2016-10-22\", \"2016-10-23\", \"2016-10-24\", \"2016-10-25\", \"2016-10-26\", \"2016-10-27\", \"2016-10-28\", \"2016-10-29\", \"2016-10-30\", \"2016-10-31\", \"2016-11-01\", \"2016-11-02\", \"2016-11-03\", \"2016-11-04\", \"2016-11-05\", \"2016-11-06\", \"2016-11-07\", \"2016-11-08\", \"2016-11-09\", \"2016-11-10\", \"2016-11-11\", \"2016-11-12\", \"2016-11-13\", \"2016-11-14\", \"2016-11-15\", \"2016-11-16\", \"2016-11-17\", \"2016-11-18\", \"2016-11-19\", \"2016-11-20\", \"2016-11-21\", \"2016-11-22\", \"2016-11-23\", \"2016-11-24\", \"2016-11-25\", \"2016-11-26\", \"2016-11-27\", \"2016-11-28\", \"2016-11-29\", \"2016-11-30\", \"2016-12-01\", \"2016-12-02\", \"2016-12-03\", \"2016-12-04\", \"2016-12-05\", \"2016-12-06\", \"2016-12-07\", \"2016-12-08\", \"2016-12-09\", \"2016-12-10\", \"2016-12-11\", \"2016-12-12\", \"2016-12-13\", \"2016-12-14\", \"2016-12-15\", \"2016-12-16\", \"2016-12-17\", \"2016-12-18\", \"2016-12-19\", \"2016-12-20\", \"2016-12-21\", \"2016-12-22\", \"2016-12-23\", \"2016-12-24\", \"2016-12-25\", \"2016-12-26\", \"2016-12-27\", \"2016-12-28\", \"2016-12-29\", \"2016-12-30\", \"2016-12-31\", \"2017-01-01\", \"2017-01-02\", \"2017-01-03\", \"2017-01-04\", \"2017-01-05\", \"2017-01-06\", \"2017-01-07\", \"2017-01-08\", \"2017-01-09\", \"2017-01-10\", \"2017-01-11\", \"2017-01-12\", \"2017-01-13\", \"2017-01-14\", \"2017-01-15\", \"2017-01-16\", \"2017-01-17\", \"2017-01-18\", \"2017-01-19\", \"2017-01-20\", \"2017-01-21\", \"2017-01-22\", \"2017-01-23\", \"2017-01-24\", \"2017-01-25\", \"2017-01-26\", \"2017-01-27\", \"2017-01-28\", \"2017-01-29\", \"2017-01-30\", \"2017-01-31\", \"2017-02-01\", \"2017-02-02\", \"2017-02-03\", \"2017-02-04\", \"2017-02-05\", \"2017-02-06\", \"2017-02-07\", \"2017-02-08\", \"2017-02-09\", \"2017-02-10\", \"2017-02-11\", \"2017-02-12\", \"2017-02-13\", \"2017-02-14\", \"2017-02-15\", \"2017-02-16\", \"2017-02-17\", \"2017-02-18\", \"2017-02-19\", \"2017-02-20\", \"2017-02-21\", \"2017-02-22\", \"2017-02-23\", \"2017-02-24\", \"2017-02-25\", \"2017-02-26\", \"2017-02-27\", \"2017-02-28\", \"2017-03-01\", \"2017-03-02\", \"2017-03-03\", \"2017-03-04\", \"2017-03-05\", \"2017-03-06\", \"2017-03-07\", \"2017-03-08\", \"2017-03-09\", \"2017-03-10\", \"2017-03-11\", \"2017-03-12\", \"2017-03-13\", \"2017-03-14\", \"2017-03-15\", \"2017-03-16\", \"2017-03-17\", \"2017-03-18\", \"2017-03-19\", \"2017-03-20\", \"2017-03-21\", \"2017-03-22\", \"2017-03-23\", \"2017-03-24\", \"2017-03-25\", \"2017-03-26\", \"2017-03-27\", \"2017-03-28\", \"2017-03-29\", \"2017-03-30\", \"2017-03-31\", \"2017-04-01\", \"2017-04-02\", \"2017-04-03\", \"2017-04-04\", \"2017-04-05\", \"2017-04-06\", \"2017-04-07\", \"2017-04-08\", \"2017-04-09\", \"2017-04-10\", \"2017-04-11\", \"2017-04-12\", \"2017-04-13\", \"2017-04-14\", \"2017-04-15\", \"2017-04-16\", \"2017-04-17\", \"2017-04-18\", \"2017-04-19\", \"2017-04-20\", \"2017-04-21\", \"2017-04-22\", \"2017-04-23\", \"2017-04-24\", \"2017-04-25\", \"2017-04-26\", \"2017-04-27\", \"2017-04-28\", \"2017-04-29\", \"2017-04-30\", \"2017-05-01\", \"2017-05-02\", \"2017-05-03\", \"2017-05-04\", \"2017-05-05\", \"2017-05-06\", \"2017-05-07\", \"2017-05-08\", \"2017-05-09\", \"2017-05-10\", \"2017-05-11\", \"2017-05-12\", \"2017-05-13\", \"2017-05-14\", \"2017-05-15\", \"2017-05-16\", \"2017-05-17\", \"2017-05-18\", \"2017-05-19\", \"2017-05-20\", \"2017-05-21\", \"2017-05-22\", \"2017-05-23\", \"2017-05-24\", \"2017-05-25\", \"2017-05-26\", \"2017-05-27\", \"2017-05-28\", \"2017-05-29\", \"2017-05-30\", \"2017-05-31\", \"2017-06-01\", \"2017-06-02\", \"2017-06-03\", \"2017-06-04\", \"2017-06-05\", \"2017-06-06\", \"2017-06-07\", \"2017-06-08\", \"2017-06-09\", \"2017-06-10\", \"2017-06-11\", \"2017-06-12\", \"2017-06-13\", \"2017-06-14\", \"2017-06-15\", \"2017-06-16\", \"2017-06-17\", \"2017-06-18\", \"2017-06-19\", \"2017-06-20\", \"2017-06-21\", \"2017-06-22\", \"2017-06-23\", \"2017-06-24\", \"2017-06-25\", \"2017-06-26\", \"2017-06-27\", \"2017-06-28\", \"2017-06-29\", \"2017-06-30\", \"2017-07-01\", \"2017-07-02\", \"2017-07-03\", \"2017-07-04\", \"2017-07-05\", \"2017-07-06\", \"2017-07-07\", \"2017-07-08\", \"2017-07-09\", \"2017-07-10\", \"2017-07-11\", \"2017-07-12\", \"2017-07-13\", \"2017-07-14\", \"2017-07-15\", \"2017-07-16\", \"2017-07-17\", \"2017-07-18\", \"2017-07-19\", \"2017-07-20\", \"2017-07-21\", \"2017-07-22\", \"2017-07-23\", \"2017-07-24\", \"2017-07-25\", \"2017-07-26\", \"2017-07-27\", \"2017-07-28\", \"2017-07-29\", \"2017-07-30\", \"2017-07-31\", \"2017-08-01\", \"2017-08-02\", \"2017-08-03\", \"2017-08-04\", \"2017-08-05\", \"2017-08-06\", \"2017-08-07\", \"2017-08-08\", \"2017-08-09\", \"2017-08-10\", \"2017-08-11\", \"2017-08-12\", \"2017-08-13\", \"2017-08-14\", \"2017-08-15\", \"2017-08-16\", \"2017-08-17\", \"2017-08-18\", \"2017-08-19\", \"2017-08-20\", \"2017-08-21\", \"2017-08-22\", \"2017-08-23\", \"2017-08-24\", \"2017-08-25\", \"2017-08-26\", \"2017-08-27\", \"2017-08-28\", \"2017-08-29\", \"2017-08-30\", \"2017-08-31\", \"2017-09-01\", \"2017-09-02\", \"2017-09-03\", \"2017-09-04\", \"2017-09-05\", \"2017-09-06\", \"2017-09-07\", \"2017-09-08\", \"2017-09-09\", \"2017-09-10\", \"2017-09-11\", \"2017-09-12\", \"2017-09-13\", \"2017-09-14\", \"2017-09-15\", \"2017-09-16\", \"2017-09-17\", \"2017-09-18\", \"2017-09-19\", \"2017-09-20\", \"2017-09-21\", \"2017-09-22\", \"2017-09-23\", \"2017-09-24\", \"2017-09-25\", \"2017-09-26\", \"2017-09-27\", \"2017-09-28\", \"2017-09-29\", \"2017-09-30\", \"2017-10-01\", \"2017-10-02\", \"2017-10-03\", \"2017-10-04\", \"2017-10-05\", \"2017-10-06\", \"2017-10-07\", \"2017-10-08\", \"2017-10-09\", \"2017-10-10\", \"2017-10-11\", \"2017-10-12\", \"2017-10-13\", \"2017-10-14\", \"2017-10-15\", \"2017-10-16\", \"2017-10-17\", \"2017-10-18\", \"2017-10-19\", \"2017-10-20\", \"2017-10-21\", \"2017-10-22\", \"2017-10-23\", \"2017-10-24\", \"2017-10-25\", \"2017-10-26\", \"2017-10-27\", \"2017-10-28\", \"2017-10-29\", \"2017-10-30\", \"2017-10-31\", \"2017-11-01\", \"2017-11-02\", \"2017-11-03\", \"2017-11-04\", \"2017-11-05\", \"2017-11-06\", \"2017-11-07\", \"2017-11-08\", \"2017-11-09\", \"2017-11-10\", \"2017-11-11\", \"2017-11-12\", \"2017-11-13\", \"2017-11-14\", \"2017-11-15\", \"2017-11-16\", \"2017-11-17\", \"2017-11-18\", \"2017-11-19\", \"2017-11-20\", \"2017-11-21\", \"2017-11-22\", \"2017-11-23\", \"2017-11-24\", \"2017-11-25\", \"2017-11-26\", \"2017-11-27\", \"2017-11-28\", \"2017-11-29\", \"2017-11-30\", \"2017-12-01\", \"2017-12-02\", \"2017-12-03\", \"2017-12-04\", \"2017-12-05\", \"2017-12-06\", \"2017-12-07\", \"2017-12-08\", \"2017-12-09\", \"2017-12-10\", \"2017-12-11\", \"2017-12-12\", \"2017-12-13\", \"2017-12-14\", \"2017-12-15\", \"2017-12-16\", \"2017-12-17\", \"2017-12-18\", \"2017-12-19\", \"2017-12-20\", \"2017-12-21\", \"2017-12-22\", \"2017-12-23\", \"2017-12-24\", \"2017-12-25\", \"2017-12-26\", \"2017-12-27\", \"2017-12-28\", \"2017-12-29\", \"2017-12-30\", \"2017-12-31\", \"2018-01-01\", \"2018-01-02\", \"2018-01-03\", \"2018-01-04\", \"2018-01-05\", \"2018-01-06\", \"2018-01-07\", \"2018-01-08\", \"2018-01-09\", \"2018-01-10\", \"2018-01-11\", \"2018-01-12\", \"2018-01-13\", \"2018-01-14\", \"2018-01-15\", \"2018-01-16\", \"2018-01-17\", \"2018-01-18\", \"2018-01-19\", \"2018-01-20\", \"2018-01-21\", \"2018-01-22\", \"2018-01-23\", \"2018-01-24\", \"2018-01-25\", \"2018-01-26\", \"2018-01-27\", \"2018-01-28\", \"2018-01-29\", \"2018-01-30\", \"2018-01-31\", \"2018-02-01\", \"2018-02-02\", \"2018-02-03\", \"2018-02-04\", \"2018-02-05\", \"2018-02-06\", \"2018-02-07\", \"2018-02-08\", \"2018-02-09\", \"2018-02-10\", \"2018-02-11\", \"2018-02-12\", \"2018-02-13\", \"2018-02-14\", \"2018-02-15\", \"2018-02-16\", \"2018-02-17\", \"2018-02-18\", \"2018-02-19\", \"2018-02-20\", \"2018-02-21\", \"2018-02-22\", \"2018-02-23\", \"2018-02-24\", \"2018-02-25\", \"2018-02-26\", \"2018-02-27\", \"2018-02-28\", \"2018-03-01\", \"2018-03-02\", \"2018-03-03\", \"2018-03-04\", \"2018-03-05\", \"2018-03-06\", \"2018-03-07\", \"2018-03-08\", \"2018-03-09\", \"2018-03-10\", \"2018-03-11\", \"2018-03-12\", \"2018-03-13\", \"2018-03-14\", \"2018-03-15\", \"2018-03-16\", \"2018-03-17\", \"2018-03-18\", \"2018-03-19\", \"2018-03-20\", \"2018-03-21\", \"2018-03-22\", \"2018-03-23\", \"2018-03-24\", \"2018-03-25\", \"2018-03-26\", \"2018-03-27\", \"2018-03-28\", \"2018-03-29\", \"2018-03-30\", \"2018-03-31\", \"2018-04-01\", \"2018-04-02\", \"2018-04-03\", \"2018-04-04\", \"2018-04-05\", \"2018-04-06\", \"2018-04-07\", \"2018-04-08\", \"2018-04-09\", \"2018-04-10\", \"2018-04-11\", \"2018-04-12\", \"2018-04-13\", \"2018-04-14\", \"2018-04-15\", \"2018-04-16\", \"2018-04-17\", \"2018-04-18\", \"2018-04-19\", \"2018-04-20\", \"2018-04-21\", \"2018-04-22\", \"2018-04-23\", \"2018-04-24\", \"2018-04-25\", \"2018-04-26\", \"2018-04-27\", \"2018-04-28\", \"2018-04-29\", \"2018-04-30\", \"2018-05-01\", \"2018-05-02\", \"2018-05-03\", \"2018-05-04\", \"2018-05-05\", \"2018-05-06\", \"2018-05-07\", \"2018-05-08\", \"2018-05-09\", \"2018-05-10\", \"2018-05-11\", \"2018-05-12\", \"2018-05-13\", \"2018-05-14\", \"2018-05-15\", \"2018-05-16\", \"2018-05-17\", \"2018-05-18\", \"2018-05-19\", \"2018-05-20\", \"2018-05-21\", \"2018-05-22\", \"2018-05-23\", \"2018-05-24\", \"2018-05-25\", \"2018-05-26\", \"2018-05-27\", \"2018-05-28\", \"2018-05-29\", \"2018-05-30\", \"2018-05-31\", \"2018-06-01\", \"2018-06-02\", \"2018-06-03\", \"2018-06-04\", \"2018-06-05\", \"2018-06-06\", \"2018-06-07\", \"2018-06-08\", \"2018-06-09\", \"2018-06-10\", \"2018-06-11\", \"2018-06-12\", \"2018-06-13\", \"2018-06-14\", \"2018-06-15\", \"2018-06-16\", \"2018-06-17\", \"2018-06-18\", \"2018-06-19\", \"2018-06-20\", \"2018-06-21\", \"2018-06-22\", \"2018-06-23\", \"2018-06-24\", \"2018-06-25\", \"2018-06-26\", \"2018-06-27\", \"2018-06-28\", \"2018-06-29\", \"2018-06-30\", \"2018-07-01\", \"2018-07-02\", \"2018-07-03\", \"2018-07-04\", \"2018-07-05\", \"2018-07-06\", \"2018-07-07\", \"2018-07-08\", \"2018-07-09\", \"2018-07-10\", \"2018-07-11\", \"2018-07-12\", \"2018-07-13\", \"2018-07-14\", \"2018-07-15\", \"2018-07-16\", \"2018-07-17\", \"2018-07-18\", \"2018-07-19\", \"2018-07-20\", \"2018-07-21\", \"2018-07-22\", \"2018-07-23\", \"2018-07-24\", \"2018-07-25\", \"2018-07-26\", \"2018-07-27\", \"2018-07-28\", \"2018-07-29\", \"2018-07-30\", \"2018-07-31\", \"2018-08-01\", \"2018-08-02\", \"2018-08-03\", \"2018-08-04\", \"2018-08-05\", \"2018-08-06\", \"2018-08-07\", \"2018-08-08\", \"2018-08-09\", \"2018-08-10\", \"2018-08-11\", \"2018-08-12\", \"2018-08-13\", \"2018-08-14\", \"2018-08-15\", \"2018-08-16\", \"2018-08-17\", \"2018-08-18\", \"2018-08-19\", \"2018-08-20\", \"2018-08-21\", \"2018-08-22\", \"2018-08-23\", \"2018-08-24\", \"2018-08-25\", \"2018-08-26\", \"2018-08-27\", \"2018-08-28\", \"2018-08-29\", \"2018-08-30\", \"2018-08-31\", \"2018-09-01\", \"2018-09-02\", \"2018-09-03\", \"2018-09-04\", \"2018-09-05\", \"2018-09-06\", \"2018-09-07\", \"2018-09-08\", \"2018-09-09\", \"2018-09-10\", \"2018-09-11\", \"2018-09-12\", \"2018-09-13\", \"2018-09-14\", \"2018-09-15\", \"2018-09-16\", \"2018-09-17\", \"2018-09-18\", \"2018-09-19\", \"2018-09-20\", \"2018-09-21\", \"2018-09-22\", \"2018-09-23\", \"2018-09-24\", \"2018-09-25\", \"2018-09-26\", \"2018-09-27\", \"2018-09-28\", \"2018-09-29\", \"2018-09-30\", \"2018-10-01\", \"2018-10-02\", \"2018-10-03\", \"2018-10-04\", \"2018-10-05\", \"2018-10-06\", \"2018-10-07\", \"2018-10-08\", \"2018-10-09\", \"2018-10-10\", \"2018-10-11\", \"2018-10-12\", \"2018-10-13\", \"2018-10-14\", \"2018-10-15\", \"2018-10-16\", \"2018-10-17\", \"2018-10-18\", \"2018-10-19\", \"2018-10-20\", \"2018-10-21\", \"2018-10-22\", \"2018-10-23\", \"2018-10-24\", \"2018-10-25\", \"2018-10-26\", \"2018-10-27\", \"2018-10-28\", \"2018-10-29\", \"2018-10-30\", \"2018-10-31\", \"2018-11-01\", \"2018-11-02\", \"2018-11-03\", \"2018-11-04\", \"2018-11-05\", \"2018-11-06\", \"2018-11-07\", \"2018-11-08\", \"2018-11-09\", \"2018-11-10\", \"2018-11-11\", \"2018-11-12\", \"2018-11-13\", \"2018-11-14\", \"2018-11-15\", \"2018-11-16\", \"2018-11-17\", \"2018-11-18\", \"2018-11-19\", \"2018-11-20\", \"2018-11-21\", \"2018-11-22\", \"2018-11-23\", \"2018-11-24\", \"2018-11-25\", \"2018-11-26\", \"2018-11-27\", \"2018-11-28\", \"2018-11-29\", \"2018-11-30\", \"2018-12-01\", \"2018-12-02\", \"2018-12-03\", \"2018-12-04\", \"2018-12-05\", \"2018-12-06\", \"2018-12-07\", \"2018-12-08\", \"2018-12-09\", \"2018-12-10\", \"2018-12-11\", \"2018-12-12\", \"2018-12-13\", \"2018-12-14\", \"2018-12-15\", \"2018-12-16\", \"2018-12-17\", \"2018-12-18\", \"2018-12-19\", \"2018-12-20\", \"2018-12-21\", \"2018-12-22\", \"2018-12-23\", \"2018-12-24\", \"2018-12-25\", \"2018-12-26\", \"2018-12-27\", \"2018-12-28\", \"2018-12-29\", \"2018-12-30\", \"2018-12-31\", \"2019-01-01\", \"2019-01-02\", \"2019-01-03\", \"2019-01-04\", \"2019-01-05\", \"2019-01-06\", \"2019-01-07\", \"2019-01-08\", \"2019-01-09\", \"2019-01-10\", \"2019-01-11\", \"2019-01-12\", \"2019-01-13\", \"2019-01-14\", \"2019-01-15\", \"2019-01-16\", \"2019-01-17\", \"2019-01-18\", \"2019-01-19\", \"2019-01-20\", \"2019-01-21\", \"2019-01-22\", \"2019-01-23\", \"2019-01-24\", \"2019-01-25\", \"2019-01-26\", \"2019-01-27\", \"2019-01-28\", \"2019-01-29\", \"2019-01-30\", \"2019-01-31\", \"2019-02-01\", \"2019-02-02\", \"2019-02-03\", \"2019-02-04\", \"2019-02-05\", \"2019-02-06\", \"2019-02-07\", \"2019-02-08\", \"2019-02-09\", \"2019-02-10\", \"2019-02-11\", \"2019-02-12\", \"2019-02-13\", \"2019-02-14\", \"2019-02-15\", \"2019-02-16\", \"2019-02-17\", \"2019-02-18\", \"2019-02-19\", \"2019-02-20\", \"2019-02-21\", \"2019-02-22\", \"2019-02-23\", \"2019-02-24\", \"2019-02-25\", \"2019-02-26\", \"2019-02-27\", \"2019-02-28\", \"2019-03-01\", \"2019-03-02\", \"2019-03-03\", \"2019-03-04\", \"2019-03-05\", \"2019-03-06\", \"2019-03-07\", \"2019-03-08\", \"2019-03-09\", \"2019-03-10\", \"2019-03-11\", \"2019-03-12\", \"2019-03-13\", \"2019-03-14\", \"2019-03-15\", \"2019-03-16\", \"2019-03-17\", \"2019-03-18\", \"2019-03-19\", \"2019-03-20\", \"2019-03-21\", \"2019-03-22\", \"2019-03-23\", \"2019-03-24\", \"2019-03-25\", \"2019-03-26\", \"2019-03-27\", \"2019-03-28\", \"2019-03-29\", \"2019-03-30\", \"2019-03-31\", \"2019-04-01\", \"2019-04-02\", \"2019-04-03\", \"2019-04-04\", \"2019-04-05\", \"2019-04-06\", \"2019-04-07\", \"2019-04-08\", \"2019-04-09\", \"2019-04-10\", \"2019-04-11\", \"2019-04-12\", \"2019-04-13\", \"2019-04-14\", \"2019-04-15\", \"2019-04-16\", \"2019-04-17\", \"2019-04-18\", \"2019-04-19\", \"2019-04-20\", \"2019-04-21\", \"2019-04-22\", \"2019-04-23\", \"2019-04-24\", \"2019-04-25\", \"2019-04-26\", \"2019-04-27\", \"2019-04-28\", \"2019-04-29\", \"2019-04-30\", \"2019-05-01\", \"2019-05-02\", \"2019-05-03\", \"2019-05-04\", \"2019-05-05\", \"2019-05-06\", \"2019-05-07\", \"2019-05-08\", \"2019-05-09\", \"2019-05-10\", \"2019-05-11\", \"2019-05-12\", \"2019-05-13\", \"2019-05-14\", \"2019-05-15\", \"2019-05-16\", \"2019-05-17\", \"2019-05-18\", \"2019-05-19\", \"2019-05-20\", \"2019-05-21\", \"2019-05-22\", \"2019-05-23\", \"2019-05-24\", \"2019-05-25\", \"2019-05-26\", \"2019-05-27\", \"2019-05-28\", \"2019-05-29\", \"2019-05-30\", \"2019-05-31\", \"2019-06-01\", \"2019-06-02\", \"2019-06-03\", \"2019-06-04\", \"2019-06-05\", \"2019-06-06\", \"2019-06-07\", \"2019-06-08\", \"2019-06-09\", \"2019-06-10\", \"2019-06-11\", \"2019-06-12\", \"2019-06-13\", \"2019-06-14\", \"2019-06-15\", \"2019-06-16\", \"2019-06-17\", \"2019-06-18\", \"2019-06-19\", \"2019-06-20\", \"2019-06-21\", \"2019-06-22\", \"2019-06-23\", \"2019-06-24\", \"2019-06-25\", \"2019-06-26\", \"2019-06-27\", \"2019-06-28\", \"2019-06-29\", \"2019-06-30\", \"2019-07-01\", \"2019-07-02\", \"2019-07-03\", \"2019-07-04\", \"2019-07-05\", \"2019-07-06\", \"2019-07-07\", \"2019-07-08\", \"2019-07-09\", \"2019-07-10\", \"2019-07-11\", \"2019-07-12\", \"2019-07-13\", \"2019-07-14\", \"2019-07-15\", \"2019-07-16\", \"2019-07-17\", \"2019-07-18\", \"2019-07-19\", \"2019-07-20\", \"2019-07-21\", \"2019-07-22\", \"2019-07-23\", \"2019-07-24\", \"2019-07-25\", \"2019-07-26\", \"2019-07-27\", \"2019-07-28\", \"2019-07-29\", \"2019-07-30\", \"2019-07-31\", \"2019-08-01\", \"2019-08-02\", \"2019-08-03\", \"2019-08-04\", \"2019-08-05\", \"2019-08-06\", \"2019-08-07\", \"2019-08-08\", \"2019-08-09\", \"2019-08-10\", \"2019-08-11\", \"2019-08-12\", \"2019-08-13\", \"2019-08-14\", \"2019-08-15\", \"2019-08-16\", \"2019-08-17\", \"2019-08-18\", \"2019-08-19\", \"2019-08-20\", \"2019-08-21\", \"2019-08-22\", \"2019-08-23\", \"2019-08-24\", \"2019-08-25\", \"2019-08-26\", \"2019-08-27\", \"2019-08-28\", \"2019-08-29\", \"2019-08-30\", \"2019-08-31\", \"2019-09-01\", \"2019-09-02\", \"2019-09-03\", \"2019-09-04\", \"2019-09-05\", \"2019-09-06\", \"2019-09-07\", \"2019-09-08\", \"2019-09-09\", \"2019-09-10\", \"2019-09-11\", \"2019-09-12\", \"2019-09-13\", \"2019-09-14\", \"2019-09-15\", \"2019-09-16\", \"2019-09-17\", \"2019-09-18\", \"2019-09-19\"], \"y\": [1, 1, 1, 1, 1, 2, 1, 1, 1, 1, 1, 1, 1, 1, 1, 1, 1, 1, 1, 1, 1, 1, 1, 1, 2, 1, 1, 1, 1, 1, 1, 1, 1, 1, 1, 1, 1, 1, 1, 2, 1, 1, 1, 1, 1, 1, 1, 1, 1, 2, 1, 1, 2, 2, 1, 2, 1, 1, 1, 1, 2, 1, 3, 1, 1, 2, 1, 1, 2, 1, 1, 3, 2, 1, 2, 2, 2, 3, 1, 1, 1, 1, 4, 1, 1, 4, 2, 1, 4, 2, 4, 2, 1, 1, 3, 1, 1, 2, 2, 3, 1, 4, 1, 2, 1, 1, 2, 2, 1, 2, 1, 1, 2, 1, 3, 1, 1, 1, 1, 1, 1, 3, 1, 2, 1, 3, 2, 2, 2, 1, 1, 1, 2, 1, 3, 2, 2, 3, 1, 2, 2, 1, 1, 2, 1, 7, 3, 1, 1, 6, 1, 2, 3, 1, 1, 3, 6, 2, 2, 4, 3, 4, 3, 1, 3, 5, 2, 6, 2, 1, 1, 4, 5, 6, 5, 1, 3, 1, 4, 2, 1, 1, 4, 2, 3, 1, 2, 1, 1, 4, 1, 2, 5, 1, 2, 1, 2, 1, 4, 2, 2, 1, 1, 1, 1, 2, 3, 1, 1, 1, 1, 5, 3, 1, 2, 3, 2, 1, 1, 1, 2, 1, 1, 1, 2, 3, 3, 2, 4, 5, 4, 5, 2, 1, 3, 3, 2, 2, 3, 2, 1, 2, 5, 2, 2, 1, 1, 1, 3, 5, 1, 1, 5, 1, 1, 2, 1, 2, 1, 1, 1, 2, 1, 4, 2, 2, 3, 3, 2, 2, 1, 4, 4, 7, 1, 1, 2, 3, 5, 4, 3, 1, 1, 3, 3, 3, 3, 1, 6, 3, 4, 2, 3, 2, 1, 4, 8, 3, 2, 2, 3, 1, 3, 1, 7, 3, 2, 3, 6, 4, 2, 3, 6, 16, 3, 1, 2, 9, 2, 8, 3, 3, 4, 3, 10, 5, 5, 4, 2, 4, 1, 8, 11, 7, 3, 2, 6, 4, 5, 7, 5, 5, 2, 2, 2, 10, 11, 7, 5, 3, 3, 8, 8, 9, 2, 5, 6, 4, 11, 15, 14, 4, 6, 5, 5, 5, 10, 5, 5, 4, 3, 5, 4, 7, 10, 7, 2, 6, 3, 3, 7, 8, 6, 5, 6, 4, 7, 8, 10, 6, 5, 4, 7, 8, 6, 7, 7, 7, 15, 3, 6, 6, 6, 5, 7, 7, 7, 5, 9, 3, 5, 4, 2, 5, 5, 7, 8, 5, 4, 6, 4, 1, 5, 4, 8, 8, 4, 4, 5, 10, 5, 3, 5, 4, 1, 5, 4, 4, 4, 3, 5, 2, 2, 2, 9, 9, 3, 5, 8, 6, 9, 7, 9, 4, 8, 5, 5, 8, 9, 7, 6, 4, 7, 11, 12, 5, 4, 21, 2, 2, 20, 15, 5, 5, 4, 13, 9, 14, 9, 3, 4, 8, 7, 9, 20, 9, 10, 2, 7, 5, 9, 11, 13, 8, 6, 8, 13, 10, 15, 18, 10, 7, 6, 10, 5, 13, 4, 9, 8, 3, 9, 15, 13, 8, 12, 7, 7, 5, 8, 20, 1, 20, 5, 5, 4, 5, 9, 6, 2, 8, 5, 3, 9, 17, 10, 4, 7, 7, 4, 2, 21, 10, 3, 4, 7, 6, 4, 15, 6, 3, 3, 4, 28, 2, 2, 5, 4, 4, 7, 10, 2, 3, 2, 5, 6, 4, 7, 2, 7, 8, 5, 11, 15, 6, 16, 21, 16, 10, 5, 7, 6, 9, 1, 5, 3, 5, 9, 5, 2, 4, 6, 4, 3, 19, 6, 3, 3, 2, 6, 13, 4, 2, 3, 5, 4, 9, 13, 9, 7, 6, 6, 10, 11, 11, 7, 6, 6, 5, 7, 10, 14, 11, 6, 1, 24, 7, 6, 12, 6, 5, 20, 10, 7, 4, 5, 4, 7, 14, 7, 7, 6, 10, 7, 7, 17, 16, 6, 9, 11, 8, 8, 24, 14, 11, 9, 11, 7, 12, 24, 29, 16, 9, 11, 10, 13, 23, 13, 10, 6, 11, 10, 13, 22, 17, 9, 10, 10, 11, 10, 25, 21, 16, 9, 8, 15, 10, 27, 16, 20, 13, 16, 12, 9, 21, 14, 19, 11, 19, 15, 21, 34, 25, 14, 14, 15, 13, 17, 20, 43, 17, 11, 11, 10, 17, 27, 28, 17, 7, 21, 14, 18, 25, 22, 14, 13, 10, 13, 11, 29, 21, 11, 21, 22, 18, 17, 38, 29, 12, 18, 16, 16, 16, 27, 20, 13, 14, 6, 16, 16, 26, 28, 12, 15, 18, 21, 10, 27, 26, 19, 23, 18, 19, 11, 22, 11, 16, 14, 14, 22, 11, 26, 11, 15, 17, 10, 19, 12, 14, 15, 7, 19, 15, 10, 14, 12, 13, 13, 8, 11, 17, 5, 19, 15, 13, 7, 20, 11, 14, 13, 16, 13, 13, 10, 17, 9, 19, 8, 15, 8, 14, 17, 10, 15, 16, 15, 24, 25, 12, 19, 38, 24, 23, 1, 29, 21, 22, 40, 37, 22, 22, 27, 21, 21, 35, 33, 23, 16, 22, 19, 19, 44, 30, 26, 16, 12, 23, 16, 53, 26, 17, 18, 17, 25, 14, 41, 31, 26, 26, 20, 19, 18, 41, 33, 17, 22, 20, 20, 26, 39, 28, 22, 20, 22, 23, 18, 66, 31, 22, 12, 13, 10, 11, 36, 31, 21, 14, 9, 15, 17, 53, 24, 12, 9, 7, 16, 16, 31, 21, 14, 6, 13, 8, 15, 39, 22, 10, 6, 9, 9, 13, 75, 46, 12, 8, 11, 12, 9, 30, 17, 7, 15, 12, 7, 17, 15, 23, 12, 9, 15, 20, 21, 30, 26, 24, 41, 49, 44, 30, 37, 30, 10, 16, 12, 16, 15, 24, 21, 12, 15, 10, 14, 18, 32, 23, 7, 17, 9, 21, 13, 46, 29, 10, 22, 12, 12, 13, 30, 21, 5, 9, 13, 12, 13, 56, 32, 9, 7, 13, 11, 12, 45, 28, 19, 16, 18, 13, 25, 49, 36, 23, 16, 15, 25, 23, 57, 47, 14, 21, 15, 21, 20, 48, 43, 18, 15, 17, 15, 25, 50, 43, 15, 20, 24, 18, 27, 60, 39, 29, 14, 19, 14, 27, 58, 46, 27, 19, 16, 21, 22, 51, 49, 18, 25, 27, 31, 27, 58, 38, 31, 33, 33, 29, 34, 54, 66, 41, 32, 39, 36, 41, 55, 47, 33, 42, 21, 32, 43, 75, 58, 31, 37, 26, 27, 43, 68, 44, 32, 25, 20, 26, 38, 77, 43, 27, 29, 36, 23, 39, 80, 44, 46, 31, 32, 30, 44, 70, 59, 31, 24, 28, 29, 36, 53, 57, 43, 32, 32, 33, 25, 65, 50, 34, 35, 26, 38, 30, 62, 48, 30, 33, 42, 40, 27, 56, 61, 23, 35, 31, 39, 45, 78, 81, 52, 32, 42, 53, 39, 70, 59, 39, 40, 38, 25, 30, 17, 72, 31, 31, 26, 17, 40, 54, 43, 32, 34, 37, 37, 26, 48, 51, 30, 31, 31, 36, 28, 33, 40, 36, 36, 39, 43, 39, 40, 30, 31, 37, 31, 28, 37, 53, 40, 38, 68, 26, 37, 50, 50, 45, 30, 37, 40, 47, 60, 77, 54, 43, 37, 44, 49, 73, 97, 78, 61, 53, 74, 64, 81, 86, 62, 62, 68, 50, 73, 95, 122, 97, 80, 52, 55, 54, 97, 109, 74, 72, 56, 42, 55, 89, 97, 55, 69, 41, 50, 75, 80, 99, 70, 50, 58, 47, 65, 77, 95, 87, 59, 48, 73, 50, 86, 98, 55, 50, 50, 39, 36, 54, 89, 77, 54, 32, 33, 31, 80, 104, 51, 28, 24, 28, 32, 77, 77, 43, 38, 32, 21, 46, 104, 95, 51, 24, 29, 30, 36, 53, 161, 148, 39, 22, 22, 26, 83, 76, 58, 31, 35, 21, 38, 62, 75, 52, 46, 30, 35, 49, 68, 59, 74, 66, 62, 97, 110, 102, 95, 66, 56, 42, 39, 43, 51, 74, 42, 31, 30, 33, 25, 71, 66, 48, 22, 23, 31, 21, 68, 85, 39, 25, 24, 32, 47, 93, 90, 60, 44, 26, 26, 43, 81, 101, 55, 34, 33, 46, 34, 68, 104, 62, 57, 44, 55, 46, 82, 105, 52, 42, 48, 44, 64, 88, 116, 75, 48, 31, 29, 41, 82, 123, 61, 46, 54, 42, 59, 102, 120, 67, 49, 48, 46, 58, 121, 131, 83, 76, 48, 46, 52, 99, 91, 127, 74, 70, 68, 86, 101, 169, 159, 86, 59, 69, 75, 118, 146, 85, 78, 61, 78, 77, 111, 145, 104, 75, 75, 80, 78, 130, 162, 125, 81, 71, 77, 80, 149, 166, 133, 93, 81, 89, 93, 143, 105, 191, 87, 89, 104, 104, 160, 99, 237, 91, 89, 76, 98, 130, 180, 152, 113, 88, 95, 83, 147, 146, 123, 109, 87, 71, 92, 142, 140, 106, 75, 75, 80, 97, 141, 169, 121, 100, 85, 92, 95, 122, 145, 106, 96, 94, 92, 99, 144, 155, 126, 108, 102, 98, 94, 135, 186, 162, 109, 107, 95, 102, 126, 135, 103, 86, 87, 106, 75, 111, 121, 92, 98, 93, 82, 104, 118, 100, 103, 81, 94, 97, 88, 100, 86, 89, 105, 205, 84, 71, 110, 97, 90, 97, 88, 86, 102, 102, 91, 83, 80, 86, 90, 97, 94, 85, 80, 59, 99, 75, 111, 121, 126, 75, 79, 88, 107, 137, 180, 116, 100, 120, 124, 118, 193, 230, 157, 132, 126, 127, 99, 45, 400, 160, 133, 127, 137, 147, 215, 220, 174, 152, 144, 133, 136, 190, 216, 160, 123, 138, 129, 125, 161, 231, 228, 164, 175, 192, 169, 195, 215, 141, 126, 117, 1, 282, 191, 220, 141, 131, 145, 160, 154, 190, 233, 174, 125, 99, 106, 89, 177, 202, 113, 99, 87, 61, 99, 169, 235, 111, 82, 68, 72, 75, 222, 229, 2, 231, 167, 74, 203, 6, 343, 76, 54, 67, 82, 122, 211, 274, 242, 87, 64, 76, 139, 160, 100, 56, 70, 78, 67, 121, 144, 112, 119, 101, 59, 78, 114, 153, 123, 148, 133, 134, 210, 241, 15, 362, 142, 98, 101, 92, 122, 128, 97, 55, 72, 70, 71, 136, 147, 103, 85, 79, 87, 103, 183, 209, 113, 68, 60, 61, 80, 166, 196, 104, 87, 61, 71, 67, 170, 207, 148, 108, 85, 84, 127, 190, 244, 136, 102, 95, 97, 122, 240, 215, 132, 108, 97, 117, 134, 248, 318, 194, 99, 77, 97, 110, 247, 6, 266, 85, 215, 87, 119, 254, 5, 266, 175, 225, 126, 122, 171, 21, 243, 149, 235, 188, 193, 179, 51, 319, 212, 111, 217, 203, 57, 265, 241, 258, 141, 120, 140, 220, 341, 160, 146, 126, 162, 162, 345, 249, 145, 141, 153, 156, 145, 350, 261, 183, 149, 150, 146, 169, 295, 269, 192, 315, 206, 192, 197, 427, 248, 188, 136, 133, 151, 168, 273, 334, 235, 160, 140, 156, 188, 394, 375, 210, 197, 149, 170, 197, 351, 374, 274, 188, 171, 158, 204, 308, 301, 203, 176, 162, 164, 172, 263, 275, 193, 157, 183, 153, 165, 288, 331, 206, 172, 179, 180, 193, 300, 289, 193, 218, 195, 197, 174, 319, 395, 289, 195, 181, 202, 163, 249, 245, 209, 168, 178, 183, 177, 255, 221, 204, 175, 156, 173, 168, 195, 221, 183, 137, 162, 150, 183, 220, 210, 160, 151, 157, 181, 172, 206, 198, 168, 168, 163, 189, 185, 212, 197, 188, 161, 153, 159, 187, 214, 221, 162, 165, 168, 182, 159, 187, 212, 181, 182, 147, 167, 158, 291, 272, 217, 229, 178, 246, 251, 441, 358, 249, 219, 242, 268, 248, 440, 341, 263, 237, 223, 246, 258, 441, 345, 307, 246, 298, 326, 294, 460, 373, 322, 289, 316, 387, 285, 556, 390, 279, 254, 203, 243, 248, 517, 342, 212, 243, 262, 277, 249, 514, 365, 270, 284, 278, 293, 263, 391, 419, 559, 255, 164, 173, 197, 547, 350, 176, 134, 143, 146, 196, 532, 330, 156, 152, 115, 150, 198, 547, 314, 176, 155, 189, 173, 192, 558, 317, 175, 172, 137, 142, 111, 419, 294, 306, 157, 263, 194, 194, 681, 221, 125, 94, 123, 135, 184, 435, 235, 176, 189, 182, 201, 145, 116, 198, 221, 260, 280, 349, 213, 442, 453, 318, 284, 323, 268, 228, 328, 212, 170, 152, 142, 164, 164, 424, 255, 114, 129, 186, 239, 211, 587, 322, 168, 147, 153, 166, 170, 497, 315, 246, 191, 174, 191, 187, 529, 294, 164, 153, 172, 169, 217, 558, 288, 176, 209, 251, 238, 236, 599, 366, 218, 205, 205, 230, 254, 631, 481, 453, 216, 223, 239, 243, 642, 399, 200, 185, 153, 252, 218, 631, 372, 248, 225, 228, 261, 268, 636, 421, 248, 225, 173, 248, 249, 681, 427, 246, 233, 234, 298, 263, 644, 433, 325, 304, 250, 282, 280, 573, 488, 405, 369, 371, 460, 433, 643, 682, 375, 381, 359, 439, 407, 603, 724, 500, 415, 364, 356, 336, 598, 829, 496, 395, 263, 295, 302, 665, 488, 382, 359, 359, 397, 356, 775, 626, 393, 334, 296, 318, 392, 748, 519, 368, 367, 410, 440, 434, 986, 616, 436, 404, 381, 361, 405, 752, 863, 478, 403, 337, 367, 363, 730, 535, 339, 364, 345, 464, 421, 784, 504, 331, 331, 365, 437, 430, 1213, 564, 386, 246, 388, 566, 305, 797, 949, 569, 392, 349, 389, 351, 837, 445, 321, 341, 313, 332, 324, 504, 318, 277, 318, 305, 307, 282, 461, 356, 292, 277, 284, 291, 261, 391, 363, 270, 246, 248, 302, 254, 382, 346, 287, 301, 300, 346, 275, 368, 373, 359, 305, 378, 399, 321, 399, 328, 277, 261, 314, 317, 247, 396, 359, 294, 300, 362, 346, 298, 561, 433, 354, 373, 366, 471, 477, 918, 716, 494, 456, 459, 544, 491, 924, 607, 433, 427, 469, 559, 506, 898, 679, 464, 439, 513, 524, 537, 882, 603, 475, 486, 421, 523, 517, 898, 698, 480, 384, 374, 473, 460, 1069, 602, 373, 621, 589, 692, 392, 840, 515, 365, 340, 352, 426, 363, 793, 491, 407, 469, 317, 395, 367, 781, 508, 285, 267, 189, 256, 271, 871, 442, 234, 204, 227, 337, 344, 927, 580, 283, 297, 289, 371, 378, 1131, 614, 266, 264, 305, 294, 225, 885, 463, 190, 206, 309, 457, 469, 1567, 500, 183, 164, 187, 271, 265, 917, 437, 247, 271, 282, 337, 308, 322, 221, 320, 352, 417, 570, 514, 382, 704, 712, 522, 438, 529, 400, 444, 291, 247, 217, 240, 281, 313, 752, 462, 235, 230, 290, 412, 349, 1019, 549, 286, 254, 257, 307, 284, 905, 497, 250, 318, 287, 274, 285, 1021, 514, 311, 277, 239, 220, 284, 817, 530, 446, 334, 465, 498, 421, 1058, 576, 326, 290, 381, 408, 441, 1226, 656, 365, 421, 321, 361, 349, 1012, 570, 327, 332, 310, 362, 412, 1043, 643, 346, 342, 343, 410, 417, 1060, 770, 387, 343, 319, 338, 334, 800, 603, 447, 555, 429, 591, 613, 951, 1057, 541, 418, 427, 551, 519, 1048, 732, 465, 419, 524, 547, 518, 1072, 659, 460, 426, 538, 633, 644, 1256, 891, 641, 594, 508, 534, 487, 829, 850, 937, 1, 714, 1076, 578, 951, 743, 565, 555, 594, 615, 537, 1082, 810, 555, 421, 448, 483, 549, 1074, 903, 621, 547, 533, 611, 605, 1210, 899, 538, 563, 608, 567, 533, 1034, 777, 537, 499, 455, 527, 534, 1111, 751, 519, 504, 529, 583, 554, 1024, 623, 485, 528, 523, 575, 597, 1144, 745, 533, 514, 528, 615, 633, 1283, 613, 510, 536, 558, 594, 502, 1155, 871, 569, 583, 525, 504, 571, 1754, 936, 536, 495, 471, 543, 538, 799, 530, 444, 468, 416, 517, 431, 664, 539, 524, 437, 403, 432, 432, 573, 476, 463, 524, 461, 501, 501, 608, 538, 470, 470, 456, 461, 466, 581, 498, 472, 502, 481, 459, 445, 612, 546, 435, 387, 437, 557, 479, 685, 549, 482, 507, 458, 588, 619, 1120, 768, 581, 517, 550, 668, 642, 1215, 829, 579, 586, 686, 810, 717, 1260, 875, 692, 718, 764, 802, 768, 1383, 941, 666, 653, 701, 813, 778, 1289, 889, 807, 885, 905, 878, 715, 1566, 855, 580, 582, 599, 710, 717, 1412, 843, 640, 870, 923, 901, 757, 1312, 926, 639, 614, 597, 682, 646, 1765, 868, 503, 521, 419, 455, 492, 1273, 775, 449, 453, 499, 605, 574, 1463, 778, 514, 471, 443, 526, 540, 1537, 872, 450, 440, 397, 543, 468, 1394, 814, 394, 336, 331, 495, 535, 2177, 947, 434, 287, 326, 427, 478, 1310, 654, 461, 405, 441, 497, 431, 760, 423, 367, 571, 607, 667, 753, 925, 593, 962, 1135, 832, 760, 743, 664, 594, 414, 388, 379, 452, 405, 975, 569, 374, 379, 382, 429, 432, 1139, 704, 446, 414, 497, 651, 609, 1546, 788, 457, 413, 499, 518, 431, 1271, 716, 380, 406, 433, 463, 498, 1441, 833, 461, 406, 450, 537, 528, 1481, 923, 490, 529, 596, 642, 608, 1431, 839, 542, 551, 765, 739, 762, 1632, 1052, 771, 852, 600, 587, 649, 1450, 875, 553, 511, 599, 645, 694, 1635, 1020, 788, 599, 503, 652, 719, 1622, 982, 623, 525, 584, 661, 730, 1663, 971, 649, 583, 566, 690, 774, 1681, 1027, 718, 759, 689, 650, 639, 1286, 1029, 823, 841, 801, 938, 884, 1388, 1478, 815, 723, 709, 892, 833, 1486, 1241, 917, 750, 691, 920, 968, 1666, 1097, 787, 726, 835, 916, 890, 1745, 1205, 835, 767, 762, 769, 858, 1617, 1173, 832, 762, 828, 925, 956, 1671, 1194, 885, 802, 917, 1260, 983, 2320, 1650, 1026, 888, 786, 906, 977, 1558, 1314, 991, 1134, 953, 1043, 1106, 1882, 1154, 832, 845, 821, 915, 883, 1646, 1253, 828, 833, 878, 976, 923, 1623, 1315, 748, 779, 768, 890, 775, 1562, 1448, 858, 837, 835, 844, 821, 1495, 985, 709, 679, 678, 766, 769, 1168, 866, 661, 645, 678, 665, 803, 1218, 756, 651, 757, 586, 630, 565, 803, 649, 638, 709, 708, 765, 646, 870, 763, 692, 687, 659, 745, 701, 934, 743, 721, 675, 717, 737, 708, 960, 774, 643, 602, 580, 704, 667, 983, 716, 601, 783, 574, 597, 599, 1036, 655, 495, 474, 533, 539, 556, 1053, 520, 308, 196, 7]}],\n",
       "                        {\"template\": {\"data\": {\"bar\": [{\"error_x\": {\"color\": \"#2a3f5f\"}, \"error_y\": {\"color\": \"#2a3f5f\"}, \"marker\": {\"line\": {\"color\": \"#E5ECF6\", \"width\": 0.5}}, \"type\": \"bar\"}], \"barpolar\": [{\"marker\": {\"line\": {\"color\": \"#E5ECF6\", \"width\": 0.5}}, \"type\": \"barpolar\"}], \"carpet\": [{\"aaxis\": {\"endlinecolor\": \"#2a3f5f\", \"gridcolor\": \"white\", \"linecolor\": \"white\", \"minorgridcolor\": \"white\", \"startlinecolor\": \"#2a3f5f\"}, \"baxis\": {\"endlinecolor\": \"#2a3f5f\", \"gridcolor\": \"white\", \"linecolor\": \"white\", \"minorgridcolor\": \"white\", \"startlinecolor\": \"#2a3f5f\"}, \"type\": \"carpet\"}], \"choropleth\": [{\"colorbar\": {\"outlinewidth\": 0, \"ticks\": \"\"}, \"type\": \"choropleth\"}], \"contour\": [{\"colorbar\": {\"outlinewidth\": 0, \"ticks\": \"\"}, \"colorscale\": [[0.0, \"#0d0887\"], [0.1111111111111111, \"#46039f\"], [0.2222222222222222, \"#7201a8\"], [0.3333333333333333, \"#9c179e\"], [0.4444444444444444, \"#bd3786\"], [0.5555555555555556, \"#d8576b\"], [0.6666666666666666, \"#ed7953\"], [0.7777777777777778, \"#fb9f3a\"], [0.8888888888888888, \"#fdca26\"], [1.0, \"#f0f921\"]], \"type\": \"contour\"}], \"contourcarpet\": [{\"colorbar\": {\"outlinewidth\": 0, \"ticks\": \"\"}, \"type\": \"contourcarpet\"}], \"heatmap\": [{\"colorbar\": {\"outlinewidth\": 0, \"ticks\": \"\"}, \"colorscale\": [[0.0, \"#0d0887\"], [0.1111111111111111, \"#46039f\"], [0.2222222222222222, \"#7201a8\"], [0.3333333333333333, \"#9c179e\"], [0.4444444444444444, \"#bd3786\"], [0.5555555555555556, \"#d8576b\"], [0.6666666666666666, \"#ed7953\"], [0.7777777777777778, \"#fb9f3a\"], [0.8888888888888888, \"#fdca26\"], [1.0, \"#f0f921\"]], \"type\": \"heatmap\"}], \"heatmapgl\": [{\"colorbar\": {\"outlinewidth\": 0, \"ticks\": \"\"}, \"colorscale\": [[0.0, \"#0d0887\"], [0.1111111111111111, \"#46039f\"], [0.2222222222222222, \"#7201a8\"], [0.3333333333333333, \"#9c179e\"], [0.4444444444444444, \"#bd3786\"], [0.5555555555555556, \"#d8576b\"], [0.6666666666666666, \"#ed7953\"], [0.7777777777777778, \"#fb9f3a\"], [0.8888888888888888, \"#fdca26\"], [1.0, \"#f0f921\"]], \"type\": \"heatmapgl\"}], \"histogram\": [{\"marker\": {\"colorbar\": {\"outlinewidth\": 0, \"ticks\": \"\"}}, \"type\": \"histogram\"}], \"histogram2d\": [{\"colorbar\": {\"outlinewidth\": 0, \"ticks\": \"\"}, \"colorscale\": [[0.0, \"#0d0887\"], [0.1111111111111111, \"#46039f\"], [0.2222222222222222, \"#7201a8\"], [0.3333333333333333, \"#9c179e\"], [0.4444444444444444, \"#bd3786\"], [0.5555555555555556, \"#d8576b\"], [0.6666666666666666, \"#ed7953\"], [0.7777777777777778, \"#fb9f3a\"], [0.8888888888888888, \"#fdca26\"], [1.0, \"#f0f921\"]], \"type\": \"histogram2d\"}], \"histogram2dcontour\": [{\"colorbar\": {\"outlinewidth\": 0, \"ticks\": \"\"}, \"colorscale\": [[0.0, \"#0d0887\"], [0.1111111111111111, \"#46039f\"], [0.2222222222222222, \"#7201a8\"], [0.3333333333333333, \"#9c179e\"], [0.4444444444444444, \"#bd3786\"], [0.5555555555555556, \"#d8576b\"], [0.6666666666666666, \"#ed7953\"], [0.7777777777777778, \"#fb9f3a\"], [0.8888888888888888, \"#fdca26\"], [1.0, \"#f0f921\"]], \"type\": \"histogram2dcontour\"}], \"mesh3d\": [{\"colorbar\": {\"outlinewidth\": 0, \"ticks\": \"\"}, \"type\": \"mesh3d\"}], \"parcoords\": [{\"line\": {\"colorbar\": {\"outlinewidth\": 0, \"ticks\": \"\"}}, \"type\": \"parcoords\"}], \"pie\": [{\"automargin\": true, \"type\": \"pie\"}], \"scatter\": [{\"marker\": {\"colorbar\": {\"outlinewidth\": 0, \"ticks\": \"\"}}, \"type\": \"scatter\"}], \"scatter3d\": [{\"line\": {\"colorbar\": {\"outlinewidth\": 0, \"ticks\": \"\"}}, \"marker\": {\"colorbar\": {\"outlinewidth\": 0, \"ticks\": \"\"}}, \"type\": \"scatter3d\"}], \"scattercarpet\": [{\"marker\": {\"colorbar\": {\"outlinewidth\": 0, \"ticks\": \"\"}}, \"type\": \"scattercarpet\"}], \"scattergeo\": [{\"marker\": {\"colorbar\": {\"outlinewidth\": 0, \"ticks\": \"\"}}, \"type\": \"scattergeo\"}], \"scattergl\": [{\"marker\": {\"colorbar\": {\"outlinewidth\": 0, \"ticks\": \"\"}}, \"type\": \"scattergl\"}], \"scattermapbox\": [{\"marker\": {\"colorbar\": {\"outlinewidth\": 0, \"ticks\": \"\"}}, \"type\": \"scattermapbox\"}], \"scatterpolar\": [{\"marker\": {\"colorbar\": {\"outlinewidth\": 0, \"ticks\": \"\"}}, \"type\": \"scatterpolar\"}], \"scatterpolargl\": [{\"marker\": {\"colorbar\": {\"outlinewidth\": 0, \"ticks\": \"\"}}, \"type\": \"scatterpolargl\"}], \"scatterternary\": [{\"marker\": {\"colorbar\": {\"outlinewidth\": 0, \"ticks\": \"\"}}, \"type\": \"scatterternary\"}], \"surface\": [{\"colorbar\": {\"outlinewidth\": 0, \"ticks\": \"\"}, \"colorscale\": [[0.0, \"#0d0887\"], [0.1111111111111111, \"#46039f\"], [0.2222222222222222, \"#7201a8\"], [0.3333333333333333, \"#9c179e\"], [0.4444444444444444, \"#bd3786\"], [0.5555555555555556, \"#d8576b\"], [0.6666666666666666, \"#ed7953\"], [0.7777777777777778, \"#fb9f3a\"], [0.8888888888888888, \"#fdca26\"], [1.0, \"#f0f921\"]], \"type\": \"surface\"}], \"table\": [{\"cells\": {\"fill\": {\"color\": \"#EBF0F8\"}, \"line\": {\"color\": \"white\"}}, \"header\": {\"fill\": {\"color\": \"#C8D4E3\"}, \"line\": {\"color\": \"white\"}}, \"type\": \"table\"}]}, \"layout\": {\"annotationdefaults\": {\"arrowcolor\": \"#2a3f5f\", \"arrowhead\": 0, \"arrowwidth\": 1}, \"coloraxis\": {\"colorbar\": {\"outlinewidth\": 0, \"ticks\": \"\"}}, \"colorscale\": {\"diverging\": [[0, \"#8e0152\"], [0.1, \"#c51b7d\"], [0.2, \"#de77ae\"], [0.3, \"#f1b6da\"], [0.4, \"#fde0ef\"], [0.5, \"#f7f7f7\"], [0.6, \"#e6f5d0\"], [0.7, \"#b8e186\"], [0.8, \"#7fbc41\"], [0.9, \"#4d9221\"], [1, \"#276419\"]], \"sequential\": [[0.0, \"#0d0887\"], [0.1111111111111111, \"#46039f\"], [0.2222222222222222, \"#7201a8\"], [0.3333333333333333, \"#9c179e\"], [0.4444444444444444, \"#bd3786\"], [0.5555555555555556, \"#d8576b\"], [0.6666666666666666, \"#ed7953\"], [0.7777777777777778, \"#fb9f3a\"], [0.8888888888888888, \"#fdca26\"], [1.0, \"#f0f921\"]], \"sequentialminus\": [[0.0, \"#0d0887\"], [0.1111111111111111, \"#46039f\"], [0.2222222222222222, \"#7201a8\"], [0.3333333333333333, \"#9c179e\"], [0.4444444444444444, \"#bd3786\"], [0.5555555555555556, \"#d8576b\"], [0.6666666666666666, \"#ed7953\"], [0.7777777777777778, \"#fb9f3a\"], [0.8888888888888888, \"#fdca26\"], [1.0, \"#f0f921\"]]}, \"colorway\": [\"#636efa\", \"#EF553B\", \"#00cc96\", \"#ab63fa\", \"#FFA15A\", \"#19d3f3\", \"#FF6692\", \"#B6E880\", \"#FF97FF\", \"#FECB52\"], \"font\": {\"color\": \"#2a3f5f\"}, \"geo\": {\"bgcolor\": \"white\", \"lakecolor\": \"white\", \"landcolor\": \"#E5ECF6\", \"showlakes\": true, \"showland\": true, \"subunitcolor\": \"white\"}, \"hoverlabel\": {\"align\": \"left\"}, \"hovermode\": \"closest\", \"mapbox\": {\"style\": \"light\"}, \"paper_bgcolor\": \"white\", \"plot_bgcolor\": \"#E5ECF6\", \"polar\": {\"angularaxis\": {\"gridcolor\": \"white\", \"linecolor\": \"white\", \"ticks\": \"\"}, \"bgcolor\": \"#E5ECF6\", \"radialaxis\": {\"gridcolor\": \"white\", \"linecolor\": \"white\", \"ticks\": \"\"}}, \"scene\": {\"xaxis\": {\"backgroundcolor\": \"#E5ECF6\", \"gridcolor\": \"white\", \"gridwidth\": 2, \"linecolor\": \"white\", \"showbackground\": true, \"ticks\": \"\", \"zerolinecolor\": \"white\"}, \"yaxis\": {\"backgroundcolor\": \"#E5ECF6\", \"gridcolor\": \"white\", \"gridwidth\": 2, \"linecolor\": \"white\", \"showbackground\": true, \"ticks\": \"\", \"zerolinecolor\": \"white\"}, \"zaxis\": {\"backgroundcolor\": \"#E5ECF6\", \"gridcolor\": \"white\", \"gridwidth\": 2, \"linecolor\": \"white\", \"showbackground\": true, \"ticks\": \"\", \"zerolinecolor\": \"white\"}}, \"shapedefaults\": {\"line\": {\"color\": \"#2a3f5f\"}}, \"ternary\": {\"aaxis\": {\"gridcolor\": \"white\", \"linecolor\": \"white\", \"ticks\": \"\"}, \"baxis\": {\"gridcolor\": \"white\", \"linecolor\": \"white\", \"ticks\": \"\"}, \"bgcolor\": \"#E5ECF6\", \"caxis\": {\"gridcolor\": \"white\", \"linecolor\": \"white\", \"ticks\": \"\"}}, \"title\": {\"x\": 0.05}, \"xaxis\": {\"automargin\": true, \"gridcolor\": \"white\", \"linecolor\": \"white\", \"ticks\": \"\", \"title\": {\"standoff\": 15}, \"zerolinecolor\": \"white\", \"zerolinewidth\": 2}, \"yaxis\": {\"automargin\": true, \"gridcolor\": \"white\", \"linecolor\": \"white\", \"ticks\": \"\", \"title\": {\"standoff\": 15}, \"zerolinecolor\": \"white\", \"zerolinewidth\": 2}}}, \"title\": {\"text\": \"Number of reviews over time\"}, \"xaxis\": {\"title\": {\"text\": \"Date\"}}, \"yaxis\": {\"title\": {\"text\": \"Number of reviews\"}}},\n",
       "                        {\"responsive\": true}\n",
       "                    ).then(function(){\n",
       "                            \n",
       "var gd = document.getElementById('de2e9f6b-5ab4-40c4-b67c-fd55aa632f9d');\n",
       "var x = new MutationObserver(function (mutations, observer) {{\n",
       "        var display = window.getComputedStyle(gd).display;\n",
       "        if (!display || display === 'none') {{\n",
       "            console.log([gd, 'removed!']);\n",
       "            Plotly.purge(gd);\n",
       "            observer.disconnect();\n",
       "        }}\n",
       "}});\n",
       "\n",
       "// Listen for the removal of the full notebook cells\n",
       "var notebookContainer = gd.closest('#notebook-container');\n",
       "if (notebookContainer) {{\n",
       "    x.observe(notebookContainer, {childList: true});\n",
       "}}\n",
       "\n",
       "// Listen for the clearing of the current output cell\n",
       "var outputEl = gd.closest('.output');\n",
       "if (outputEl) {{\n",
       "    x.observe(outputEl, {childList: true});\n",
       "}}\n",
       "\n",
       "                        })\n",
       "                };\n",
       "                \n",
       "            </script>\n",
       "        </div>\n",
       "</body>\n",
       "</html>"
      ]
     },
     "metadata": {
      "tags": []
     },
     "output_type": "display_data"
    }
   ],
   "source": [
    "# Take the relevant values that we need to plot\n",
    "review_values = madrid_popbydate.reviews.values\n",
    "dates = madrid_popbydate.date.values\n",
    "\n",
    "# Make a scatterplot\n",
    "fig = go.Figure()\n",
    "fig.add_trace(\n",
    "    go.Scatter(\n",
    "        x=dates,\n",
    "        y=review_values\n",
    "    )\n",
    ")\n",
    "\n",
    "# Add title and axis titles\n",
    "fig.update_layout(\n",
    "    title_text='Number of reviews over time',\n",
    "    xaxis=dict(\n",
    "        title='Date'\n",
    "    ),\n",
    "    yaxis=dict(\n",
    "        title='Number of reviews'\n",
    "    ),\n",
    ")\n",
    "\n",
    "fig.show()\n"
   ]
  },
  {
   "cell_type": "markdown",
   "metadata": {
    "id": "ezB5wKjzuRJK"
   },
   "source": [
    "In the plot above it is clearly to identify that with a rise in time we observe an almost exponential rise in number of reviews. This can be explained through the fact, that AirBnb was founded 2008. Based on the fact, that it is a tech start-up it makes sense that it only appeared to be recently more used by people. Hence we are observing more reviews, beause the community of users and the usage of the AirBnb service rises. The rising amount of users also includes those that list their properties on Airbnb, hence the selection has grown over time."
   ]
  },
  {
   "cell_type": "markdown",
   "metadata": {
    "id": "Mtc9gGhno9sp"
   },
   "source": [
    "**Compute and visualize the popularity of neighbourhoods over time. If there are many neighbourhoods in your city, you should select a few interesting ones for comparison. Can you identify any trends or differences? Summarise your findings.**"
   ]
  },
  {
   "cell_type": "markdown",
   "metadata": {
    "id": "RDuWbthaQQn9"
   },
   "source": [
    "We choose three neighbourhoods, Centro, Malasaña and Ibiza, hopeful to see some clear differences in popularity. We make a dataframe including the date, the neighbourhood (being one of the three selected), and the number of reviews posted during the specific date for the specific neighbourhood."
   ]
  },
  {
   "cell_type": "code",
   "execution_count": null,
   "metadata": {
    "colab": {
     "base_uri": "https://localhost:8080/",
     "height": 419
    },
    "id": "DRlIGWLxo9sp",
    "outputId": "d7b4e4d2-d9dc-45d6-c2e2-44d75aaeb17f"
   },
   "outputs": [
    {
     "data": {
      "text/html": [
       "<div>\n",
       "<style scoped>\n",
       "    .dataframe tbody tr th:only-of-type {\n",
       "        vertical-align: middle;\n",
       "    }\n",
       "\n",
       "    .dataframe tbody tr th {\n",
       "        vertical-align: top;\n",
       "    }\n",
       "\n",
       "    .dataframe thead th {\n",
       "        text-align: right;\n",
       "    }\n",
       "</style>\n",
       "<table border=\"1\" class=\"dataframe\">\n",
       "  <thead>\n",
       "    <tr style=\"text-align: right;\">\n",
       "      <th></th>\n",
       "      <th>date</th>\n",
       "      <th>neighbourhood</th>\n",
       "      <th>reviews</th>\n",
       "    </tr>\n",
       "  </thead>\n",
       "  <tbody>\n",
       "    <tr>\n",
       "      <th>0</th>\n",
       "      <td>2010-11-01</td>\n",
       "      <td>Centro</td>\n",
       "      <td>1</td>\n",
       "    </tr>\n",
       "    <tr>\n",
       "      <th>1</th>\n",
       "      <td>2011-02-23</td>\n",
       "      <td>Centro</td>\n",
       "      <td>1</td>\n",
       "    </tr>\n",
       "    <tr>\n",
       "      <th>2</th>\n",
       "      <td>2011-02-26</td>\n",
       "      <td>Centro</td>\n",
       "      <td>1</td>\n",
       "    </tr>\n",
       "    <tr>\n",
       "      <th>3</th>\n",
       "      <td>2011-05-03</td>\n",
       "      <td>Centro</td>\n",
       "      <td>1</td>\n",
       "    </tr>\n",
       "    <tr>\n",
       "      <th>4</th>\n",
       "      <td>2011-05-07</td>\n",
       "      <td>Centro</td>\n",
       "      <td>2</td>\n",
       "    </tr>\n",
       "    <tr>\n",
       "      <th>...</th>\n",
       "      <td>...</td>\n",
       "      <td>...</td>\n",
       "      <td>...</td>\n",
       "    </tr>\n",
       "    <tr>\n",
       "      <th>6266</th>\n",
       "      <td>2019-09-17</td>\n",
       "      <td>Centro</td>\n",
       "      <td>91</td>\n",
       "    </tr>\n",
       "    <tr>\n",
       "      <th>6267</th>\n",
       "      <td>2019-09-18</td>\n",
       "      <td>Malasaña</td>\n",
       "      <td>6</td>\n",
       "    </tr>\n",
       "    <tr>\n",
       "      <th>6268</th>\n",
       "      <td>2019-09-18</td>\n",
       "      <td>Centro</td>\n",
       "      <td>65</td>\n",
       "    </tr>\n",
       "    <tr>\n",
       "      <th>6269</th>\n",
       "      <td>2019-09-18</td>\n",
       "      <td>Ibiza</td>\n",
       "      <td>2</td>\n",
       "    </tr>\n",
       "    <tr>\n",
       "      <th>6270</th>\n",
       "      <td>2019-09-19</td>\n",
       "      <td>Centro</td>\n",
       "      <td>1</td>\n",
       "    </tr>\n",
       "  </tbody>\n",
       "</table>\n",
       "<p>6271 rows × 3 columns</p>\n",
       "</div>"
      ],
      "text/plain": [
       "            date neighbourhood  reviews\n",
       "0     2010-11-01        Centro        1\n",
       "1     2011-02-23        Centro        1\n",
       "2     2011-02-26        Centro        1\n",
       "3     2011-05-03        Centro        1\n",
       "4     2011-05-07        Centro        2\n",
       "...          ...           ...      ...\n",
       "6266  2019-09-17        Centro       91\n",
       "6267  2019-09-18      Malasaña        6\n",
       "6268  2019-09-18        Centro       65\n",
       "6269  2019-09-18         Ibiza        2\n",
       "6270  2019-09-19        Centro        1\n",
       "\n",
       "[6271 rows x 3 columns]"
      ]
     },
     "execution_count": 118,
     "metadata": {
      "tags": []
     },
     "output_type": "execute_result"
    }
   ],
   "source": [
    "# Filter for those neighbourhoods that we wish to examine\n",
    "# Group by the date and neighbourhood and count the number of reviews\n",
    "madrid_popbyneigh = madrid_pop.filter((f.col('neighbourhood')=='Malasaña') | (f.col('neighbourhood')=='Centro') | (f.col('neighbourhood')=='Ibiza'))\\\n",
    "                              .groupBy('date', \"neighbourhood\").agg(f.count('id').alias('reviews')).orderBy('date').toPandas()\n",
    "madrid_popbyneigh"
   ]
  },
  {
   "cell_type": "markdown",
   "metadata": {
    "id": "rHT_76kQuDoi"
   },
   "source": [
    "In order to make a visualization of this, we have to take into account that `neighbourhood` is a categorical value. Thus we `pivot` the dataframe, such that the index remains date, the columns are now either `Centro`, `Ibiza` or `Malasaña`. The values in each of these columns is the number of reviews given to the listing in this neighbourhood on the specific date.\n"
   ]
  },
  {
   "cell_type": "code",
   "execution_count": null,
   "metadata": {
    "colab": {
     "base_uri": "https://localhost:8080/",
     "height": 465
    },
    "id": "70QZqK3P80CB",
    "outputId": "b19ad7e8-79a4-4aaf-ba0e-5fdba746efb6"
   },
   "outputs": [
    {
     "data": {
      "text/plain": [
       "Text(0, 0.5, 'Listing')"
      ]
     },
     "execution_count": 119,
     "metadata": {
      "tags": []
     },
     "output_type": "execute_result"
    },
    {
     "data": {
      "image/png": "[encoded data removed]",
      "text/plain": [
       "<Figure size 1008x504 with 1 Axes>"
      ]
     },
     "metadata": {
      "tags": []
     },
     "output_type": "display_data"
    }
   ],
   "source": [
    "# Pivot the dataframe such that we get three columns, each for each \n",
    "# neighbourhood\n",
    "madrid_popbyneigh_mod = madrid_popbyneigh.pivot(index = 'date',\n",
    "                                                columns = 'neighbourhood',\n",
    "                                                values = 'reviews')\n",
    "\n",
    "# Make the plot\n",
    "ax = madrid_popbyneigh_mod.plot(figsize=[14,7])\n",
    "ax.set_xlabel(\"Date\")\n",
    "ax.set_ylabel(\"Listing\")"
   ]
  },
  {
   "cell_type": "markdown",
   "metadata": {
    "id": "DSoUzJLaTs6O"
   },
   "source": [
    "From the above plot, it is observed that Centro is a very popular neighbourhood, and its popularity has only grown over time. This corresponds to the insight we have gotten before, where Centro has many listings and is the neighbourhood in the center part of Madrid. For many tourists finding a place to spend their holidays, it could be favorable to stay at a place closer to both sights and transportation. It is also seen that Malasaña, while not being as popular as Centro, is a neighbourhood growing in popularity. It did not have any reviews at the beginning, which could indicate that it is a neighbourhood that has gone popular recently. For Ibiza, it is seen that there has not been much of a change in popularity. From exercise 2.1, where we examined the different properties in each neighbourhood, it was seen that Ibiza did not have many different types of properties. The neighbourhood is also small, housing the Gregorio Marañón Hospital. These could be causes to why it is unpopular."
   ]
  },
  {
   "cell_type": "markdown",
   "metadata": {
    "id": "o5Pe43WLo9ss"
   },
   "source": [
    "**Compute and visualize the popularity of your city by season. For example, visualize the popularity of your city per month. Are there seasonal trends? Describe your findings in words.**"
   ]
  },
  {
   "cell_type": "markdown",
   "metadata": {
    "id": "INYC6FnxV9Np"
   },
   "source": [
    "We choose to visualize the popularity of Madrid for each month. There are several ways of doing this, e.g. we could look at the popularity for each month of one specific year, or look at the total popularity of all the years. There are some drawbacks of this, as Madrid might not have been very popular during some years. This is especially in the beginning, where Airbnb was still a start up, and a rise in popularity might not have meant a rise in popularity for Madrid, but a rise in popularity for Airbnb. Also, our records only go to September 2019, which means that October - December could be classified as unpopular months if we examined the total number of reviews.\n",
    "\n",
    "Thus we have chosen to observe the popularity for each month for each year. This is done by taking our previous dataframe of the number of reviews in Madrid per date, and extracting the year and the month of that review. We then count the number of reviews within the specific month of year."
   ]
  },
  {
   "cell_type": "code",
   "execution_count": null,
   "metadata": {
    "colab": {
     "base_uri": "https://localhost:8080/",
     "height": 419
    },
    "id": "wR-flmvao9ss",
    "outputId": "0bab28f2-1ae8-4572-bcac-273e9ad14b9a"
   },
   "outputs": [
    {
     "data": {
      "text/html": [
       "<div>\n",
       "<style scoped>\n",
       "    .dataframe tbody tr th:only-of-type {\n",
       "        vertical-align: middle;\n",
       "    }\n",
       "\n",
       "    .dataframe tbody tr th {\n",
       "        vertical-align: top;\n",
       "    }\n",
       "\n",
       "    .dataframe thead th {\n",
       "        text-align: right;\n",
       "    }\n",
       "</style>\n",
       "<table border=\"1\" class=\"dataframe\">\n",
       "  <thead>\n",
       "    <tr style=\"text-align: right;\">\n",
       "      <th></th>\n",
       "      <th>year</th>\n",
       "      <th>month</th>\n",
       "      <th>review_counts</th>\n",
       "    </tr>\n",
       "  </thead>\n",
       "  <tbody>\n",
       "    <tr>\n",
       "      <th>0</th>\n",
       "      <td>2010</td>\n",
       "      <td>3</td>\n",
       "      <td>2</td>\n",
       "    </tr>\n",
       "    <tr>\n",
       "      <th>1</th>\n",
       "      <td>2010</td>\n",
       "      <td>4</td>\n",
       "      <td>3</td>\n",
       "    </tr>\n",
       "    <tr>\n",
       "      <th>2</th>\n",
       "      <td>2010</td>\n",
       "      <td>5</td>\n",
       "      <td>5</td>\n",
       "    </tr>\n",
       "    <tr>\n",
       "      <th>3</th>\n",
       "      <td>2010</td>\n",
       "      <td>6</td>\n",
       "      <td>3</td>\n",
       "    </tr>\n",
       "    <tr>\n",
       "      <th>4</th>\n",
       "      <td>2010</td>\n",
       "      <td>7</td>\n",
       "      <td>1</td>\n",
       "    </tr>\n",
       "    <tr>\n",
       "      <th>...</th>\n",
       "      <td>...</td>\n",
       "      <td>...</td>\n",
       "      <td>...</td>\n",
       "    </tr>\n",
       "    <tr>\n",
       "      <th>109</th>\n",
       "      <td>2019</td>\n",
       "      <td>5</td>\n",
       "      <td>31009</td>\n",
       "    </tr>\n",
       "    <tr>\n",
       "      <th>110</th>\n",
       "      <td>2019</td>\n",
       "      <td>6</td>\n",
       "      <td>33927</td>\n",
       "    </tr>\n",
       "    <tr>\n",
       "      <th>111</th>\n",
       "      <td>2019</td>\n",
       "      <td>7</td>\n",
       "      <td>27429</td>\n",
       "    </tr>\n",
       "    <tr>\n",
       "      <th>112</th>\n",
       "      <td>2019</td>\n",
       "      <td>8</td>\n",
       "      <td>21981</td>\n",
       "    </tr>\n",
       "    <tr>\n",
       "      <th>113</th>\n",
       "      <td>2019</td>\n",
       "      <td>9</td>\n",
       "      <td>11225</td>\n",
       "    </tr>\n",
       "  </tbody>\n",
       "</table>\n",
       "<p>114 rows × 3 columns</p>\n",
       "</div>"
      ],
      "text/plain": [
       "     year  month  review_counts\n",
       "0    2010      3              2\n",
       "1    2010      4              3\n",
       "2    2010      5              5\n",
       "3    2010      6              3\n",
       "4    2010      7              1\n",
       "..    ...    ...            ...\n",
       "109  2019      5          31009\n",
       "110  2019      6          33927\n",
       "111  2019      7          27429\n",
       "112  2019      8          21981\n",
       "113  2019      9          11225\n",
       "\n",
       "[114 rows x 3 columns]"
      ]
     },
     "execution_count": 122,
     "metadata": {
      "tags": []
     },
     "output_type": "execute_result"
    }
   ],
   "source": [
    "# Make a dataframe with year and month extracted, showing the review counts\n",
    "# within each month of specific year\n",
    "madrid_by_season = madrid_pop.withColumn('year', f.year(madrid_pop.date))\\\n",
    "                             .withColumn('month', f.month(madrid_pop.date))\\\n",
    "                             .groupBy('year', 'month')\\\n",
    "                             .agg(f.count('id')\\\n",
    "                             .alias('review_counts'))\\\n",
    "                             .orderBy(f.col('year'), f.col('month'))\n",
    "madrid_by_season_df = madrid_by_season.toPandas()\n",
    "madrid_by_season_df"
   ]
  },
  {
   "cell_type": "code",
   "execution_count": null,
   "metadata": {
    "colab": {
     "base_uri": "https://localhost:8080/",
     "height": 617
    },
    "id": "XjalRUn_ahxF",
    "outputId": "83a022fc-987d-4844-d71d-4bd5525b35ca"
   },
   "outputs": [
    {
     "data": {
      "text/html": [
       "<html>\n",
       "<head><meta charset=\"utf-8\" /></head>\n",
       "<body>\n",
       "    <div>\n",
       "            <script src=\"https://cdnjs.cloudflare.com/ajax/libs/mathjax/2.7.5/MathJax.js?config=TeX-AMS-MML_SVG\"></script><script type=\"text/javascript\">if (window.MathJax) {MathJax.Hub.Config({SVG: {font: \"STIX-Web\"}});}</script>\n",
       "                <script type=\"text/javascript\">window.PlotlyConfig = {MathJaxConfig: 'local'};</script>\n",
       "        <script src=\"https://cdn.plot.ly/plotly-latest.min.js\"></script>    \n",
       "            <div id=\"a1c8a308-a7d2-4ee0-93c7-f547b1f102fd\" class=\"plotly-graph-div\" style=\"height:600px; width:100%;\"></div>\n",
       "            <script type=\"text/javascript\">\n",
       "                \n",
       "                    window.PLOTLYENV=window.PLOTLYENV || {};\n",
       "                    \n",
       "                if (document.getElementById(\"a1c8a308-a7d2-4ee0-93c7-f547b1f102fd\")) {\n",
       "                    Plotly.newPlot(\n",
       "                        'a1c8a308-a7d2-4ee0-93c7-f547b1f102fd',\n",
       "                        [{\"name\": \"2010\", \"type\": \"bar\", \"x\": [3, 4, 5, 6, 7, 9, 10, 11, 12], \"y\": [2, 3, 5, 3, 1, 5, 5, 6, 2]}, {\"name\": \"2011\", \"type\": \"bar\", \"x\": [1, 2, 3, 4, 5, 6, 7, 8, 9, 10, 11, 12], \"y\": [2, 5, 6, 4, 24, 35, 51, 32, 48, 74, 50, 44]}, {\"name\": \"2012\", \"type\": \"bar\", \"x\": [1, 2, 3, 4, 5, 6, 7, 8, 9, 10, 11, 12], \"y\": [61, 54, 78, 133, 192, 172, 179, 165, 233, 296, 225, 180]}, {\"name\": \"2013\", \"type\": \"bar\", \"x\": [1, 2, 3, 4, 5, 6, 7, 8, 9, 10, 11, 12], \"y\": [204, 201, 301, 434, 551, 536, 529, 408, 695, 762, 601, 572]}, {\"name\": \"2014\", \"type\": \"bar\", \"x\": [1, 2, 3, 4, 5, 6, 7, 8, 9, 10, 11, 12], \"y\": [679, 571, 881, 1079, 1225, 1212, 1309, 1167, 1909, 2130, 1619, 1694]}, {\"name\": \"2015\", \"type\": \"bar\", \"x\": [1, 2, 3, 4, 5, 6, 7, 8, 9, 10, 11, 12], \"y\": [1600, 1639, 2259, 2896, 3622, 3325, 3310, 2851, 4344, 5033, 3800, 3773]}, {\"name\": \"2016\", \"type\": \"bar\", \"x\": [1, 2, 3, 4, 5, 6, 7, 8, 9, 10, 11, 12], \"y\": [3690, 4110, 4847, 5701, 7294, 6340, 6327, 5598, 8152, 10078, 7641, 6980]}, {\"name\": \"2017\", \"type\": \"bar\", \"x\": [1, 2, 3, 4, 5, 6, 7, 8, 9, 10, 11, 12], \"y\": [7977, 8039, 9522, 13062, 14448, 14453, 12301, 9914, 15736, 16904, 12469, 12532]}, {\"name\": \"2018\", \"type\": \"bar\", \"x\": [1, 2, 3, 4, 5, 6, 7, 8, 9, 10, 11, 12], \"y\": [12994, 13371, 15489, 19739, 20926, 19081, 19979, 15084, 21897, 26366, 20550, 19708]}, {\"name\": \"2019\", \"type\": \"bar\", \"x\": [1, 2, 3, 4, 5, 6, 7, 8, 9], \"y\": [19431, 19169, 26277, 27480, 31009, 33927, 27429, 21981, 11225]}],\n",
       "                        {\"height\": 600, \"template\": {\"data\": {\"bar\": [{\"error_x\": {\"color\": \"#2a3f5f\"}, \"error_y\": {\"color\": \"#2a3f5f\"}, \"marker\": {\"line\": {\"color\": \"#E5ECF6\", \"width\": 0.5}}, \"type\": \"bar\"}], \"barpolar\": [{\"marker\": {\"line\": {\"color\": \"#E5ECF6\", \"width\": 0.5}}, \"type\": \"barpolar\"}], \"carpet\": [{\"aaxis\": {\"endlinecolor\": \"#2a3f5f\", \"gridcolor\": \"white\", \"linecolor\": \"white\", \"minorgridcolor\": \"white\", \"startlinecolor\": \"#2a3f5f\"}, \"baxis\": {\"endlinecolor\": \"#2a3f5f\", \"gridcolor\": \"white\", \"linecolor\": \"white\", \"minorgridcolor\": \"white\", \"startlinecolor\": \"#2a3f5f\"}, \"type\": \"carpet\"}], \"choropleth\": [{\"colorbar\": {\"outlinewidth\": 0, \"ticks\": \"\"}, \"type\": \"choropleth\"}], \"contour\": [{\"colorbar\": {\"outlinewidth\": 0, \"ticks\": \"\"}, \"colorscale\": [[0.0, \"#0d0887\"], [0.1111111111111111, \"#46039f\"], [0.2222222222222222, \"#7201a8\"], [0.3333333333333333, \"#9c179e\"], [0.4444444444444444, \"#bd3786\"], [0.5555555555555556, \"#d8576b\"], [0.6666666666666666, \"#ed7953\"], [0.7777777777777778, \"#fb9f3a\"], [0.8888888888888888, \"#fdca26\"], [1.0, \"#f0f921\"]], \"type\": \"contour\"}], \"contourcarpet\": [{\"colorbar\": {\"outlinewidth\": 0, \"ticks\": \"\"}, \"type\": \"contourcarpet\"}], \"heatmap\": [{\"colorbar\": {\"outlinewidth\": 0, \"ticks\": \"\"}, \"colorscale\": [[0.0, \"#0d0887\"], [0.1111111111111111, \"#46039f\"], [0.2222222222222222, \"#7201a8\"], [0.3333333333333333, \"#9c179e\"], [0.4444444444444444, \"#bd3786\"], [0.5555555555555556, \"#d8576b\"], [0.6666666666666666, \"#ed7953\"], [0.7777777777777778, \"#fb9f3a\"], [0.8888888888888888, \"#fdca26\"], [1.0, \"#f0f921\"]], \"type\": \"heatmap\"}], \"heatmapgl\": [{\"colorbar\": {\"outlinewidth\": 0, \"ticks\": \"\"}, \"colorscale\": [[0.0, \"#0d0887\"], [0.1111111111111111, \"#46039f\"], [0.2222222222222222, \"#7201a8\"], [0.3333333333333333, \"#9c179e\"], [0.4444444444444444, \"#bd3786\"], [0.5555555555555556, \"#d8576b\"], [0.6666666666666666, \"#ed7953\"], [0.7777777777777778, \"#fb9f3a\"], [0.8888888888888888, \"#fdca26\"], [1.0, \"#f0f921\"]], \"type\": \"heatmapgl\"}], \"histogram\": [{\"marker\": {\"colorbar\": {\"outlinewidth\": 0, \"ticks\": \"\"}}, \"type\": \"histogram\"}], \"histogram2d\": [{\"colorbar\": {\"outlinewidth\": 0, \"ticks\": \"\"}, \"colorscale\": [[0.0, \"#0d0887\"], [0.1111111111111111, \"#46039f\"], [0.2222222222222222, \"#7201a8\"], [0.3333333333333333, \"#9c179e\"], [0.4444444444444444, \"#bd3786\"], [0.5555555555555556, \"#d8576b\"], [0.6666666666666666, \"#ed7953\"], [0.7777777777777778, \"#fb9f3a\"], [0.8888888888888888, \"#fdca26\"], [1.0, \"#f0f921\"]], \"type\": \"histogram2d\"}], \"histogram2dcontour\": [{\"colorbar\": {\"outlinewidth\": 0, \"ticks\": \"\"}, \"colorscale\": [[0.0, \"#0d0887\"], [0.1111111111111111, \"#46039f\"], [0.2222222222222222, \"#7201a8\"], [0.3333333333333333, \"#9c179e\"], [0.4444444444444444, \"#bd3786\"], [0.5555555555555556, \"#d8576b\"], [0.6666666666666666, \"#ed7953\"], [0.7777777777777778, \"#fb9f3a\"], [0.8888888888888888, \"#fdca26\"], [1.0, \"#f0f921\"]], \"type\": \"histogram2dcontour\"}], \"mesh3d\": [{\"colorbar\": {\"outlinewidth\": 0, \"ticks\": \"\"}, \"type\": \"mesh3d\"}], \"parcoords\": [{\"line\": {\"colorbar\": {\"outlinewidth\": 0, \"ticks\": \"\"}}, \"type\": \"parcoords\"}], \"pie\": [{\"automargin\": true, \"type\": \"pie\"}], \"scatter\": [{\"marker\": {\"colorbar\": {\"outlinewidth\": 0, \"ticks\": \"\"}}, \"type\": \"scatter\"}], \"scatter3d\": [{\"line\": {\"colorbar\": {\"outlinewidth\": 0, \"ticks\": \"\"}}, \"marker\": {\"colorbar\": {\"outlinewidth\": 0, \"ticks\": \"\"}}, \"type\": \"scatter3d\"}], \"scattercarpet\": [{\"marker\": {\"colorbar\": {\"outlinewidth\": 0, \"ticks\": \"\"}}, \"type\": \"scattercarpet\"}], \"scattergeo\": [{\"marker\": {\"colorbar\": {\"outlinewidth\": 0, \"ticks\": \"\"}}, \"type\": \"scattergeo\"}], \"scattergl\": [{\"marker\": {\"colorbar\": {\"outlinewidth\": 0, \"ticks\": \"\"}}, \"type\": \"scattergl\"}], \"scattermapbox\": [{\"marker\": {\"colorbar\": {\"outlinewidth\": 0, \"ticks\": \"\"}}, \"type\": \"scattermapbox\"}], \"scatterpolar\": [{\"marker\": {\"colorbar\": {\"outlinewidth\": 0, \"ticks\": \"\"}}, \"type\": \"scatterpolar\"}], \"scatterpolargl\": [{\"marker\": {\"colorbar\": {\"outlinewidth\": 0, \"ticks\": \"\"}}, \"type\": \"scatterpolargl\"}], \"scatterternary\": [{\"marker\": {\"colorbar\": {\"outlinewidth\": 0, \"ticks\": \"\"}}, \"type\": \"scatterternary\"}], \"surface\": [{\"colorbar\": {\"outlinewidth\": 0, \"ticks\": \"\"}, \"colorscale\": [[0.0, \"#0d0887\"], [0.1111111111111111, \"#46039f\"], [0.2222222222222222, \"#7201a8\"], [0.3333333333333333, \"#9c179e\"], [0.4444444444444444, \"#bd3786\"], [0.5555555555555556, \"#d8576b\"], [0.6666666666666666, \"#ed7953\"], [0.7777777777777778, \"#fb9f3a\"], [0.8888888888888888, \"#fdca26\"], [1.0, \"#f0f921\"]], \"type\": \"surface\"}], \"table\": [{\"cells\": {\"fill\": {\"color\": \"#EBF0F8\"}, \"line\": {\"color\": \"white\"}}, \"header\": {\"fill\": {\"color\": \"#C8D4E3\"}, \"line\": {\"color\": \"white\"}}, \"type\": \"table\"}]}, \"layout\": {\"annotationdefaults\": {\"arrowcolor\": \"#2a3f5f\", \"arrowhead\": 0, \"arrowwidth\": 1}, \"coloraxis\": {\"colorbar\": {\"outlinewidth\": 0, \"ticks\": \"\"}}, \"colorscale\": {\"diverging\": [[0, \"#8e0152\"], [0.1, \"#c51b7d\"], [0.2, \"#de77ae\"], [0.3, \"#f1b6da\"], [0.4, \"#fde0ef\"], [0.5, \"#f7f7f7\"], [0.6, \"#e6f5d0\"], [0.7, \"#b8e186\"], [0.8, \"#7fbc41\"], [0.9, \"#4d9221\"], [1, \"#276419\"]], \"sequential\": [[0.0, \"#0d0887\"], [0.1111111111111111, \"#46039f\"], [0.2222222222222222, \"#7201a8\"], [0.3333333333333333, \"#9c179e\"], [0.4444444444444444, \"#bd3786\"], [0.5555555555555556, \"#d8576b\"], [0.6666666666666666, \"#ed7953\"], [0.7777777777777778, \"#fb9f3a\"], [0.8888888888888888, \"#fdca26\"], [1.0, \"#f0f921\"]], \"sequentialminus\": [[0.0, \"#0d0887\"], [0.1111111111111111, \"#46039f\"], [0.2222222222222222, \"#7201a8\"], [0.3333333333333333, \"#9c179e\"], [0.4444444444444444, \"#bd3786\"], [0.5555555555555556, \"#d8576b\"], [0.6666666666666666, \"#ed7953\"], [0.7777777777777778, \"#fb9f3a\"], [0.8888888888888888, \"#fdca26\"], [1.0, \"#f0f921\"]]}, \"colorway\": [\"#636efa\", \"#EF553B\", \"#00cc96\", \"#ab63fa\", \"#FFA15A\", \"#19d3f3\", \"#FF6692\", \"#B6E880\", \"#FF97FF\", \"#FECB52\"], \"font\": {\"color\": \"#2a3f5f\"}, \"geo\": {\"bgcolor\": \"white\", \"lakecolor\": \"white\", \"landcolor\": \"#E5ECF6\", \"showlakes\": true, \"showland\": true, \"subunitcolor\": \"white\"}, \"hoverlabel\": {\"align\": \"left\"}, \"hovermode\": \"closest\", \"mapbox\": {\"style\": \"light\"}, \"paper_bgcolor\": \"white\", \"plot_bgcolor\": \"#E5ECF6\", \"polar\": {\"angularaxis\": {\"gridcolor\": \"white\", \"linecolor\": \"white\", \"ticks\": \"\"}, \"bgcolor\": \"#E5ECF6\", \"radialaxis\": {\"gridcolor\": \"white\", \"linecolor\": \"white\", \"ticks\": \"\"}}, \"scene\": {\"xaxis\": {\"backgroundcolor\": \"#E5ECF6\", \"gridcolor\": \"white\", \"gridwidth\": 2, \"linecolor\": \"white\", \"showbackground\": true, \"ticks\": \"\", \"zerolinecolor\": \"white\"}, \"yaxis\": {\"backgroundcolor\": \"#E5ECF6\", \"gridcolor\": \"white\", \"gridwidth\": 2, \"linecolor\": \"white\", \"showbackground\": true, \"ticks\": \"\", \"zerolinecolor\": \"white\"}, \"zaxis\": {\"backgroundcolor\": \"#E5ECF6\", \"gridcolor\": \"white\", \"gridwidth\": 2, \"linecolor\": \"white\", \"showbackground\": true, \"ticks\": \"\", \"zerolinecolor\": \"white\"}}, \"shapedefaults\": {\"line\": {\"color\": \"#2a3f5f\"}}, \"ternary\": {\"aaxis\": {\"gridcolor\": \"white\", \"linecolor\": \"white\", \"ticks\": \"\"}, \"baxis\": {\"gridcolor\": \"white\", \"linecolor\": \"white\", \"ticks\": \"\"}, \"bgcolor\": \"#E5ECF6\", \"caxis\": {\"gridcolor\": \"white\", \"linecolor\": \"white\", \"ticks\": \"\"}}, \"title\": {\"x\": 0.05}, \"xaxis\": {\"automargin\": true, \"gridcolor\": \"white\", \"linecolor\": \"white\", \"ticks\": \"\", \"title\": {\"standoff\": 15}, \"zerolinecolor\": \"white\", \"zerolinewidth\": 2}, \"yaxis\": {\"automargin\": true, \"gridcolor\": \"white\", \"linecolor\": \"white\", \"ticks\": \"\", \"title\": {\"standoff\": 15}, \"zerolinecolor\": \"white\", \"zerolinewidth\": 2}}}, \"title\": {\"text\": \"Popularity of Madrid\"}, \"updatemenus\": [{\"active\": -1, \"buttons\": [{\"args\": [{\"visible\": [true, false, false, false, false, false, false, false, false, false]}, {\"title\": \"Popularity of Madrid in 2010\"}], \"label\": \"2010\", \"method\": \"update\"}, {\"args\": [{\"visible\": [false, true, false, false, false, false, false, false, false, false]}, {\"title\": \"Popularity of Madrid in 2011\"}], \"label\": \"2011\", \"method\": \"update\"}, {\"args\": [{\"visible\": [false, false, true, false, false, false, false, false, false, false]}, {\"title\": \"Popularity of Madrid in 2012\"}], \"label\": \"2012\", \"method\": \"update\"}, {\"args\": [{\"visible\": [false, false, false, true, false, false, false, false, false, false]}, {\"title\": \"Popularity of Madrid in 2013\"}], \"label\": \"2013\", \"method\": \"update\"}, {\"args\": [{\"visible\": [false, false, false, false, true, false, false, false, false, false]}, {\"title\": \"Popularity of Madrid in 2014\"}], \"label\": \"2014\", \"method\": \"update\"}, {\"args\": [{\"visible\": [false, false, false, false, false, true, false, false, false, false]}, {\"title\": \"Popularity of Madrid in 2015\"}], \"label\": \"2015\", \"method\": \"update\"}, {\"args\": [{\"visible\": [false, false, false, false, false, false, true, false, false, false]}, {\"title\": \"Popularity of Madrid in 2016\"}], \"label\": \"2016\", \"method\": \"update\"}, {\"args\": [{\"visible\": [false, false, false, false, false, false, false, true, false, false]}, {\"title\": \"Popularity of Madrid in 2017\"}], \"label\": \"2017\", \"method\": \"update\"}, {\"args\": [{\"visible\": [false, false, false, false, false, false, false, false, true, false]}, {\"title\": \"Popularity of Madrid in 2018\"}], \"label\": \"2018\", \"method\": \"update\"}, {\"args\": [{\"visible\": [false, false, false, false, false, false, false, false, false, true]}, {\"title\": \"Popularity of Madrid in 2019\"}], \"label\": \"2019\", \"method\": \"update\"}]}], \"xaxis\": {\"range\": [0, 13], \"tickmode\": \"array\", \"tickvals\": [1, 2, 3, 4, 5, 6, 7, 8, 9, 10, 11, 12], \"title\": {\"text\": \"Month\"}}, \"yaxis\": {\"title\": {\"text\": \"Number of reviews\"}}},\n",
       "                        {\"responsive\": true}\n",
       "                    ).then(function(){\n",
       "                            \n",
       "var gd = document.getElementById('a1c8a308-a7d2-4ee0-93c7-f547b1f102fd');\n",
       "var x = new MutationObserver(function (mutations, observer) {{\n",
       "        var display = window.getComputedStyle(gd).display;\n",
       "        if (!display || display === 'none') {{\n",
       "            console.log([gd, 'removed!']);\n",
       "            Plotly.purge(gd);\n",
       "            observer.disconnect();\n",
       "        }}\n",
       "}});\n",
       "\n",
       "// Listen for the removal of the full notebook cells\n",
       "var notebookContainer = gd.closest('#notebook-container');\n",
       "if (notebookContainer) {{\n",
       "    x.observe(notebookContainer, {childList: true});\n",
       "}}\n",
       "\n",
       "// Listen for the clearing of the current output cell\n",
       "var outputEl = gd.closest('.output');\n",
       "if (outputEl) {{\n",
       "    x.observe(outputEl, {childList: true});\n",
       "}}\n",
       "\n",
       "                        })\n",
       "                };\n",
       "                \n",
       "            </script>\n",
       "        </div>\n",
       "</body>\n",
       "</html>"
      ]
     },
     "metadata": {
      "tags": []
     },
     "output_type": "display_data"
    }
   ],
   "source": [
    "# Make year variable into string\n",
    "madrid_by_season_df['year'] = madrid_by_season_df['year'].astype(str)\n",
    "madrid_years = sorted(list(set(madrid_by_season_df.year.values)))\n",
    "madrid_years = [str(i) for i in madrid_years]\n",
    "\n",
    "# Make a dataframe with year as key and a dataframe of month and reviews is \n",
    "# value\n",
    "years_dict = {i: madrid_by_season_df[madrid_by_season_df.year==i] for i in madrid_years}\n",
    "\n",
    "# Make a list of bar charts to plot\n",
    "plot_data = [go.Bar(name = year,\n",
    "                    x=years_dict[year]['month'],\n",
    "                    y=years_dict[year]['review_counts']) for year in madrid_years]\n",
    "\n",
    "plot = go.Figure(data=plot_data)\n",
    "\n",
    "# Make plots in a dropdown menu\n",
    "visibility = [False]*len(madrid_years)\n",
    "plot_buttons = [dict(label=madrid_years[i],\n",
    "                     method='update',\n",
    "                     args=[{\"visible\": [visibility[j] if i!=j else True for j in range(len(visibility))]},\n",
    "                            {\"title\": f'Popularity of Madrid in {madrid_years[i]}'}]) for i in range(len(madrid_years))]\n",
    "# Add dimensions, title and axis titles\n",
    "plot.update_layout(\n",
    "    height=600,\n",
    "    title_text='Popularity of Madrid',\n",
    "    updatemenus=[ \n",
    "        dict( \n",
    "            active=-1, \n",
    "            buttons=list(plot_buttons), \n",
    "        ) \n",
    "    ],\n",
    "    xaxis={\n",
    "        'title': 'Month',\n",
    "        'tickmode': 'array',\n",
    "        'tickvals': np.arange(1,13)\n",
    "        },\n",
    "    yaxis=dict(\n",
    "        title='Number of reviews'\n",
    "    )\n",
    ") \n",
    "plot.update_xaxes(range=[0, 13])\n",
    "  \n",
    "plot.show() "
   ]
  },
  {
   "cell_type": "markdown",
   "metadata": {
    "id": "hunHrBRkRzLt"
   },
   "source": [
    "As seen on the above plot, the number of reviews has risen over the time period. As mentioned before, this can not only be due to the rising popularity of the city and the increase of people going on holidays, but also the rising popularity of Airbnb, with more people putting up listings and more people booking. \n",
    "\n",
    "It is a general tendency through the years that the low-point of number of bookings resides around January or February. Madrid then gets more popular once spring starts in March, and is especially popular during the late spring to summer months, i.e. April to August. This is expected as during the spring, many countires have several bank holidays, including Easter. And summer is the typical season, where people take time off work to spend time with their family and kids.\n",
    "\n",
    "What is more surprising is that Madrid is very popular towards the end of the year (September - December), which is a general tendency seen throughout all years. It is known that Madrid gets very hot during the summer, thus it could be favorable for many people to visit the city in months, where the weather gets more chilly. Madrid is also a city that celebrates Christmas, thus many people would travel to the city when they get time off work."
   ]
  },
  {
   "cell_type": "markdown",
   "metadata": {
    "id": "9bmR04EUo9sv"
   },
   "source": [
    "### 2.4. Reviews (20 pts)\n",
    "In this part you should determine which words used in reviews are the most positive. More specifically, you should assign a \"positivity score\" to each word seen in reviews and list the words with the highest score. \n",
    "\n",
    "The individual reviews do not have a rating of the listing, so we will assume that each review gave the average rating to the listing, i.e., the one on the listing.\n",
    "\n",
    "It is up to you to decide what the score should be. For example, it could be a function of the rating on the listing on which it occurs, the number of reviews it occurs in, and the number of unique listings for which it was used. \n",
    "\n",
    "Your positivity scores should be sensible. Words such as \"clean\", \"comfortable\", \"superhost\", etc., should get high scores, while words such as \"unpleasant\", \"dirty\", \"scam\" should get low scores.\n",
    "\n",
    "Depending on your choice of scoring function, you may also want to do some filtering of words. For example, remove words that only occur in a few reviews. \n",
    "\n",
    "**You have to:**\n",
    "\n",
    "* **Define your scoring function, mathematically and in code, and describe it in words.**\n",
    "* **Compute scores for all words.**\n",
    "* **List the 10 words with highest and lowest score.**"
   ]
  },
  {
   "cell_type": "markdown",
   "metadata": {
    "id": "65FOFQ46hnYH"
   },
   "source": [
    "In order to score each word in the reviews, our method is to take each word and calculate the average of the reviews of those listings that the word occurs in, i.e.:\n",
    "\n",
    "\\begin{align}\n",
    "\\text{score$(w)$} & = \\text{mean}(r(l_w)), \\qquad l_w \\in L \\\\\n",
    "& l_w: \\text{listing with review containing word $w$}\\\\\n",
    "& r(l): \\text{rating of listing $l$} \\\\\n",
    "& L: \\text{set of all listings}\n",
    "\\end{align}"
   ]
  },
  {
   "cell_type": "markdown",
   "metadata": {
    "id": "HVp7kurylvmI"
   },
   "source": [
    "We implement this in our code. At first, we make a dataframe where we extract columns from the listings of Madrid. The columns that are extracted are the rating of the listings and the ID of each listing. Then we join the dataframe with the one of reviews such that we get all the reviews in Madrid. For simplicity, we only select the relevant columns, being the ID of the listing, the rating of the listing and the comments."
   ]
  },
  {
   "cell_type": "code",
   "execution_count": null,
   "metadata": {
    "id": "sUk9HKSYwSsq"
   },
   "outputs": [],
   "source": [
    "# Select relevant columns from listings dataframe\n",
    "madrid_reviews_prep = madrid_listings.select(\"review_scores_rating\",f.col('id').alias('listing_id'))\\\n",
    "                                     .drop_duplicates()\n",
    "\n",
    "# Join the reviews and listings dataframes by the listing's ID\n",
    "# Select the relevant rows and filter for null values\n",
    "madrid_rating_reviews = madrid_reviews_prep.join(reviews, ['listing_id'], 'inner')\\\n",
    "                            .withColumn('review_scores_rating', (f.col('review_scores_rating')).cast(IntegerType()))\\\n",
    "                            .select('listing_id', 'review_scores_rating', 'comments')\\\n",
    "                            .filter(f.col('review_scores_rating').isNotNull())\\\n",
    "                            .filter(f.col('comments').isNotNull())\\\n",
    "                            .orderBy('review_scores_rating')"
   ]
  },
  {
   "cell_type": "code",
   "execution_count": null,
   "metadata": {
    "colab": {
     "base_uri": "https://localhost:8080/"
    },
    "id": "jrIj9qrnwV0K",
    "outputId": "5028f377-7b25-4d81-a0d8-45fad483f891"
   },
   "outputs": [
    {
     "name": "stdout",
     "output_type": "stream",
     "text": [
      "root\n",
      " |-- listing_id: string (nullable = true)\n",
      " |-- review_scores_rating: integer (nullable = true)\n",
      " |-- comments: string (nullable = true)\n",
      "\n"
     ]
    }
   ],
   "source": [
    "# Show the schema\n",
    "madrid_rating_reviews.printSchema()"
   ]
  },
  {
   "cell_type": "markdown",
   "metadata": {
    "id": "wO7KSsKDbekF"
   },
   "source": [
    "In the schema seen above, we can confirm that we only have the three relevant columns in the dataframe. We then use the `RegexTokenizer` from Spark to tokenize each word in our dataframe, as we need to assign a score per word."
   ]
  },
  {
   "cell_type": "code",
   "execution_count": null,
   "metadata": {
    "id": "mHIzLbtFbd6S"
   },
   "outputs": [],
   "source": [
    "# Tokenize words\n",
    "regexTokenizer = RegexTokenizer(inputCol=\"comments\", outputCol=\"comments_tokens\", pattern=\"\\\\W\")\n",
    "madrid_reviews_tokenized = regexTokenizer.transform(madrid_rating_reviews)"
   ]
  },
  {
   "cell_type": "markdown",
   "metadata": {
    "id": "2fru01VRoRIv"
   },
   "source": [
    "We expect to encounter many stopwords in the reviews. As Madrid is a city in Spain, there would be many reviews that are in Spanish as well, i.e. we have to remove stopwords in both English and Spanish. Thus we filter for these using Spark's `StopWordsRemover`:"
   ]
  },
  {
   "cell_type": "code",
   "execution_count": null,
   "metadata": {
    "id": "S9hxOcJBbd03"
   },
   "outputs": [],
   "source": [
    "# Remove stop words\n",
    "remover = StopWordsRemover(inputCol=\"comments_tokens\", outputCol=\"filtered_tokens_1\")\n",
    "MR_tokenized_filtered = remover.transform(madrid_reviews_tokenized)\n",
    "\n",
    "# List of Spanish stop words\n",
    "stopwordList = stopwords.words('spanish')\n",
    "\n",
    "# Remove Spanish stop words\n",
    "remover_spanish = StopWordsRemover(inputCol=\"filtered_tokens_1\", outputCol=\"filtered_tokens\", stopWords=stopwordList)\n",
    "MR_tokenized_filtered = remover_spanish.transform(MR_tokenized_filtered)"
   ]
  },
  {
   "cell_type": "markdown",
   "metadata": {
    "id": "h0kLQHM7cZH-"
   },
   "source": [
    "The filtered tokens are exploded, as we have to examine each word. Then we calculate a score for each word, corresponding to the mathematical function as described earlier. "
   ]
  },
  {
   "cell_type": "code",
   "execution_count": null,
   "metadata": {
    "id": "HRgE6fJLg7Zn"
   },
   "outputs": [],
   "source": [
    "# Explode the dataframe in terms of filtered tokens and calculate each score\n",
    "MR_tokenized_filtered = MR_tokenized_filtered.withColumn('filtered_tokens', explode(f.col('filtered_tokens').alias('filtered__tokens')))\\\n",
    "                                             .select('filtered_tokens', 'review_scores_rating')\\\n",
    "                                             .groupBy('filtered_tokens')\\\n",
    "                                             .agg(f.mean('review_scores_rating').alias('score'), f.count('review_scores_rating').alias('occurrence'))\\\n",
    "                                             .orderBy(f.desc('score'))"
   ]
  },
  {
   "cell_type": "markdown",
   "metadata": {
    "id": "k_TUm5IvqX8d"
   },
   "source": [
    "Some words will have very high or low ratings, but they do not occur in as many reviews. These words could be e.g. words or typos that occur in 1 or 2 reviews. Hence we also need to take this into account. This is done by filtering for those words that occur in more than 10000 reviews:"
   ]
  },
  {
   "cell_type": "code",
   "execution_count": null,
   "metadata": {
    "id": "m6IiTusJiu61"
   },
   "outputs": [],
   "source": [
    "madrid_words_scored = MR_tokenized_filtered.filter(f.col('occurrence') > 10000)"
   ]
  },
  {
   "cell_type": "markdown",
   "metadata": {
    "id": "RiGtC13SyFkl"
   },
   "source": [
    "At last, we show the top 10 words in terms highest and lowest scores. For convenience, we transform our dataframe into a Pandas dataframe, and as our dataframe is ordered in terms of the words' scores, we show the first 10 words and last 10 words of the dataframe:"
   ]
  },
  {
   "cell_type": "code",
   "execution_count": null,
   "metadata": {
    "id": "mnN1dOcSxw4u"
   },
   "outputs": [],
   "source": [
    "madrid_words_scored_df = madrid_words_scored.toPandas()"
   ]
  },
  {
   "cell_type": "code",
   "execution_count": null,
   "metadata": {
    "colab": {
     "base_uri": "https://localhost:8080/",
     "height": 359
    },
    "id": "xdenK1dAxz0M",
    "outputId": "10f3acb1-d7a4-4a5d-c2c7-20b99a847b5b"
   },
   "outputs": [
    {
     "data": {
      "text/html": [
       "<div>\n",
       "<style scoped>\n",
       "    .dataframe tbody tr th:only-of-type {\n",
       "        vertical-align: middle;\n",
       "    }\n",
       "\n",
       "    .dataframe tbody tr th {\n",
       "        vertical-align: top;\n",
       "    }\n",
       "\n",
       "    .dataframe thead th {\n",
       "        text-align: right;\n",
       "    }\n",
       "</style>\n",
       "<table border=\"1\" class=\"dataframe\">\n",
       "  <thead>\n",
       "    <tr style=\"text-align: right;\">\n",
       "      <th></th>\n",
       "      <th>filtered_tokens</th>\n",
       "      <th>score</th>\n",
       "      <th>occurrence</th>\n",
       "    </tr>\n",
       "  </thead>\n",
       "  <tbody>\n",
       "    <tr>\n",
       "      <th>0</th>\n",
       "      <td>stylish</td>\n",
       "      <td>95.480465</td>\n",
       "      <td>10238</td>\n",
       "    </tr>\n",
       "    <tr>\n",
       "      <th>1</th>\n",
       "      <td>tips</td>\n",
       "      <td>95.424320</td>\n",
       "      <td>12467</td>\n",
       "    </tr>\n",
       "    <tr>\n",
       "      <th>2</th>\n",
       "      <td>beautiful</td>\n",
       "      <td>95.331026</td>\n",
       "      <td>24850</td>\n",
       "    </tr>\n",
       "    <tr>\n",
       "      <th>3</th>\n",
       "      <td>home</td>\n",
       "      <td>95.252265</td>\n",
       "      <td>25275</td>\n",
       "    </tr>\n",
       "    <tr>\n",
       "      <th>4</th>\n",
       "      <td>wonderful</td>\n",
       "      <td>95.220587</td>\n",
       "      <td>27037</td>\n",
       "    </tr>\n",
       "    <tr>\n",
       "      <th>5</th>\n",
       "      <td>highly</td>\n",
       "      <td>95.158576</td>\n",
       "      <td>34917</td>\n",
       "    </tr>\n",
       "    <tr>\n",
       "      <th>6</th>\n",
       "      <td>modern</td>\n",
       "      <td>95.101829</td>\n",
       "      <td>12737</td>\n",
       "    </tr>\n",
       "    <tr>\n",
       "      <th>7</th>\n",
       "      <td>absolutely</td>\n",
       "      <td>95.079965</td>\n",
       "      <td>10242</td>\n",
       "    </tr>\n",
       "    <tr>\n",
       "      <th>8</th>\n",
       "      <td>gave</td>\n",
       "      <td>94.951710</td>\n",
       "      <td>16525</td>\n",
       "    </tr>\n",
       "    <tr>\n",
       "      <th>9</th>\n",
       "      <td>fantastic</td>\n",
       "      <td>94.951475</td>\n",
       "      <td>20072</td>\n",
       "    </tr>\n",
       "  </tbody>\n",
       "</table>\n",
       "</div>"
      ],
      "text/plain": [
       "  filtered_tokens      score  occurrence\n",
       "0         stylish  95.480465       10238\n",
       "1            tips  95.424320       12467\n",
       "2       beautiful  95.331026       24850\n",
       "3            home  95.252265       25275\n",
       "4       wonderful  95.220587       27037\n",
       "5          highly  95.158576       34917\n",
       "6          modern  95.101829       12737\n",
       "7      absolutely  95.079965       10242\n",
       "8            gave  94.951710       16525\n",
       "9       fantastic  94.951475       20072"
      ]
     },
     "execution_count": 141,
     "metadata": {
      "tags": []
     },
     "output_type": "execute_result"
    }
   ],
   "source": [
    "madrid_words_scored_df.head(10)"
   ]
  },
  {
   "cell_type": "markdown",
   "metadata": {
    "id": "fRAIZQzm619g"
   },
   "source": [
    "From the the top words which we get we can see that especially words which describe the apartment or the furniture are among those. They are not surprising. A classic sentence to combine those would be: \n",
    "> *The beautiful home was modern stylish. He gave wonderful tips, I can absolutely recommend this fantastic place.*\n",
    "\n",
    "We can see that all those words are mainly associated to objects, which makes sense, because if you stay in a place you rate the accomodation, which mainly consits of furniture. Additionally we can observe, that there are words such as *tips* and *gave*, which might occur together, as we have shown through the example above. People enjoy bonuses and getting things that they might not have paid for. These are words allocated to the host. \n",
    "\n",
    "In a nutshell, 7 of the top 10 words are adverbs or adjectives with a strong sentimental feeling. And a word such as *home* is ranked highly, which is expected, as one of the reasons why people choose to live in an Airbnb instead of a hotel is to live like a local and to experience how it would be to have a city such as Madrid as home."
   ]
  },
  {
   "cell_type": "code",
   "execution_count": null,
   "metadata": {
    "colab": {
     "base_uri": "https://localhost:8080/",
     "height": 359
    },
    "id": "lHLseY_Wx1dH",
    "outputId": "e89bbdf5-a1e9-49e6-b595-e0baf409bab3"
   },
   "outputs": [
    {
     "data": {
      "text/html": [
       "<div>\n",
       "<style scoped>\n",
       "    .dataframe tbody tr th:only-of-type {\n",
       "        vertical-align: middle;\n",
       "    }\n",
       "\n",
       "    .dataframe tbody tr th {\n",
       "        vertical-align: top;\n",
       "    }\n",
       "\n",
       "    .dataframe thead th {\n",
       "        text-align: right;\n",
       "    }\n",
       "</style>\n",
       "<table border=\"1\" class=\"dataframe\">\n",
       "  <thead>\n",
       "    <tr style=\"text-align: right;\">\n",
       "      <th></th>\n",
       "      <th>filtered_tokens</th>\n",
       "      <th>score</th>\n",
       "      <th>occurrence</th>\n",
       "    </tr>\n",
       "  </thead>\n",
       "  <tbody>\n",
       "    <tr>\n",
       "      <th>293</th>\n",
       "      <td>pasar</td>\n",
       "      <td>92.103237</td>\n",
       "      <td>12050</td>\n",
       "    </tr>\n",
       "    <tr>\n",
       "      <th>294</th>\n",
       "      <td>dos</td>\n",
       "      <td>92.036007</td>\n",
       "      <td>14414</td>\n",
       "    </tr>\n",
       "    <tr>\n",
       "      <th>295</th>\n",
       "      <td>cama</td>\n",
       "      <td>91.965586</td>\n",
       "      <td>13541</td>\n",
       "    </tr>\n",
       "    <tr>\n",
       "      <th>296</th>\n",
       "      <td>mais</td>\n",
       "      <td>91.734249</td>\n",
       "      <td>10047</td>\n",
       "    </tr>\n",
       "    <tr>\n",
       "      <th>297</th>\n",
       "      <td>personas</td>\n",
       "      <td>91.720641</td>\n",
       "      <td>12364</td>\n",
       "    </tr>\n",
       "    <tr>\n",
       "      <th>298</th>\n",
       "      <td>cocina</td>\n",
       "      <td>91.716647</td>\n",
       "      <td>10344</td>\n",
       "    </tr>\n",
       "    <tr>\n",
       "      <th>299</th>\n",
       "      <td>solo</td>\n",
       "      <td>91.665594</td>\n",
       "      <td>10876</td>\n",
       "    </tr>\n",
       "    <tr>\n",
       "      <th>300</th>\n",
       "      <td>ba</td>\n",
       "      <td>91.523575</td>\n",
       "      <td>14592</td>\n",
       "    </tr>\n",
       "    <tr>\n",
       "      <th>301</th>\n",
       "      <td>pas</td>\n",
       "      <td>91.484577</td>\n",
       "      <td>13843</td>\n",
       "    </tr>\n",
       "    <tr>\n",
       "      <th>302</th>\n",
       "      <td>peque</td>\n",
       "      <td>90.704101</td>\n",
       "      <td>18922</td>\n",
       "    </tr>\n",
       "  </tbody>\n",
       "</table>\n",
       "</div>"
      ],
      "text/plain": [
       "    filtered_tokens      score  occurrence\n",
       "293           pasar  92.103237       12050\n",
       "294             dos  92.036007       14414\n",
       "295            cama  91.965586       13541\n",
       "296            mais  91.734249       10047\n",
       "297        personas  91.720641       12364\n",
       "298          cocina  91.716647       10344\n",
       "299            solo  91.665594       10876\n",
       "300              ba  91.523575       14592\n",
       "301             pas  91.484577       13843\n",
       "302           peque  90.704101       18922"
      ]
     },
     "execution_count": 142,
     "metadata": {
      "tags": []
     },
     "output_type": "execute_result"
    }
   ],
   "source": [
    "madrid_words_scored_df.tail(10)"
   ]
  },
  {
   "cell_type": "markdown",
   "metadata": {
    "id": "Yt7EJAwT6wwN"
   },
   "source": [
    "From the table above, we can observe the 10 lowest rated words. These just consists of Spanish words, which is expected, as Madrid is a city in Spain, thus tourists from other parts of Spain are expected. Thus it can be an indication of Spanish-speaking visitors giving lower scores, though we cannot be sure that this is the case. We have translated some of the words from the table:\n",
    "\n",
    "* pasar: to happen, to give\n",
    "* dos: two\n",
    "* cama: bed\n",
    "* mais: more\n",
    "* personas: persons\n",
    "* cocina: kitchen\n",
    "* solo: only, alone\n",
    "* peque: little\n",
    "\n",
    "We cannot directly say that all the words are negative, since there are neutral words such as cama and cocina, meaning bed and kitchen. This could be an indicator that many tourists have met complications and problems with the bed and kitchen. It can also indicate that people have high expectations when it comes to these, as you interact with both very frequently.\n",
    "\n",
    "None of the words are directly negatively loaded, as people tend to be nice, or phrase sentences with negations, i.e. “not clean” instead of “dirty”. This is not taken into account with our method, and is definitely something to work with and to improve on. \n",
    "\n",
    "Additionally, it is seen that some of the words could have negative impact such as solo (only), peque (little) and mais (more). One could imagine a review that said:\n",
    "\n",
    "> There was only little... and there could be more...\n",
    "\n",
    "This requires looking at bigrams and doing extensive work, which also could have been an option and something to take into account in our method.\n",
    "\n",
    "We do notice that many of the words, although being classified as “negative”, have a value that is over 90. One cause of this is that we maybe have been too rough in our filtering for occurrence, and that we have excluded too many words that do not occur often.\n",
    "\n",
    "Furthermore, we could’ve also used TF-IDF for this exercise, which also takes into account of how much each words occurs in other comments. Thus some words would have gotten less of a priority and we would be able to look at some of the words that stood out."
   ]
  },
  {
   "cell_type": "markdown",
   "metadata": {
    "id": "fcvYlp_GLr4N"
   },
   "source": [
    "# Exercise 2: sales & profit analysis (52.5 points)\n"
   ]
  },
  {
   "cell_type": "markdown",
   "metadata": {
    "id": "tq-TDuNeL5dA"
   },
   "source": [
    "## Introduction"
   ]
  },
  {
   "cell_type": "markdown",
   "metadata": {
    "id": "wwLFS0wQ2C4b"
   },
   "source": [
    "\n",
    "<img src=\"https://www.lifeandstylemag.com/wp-content/uploads/2018/01/kevin-malone-the-office.jpg?resize=630%2C354\" alt=\"kevin\" width=\"600\"/> \n",
    "\n",
    "*Kevin from accounting*\n",
    "\n",
    "\n",
    "\n",
    "Your team has been hired by the company X as data scientists. X makes gadgets for a wide range of industrial and commercial clients.\n",
    "\n",
    "As in-house data scientists, your teams first task, as per request from your new boss, is to optimize business operations. You have decided that a good first step would be to analyze the company's historical sales data to gain a better understanding of where profit is coming from. It may also reveal some low hanging fruit in terms of business opportunities.\n",
    "\n",
    "To get started, you have called the IT department to get access to the customer and sales transactions database. To your horror you've been told that such a database doesn't exist, and the only record of sales transactions is kept by Kevin from accounting in an Excel spreadsheet. So you've emailed Kevin asking for a CSV dump of the spreadsheet...\n",
    "\n",
    "In this project you need to clean the data you got from Kevin, enrich it with further data, prepare a database for the data, and do some data analysis. The project is comprised of five parts. They are intended to be solved in the order they appear, but it is highly recommended that you read through all of them and devise an overall strategy before you start implementing anything.\n"
   ]
  },
  {
   "cell_type": "markdown",
   "metadata": {
    "id": "gca5E_B22C4c"
   },
   "source": [
    "## Part 1: Cleaning the data (10 pts)\n",
    "Kevin has emailed you the following link to the CSV dump you requested.\n",
    "\n",
    "- [transactions.csv](http://courses.compute.dtu.dk/02807/2020/projects/project2/transactions.csv)\n",
    "\n",
    "It seems as though he has been a bit sloppy when keeping the records. \n",
    "\n",
    "In this part you should:\n",
    "1. Explain what the data is about\n",
    "2. Inspect and clean it to prepare it for analysis. Describe the problems you found in the data, and how you addressed them."
   ]
  },
  {
   "cell_type": "markdown",
   "metadata": {
    "id": "VdIf4wXDM3N6"
   },
   "source": [
    "First the data is loaded from the CSV file to a PySpark Dataframe. The first 20 row of the file can be seen in the table below:"
   ]
  },
  {
   "cell_type": "code",
   "execution_count": null,
   "metadata": {
    "colab": {
     "base_uri": "https://localhost:8080/"
    },
    "id": "rRZJsbiJNx7Q",
    "outputId": "813db5fd-6f54-4c88-e7cf-04357ac95969"
   },
   "outputs": [
    {
     "name": "stdout",
     "output_type": "stream",
     "text": [
      "+----------+-------------+--------------+------------+--------+-------------------+\n",
      "|      part|      company|       country|        city|   price|               date|\n",
      "+----------+-------------+--------------+------------+--------+-------------------+\n",
      "|54868-5165|Chatterbridge|         Spain|   Barcelona| 784.79€|2016-01-02 00:01:05|\n",
      "|60505-2867|         Lajo|        Greece|Thessaloniki| 187.99€|2016-01-02 00:05:26|\n",
      "| 24385-268|    Flipstorm|        Greece|      Athens| 221.73€|2016-01-02 00:18:30|\n",
      "| 76117-001|  Twitterbeat|        France|      Annecy|1075.82€|2016-01-02 02:32:30|\n",
      "|44946-1046|Chatterbridge|         Spain|   Barcelona| 412.55€|2016-01-02 04:51:55|\n",
      "| 16729-167|Chatterbridge|         Spain|   Barcelona| 359.52€|2016-01-02 07:20:59|\n",
      "| 52125-444|        Voomm|        France|       Paris| 266.62€|2016-01-02 07:40:37|\n",
      "| 43419-018|     Buzzbean|       Germany|  Düsseldorf| 103.45€|2016-01-02 08:57:57|\n",
      "| 54092-515|        Zooxo|United Kingdom|      London| £704.94|2016-01-02 09:09:01|\n",
      "|24286-1562|         Lajo|        Greece|Thessaloniki| 317.65€|2016-01-02 11:01:32|\n",
      "| 49035-530|    Flipstorm|        Greece|      Athens| 841.97€|2016-01-02 12:51:30|\n",
      "|36987-1697|  Brainsphere|      Portugal|       Braga| 830.75€|2016-01-02 13:16:45|\n",
      "|44946-1046|    Flipstorm|        France|    Nanterre|  406.4€|2016-01-02 16:34:14|\n",
      "| 51346-145|    Flipstorm|        Greece|      Athens| 978.51€|2016-01-02 17:45:54|\n",
      "| 51138-049|    Flipstorm|        France|    Nanterre| 504.69€|2016-01-02 17:46:50|\n",
      "| 0268-6107|   Thoughtmix|      Portugal|    Amadora\t| 477.71€|2016-01-02 18:52:45|\n",
      "| 51523-002|    Flipstorm|        Greece|      Athens|1041.56€|2016-01-02 20:28:56|\n",
      "|62670-4404|      Wordify| United States|    New York| $444.15|2016-01-02 21:10:19|\n",
      "|49288-0285|  Brainsphere|      Portugal|       Braga| 598.52€|2016-01-02 22:18:14|\n",
      "| 68233-011|Chatterbridge|         Spain|   Barcelona| 304.59€|2016-01-03 00:19:44|\n",
      "+----------+-------------+--------------+------------+--------+-------------------+\n",
      "only showing top 20 rows\n",
      "\n"
     ]
    }
   ],
   "source": [
    "transactions = spark.read.option(\"multiLine\", True)\\\n",
    "                         .option('inferSchema', True)\\\n",
    "                         .option('header', True)\\\n",
    "                         .csv(\"/content/drive/My Drive/transactions.csv\")\n",
    "transactions.show()"
   ]
  },
  {
   "cell_type": "markdown",
   "metadata": {
    "id": "uEdUV3cvNVnB"
   },
   "source": [
    "From the table above it can be seen that the data shows a transaction history. Each row represents a transaction and displays what part was sold to which company, and where the company is located. Furthermore, each sale has a timestamp indicating when the transaction took place."
   ]
  },
  {
   "cell_type": "markdown",
   "metadata": {
    "id": "1AYHcuadNHCs"
   },
   "source": [
    "The first thing that is noticed, is that the values in the `price` column are strings that contain which currency that was used in the transaction. It is desired to transform the column to be of float values and a single form of currency. The currency chosen is the Euro. Further it is assumed that all transactions to a Japanese company uses Japanese Yen, all transaction to a company in the US uses US Dollars, etc.\n",
    "\n",
    "Besides transforming the `price` column to of float values, certain values are removed. All values which aren't a number (such as 'na', '-', 'void' and null values) and any negative or zero values are removed. As the table represents transactions for the company, it doesn't make sense that a sale gives a loss or no profit:"
   ]
  },
  {
   "cell_type": "code",
   "execution_count": null,
   "metadata": {
    "id": "02_fToc3_krO"
   },
   "outputs": [],
   "source": [
    "# Delete entries with prices that are null, have value of 'void' or '-'\n",
    "transactions = transactions.filter(transactions.price.isNotNull())\n",
    "transactions = transactions.filter(transactions.price != 'void')\n",
    "transactions = transactions.filter(transactions.price != '-')\n",
    "transactions = transactions.filter(transactions.price != 'na')\n",
    "\n",
    "# Deletes entries with countries that are null\n",
    "transactions = transactions.filter(transactions.country.isNotNull())\n",
    "\n",
    "\n",
    "# Conversion rate to Euro for the relevant countries as of 16th of November\n",
    "gbp_to_eur = 1.12\n",
    "usd_to_eur = 0.84\n",
    "jpy_to_eur = 0.0081\n",
    "\n",
    "# Remove all currency symbols and multiply with the conversion rate\n",
    "transactions = transactions.withColumn('price', f.regexp_replace('price', '\\€', ''))\n",
    "transactions = transactions.withColumn(\"price\",\n",
    "                                       f.when(f.col('country')=='United Kingdom', (f.regexp_replace(\"price\", '\\£', ''))*gbp_to_eur)\\\n",
    "                                        .otherwise(f.col('price')))\n",
    "transactions = transactions.withColumn(\"price\",\n",
    "                                       f.when(f.col('country')=='United States', (f.regexp_replace(\"price\", '\\$', ''))*usd_to_eur)\\\n",
    "                                        .otherwise(f.col('price')))\n",
    "transactions = transactions.withColumn(\"price\",\n",
    "                                       f.when(f.col('country')=='US', (f.regexp_replace(\"price\", '\\$', ''))*usd_to_eur)\\\n",
    "                                        .otherwise(f.col('price')))\n",
    "transactions = transactions.withColumn(\"price\",\n",
    "                                       f.when(f.col('country')=='Japan', (f.regexp_replace(\"price\", '\\¥', ''))*jpy_to_eur)\\\n",
    "                                        .otherwise(f.col('price')))\n",
    "\n",
    "transactions = transactions.withColumn(\"price\", transactions[\"price\"].cast(FloatType()).alias(\"price\"))\n",
    "\n",
    "# Deletes entries where the transaction price is less or equal to zero\n",
    "transactions = transactions.filter(transactions.price >= 0)"
   ]
  },
  {
   "cell_type": "code",
   "execution_count": null,
   "metadata": {
    "colab": {
     "base_uri": "https://localhost:8080/"
    },
    "id": "lJ9jmkDz_pVd",
    "outputId": "d156fe91-6e9d-4051-a178-538428d925cc"
   },
   "outputs": [
    {
     "data": {
      "text/plain": [
       "0"
      ]
     },
     "execution_count": 54,
     "metadata": {
      "tags": []
     },
     "output_type": "execute_result"
    }
   ],
   "source": [
    "# No null values:\n",
    "transactions.filter(transactions.price.isNull()).count()"
   ]
  },
  {
   "cell_type": "code",
   "execution_count": null,
   "metadata": {
    "colab": {
     "base_uri": "https://localhost:8080/"
    },
    "id": "wTRqa0dW_p3Y",
    "outputId": "70cdd3f8-de7e-4391-f32a-e47c3a1f8c0c"
   },
   "outputs": [
    {
     "name": "stdout",
     "output_type": "stream",
     "text": [
      "+----------+-------------+--------------+------------+--------+-------------------+\n",
      "|      part|      company|       country|        city|   price|               date|\n",
      "+----------+-------------+--------------+------------+--------+-------------------+\n",
      "|54868-5165|Chatterbridge|         Spain|   Barcelona|  784.79|2016-01-02 00:01:05|\n",
      "|60505-2867|         Lajo|        Greece|Thessaloniki|  187.99|2016-01-02 00:05:26|\n",
      "| 24385-268|    Flipstorm|        Greece|      Athens|  221.73|2016-01-02 00:18:30|\n",
      "| 76117-001|  Twitterbeat|        France|      Annecy| 1075.82|2016-01-02 02:32:30|\n",
      "|44946-1046|Chatterbridge|         Spain|   Barcelona|  412.55|2016-01-02 04:51:55|\n",
      "| 16729-167|Chatterbridge|         Spain|   Barcelona|  359.52|2016-01-02 07:20:59|\n",
      "| 52125-444|        Voomm|        France|       Paris|  266.62|2016-01-02 07:40:37|\n",
      "| 43419-018|     Buzzbean|       Germany|  Düsseldorf|  103.45|2016-01-02 08:57:57|\n",
      "| 54092-515|        Zooxo|United Kingdom|      London|789.5328|2016-01-02 09:09:01|\n",
      "|24286-1562|         Lajo|        Greece|Thessaloniki|  317.65|2016-01-02 11:01:32|\n",
      "| 49035-530|    Flipstorm|        Greece|      Athens|  841.97|2016-01-02 12:51:30|\n",
      "|36987-1697|  Brainsphere|      Portugal|       Braga|  830.75|2016-01-02 13:16:45|\n",
      "|44946-1046|    Flipstorm|        France|    Nanterre|   406.4|2016-01-02 16:34:14|\n",
      "| 51346-145|    Flipstorm|        Greece|      Athens|  978.51|2016-01-02 17:45:54|\n",
      "| 51138-049|    Flipstorm|        France|    Nanterre|  504.69|2016-01-02 17:46:50|\n",
      "| 0268-6107|   Thoughtmix|      Portugal|    Amadora\t|  477.71|2016-01-02 18:52:45|\n",
      "| 51523-002|    Flipstorm|        Greece|      Athens| 1041.56|2016-01-02 20:28:56|\n",
      "|62670-4404|      Wordify| United States|    New York| 373.086|2016-01-02 21:10:19|\n",
      "|49288-0285|  Brainsphere|      Portugal|       Braga|  598.52|2016-01-02 22:18:14|\n",
      "| 68233-011|Chatterbridge|         Spain|   Barcelona|  304.59|2016-01-03 00:19:44|\n",
      "+----------+-------------+--------------+------------+--------+-------------------+\n",
      "only showing top 20 rows\n",
      "\n"
     ]
    }
   ],
   "source": [
    "# Check if transactions looks correct:\n",
    "transactions.show()"
   ]
  },
  {
   "cell_type": "markdown",
   "metadata": {
    "id": "fG-xfHc7Rq3K"
   },
   "source": [
    "Now, the values in the `price` column are floats, every transaction is in Euro and all null values are removed.\n",
    "\n",
    "The timestamps in the `date` column is also given as strings. But we would like to transform these into a `datetime` object, only including year, month, and day. Furthermore, if any of the date values are null, the rows are removed:"
   ]
  },
  {
   "cell_type": "code",
   "execution_count": null,
   "metadata": {
    "id": "ZThXUPBvDQOM"
   },
   "outputs": [],
   "source": [
    "# Change 'date' to DateType object\n",
    "transactions = transactions.withColumn('date', f.col('date').cast(DateType()))\n",
    "# Deletes entries with date that are null\n",
    "transactions = transactions.filter(transactions.date.isNotNull())"
   ]
  },
  {
   "cell_type": "markdown",
   "metadata": {
    "id": "06pUFOGeBnIN"
   },
   "source": [
    "When checking the `part` column, we also see that there is some rows which are `None`. These rows are removed as we can't say to which part they belong to:"
   ]
  },
  {
   "cell_type": "code",
   "execution_count": null,
   "metadata": {
    "colab": {
     "base_uri": "https://localhost:8080/"
    },
    "id": "nq_xooxvBm7R",
    "outputId": "12b26588-40bd-4b59-e79a-8cda7763fa40"
   },
   "outputs": [
    {
     "name": "stdout",
     "output_type": "stream",
     "text": [
      "Rows where part is None before removal: 10\n",
      "Rows where part is None after removal: 0\n"
     ]
    }
   ],
   "source": [
    "# Get the count of parts that were null before\n",
    "before = transactions.filter(transactions.part.isNull()).count()\n",
    "print(f'Rows where part is None before removal: {before}')\n",
    "\n",
    "# Remove parts which are None/Null\n",
    "transactions = transactions.filter(transactions.part.isNotNull())\n",
    "\n",
    "# Get the count of parts that were null after\n",
    "after = transactions.filter(transactions.part.isNull()).count()\n",
    "print(f'Rows where part is None after removal: {after}')"
   ]
  },
  {
   "cell_type": "markdown",
   "metadata": {
    "id": "1d30jr60LQpG"
   },
   "source": [
    "Looking into the `country` column, the following countries are found:"
   ]
  },
  {
   "cell_type": "code",
   "execution_count": null,
   "metadata": {
    "colab": {
     "base_uri": "https://localhost:8080/"
    },
    "id": "GjMMFG1CB4Bl",
    "outputId": "42619eae-2e52-4592-9582-6847018502fb"
   },
   "outputs": [
    {
     "name": "stdout",
     "output_type": "stream",
     "text": [
      "+--------------+\n",
      "|       country|\n",
      "+--------------+\n",
      "|       Germany|\n",
      "|        France|\n",
      "|        Greece|\n",
      "| United States|\n",
      "|       Portuga|\n",
      "|         Spain|\n",
      "|            US|\n",
      "|   Switzerland|\n",
      "|         Japan|\n",
      "|      Portugal|\n",
      "|United Kingdom|\n",
      "|   Netherlands|\n",
      "|      Tyskland|\n",
      "+--------------+\n",
      "\n"
     ]
    }
   ],
   "source": [
    "# Showing all countries\n",
    "transactions.select('country').distinct().show()"
   ]
  },
  {
   "cell_type": "markdown",
   "metadata": {
    "id": "lwTckIZLMfRg"
   },
   "source": [
    "Here it's seen that there is some names which are either spelled wrong (Portuga), is in another language (Tyskland, which is danish for Germany) or is a abbreviation of the country name (US). These country names are changed to their correct name:\n"
   ]
  },
  {
   "cell_type": "code",
   "execution_count": null,
   "metadata": {
    "id": "6U8YVoCZMgJY"
   },
   "outputs": [],
   "source": [
    "# Changing US to United States\n",
    "transactions = transactions.withColumn(\"country\",\n",
    "                                       when((transactions.country == 'US'), 'United States')\\\n",
    "                                       .otherwise(transactions.country))\n",
    "\n",
    "# Changing Portuga to Portugal\n",
    "transactions = transactions.withColumn(\"country\",\n",
    "                                       when((transactions.country == 'Portuga'), 'Portugal')\\\n",
    "                                       .otherwise(transactions.country))\n",
    "\n",
    "# Chaninging Tyskland to Germany\n",
    "transactions = transactions.withColumn(\"country\",\n",
    "                                       when((transactions.country == 'Tyskland'), 'Germany')\\\n",
    "                                       .otherwise(transactions.country))"
   ]
  },
  {
   "cell_type": "code",
   "execution_count": null,
   "metadata": {
    "colab": {
     "base_uri": "https://localhost:8080/"
    },
    "id": "M3HWdbIgPeam",
    "outputId": "ea2331c4-8847-48c3-86ce-5d61804cb9da"
   },
   "outputs": [
    {
     "name": "stdout",
     "output_type": "stream",
     "text": [
      "+--------------+\n",
      "|       country|\n",
      "+--------------+\n",
      "|       Germany|\n",
      "|        France|\n",
      "|        Greece|\n",
      "| United States|\n",
      "|         Spain|\n",
      "|   Switzerland|\n",
      "|         Japan|\n",
      "|      Portugal|\n",
      "|United Kingdom|\n",
      "|   Netherlands|\n",
      "+--------------+\n",
      "\n"
     ]
    }
   ],
   "source": [
    "# Shwowing all countries again\n",
    "transactions.select('country').distinct().show()"
   ]
  },
  {
   "cell_type": "markdown",
   "metadata": {
    "id": "MVi6zqSQS0EO"
   },
   "source": [
    "When looking at the distinct values in the `company` column, we can get the following list:"
   ]
  },
  {
   "cell_type": "code",
   "execution_count": null,
   "metadata": {
    "colab": {
     "base_uri": "https://localhost:8080/"
    },
    "id": "V2Rd26FPS2o6",
    "outputId": "59acc82a-4815-430a-8f8d-1c09cda816b6"
   },
   "outputs": [
    {
     "name": "stdout",
     "output_type": "stream",
     "text": [
      "+-------------+---------+\n",
      "|      company|purchases|\n",
      "+-------------+---------+\n",
      "|            a|        1|\n",
      "|       Zooxo.|        2|\n",
      "|Chatterbridge|     1417|\n",
      "|      Tagtune|       11|\n",
      "|        Gevee|       35|\n",
      "|    Flipstorm|     1040|\n",
      "|      Gabcube|      322|\n",
      "|    Bubblemix|       45|\n",
      "|      Gabtune|       24|\n",
      "|      Rhycero|      177|\n",
      "|        Voomm|      220|\n",
      "|        Ntags|     1347|\n",
      "|      Zoonder|      395|\n",
      "|      Wordify|      851|\n",
      "|       Roodel|      551|\n",
      "|        Yozio|      582|\n",
      "|         Laj0|        1|\n",
      "|       Eimbee|      450|\n",
      "|         Lajo|      200|\n",
      "|     Kanoodle|      110|\n",
      "|    Realpoint|      143|\n",
      "|  Shufflebeat|     1375|\n",
      "|     Riffpath|      130|\n",
      "|  Twitterbeat|     2028|\n",
      "|   Thoughtmix|     2495|\n",
      "|      Innojam|       40|\n",
      "|            -|        1|\n",
      "|        Ntagz|        1|\n",
      "|       Avaveo|      181|\n",
      "|        Zooxo|     1502|\n",
      "|  Brainsphere|     1112|\n",
      "|     Buzzbean|     1120|\n",
      "|      Teklist|      387|\n",
      "|  Thoughtmixz|        1|\n",
      "|           aa|        1|\n",
      "+-------------+---------+\n",
      "\n"
     ]
    }
   ],
   "source": [
    "# Show the companies and their purchases\n",
    "transactions.groupBy('company')\\\n",
    "            .agg(f.count('price').alias('purchases'))\\\n",
    "            .show(40)"
   ]
  },
  {
   "cell_type": "markdown",
   "metadata": {
    "id": "rZofG7YNS1-C"
   },
   "source": [
    "Here it is seen that some company names doesn't exist (such as ' a'), while other are misspelled (such as Laj0 instead of Lajo).\n",
    "For some of the companies that doesn't exist it is seen that they are located the same place as one other company. E.g. if we look at New York:"
   ]
  },
  {
   "cell_type": "code",
   "execution_count": null,
   "metadata": {
    "colab": {
     "base_uri": "https://localhost:8080/"
    },
    "id": "CLm2oNGSYxXX",
    "outputId": "5f369757-7a50-4924-92da-2f3bd9a84533"
   },
   "outputs": [
    {
     "name": "stdout",
     "output_type": "stream",
     "text": [
      "+-------+---------+\n",
      "|company|purchases|\n",
      "+-------+---------+\n",
      "|      a|        1|\n",
      "|Wordify|      851|\n",
      "|     aa|        1|\n",
      "+-------+---------+\n",
      "\n"
     ]
    }
   ],
   "source": [
    "# Find all companies from New York\n",
    "transactions.where(transactions.city == 'New York')\\\n",
    "            .groupBy('company')\\\n",
    "            .agg(f.count('price').alias('purchases'))\\\n",
    "            .show()"
   ]
  },
  {
   "cell_type": "markdown",
   "metadata": {
    "id": "ROvRV3hYY4Ol"
   },
   "source": [
    "Here it is seen that 'aa', ' a' and 'Wordify' have the same location and 'aa'/' a' only have a single transaction. It is therefore assumed that these two companies are just wrongly registered transactions made by *Wordlify*: "
   ]
  },
  {
   "cell_type": "code",
   "execution_count": null,
   "metadata": {
    "id": "oef-ZuoYZEr9"
   },
   "outputs": [],
   "source": [
    "# Change 'aa' and ' a' to Wordify\n",
    "transactions = transactions.withColumn(\"company\",\n",
    "                                       when((transactions.company == 'aa')|(transactions.company == ' a'), 'Wordify')\\\n",
    "                                       .otherwise(transactions.company))"
   ]
  },
  {
   "cell_type": "code",
   "execution_count": null,
   "metadata": {
    "colab": {
     "base_uri": "https://localhost:8080/"
    },
    "id": "l7TAJt1JZI2g",
    "outputId": "0412f826-fd28-4fe8-e0c8-36642b7f2576"
   },
   "outputs": [
    {
     "name": "stdout",
     "output_type": "stream",
     "text": [
      "+-------+---------+\n",
      "|company|purchases|\n",
      "+-------+---------+\n",
      "|Wordify|      853|\n",
      "+-------+---------+\n",
      "\n"
     ]
    }
   ],
   "source": [
    "# Checking all companies from New York again\n",
    "transactions.where(transactions.city == 'New York')\\\n",
    "            .groupBy('company')\\\n",
    "            .agg(f.count('price').alias('purchases'))\\\n",
    "            .show()"
   ]
  },
  {
   "cell_type": "markdown",
   "metadata": {
    "id": "yOk_HDjcZPqO"
   },
   "source": [
    "The same thing is seen for ' -' and *Zoonder*, which we expect to be the same company:"
   ]
  },
  {
   "cell_type": "code",
   "execution_count": null,
   "metadata": {
    "id": "En773t8lZT_y"
   },
   "outputs": [],
   "source": [
    "# Transform '-' to Zoonder\n",
    "transactions = transactions.withColumn(\"company\",\n",
    "                                       when((transactions.company == ' -'), 'Zoonder')\\\n",
    "                                       .otherwise(transactions.company))"
   ]
  },
  {
   "cell_type": "markdown",
   "metadata": {
    "id": "qaSmQz7bWubU"
   },
   "source": [
    "For the rest of the misspelled companies, it is easy to see which company they were supposed to represent:"
   ]
  },
  {
   "cell_type": "code",
   "execution_count": null,
   "metadata": {
    "id": "THEsThwtZbEb"
   },
   "outputs": [],
   "source": [
    "# Transform Zooxo. to Zooxo\n",
    "transactions = transactions.withColumn(\"company\",\n",
    "                                       when((transactions.company == 'Zooxo.'), 'Zooxo')\\\n",
    "                                       .otherwise(transactions.company))"
   ]
  },
  {
   "cell_type": "code",
   "execution_count": null,
   "metadata": {
    "id": "VfDMXUTsZVX4"
   },
   "outputs": [],
   "source": [
    "# Transform Laj0 to Lajo\n",
    "transactions = transactions.withColumn(\"company\",\n",
    "                                       when((transactions.company == 'Laj0'), 'Lajo')\\\n",
    "                                       .otherwise(transactions.company))"
   ]
  },
  {
   "cell_type": "code",
   "execution_count": null,
   "metadata": {
    "id": "dAzWtznVZZQY"
   },
   "outputs": [],
   "source": [
    "# Transform Ntagz to Ntags\n",
    "transactions = transactions.withColumn(\"company\",\n",
    "                                       when((transactions.company == 'Ntagz'), 'Ntags')\\\n",
    "                                       .otherwise(transactions.company))"
   ]
  },
  {
   "cell_type": "code",
   "execution_count": null,
   "metadata": {
    "id": "arHnGzGdZXj4"
   },
   "outputs": [],
   "source": [
    "# Transform Thoughtmixz to Thoughtmix\n",
    "transactions = transactions.withColumn(\"company\",\n",
    "                                       when((transactions.company == 'Thoughtmixz'), 'Thoughtmix')\\\n",
    "                                       .otherwise(transactions.company))"
   ]
  },
  {
   "cell_type": "markdown",
   "metadata": {
    "id": "N5zFr3WoZeCM"
   },
   "source": [
    "Checking the companies again, it is seen that all misspelled and non-existing companies are removed and we can proceed to analyze the data:"
   ]
  },
  {
   "cell_type": "code",
   "execution_count": null,
   "metadata": {
    "colab": {
     "base_uri": "https://localhost:8080/"
    },
    "id": "DSrUpoAvZdLE",
    "outputId": "c88e3490-1e84-4518-95ba-c37dc947318c"
   },
   "outputs": [
    {
     "name": "stdout",
     "output_type": "stream",
     "text": [
      "+-------------+---------+\n",
      "|      company|purchases|\n",
      "+-------------+---------+\n",
      "|Chatterbridge|     1417|\n",
      "|      Tagtune|       11|\n",
      "|        Gevee|       35|\n",
      "|    Flipstorm|     1040|\n",
      "|      Gabcube|      322|\n",
      "|    Bubblemix|       45|\n",
      "|      Gabtune|       24|\n",
      "|      Rhycero|      177|\n",
      "|        Voomm|      220|\n",
      "|        Ntags|     1348|\n",
      "|      Zoonder|      396|\n",
      "|      Wordify|      853|\n",
      "|       Roodel|      551|\n",
      "|        Yozio|      582|\n",
      "|       Eimbee|      450|\n",
      "|         Lajo|      201|\n",
      "|     Kanoodle|      110|\n",
      "|    Realpoint|      143|\n",
      "|  Shufflebeat|     1375|\n",
      "|     Riffpath|      130|\n",
      "|  Twitterbeat|     2028|\n",
      "|   Thoughtmix|     2496|\n",
      "|      Innojam|       40|\n",
      "|       Avaveo|      181|\n",
      "|        Zooxo|     1504|\n",
      "|  Brainsphere|     1112|\n",
      "|     Buzzbean|     1120|\n",
      "|      Teklist|      387|\n",
      "+-------------+---------+\n",
      "\n"
     ]
    }
   ],
   "source": [
    "# Check all companies again\n",
    "transactions.groupBy('company')\\\n",
    "            .agg(f.count('price').alias('purchases'))\\\n",
    "            .show(30)"
   ]
  },
  {
   "cell_type": "markdown",
   "metadata": {
    "id": "A1V3Yy5C2C5h"
   },
   "source": [
    "## Part 2: Analyzing the data (32.5 pts)\n",
    "You are now ready to analyze the data. Your goal is to gain some actionable business insights to present to your boss. \n",
    "\n",
    "In this part, you should ask some questions and try to answer them based on the data. You should write SQL queries to retrieve the data for at least 3 out of the 6 parts below (2.1,..., 2.6). The remaining ones must be done with Spark functions). \n",
    "\n",
    "As you start to look into the questions, you'll realise that you need to enrich your data. For example: transaction prices are recorded in the local currency of the client (EUR, GBP, USD or JPY). You will need to convert these prices from local currency into a common currency such as EUR, for comparability. Describe the enrichments, as you perform them.\n",
    "\n",
    "Remember, you are taking this to your new boss, so think about how you present the data. Include headers, legends and well-written descriptions for graphs/charts. Think of the solutions you provide as an \"executive summary\" of your findings. You should put an effort in presentation and writing, not just coding.\n",
    "\n",
    "\n"
   ]
  },
  {
   "cell_type": "markdown",
   "metadata": {
    "id": "yQqaImmrN9YE"
   },
   "source": [
    "### Who are the most profitable clients? (20 pts)\n",
    "\n",
    "Knowing which clients that generate the most revenue for the company will assist your boss in distributing customer service ressources. Answer the following questions and provide appropriate visualisations for each of them. As mentioned before, include headers, legends and well-written descriptions for graphs/charts.\n"
   ]
  },
  {
   "cell_type": "markdown",
   "metadata": {
    "id": "8iEk4GDMOEXY"
   },
   "source": [
    "#### 2.1. How much revenue has each customer generated? (2.5 pts)\n",
    "\n",
    "**Compute and plot how much revenue each customer has generated over the three-year period. Write a paragraph describing the findings.**\n"
   ]
  },
  {
   "cell_type": "markdown",
   "metadata": {
    "id": "CznGcR2CYRkL"
   },
   "source": [
    "First we want extract the relevant data from the Dataframe using a SQL query. We are interested in finding the revenue generated from each company for all the data. To do this only the `company` and `price` column is used. A `GROUP BY` is then applied on the `company` column and the `price` column is summed for each company and renamed `revenue`. The data is then sorted by the revenue in descending order.\n",
    "\n",
    "The dataframe is then converted from a PySpark Dataframe to a Pandas dataframe to plot the data:"
   ]
  },
  {
   "cell_type": "code",
   "execution_count": null,
   "metadata": {
    "id": "kLOqZjofPC7E"
   },
   "outputs": [],
   "source": [
    "# Register the DataFrame as a temporary SQL view\n",
    "transactions.createOrReplaceTempView(\"transactions_sql\")\n",
    "\n",
    "# Create query to get revenue for each company\n",
    "query = \"\"\"\n",
    "        SELECT company, \n",
    "               SUM(price) AS revenue\n",
    "        FROM transactions_sql\n",
    "        GROUP BY company\n",
    "        ORDER BY revenue DESC\n",
    "        \"\"\"\n",
    "  \n",
    "# Create dataframe\n",
    "rev = spark.sql(query)\n",
    "rev_df = rev.toPandas()"
   ]
  },
  {
   "cell_type": "markdown",
   "metadata": {
    "id": "8xT_PA22aTo1"
   },
   "source": [
    "The data is then plotted using a bar plot so that it's possible to compare the companies revenue. The x-axis is the different companies, while the y-axis is the revenue in millions of Euro:"
   ]
  },
  {
   "cell_type": "code",
   "execution_count": null,
   "metadata": {
    "colab": {
     "base_uri": "https://localhost:8080/",
     "height": 542
    },
    "id": "SkNKiMjZRTvp",
    "outputId": "9c48e836-db00-4f60-b108-185ad065261a"
   },
   "outputs": [
    {
     "data": {
      "text/html": [
       "<html>\n",
       "<head><meta charset=\"utf-8\" /></head>\n",
       "<body>\n",
       "    <div>\n",
       "            <script src=\"https://cdnjs.cloudflare.com/ajax/libs/mathjax/2.7.5/MathJax.js?config=TeX-AMS-MML_SVG\"></script><script type=\"text/javascript\">if (window.MathJax) {MathJax.Hub.Config({SVG: {font: \"STIX-Web\"}});}</script>\n",
       "                <script type=\"text/javascript\">window.PlotlyConfig = {MathJaxConfig: 'local'};</script>\n",
       "        <script src=\"https://cdn.plot.ly/plotly-latest.min.js\"></script>    \n",
       "            <div id=\"a6b5c226-8a5f-4fdf-a6fe-ec3ecc615fd5\" class=\"plotly-graph-div\" style=\"height:525px; width:100%;\"></div>\n",
       "            <script type=\"text/javascript\">\n",
       "                \n",
       "                    window.PLOTLYENV=window.PLOTLYENV || {};\n",
       "                    \n",
       "                if (document.getElementById(\"a6b5c226-8a5f-4fdf-a6fe-ec3ecc615fd5\")) {\n",
       "                    Plotly.newPlot(\n",
       "                        'a6b5c226-8a5f-4fdf-a6fe-ec3ecc615fd5',\n",
       "                        [{\"type\": \"bar\", \"x\": [\"Thoughtmix\", \"Twitterbeat\", \"Zooxo\", \"Chatterbridge\", \"Shufflebeat\", \"Ntags\", \"Buzzbean\", \"Brainsphere\", \"Flipstorm\", \"Wordify\", \"Yozio\", \"Roodel\", \"Eimbee\", \"Teklist\", \"Zoonder\", \"Gabcube\", \"Voomm\", \"Avaveo\", \"Lajo\", \"Rhycero\", \"Riffpath\", \"Realpoint\", \"Kanoodle\", \"Bubblemix\", \"Innojam\", \"Gevee\", \"Gabtune\", \"Tagtune\"], \"y\": [1456860.6395864487, 1179072.0197560787, 867601.3366546631, 824121.1000556946, 820573.5097522736, 753964.920042038, 644505.299949646, 644453.2000541687, 591063.0700368881, 450728.4599454999, 328117.13064575195, 324340.3189357519, 268989.86926651, 218914.46007537842, 217549.94478988647, 185343.24038124084, 124663.95018005371, 111516.7198600769, 108978.96976852417, 97535.63027572632, 78051.1502494812, 77804.23014068604, 63665.12634277344, 23349.207527160645, 22824.55020904541, 22154.62001800537, 15771.61003112793, 6167.9500732421875]}],\n",
       "                        {\"template\": {\"data\": {\"bar\": [{\"error_x\": {\"color\": \"#2a3f5f\"}, \"error_y\": {\"color\": \"#2a3f5f\"}, \"marker\": {\"line\": {\"color\": \"#E5ECF6\", \"width\": 0.5}}, \"type\": \"bar\"}], \"barpolar\": [{\"marker\": {\"line\": {\"color\": \"#E5ECF6\", \"width\": 0.5}}, \"type\": \"barpolar\"}], \"carpet\": [{\"aaxis\": {\"endlinecolor\": \"#2a3f5f\", \"gridcolor\": \"white\", \"linecolor\": \"white\", \"minorgridcolor\": \"white\", \"startlinecolor\": \"#2a3f5f\"}, \"baxis\": {\"endlinecolor\": \"#2a3f5f\", \"gridcolor\": \"white\", \"linecolor\": \"white\", \"minorgridcolor\": \"white\", \"startlinecolor\": \"#2a3f5f\"}, \"type\": \"carpet\"}], \"choropleth\": [{\"colorbar\": {\"outlinewidth\": 0, \"ticks\": \"\"}, \"type\": \"choropleth\"}], \"contour\": [{\"colorbar\": {\"outlinewidth\": 0, \"ticks\": \"\"}, \"colorscale\": [[0.0, \"#0d0887\"], [0.1111111111111111, \"#46039f\"], [0.2222222222222222, \"#7201a8\"], [0.3333333333333333, \"#9c179e\"], [0.4444444444444444, \"#bd3786\"], [0.5555555555555556, \"#d8576b\"], [0.6666666666666666, \"#ed7953\"], [0.7777777777777778, \"#fb9f3a\"], [0.8888888888888888, \"#fdca26\"], [1.0, \"#f0f921\"]], \"type\": \"contour\"}], \"contourcarpet\": [{\"colorbar\": {\"outlinewidth\": 0, \"ticks\": \"\"}, \"type\": \"contourcarpet\"}], \"heatmap\": [{\"colorbar\": {\"outlinewidth\": 0, \"ticks\": \"\"}, \"colorscale\": [[0.0, \"#0d0887\"], [0.1111111111111111, \"#46039f\"], [0.2222222222222222, \"#7201a8\"], [0.3333333333333333, \"#9c179e\"], [0.4444444444444444, \"#bd3786\"], [0.5555555555555556, \"#d8576b\"], [0.6666666666666666, \"#ed7953\"], [0.7777777777777778, \"#fb9f3a\"], [0.8888888888888888, \"#fdca26\"], [1.0, \"#f0f921\"]], \"type\": \"heatmap\"}], \"heatmapgl\": [{\"colorbar\": {\"outlinewidth\": 0, \"ticks\": \"\"}, \"colorscale\": [[0.0, \"#0d0887\"], [0.1111111111111111, \"#46039f\"], [0.2222222222222222, \"#7201a8\"], [0.3333333333333333, \"#9c179e\"], [0.4444444444444444, \"#bd3786\"], [0.5555555555555556, \"#d8576b\"], [0.6666666666666666, \"#ed7953\"], [0.7777777777777778, \"#fb9f3a\"], [0.8888888888888888, \"#fdca26\"], [1.0, \"#f0f921\"]], \"type\": \"heatmapgl\"}], \"histogram\": [{\"marker\": {\"colorbar\": {\"outlinewidth\": 0, \"ticks\": \"\"}}, \"type\": \"histogram\"}], \"histogram2d\": [{\"colorbar\": {\"outlinewidth\": 0, \"ticks\": \"\"}, \"colorscale\": [[0.0, \"#0d0887\"], [0.1111111111111111, \"#46039f\"], [0.2222222222222222, \"#7201a8\"], [0.3333333333333333, \"#9c179e\"], [0.4444444444444444, \"#bd3786\"], [0.5555555555555556, \"#d8576b\"], [0.6666666666666666, \"#ed7953\"], [0.7777777777777778, \"#fb9f3a\"], [0.8888888888888888, \"#fdca26\"], [1.0, \"#f0f921\"]], \"type\": \"histogram2d\"}], \"histogram2dcontour\": [{\"colorbar\": {\"outlinewidth\": 0, \"ticks\": \"\"}, \"colorscale\": [[0.0, \"#0d0887\"], [0.1111111111111111, \"#46039f\"], [0.2222222222222222, \"#7201a8\"], [0.3333333333333333, \"#9c179e\"], [0.4444444444444444, \"#bd3786\"], [0.5555555555555556, \"#d8576b\"], [0.6666666666666666, \"#ed7953\"], [0.7777777777777778, \"#fb9f3a\"], [0.8888888888888888, \"#fdca26\"], [1.0, \"#f0f921\"]], \"type\": \"histogram2dcontour\"}], \"mesh3d\": [{\"colorbar\": {\"outlinewidth\": 0, \"ticks\": \"\"}, \"type\": \"mesh3d\"}], \"parcoords\": [{\"line\": {\"colorbar\": {\"outlinewidth\": 0, \"ticks\": \"\"}}, \"type\": \"parcoords\"}], \"pie\": [{\"automargin\": true, \"type\": \"pie\"}], \"scatter\": [{\"marker\": {\"colorbar\": {\"outlinewidth\": 0, \"ticks\": \"\"}}, \"type\": \"scatter\"}], \"scatter3d\": [{\"line\": {\"colorbar\": {\"outlinewidth\": 0, \"ticks\": \"\"}}, \"marker\": {\"colorbar\": {\"outlinewidth\": 0, \"ticks\": \"\"}}, \"type\": \"scatter3d\"}], \"scattercarpet\": [{\"marker\": {\"colorbar\": {\"outlinewidth\": 0, \"ticks\": \"\"}}, \"type\": \"scattercarpet\"}], \"scattergeo\": [{\"marker\": {\"colorbar\": {\"outlinewidth\": 0, \"ticks\": \"\"}}, \"type\": \"scattergeo\"}], \"scattergl\": [{\"marker\": {\"colorbar\": {\"outlinewidth\": 0, \"ticks\": \"\"}}, \"type\": \"scattergl\"}], \"scattermapbox\": [{\"marker\": {\"colorbar\": {\"outlinewidth\": 0, \"ticks\": \"\"}}, \"type\": \"scattermapbox\"}], \"scatterpolar\": [{\"marker\": {\"colorbar\": {\"outlinewidth\": 0, \"ticks\": \"\"}}, \"type\": \"scatterpolar\"}], \"scatterpolargl\": [{\"marker\": {\"colorbar\": {\"outlinewidth\": 0, \"ticks\": \"\"}}, \"type\": \"scatterpolargl\"}], \"scatterternary\": [{\"marker\": {\"colorbar\": {\"outlinewidth\": 0, \"ticks\": \"\"}}, \"type\": \"scatterternary\"}], \"surface\": [{\"colorbar\": {\"outlinewidth\": 0, \"ticks\": \"\"}, \"colorscale\": [[0.0, \"#0d0887\"], [0.1111111111111111, \"#46039f\"], [0.2222222222222222, \"#7201a8\"], [0.3333333333333333, \"#9c179e\"], [0.4444444444444444, \"#bd3786\"], [0.5555555555555556, \"#d8576b\"], [0.6666666666666666, \"#ed7953\"], [0.7777777777777778, \"#fb9f3a\"], [0.8888888888888888, \"#fdca26\"], [1.0, \"#f0f921\"]], \"type\": \"surface\"}], \"table\": [{\"cells\": {\"fill\": {\"color\": \"#EBF0F8\"}, \"line\": {\"color\": \"white\"}}, \"header\": {\"fill\": {\"color\": \"#C8D4E3\"}, \"line\": {\"color\": \"white\"}}, \"type\": \"table\"}]}, \"layout\": {\"annotationdefaults\": {\"arrowcolor\": \"#2a3f5f\", \"arrowhead\": 0, \"arrowwidth\": 1}, \"coloraxis\": {\"colorbar\": {\"outlinewidth\": 0, \"ticks\": \"\"}}, \"colorscale\": {\"diverging\": [[0, \"#8e0152\"], [0.1, \"#c51b7d\"], [0.2, \"#de77ae\"], [0.3, \"#f1b6da\"], [0.4, \"#fde0ef\"], [0.5, \"#f7f7f7\"], [0.6, \"#e6f5d0\"], [0.7, \"#b8e186\"], [0.8, \"#7fbc41\"], [0.9, \"#4d9221\"], [1, \"#276419\"]], \"sequential\": [[0.0, \"#0d0887\"], [0.1111111111111111, \"#46039f\"], [0.2222222222222222, \"#7201a8\"], [0.3333333333333333, \"#9c179e\"], [0.4444444444444444, \"#bd3786\"], [0.5555555555555556, \"#d8576b\"], [0.6666666666666666, \"#ed7953\"], [0.7777777777777778, \"#fb9f3a\"], [0.8888888888888888, \"#fdca26\"], [1.0, \"#f0f921\"]], \"sequentialminus\": [[0.0, \"#0d0887\"], [0.1111111111111111, \"#46039f\"], [0.2222222222222222, \"#7201a8\"], [0.3333333333333333, \"#9c179e\"], [0.4444444444444444, \"#bd3786\"], [0.5555555555555556, \"#d8576b\"], [0.6666666666666666, \"#ed7953\"], [0.7777777777777778, \"#fb9f3a\"], [0.8888888888888888, \"#fdca26\"], [1.0, \"#f0f921\"]]}, \"colorway\": [\"#636efa\", \"#EF553B\", \"#00cc96\", \"#ab63fa\", \"#FFA15A\", \"#19d3f3\", \"#FF6692\", \"#B6E880\", \"#FF97FF\", \"#FECB52\"], \"font\": {\"color\": \"#2a3f5f\"}, \"geo\": {\"bgcolor\": \"white\", \"lakecolor\": \"white\", \"landcolor\": \"#E5ECF6\", \"showlakes\": true, \"showland\": true, \"subunitcolor\": \"white\"}, \"hoverlabel\": {\"align\": \"left\"}, \"hovermode\": \"closest\", \"mapbox\": {\"style\": \"light\"}, \"paper_bgcolor\": \"white\", \"plot_bgcolor\": \"#E5ECF6\", \"polar\": {\"angularaxis\": {\"gridcolor\": \"white\", \"linecolor\": \"white\", \"ticks\": \"\"}, \"bgcolor\": \"#E5ECF6\", \"radialaxis\": {\"gridcolor\": \"white\", \"linecolor\": \"white\", \"ticks\": \"\"}}, \"scene\": {\"xaxis\": {\"backgroundcolor\": \"#E5ECF6\", \"gridcolor\": \"white\", \"gridwidth\": 2, \"linecolor\": \"white\", \"showbackground\": true, \"ticks\": \"\", \"zerolinecolor\": \"white\"}, \"yaxis\": {\"backgroundcolor\": \"#E5ECF6\", \"gridcolor\": \"white\", \"gridwidth\": 2, \"linecolor\": \"white\", \"showbackground\": true, \"ticks\": \"\", \"zerolinecolor\": \"white\"}, \"zaxis\": {\"backgroundcolor\": \"#E5ECF6\", \"gridcolor\": \"white\", \"gridwidth\": 2, \"linecolor\": \"white\", \"showbackground\": true, \"ticks\": \"\", \"zerolinecolor\": \"white\"}}, \"shapedefaults\": {\"line\": {\"color\": \"#2a3f5f\"}}, \"ternary\": {\"aaxis\": {\"gridcolor\": \"white\", \"linecolor\": \"white\", \"ticks\": \"\"}, \"baxis\": {\"gridcolor\": \"white\", \"linecolor\": \"white\", \"ticks\": \"\"}, \"bgcolor\": \"#E5ECF6\", \"caxis\": {\"gridcolor\": \"white\", \"linecolor\": \"white\", \"ticks\": \"\"}}, \"title\": {\"x\": 0.05}, \"xaxis\": {\"automargin\": true, \"gridcolor\": \"white\", \"linecolor\": \"white\", \"ticks\": \"\", \"title\": {\"standoff\": 15}, \"zerolinecolor\": \"white\", \"zerolinewidth\": 2}, \"yaxis\": {\"automargin\": true, \"gridcolor\": \"white\", \"linecolor\": \"white\", \"ticks\": \"\", \"title\": {\"standoff\": 15}, \"zerolinecolor\": \"white\", \"zerolinewidth\": 2}}}, \"title\": {\"text\": \"Revenue from companies\"}, \"yaxis\": {\"title\": {\"text\": \"Revenue in Euro\"}}},\n",
       "                        {\"responsive\": true}\n",
       "                    ).then(function(){\n",
       "                            \n",
       "var gd = document.getElementById('a6b5c226-8a5f-4fdf-a6fe-ec3ecc615fd5');\n",
       "var x = new MutationObserver(function (mutations, observer) {{\n",
       "        var display = window.getComputedStyle(gd).display;\n",
       "        if (!display || display === 'none') {{\n",
       "            console.log([gd, 'removed!']);\n",
       "            Plotly.purge(gd);\n",
       "            observer.disconnect();\n",
       "        }}\n",
       "}});\n",
       "\n",
       "// Listen for the removal of the full notebook cells\n",
       "var notebookContainer = gd.closest('#notebook-container');\n",
       "if (notebookContainer) {{\n",
       "    x.observe(notebookContainer, {childList: true});\n",
       "}}\n",
       "\n",
       "// Listen for the clearing of the current output cell\n",
       "var outputEl = gd.closest('.output');\n",
       "if (outputEl) {{\n",
       "    x.observe(outputEl, {childList: true});\n",
       "}}\n",
       "\n",
       "                        })\n",
       "                };\n",
       "                \n",
       "            </script>\n",
       "        </div>\n",
       "</body>\n",
       "</html>"
      ]
     },
     "metadata": {
      "tags": []
     },
     "output_type": "display_data"
    }
   ],
   "source": [
    "# Get the companies and the revenue\n",
    "companies = rev_df['company'].values\n",
    "revenue = rev_df['revenue'].values\n",
    "\n",
    "# Create a figure and add the bar plot\n",
    "fig = go.Figure()\n",
    "fig.add_trace(\n",
    "    go.Bar(\n",
    "        x=companies,\n",
    "        y=revenue\n",
    "    )\n",
    ")\n",
    "\n",
    "# Update title and axis labels\n",
    "fig.update_layout(\n",
    "    title='Revenue from companies',\n",
    "    yaxis=dict(\n",
    "        title='Revenue in Euro'\n",
    "    )\n",
    ")\n",
    "\n",
    "# Show the figure\n",
    "fig.show()"
   ]
  },
  {
   "cell_type": "markdown",
   "metadata": {
    "id": "BRgYy0Dras_Z"
   },
   "source": [
    "From the bar plot it is seen that *Thoughtmix* is the company that easily have generated the most revenue throughout the whole transaction history, while *Twitterbeat* also has generated a revenue that stands out from other customers.\n",
    "A lot of the companies have generally produed over half a million euro in revenue, but most companies $(\\approx 68\\%)$ have produced a revenue below half a million euro."
   ]
  },
  {
   "cell_type": "markdown",
   "metadata": {
    "id": "jB49LPZzOfj3"
   },
   "source": [
    "#### 2.2. What are the top 5 most revenue-generating customers? (7.5 pts)\n",
    "\n",
    "**Identify your best 5 customers.**\n"
   ]
  },
  {
   "cell_type": "markdown",
   "metadata": {
    "id": "J4U_2-DvJmlv"
   },
   "source": [
    "To find the five most revenue-generating customers, we take our previous Dataframe showing revenue from all customers. This Dataframe is ordered by the revenue in descending order. So to get the top five customers, we create a SQL query that takes the five first rows:"
   ]
  },
  {
   "cell_type": "code",
   "execution_count": null,
   "metadata": {
    "colab": {
     "base_uri": "https://localhost:8080/"
    },
    "id": "gT0OcuVRPCag",
    "outputId": "eef6b895-4346-4a4e-ab08-a3a9d6d3d679"
   },
   "outputs": [
    {
     "name": "stdout",
     "output_type": "stream",
     "text": [
      "+-------------+------------------+\n",
      "|      company|           revenue|\n",
      "+-------------+------------------+\n",
      "|   Thoughtmix|1456860.6395864487|\n",
      "|  Twitterbeat|1179072.0197560787|\n",
      "|        Zooxo| 867601.3366546631|\n",
      "|Chatterbridge| 824121.1000556946|\n",
      "|  Shufflebeat| 820573.5097522736|\n",
      "+-------------+------------------+\n",
      "\n"
     ]
    }
   ],
   "source": [
    "# Register the DataFrame as a temporary SQL view\n",
    "rev.createOrReplaceTempView(\"rev_sql\")\n",
    "\n",
    "# Create query to get the five first row in the previous dataframe\n",
    "query = \"\"\"\n",
    "        SELECT *\n",
    "        FROM rev_sql\n",
    "        LIMIT 5\n",
    "        \"\"\"\n",
    "\n",
    "# Create dataframe\n",
    "rev_top_5 = spark.sql(query)\n",
    "rev_top_5.show()"
   ]
  },
  {
   "cell_type": "markdown",
   "metadata": {
    "id": "KbF17PVIKCev"
   },
   "source": [
    "Here, as it also can be seen on the above bar plot, the five most revenue-generating customers are: *Thoughtmix*, *Twitterbeat*, *Zooxo*, *Chatterbridge*, and *Shufflebeat*."
   ]
  },
  {
   "cell_type": "markdown",
   "metadata": {
    "id": "IOwy0gfWPSKJ"
   },
   "source": [
    "**Are the most revenue-generating customers making particularly large purchase orders?**\n",
    "\n",
    "**Compute the answer, plot appropriately, and write a paragraph describing the findings.**"
   ]
  },
  {
   "cell_type": "markdown",
   "metadata": {
    "id": "nb7Wdv5kr8D6"
   },
   "source": [
    "There are multiple ways of examining this. One method is by looking at the average purchase prize for the customers. To get these, a SQL query is made to get the average price for every purchase made by a customer, by using the `AVG` function on the `price` column and using the `GROUP BY` function to group the date by the `company` column. This is then visualized in a bar plot:"
   ]
  },
  {
   "cell_type": "code",
   "execution_count": null,
   "metadata": {
    "id": "6XmIK4asPRsA"
   },
   "outputs": [],
   "source": [
    "# Register the DataFrame as a temporary SQL view\n",
    "rev_top_5.createOrReplaceTempView(\"top_5\")\n",
    "\n",
    "# Create a query to find the average of every purchase for each company\n",
    "query = \"\"\"\n",
    "        SELECT company, \n",
    "               AVG(price) AS average_price\n",
    "        FROM transactions_sql\n",
    "        GROUP BY company\n",
    "        ORDER BY average_price DESC\n",
    "        \"\"\"\n",
    "\n",
    "# Create dataframe\n",
    "avg_purchases = spark.sql(query)\n",
    "avg_purchases_df = avg_purchases.toPandas()\n",
    "\n",
    "# Get the top 5 companies\n",
    "top5 = list(rev_top_5.toPandas().company.values)"
   ]
  },
  {
   "cell_type": "code",
   "execution_count": null,
   "metadata": {
    "colab": {
     "base_uri": "https://localhost:8080/",
     "height": 542
    },
    "id": "kj5Cp8DxBpv-",
    "outputId": "45d2c3ea-c5ac-4e84-ac39-ece98111135f"
   },
   "outputs": [
    {
     "data": {
      "text/html": [
       "<html>\n",
       "<head><meta charset=\"utf-8\" /></head>\n",
       "<body>\n",
       "    <div>\n",
       "            <script src=\"https://cdnjs.cloudflare.com/ajax/libs/mathjax/2.7.5/MathJax.js?config=TeX-AMS-MML_SVG\"></script><script type=\"text/javascript\">if (window.MathJax) {MathJax.Hub.Config({SVG: {font: \"STIX-Web\"}});}</script>\n",
       "                <script type=\"text/javascript\">window.PlotlyConfig = {MathJaxConfig: 'local'};</script>\n",
       "        <script src=\"https://cdn.plot.ly/plotly-latest.min.js\"></script>    \n",
       "            <div id=\"2b8f3016-05b5-4e7b-91cc-891e7c0ba4cb\" class=\"plotly-graph-div\" style=\"height:525px; width:100%;\"></div>\n",
       "            <script type=\"text/javascript\">\n",
       "                \n",
       "                    window.PLOTLYENV=window.PLOTLYENV || {};\n",
       "                    \n",
       "                if (document.getElementById(\"2b8f3016-05b5-4e7b-91cc-891e7c0ba4cb\")) {\n",
       "                    Plotly.newPlot(\n",
       "                        '2b8f3016-05b5-4e7b-91cc-891e7c0ba4cb',\n",
       "                        [{\"marker\": {\"color\": [\"#4c72b0\", \"#4c72b0\", \"#4c72b0\", \"#4c72b0\", \"#4c72b0\", \"#c44e52\", \"#4c72b0\", \"#c44e52\", \"#c44e52\", \"#c44e52\", \"#4c72b0\", \"#4c72b0\", \"#c44e52\", \"#4c72b0\", \"#4c72b0\", \"#4c72b0\", \"#4c72b0\", \"#4c72b0\", \"#4c72b0\", \"#4c72b0\", \"#4c72b0\", \"#4c72b0\", \"#4c72b0\", \"#4c72b0\", \"#4c72b0\", \"#4c72b0\", \"#4c72b0\", \"#4c72b0\"]}, \"type\": \"bar\", \"x\": [\"Gabtune\", \"Gevee\", \"Avaveo\", \"Riffpath\", \"Eimbee\", \"Shufflebeat\", \"Roodel\", \"Thoughtmix\", \"Chatterbridge\", \"Twitterbeat\", \"Brainsphere\", \"Kanoodle\", \"Zooxo\", \"Gabcube\", \"Buzzbean\", \"Innojam\", \"Flipstorm\", \"Voomm\", \"Teklist\", \"Yozio\", \"Tagtune\", \"Ntags\", \"Rhycero\", \"Zoonder\", \"Realpoint\", \"Lajo\", \"Wordify\", \"Bubblemix\"], \"y\": [657.1504179636637, 632.989143371582, 616.1144743650658, 600.3934634575477, 597.7552650366889, 596.7807343652898, 588.6394173062648, 583.6781408599554, 581.5956951698621, 581.3964594457982, 579.5442446530294, 578.7738758433949, 576.8625908608133, 575.6001254075802, 575.4511606693268, 570.6137552261353, 568.3298750354694, 566.6543190002442, 565.6704394712621, 563.7751385665841, 560.722733931108, 559.3211573012151, 551.0487586199228, 549.3685474492082, 544.0855254593429, 542.1839291966377, 528.4038217415005, 518.8712783813477]}],\n",
       "                        {\"template\": {\"data\": {\"bar\": [{\"error_x\": {\"color\": \"#2a3f5f\"}, \"error_y\": {\"color\": \"#2a3f5f\"}, \"marker\": {\"line\": {\"color\": \"#E5ECF6\", \"width\": 0.5}}, \"type\": \"bar\"}], \"barpolar\": [{\"marker\": {\"line\": {\"color\": \"#E5ECF6\", \"width\": 0.5}}, \"type\": \"barpolar\"}], \"carpet\": [{\"aaxis\": {\"endlinecolor\": \"#2a3f5f\", \"gridcolor\": \"white\", \"linecolor\": \"white\", \"minorgridcolor\": \"white\", \"startlinecolor\": \"#2a3f5f\"}, \"baxis\": {\"endlinecolor\": \"#2a3f5f\", \"gridcolor\": \"white\", \"linecolor\": \"white\", \"minorgridcolor\": \"white\", \"startlinecolor\": \"#2a3f5f\"}, \"type\": \"carpet\"}], \"choropleth\": [{\"colorbar\": {\"outlinewidth\": 0, \"ticks\": \"\"}, \"type\": \"choropleth\"}], \"contour\": [{\"colorbar\": {\"outlinewidth\": 0, \"ticks\": \"\"}, \"colorscale\": [[0.0, \"#0d0887\"], [0.1111111111111111, \"#46039f\"], [0.2222222222222222, \"#7201a8\"], [0.3333333333333333, \"#9c179e\"], [0.4444444444444444, \"#bd3786\"], [0.5555555555555556, \"#d8576b\"], [0.6666666666666666, \"#ed7953\"], [0.7777777777777778, \"#fb9f3a\"], [0.8888888888888888, \"#fdca26\"], [1.0, \"#f0f921\"]], \"type\": \"contour\"}], \"contourcarpet\": [{\"colorbar\": {\"outlinewidth\": 0, \"ticks\": \"\"}, \"type\": \"contourcarpet\"}], \"heatmap\": [{\"colorbar\": {\"outlinewidth\": 0, \"ticks\": \"\"}, \"colorscale\": [[0.0, \"#0d0887\"], [0.1111111111111111, \"#46039f\"], [0.2222222222222222, \"#7201a8\"], [0.3333333333333333, \"#9c179e\"], [0.4444444444444444, \"#bd3786\"], [0.5555555555555556, \"#d8576b\"], [0.6666666666666666, \"#ed7953\"], [0.7777777777777778, \"#fb9f3a\"], [0.8888888888888888, \"#fdca26\"], [1.0, \"#f0f921\"]], \"type\": \"heatmap\"}], \"heatmapgl\": [{\"colorbar\": {\"outlinewidth\": 0, \"ticks\": \"\"}, \"colorscale\": [[0.0, \"#0d0887\"], [0.1111111111111111, \"#46039f\"], [0.2222222222222222, \"#7201a8\"], [0.3333333333333333, \"#9c179e\"], [0.4444444444444444, \"#bd3786\"], [0.5555555555555556, \"#d8576b\"], [0.6666666666666666, \"#ed7953\"], [0.7777777777777778, \"#fb9f3a\"], [0.8888888888888888, \"#fdca26\"], [1.0, \"#f0f921\"]], \"type\": \"heatmapgl\"}], \"histogram\": [{\"marker\": {\"colorbar\": {\"outlinewidth\": 0, \"ticks\": \"\"}}, \"type\": \"histogram\"}], \"histogram2d\": [{\"colorbar\": {\"outlinewidth\": 0, \"ticks\": \"\"}, \"colorscale\": [[0.0, \"#0d0887\"], [0.1111111111111111, \"#46039f\"], [0.2222222222222222, \"#7201a8\"], [0.3333333333333333, \"#9c179e\"], [0.4444444444444444, \"#bd3786\"], [0.5555555555555556, \"#d8576b\"], [0.6666666666666666, \"#ed7953\"], [0.7777777777777778, \"#fb9f3a\"], [0.8888888888888888, \"#fdca26\"], [1.0, \"#f0f921\"]], \"type\": \"histogram2d\"}], \"histogram2dcontour\": [{\"colorbar\": {\"outlinewidth\": 0, \"ticks\": \"\"}, \"colorscale\": [[0.0, \"#0d0887\"], [0.1111111111111111, \"#46039f\"], [0.2222222222222222, \"#7201a8\"], [0.3333333333333333, \"#9c179e\"], [0.4444444444444444, \"#bd3786\"], [0.5555555555555556, \"#d8576b\"], [0.6666666666666666, \"#ed7953\"], [0.7777777777777778, \"#fb9f3a\"], [0.8888888888888888, \"#fdca26\"], [1.0, \"#f0f921\"]], \"type\": \"histogram2dcontour\"}], \"mesh3d\": [{\"colorbar\": {\"outlinewidth\": 0, \"ticks\": \"\"}, \"type\": \"mesh3d\"}], \"parcoords\": [{\"line\": {\"colorbar\": {\"outlinewidth\": 0, \"ticks\": \"\"}}, \"type\": \"parcoords\"}], \"pie\": [{\"automargin\": true, \"type\": \"pie\"}], \"scatter\": [{\"marker\": {\"colorbar\": {\"outlinewidth\": 0, \"ticks\": \"\"}}, \"type\": \"scatter\"}], \"scatter3d\": [{\"line\": {\"colorbar\": {\"outlinewidth\": 0, \"ticks\": \"\"}}, \"marker\": {\"colorbar\": {\"outlinewidth\": 0, \"ticks\": \"\"}}, \"type\": \"scatter3d\"}], \"scattercarpet\": [{\"marker\": {\"colorbar\": {\"outlinewidth\": 0, \"ticks\": \"\"}}, \"type\": \"scattercarpet\"}], \"scattergeo\": [{\"marker\": {\"colorbar\": {\"outlinewidth\": 0, \"ticks\": \"\"}}, \"type\": \"scattergeo\"}], \"scattergl\": [{\"marker\": {\"colorbar\": {\"outlinewidth\": 0, \"ticks\": \"\"}}, \"type\": \"scattergl\"}], \"scattermapbox\": [{\"marker\": {\"colorbar\": {\"outlinewidth\": 0, \"ticks\": \"\"}}, \"type\": \"scattermapbox\"}], \"scatterpolar\": [{\"marker\": {\"colorbar\": {\"outlinewidth\": 0, \"ticks\": \"\"}}, \"type\": \"scatterpolar\"}], \"scatterpolargl\": [{\"marker\": {\"colorbar\": {\"outlinewidth\": 0, \"ticks\": \"\"}}, \"type\": \"scatterpolargl\"}], \"scatterternary\": [{\"marker\": {\"colorbar\": {\"outlinewidth\": 0, \"ticks\": \"\"}}, \"type\": \"scatterternary\"}], \"surface\": [{\"colorbar\": {\"outlinewidth\": 0, \"ticks\": \"\"}, \"colorscale\": [[0.0, \"#0d0887\"], [0.1111111111111111, \"#46039f\"], [0.2222222222222222, \"#7201a8\"], [0.3333333333333333, \"#9c179e\"], [0.4444444444444444, \"#bd3786\"], [0.5555555555555556, \"#d8576b\"], [0.6666666666666666, \"#ed7953\"], [0.7777777777777778, \"#fb9f3a\"], [0.8888888888888888, \"#fdca26\"], [1.0, \"#f0f921\"]], \"type\": \"surface\"}], \"table\": [{\"cells\": {\"fill\": {\"color\": \"#EBF0F8\"}, \"line\": {\"color\": \"white\"}}, \"header\": {\"fill\": {\"color\": \"#C8D4E3\"}, \"line\": {\"color\": \"white\"}}, \"type\": \"table\"}]}, \"layout\": {\"annotationdefaults\": {\"arrowcolor\": \"#2a3f5f\", \"arrowhead\": 0, \"arrowwidth\": 1}, \"coloraxis\": {\"colorbar\": {\"outlinewidth\": 0, \"ticks\": \"\"}}, \"colorscale\": {\"diverging\": [[0, \"#8e0152\"], [0.1, \"#c51b7d\"], [0.2, \"#de77ae\"], [0.3, \"#f1b6da\"], [0.4, \"#fde0ef\"], [0.5, \"#f7f7f7\"], [0.6, \"#e6f5d0\"], [0.7, \"#b8e186\"], [0.8, \"#7fbc41\"], [0.9, \"#4d9221\"], [1, \"#276419\"]], \"sequential\": [[0.0, \"#0d0887\"], [0.1111111111111111, \"#46039f\"], [0.2222222222222222, \"#7201a8\"], [0.3333333333333333, \"#9c179e\"], [0.4444444444444444, \"#bd3786\"], [0.5555555555555556, \"#d8576b\"], [0.6666666666666666, \"#ed7953\"], [0.7777777777777778, \"#fb9f3a\"], [0.8888888888888888, \"#fdca26\"], [1.0, \"#f0f921\"]], \"sequentialminus\": [[0.0, \"#0d0887\"], [0.1111111111111111, \"#46039f\"], [0.2222222222222222, \"#7201a8\"], [0.3333333333333333, \"#9c179e\"], [0.4444444444444444, \"#bd3786\"], [0.5555555555555556, \"#d8576b\"], [0.6666666666666666, \"#ed7953\"], [0.7777777777777778, \"#fb9f3a\"], [0.8888888888888888, \"#fdca26\"], [1.0, \"#f0f921\"]]}, \"colorway\": [\"#636efa\", \"#EF553B\", \"#00cc96\", \"#ab63fa\", \"#FFA15A\", \"#19d3f3\", \"#FF6692\", \"#B6E880\", \"#FF97FF\", \"#FECB52\"], \"font\": {\"color\": \"#2a3f5f\"}, \"geo\": {\"bgcolor\": \"white\", \"lakecolor\": \"white\", \"landcolor\": \"#E5ECF6\", \"showlakes\": true, \"showland\": true, \"subunitcolor\": \"white\"}, \"hoverlabel\": {\"align\": \"left\"}, \"hovermode\": \"closest\", \"mapbox\": {\"style\": \"light\"}, \"paper_bgcolor\": \"white\", \"plot_bgcolor\": \"#E5ECF6\", \"polar\": {\"angularaxis\": {\"gridcolor\": \"white\", \"linecolor\": \"white\", \"ticks\": \"\"}, \"bgcolor\": \"#E5ECF6\", \"radialaxis\": {\"gridcolor\": \"white\", \"linecolor\": \"white\", \"ticks\": \"\"}}, \"scene\": {\"xaxis\": {\"backgroundcolor\": \"#E5ECF6\", \"gridcolor\": \"white\", \"gridwidth\": 2, \"linecolor\": \"white\", \"showbackground\": true, \"ticks\": \"\", \"zerolinecolor\": \"white\"}, \"yaxis\": {\"backgroundcolor\": \"#E5ECF6\", \"gridcolor\": \"white\", \"gridwidth\": 2, \"linecolor\": \"white\", \"showbackground\": true, \"ticks\": \"\", \"zerolinecolor\": \"white\"}, \"zaxis\": {\"backgroundcolor\": \"#E5ECF6\", \"gridcolor\": \"white\", \"gridwidth\": 2, \"linecolor\": \"white\", \"showbackground\": true, \"ticks\": \"\", \"zerolinecolor\": \"white\"}}, \"shapedefaults\": {\"line\": {\"color\": \"#2a3f5f\"}}, \"ternary\": {\"aaxis\": {\"gridcolor\": \"white\", \"linecolor\": \"white\", \"ticks\": \"\"}, \"baxis\": {\"gridcolor\": \"white\", \"linecolor\": \"white\", \"ticks\": \"\"}, \"bgcolor\": \"#E5ECF6\", \"caxis\": {\"gridcolor\": \"white\", \"linecolor\": \"white\", \"ticks\": \"\"}}, \"title\": {\"x\": 0.05}, \"xaxis\": {\"automargin\": true, \"gridcolor\": \"white\", \"linecolor\": \"white\", \"ticks\": \"\", \"title\": {\"standoff\": 15}, \"zerolinecolor\": \"white\", \"zerolinewidth\": 2}, \"yaxis\": {\"automargin\": true, \"gridcolor\": \"white\", \"linecolor\": \"white\", \"ticks\": \"\", \"title\": {\"standoff\": 15}, \"zerolinecolor\": \"white\", \"zerolinewidth\": 2}}}, \"title\": {\"text\": \"Average Purchase Price for Each Company\"}, \"yaxis\": {\"title\": {\"text\": \"Average Purchase Price\"}}},\n",
       "                        {\"responsive\": true}\n",
       "                    ).then(function(){\n",
       "                            \n",
       "var gd = document.getElementById('2b8f3016-05b5-4e7b-91cc-891e7c0ba4cb');\n",
       "var x = new MutationObserver(function (mutations, observer) {{\n",
       "        var display = window.getComputedStyle(gd).display;\n",
       "        if (!display || display === 'none') {{\n",
       "            console.log([gd, 'removed!']);\n",
       "            Plotly.purge(gd);\n",
       "            observer.disconnect();\n",
       "        }}\n",
       "}});\n",
       "\n",
       "// Listen for the removal of the full notebook cells\n",
       "var notebookContainer = gd.closest('#notebook-container');\n",
       "if (notebookContainer) {{\n",
       "    x.observe(notebookContainer, {childList: true});\n",
       "}}\n",
       "\n",
       "// Listen for the clearing of the current output cell\n",
       "var outputEl = gd.closest('.output');\n",
       "if (outputEl) {{\n",
       "    x.observe(outputEl, {childList: true});\n",
       "}}\n",
       "\n",
       "                        })\n",
       "                };\n",
       "                \n",
       "            </script>\n",
       "        </div>\n",
       "</body>\n",
       "</html>"
      ]
     },
     "metadata": {
      "tags": []
     },
     "output_type": "display_data"
    }
   ],
   "source": [
    "# Get the companies, average price and create a colors list\n",
    "companies = avg_purchases_df['company'].values\n",
    "avg_price = avg_purchases_df['average_price'].values\n",
    "clrs = ['#c44e52' if (c in top5) else '#4c72b0' for c in companies]\n",
    "\n",
    "# Create a figure and add the bar plot\n",
    "fig = go.Figure()\n",
    "fig.add_trace(\n",
    "    go.Bar(\n",
    "        x=companies,\n",
    "        y=avg_price,\n",
    "        marker_color=clrs\n",
    "    )\n",
    ")\n",
    "\n",
    "# Update title and axis labels\n",
    "fig.update_layout(\n",
    "    title='Average Purchase Price for Each Company',\n",
    "    yaxis=dict(\n",
    "        title='Average Purchase Price'\n",
    "    )\n",
    ")\n",
    "\n",
    "# Show the figure\n",
    "fig.show()"
   ]
  },
  {
   "cell_type": "markdown",
   "metadata": {
    "id": "V2jH-E4gslIc"
   },
   "source": [
    "From the average purchase prize for all customers, it can be seen that the top five customers, on average, doesn't make the largest purchase orders and that there is five other customers making, on average, more expensive orders than the first customer in the top five (*Shufflebeat*).\n",
    "\n",
    "It is also possible to examine the most expensive purchases of each customer, as it might reveal if the five most revenue-generating customers have made large orders. To examine this, the average of the five most expensive purchase orders is found for all customers. The SQL query gives a row number for the purchase orders for each customers. The row numbers are given for the price of the purchase order in descending order, so the largest order for *Twitterbeat* is 1 and the second largest 2, etc. From this only the five largest orders are chosen, by limiting the row number to be five or lower and averaging the `price` column using a `GROUP BY` like above. The data is then visualized using a bar plot:"
   ]
  },
  {
   "cell_type": "code",
   "execution_count": null,
   "metadata": {
    "id": "jPeHIFavuuIx"
   },
   "outputs": [],
   "source": [
    "# Create a query to get the five largest purchases and average these for each\n",
    "# company\n",
    "query = \"\"\"\n",
    "        SELECT company, AVG(price) AS max_price\n",
    "        FROM (\n",
    "          SELECT *, ROW_NUMBER() OVER (PARTITION BY company ORDER BY price DESC) AS seqnum\n",
    "          FROM transactions_sql\n",
    "        ) \n",
    "        transactions_sql\n",
    "        WHERE seqnum <= 5\n",
    "        GROUP BY company\n",
    "        ORDER BY max_price DESC\n",
    "        \"\"\"\n",
    "\n",
    "# Create dataframe\n",
    "rev_top_5_purchases_max = spark.sql(query)\n",
    "max_purchases_df = rev_top_5_purchases_max.toPandas()"
   ]
  },
  {
   "cell_type": "code",
   "execution_count": null,
   "metadata": {
    "colab": {
     "base_uri": "https://localhost:8080/",
     "height": 542
    },
    "id": "ON5rwkDpC_b6",
    "outputId": "20beb902-b8f3-4386-fe24-faf9157667cf"
   },
   "outputs": [
    {
     "data": {
      "text/html": [
       "<html>\n",
       "<head><meta charset=\"utf-8\" /></head>\n",
       "<body>\n",
       "    <div>\n",
       "            <script src=\"https://cdnjs.cloudflare.com/ajax/libs/mathjax/2.7.5/MathJax.js?config=TeX-AMS-MML_SVG\"></script><script type=\"text/javascript\">if (window.MathJax) {MathJax.Hub.Config({SVG: {font: \"STIX-Web\"}});}</script>\n",
       "                <script type=\"text/javascript\">window.PlotlyConfig = {MathJaxConfig: 'local'};</script>\n",
       "        <script src=\"https://cdn.plot.ly/plotly-latest.min.js\"></script>    \n",
       "            <div id=\"01bcc6ec-736a-4e1c-996d-c56b38d6464b\" class=\"plotly-graph-div\" style=\"height:525px; width:100%;\"></div>\n",
       "            <script type=\"text/javascript\">\n",
       "                \n",
       "                    window.PLOTLYENV=window.PLOTLYENV || {};\n",
       "                    \n",
       "                if (document.getElementById(\"01bcc6ec-736a-4e1c-996d-c56b38d6464b\")) {\n",
       "                    Plotly.newPlot(\n",
       "                        '01bcc6ec-736a-4e1c-996d-c56b38d6464b',\n",
       "                        [{\"marker\": {\"color\": [\"#c44e52\", \"#4c72b0\", \"#c44e52\", \"#c44e52\", \"#4c72b0\", \"#c44e52\", \"#4c72b0\", \"#4c72b0\", \"#4c72b0\", \"#4c72b0\", \"#c44e52\", \"#4c72b0\", \"#4c72b0\", \"#4c72b0\", \"#4c72b0\", \"#4c72b0\", \"#4c72b0\", \"#4c72b0\", \"#4c72b0\", \"#4c72b0\", \"#4c72b0\", \"#4c72b0\", \"#4c72b0\", \"#4c72b0\", \"#4c72b0\", \"#4c72b0\", \"#4c72b0\", \"#4c72b0\"]}, \"type\": \"bar\", \"x\": [\"Thoughtmix\", \"Ntags\", \"Twitterbeat\", \"Chatterbridge\", \"Flipstorm\", \"Shufflebeat\", \"Eimbee\", \"Avaveo\", \"Brainsphere\", \"Roodel\", \"Zooxo\", \"Buzzbean\", \"Lajo\", \"Yozio\", \"Gabcube\", \"Wordify\", \"Teklist\", \"Voomm\", \"Realpoint\", \"Zoonder\", \"Rhycero\", \"Kanoodle\", \"Riffpath\", \"Innojam\", \"Gevee\", \"Gabtune\", \"Bubblemix\", \"Tagtune\"], \"y\": [1872.9320068359375, 1831.027978515625, 1799.5039794921875, 1747.735986328125, 1692.7880126953125, 1689.1880126953124, 1680.9519775390625, 1649.0779541015625, 1635.1980224609374, 1633.5399658203125, 1626.11904296875, 1603.0380126953125, 1543.381982421875, 1531.6820068359375, 1497.3539794921876, 1489.435888671875, 1472.393994140625, 1449.60400390625, 1376.3320068359376, 1368.70439453125, 1335.435986328125, 1309.22802734375, 1290.7739990234375, 1252.9380126953124, 1150.1, 1082.4599975585938, 974.7393920898437, 856.3360107421875]}],\n",
       "                        {\"template\": {\"data\": {\"bar\": [{\"error_x\": {\"color\": \"#2a3f5f\"}, \"error_y\": {\"color\": \"#2a3f5f\"}, \"marker\": {\"line\": {\"color\": \"#E5ECF6\", \"width\": 0.5}}, \"type\": \"bar\"}], \"barpolar\": [{\"marker\": {\"line\": {\"color\": \"#E5ECF6\", \"width\": 0.5}}, \"type\": \"barpolar\"}], \"carpet\": [{\"aaxis\": {\"endlinecolor\": \"#2a3f5f\", \"gridcolor\": \"white\", \"linecolor\": \"white\", \"minorgridcolor\": \"white\", \"startlinecolor\": \"#2a3f5f\"}, \"baxis\": {\"endlinecolor\": \"#2a3f5f\", \"gridcolor\": \"white\", \"linecolor\": \"white\", \"minorgridcolor\": \"white\", \"startlinecolor\": \"#2a3f5f\"}, \"type\": \"carpet\"}], \"choropleth\": [{\"colorbar\": {\"outlinewidth\": 0, \"ticks\": \"\"}, \"type\": \"choropleth\"}], \"contour\": [{\"colorbar\": {\"outlinewidth\": 0, \"ticks\": \"\"}, \"colorscale\": [[0.0, \"#0d0887\"], [0.1111111111111111, \"#46039f\"], [0.2222222222222222, \"#7201a8\"], [0.3333333333333333, \"#9c179e\"], [0.4444444444444444, \"#bd3786\"], [0.5555555555555556, \"#d8576b\"], [0.6666666666666666, \"#ed7953\"], [0.7777777777777778, \"#fb9f3a\"], [0.8888888888888888, \"#fdca26\"], [1.0, \"#f0f921\"]], \"type\": \"contour\"}], \"contourcarpet\": [{\"colorbar\": {\"outlinewidth\": 0, \"ticks\": \"\"}, \"type\": \"contourcarpet\"}], \"heatmap\": [{\"colorbar\": {\"outlinewidth\": 0, \"ticks\": \"\"}, \"colorscale\": [[0.0, \"#0d0887\"], [0.1111111111111111, \"#46039f\"], [0.2222222222222222, \"#7201a8\"], [0.3333333333333333, \"#9c179e\"], [0.4444444444444444, \"#bd3786\"], [0.5555555555555556, \"#d8576b\"], [0.6666666666666666, \"#ed7953\"], [0.7777777777777778, \"#fb9f3a\"], [0.8888888888888888, \"#fdca26\"], [1.0, \"#f0f921\"]], \"type\": \"heatmap\"}], \"heatmapgl\": [{\"colorbar\": {\"outlinewidth\": 0, \"ticks\": \"\"}, \"colorscale\": [[0.0, \"#0d0887\"], [0.1111111111111111, \"#46039f\"], [0.2222222222222222, \"#7201a8\"], [0.3333333333333333, \"#9c179e\"], [0.4444444444444444, \"#bd3786\"], [0.5555555555555556, \"#d8576b\"], [0.6666666666666666, \"#ed7953\"], [0.7777777777777778, \"#fb9f3a\"], [0.8888888888888888, \"#fdca26\"], [1.0, \"#f0f921\"]], \"type\": \"heatmapgl\"}], \"histogram\": [{\"marker\": {\"colorbar\": {\"outlinewidth\": 0, \"ticks\": \"\"}}, \"type\": \"histogram\"}], \"histogram2d\": [{\"colorbar\": {\"outlinewidth\": 0, \"ticks\": \"\"}, \"colorscale\": [[0.0, \"#0d0887\"], [0.1111111111111111, \"#46039f\"], [0.2222222222222222, \"#7201a8\"], [0.3333333333333333, \"#9c179e\"], [0.4444444444444444, \"#bd3786\"], [0.5555555555555556, \"#d8576b\"], [0.6666666666666666, \"#ed7953\"], [0.7777777777777778, \"#fb9f3a\"], [0.8888888888888888, \"#fdca26\"], [1.0, \"#f0f921\"]], \"type\": \"histogram2d\"}], \"histogram2dcontour\": [{\"colorbar\": {\"outlinewidth\": 0, \"ticks\": \"\"}, \"colorscale\": [[0.0, \"#0d0887\"], [0.1111111111111111, \"#46039f\"], [0.2222222222222222, \"#7201a8\"], [0.3333333333333333, \"#9c179e\"], [0.4444444444444444, \"#bd3786\"], [0.5555555555555556, \"#d8576b\"], [0.6666666666666666, \"#ed7953\"], [0.7777777777777778, \"#fb9f3a\"], [0.8888888888888888, \"#fdca26\"], [1.0, \"#f0f921\"]], \"type\": \"histogram2dcontour\"}], \"mesh3d\": [{\"colorbar\": {\"outlinewidth\": 0, \"ticks\": \"\"}, \"type\": \"mesh3d\"}], \"parcoords\": [{\"line\": {\"colorbar\": {\"outlinewidth\": 0, \"ticks\": \"\"}}, \"type\": \"parcoords\"}], \"pie\": [{\"automargin\": true, \"type\": \"pie\"}], \"scatter\": [{\"marker\": {\"colorbar\": {\"outlinewidth\": 0, \"ticks\": \"\"}}, \"type\": \"scatter\"}], \"scatter3d\": [{\"line\": {\"colorbar\": {\"outlinewidth\": 0, \"ticks\": \"\"}}, \"marker\": {\"colorbar\": {\"outlinewidth\": 0, \"ticks\": \"\"}}, \"type\": \"scatter3d\"}], \"scattercarpet\": [{\"marker\": {\"colorbar\": {\"outlinewidth\": 0, \"ticks\": \"\"}}, \"type\": \"scattercarpet\"}], \"scattergeo\": [{\"marker\": {\"colorbar\": {\"outlinewidth\": 0, \"ticks\": \"\"}}, \"type\": \"scattergeo\"}], \"scattergl\": [{\"marker\": {\"colorbar\": {\"outlinewidth\": 0, \"ticks\": \"\"}}, \"type\": \"scattergl\"}], \"scattermapbox\": [{\"marker\": {\"colorbar\": {\"outlinewidth\": 0, \"ticks\": \"\"}}, \"type\": \"scattermapbox\"}], \"scatterpolar\": [{\"marker\": {\"colorbar\": {\"outlinewidth\": 0, \"ticks\": \"\"}}, \"type\": \"scatterpolar\"}], \"scatterpolargl\": [{\"marker\": {\"colorbar\": {\"outlinewidth\": 0, \"ticks\": \"\"}}, \"type\": \"scatterpolargl\"}], \"scatterternary\": [{\"marker\": {\"colorbar\": {\"outlinewidth\": 0, \"ticks\": \"\"}}, \"type\": \"scatterternary\"}], \"surface\": [{\"colorbar\": {\"outlinewidth\": 0, \"ticks\": \"\"}, \"colorscale\": [[0.0, \"#0d0887\"], [0.1111111111111111, \"#46039f\"], [0.2222222222222222, \"#7201a8\"], [0.3333333333333333, \"#9c179e\"], [0.4444444444444444, \"#bd3786\"], [0.5555555555555556, \"#d8576b\"], [0.6666666666666666, \"#ed7953\"], [0.7777777777777778, \"#fb9f3a\"], [0.8888888888888888, \"#fdca26\"], [1.0, \"#f0f921\"]], \"type\": \"surface\"}], \"table\": [{\"cells\": {\"fill\": {\"color\": \"#EBF0F8\"}, \"line\": {\"color\": \"white\"}}, \"header\": {\"fill\": {\"color\": \"#C8D4E3\"}, \"line\": {\"color\": \"white\"}}, \"type\": \"table\"}]}, \"layout\": {\"annotationdefaults\": {\"arrowcolor\": \"#2a3f5f\", \"arrowhead\": 0, \"arrowwidth\": 1}, \"coloraxis\": {\"colorbar\": {\"outlinewidth\": 0, \"ticks\": \"\"}}, \"colorscale\": {\"diverging\": [[0, \"#8e0152\"], [0.1, \"#c51b7d\"], [0.2, \"#de77ae\"], [0.3, \"#f1b6da\"], [0.4, \"#fde0ef\"], [0.5, \"#f7f7f7\"], [0.6, \"#e6f5d0\"], [0.7, \"#b8e186\"], [0.8, \"#7fbc41\"], [0.9, \"#4d9221\"], [1, \"#276419\"]], \"sequential\": [[0.0, \"#0d0887\"], [0.1111111111111111, \"#46039f\"], [0.2222222222222222, \"#7201a8\"], [0.3333333333333333, \"#9c179e\"], [0.4444444444444444, \"#bd3786\"], [0.5555555555555556, \"#d8576b\"], [0.6666666666666666, \"#ed7953\"], [0.7777777777777778, \"#fb9f3a\"], [0.8888888888888888, \"#fdca26\"], [1.0, \"#f0f921\"]], \"sequentialminus\": [[0.0, \"#0d0887\"], [0.1111111111111111, \"#46039f\"], [0.2222222222222222, \"#7201a8\"], [0.3333333333333333, \"#9c179e\"], [0.4444444444444444, \"#bd3786\"], [0.5555555555555556, \"#d8576b\"], [0.6666666666666666, \"#ed7953\"], [0.7777777777777778, \"#fb9f3a\"], [0.8888888888888888, \"#fdca26\"], [1.0, \"#f0f921\"]]}, \"colorway\": [\"#636efa\", \"#EF553B\", \"#00cc96\", \"#ab63fa\", \"#FFA15A\", \"#19d3f3\", \"#FF6692\", \"#B6E880\", \"#FF97FF\", \"#FECB52\"], \"font\": {\"color\": \"#2a3f5f\"}, \"geo\": {\"bgcolor\": \"white\", \"lakecolor\": \"white\", \"landcolor\": \"#E5ECF6\", \"showlakes\": true, \"showland\": true, \"subunitcolor\": \"white\"}, \"hoverlabel\": {\"align\": \"left\"}, \"hovermode\": \"closest\", \"mapbox\": {\"style\": \"light\"}, \"paper_bgcolor\": \"white\", \"plot_bgcolor\": \"#E5ECF6\", \"polar\": {\"angularaxis\": {\"gridcolor\": \"white\", \"linecolor\": \"white\", \"ticks\": \"\"}, \"bgcolor\": \"#E5ECF6\", \"radialaxis\": {\"gridcolor\": \"white\", \"linecolor\": \"white\", \"ticks\": \"\"}}, \"scene\": {\"xaxis\": {\"backgroundcolor\": \"#E5ECF6\", \"gridcolor\": \"white\", \"gridwidth\": 2, \"linecolor\": \"white\", \"showbackground\": true, \"ticks\": \"\", \"zerolinecolor\": \"white\"}, \"yaxis\": {\"backgroundcolor\": \"#E5ECF6\", \"gridcolor\": \"white\", \"gridwidth\": 2, \"linecolor\": \"white\", \"showbackground\": true, \"ticks\": \"\", \"zerolinecolor\": \"white\"}, \"zaxis\": {\"backgroundcolor\": \"#E5ECF6\", \"gridcolor\": \"white\", \"gridwidth\": 2, \"linecolor\": \"white\", \"showbackground\": true, \"ticks\": \"\", \"zerolinecolor\": \"white\"}}, \"shapedefaults\": {\"line\": {\"color\": \"#2a3f5f\"}}, \"ternary\": {\"aaxis\": {\"gridcolor\": \"white\", \"linecolor\": \"white\", \"ticks\": \"\"}, \"baxis\": {\"gridcolor\": \"white\", \"linecolor\": \"white\", \"ticks\": \"\"}, \"bgcolor\": \"#E5ECF6\", \"caxis\": {\"gridcolor\": \"white\", \"linecolor\": \"white\", \"ticks\": \"\"}}, \"title\": {\"x\": 0.05}, \"xaxis\": {\"automargin\": true, \"gridcolor\": \"white\", \"linecolor\": \"white\", \"ticks\": \"\", \"title\": {\"standoff\": 15}, \"zerolinecolor\": \"white\", \"zerolinewidth\": 2}, \"yaxis\": {\"automargin\": true, \"gridcolor\": \"white\", \"linecolor\": \"white\", \"ticks\": \"\", \"title\": {\"standoff\": 15}, \"zerolinecolor\": \"white\", \"zerolinewidth\": 2}}}, \"title\": {\"text\": \"Top 5 Largest Purchases for Each Company\"}, \"yaxis\": {\"title\": {\"text\": \"Price\"}}},\n",
       "                        {\"responsive\": true}\n",
       "                    ).then(function(){\n",
       "                            \n",
       "var gd = document.getElementById('01bcc6ec-736a-4e1c-996d-c56b38d6464b');\n",
       "var x = new MutationObserver(function (mutations, observer) {{\n",
       "        var display = window.getComputedStyle(gd).display;\n",
       "        if (!display || display === 'none') {{\n",
       "            console.log([gd, 'removed!']);\n",
       "            Plotly.purge(gd);\n",
       "            observer.disconnect();\n",
       "        }}\n",
       "}});\n",
       "\n",
       "// Listen for the removal of the full notebook cells\n",
       "var notebookContainer = gd.closest('#notebook-container');\n",
       "if (notebookContainer) {{\n",
       "    x.observe(notebookContainer, {childList: true});\n",
       "}}\n",
       "\n",
       "// Listen for the clearing of the current output cell\n",
       "var outputEl = gd.closest('.output');\n",
       "if (outputEl) {{\n",
       "    x.observe(outputEl, {childList: true});\n",
       "}}\n",
       "\n",
       "                        })\n",
       "                };\n",
       "                \n",
       "            </script>\n",
       "        </div>\n",
       "</body>\n",
       "</html>"
      ]
     },
     "metadata": {
      "tags": []
     },
     "output_type": "display_data"
    }
   ],
   "source": [
    "# Get the companies, max_price and create a colors list\n",
    "companies = max_purchases_df['company'].values\n",
    "max_price = max_purchases_df['max_price'].values\n",
    "clrs = ['#c44e52' if (c in top5) else '#4c72b0' for c in companies]\n",
    "\n",
    "# Create a figure and add the bar plot\n",
    "fig = go.Figure()\n",
    "fig.add_trace(\n",
    "    go.Bar(\n",
    "        x=companies,\n",
    "        y=max_price,\n",
    "        marker_color=clrs\n",
    "    )\n",
    ")\n",
    "\n",
    "# Update title and axis labels\n",
    "fig.update_layout(\n",
    "    title='Top 5 Largest Purchases for Each Company',\n",
    "    yaxis=dict(\n",
    "        title='Price'\n",
    "    )\n",
    ")\n",
    "\n",
    "# Show the figure\n",
    "fig.show()"
   ]
  },
  {
   "cell_type": "markdown",
   "metadata": {
    "id": "_cRHd3Wou3hX"
   },
   "source": [
    "From the above bar plot it can be seen that several of the top five revenue-generating customers (the red bars) have made large purchase orders. Though, it's noticeable that a lot of customers are above *Zooxo*. This might indicate that a lot of revenue from customers might come from the amount of purchases they make and not necessarily the size/price of the purchases. "
   ]
  },
  {
   "cell_type": "markdown",
   "metadata": {
    "id": "j8W-C0xMPT3s"
   },
   "source": [
    "**Are they making a lot of purchases?** \n",
    "\n",
    "**Compute the answer, plot appropriately, and write a paragraph describing the findings.**\n"
   ]
  },
  {
   "cell_type": "markdown",
   "metadata": {
    "id": "yzrWmMcsMC26"
   },
   "source": [
    "To find out which customers have made the most orders, we create a SQL query that counts the amount of rows for each company, using a `GROUP BY` for the `company` column. This data is then sorted by the amount of purchases in descending order, so that the companies with most orders are at the top of the Dataframe. To visualize the data, a bar plot is created where the top five revenue-generating customers are marked as red:"
   ]
  },
  {
   "cell_type": "code",
   "execution_count": null,
   "metadata": {
    "id": "LaOsz-LqPWzF"
   },
   "outputs": [],
   "source": [
    "# Create a query to get the total amount of purchases for each company\n",
    "query = \"\"\"\n",
    "        SELECT company, \n",
    "               COUNT(*) as purchases\n",
    "        FROM transactions_sql\n",
    "        GROUP BY company\n",
    "        ORDER BY purchases DESC\n",
    "        \"\"\"\n",
    "\n",
    "# Create dataframe\n",
    "purchases_count = spark.sql(query)\n",
    "purchases_count_df = purchases_count.toPandas()"
   ]
  },
  {
   "cell_type": "code",
   "execution_count": null,
   "metadata": {
    "colab": {
     "base_uri": "https://localhost:8080/",
     "height": 542
    },
    "id": "0jNDOnGhD_zK",
    "outputId": "87f2c379-19f8-43c9-c80f-c17f8807976d"
   },
   "outputs": [
    {
     "data": {
      "text/html": [
       "<html>\n",
       "<head><meta charset=\"utf-8\" /></head>\n",
       "<body>\n",
       "    <div>\n",
       "            <script src=\"https://cdnjs.cloudflare.com/ajax/libs/mathjax/2.7.5/MathJax.js?config=TeX-AMS-MML_SVG\"></script><script type=\"text/javascript\">if (window.MathJax) {MathJax.Hub.Config({SVG: {font: \"STIX-Web\"}});}</script>\n",
       "                <script type=\"text/javascript\">window.PlotlyConfig = {MathJaxConfig: 'local'};</script>\n",
       "        <script src=\"https://cdn.plot.ly/plotly-latest.min.js\"></script>    \n",
       "            <div id=\"1e1f0f01-0469-44d4-8899-d160c96709de\" class=\"plotly-graph-div\" style=\"height:525px; width:100%;\"></div>\n",
       "            <script type=\"text/javascript\">\n",
       "                \n",
       "                    window.PLOTLYENV=window.PLOTLYENV || {};\n",
       "                    \n",
       "                if (document.getElementById(\"1e1f0f01-0469-44d4-8899-d160c96709de\")) {\n",
       "                    Plotly.newPlot(\n",
       "                        '1e1f0f01-0469-44d4-8899-d160c96709de',\n",
       "                        [{\"marker\": {\"color\": [\"#c44e52\", \"#c44e52\", \"#c44e52\", \"#c44e52\", \"#c44e52\", \"#4c72b0\", \"#4c72b0\", \"#4c72b0\", \"#4c72b0\", \"#4c72b0\", \"#4c72b0\", \"#4c72b0\", \"#4c72b0\", \"#4c72b0\", \"#4c72b0\", \"#4c72b0\", \"#4c72b0\", \"#4c72b0\", \"#4c72b0\", \"#4c72b0\", \"#4c72b0\", \"#4c72b0\", \"#4c72b0\", \"#4c72b0\", \"#4c72b0\", \"#4c72b0\", \"#4c72b0\", \"#4c72b0\"]}, \"type\": \"bar\", \"x\": [\"Thoughtmix\", \"Twitterbeat\", \"Zooxo\", \"Chatterbridge\", \"Shufflebeat\", \"Ntags\", \"Buzzbean\", \"Brainsphere\", \"Flipstorm\", \"Wordify\", \"Yozio\", \"Roodel\", \"Eimbee\", \"Zoonder\", \"Teklist\", \"Gabcube\", \"Voomm\", \"Lajo\", \"Avaveo\", \"Rhycero\", \"Realpoint\", \"Riffpath\", \"Kanoodle\", \"Bubblemix\", \"Innojam\", \"Gevee\", \"Gabtune\", \"Tagtune\"], \"y\": [2496, 2028, 1504, 1417, 1375, 1348, 1120, 1112, 1040, 853, 582, 551, 450, 396, 387, 322, 220, 201, 181, 177, 143, 130, 110, 45, 40, 35, 24, 11]}],\n",
       "                        {\"template\": {\"data\": {\"bar\": [{\"error_x\": {\"color\": \"#2a3f5f\"}, \"error_y\": {\"color\": \"#2a3f5f\"}, \"marker\": {\"line\": {\"color\": \"#E5ECF6\", \"width\": 0.5}}, \"type\": \"bar\"}], \"barpolar\": [{\"marker\": {\"line\": {\"color\": \"#E5ECF6\", \"width\": 0.5}}, \"type\": \"barpolar\"}], \"carpet\": [{\"aaxis\": {\"endlinecolor\": \"#2a3f5f\", \"gridcolor\": \"white\", \"linecolor\": \"white\", \"minorgridcolor\": \"white\", \"startlinecolor\": \"#2a3f5f\"}, \"baxis\": {\"endlinecolor\": \"#2a3f5f\", \"gridcolor\": \"white\", \"linecolor\": \"white\", \"minorgridcolor\": \"white\", \"startlinecolor\": \"#2a3f5f\"}, \"type\": \"carpet\"}], \"choropleth\": [{\"colorbar\": {\"outlinewidth\": 0, \"ticks\": \"\"}, \"type\": \"choropleth\"}], \"contour\": [{\"colorbar\": {\"outlinewidth\": 0, \"ticks\": \"\"}, \"colorscale\": [[0.0, \"#0d0887\"], [0.1111111111111111, \"#46039f\"], [0.2222222222222222, \"#7201a8\"], [0.3333333333333333, \"#9c179e\"], [0.4444444444444444, \"#bd3786\"], [0.5555555555555556, \"#d8576b\"], [0.6666666666666666, \"#ed7953\"], [0.7777777777777778, \"#fb9f3a\"], [0.8888888888888888, \"#fdca26\"], [1.0, \"#f0f921\"]], \"type\": \"contour\"}], \"contourcarpet\": [{\"colorbar\": {\"outlinewidth\": 0, \"ticks\": \"\"}, \"type\": \"contourcarpet\"}], \"heatmap\": [{\"colorbar\": {\"outlinewidth\": 0, \"ticks\": \"\"}, \"colorscale\": [[0.0, \"#0d0887\"], [0.1111111111111111, \"#46039f\"], [0.2222222222222222, \"#7201a8\"], [0.3333333333333333, \"#9c179e\"], [0.4444444444444444, \"#bd3786\"], [0.5555555555555556, \"#d8576b\"], [0.6666666666666666, \"#ed7953\"], [0.7777777777777778, \"#fb9f3a\"], [0.8888888888888888, \"#fdca26\"], [1.0, \"#f0f921\"]], \"type\": \"heatmap\"}], \"heatmapgl\": [{\"colorbar\": {\"outlinewidth\": 0, \"ticks\": \"\"}, \"colorscale\": [[0.0, \"#0d0887\"], [0.1111111111111111, \"#46039f\"], [0.2222222222222222, \"#7201a8\"], [0.3333333333333333, \"#9c179e\"], [0.4444444444444444, \"#bd3786\"], [0.5555555555555556, \"#d8576b\"], [0.6666666666666666, \"#ed7953\"], [0.7777777777777778, \"#fb9f3a\"], [0.8888888888888888, \"#fdca26\"], [1.0, \"#f0f921\"]], \"type\": \"heatmapgl\"}], \"histogram\": [{\"marker\": {\"colorbar\": {\"outlinewidth\": 0, \"ticks\": \"\"}}, \"type\": \"histogram\"}], \"histogram2d\": [{\"colorbar\": {\"outlinewidth\": 0, \"ticks\": \"\"}, \"colorscale\": [[0.0, \"#0d0887\"], [0.1111111111111111, \"#46039f\"], [0.2222222222222222, \"#7201a8\"], [0.3333333333333333, \"#9c179e\"], [0.4444444444444444, \"#bd3786\"], [0.5555555555555556, \"#d8576b\"], [0.6666666666666666, \"#ed7953\"], [0.7777777777777778, \"#fb9f3a\"], [0.8888888888888888, \"#fdca26\"], [1.0, \"#f0f921\"]], \"type\": \"histogram2d\"}], \"histogram2dcontour\": [{\"colorbar\": {\"outlinewidth\": 0, \"ticks\": \"\"}, \"colorscale\": [[0.0, \"#0d0887\"], [0.1111111111111111, \"#46039f\"], [0.2222222222222222, \"#7201a8\"], [0.3333333333333333, \"#9c179e\"], [0.4444444444444444, \"#bd3786\"], [0.5555555555555556, \"#d8576b\"], [0.6666666666666666, \"#ed7953\"], [0.7777777777777778, \"#fb9f3a\"], [0.8888888888888888, \"#fdca26\"], [1.0, \"#f0f921\"]], \"type\": \"histogram2dcontour\"}], \"mesh3d\": [{\"colorbar\": {\"outlinewidth\": 0, \"ticks\": \"\"}, \"type\": \"mesh3d\"}], \"parcoords\": [{\"line\": {\"colorbar\": {\"outlinewidth\": 0, \"ticks\": \"\"}}, \"type\": \"parcoords\"}], \"pie\": [{\"automargin\": true, \"type\": \"pie\"}], \"scatter\": [{\"marker\": {\"colorbar\": {\"outlinewidth\": 0, \"ticks\": \"\"}}, \"type\": \"scatter\"}], \"scatter3d\": [{\"line\": {\"colorbar\": {\"outlinewidth\": 0, \"ticks\": \"\"}}, \"marker\": {\"colorbar\": {\"outlinewidth\": 0, \"ticks\": \"\"}}, \"type\": \"scatter3d\"}], \"scattercarpet\": [{\"marker\": {\"colorbar\": {\"outlinewidth\": 0, \"ticks\": \"\"}}, \"type\": \"scattercarpet\"}], \"scattergeo\": [{\"marker\": {\"colorbar\": {\"outlinewidth\": 0, \"ticks\": \"\"}}, \"type\": \"scattergeo\"}], \"scattergl\": [{\"marker\": {\"colorbar\": {\"outlinewidth\": 0, \"ticks\": \"\"}}, \"type\": \"scattergl\"}], \"scattermapbox\": [{\"marker\": {\"colorbar\": {\"outlinewidth\": 0, \"ticks\": \"\"}}, \"type\": \"scattermapbox\"}], \"scatterpolar\": [{\"marker\": {\"colorbar\": {\"outlinewidth\": 0, \"ticks\": \"\"}}, \"type\": \"scatterpolar\"}], \"scatterpolargl\": [{\"marker\": {\"colorbar\": {\"outlinewidth\": 0, \"ticks\": \"\"}}, \"type\": \"scatterpolargl\"}], \"scatterternary\": [{\"marker\": {\"colorbar\": {\"outlinewidth\": 0, \"ticks\": \"\"}}, \"type\": \"scatterternary\"}], \"surface\": [{\"colorbar\": {\"outlinewidth\": 0, \"ticks\": \"\"}, \"colorscale\": [[0.0, \"#0d0887\"], [0.1111111111111111, \"#46039f\"], [0.2222222222222222, \"#7201a8\"], [0.3333333333333333, \"#9c179e\"], [0.4444444444444444, \"#bd3786\"], [0.5555555555555556, \"#d8576b\"], [0.6666666666666666, \"#ed7953\"], [0.7777777777777778, \"#fb9f3a\"], [0.8888888888888888, \"#fdca26\"], [1.0, \"#f0f921\"]], \"type\": \"surface\"}], \"table\": [{\"cells\": {\"fill\": {\"color\": \"#EBF0F8\"}, \"line\": {\"color\": \"white\"}}, \"header\": {\"fill\": {\"color\": \"#C8D4E3\"}, \"line\": {\"color\": \"white\"}}, \"type\": \"table\"}]}, \"layout\": {\"annotationdefaults\": {\"arrowcolor\": \"#2a3f5f\", \"arrowhead\": 0, \"arrowwidth\": 1}, \"coloraxis\": {\"colorbar\": {\"outlinewidth\": 0, \"ticks\": \"\"}}, \"colorscale\": {\"diverging\": [[0, \"#8e0152\"], [0.1, \"#c51b7d\"], [0.2, \"#de77ae\"], [0.3, \"#f1b6da\"], [0.4, \"#fde0ef\"], [0.5, \"#f7f7f7\"], [0.6, \"#e6f5d0\"], [0.7, \"#b8e186\"], [0.8, \"#7fbc41\"], [0.9, \"#4d9221\"], [1, \"#276419\"]], \"sequential\": [[0.0, \"#0d0887\"], [0.1111111111111111, \"#46039f\"], [0.2222222222222222, \"#7201a8\"], [0.3333333333333333, \"#9c179e\"], [0.4444444444444444, \"#bd3786\"], [0.5555555555555556, \"#d8576b\"], [0.6666666666666666, \"#ed7953\"], [0.7777777777777778, \"#fb9f3a\"], [0.8888888888888888, \"#fdca26\"], [1.0, \"#f0f921\"]], \"sequentialminus\": [[0.0, \"#0d0887\"], [0.1111111111111111, \"#46039f\"], [0.2222222222222222, \"#7201a8\"], [0.3333333333333333, \"#9c179e\"], [0.4444444444444444, \"#bd3786\"], [0.5555555555555556, \"#d8576b\"], [0.6666666666666666, \"#ed7953\"], [0.7777777777777778, \"#fb9f3a\"], [0.8888888888888888, \"#fdca26\"], [1.0, \"#f0f921\"]]}, \"colorway\": [\"#636efa\", \"#EF553B\", \"#00cc96\", \"#ab63fa\", \"#FFA15A\", \"#19d3f3\", \"#FF6692\", \"#B6E880\", \"#FF97FF\", \"#FECB52\"], \"font\": {\"color\": \"#2a3f5f\"}, \"geo\": {\"bgcolor\": \"white\", \"lakecolor\": \"white\", \"landcolor\": \"#E5ECF6\", \"showlakes\": true, \"showland\": true, \"subunitcolor\": \"white\"}, \"hoverlabel\": {\"align\": \"left\"}, \"hovermode\": \"closest\", \"mapbox\": {\"style\": \"light\"}, \"paper_bgcolor\": \"white\", \"plot_bgcolor\": \"#E5ECF6\", \"polar\": {\"angularaxis\": {\"gridcolor\": \"white\", \"linecolor\": \"white\", \"ticks\": \"\"}, \"bgcolor\": \"#E5ECF6\", \"radialaxis\": {\"gridcolor\": \"white\", \"linecolor\": \"white\", \"ticks\": \"\"}}, \"scene\": {\"xaxis\": {\"backgroundcolor\": \"#E5ECF6\", \"gridcolor\": \"white\", \"gridwidth\": 2, \"linecolor\": \"white\", \"showbackground\": true, \"ticks\": \"\", \"zerolinecolor\": \"white\"}, \"yaxis\": {\"backgroundcolor\": \"#E5ECF6\", \"gridcolor\": \"white\", \"gridwidth\": 2, \"linecolor\": \"white\", \"showbackground\": true, \"ticks\": \"\", \"zerolinecolor\": \"white\"}, \"zaxis\": {\"backgroundcolor\": \"#E5ECF6\", \"gridcolor\": \"white\", \"gridwidth\": 2, \"linecolor\": \"white\", \"showbackground\": true, \"ticks\": \"\", \"zerolinecolor\": \"white\"}}, \"shapedefaults\": {\"line\": {\"color\": \"#2a3f5f\"}}, \"ternary\": {\"aaxis\": {\"gridcolor\": \"white\", \"linecolor\": \"white\", \"ticks\": \"\"}, \"baxis\": {\"gridcolor\": \"white\", \"linecolor\": \"white\", \"ticks\": \"\"}, \"bgcolor\": \"#E5ECF6\", \"caxis\": {\"gridcolor\": \"white\", \"linecolor\": \"white\", \"ticks\": \"\"}}, \"title\": {\"x\": 0.05}, \"xaxis\": {\"automargin\": true, \"gridcolor\": \"white\", \"linecolor\": \"white\", \"ticks\": \"\", \"title\": {\"standoff\": 15}, \"zerolinecolor\": \"white\", \"zerolinewidth\": 2}, \"yaxis\": {\"automargin\": true, \"gridcolor\": \"white\", \"linecolor\": \"white\", \"ticks\": \"\", \"title\": {\"standoff\": 15}, \"zerolinecolor\": \"white\", \"zerolinewidth\": 2}}}, \"title\": {\"text\": \"Number of Purchases for Each Company\"}, \"yaxis\": {\"title\": {\"text\": \"Number of purchases\"}}},\n",
       "                        {\"responsive\": true}\n",
       "                    ).then(function(){\n",
       "                            \n",
       "var gd = document.getElementById('1e1f0f01-0469-44d4-8899-d160c96709de');\n",
       "var x = new MutationObserver(function (mutations, observer) {{\n",
       "        var display = window.getComputedStyle(gd).display;\n",
       "        if (!display || display === 'none') {{\n",
       "            console.log([gd, 'removed!']);\n",
       "            Plotly.purge(gd);\n",
       "            observer.disconnect();\n",
       "        }}\n",
       "}});\n",
       "\n",
       "// Listen for the removal of the full notebook cells\n",
       "var notebookContainer = gd.closest('#notebook-container');\n",
       "if (notebookContainer) {{\n",
       "    x.observe(notebookContainer, {childList: true});\n",
       "}}\n",
       "\n",
       "// Listen for the clearing of the current output cell\n",
       "var outputEl = gd.closest('.output');\n",
       "if (outputEl) {{\n",
       "    x.observe(outputEl, {childList: true});\n",
       "}}\n",
       "\n",
       "                        })\n",
       "                };\n",
       "                \n",
       "            </script>\n",
       "        </div>\n",
       "</body>\n",
       "</html>"
      ]
     },
     "metadata": {
      "tags": []
     },
     "output_type": "display_data"
    }
   ],
   "source": [
    "# Get the companies, purchases and create a colors list\n",
    "companies = purchases_count_df['company'].values\n",
    "purchases = purchases_count_df['purchases'].values\n",
    "clrs = ['#c44e52' if (c in top5) else '#4c72b0' for c in companies]\n",
    "\n",
    "# Create a figure and add the bar plot\n",
    "fig = go.Figure()\n",
    "fig.add_trace(\n",
    "    go.Bar(\n",
    "        x=companies,\n",
    "        y=purchases,\n",
    "        marker_color=clrs\n",
    "    )\n",
    ")\n",
    "\n",
    "# Update title and axis labels\n",
    "fig.update_layout(\n",
    "    title='Number of Purchases for Each Company',\n",
    "    yaxis=dict(\n",
    "        title='Number of purchases'\n",
    "    )\n",
    ")\n",
    "\n",
    "# Show the figure\n",
    "fig.show()"
   ]
  },
  {
   "cell_type": "markdown",
   "metadata": {
    "id": "FYXw0OJrNj1t"
   },
   "source": [
    "Here it can be seen that the top five most revenue-generating customers also are the customers placing most orders. *Thoughtmix* and *Twitterbeat* have placed a lot more orders (at about 1000 more for *Thoughtmix* and at least 500 more for *Twitterbeat*), compared to some of the other top customers, which is also reflected in the revenue from these customers."
   ]
  },
  {
   "cell_type": "markdown",
   "metadata": {
    "id": "C8kIdjQbOiTe"
   },
   "source": [
    "#### 2.3. Which parts have become more popular lately, also which are becoming less popular? (5 pts)\n",
    "\n",
    "**Improving stock turnover is important to a company. Large quantites of a product that don't sell will bring no revenue to the company as well as storage costs. Too few parts of a popular item may lead to possibly lost sales as they risk being sold out.**\n",
    "\n",
    "**Compute the answer, plot appropriately, and write a paragraph describing the findings.**"
   ]
  },
  {
   "cell_type": "markdown",
   "metadata": {
    "id": "f9CGnKdy3A4R"
   },
   "source": [
    "To see which parts have become more popular lately, it is necessary define an appropriate timeframe to look at. In this case, the sales for each year is found and the popularity is then defined to be the difference between the sales in 2018 and 2017. After finding the parts that have fallen or risen in popularit the most, we take a close look for the sales per quarter for some of the parts to see if the findings are true."
   ]
  },
  {
   "cell_type": "markdown",
   "metadata": {
    "id": "DHNGGyBpxYhW"
   },
   "source": [
    "First, all sales from 2019 are ignored, as there are only two sales in the transaction table for 2019:"
   ]
  },
  {
   "cell_type": "code",
   "execution_count": null,
   "metadata": {
    "colab": {
     "base_uri": "https://localhost:8080/"
    },
    "id": "BJtrdKlk3HGL",
    "outputId": "53221cac-9860-4d46-964d-86a61c1ce26e"
   },
   "outputs": [
    {
     "name": "stdout",
     "output_type": "stream",
     "text": [
      "+----------+----+\n",
      "|      part|2019|\n",
      "+----------+----+\n",
      "|49288-0285|   1|\n",
      "| 43419-018|   1|\n",
      "+----------+----+\n",
      "\n"
     ]
    }
   ],
   "source": [
    "# Query that finds all parts which had a sale in 2019\n",
    "query = f\"\"\"\n",
    "        WITH 2019_sql AS\n",
    "        (\n",
    "          SELECT part,\n",
    "                 COUNT(CASE WHEN YEAR(date) = 2019 THEN company END) AS `2019`\n",
    "          FROM transactions_sql\n",
    "          GROUP BY part\n",
    "        )\n",
    "        SELECT *\n",
    "        FROM 2019_sql\n",
    "        WHERE `2019` > 0\n",
    "        \"\"\"\n",
    "\n",
    "# Showing the dataframe\n",
    "spark.sql(query).show()"
   ]
  },
  {
   "cell_type": "markdown",
   "metadata": {
    "id": "KjRHHWqPRfWg"
   },
   "source": [
    "Now, all sales are found and the popularity is calculated as the sales from 2018 substracted with the sales of 2017. Using a SQL query, this is done by creating a temporary table, with columns showing the sales for each year, which is found by grouping the rows by the `part` column. From this temporary table, the popularity can be calculated:"
   ]
  },
  {
   "cell_type": "code",
   "execution_count": null,
   "metadata": {
    "id": "K35l8ZBvPB54"
   },
   "outputs": [],
   "source": [
    "# Creating query to get sales for each part from 2016 to 2018 and the popularity \n",
    "query = \"\"\"\n",
    "        WITH parts_sql AS\n",
    "        (\n",
    "          SELECT part, \n",
    "                 COUNT(CASE WHEN YEAR(date) = 2016 THEN company END) AS `2016`,\n",
    "                 COUNT(CASE WHEN YEAR(date) = 2017 THEN company END) AS `2017`,\n",
    "                 COUNT(CASE WHEN YEAR(date) = 2018 THEN company END) AS `2018`\n",
    "          FROM transactions_sql\n",
    "          GROUP BY part\n",
    "        )\n",
    "        SELECT *,\n",
    "               `2018` - `2017` AS popularity\n",
    "        FROM parts_sql\n",
    "        \"\"\"\n",
    "\n",
    "# Creating dataframe\n",
    "parts_popularity = spark.sql(query)\n",
    "parts_popularity_df = parts_popularity.toPandas()"
   ]
  },
  {
   "cell_type": "markdown",
   "metadata": {
    "id": "5xSRcnLu4__Z"
   },
   "source": [
    "Now, we find all the parts which have risen in popularity from 2017 to 2018. From this list, we show the 10 parts which has risen the most in popularity:"
   ]
  },
  {
   "cell_type": "code",
   "execution_count": null,
   "metadata": {
    "colab": {
     "base_uri": "https://localhost:8080/",
     "height": 376
    },
    "id": "UzEzYr5q4_xl",
    "outputId": "2e949eac-7f12-41e7-aca1-ab5cdc6b4d45"
   },
   "outputs": [
    {
     "name": "stdout",
     "output_type": "stream",
     "text": [
      "The amount of parts for which the sales rose from 2017 to 2018: 60\n"
     ]
    },
    {
     "data": {
      "text/html": [
       "<div>\n",
       "<style scoped>\n",
       "    .dataframe tbody tr th:only-of-type {\n",
       "        vertical-align: middle;\n",
       "    }\n",
       "\n",
       "    .dataframe tbody tr th {\n",
       "        vertical-align: top;\n",
       "    }\n",
       "\n",
       "    .dataframe thead th {\n",
       "        text-align: right;\n",
       "    }\n",
       "</style>\n",
       "<table border=\"1\" class=\"dataframe\">\n",
       "  <thead>\n",
       "    <tr style=\"text-align: right;\">\n",
       "      <th></th>\n",
       "      <th>part</th>\n",
       "      <th>2016</th>\n",
       "      <th>2017</th>\n",
       "      <th>2018</th>\n",
       "      <th>popularity</th>\n",
       "    </tr>\n",
       "  </thead>\n",
       "  <tbody>\n",
       "    <tr>\n",
       "      <th>23</th>\n",
       "      <td>0699-7041</td>\n",
       "      <td>85</td>\n",
       "      <td>61</td>\n",
       "      <td>95</td>\n",
       "      <td>34</td>\n",
       "    </tr>\n",
       "    <tr>\n",
       "      <th>38</th>\n",
       "      <td>37205-992</td>\n",
       "      <td>103</td>\n",
       "      <td>66</td>\n",
       "      <td>97</td>\n",
       "      <td>31</td>\n",
       "    </tr>\n",
       "    <tr>\n",
       "      <th>2</th>\n",
       "      <td>55700-014</td>\n",
       "      <td>62</td>\n",
       "      <td>67</td>\n",
       "      <td>94</td>\n",
       "      <td>27</td>\n",
       "    </tr>\n",
       "    <tr>\n",
       "      <th>26</th>\n",
       "      <td>55289-164</td>\n",
       "      <td>42</td>\n",
       "      <td>46</td>\n",
       "      <td>69</td>\n",
       "      <td>23</td>\n",
       "    </tr>\n",
       "    <tr>\n",
       "      <th>3</th>\n",
       "      <td>51138-049</td>\n",
       "      <td>90</td>\n",
       "      <td>70</td>\n",
       "      <td>92</td>\n",
       "      <td>22</td>\n",
       "    </tr>\n",
       "    <tr>\n",
       "      <th>39</th>\n",
       "      <td>54868-6311</td>\n",
       "      <td>35</td>\n",
       "      <td>40</td>\n",
       "      <td>62</td>\n",
       "      <td>22</td>\n",
       "    </tr>\n",
       "    <tr>\n",
       "      <th>56</th>\n",
       "      <td>16729-167</td>\n",
       "      <td>80</td>\n",
       "      <td>64</td>\n",
       "      <td>85</td>\n",
       "      <td>21</td>\n",
       "    </tr>\n",
       "    <tr>\n",
       "      <th>25</th>\n",
       "      <td>21695-931</td>\n",
       "      <td>55</td>\n",
       "      <td>50</td>\n",
       "      <td>70</td>\n",
       "      <td>20</td>\n",
       "    </tr>\n",
       "    <tr>\n",
       "      <th>35</th>\n",
       "      <td>10267-2529</td>\n",
       "      <td>56</td>\n",
       "      <td>46</td>\n",
       "      <td>66</td>\n",
       "      <td>20</td>\n",
       "    </tr>\n",
       "    <tr>\n",
       "      <th>16</th>\n",
       "      <td>13537-259</td>\n",
       "      <td>76</td>\n",
       "      <td>81</td>\n",
       "      <td>100</td>\n",
       "      <td>19</td>\n",
       "    </tr>\n",
       "  </tbody>\n",
       "</table>\n",
       "</div>"
      ],
      "text/plain": [
       "          part  2016  2017  2018  popularity\n",
       "23   0699-7041    85    61    95          34\n",
       "38   37205-992   103    66    97          31\n",
       "2    55700-014    62    67    94          27\n",
       "26   55289-164    42    46    69          23\n",
       "3    51138-049    90    70    92          22\n",
       "39  54868-6311    35    40    62          22\n",
       "56   16729-167    80    64    85          21\n",
       "25   21695-931    55    50    70          20\n",
       "35  10267-2529    56    46    66          20\n",
       "16   13537-259    76    81   100          19"
      ]
     },
     "execution_count": 82,
     "metadata": {
      "tags": []
     },
     "output_type": "execute_result"
    }
   ],
   "source": [
    "# Creating condition to only show parts with popularity higher than 0\n",
    "condition = parts_popularity_df.popularity > 0\n",
    "\n",
    "# Count the amount of companies with positive popularity and display the top 10\n",
    "print(f'The amount of parts for which the sales rose from 2017 to 2018: {len(parts_popularity_df[condition])}')\n",
    "parts_popularity_df[condition].reset_index(drop=True).sort_values('popularity', ascending=False).head(10)"
   ]
  },
  {
   "cell_type": "markdown",
   "metadata": {
    "id": "HWYy3YBE5CsU"
   },
   "source": [
    "Now, we find all the parts which have fallen in popularity from 2017 to 2018. From this list, we show the 10 parts which has fallen the most in popularity:"
   ]
  },
  {
   "cell_type": "code",
   "execution_count": null,
   "metadata": {
    "colab": {
     "base_uri": "https://localhost:8080/",
     "height": 376
    },
    "id": "Zw-lemZH4_uC",
    "outputId": "9d8899eb-c0d1-4805-cb08-5cce4480a9ce"
   },
   "outputs": [
    {
     "name": "stdout",
     "output_type": "stream",
     "text": [
      "The amount of parts for which the sales fell from 2017 to 2018: 38\n"
     ]
    },
    {
     "data": {
      "text/html": [
       "<div>\n",
       "<style scoped>\n",
       "    .dataframe tbody tr th:only-of-type {\n",
       "        vertical-align: middle;\n",
       "    }\n",
       "\n",
       "    .dataframe tbody tr th {\n",
       "        vertical-align: top;\n",
       "    }\n",
       "\n",
       "    .dataframe thead th {\n",
       "        text-align: right;\n",
       "    }\n",
       "</style>\n",
       "<table border=\"1\" class=\"dataframe\">\n",
       "  <thead>\n",
       "    <tr style=\"text-align: right;\">\n",
       "      <th></th>\n",
       "      <th>part</th>\n",
       "      <th>2016</th>\n",
       "      <th>2017</th>\n",
       "      <th>2018</th>\n",
       "      <th>popularity</th>\n",
       "    </tr>\n",
       "  </thead>\n",
       "  <tbody>\n",
       "    <tr>\n",
       "      <th>33</th>\n",
       "      <td>10237-832</td>\n",
       "      <td>67</td>\n",
       "      <td>105</td>\n",
       "      <td>73</td>\n",
       "      <td>-32</td>\n",
       "    </tr>\n",
       "    <tr>\n",
       "      <th>25</th>\n",
       "      <td>51346-145</td>\n",
       "      <td>80</td>\n",
       "      <td>102</td>\n",
       "      <td>80</td>\n",
       "      <td>-22</td>\n",
       "    </tr>\n",
       "    <tr>\n",
       "      <th>4</th>\n",
       "      <td>21695-267</td>\n",
       "      <td>56</td>\n",
       "      <td>66</td>\n",
       "      <td>49</td>\n",
       "      <td>-17</td>\n",
       "    </tr>\n",
       "    <tr>\n",
       "      <th>6</th>\n",
       "      <td>58118-5060</td>\n",
       "      <td>77</td>\n",
       "      <td>100</td>\n",
       "      <td>84</td>\n",
       "      <td>-16</td>\n",
       "    </tr>\n",
       "    <tr>\n",
       "      <th>7</th>\n",
       "      <td>49349-471</td>\n",
       "      <td>49</td>\n",
       "      <td>68</td>\n",
       "      <td>52</td>\n",
       "      <td>-16</td>\n",
       "    </tr>\n",
       "    <tr>\n",
       "      <th>26</th>\n",
       "      <td>68462-565</td>\n",
       "      <td>82</td>\n",
       "      <td>90</td>\n",
       "      <td>74</td>\n",
       "      <td>-16</td>\n",
       "    </tr>\n",
       "    <tr>\n",
       "      <th>5</th>\n",
       "      <td>35356-325</td>\n",
       "      <td>61</td>\n",
       "      <td>77</td>\n",
       "      <td>62</td>\n",
       "      <td>-15</td>\n",
       "    </tr>\n",
       "    <tr>\n",
       "      <th>17</th>\n",
       "      <td>43419-018</td>\n",
       "      <td>47</td>\n",
       "      <td>62</td>\n",
       "      <td>47</td>\n",
       "      <td>-15</td>\n",
       "    </tr>\n",
       "    <tr>\n",
       "      <th>23</th>\n",
       "      <td>54868-5165</td>\n",
       "      <td>45</td>\n",
       "      <td>76</td>\n",
       "      <td>62</td>\n",
       "      <td>-14</td>\n",
       "    </tr>\n",
       "    <tr>\n",
       "      <th>10</th>\n",
       "      <td>17156-617</td>\n",
       "      <td>86</td>\n",
       "      <td>101</td>\n",
       "      <td>88</td>\n",
       "      <td>-13</td>\n",
       "    </tr>\n",
       "  </tbody>\n",
       "</table>\n",
       "</div>"
      ],
      "text/plain": [
       "          part  2016  2017  2018  popularity\n",
       "33   10237-832    67   105    73         -32\n",
       "25   51346-145    80   102    80         -22\n",
       "4    21695-267    56    66    49         -17\n",
       "6   58118-5060    77   100    84         -16\n",
       "7    49349-471    49    68    52         -16\n",
       "26   68462-565    82    90    74         -16\n",
       "5    35356-325    61    77    62         -15\n",
       "17   43419-018    47    62    47         -15\n",
       "23  54868-5165    45    76    62         -14\n",
       "10   17156-617    86   101    88         -13"
      ]
     },
     "execution_count": 83,
     "metadata": {
      "tags": []
     },
     "output_type": "execute_result"
    }
   ],
   "source": [
    "# Creating condition to only show parts with popularity lower than 0\n",
    "condition = parts_popularity_df.popularity < 0\n",
    "\n",
    "# Count the amount of companies with negative popularity and display the top 10\n",
    "print(f'The amount of parts for which the sales fell from 2017 to 2018: {len(parts_popularity_df[condition])}')\n",
    "parts_popularity_df[condition].reset_index(drop=True).sort_values('popularity', ascending=True).head(10)"
   ]
  },
  {
   "cell_type": "markdown",
   "metadata": {
    "id": "Iu6l-iN9ITzE"
   },
   "source": [
    "From the two lists it's seen that the two parts that have risen most in popularity is *0699-7041* and *37205-992*, while the two parts what have decreased most is *10237-832* and *51346-145*. "
   ]
  },
  {
   "cell_type": "markdown",
   "metadata": {
    "id": "5xMKBx3QITw3"
   },
   "source": [
    "To take a closer look at these parts (and all others) a plot is created, that shows the quarterly sales. First, a new SQL query is created, to group sales by parts and  yearly quarter, which is then plotted and can be explored in the plot below:"
   ]
  },
  {
   "cell_type": "code",
   "execution_count": null,
   "metadata": {
    "id": "kAB2HExl8NUm"
   },
   "outputs": [],
   "source": [
    "# Query to remove all rows which is from 2019\n",
    "query = \"\"\"\n",
    "        SELECT *\n",
    "        FROM transactions_sql\n",
    "        WHERE YEAR(date) < 2019\n",
    "        \"\"\"\n",
    "\n",
    "# Execute query and create a temporary SQL table\n",
    "parts_popularity = spark.sql(query)\n",
    "parts_popularity.createOrReplaceTempView(\"parts_popularity_sql\")\n",
    "\n",
    "# Create query to get all sales for each part per yearly quarter \n",
    "query = \"\"\"\n",
    "        SELECT part,\n",
    "               CONCAT(CAST(YEAR(date) AS string), 'Q', CAST(QUARTER(date) AS string)) AS date_quarter, \n",
    "               COUNT(1) AS sales\n",
    "        FROM parts_popularity_sql\n",
    "        GROUP BY part, date_quarter\n",
    "        ORDER BY part, date_quarter ASC\n",
    "        \"\"\"\n",
    "\n",
    "# Create dataframe\n",
    "parts_popularity = spark.sql(query)\n",
    "parts_popularity_df = parts_popularity.toPandas()"
   ]
  },
  {
   "cell_type": "code",
   "execution_count": null,
   "metadata": {
    "colab": {
     "base_uri": "https://localhost:8080/",
     "height": 542
    },
    "id": "8fyBSgDZxO8a",
    "outputId": "1ec6f7c1-21c7-4f18-ce4e-4a5141e35cfa"
   },
   "outputs": [
    {
     "data": {
      "text/html": [
       "<html>\n",
       "<head><meta charset=\"utf-8\" /></head>\n",
       "<body>\n",
       "    <div>\n",
       "            <script src=\"https://cdnjs.cloudflare.com/ajax/libs/mathjax/2.7.5/MathJax.js?config=TeX-AMS-MML_SVG\"></script><script type=\"text/javascript\">if (window.MathJax) {MathJax.Hub.Config({SVG: {font: \"STIX-Web\"}});}</script>\n",
       "                <script type=\"text/javascript\">window.PlotlyConfig = {MathJaxConfig: 'local'};</script>\n",
       "        <script src=\"https://cdn.plot.ly/plotly-latest.min.js\"></script>    \n",
       "            <div id=\"92a6d42f-fc49-4619-8d6f-799b389297c1\" class=\"plotly-graph-div\" style=\"height:525px; width:100%;\"></div>\n",
       "            <script type=\"text/javascript\">\n",
       "                \n",
       "                    window.PLOTLYENV=window.PLOTLYENV || {};\n",
       "                    \n",
       "                if (document.getElementById(\"92a6d42f-fc49-4619-8d6f-799b389297c1\")) {\n",
       "                    Plotly.newPlot(\n",
       "                        '92a6d42f-fc49-4619-8d6f-799b389297c1',\n",
       "                        [{\"name\": \"0185-0373\", \"type\": \"scatter\", \"x\": [\"2016Q1\", \"2016Q2\", \"2016Q3\", \"2016Q4\", \"2017Q1\", \"2017Q2\", \"2017Q3\", \"2017Q4\", \"2018Q1\", \"2018Q2\", \"2018Q3\", \"2018Q4\"], \"y\": [15, 7, 9, 4, 10, 4, 16, 13, 12, 9, 11, 13]}, {\"name\": \"0228-2167\", \"type\": \"scatter\", \"x\": [\"2016Q1\", \"2016Q2\", \"2016Q3\", \"2016Q4\", \"2017Q1\", \"2017Q2\", \"2017Q3\", \"2017Q4\", \"2018Q1\", \"2018Q2\", \"2018Q3\", \"2018Q4\"], \"y\": [25, 26, 13, 11, 14, 7, 25, 21, 14, 13, 19, 30]}, {\"name\": \"0268-1128\", \"type\": \"scatter\", \"x\": [\"2016Q1\", \"2016Q2\", \"2016Q3\", \"2016Q4\", \"2017Q1\", \"2017Q2\", \"2017Q3\", \"2017Q4\", \"2018Q1\", \"2018Q2\", \"2018Q3\", \"2018Q4\"], \"y\": [13, 14, 15, 8, 16, 15, 17, 12, 9, 18, 15, 11]}, {\"name\": \"0268-1401\", \"type\": \"scatter\", \"x\": [\"2016Q1\", \"2016Q2\", \"2016Q3\", \"2016Q4\", \"2017Q1\", \"2017Q2\", \"2017Q3\", \"2017Q4\", \"2018Q1\", \"2018Q2\", \"2018Q3\", \"2018Q4\"], \"y\": [15, 20, 10, 5, 13, 14, 18, 19, 20, 13, 17, 21]}, {\"name\": \"0268-1604\", \"type\": \"scatter\", \"x\": [\"2016Q1\", \"2016Q2\", \"2016Q3\", \"2016Q4\", \"2017Q1\", \"2017Q2\", \"2017Q3\", \"2017Q4\", \"2018Q1\", \"2018Q2\", \"2018Q3\", \"2018Q4\"], \"y\": [35, 10, 11, 6, 17, 10, 15, 13, 12, 13, 18, 14]}, {\"name\": \"0268-6107\", \"type\": \"scatter\", \"x\": [\"2016Q1\", \"2016Q2\", \"2016Q3\", \"2016Q4\", \"2017Q1\", \"2017Q2\", \"2017Q3\", \"2017Q4\", \"2018Q1\", \"2018Q2\", \"2018Q3\", \"2018Q4\"], \"y\": [30, 31, 24, 10, 26, 21, 22, 19, 17, 22, 22, 23]}, {\"name\": \"0603-6134\", \"type\": \"scatter\", \"x\": [\"2016Q1\", \"2016Q2\", \"2016Q3\", \"2016Q4\", \"2017Q1\", \"2017Q2\", \"2017Q3\", \"2017Q4\", \"2018Q1\", \"2018Q2\", \"2018Q3\", \"2018Q4\"], \"y\": [28, 25, 18, 9, 19, 17, 23, 17, 17, 16, 19, 12]}, {\"name\": \"0615-7679\", \"type\": \"scatter\", \"x\": [\"2016Q1\", \"2016Q2\", \"2016Q3\", \"2016Q4\", \"2017Q1\", \"2017Q2\", \"2017Q3\", \"2017Q4\", \"2018Q1\", \"2018Q2\", \"2018Q3\", \"2018Q4\"], \"y\": [18, 21, 12, 6, 14, 17, 17, 21, 17, 13, 14, 23]}, {\"name\": \"0699-7041\", \"type\": \"scatter\", \"x\": [\"2016Q1\", \"2016Q2\", \"2016Q3\", \"2016Q4\", \"2017Q1\", \"2017Q2\", \"2017Q3\", \"2017Q4\", \"2018Q1\", \"2018Q2\", \"2018Q3\", \"2018Q4\"], \"y\": [21, 28, 23, 13, 16, 7, 18, 20, 29, 18, 21, 27]}, {\"name\": \"10237-832\", \"type\": \"scatter\", \"x\": [\"2016Q1\", \"2016Q2\", \"2016Q3\", \"2016Q4\", \"2017Q1\", \"2017Q2\", \"2017Q3\", \"2017Q4\", \"2018Q1\", \"2018Q2\", \"2018Q3\", \"2018Q4\"], \"y\": [20, 22, 12, 13, 24, 20, 30, 31, 20, 15, 14, 24]}, {\"name\": \"10267-2529\", \"type\": \"scatter\", \"x\": [\"2016Q1\", \"2016Q2\", \"2016Q3\", \"2016Q4\", \"2017Q1\", \"2017Q2\", \"2017Q3\", \"2017Q4\", \"2018Q1\", \"2018Q2\", \"2018Q3\", \"2018Q4\"], \"y\": [25, 16, 8, 7, 11, 9, 13, 13, 17, 20, 14, 15]}, {\"name\": \"10578-049\", \"type\": \"scatter\", \"x\": [\"2016Q1\", \"2016Q2\", \"2016Q3\", \"2016Q4\", \"2017Q1\", \"2017Q2\", \"2017Q3\", \"2017Q4\", \"2018Q1\", \"2018Q2\", \"2018Q3\", \"2018Q4\"], \"y\": [21, 10, 10, 11, 15, 13, 12, 9, 13, 19, 14, 11]}, {\"name\": \"13537-259\", \"type\": \"scatter\", \"x\": [\"2016Q1\", \"2016Q2\", \"2016Q3\", \"2016Q4\", \"2017Q1\", \"2017Q2\", \"2017Q3\", \"2017Q4\", \"2018Q1\", \"2018Q2\", \"2018Q3\", \"2018Q4\"], \"y\": [23, 25, 23, 5, 29, 19, 20, 13, 27, 28, 25, 20]}, {\"name\": \"13537-468\", \"type\": \"scatter\", \"x\": [\"2016Q1\", \"2016Q2\", \"2016Q3\", \"2016Q4\", \"2017Q1\", \"2017Q2\", \"2017Q3\", \"2017Q4\", \"2018Q1\", \"2018Q2\", \"2018Q3\", \"2018Q4\"], \"y\": [17, 17, 8, 4, 10, 9, 18, 7, 14, 14, 9, 12]}, {\"name\": \"16477-306\", \"type\": \"scatter\", \"x\": [\"2016Q1\", \"2016Q2\", \"2016Q3\", \"2016Q4\", \"2017Q1\", \"2017Q2\", \"2017Q3\", \"2017Q4\", \"2018Q1\", \"2018Q2\", \"2018Q3\", \"2018Q4\"], \"y\": [11, 9, 8, 5, 18, 8, 7, 7, 7, 11, 9, 11]}, {\"name\": \"16590-177\", \"type\": \"scatter\", \"x\": [\"2016Q1\", \"2016Q2\", \"2016Q3\", \"2016Q4\", \"2017Q1\", \"2017Q2\", \"2017Q3\", \"2017Q4\", \"2018Q1\", \"2018Q2\", \"2018Q3\", \"2018Q4\"], \"y\": [27, 24, 14, 2, 12, 15, 18, 15, 15, 15, 24, 16]}, {\"name\": \"16714-295\", \"type\": \"scatter\", \"x\": [\"2016Q1\", \"2016Q2\", \"2016Q3\", \"2016Q4\", \"2017Q1\", \"2017Q2\", \"2017Q3\", \"2017Q4\", \"2018Q1\", \"2018Q2\", \"2018Q3\", \"2018Q4\"], \"y\": [32, 21, 10, 10, 22, 18, 20, 21, 15, 21, 26, 20]}, {\"name\": \"16729-167\", \"type\": \"scatter\", \"x\": [\"2016Q1\", \"2016Q2\", \"2016Q3\", \"2016Q4\", \"2017Q1\", \"2017Q2\", \"2017Q3\", \"2017Q4\", \"2018Q1\", \"2018Q2\", \"2018Q3\", \"2018Q4\"], \"y\": [33, 22, 12, 13, 22, 10, 14, 18, 22, 27, 16, 20]}, {\"name\": \"17156-617\", \"type\": \"scatter\", \"x\": [\"2016Q1\", \"2016Q2\", \"2016Q3\", \"2016Q4\", \"2017Q1\", \"2017Q2\", \"2017Q3\", \"2017Q4\", \"2018Q1\", \"2018Q2\", \"2018Q3\", \"2018Q4\"], \"y\": [31, 25, 24, 6, 38, 15, 22, 26, 19, 21, 24, 24]}, {\"name\": \"21695-267\", \"type\": \"scatter\", \"x\": [\"2016Q1\", \"2016Q2\", \"2016Q3\", \"2016Q4\", \"2017Q1\", \"2017Q2\", \"2017Q3\", \"2017Q4\", \"2018Q1\", \"2018Q2\", \"2018Q3\", \"2018Q4\"], \"y\": [22, 16, 11, 7, 20, 9, 20, 17, 12, 12, 10, 15]}, {\"name\": \"21695-931\", \"type\": \"scatter\", \"x\": [\"2016Q1\", \"2016Q2\", \"2016Q3\", \"2016Q4\", \"2017Q1\", \"2017Q2\", \"2017Q3\", \"2017Q4\", \"2018Q1\", \"2018Q2\", \"2018Q3\", \"2018Q4\"], \"y\": [17, 15, 14, 9, 12, 7, 17, 14, 13, 20, 19, 18]}, {\"name\": \"24286-1562\", \"type\": \"scatter\", \"x\": [\"2016Q1\", \"2016Q2\", \"2016Q3\", \"2016Q4\", \"2017Q1\", \"2017Q2\", \"2017Q3\", \"2017Q4\", \"2018Q1\", \"2018Q2\", \"2018Q3\", \"2018Q4\"], \"y\": [26, 26, 18, 8, 20, 19, 22, 15, 14, 28, 20, 21]}, {\"name\": \"24385-268\", \"type\": \"scatter\", \"x\": [\"2016Q1\", \"2016Q2\", \"2016Q3\", \"2016Q4\", \"2017Q1\", \"2017Q2\", \"2017Q3\", \"2017Q4\", \"2018Q1\", \"2018Q2\", \"2018Q3\", \"2018Q4\"], \"y\": [28, 28, 12, 10, 24, 21, 22, 18, 23, 17, 22, 19]}, {\"name\": \"35356-325\", \"type\": \"scatter\", \"x\": [\"2016Q1\", \"2016Q2\", \"2016Q3\", \"2016Q4\", \"2017Q1\", \"2017Q2\", \"2017Q3\", \"2017Q4\", \"2018Q1\", \"2018Q2\", \"2018Q3\", \"2018Q4\"], \"y\": [26, 19, 12, 4, 26, 10, 18, 23, 14, 19, 17, 12]}, {\"name\": \"36800-952\", \"type\": \"scatter\", \"x\": [\"2016Q1\", \"2016Q2\", \"2016Q3\", \"2016Q4\", \"2017Q1\", \"2017Q2\", \"2017Q3\", \"2017Q4\", \"2018Q1\", \"2018Q2\", \"2018Q3\", \"2018Q4\"], \"y\": [20, 13, 9, 5, 10, 5, 8, 9, 8, 11, 12, 12]}, {\"name\": \"36987-1697\", \"type\": \"scatter\", \"x\": [\"2016Q1\", \"2016Q2\", \"2016Q3\", \"2016Q4\", \"2017Q1\", \"2017Q2\", \"2017Q3\", \"2017Q4\", \"2018Q1\", \"2018Q2\", \"2018Q3\", \"2018Q4\"], \"y\": [22, 28, 8, 9, 18, 13, 18, 19, 18, 17, 14, 22]}, {\"name\": \"37205-951\", \"type\": \"scatter\", \"x\": [\"2016Q1\", \"2016Q2\", \"2016Q3\", \"2016Q4\", \"2017Q1\", \"2017Q2\", \"2017Q3\", \"2017Q4\", \"2018Q1\", \"2018Q2\", \"2018Q3\", \"2018Q4\"], \"y\": [31, 19, 14, 8, 18, 20, 22, 17, 23, 12, 16, 27]}, {\"name\": \"37205-992\", \"type\": \"scatter\", \"x\": [\"2016Q1\", \"2016Q2\", \"2016Q3\", \"2016Q4\", \"2017Q1\", \"2017Q2\", \"2017Q3\", \"2017Q4\", \"2018Q1\", \"2018Q2\", \"2018Q3\", \"2018Q4\"], \"y\": [41, 33, 19, 10, 18, 11, 16, 21, 20, 28, 24, 25]}, {\"name\": \"41163-428\", \"type\": \"scatter\", \"x\": [\"2016Q1\", \"2016Q2\", \"2016Q3\", \"2016Q4\", \"2017Q1\", \"2017Q2\", \"2017Q3\", \"2017Q4\", \"2018Q1\", \"2018Q2\", \"2018Q3\", \"2018Q4\"], \"y\": [22, 19, 18, 6, 17, 18, 15, 12, 17, 12, 16, 14]}, {\"name\": \"41167-0843\", \"type\": \"scatter\", \"x\": [\"2016Q1\", \"2016Q2\", \"2016Q3\", \"2017Q1\", \"2017Q2\", \"2017Q3\", \"2017Q4\", \"2018Q1\", \"2018Q2\", \"2018Q3\", \"2018Q4\"], \"y\": [10, 14, 8, 8, 7, 6, 6, 14, 8, 6, 10]}, {\"name\": \"42254-213\", \"type\": \"scatter\", \"x\": [\"2016Q1\", \"2016Q2\", \"2016Q3\", \"2016Q4\", \"2017Q1\", \"2017Q2\", \"2017Q3\", \"2017Q4\", \"2018Q1\", \"2018Q2\", \"2018Q3\", \"2018Q4\"], \"y\": [10, 13, 11, 1, 16, 8, 8, 14, 4, 15, 11, 11]}, {\"name\": \"43419-018\", \"type\": \"scatter\", \"x\": [\"2016Q1\", \"2016Q2\", \"2016Q3\", \"2016Q4\", \"2017Q1\", \"2017Q2\", \"2017Q3\", \"2017Q4\", \"2018Q1\", \"2018Q2\", \"2018Q3\", \"2018Q4\"], \"y\": [17, 20, 8, 2, 17, 17, 15, 13, 15, 6, 11, 15]}, {\"name\": \"44946-1046\", \"type\": \"scatter\", \"x\": [\"2016Q1\", \"2016Q2\", \"2016Q3\", \"2016Q4\", \"2017Q1\", \"2017Q2\", \"2017Q3\", \"2017Q4\", \"2018Q1\", \"2018Q2\", \"2018Q3\", \"2018Q4\"], \"y\": [15, 21, 12, 9, 11, 8, 15, 13, 12, 12, 17, 11]}, {\"name\": \"48951-4042\", \"type\": \"scatter\", \"x\": [\"2016Q1\", \"2016Q2\", \"2016Q3\", \"2016Q4\", \"2017Q1\", \"2017Q2\", \"2017Q3\", \"2017Q4\", \"2018Q1\", \"2018Q2\", \"2018Q3\", \"2018Q4\"], \"y\": [26, 15, 12, 5, 17, 14, 25, 17, 13, 20, 23, 20]}, {\"name\": \"49035-530\", \"type\": \"scatter\", \"x\": [\"2016Q1\", \"2016Q2\", \"2016Q3\", \"2016Q4\", \"2017Q1\", \"2017Q2\", \"2017Q3\", \"2017Q4\", \"2018Q1\", \"2018Q2\", \"2018Q3\", \"2018Q4\"], \"y\": [16, 16, 9, 4, 12, 10, 13, 10, 15, 11, 7, 11]}, {\"name\": \"49288-0285\", \"type\": \"scatter\", \"x\": [\"2016Q1\", \"2016Q2\", \"2016Q3\", \"2016Q4\", \"2017Q1\", \"2017Q2\", \"2017Q3\", \"2017Q4\", \"2018Q1\", \"2018Q2\", \"2018Q3\", \"2018Q4\"], \"y\": [10, 15, 7, 2, 7, 9, 11, 11, 12, 9, 11, 7]}, {\"name\": \"49288-0655\", \"type\": \"scatter\", \"x\": [\"2016Q1\", \"2016Q2\", \"2016Q3\", \"2016Q4\", \"2017Q1\", \"2017Q2\", \"2017Q3\", \"2017Q4\", \"2018Q1\", \"2018Q2\", \"2018Q3\", \"2018Q4\"], \"y\": [14, 8, 7, 1, 5, 4, 10, 8, 6, 11, 9, 8]}, {\"name\": \"49348-574\", \"type\": \"scatter\", \"x\": [\"2016Q1\", \"2016Q2\", \"2016Q3\", \"2016Q4\", \"2017Q1\", \"2017Q2\", \"2017Q3\", \"2017Q4\", \"2018Q1\", \"2018Q2\", \"2018Q3\", \"2018Q4\"], \"y\": [34, 24, 16, 3, 25, 12, 30, 19, 21, 24, 21, 20]}, {\"name\": \"49349-106\", \"type\": \"scatter\", \"x\": [\"2016Q1\", \"2016Q2\", \"2016Q3\", \"2016Q4\", \"2017Q1\", \"2017Q2\", \"2017Q3\", \"2017Q4\", \"2018Q1\", \"2018Q2\", \"2018Q3\", \"2018Q4\"], \"y\": [26, 24, 13, 9, 20, 15, 25, 21, 24, 21, 18, 21]}, {\"name\": \"49349-314\", \"type\": \"scatter\", \"x\": [\"2016Q1\", \"2016Q2\", \"2016Q3\", \"2016Q4\", \"2017Q1\", \"2017Q2\", \"2017Q3\", \"2017Q4\", \"2018Q1\", \"2018Q2\", \"2018Q3\", \"2018Q4\"], \"y\": [14, 14, 5, 4, 13, 12, 5, 7, 10, 13, 11, 8]}, {\"name\": \"49349-471\", \"type\": \"scatter\", \"x\": [\"2016Q1\", \"2016Q2\", \"2016Q3\", \"2016Q4\", \"2017Q1\", \"2017Q2\", \"2017Q3\", \"2017Q4\", \"2018Q1\", \"2018Q2\", \"2018Q3\", \"2018Q4\"], \"y\": [22, 12, 11, 4, 19, 15, 17, 17, 10, 13, 14, 15]}, {\"name\": \"49349-820\", \"type\": \"scatter\", \"x\": [\"2016Q1\", \"2016Q2\", \"2016Q3\", \"2016Q4\", \"2017Q1\", \"2017Q2\", \"2017Q3\", \"2017Q4\", \"2018Q1\", \"2018Q2\", \"2018Q3\", \"2018Q4\"], \"y\": [20, 23, 10, 5, 16, 13, 11, 15, 15, 12, 18, 13]}, {\"name\": \"49349-842\", \"type\": \"scatter\", \"x\": [\"2016Q1\", \"2016Q2\", \"2016Q3\", \"2016Q4\", \"2017Q1\", \"2017Q2\", \"2017Q3\", \"2017Q4\", \"2018Q1\", \"2018Q2\", \"2018Q3\", \"2018Q4\"], \"y\": [21, 19, 10, 5, 13, 16, 8, 9, 11, 15, 17, 21]}, {\"name\": \"49520-501\", \"type\": \"scatter\", \"x\": [\"2016Q1\", \"2016Q2\", \"2016Q3\", \"2016Q4\", \"2017Q1\", \"2017Q2\", \"2017Q3\", \"2017Q4\", \"2018Q1\", \"2018Q2\", \"2018Q3\", \"2018Q4\"], \"y\": [19, 24, 24, 5, 23, 18, 16, 21, 26, 21, 25, 19]}, {\"name\": \"49738-105\", \"type\": \"scatter\", \"x\": [\"2016Q1\", \"2016Q2\", \"2016Q3\", \"2016Q4\", \"2017Q1\", \"2017Q2\", \"2017Q3\", \"2017Q4\", \"2018Q1\", \"2018Q2\", \"2018Q3\", \"2018Q4\"], \"y\": [22, 17, 15, 6, 16, 14, 21, 20, 12, 11, 27, 21]}, {\"name\": \"49967-724\", \"type\": \"scatter\", \"x\": [\"2016Q1\", \"2016Q2\", \"2016Q3\", \"2016Q4\", \"2017Q1\", \"2017Q2\", \"2017Q3\", \"2017Q4\", \"2018Q1\", \"2018Q2\", \"2018Q3\", \"2018Q4\"], \"y\": [33, 25, 13, 13, 14, 14, 18, 20, 17, 25, 10, 24]}, {\"name\": \"49999-737\", \"type\": \"scatter\", \"x\": [\"2016Q1\", \"2016Q2\", \"2016Q3\", \"2016Q4\", \"2017Q1\", \"2017Q2\", \"2017Q3\", \"2017Q4\", \"2018Q1\", \"2018Q2\", \"2018Q3\", \"2018Q4\"], \"y\": [17, 10, 11, 5, 16, 11, 6, 15, 5, 15, 22, 17]}, {\"name\": \"50458-560\", \"type\": \"scatter\", \"x\": [\"2016Q1\", \"2016Q2\", \"2016Q3\", \"2016Q4\", \"2017Q1\", \"2017Q2\", \"2017Q3\", \"2017Q4\", \"2018Q1\", \"2018Q2\", \"2018Q3\", \"2018Q4\"], \"y\": [12, 8, 7, 6, 14, 9, 11, 12, 7, 11, 8, 10]}, {\"name\": \"50563-113\", \"type\": \"scatter\", \"x\": [\"2016Q1\", \"2016Q2\", \"2016Q3\", \"2016Q4\", \"2017Q1\", \"2017Q2\", \"2017Q3\", \"2017Q4\", \"2018Q1\", \"2018Q2\", \"2018Q3\", \"2018Q4\"], \"y\": [19, 16, 15, 7, 15, 17, 10, 13, 20, 23, 18, 13]}, {\"name\": \"51060-032\", \"type\": \"scatter\", \"x\": [\"2016Q1\", \"2016Q2\", \"2016Q3\", \"2016Q4\", \"2017Q1\", \"2017Q2\", \"2017Q3\", \"2017Q4\", \"2018Q1\", \"2018Q2\", \"2018Q3\", \"2018Q4\"], \"y\": [12, 13, 10, 7, 14, 8, 11, 16, 11, 6, 8, 13]}, {\"name\": \"51079-947\", \"type\": \"scatter\", \"x\": [\"2016Q1\", \"2016Q2\", \"2016Q3\", \"2016Q4\", \"2017Q1\", \"2017Q2\", \"2017Q3\", \"2017Q4\", \"2018Q1\", \"2018Q2\", \"2018Q3\", \"2018Q4\"], \"y\": [17, 11, 20, 8, 11, 7, 13, 6, 16, 13, 13, 8]}, {\"name\": \"51138-049\", \"type\": \"scatter\", \"x\": [\"2016Q1\", \"2016Q2\", \"2016Q3\", \"2016Q4\", \"2017Q1\", \"2017Q2\", \"2017Q3\", \"2017Q4\", \"2018Q1\", \"2018Q2\", \"2018Q3\", \"2018Q4\"], \"y\": [37, 34, 18, 1, 14, 16, 21, 19, 22, 27, 17, 26]}, {\"name\": \"51346-126\", \"type\": \"scatter\", \"x\": [\"2016Q1\", \"2016Q2\", \"2016Q3\", \"2016Q4\", \"2017Q1\", \"2017Q2\", \"2017Q3\", \"2017Q4\", \"2018Q1\", \"2018Q2\", \"2018Q3\", \"2018Q4\"], \"y\": [22, 20, 13, 1, 13, 11, 14, 14, 13, 19, 13, 8]}, {\"name\": \"51346-145\", \"type\": \"scatter\", \"x\": [\"2016Q1\", \"2016Q2\", \"2016Q3\", \"2016Q4\", \"2017Q1\", \"2017Q2\", \"2017Q3\", \"2017Q4\", \"2018Q1\", \"2018Q2\", \"2018Q3\", \"2018Q4\"], \"y\": [32, 28, 13, 7, 21, 22, 25, 34, 21, 16, 23, 20]}, {\"name\": \"51523-002\", \"type\": \"scatter\", \"x\": [\"2016Q1\", \"2016Q2\", \"2016Q3\", \"2016Q4\", \"2017Q1\", \"2017Q2\", \"2017Q3\", \"2017Q4\", \"2018Q1\", \"2018Q2\", \"2018Q3\", \"2018Q4\"], \"y\": [23, 19, 9, 3, 21, 19, 17, 31, 14, 23, 25, 18]}, {\"name\": \"51531-9500\", \"type\": \"scatter\", \"x\": [\"2016Q1\", \"2016Q2\", \"2016Q3\", \"2016Q4\", \"2017Q1\", \"2017Q2\", \"2017Q3\", \"2017Q4\", \"2018Q1\", \"2018Q2\", \"2018Q3\", \"2018Q4\"], \"y\": [10, 15, 9, 3, 8, 9, 9, 11, 14, 10, 4, 11]}, {\"name\": \"52125-136\", \"type\": \"scatter\", \"x\": [\"2016Q1\", \"2016Q2\", \"2016Q3\", \"2016Q4\", \"2017Q1\", \"2017Q2\", \"2017Q3\", \"2017Q4\", \"2018Q1\", \"2018Q2\", \"2018Q3\", \"2018Q4\"], \"y\": [20, 25, 18, 6, 14, 25, 18, 27, 23, 27, 19, 26]}, {\"name\": \"52125-444\", \"type\": \"scatter\", \"x\": [\"2016Q1\", \"2016Q2\", \"2016Q3\", \"2016Q4\", \"2017Q1\", \"2017Q2\", \"2017Q3\", \"2017Q4\", \"2018Q1\", \"2018Q2\", \"2018Q3\", \"2018Q4\"], \"y\": [11, 15, 10, 2, 23, 12, 14, 14, 15, 17, 13, 15]}, {\"name\": \"52343-025\", \"type\": \"scatter\", \"x\": [\"2016Q1\", \"2016Q2\", \"2016Q3\", \"2016Q4\", \"2017Q1\", \"2017Q2\", \"2017Q3\", \"2017Q4\", \"2018Q1\", \"2018Q2\", \"2018Q3\", \"2018Q4\"], \"y\": [25, 28, 15, 3, 20, 15, 30, 21, 23, 19, 25, 24]}, {\"name\": \"52380-1102\", \"type\": \"scatter\", \"x\": [\"2016Q1\", \"2016Q2\", \"2016Q3\", \"2016Q4\", \"2017Q1\", \"2017Q2\", \"2017Q3\", \"2017Q4\", \"2018Q1\", \"2018Q2\", \"2018Q3\", \"2018Q4\"], \"y\": [17, 24, 4, 6, 7, 12, 16, 20, 15, 17, 12, 16]}, {\"name\": \"52959-433\", \"type\": \"scatter\", \"x\": [\"2016Q1\", \"2016Q2\", \"2016Q3\", \"2016Q4\", \"2017Q1\", \"2017Q2\", \"2017Q3\", \"2017Q4\", \"2018Q1\", \"2018Q2\", \"2018Q3\", \"2018Q4\"], \"y\": [39, 23, 17, 5, 27, 25, 21, 21, 21, 19, 19, 29]}, {\"name\": \"54092-515\", \"type\": \"scatter\", \"x\": [\"2016Q1\", \"2016Q2\", \"2016Q3\", \"2016Q4\", \"2017Q1\", \"2017Q2\", \"2017Q3\", \"2017Q4\", \"2018Q1\", \"2018Q2\", \"2018Q3\", \"2018Q4\"], \"y\": [20, 20, 14, 7, 19, 15, 17, 19, 19, 18, 15, 16]}, {\"name\": \"54123-957\", \"type\": \"scatter\", \"x\": [\"2016Q1\", \"2016Q2\", \"2016Q3\", \"2016Q4\", \"2017Q1\", \"2017Q2\", \"2017Q3\", \"2017Q4\", \"2018Q1\", \"2018Q2\", \"2018Q3\", \"2018Q4\"], \"y\": [12, 6, 12, 6, 6, 8, 8, 14, 17, 13, 7, 8]}, {\"name\": \"54473-578\", \"type\": \"scatter\", \"x\": [\"2016Q1\", \"2016Q2\", \"2016Q3\", \"2016Q4\", \"2017Q1\", \"2017Q2\", \"2017Q3\", \"2017Q4\", \"2018Q1\", \"2018Q2\", \"2018Q3\", \"2018Q4\"], \"y\": [23, 17, 13, 8, 9, 15, 14, 10, 13, 19, 16, 18]}, {\"name\": \"54868-0823\", \"type\": \"scatter\", \"x\": [\"2016Q1\", \"2016Q2\", \"2016Q3\", \"2016Q4\", \"2017Q1\", \"2017Q2\", \"2017Q3\", \"2017Q4\", \"2018Q1\", \"2018Q2\", \"2018Q3\", \"2018Q4\"], \"y\": [21, 19, 15, 6, 26, 25, 22, 24, 35, 22, 23, 21]}, {\"name\": \"54868-5165\", \"type\": \"scatter\", \"x\": [\"2016Q1\", \"2016Q2\", \"2016Q3\", \"2016Q4\", \"2017Q1\", \"2017Q2\", \"2017Q3\", \"2017Q4\", \"2018Q1\", \"2018Q2\", \"2018Q3\", \"2018Q4\"], \"y\": [9, 21, 12, 3, 18, 16, 20, 22, 15, 15, 20, 12]}, {\"name\": \"54868-6311\", \"type\": \"scatter\", \"x\": [\"2016Q1\", \"2016Q2\", \"2016Q3\", \"2016Q4\", \"2017Q1\", \"2017Q2\", \"2017Q3\", \"2017Q4\", \"2018Q1\", \"2018Q2\", \"2018Q3\", \"2018Q4\"], \"y\": [7, 16, 9, 3, 10, 9, 13, 8, 13, 13, 17, 19]}, {\"name\": \"54973-9150\", \"type\": \"scatter\", \"x\": [\"2016Q1\", \"2016Q2\", \"2016Q3\", \"2016Q4\", \"2017Q1\", \"2017Q2\", \"2017Q3\", \"2017Q4\", \"2018Q1\", \"2018Q2\", \"2018Q3\", \"2018Q4\"], \"y\": [11, 13, 6, 1, 15, 6, 12, 12, 13, 9, 12, 16]}, {\"name\": \"55154-5057\", \"type\": \"scatter\", \"x\": [\"2016Q1\", \"2016Q2\", \"2016Q3\", \"2016Q4\", \"2017Q1\", \"2017Q2\", \"2017Q3\", \"2017Q4\", \"2018Q1\", \"2018Q2\", \"2018Q3\", \"2018Q4\"], \"y\": [24, 23, 9, 9, 21, 19, 18, 17, 22, 20, 8, 17]}, {\"name\": \"55289-164\", \"type\": \"scatter\", \"x\": [\"2016Q1\", \"2016Q2\", \"2016Q3\", \"2016Q4\", \"2017Q1\", \"2017Q2\", \"2017Q3\", \"2017Q4\", \"2018Q1\", \"2018Q2\", \"2018Q3\", \"2018Q4\"], \"y\": [17, 13, 8, 4, 15, 8, 13, 10, 22, 18, 15, 14]}, {\"name\": \"55566-2100\", \"type\": \"scatter\", \"x\": [\"2016Q1\", \"2016Q2\", \"2016Q3\", \"2016Q4\", \"2017Q1\", \"2017Q2\", \"2017Q3\", \"2017Q4\", \"2018Q1\", \"2018Q2\", \"2018Q3\", \"2018Q4\"], \"y\": [22, 16, 14, 8, 10, 15, 12, 17, 15, 13, 11, 13]}, {\"name\": \"55700-014\", \"type\": \"scatter\", \"x\": [\"2016Q1\", \"2016Q2\", \"2016Q3\", \"2016Q4\", \"2017Q1\", \"2017Q2\", \"2017Q3\", \"2017Q4\", \"2018Q1\", \"2018Q2\", \"2018Q3\", \"2018Q4\"], \"y\": [25, 21, 10, 6, 13, 15, 22, 17, 24, 21, 20, 29]}, {\"name\": \"55856-0003\", \"type\": \"scatter\", \"x\": [\"2016Q1\", \"2016Q2\", \"2016Q3\", \"2016Q4\", \"2017Q1\", \"2017Q2\", \"2017Q3\", \"2017Q4\", \"2018Q1\", \"2018Q2\", \"2018Q3\", \"2018Q4\"], \"y\": [26, 23, 16, 8, 12, 21, 20, 16, 16, 13, 15, 16]}, {\"name\": \"58118-5060\", \"type\": \"scatter\", \"x\": [\"2016Q1\", \"2016Q2\", \"2016Q3\", \"2016Q4\", \"2017Q1\", \"2017Q2\", \"2017Q3\", \"2017Q4\", \"2018Q1\", \"2018Q2\", \"2018Q3\", \"2018Q4\"], \"y\": [29, 22, 23, 3, 29, 22, 26, 23, 26, 20, 23, 15]}, {\"name\": \"58596-001\", \"type\": \"scatter\", \"x\": [\"2016Q1\", \"2016Q2\", \"2016Q3\", \"2016Q4\", \"2017Q1\", \"2017Q2\", \"2017Q3\", \"2017Q4\", \"2018Q1\", \"2018Q2\", \"2018Q3\", \"2018Q4\"], \"y\": [19, 14, 7, 6, 8, 12, 15, 14, 7, 17, 16, 14]}, {\"name\": \"58668-4281\", \"type\": \"scatter\", \"x\": [\"2016Q1\", \"2016Q2\", \"2016Q3\", \"2016Q4\", \"2017Q1\", \"2017Q2\", \"2017Q3\", \"2017Q4\", \"2018Q1\", \"2018Q2\", \"2018Q3\", \"2018Q4\"], \"y\": [20, 12, 8, 6, 16, 14, 14, 14, 10, 17, 11, 16]}, {\"name\": \"59779-028\", \"type\": \"scatter\", \"x\": [\"2016Q1\", \"2016Q2\", \"2016Q3\", \"2016Q4\", \"2017Q1\", \"2017Q2\", \"2017Q3\", \"2017Q4\", \"2018Q1\", \"2018Q2\", \"2018Q3\", \"2018Q4\"], \"y\": [10, 10, 7, 1, 5, 11, 11, 7, 3, 11, 6, 6]}, {\"name\": \"59779-601\", \"type\": \"scatter\", \"x\": [\"2016Q1\", \"2016Q2\", \"2016Q3\", \"2016Q4\", \"2017Q1\", \"2017Q2\", \"2017Q3\", \"2017Q4\", \"2018Q1\", \"2018Q2\", \"2018Q3\", \"2018Q4\"], \"y\": [9, 13, 9, 4, 4, 4, 10, 9, 12, 14, 8, 9]}, {\"name\": \"60505-2867\", \"type\": \"scatter\", \"x\": [\"2016Q1\", \"2016Q2\", \"2016Q3\", \"2016Q4\", \"2017Q1\", \"2017Q2\", \"2017Q3\", \"2017Q4\", \"2018Q1\", \"2018Q2\", \"2018Q3\", \"2018Q4\"], \"y\": [19, 19, 7, 4, 15, 11, 17, 11, 12, 16, 9, 10]}, {\"name\": \"61398-0828\", \"type\": \"scatter\", \"x\": [\"2016Q1\", \"2016Q2\", \"2016Q3\", \"2016Q4\", \"2017Q1\", \"2017Q2\", \"2017Q3\", \"2017Q4\", \"2018Q1\", \"2018Q2\", \"2018Q3\", \"2018Q4\"], \"y\": [22, 22, 12, 6, 12, 6, 15, 26, 12, 15, 15, 15]}, {\"name\": \"62011-0219\", \"type\": \"scatter\", \"x\": [\"2016Q1\", \"2016Q2\", \"2016Q3\", \"2016Q4\", \"2017Q1\", \"2017Q2\", \"2017Q3\", \"2017Q4\", \"2018Q1\", \"2018Q2\", \"2018Q3\", \"2018Q4\"], \"y\": [31, 23, 29, 7, 17, 17, 36, 19, 14, 19, 29, 16]}, {\"name\": \"62670-4404\", \"type\": \"scatter\", \"x\": [\"2016Q1\", \"2016Q2\", \"2016Q3\", \"2016Q4\", \"2017Q1\", \"2017Q2\", \"2017Q3\", \"2017Q4\", \"2018Q1\", \"2018Q2\", \"2018Q3\", \"2018Q4\"], \"y\": [15, 11, 9, 8, 10, 4, 14, 7, 15, 16, 11, 12]}, {\"name\": \"62742-4030\", \"type\": \"scatter\", \"x\": [\"2016Q1\", \"2016Q2\", \"2016Q3\", \"2016Q4\", \"2017Q1\", \"2017Q2\", \"2017Q3\", \"2017Q4\", \"2018Q1\", \"2018Q2\", \"2018Q3\", \"2018Q4\"], \"y\": [15, 7, 8, 3, 5, 8, 8, 6, 6, 7, 8, 10]}, {\"name\": \"62756-707\", \"type\": \"scatter\", \"x\": [\"2016Q1\", \"2016Q2\", \"2016Q3\", \"2016Q4\", \"2017Q1\", \"2017Q2\", \"2017Q3\", \"2017Q4\", \"2018Q1\", \"2018Q2\", \"2018Q3\", \"2018Q4\"], \"y\": [13, 16, 8, 3, 14, 11, 10, 20, 14, 12, 20, 16]}, {\"name\": \"63629-2733\", \"type\": \"scatter\", \"x\": [\"2016Q1\", \"2016Q2\", \"2016Q3\", \"2016Q4\", \"2017Q1\", \"2017Q2\", \"2017Q3\", \"2017Q4\", \"2018Q1\", \"2018Q2\", \"2018Q3\", \"2018Q4\"], \"y\": [11, 7, 9, 5, 10, 5, 9, 4, 11, 14, 10, 5]}, {\"name\": \"65044-3014\", \"type\": \"scatter\", \"x\": [\"2016Q1\", \"2016Q2\", \"2016Q3\", \"2016Q4\", \"2017Q1\", \"2017Q2\", \"2017Q3\", \"2017Q4\", \"2018Q1\", \"2018Q2\", \"2018Q3\", \"2018Q4\"], \"y\": [27, 22, 15, 8, 21, 16, 22, 15, 10, 17, 12, 27]}, {\"name\": \"67046-030\", \"type\": \"scatter\", \"x\": [\"2016Q1\", \"2016Q2\", \"2016Q3\", \"2016Q4\", \"2017Q1\", \"2017Q2\", \"2017Q3\", \"2017Q4\", \"2018Q1\", \"2018Q2\", \"2018Q3\", \"2018Q4\"], \"y\": [22, 19, 14, 6, 20, 14, 10, 23, 22, 16, 19, 23]}, {\"name\": \"67544-356\", \"type\": \"scatter\", \"x\": [\"2016Q1\", \"2016Q2\", \"2016Q3\", \"2016Q4\", \"2017Q1\", \"2017Q2\", \"2017Q3\", \"2017Q4\", \"2018Q1\", \"2018Q2\", \"2018Q3\", \"2018Q4\"], \"y\": [17, 14, 8, 2, 15, 10, 14, 10, 14, 26, 11, 10]}, {\"name\": \"68084-172\", \"type\": \"scatter\", \"x\": [\"2016Q1\", \"2016Q2\", \"2016Q3\", \"2016Q4\", \"2017Q1\", \"2017Q2\", \"2017Q3\", \"2017Q4\", \"2018Q1\", \"2018Q2\", \"2018Q3\", \"2018Q4\"], \"y\": [36, 18, 14, 14, 25, 17, 25, 22, 18, 19, 27, 13]}, {\"name\": \"68084-595\", \"type\": \"scatter\", \"x\": [\"2016Q1\", \"2016Q2\", \"2016Q3\", \"2016Q4\", \"2017Q1\", \"2017Q2\", \"2017Q3\", \"2017Q4\", \"2018Q1\", \"2018Q2\", \"2018Q3\", \"2018Q4\"], \"y\": [12, 11, 13, 5, 15, 13, 19, 11, 12, 9, 10, 21]}, {\"name\": \"68180-121\", \"type\": \"scatter\", \"x\": [\"2016Q1\", \"2016Q2\", \"2016Q3\", \"2016Q4\", \"2017Q1\", \"2017Q2\", \"2017Q3\", \"2017Q4\", \"2018Q1\", \"2018Q2\", \"2018Q3\", \"2018Q4\"], \"y\": [19, 16, 7, 5, 12, 10, 11, 7, 9, 8, 12, 15]}, {\"name\": \"68233-011\", \"type\": \"scatter\", \"x\": [\"2016Q1\", \"2016Q2\", \"2016Q3\", \"2016Q4\", \"2017Q1\", \"2017Q2\", \"2017Q3\", \"2017Q4\", \"2018Q1\", \"2018Q2\", \"2018Q3\", \"2018Q4\"], \"y\": [22, 12, 17, 7, 15, 7, 17, 16, 19, 19, 17, 19]}, {\"name\": \"68462-565\", \"type\": \"scatter\", \"x\": [\"2016Q1\", \"2016Q2\", \"2016Q3\", \"2016Q4\", \"2017Q1\", \"2017Q2\", \"2017Q3\", \"2017Q4\", \"2018Q1\", \"2018Q2\", \"2018Q3\", \"2018Q4\"], \"y\": [25, 27, 20, 10, 31, 16, 18, 25, 21, 17, 24, 12]}, {\"name\": \"68752-024\", \"type\": \"scatter\", \"x\": [\"2016Q1\", \"2016Q2\", \"2016Q3\", \"2016Q4\", \"2017Q1\", \"2017Q2\", \"2017Q3\", \"2017Q4\", \"2018Q1\", \"2018Q2\", \"2018Q3\", \"2018Q4\"], \"y\": [23, 22, 11, 6, 16, 24, 19, 30, 24, 18, 22, 26]}, {\"name\": \"70253-307\", \"type\": \"scatter\", \"x\": [\"2016Q1\", \"2016Q2\", \"2016Q3\", \"2016Q4\", \"2017Q1\", \"2017Q2\", \"2017Q3\", \"2017Q4\", \"2018Q1\", \"2018Q2\", \"2018Q3\", \"2018Q4\"], \"y\": [19, 16, 10, 8, 22, 19, 18, 18, 18, 16, 22, 19]}, {\"name\": \"76117-001\", \"type\": \"scatter\", \"x\": [\"2016Q1\", \"2016Q2\", \"2016Q3\", \"2016Q4\", \"2017Q1\", \"2017Q2\", \"2017Q3\", \"2017Q4\", \"2018Q1\", \"2018Q2\", \"2018Q3\", \"2018Q4\"], \"y\": [12, 6, 8, 6, 9, 12, 11, 11, 11, 10, 4, 10]}, {\"name\": \"76314-002\", \"type\": \"scatter\", \"x\": [\"2016Q1\", \"2016Q2\", \"2016Q3\", \"2016Q4\", \"2017Q1\", \"2017Q2\", \"2017Q3\", \"2017Q4\", \"2018Q1\", \"2018Q2\", \"2018Q3\", \"2018Q4\"], \"y\": [21, 29, 7, 5, 9, 8, 21, 13, 6, 17, 22, 20]}, {\"name\": \"76335-006\", \"type\": \"scatter\", \"x\": [\"2016Q1\", \"2016Q2\", \"2016Q3\", \"2016Q4\", \"2017Q1\", \"2017Q2\", \"2017Q3\", \"2017Q4\", \"2018Q1\", \"2018Q2\", \"2018Q3\", \"2018Q4\"], \"y\": [12, 15, 6, 5, 6, 6, 9, 10, 5, 13, 11, 4]}, {\"name\": \"76454-100\", \"type\": \"scatter\", \"x\": [\"2016Q1\", \"2016Q2\", \"2016Q3\", \"2016Q4\", \"2017Q1\", \"2017Q2\", \"2017Q3\", \"2017Q4\", \"2018Q1\", \"2018Q2\", \"2018Q3\", \"2018Q4\"], \"y\": [32, 26, 22, 11, 18, 14, 20, 19, 25, 20, 12, 20]}, {\"name\": \"98132-889\", \"type\": \"scatter\", \"x\": [\"2016Q1\", \"2016Q2\", \"2016Q3\", \"2016Q4\", \"2017Q1\", \"2017Q2\", \"2017Q3\", \"2017Q4\", \"2018Q1\", \"2018Q2\", \"2018Q3\", \"2018Q4\"], \"y\": [21, 21, 8, 11, 17, 19, 22, 11, 20, 18, 27, 10]}],\n",
       "                        {\"template\": {\"data\": {\"bar\": [{\"error_x\": {\"color\": \"#2a3f5f\"}, \"error_y\": {\"color\": \"#2a3f5f\"}, \"marker\": {\"line\": {\"color\": \"#E5ECF6\", \"width\": 0.5}}, \"type\": \"bar\"}], \"barpolar\": [{\"marker\": {\"line\": {\"color\": \"#E5ECF6\", \"width\": 0.5}}, \"type\": \"barpolar\"}], \"carpet\": [{\"aaxis\": {\"endlinecolor\": \"#2a3f5f\", \"gridcolor\": \"white\", \"linecolor\": \"white\", \"minorgridcolor\": \"white\", \"startlinecolor\": \"#2a3f5f\"}, \"baxis\": {\"endlinecolor\": \"#2a3f5f\", \"gridcolor\": \"white\", \"linecolor\": \"white\", \"minorgridcolor\": \"white\", \"startlinecolor\": \"#2a3f5f\"}, \"type\": \"carpet\"}], \"choropleth\": [{\"colorbar\": {\"outlinewidth\": 0, \"ticks\": \"\"}, \"type\": \"choropleth\"}], \"contour\": [{\"colorbar\": {\"outlinewidth\": 0, \"ticks\": \"\"}, \"colorscale\": [[0.0, \"#0d0887\"], [0.1111111111111111, \"#46039f\"], [0.2222222222222222, \"#7201a8\"], [0.3333333333333333, \"#9c179e\"], [0.4444444444444444, \"#bd3786\"], [0.5555555555555556, \"#d8576b\"], [0.6666666666666666, \"#ed7953\"], [0.7777777777777778, \"#fb9f3a\"], [0.8888888888888888, \"#fdca26\"], [1.0, \"#f0f921\"]], \"type\": \"contour\"}], \"contourcarpet\": [{\"colorbar\": {\"outlinewidth\": 0, \"ticks\": \"\"}, \"type\": \"contourcarpet\"}], \"heatmap\": [{\"colorbar\": {\"outlinewidth\": 0, \"ticks\": \"\"}, \"colorscale\": [[0.0, \"#0d0887\"], [0.1111111111111111, \"#46039f\"], [0.2222222222222222, \"#7201a8\"], [0.3333333333333333, \"#9c179e\"], [0.4444444444444444, \"#bd3786\"], [0.5555555555555556, \"#d8576b\"], [0.6666666666666666, \"#ed7953\"], [0.7777777777777778, \"#fb9f3a\"], [0.8888888888888888, \"#fdca26\"], [1.0, \"#f0f921\"]], \"type\": \"heatmap\"}], \"heatmapgl\": [{\"colorbar\": {\"outlinewidth\": 0, \"ticks\": \"\"}, \"colorscale\": [[0.0, \"#0d0887\"], [0.1111111111111111, \"#46039f\"], [0.2222222222222222, \"#7201a8\"], [0.3333333333333333, \"#9c179e\"], [0.4444444444444444, \"#bd3786\"], [0.5555555555555556, \"#d8576b\"], [0.6666666666666666, \"#ed7953\"], [0.7777777777777778, \"#fb9f3a\"], [0.8888888888888888, \"#fdca26\"], [1.0, \"#f0f921\"]], \"type\": \"heatmapgl\"}], \"histogram\": [{\"marker\": {\"colorbar\": {\"outlinewidth\": 0, \"ticks\": \"\"}}, \"type\": \"histogram\"}], \"histogram2d\": [{\"colorbar\": {\"outlinewidth\": 0, \"ticks\": \"\"}, \"colorscale\": [[0.0, \"#0d0887\"], [0.1111111111111111, \"#46039f\"], [0.2222222222222222, \"#7201a8\"], [0.3333333333333333, \"#9c179e\"], [0.4444444444444444, \"#bd3786\"], [0.5555555555555556, \"#d8576b\"], [0.6666666666666666, \"#ed7953\"], [0.7777777777777778, \"#fb9f3a\"], [0.8888888888888888, \"#fdca26\"], [1.0, \"#f0f921\"]], \"type\": \"histogram2d\"}], \"histogram2dcontour\": [{\"colorbar\": {\"outlinewidth\": 0, \"ticks\": \"\"}, \"colorscale\": [[0.0, \"#0d0887\"], [0.1111111111111111, \"#46039f\"], [0.2222222222222222, \"#7201a8\"], [0.3333333333333333, \"#9c179e\"], [0.4444444444444444, \"#bd3786\"], [0.5555555555555556, \"#d8576b\"], [0.6666666666666666, \"#ed7953\"], [0.7777777777777778, \"#fb9f3a\"], [0.8888888888888888, \"#fdca26\"], [1.0, \"#f0f921\"]], \"type\": \"histogram2dcontour\"}], \"mesh3d\": [{\"colorbar\": {\"outlinewidth\": 0, \"ticks\": \"\"}, \"type\": \"mesh3d\"}], \"parcoords\": [{\"line\": {\"colorbar\": {\"outlinewidth\": 0, \"ticks\": \"\"}}, \"type\": \"parcoords\"}], \"pie\": [{\"automargin\": true, \"type\": \"pie\"}], \"scatter\": [{\"marker\": {\"colorbar\": {\"outlinewidth\": 0, \"ticks\": \"\"}}, \"type\": \"scatter\"}], \"scatter3d\": [{\"line\": {\"colorbar\": {\"outlinewidth\": 0, \"ticks\": \"\"}}, \"marker\": {\"colorbar\": {\"outlinewidth\": 0, \"ticks\": \"\"}}, \"type\": \"scatter3d\"}], \"scattercarpet\": [{\"marker\": {\"colorbar\": {\"outlinewidth\": 0, \"ticks\": \"\"}}, \"type\": \"scattercarpet\"}], \"scattergeo\": [{\"marker\": {\"colorbar\": {\"outlinewidth\": 0, \"ticks\": \"\"}}, \"type\": \"scattergeo\"}], \"scattergl\": [{\"marker\": {\"colorbar\": {\"outlinewidth\": 0, \"ticks\": \"\"}}, \"type\": \"scattergl\"}], \"scattermapbox\": [{\"marker\": {\"colorbar\": {\"outlinewidth\": 0, \"ticks\": \"\"}}, \"type\": \"scattermapbox\"}], \"scatterpolar\": [{\"marker\": {\"colorbar\": {\"outlinewidth\": 0, \"ticks\": \"\"}}, \"type\": \"scatterpolar\"}], \"scatterpolargl\": [{\"marker\": {\"colorbar\": {\"outlinewidth\": 0, \"ticks\": \"\"}}, \"type\": \"scatterpolargl\"}], \"scatterternary\": [{\"marker\": {\"colorbar\": {\"outlinewidth\": 0, \"ticks\": \"\"}}, \"type\": \"scatterternary\"}], \"surface\": [{\"colorbar\": {\"outlinewidth\": 0, \"ticks\": \"\"}, \"colorscale\": [[0.0, \"#0d0887\"], [0.1111111111111111, \"#46039f\"], [0.2222222222222222, \"#7201a8\"], [0.3333333333333333, \"#9c179e\"], [0.4444444444444444, \"#bd3786\"], [0.5555555555555556, \"#d8576b\"], [0.6666666666666666, \"#ed7953\"], [0.7777777777777778, \"#fb9f3a\"], [0.8888888888888888, \"#fdca26\"], [1.0, \"#f0f921\"]], \"type\": \"surface\"}], \"table\": [{\"cells\": {\"fill\": {\"color\": \"#EBF0F8\"}, \"line\": {\"color\": \"white\"}}, \"header\": {\"fill\": {\"color\": \"#C8D4E3\"}, \"line\": {\"color\": \"white\"}}, \"type\": \"table\"}]}, \"layout\": {\"annotationdefaults\": {\"arrowcolor\": \"#2a3f5f\", \"arrowhead\": 0, \"arrowwidth\": 1}, \"coloraxis\": {\"colorbar\": {\"outlinewidth\": 0, \"ticks\": \"\"}}, \"colorscale\": {\"diverging\": [[0, \"#8e0152\"], [0.1, \"#c51b7d\"], [0.2, \"#de77ae\"], [0.3, \"#f1b6da\"], [0.4, \"#fde0ef\"], [0.5, \"#f7f7f7\"], [0.6, \"#e6f5d0\"], [0.7, \"#b8e186\"], [0.8, \"#7fbc41\"], [0.9, \"#4d9221\"], [1, \"#276419\"]], \"sequential\": [[0.0, \"#0d0887\"], [0.1111111111111111, \"#46039f\"], [0.2222222222222222, \"#7201a8\"], [0.3333333333333333, \"#9c179e\"], [0.4444444444444444, \"#bd3786\"], [0.5555555555555556, \"#d8576b\"], [0.6666666666666666, \"#ed7953\"], [0.7777777777777778, \"#fb9f3a\"], [0.8888888888888888, \"#fdca26\"], [1.0, \"#f0f921\"]], \"sequentialminus\": [[0.0, \"#0d0887\"], [0.1111111111111111, \"#46039f\"], [0.2222222222222222, \"#7201a8\"], [0.3333333333333333, \"#9c179e\"], [0.4444444444444444, \"#bd3786\"], [0.5555555555555556, \"#d8576b\"], [0.6666666666666666, \"#ed7953\"], [0.7777777777777778, \"#fb9f3a\"], [0.8888888888888888, \"#fdca26\"], [1.0, \"#f0f921\"]]}, \"colorway\": [\"#636efa\", \"#EF553B\", \"#00cc96\", \"#ab63fa\", \"#FFA15A\", \"#19d3f3\", \"#FF6692\", \"#B6E880\", \"#FF97FF\", \"#FECB52\"], \"font\": {\"color\": \"#2a3f5f\"}, \"geo\": {\"bgcolor\": \"white\", \"lakecolor\": \"white\", \"landcolor\": \"#E5ECF6\", \"showlakes\": true, \"showland\": true, \"subunitcolor\": \"white\"}, \"hoverlabel\": {\"align\": \"left\"}, \"hovermode\": \"closest\", \"mapbox\": {\"style\": \"light\"}, \"paper_bgcolor\": \"white\", \"plot_bgcolor\": \"#E5ECF6\", \"polar\": {\"angularaxis\": {\"gridcolor\": \"white\", \"linecolor\": \"white\", \"ticks\": \"\"}, \"bgcolor\": \"#E5ECF6\", \"radialaxis\": {\"gridcolor\": \"white\", \"linecolor\": \"white\", \"ticks\": \"\"}}, \"scene\": {\"xaxis\": {\"backgroundcolor\": \"#E5ECF6\", \"gridcolor\": \"white\", \"gridwidth\": 2, \"linecolor\": \"white\", \"showbackground\": true, \"ticks\": \"\", \"zerolinecolor\": \"white\"}, \"yaxis\": {\"backgroundcolor\": \"#E5ECF6\", \"gridcolor\": \"white\", \"gridwidth\": 2, \"linecolor\": \"white\", \"showbackground\": true, \"ticks\": \"\", \"zerolinecolor\": \"white\"}, \"zaxis\": {\"backgroundcolor\": \"#E5ECF6\", \"gridcolor\": \"white\", \"gridwidth\": 2, \"linecolor\": \"white\", \"showbackground\": true, \"ticks\": \"\", \"zerolinecolor\": \"white\"}}, \"shapedefaults\": {\"line\": {\"color\": \"#2a3f5f\"}}, \"ternary\": {\"aaxis\": {\"gridcolor\": \"white\", \"linecolor\": \"white\", \"ticks\": \"\"}, \"baxis\": {\"gridcolor\": \"white\", \"linecolor\": \"white\", \"ticks\": \"\"}, \"bgcolor\": \"#E5ECF6\", \"caxis\": {\"gridcolor\": \"white\", \"linecolor\": \"white\", \"ticks\": \"\"}}, \"title\": {\"x\": 0.05}, \"xaxis\": {\"automargin\": true, \"gridcolor\": \"white\", \"linecolor\": \"white\", \"ticks\": \"\", \"title\": {\"standoff\": 15}, \"zerolinecolor\": \"white\", \"zerolinewidth\": 2}, \"yaxis\": {\"automargin\": true, \"gridcolor\": \"white\", \"linecolor\": \"white\", \"ticks\": \"\", \"title\": {\"standoff\": 15}, \"zerolinecolor\": \"white\", \"zerolinewidth\": 2}}}, \"title\": {\"text\": \"Quarterly sales for all parts\"}, \"updatemenus\": [{\"active\": -1, \"buttons\": [{\"args\": [{\"visible\": [true, false, false, false, false, false, false, false, false, false, false, false, false, false, false, false, false, false, false, false, false, false, false, false, false, false, false, false, false, false, false, false, false, false, false, false, false, false, false, false, false, false, false, false, false, false, false, false, false, false, false, false, false, false, false, false, false, false, false, false, false, false, false, false, false, false, false, false, false, false, false, false, false, false, false, false, false, false, false, false, false, false, false, false, false, false, false, false, false, false, false, false, false, false, false, false, false, false, false, false]}, {\"title\": \"Quarterly sales for part 0185-0373\"}], \"label\": \"0185-0373\", \"method\": \"update\"}, {\"args\": [{\"visible\": [false, true, false, false, false, false, false, false, false, false, false, false, false, false, false, false, false, false, false, false, false, false, false, false, false, false, false, false, false, false, false, false, false, false, false, false, false, false, false, false, false, false, false, false, false, false, false, false, false, false, false, false, false, false, false, false, false, false, false, false, false, false, false, false, false, false, false, false, false, false, false, false, false, false, false, false, false, false, false, false, false, false, false, false, false, false, false, false, false, false, false, false, false, false, false, false, false, false, false, false]}, {\"title\": \"Quarterly sales for part 0228-2167\"}], \"label\": \"0228-2167\", \"method\": \"update\"}, {\"args\": [{\"visible\": [false, false, true, false, false, false, false, false, false, false, false, false, false, false, false, false, false, false, false, false, false, false, false, false, false, false, false, false, false, false, false, false, false, false, false, false, false, false, false, false, false, false, false, false, false, false, false, false, false, false, false, false, false, false, false, false, false, false, false, false, false, false, false, false, false, false, false, false, false, false, false, false, false, false, false, false, false, false, false, false, false, false, false, false, false, false, false, false, false, false, false, false, false, false, false, false, false, false, false, false]}, {\"title\": \"Quarterly sales for part 0268-1128\"}], \"label\": \"0268-1128\", \"method\": \"update\"}, {\"args\": [{\"visible\": [false, false, false, true, false, false, false, false, false, false, false, false, false, false, false, false, false, false, false, false, false, false, false, false, false, false, false, false, false, false, false, false, false, false, false, false, false, false, false, false, false, false, false, false, false, false, false, false, false, false, false, false, false, false, false, false, false, false, false, false, false, false, false, false, false, false, false, false, false, false, false, false, false, false, false, false, false, false, false, false, false, false, false, false, false, false, false, false, false, false, false, false, false, false, false, false, false, false, false, false]}, {\"title\": \"Quarterly sales for part 0268-1401\"}], \"label\": \"0268-1401\", \"method\": \"update\"}, {\"args\": [{\"visible\": [false, false, false, false, true, false, false, false, false, false, false, false, false, false, false, false, false, false, false, false, false, false, false, false, false, false, false, false, false, false, false, false, false, false, false, false, false, false, false, false, false, false, false, false, false, false, false, false, false, false, false, false, false, false, false, false, false, false, false, false, false, false, false, false, false, false, false, false, false, false, false, false, false, false, false, false, false, false, false, false, false, false, false, false, false, false, false, false, false, false, false, false, false, false, false, false, false, false, false, false]}, {\"title\": \"Quarterly sales for part 0268-1604\"}], \"label\": \"0268-1604\", \"method\": \"update\"}, {\"args\": [{\"visible\": [false, false, false, false, false, true, false, false, false, false, false, false, false, false, false, false, false, false, false, false, false, false, false, false, false, false, false, false, false, false, false, false, false, false, false, false, false, false, false, false, false, false, false, false, false, false, false, false, false, false, false, false, false, false, false, false, false, false, false, false, false, false, false, false, false, false, false, false, false, false, false, false, false, false, false, false, false, false, false, false, false, false, false, false, false, false, false, false, false, false, false, false, false, false, false, false, false, false, false, false]}, {\"title\": \"Quarterly sales for part 0268-6107\"}], \"label\": \"0268-6107\", \"method\": \"update\"}, {\"args\": [{\"visible\": [false, false, false, false, false, false, true, false, false, false, false, false, false, false, false, false, false, false, false, false, false, false, false, false, false, false, false, false, false, false, false, false, false, false, false, false, false, false, false, false, false, false, false, false, false, false, false, false, false, false, false, false, false, false, false, false, false, false, false, false, false, false, false, false, false, false, false, false, false, false, false, false, false, false, false, false, false, false, false, false, false, false, false, false, false, false, false, false, false, false, false, false, false, false, false, false, false, false, false, false]}, {\"title\": \"Quarterly sales for part 0603-6134\"}], \"label\": \"0603-6134\", \"method\": \"update\"}, {\"args\": [{\"visible\": [false, false, false, false, false, false, false, true, false, false, false, false, false, false, false, false, false, false, false, false, false, false, false, false, false, false, false, false, false, false, false, false, false, false, false, false, false, false, false, false, false, false, false, false, false, false, false, false, false, false, false, false, false, false, false, false, false, false, false, false, false, false, false, false, false, false, false, false, false, false, false, false, false, false, false, false, false, false, false, false, false, false, false, false, false, false, false, false, false, false, false, false, false, false, false, false, false, false, false, false]}, {\"title\": \"Quarterly sales for part 0615-7679\"}], \"label\": \"0615-7679\", \"method\": \"update\"}, {\"args\": [{\"visible\": [false, false, false, false, false, false, false, false, true, false, false, false, false, false, false, false, false, false, false, false, false, false, false, false, false, false, false, false, false, false, false, false, false, false, false, false, false, false, false, false, false, false, false, false, false, false, false, false, false, false, false, false, false, false, false, false, false, false, false, false, false, false, false, false, false, false, false, false, false, false, false, false, false, false, false, false, false, false, false, false, false, false, false, false, false, false, false, false, false, false, false, false, false, false, false, false, false, false, false, false]}, {\"title\": \"Quarterly sales for part 0699-7041\"}], \"label\": \"0699-7041\", \"method\": \"update\"}, {\"args\": [{\"visible\": [false, false, false, false, false, false, false, false, false, true, false, false, false, false, false, false, false, false, false, false, false, false, false, false, false, false, false, false, false, false, false, false, false, false, false, false, false, false, false, false, false, false, false, false, false, false, false, false, false, false, false, false, false, false, false, false, false, false, false, false, false, false, false, false, false, false, false, false, false, false, false, false, false, false, false, false, false, false, false, false, false, false, false, false, false, false, false, false, false, false, false, false, false, false, false, false, false, false, false, false]}, {\"title\": \"Quarterly sales for part 10237-832\"}], \"label\": \"10237-832\", \"method\": \"update\"}, {\"args\": [{\"visible\": [false, false, false, false, false, false, false, false, false, false, true, false, false, false, false, false, false, false, false, false, false, false, false, false, false, false, false, false, false, false, false, false, false, false, false, false, false, false, false, false, false, false, false, false, false, false, false, false, false, false, false, false, false, false, false, false, false, false, false, false, false, false, false, false, false, false, false, false, false, false, false, false, false, false, false, false, false, false, false, false, false, false, false, false, false, false, false, false, false, false, false, false, false, false, false, false, false, false, false, false]}, {\"title\": \"Quarterly sales for part 10267-2529\"}], \"label\": \"10267-2529\", \"method\": \"update\"}, {\"args\": [{\"visible\": [false, false, false, false, false, false, false, false, false, false, false, true, false, false, false, false, false, false, false, false, false, false, false, false, false, false, false, false, false, false, false, false, false, false, false, false, false, false, false, false, false, false, false, false, false, false, false, false, false, false, false, false, false, false, false, false, false, false, false, false, false, false, false, false, false, false, false, false, false, false, false, false, false, false, false, false, false, false, false, false, false, false, false, false, false, false, false, false, false, false, false, false, false, false, false, false, false, false, false, false]}, {\"title\": \"Quarterly sales for part 10578-049\"}], \"label\": \"10578-049\", \"method\": \"update\"}, {\"args\": [{\"visible\": [false, false, false, false, false, false, false, false, false, false, false, false, true, false, false, false, false, false, false, false, false, false, false, false, false, false, false, false, false, false, false, false, false, false, false, false, false, false, false, false, false, false, false, false, false, false, false, false, false, false, false, false, false, false, false, false, false, false, false, false, false, false, false, false, false, false, false, false, false, false, false, false, false, false, false, false, false, false, false, false, false, false, false, false, false, false, false, false, false, false, false, false, false, false, false, false, false, false, false, false]}, {\"title\": \"Quarterly sales for part 13537-259\"}], \"label\": \"13537-259\", \"method\": \"update\"}, {\"args\": [{\"visible\": [false, false, false, false, false, false, false, false, false, false, false, false, false, true, false, false, false, false, false, false, false, false, false, false, false, false, false, false, false, false, false, false, false, false, false, false, false, false, false, false, false, false, false, false, false, false, false, false, false, false, false, false, false, false, false, false, false, false, false, false, false, false, false, false, false, false, false, false, false, false, false, false, false, false, false, false, false, false, false, false, false, false, false, false, false, false, false, false, false, false, false, false, false, false, false, false, false, false, false, false]}, {\"title\": \"Quarterly sales for part 13537-468\"}], \"label\": \"13537-468\", \"method\": \"update\"}, {\"args\": [{\"visible\": [false, false, false, false, false, false, false, false, false, false, false, false, false, false, true, false, false, false, false, false, false, false, false, false, false, false, false, false, false, false, false, false, false, false, false, false, false, false, false, false, false, false, false, false, false, false, false, false, false, false, false, false, false, false, false, false, false, false, false, false, false, false, false, false, false, false, false, false, false, false, false, false, false, false, false, false, false, false, false, false, false, false, false, false, false, false, false, false, false, false, false, false, false, false, false, false, false, false, false, false]}, {\"title\": \"Quarterly sales for part 16477-306\"}], \"label\": \"16477-306\", \"method\": \"update\"}, {\"args\": [{\"visible\": [false, false, false, false, false, false, false, false, false, false, false, false, false, false, false, true, false, false, false, false, false, false, false, false, false, false, false, false, false, false, false, false, false, false, false, false, false, false, false, false, false, false, false, false, false, false, false, false, false, false, false, false, false, false, false, false, false, false, false, false, false, false, false, false, false, false, false, false, false, false, false, false, false, false, false, false, false, false, false, false, false, false, false, false, false, false, false, false, false, false, false, false, false, false, false, false, false, false, false, false]}, {\"title\": \"Quarterly sales for part 16590-177\"}], \"label\": \"16590-177\", \"method\": \"update\"}, {\"args\": [{\"visible\": [false, false, false, false, false, false, false, false, false, false, false, false, false, false, false, false, true, false, false, false, false, false, false, false, false, false, false, false, false, false, false, false, false, false, false, false, false, false, false, false, false, false, false, false, false, false, false, false, false, false, false, false, false, false, false, false, false, false, false, false, false, false, false, false, false, false, false, false, false, false, false, false, false, false, false, false, false, false, false, false, false, false, false, false, false, false, false, false, false, false, false, false, false, false, false, false, false, false, false, false]}, {\"title\": \"Quarterly sales for part 16714-295\"}], \"label\": \"16714-295\", \"method\": \"update\"}, {\"args\": [{\"visible\": [false, false, false, false, false, false, false, false, false, false, false, false, false, false, false, false, false, true, false, false, false, false, false, false, false, false, false, false, false, false, false, false, false, false, false, false, false, false, false, false, false, false, false, false, false, false, false, false, false, false, false, false, false, false, false, false, false, false, false, false, false, false, false, false, false, false, false, false, false, false, false, false, false, false, false, false, false, false, false, false, false, false, false, false, false, false, false, false, false, false, false, false, false, false, false, false, false, false, false, false]}, {\"title\": \"Quarterly sales for part 16729-167\"}], \"label\": \"16729-167\", \"method\": \"update\"}, {\"args\": [{\"visible\": [false, false, false, false, false, false, false, false, false, false, false, false, false, false, false, false, false, false, true, false, false, false, false, false, false, false, false, false, false, false, false, false, false, false, false, false, false, false, false, false, false, false, false, false, false, false, false, false, false, false, false, false, false, false, false, false, false, false, false, false, false, false, false, false, false, false, false, false, false, false, false, false, false, false, false, false, false, false, false, false, false, false, false, false, false, false, false, false, false, false, false, false, false, false, false, false, false, false, false, false]}, {\"title\": \"Quarterly sales for part 17156-617\"}], \"label\": \"17156-617\", \"method\": \"update\"}, {\"args\": [{\"visible\": [false, false, false, false, false, false, false, false, false, false, false, false, false, false, false, false, false, false, false, true, false, false, false, false, false, false, false, false, false, false, false, false, false, false, false, false, false, false, false, false, false, false, false, false, false, false, false, false, false, false, false, false, false, false, false, false, false, false, false, false, false, false, false, false, false, false, false, false, false, false, false, false, false, false, false, false, false, false, false, false, false, false, false, false, false, false, false, false, false, false, false, false, false, false, false, false, false, false, false, false]}, {\"title\": \"Quarterly sales for part 21695-267\"}], \"label\": \"21695-267\", \"method\": \"update\"}, {\"args\": [{\"visible\": [false, false, false, false, false, false, false, false, false, false, false, false, false, false, false, false, false, false, false, false, true, false, false, false, false, false, false, false, false, false, false, false, false, false, false, false, false, false, false, false, false, false, false, false, false, false, false, false, false, false, false, false, false, false, false, false, false, false, false, false, false, false, false, false, false, false, false, false, false, false, false, false, false, false, false, false, false, false, false, false, false, false, false, false, false, false, false, false, false, false, false, false, false, false, false, false, false, false, false, false]}, {\"title\": \"Quarterly sales for part 21695-931\"}], \"label\": \"21695-931\", \"method\": \"update\"}, {\"args\": [{\"visible\": [false, false, false, false, false, false, false, false, false, false, false, false, false, false, false, false, false, false, false, false, false, true, false, false, false, false, false, false, false, false, false, false, false, false, false, false, false, false, false, false, false, false, false, false, false, false, false, false, false, false, false, false, false, false, false, false, false, false, false, false, false, false, false, false, false, false, false, false, false, false, false, false, false, false, false, false, false, false, false, false, false, false, false, false, false, false, false, false, false, false, false, false, false, false, false, false, false, false, false, false]}, {\"title\": \"Quarterly sales for part 24286-1562\"}], \"label\": \"24286-1562\", \"method\": \"update\"}, {\"args\": [{\"visible\": [false, false, false, false, false, false, false, false, false, false, false, false, false, false, false, false, false, false, false, false, false, false, true, false, false, false, false, false, false, false, false, false, false, false, false, false, false, false, false, false, false, false, false, false, false, false, false, false, false, false, false, false, false, false, false, false, false, false, false, false, false, false, false, false, false, false, false, false, false, false, false, false, false, false, false, false, false, false, false, false, false, false, false, false, false, false, false, false, false, false, false, false, false, false, false, false, false, false, false, false]}, {\"title\": \"Quarterly sales for part 24385-268\"}], \"label\": \"24385-268\", \"method\": \"update\"}, {\"args\": [{\"visible\": [false, false, false, false, false, false, false, false, false, false, false, false, false, false, false, false, false, false, false, false, false, false, false, true, false, false, false, false, false, false, false, false, false, false, false, false, false, false, false, false, false, false, false, false, false, false, false, false, false, false, false, false, false, false, false, false, false, false, false, false, false, false, false, false, false, false, false, false, false, false, false, false, false, false, false, false, false, false, false, false, false, false, false, false, false, false, false, false, false, false, false, false, false, false, false, false, false, false, false, false]}, {\"title\": \"Quarterly sales for part 35356-325\"}], \"label\": \"35356-325\", \"method\": \"update\"}, {\"args\": [{\"visible\": [false, false, false, false, false, false, false, false, false, false, false, false, false, false, false, false, false, false, false, false, false, false, false, false, true, false, false, false, false, false, false, false, false, false, false, false, false, false, false, false, false, false, false, false, false, false, false, false, false, false, false, false, false, false, false, false, false, false, false, false, false, false, false, false, false, false, false, false, false, false, false, false, false, false, false, false, false, false, false, false, false, false, false, false, false, false, false, false, false, false, false, false, false, false, false, false, false, false, false, false]}, {\"title\": \"Quarterly sales for part 36800-952\"}], \"label\": \"36800-952\", \"method\": \"update\"}, {\"args\": [{\"visible\": [false, false, false, false, false, false, false, false, false, false, false, false, false, false, false, false, false, false, false, false, false, false, false, false, false, true, false, false, false, false, false, false, false, false, false, false, false, false, false, false, false, false, false, false, false, false, false, false, false, false, false, false, false, false, false, false, false, false, false, false, false, false, false, false, false, false, false, false, false, false, false, false, false, false, false, false, false, false, false, false, false, false, false, false, false, false, false, false, false, false, false, false, false, false, false, false, false, false, false, false]}, {\"title\": \"Quarterly sales for part 36987-1697\"}], \"label\": \"36987-1697\", \"method\": \"update\"}, {\"args\": [{\"visible\": [false, false, false, false, false, false, false, false, false, false, false, false, false, false, false, false, false, false, false, false, false, false, false, false, false, false, true, false, false, false, false, false, false, false, false, false, false, false, false, false, false, false, false, false, false, false, false, false, false, false, false, false, false, false, false, false, false, false, false, false, false, false, false, false, false, false, false, false, false, false, false, false, false, false, false, false, false, false, false, false, false, false, false, false, false, false, false, false, false, false, false, false, false, false, false, false, false, false, false, false]}, {\"title\": \"Quarterly sales for part 37205-951\"}], \"label\": \"37205-951\", \"method\": \"update\"}, {\"args\": [{\"visible\": [false, false, false, false, false, false, false, false, false, false, false, false, false, false, false, false, false, false, false, false, false, false, false, false, false, false, false, true, false, false, false, false, false, false, false, false, false, false, false, false, false, false, false, false, false, false, false, false, false, false, false, false, false, false, false, false, false, false, false, false, false, false, false, false, false, false, false, false, false, false, false, false, false, false, false, false, false, false, false, false, false, false, false, false, false, false, false, false, false, false, false, false, false, false, false, false, false, false, false, false]}, {\"title\": \"Quarterly sales for part 37205-992\"}], \"label\": \"37205-992\", \"method\": \"update\"}, {\"args\": [{\"visible\": [false, false, false, false, false, false, false, false, false, false, false, false, false, false, false, false, false, false, false, false, false, false, false, false, false, false, false, false, true, false, false, false, false, false, false, false, false, false, false, false, false, false, false, false, false, false, false, false, false, false, false, false, false, false, false, false, false, false, false, false, false, false, false, false, false, false, false, false, false, false, false, false, false, false, false, false, false, false, false, false, false, false, false, false, false, false, false, false, false, false, false, false, false, false, false, false, false, false, false, false]}, {\"title\": \"Quarterly sales for part 41163-428\"}], \"label\": \"41163-428\", \"method\": \"update\"}, {\"args\": [{\"visible\": [false, false, false, false, false, false, false, false, false, false, false, false, false, false, false, false, false, false, false, false, false, false, false, false, false, false, false, false, false, true, false, false, false, false, false, false, false, false, false, false, false, false, false, false, false, false, false, false, false, false, false, false, false, false, false, false, false, false, false, false, false, false, false, false, false, false, false, false, false, false, false, false, false, false, false, false, false, false, false, false, false, false, false, false, false, false, false, false, false, false, false, false, false, false, false, false, false, false, false, false]}, {\"title\": \"Quarterly sales for part 41167-0843\"}], \"label\": \"41167-0843\", \"method\": \"update\"}, {\"args\": [{\"visible\": [false, false, false, false, false, false, false, false, false, false, false, false, false, false, false, false, false, false, false, false, false, false, false, false, false, false, false, false, false, false, true, false, false, false, false, false, false, false, false, false, false, false, false, false, false, false, false, false, false, false, false, false, false, false, false, false, false, false, false, false, false, false, false, false, false, false, false, false, false, false, false, false, false, false, false, false, false, false, false, false, false, false, false, false, false, false, false, false, false, false, false, false, false, false, false, false, false, false, false, false]}, {\"title\": \"Quarterly sales for part 42254-213\"}], \"label\": \"42254-213\", \"method\": \"update\"}, {\"args\": [{\"visible\": [false, false, false, false, false, false, false, false, false, false, false, false, false, false, false, false, false, false, false, false, false, false, false, false, false, false, false, false, false, false, false, true, false, false, false, false, false, false, false, false, false, false, false, false, false, false, false, false, false, false, false, false, false, false, false, false, false, false, false, false, false, false, false, false, false, false, false, false, false, false, false, false, false, false, false, false, false, false, false, false, false, false, false, false, false, false, false, false, false, false, false, false, false, false, false, false, false, false, false, false]}, {\"title\": \"Quarterly sales for part 43419-018\"}], \"label\": \"43419-018\", \"method\": \"update\"}, {\"args\": [{\"visible\": [false, false, false, false, false, false, false, false, false, false, false, false, false, false, false, false, false, false, false, false, false, false, false, false, false, false, false, false, false, false, false, false, true, false, false, false, false, false, false, false, false, false, false, false, false, false, false, false, false, false, false, false, false, false, false, false, false, false, false, false, false, false, false, false, false, false, false, false, false, false, false, false, false, false, false, false, false, false, false, false, false, false, false, false, false, false, false, false, false, false, false, false, false, false, false, false, false, false, false, false]}, {\"title\": \"Quarterly sales for part 44946-1046\"}], \"label\": \"44946-1046\", \"method\": \"update\"}, {\"args\": [{\"visible\": [false, false, false, false, false, false, false, false, false, false, false, false, false, false, false, false, false, false, false, false, false, false, false, false, false, false, false, false, false, false, false, false, false, true, false, false, false, false, false, false, false, false, false, false, false, false, false, false, false, false, false, false, false, false, false, false, false, false, false, false, false, false, false, false, false, false, false, false, false, false, false, false, false, false, false, false, false, false, false, false, false, false, false, false, false, false, false, false, false, false, false, false, false, false, false, false, false, false, false, false]}, {\"title\": \"Quarterly sales for part 48951-4042\"}], \"label\": \"48951-4042\", \"method\": \"update\"}, {\"args\": [{\"visible\": [false, false, false, false, false, false, false, false, false, false, false, false, false, false, false, false, false, false, false, false, false, false, false, false, false, false, false, false, false, false, false, false, false, false, true, false, false, false, false, false, false, false, false, false, false, false, false, false, false, false, false, false, false, false, false, false, false, false, false, false, false, false, false, false, false, false, false, false, false, false, false, false, false, false, false, false, false, false, false, false, false, false, false, false, false, false, false, false, false, false, false, false, false, false, false, false, false, false, false, false]}, {\"title\": \"Quarterly sales for part 49035-530\"}], \"label\": \"49035-530\", \"method\": \"update\"}, {\"args\": [{\"visible\": [false, false, false, false, false, false, false, false, false, false, false, false, false, false, false, false, false, false, false, false, false, false, false, false, false, false, false, false, false, false, false, false, false, false, false, true, false, false, false, false, false, false, false, false, false, false, false, false, false, false, false, false, false, false, false, false, false, false, false, false, false, false, false, false, false, false, false, false, false, false, false, false, false, false, false, false, false, false, false, false, false, false, false, false, false, false, false, false, false, false, false, false, false, false, false, false, false, false, false, false]}, {\"title\": \"Quarterly sales for part 49288-0285\"}], \"label\": \"49288-0285\", \"method\": \"update\"}, {\"args\": [{\"visible\": [false, false, false, false, false, false, false, false, false, false, false, false, false, false, false, false, false, false, false, false, false, false, false, false, false, false, false, false, false, false, false, false, false, false, false, false, true, false, false, false, false, false, false, false, false, false, false, false, false, false, false, false, false, false, false, false, false, false, false, false, false, false, false, false, false, false, false, false, false, false, false, false, false, false, false, false, false, false, false, false, false, false, false, false, false, false, false, false, false, false, false, false, false, false, false, false, false, false, false, false]}, {\"title\": \"Quarterly sales for part 49288-0655\"}], \"label\": \"49288-0655\", \"method\": \"update\"}, {\"args\": [{\"visible\": [false, false, false, false, false, false, false, false, false, false, false, false, false, false, false, false, false, false, false, false, false, false, false, false, false, false, false, false, false, false, false, false, false, false, false, false, false, true, false, false, false, false, false, false, false, false, false, false, false, false, false, false, false, false, false, false, false, false, false, false, false, false, false, false, false, false, false, false, false, false, false, false, false, false, false, false, false, false, false, false, false, false, false, false, false, false, false, false, false, false, false, false, false, false, false, false, false, false, false, false]}, {\"title\": \"Quarterly sales for part 49348-574\"}], \"label\": \"49348-574\", \"method\": \"update\"}, {\"args\": [{\"visible\": [false, false, false, false, false, false, false, false, false, false, false, false, false, false, false, false, false, false, false, false, false, false, false, false, false, false, false, false, false, false, false, false, false, false, false, false, false, false, true, false, false, false, false, false, false, false, false, false, false, false, false, false, false, false, false, false, false, false, false, false, false, false, false, false, false, false, false, false, false, false, false, false, false, false, false, false, false, false, false, false, false, false, false, false, false, false, false, false, false, false, false, false, false, false, false, false, false, false, false, false]}, {\"title\": \"Quarterly sales for part 49349-106\"}], \"label\": \"49349-106\", \"method\": \"update\"}, {\"args\": [{\"visible\": [false, false, false, false, false, false, false, false, false, false, false, false, false, false, false, false, false, false, false, false, false, false, false, false, false, false, false, false, false, false, false, false, false, false, false, false, false, false, false, true, false, false, false, false, false, false, false, false, false, false, false, false, false, false, false, false, false, false, false, false, false, false, false, false, false, false, false, false, false, false, false, false, false, false, false, false, false, false, false, false, false, false, false, false, false, false, false, false, false, false, false, false, false, false, false, false, false, false, false, false]}, {\"title\": \"Quarterly sales for part 49349-314\"}], \"label\": \"49349-314\", \"method\": \"update\"}, {\"args\": [{\"visible\": [false, false, false, false, false, false, false, false, false, false, false, false, false, false, false, false, false, false, false, false, false, false, false, false, false, false, false, false, false, false, false, false, false, false, false, false, false, false, false, false, true, false, false, false, false, false, false, false, false, false, false, false, false, false, false, false, false, false, false, false, false, false, false, false, false, false, false, false, false, false, false, false, false, false, false, false, false, false, false, false, false, false, false, false, false, false, false, false, false, false, false, false, false, false, false, false, false, false, false, false]}, {\"title\": \"Quarterly sales for part 49349-471\"}], \"label\": \"49349-471\", \"method\": \"update\"}, {\"args\": [{\"visible\": [false, false, false, false, false, false, false, false, false, false, false, false, false, false, false, false, false, false, false, false, false, false, false, false, false, false, false, false, false, false, false, false, false, false, false, false, false, false, false, false, false, true, false, false, false, false, false, false, false, false, false, false, false, false, false, false, false, false, false, false, false, false, false, false, false, false, false, false, false, false, false, false, false, false, false, false, false, false, false, false, false, false, false, false, false, false, false, false, false, false, false, false, false, false, false, false, false, false, false, false]}, {\"title\": \"Quarterly sales for part 49349-820\"}], \"label\": \"49349-820\", \"method\": \"update\"}, {\"args\": [{\"visible\": [false, false, false, false, false, false, false, false, false, false, false, false, false, false, false, false, false, false, false, false, false, false, false, false, false, false, false, false, false, false, false, false, false, false, false, false, false, false, false, false, false, false, true, false, false, false, false, false, false, false, false, false, false, false, false, false, false, false, false, false, false, false, false, false, false, false, false, false, false, false, false, false, false, false, false, false, false, false, false, false, false, false, false, false, false, false, false, false, false, false, false, false, false, false, false, false, false, false, false, false]}, {\"title\": \"Quarterly sales for part 49349-842\"}], \"label\": \"49349-842\", \"method\": \"update\"}, {\"args\": [{\"visible\": [false, false, false, false, false, false, false, false, false, false, false, false, false, false, false, false, false, false, false, false, false, false, false, false, false, false, false, false, false, false, false, false, false, false, false, false, false, false, false, false, false, false, false, true, false, false, false, false, false, false, false, false, false, false, false, false, false, false, false, false, false, false, false, false, false, false, false, false, false, false, false, false, false, false, false, false, false, false, false, false, false, false, false, false, false, false, false, false, false, false, false, false, false, false, false, false, false, false, false, false]}, {\"title\": \"Quarterly sales for part 49520-501\"}], \"label\": \"49520-501\", \"method\": \"update\"}, {\"args\": [{\"visible\": [false, false, false, false, false, false, false, false, false, false, false, false, false, false, false, false, false, false, false, false, false, false, false, false, false, false, false, false, false, false, false, false, false, false, false, false, false, false, false, false, false, false, false, false, true, false, false, false, false, false, false, false, false, false, false, false, false, false, false, false, false, false, false, false, false, false, false, false, false, false, false, false, false, false, false, false, false, false, false, false, false, false, false, false, false, false, false, false, false, false, false, false, false, false, false, false, false, false, false, false]}, {\"title\": \"Quarterly sales for part 49738-105\"}], \"label\": \"49738-105\", \"method\": \"update\"}, {\"args\": [{\"visible\": [false, false, false, false, false, false, false, false, false, false, false, false, false, false, false, false, false, false, false, false, false, false, false, false, false, false, false, false, false, false, false, false, false, false, false, false, false, false, false, false, false, false, false, false, false, true, false, false, false, false, false, false, false, false, false, false, false, false, false, false, false, false, false, false, false, false, false, false, false, false, false, false, false, false, false, false, false, false, false, false, false, false, false, false, false, false, false, false, false, false, false, false, false, false, false, false, false, false, false, false]}, {\"title\": \"Quarterly sales for part 49967-724\"}], \"label\": \"49967-724\", \"method\": \"update\"}, {\"args\": [{\"visible\": [false, false, false, false, false, false, false, false, false, false, false, false, false, false, false, false, false, false, false, false, false, false, false, false, false, false, false, false, false, false, false, false, false, false, false, false, false, false, false, false, false, false, false, false, false, false, true, false, false, false, false, false, false, false, false, false, false, false, false, false, false, false, false, false, false, false, false, false, false, false, false, false, false, false, false, false, false, false, false, false, false, false, false, false, false, false, false, false, false, false, false, false, false, false, false, false, false, false, false, false]}, {\"title\": \"Quarterly sales for part 49999-737\"}], \"label\": \"49999-737\", \"method\": \"update\"}, {\"args\": [{\"visible\": [false, false, false, false, false, false, false, false, false, false, false, false, false, false, false, false, false, false, false, false, false, false, false, false, false, false, false, false, false, false, false, false, false, false, false, false, false, false, false, false, false, false, false, false, false, false, false, true, false, false, false, false, false, false, false, false, false, false, false, false, false, false, false, false, false, false, false, false, false, false, false, false, false, false, false, false, false, false, false, false, false, false, false, false, false, false, false, false, false, false, false, false, false, false, false, false, false, false, false, false]}, {\"title\": \"Quarterly sales for part 50458-560\"}], \"label\": \"50458-560\", \"method\": \"update\"}, {\"args\": [{\"visible\": [false, false, false, false, false, false, false, false, false, false, false, false, false, false, false, false, false, false, false, false, false, false, false, false, false, false, false, false, false, false, false, false, false, false, false, false, false, false, false, false, false, false, false, false, false, false, false, false, true, false, false, false, false, false, false, false, false, false, false, false, false, false, false, false, false, false, false, false, false, false, false, false, false, false, false, false, false, false, false, false, false, false, false, false, false, false, false, false, false, false, false, false, false, false, false, false, false, false, false, false]}, {\"title\": \"Quarterly sales for part 50563-113\"}], \"label\": \"50563-113\", \"method\": \"update\"}, {\"args\": [{\"visible\": [false, false, false, false, false, false, false, false, false, false, false, false, false, false, false, false, false, false, false, false, false, false, false, false, false, false, false, false, false, false, false, false, false, false, false, false, false, false, false, false, false, false, false, false, false, false, false, false, false, true, false, false, false, false, false, false, false, false, false, false, false, false, false, false, false, false, false, false, false, false, false, false, false, false, false, false, false, false, false, false, false, false, false, false, false, false, false, false, false, false, false, false, false, false, false, false, false, false, false, false]}, {\"title\": \"Quarterly sales for part 51060-032\"}], \"label\": \"51060-032\", \"method\": \"update\"}, {\"args\": [{\"visible\": [false, false, false, false, false, false, false, false, false, false, false, false, false, false, false, false, false, false, false, false, false, false, false, false, false, false, false, false, false, false, false, false, false, false, false, false, false, false, false, false, false, false, false, false, false, false, false, false, false, false, true, false, false, false, false, false, false, false, false, false, false, false, false, false, false, false, false, false, false, false, false, false, false, false, false, false, false, false, false, false, false, false, false, false, false, false, false, false, false, false, false, false, false, false, false, false, false, false, false, false]}, {\"title\": \"Quarterly sales for part 51079-947\"}], \"label\": \"51079-947\", \"method\": \"update\"}, {\"args\": [{\"visible\": [false, false, false, false, false, false, false, false, false, false, false, false, false, false, false, false, false, false, false, false, false, false, false, false, false, false, false, false, false, false, false, false, false, false, false, false, false, false, false, false, false, false, false, false, false, false, false, false, false, false, false, true, false, false, false, false, false, false, false, false, false, false, false, false, false, false, false, false, false, false, false, false, false, false, false, false, false, false, false, false, false, false, false, false, false, false, false, false, false, false, false, false, false, false, false, false, false, false, false, false]}, {\"title\": \"Quarterly sales for part 51138-049\"}], \"label\": \"51138-049\", \"method\": \"update\"}, {\"args\": [{\"visible\": [false, false, false, false, false, false, false, false, false, false, false, false, false, false, false, false, false, false, false, false, false, false, false, false, false, false, false, false, false, false, false, false, false, false, false, false, false, false, false, false, false, false, false, false, false, false, false, false, false, false, false, false, true, false, false, false, false, false, false, false, false, false, false, false, false, false, false, false, false, false, false, false, false, false, false, false, false, false, false, false, false, false, false, false, false, false, false, false, false, false, false, false, false, false, false, false, false, false, false, false]}, {\"title\": \"Quarterly sales for part 51346-126\"}], \"label\": \"51346-126\", \"method\": \"update\"}, {\"args\": [{\"visible\": [false, false, false, false, false, false, false, false, false, false, false, false, false, false, false, false, false, false, false, false, false, false, false, false, false, false, false, false, false, false, false, false, false, false, false, false, false, false, false, false, false, false, false, false, false, false, false, false, false, false, false, false, false, true, false, false, false, false, false, false, false, false, false, false, false, false, false, false, false, false, false, false, false, false, false, false, false, false, false, false, false, false, false, false, false, false, false, false, false, false, false, false, false, false, false, false, false, false, false, false]}, {\"title\": \"Quarterly sales for part 51346-145\"}], \"label\": \"51346-145\", \"method\": \"update\"}, {\"args\": [{\"visible\": [false, false, false, false, false, false, false, false, false, false, false, false, false, false, false, false, false, false, false, false, false, false, false, false, false, false, false, false, false, false, false, false, false, false, false, false, false, false, false, false, false, false, false, false, false, false, false, false, false, false, false, false, false, false, true, false, false, false, false, false, false, false, false, false, false, false, false, false, false, false, false, false, false, false, false, false, false, false, false, false, false, false, false, false, false, false, false, false, false, false, false, false, false, false, false, false, false, false, false, false]}, {\"title\": \"Quarterly sales for part 51523-002\"}], \"label\": \"51523-002\", \"method\": \"update\"}, {\"args\": [{\"visible\": [false, false, false, false, false, false, false, false, false, false, false, false, false, false, false, false, false, false, false, false, false, false, false, false, false, false, false, false, false, false, false, false, false, false, false, false, false, false, false, false, false, false, false, false, false, false, false, false, false, false, false, false, false, false, false, true, false, false, false, false, false, false, false, false, false, false, false, false, false, false, false, false, false, false, false, false, false, false, false, false, false, false, false, false, false, false, false, false, false, false, false, false, false, false, false, false, false, false, false, false]}, {\"title\": \"Quarterly sales for part 51531-9500\"}], \"label\": \"51531-9500\", \"method\": \"update\"}, {\"args\": [{\"visible\": [false, false, false, false, false, false, false, false, false, false, false, false, false, false, false, false, false, false, false, false, false, false, false, false, false, false, false, false, false, false, false, false, false, false, false, false, false, false, false, false, false, false, false, false, false, false, false, false, false, false, false, false, false, false, false, false, true, false, false, false, false, false, false, false, false, false, false, false, false, false, false, false, false, false, false, false, false, false, false, false, false, false, false, false, false, false, false, false, false, false, false, false, false, false, false, false, false, false, false, false]}, {\"title\": \"Quarterly sales for part 52125-136\"}], \"label\": \"52125-136\", \"method\": \"update\"}, {\"args\": [{\"visible\": [false, false, false, false, false, false, false, false, false, false, false, false, false, false, false, false, false, false, false, false, false, false, false, false, false, false, false, false, false, false, false, false, false, false, false, false, false, false, false, false, false, false, false, false, false, false, false, false, false, false, false, false, false, false, false, false, false, true, false, false, false, false, false, false, false, false, false, false, false, false, false, false, false, false, false, false, false, false, false, false, false, false, false, false, false, false, false, false, false, false, false, false, false, false, false, false, false, false, false, false]}, {\"title\": \"Quarterly sales for part 52125-444\"}], \"label\": \"52125-444\", \"method\": \"update\"}, {\"args\": [{\"visible\": [false, false, false, false, false, false, false, false, false, false, false, false, false, false, false, false, false, false, false, false, false, false, false, false, false, false, false, false, false, false, false, false, false, false, false, false, false, false, false, false, false, false, false, false, false, false, false, false, false, false, false, false, false, false, false, false, false, false, true, false, false, false, false, false, false, false, false, false, false, false, false, false, false, false, false, false, false, false, false, false, false, false, false, false, false, false, false, false, false, false, false, false, false, false, false, false, false, false, false, false]}, {\"title\": \"Quarterly sales for part 52343-025\"}], \"label\": \"52343-025\", \"method\": \"update\"}, {\"args\": [{\"visible\": [false, false, false, false, false, false, false, false, false, false, false, false, false, false, false, false, false, false, false, false, false, false, false, false, false, false, false, false, false, false, false, false, false, false, false, false, false, false, false, false, false, false, false, false, false, false, false, false, false, false, false, false, false, false, false, false, false, false, false, true, false, false, false, false, false, false, false, false, false, false, false, false, false, false, false, false, false, false, false, false, false, false, false, false, false, false, false, false, false, false, false, false, false, false, false, false, false, false, false, false]}, {\"title\": \"Quarterly sales for part 52380-1102\"}], \"label\": \"52380-1102\", \"method\": \"update\"}, {\"args\": [{\"visible\": [false, false, false, false, false, false, false, false, false, false, false, false, false, false, false, false, false, false, false, false, false, false, false, false, false, false, false, false, false, false, false, false, false, false, false, false, false, false, false, false, false, false, false, false, false, false, false, false, false, false, false, false, false, false, false, false, false, false, false, false, true, false, false, false, false, false, false, false, false, false, false, false, false, false, false, false, false, false, false, false, false, false, false, false, false, false, false, false, false, false, false, false, false, false, false, false, false, false, false, false]}, {\"title\": \"Quarterly sales for part 52959-433\"}], \"label\": \"52959-433\", \"method\": \"update\"}, {\"args\": [{\"visible\": [false, false, false, false, false, false, false, false, false, false, false, false, false, false, false, false, false, false, false, false, false, false, false, false, false, false, false, false, false, false, false, false, false, false, false, false, false, false, false, false, false, false, false, false, false, false, false, false, false, false, false, false, false, false, false, false, false, false, false, false, false, true, false, false, false, false, false, false, false, false, false, false, false, false, false, false, false, false, false, false, false, false, false, false, false, false, false, false, false, false, false, false, false, false, false, false, false, false, false, false]}, {\"title\": \"Quarterly sales for part 54092-515\"}], \"label\": \"54092-515\", \"method\": \"update\"}, {\"args\": [{\"visible\": [false, false, false, false, false, false, false, false, false, false, false, false, false, false, false, false, false, false, false, false, false, false, false, false, false, false, false, false, false, false, false, false, false, false, false, false, false, false, false, false, false, false, false, false, false, false, false, false, false, false, false, false, false, false, false, false, false, false, false, false, false, false, true, false, false, false, false, false, false, false, false, false, false, false, false, false, false, false, false, false, false, false, false, false, false, false, false, false, false, false, false, false, false, false, false, false, false, false, false, false]}, {\"title\": \"Quarterly sales for part 54123-957\"}], \"label\": \"54123-957\", \"method\": \"update\"}, {\"args\": [{\"visible\": [false, false, false, false, false, false, false, false, false, false, false, false, false, false, false, false, false, false, false, false, false, false, false, false, false, false, false, false, false, false, false, false, false, false, false, false, false, false, false, false, false, false, false, false, false, false, false, false, false, false, false, false, false, false, false, false, false, false, false, false, false, false, false, true, false, false, false, false, false, false, false, false, false, false, false, false, false, false, false, false, false, false, false, false, false, false, false, false, false, false, false, false, false, false, false, false, false, false, false, false]}, {\"title\": \"Quarterly sales for part 54473-578\"}], \"label\": \"54473-578\", \"method\": \"update\"}, {\"args\": [{\"visible\": [false, false, false, false, false, false, false, false, false, false, false, false, false, false, false, false, false, false, false, false, false, false, false, false, false, false, false, false, false, false, false, false, false, false, false, false, false, false, false, false, false, false, false, false, false, false, false, false, false, false, false, false, false, false, false, false, false, false, false, false, false, false, false, false, true, false, false, false, false, false, false, false, false, false, false, false, false, false, false, false, false, false, false, false, false, false, false, false, false, false, false, false, false, false, false, false, false, false, false, false]}, {\"title\": \"Quarterly sales for part 54868-0823\"}], \"label\": \"54868-0823\", \"method\": \"update\"}, {\"args\": [{\"visible\": [false, false, false, false, false, false, false, false, false, false, false, false, false, false, false, false, false, false, false, false, false, false, false, false, false, false, false, false, false, false, false, false, false, false, false, false, false, false, false, false, false, false, false, false, false, false, false, false, false, false, false, false, false, false, false, false, false, false, false, false, false, false, false, false, false, true, false, false, false, false, false, false, false, false, false, false, false, false, false, false, false, false, false, false, false, false, false, false, false, false, false, false, false, false, false, false, false, false, false, false]}, {\"title\": \"Quarterly sales for part 54868-5165\"}], \"label\": \"54868-5165\", \"method\": \"update\"}, {\"args\": [{\"visible\": [false, false, false, false, false, false, false, false, false, false, false, false, false, false, false, false, false, false, false, false, false, false, false, false, false, false, false, false, false, false, false, false, false, false, false, false, false, false, false, false, false, false, false, false, false, false, false, false, false, false, false, false, false, false, false, false, false, false, false, false, false, false, false, false, false, false, true, false, false, false, false, false, false, false, false, false, false, false, false, false, false, false, false, false, false, false, false, false, false, false, false, false, false, false, false, false, false, false, false, false]}, {\"title\": \"Quarterly sales for part 54868-6311\"}], \"label\": \"54868-6311\", \"method\": \"update\"}, {\"args\": [{\"visible\": [false, false, false, false, false, false, false, false, false, false, false, false, false, false, false, false, false, false, false, false, false, false, false, false, false, false, false, false, false, false, false, false, false, false, false, false, false, false, false, false, false, false, false, false, false, false, false, false, false, false, false, false, false, false, false, false, false, false, false, false, false, false, false, false, false, false, false, true, false, false, false, false, false, false, false, false, false, false, false, false, false, false, false, false, false, false, false, false, false, false, false, false, false, false, false, false, false, false, false, false]}, {\"title\": \"Quarterly sales for part 54973-9150\"}], \"label\": \"54973-9150\", \"method\": \"update\"}, {\"args\": [{\"visible\": [false, false, false, false, false, false, false, false, false, false, false, false, false, false, false, false, false, false, false, false, false, false, false, false, false, false, false, false, false, false, false, false, false, false, false, false, false, false, false, false, false, false, false, false, false, false, false, false, false, false, false, false, false, false, false, false, false, false, false, false, false, false, false, false, false, false, false, false, true, false, false, false, false, false, false, false, false, false, false, false, false, false, false, false, false, false, false, false, false, false, false, false, false, false, false, false, false, false, false, false]}, {\"title\": \"Quarterly sales for part 55154-5057\"}], \"label\": \"55154-5057\", \"method\": \"update\"}, {\"args\": [{\"visible\": [false, false, false, false, false, false, false, false, false, false, false, false, false, false, false, false, false, false, false, false, false, false, false, false, false, false, false, false, false, false, false, false, false, false, false, false, false, false, false, false, false, false, false, false, false, false, false, false, false, false, false, false, false, false, false, false, false, false, false, false, false, false, false, false, false, false, false, false, false, true, false, false, false, false, false, false, false, false, false, false, false, false, false, false, false, false, false, false, false, false, false, false, false, false, false, false, false, false, false, false]}, {\"title\": \"Quarterly sales for part 55289-164\"}], \"label\": \"55289-164\", \"method\": \"update\"}, {\"args\": [{\"visible\": [false, false, false, false, false, false, false, false, false, false, false, false, false, false, false, false, false, false, false, false, false, false, false, false, false, false, false, false, false, false, false, false, false, false, false, false, false, false, false, false, false, false, false, false, false, false, false, false, false, false, false, false, false, false, false, false, false, false, false, false, false, false, false, false, false, false, false, false, false, false, true, false, false, false, false, false, false, false, false, false, false, false, false, false, false, false, false, false, false, false, false, false, false, false, false, false, false, false, false, false]}, {\"title\": \"Quarterly sales for part 55566-2100\"}], \"label\": \"55566-2100\", \"method\": \"update\"}, {\"args\": [{\"visible\": [false, false, false, false, false, false, false, false, false, false, false, false, false, false, false, false, false, false, false, false, false, false, false, false, false, false, false, false, false, false, false, false, false, false, false, false, false, false, false, false, false, false, false, false, false, false, false, false, false, false, false, false, false, false, false, false, false, false, false, false, false, false, false, false, false, false, false, false, false, false, false, true, false, false, false, false, false, false, false, false, false, false, false, false, false, false, false, false, false, false, false, false, false, false, false, false, false, false, false, false]}, {\"title\": \"Quarterly sales for part 55700-014\"}], \"label\": \"55700-014\", \"method\": \"update\"}, {\"args\": [{\"visible\": [false, false, false, false, false, false, false, false, false, false, false, false, false, false, false, false, false, false, false, false, false, false, false, false, false, false, false, false, false, false, false, false, false, false, false, false, false, false, false, false, false, false, false, false, false, false, false, false, false, false, false, false, false, false, false, false, false, false, false, false, false, false, false, false, false, false, false, false, false, false, false, false, true, false, false, false, false, false, false, false, false, false, false, false, false, false, false, false, false, false, false, false, false, false, false, false, false, false, false, false]}, {\"title\": \"Quarterly sales for part 55856-0003\"}], \"label\": \"55856-0003\", \"method\": \"update\"}, {\"args\": [{\"visible\": [false, false, false, false, false, false, false, false, false, false, false, false, false, false, false, false, false, false, false, false, false, false, false, false, false, false, false, false, false, false, false, false, false, false, false, false, false, false, false, false, false, false, false, false, false, false, false, false, false, false, false, false, false, false, false, false, false, false, false, false, false, false, false, false, false, false, false, false, false, false, false, false, false, true, false, false, false, false, false, false, false, false, false, false, false, false, false, false, false, false, false, false, false, false, false, false, false, false, false, false]}, {\"title\": \"Quarterly sales for part 58118-5060\"}], \"label\": \"58118-5060\", \"method\": \"update\"}, {\"args\": [{\"visible\": [false, false, false, false, false, false, false, false, false, false, false, false, false, false, false, false, false, false, false, false, false, false, false, false, false, false, false, false, false, false, false, false, false, false, false, false, false, false, false, false, false, false, false, false, false, false, false, false, false, false, false, false, false, false, false, false, false, false, false, false, false, false, false, false, false, false, false, false, false, false, false, false, false, false, true, false, false, false, false, false, false, false, false, false, false, false, false, false, false, false, false, false, false, false, false, false, false, false, false, false]}, {\"title\": \"Quarterly sales for part 58596-001\"}], \"label\": \"58596-001\", \"method\": \"update\"}, {\"args\": [{\"visible\": [false, false, false, false, false, false, false, false, false, false, false, false, false, false, false, false, false, false, false, false, false, false, false, false, false, false, false, false, false, false, false, false, false, false, false, false, false, false, false, false, false, false, false, false, false, false, false, false, false, false, false, false, false, false, false, false, false, false, false, false, false, false, false, false, false, false, false, false, false, false, false, false, false, false, false, true, false, false, false, false, false, false, false, false, false, false, false, false, false, false, false, false, false, false, false, false, false, false, false, false]}, {\"title\": \"Quarterly sales for part 58668-4281\"}], \"label\": \"58668-4281\", \"method\": \"update\"}, {\"args\": [{\"visible\": [false, false, false, false, false, false, false, false, false, false, false, false, false, false, false, false, false, false, false, false, false, false, false, false, false, false, false, false, false, false, false, false, false, false, false, false, false, false, false, false, false, false, false, false, false, false, false, false, false, false, false, false, false, false, false, false, false, false, false, false, false, false, false, false, false, false, false, false, false, false, false, false, false, false, false, false, true, false, false, false, false, false, false, false, false, false, false, false, false, false, false, false, false, false, false, false, false, false, false, false]}, {\"title\": \"Quarterly sales for part 59779-028\"}], \"label\": \"59779-028\", \"method\": \"update\"}, {\"args\": [{\"visible\": [false, false, false, false, false, false, false, false, false, false, false, false, false, false, false, false, false, false, false, false, false, false, false, false, false, false, false, false, false, false, false, false, false, false, false, false, false, false, false, false, false, false, false, false, false, false, false, false, false, false, false, false, false, false, false, false, false, false, false, false, false, false, false, false, false, false, false, false, false, false, false, false, false, false, false, false, false, true, false, false, false, false, false, false, false, false, false, false, false, false, false, false, false, false, false, false, false, false, false, false]}, {\"title\": \"Quarterly sales for part 59779-601\"}], \"label\": \"59779-601\", \"method\": \"update\"}, {\"args\": [{\"visible\": [false, false, false, false, false, false, false, false, false, false, false, false, false, false, false, false, false, false, false, false, false, false, false, false, false, false, false, false, false, false, false, false, false, false, false, false, false, false, false, false, false, false, false, false, false, false, false, false, false, false, false, false, false, false, false, false, false, false, false, false, false, false, false, false, false, false, false, false, false, false, false, false, false, false, false, false, false, false, true, false, false, false, false, false, false, false, false, false, false, false, false, false, false, false, false, false, false, false, false, false]}, {\"title\": \"Quarterly sales for part 60505-2867\"}], \"label\": \"60505-2867\", \"method\": \"update\"}, {\"args\": [{\"visible\": [false, false, false, false, false, false, false, false, false, false, false, false, false, false, false, false, false, false, false, false, false, false, false, false, false, false, false, false, false, false, false, false, false, false, false, false, false, false, false, false, false, false, false, false, false, false, false, false, false, false, false, false, false, false, false, false, false, false, false, false, false, false, false, false, false, false, false, false, false, false, false, false, false, false, false, false, false, false, false, true, false, false, false, false, false, false, false, false, false, false, false, false, false, false, false, false, false, false, false, false]}, {\"title\": \"Quarterly sales for part 61398-0828\"}], \"label\": \"61398-0828\", \"method\": \"update\"}, {\"args\": [{\"visible\": [false, false, false, false, false, false, false, false, false, false, false, false, false, false, false, false, false, false, false, false, false, false, false, false, false, false, false, false, false, false, false, false, false, false, false, false, false, false, false, false, false, false, false, false, false, false, false, false, false, false, false, false, false, false, false, false, false, false, false, false, false, false, false, false, false, false, false, false, false, false, false, false, false, false, false, false, false, false, false, false, true, false, false, false, false, false, false, false, false, false, false, false, false, false, false, false, false, false, false, false]}, {\"title\": \"Quarterly sales for part 62011-0219\"}], \"label\": \"62011-0219\", \"method\": \"update\"}, {\"args\": [{\"visible\": [false, false, false, false, false, false, false, false, false, false, false, false, false, false, false, false, false, false, false, false, false, false, false, false, false, false, false, false, false, false, false, false, false, false, false, false, false, false, false, false, false, false, false, false, false, false, false, false, false, false, false, false, false, false, false, false, false, false, false, false, false, false, false, false, false, false, false, false, false, false, false, false, false, false, false, false, false, false, false, false, false, true, false, false, false, false, false, false, false, false, false, false, false, false, false, false, false, false, false, false]}, {\"title\": \"Quarterly sales for part 62670-4404\"}], \"label\": \"62670-4404\", \"method\": \"update\"}, {\"args\": [{\"visible\": [false, false, false, false, false, false, false, false, false, false, false, false, false, false, false, false, false, false, false, false, false, false, false, false, false, false, false, false, false, false, false, false, false, false, false, false, false, false, false, false, false, false, false, false, false, false, false, false, false, false, false, false, false, false, false, false, false, false, false, false, false, false, false, false, false, false, false, false, false, false, false, false, false, false, false, false, false, false, false, false, false, false, true, false, false, false, false, false, false, false, false, false, false, false, false, false, false, false, false, false]}, {\"title\": \"Quarterly sales for part 62742-4030\"}], \"label\": \"62742-4030\", \"method\": \"update\"}, {\"args\": [{\"visible\": [false, false, false, false, false, false, false, false, false, false, false, false, false, false, false, false, false, false, false, false, false, false, false, false, false, false, false, false, false, false, false, false, false, false, false, false, false, false, false, false, false, false, false, false, false, false, false, false, false, false, false, false, false, false, false, false, false, false, false, false, false, false, false, false, false, false, false, false, false, false, false, false, false, false, false, false, false, false, false, false, false, false, false, true, false, false, false, false, false, false, false, false, false, false, false, false, false, false, false, false]}, {\"title\": \"Quarterly sales for part 62756-707\"}], \"label\": \"62756-707\", \"method\": \"update\"}, {\"args\": [{\"visible\": [false, false, false, false, false, false, false, false, false, false, false, false, false, false, false, false, false, false, false, false, false, false, false, false, false, false, false, false, false, false, false, false, false, false, false, false, false, false, false, false, false, false, false, false, false, false, false, false, false, false, false, false, false, false, false, false, false, false, false, false, false, false, false, false, false, false, false, false, false, false, false, false, false, false, false, false, false, false, false, false, false, false, false, false, true, false, false, false, false, false, false, false, false, false, false, false, false, false, false, false]}, {\"title\": \"Quarterly sales for part 63629-2733\"}], \"label\": \"63629-2733\", \"method\": \"update\"}, {\"args\": [{\"visible\": [false, false, false, false, false, false, false, false, false, false, false, false, false, false, false, false, false, false, false, false, false, false, false, false, false, false, false, false, false, false, false, false, false, false, false, false, false, false, false, false, false, false, false, false, false, false, false, false, false, false, false, false, false, false, false, false, false, false, false, false, false, false, false, false, false, false, false, false, false, false, false, false, false, false, false, false, false, false, false, false, false, false, false, false, false, true, false, false, false, false, false, false, false, false, false, false, false, false, false, false]}, {\"title\": \"Quarterly sales for part 65044-3014\"}], \"label\": \"65044-3014\", \"method\": \"update\"}, {\"args\": [{\"visible\": [false, false, false, false, false, false, false, false, false, false, false, false, false, false, false, false, false, false, false, false, false, false, false, false, false, false, false, false, false, false, false, false, false, false, false, false, false, false, false, false, false, false, false, false, false, false, false, false, false, false, false, false, false, false, false, false, false, false, false, false, false, false, false, false, false, false, false, false, false, false, false, false, false, false, false, false, false, false, false, false, false, false, false, false, false, false, true, false, false, false, false, false, false, false, false, false, false, false, false, false]}, {\"title\": \"Quarterly sales for part 67046-030\"}], \"label\": \"67046-030\", \"method\": \"update\"}, {\"args\": [{\"visible\": [false, false, false, false, false, false, false, false, false, false, false, false, false, false, false, false, false, false, false, false, false, false, false, false, false, false, false, false, false, false, false, false, false, false, false, false, false, false, false, false, false, false, false, false, false, false, false, false, false, false, false, false, false, false, false, false, false, false, false, false, false, false, false, false, false, false, false, false, false, false, false, false, false, false, false, false, false, false, false, false, false, false, false, false, false, false, false, true, false, false, false, false, false, false, false, false, false, false, false, false]}, {\"title\": \"Quarterly sales for part 67544-356\"}], \"label\": \"67544-356\", \"method\": \"update\"}, {\"args\": [{\"visible\": [false, false, false, false, false, false, false, false, false, false, false, false, false, false, false, false, false, false, false, false, false, false, false, false, false, false, false, false, false, false, false, false, false, false, false, false, false, false, false, false, false, false, false, false, false, false, false, false, false, false, false, false, false, false, false, false, false, false, false, false, false, false, false, false, false, false, false, false, false, false, false, false, false, false, false, false, false, false, false, false, false, false, false, false, false, false, false, false, true, false, false, false, false, false, false, false, false, false, false, false]}, {\"title\": \"Quarterly sales for part 68084-172\"}], \"label\": \"68084-172\", \"method\": \"update\"}, {\"args\": [{\"visible\": [false, false, false, false, false, false, false, false, false, false, false, false, false, false, false, false, false, false, false, false, false, false, false, false, false, false, false, false, false, false, false, false, false, false, false, false, false, false, false, false, false, false, false, false, false, false, false, false, false, false, false, false, false, false, false, false, false, false, false, false, false, false, false, false, false, false, false, false, false, false, false, false, false, false, false, false, false, false, false, false, false, false, false, false, false, false, false, false, false, true, false, false, false, false, false, false, false, false, false, false]}, {\"title\": \"Quarterly sales for part 68084-595\"}], \"label\": \"68084-595\", \"method\": \"update\"}, {\"args\": [{\"visible\": [false, false, false, false, false, false, false, false, false, false, false, false, false, false, false, false, false, false, false, false, false, false, false, false, false, false, false, false, false, false, false, false, false, false, false, false, false, false, false, false, false, false, false, false, false, false, false, false, false, false, false, false, false, false, false, false, false, false, false, false, false, false, false, false, false, false, false, false, false, false, false, false, false, false, false, false, false, false, false, false, false, false, false, false, false, false, false, false, false, false, true, false, false, false, false, false, false, false, false, false]}, {\"title\": \"Quarterly sales for part 68180-121\"}], \"label\": \"68180-121\", \"method\": \"update\"}, {\"args\": [{\"visible\": [false, false, false, false, false, false, false, false, false, false, false, false, false, false, false, false, false, false, false, false, false, false, false, false, false, false, false, false, false, false, false, false, false, false, false, false, false, false, false, false, false, false, false, false, false, false, false, false, false, false, false, false, false, false, false, false, false, false, false, false, false, false, false, false, false, false, false, false, false, false, false, false, false, false, false, false, false, false, false, false, false, false, false, false, false, false, false, false, false, false, false, true, false, false, false, false, false, false, false, false]}, {\"title\": \"Quarterly sales for part 68233-011\"}], \"label\": \"68233-011\", \"method\": \"update\"}, {\"args\": [{\"visible\": [false, false, false, false, false, false, false, false, false, false, false, false, false, false, false, false, false, false, false, false, false, false, false, false, false, false, false, false, false, false, false, false, false, false, false, false, false, false, false, false, false, false, false, false, false, false, false, false, false, false, false, false, false, false, false, false, false, false, false, false, false, false, false, false, false, false, false, false, false, false, false, false, false, false, false, false, false, false, false, false, false, false, false, false, false, false, false, false, false, false, false, false, true, false, false, false, false, false, false, false]}, {\"title\": \"Quarterly sales for part 68462-565\"}], \"label\": \"68462-565\", \"method\": \"update\"}, {\"args\": [{\"visible\": [false, false, false, false, false, false, false, false, false, false, false, false, false, false, false, false, false, false, false, false, false, false, false, false, false, false, false, false, false, false, false, false, false, false, false, false, false, false, false, false, false, false, false, false, false, false, false, false, false, false, false, false, false, false, false, false, false, false, false, false, false, false, false, false, false, false, false, false, false, false, false, false, false, false, false, false, false, false, false, false, false, false, false, false, false, false, false, false, false, false, false, false, false, true, false, false, false, false, false, false]}, {\"title\": \"Quarterly sales for part 68752-024\"}], \"label\": \"68752-024\", \"method\": \"update\"}, {\"args\": [{\"visible\": [false, false, false, false, false, false, false, false, false, false, false, false, false, false, false, false, false, false, false, false, false, false, false, false, false, false, false, false, false, false, false, false, false, false, false, false, false, false, false, false, false, false, false, false, false, false, false, false, false, false, false, false, false, false, false, false, false, false, false, false, false, false, false, false, false, false, false, false, false, false, false, false, false, false, false, false, false, false, false, false, false, false, false, false, false, false, false, false, false, false, false, false, false, false, true, false, false, false, false, false]}, {\"title\": \"Quarterly sales for part 70253-307\"}], \"label\": \"70253-307\", \"method\": \"update\"}, {\"args\": [{\"visible\": [false, false, false, false, false, false, false, false, false, false, false, false, false, false, false, false, false, false, false, false, false, false, false, false, false, false, false, false, false, false, false, false, false, false, false, false, false, false, false, false, false, false, false, false, false, false, false, false, false, false, false, false, false, false, false, false, false, false, false, false, false, false, false, false, false, false, false, false, false, false, false, false, false, false, false, false, false, false, false, false, false, false, false, false, false, false, false, false, false, false, false, false, false, false, false, true, false, false, false, false]}, {\"title\": \"Quarterly sales for part 76117-001\"}], \"label\": \"76117-001\", \"method\": \"update\"}, {\"args\": [{\"visible\": [false, false, false, false, false, false, false, false, false, false, false, false, false, false, false, false, false, false, false, false, false, false, false, false, false, false, false, false, false, false, false, false, false, false, false, false, false, false, false, false, false, false, false, false, false, false, false, false, false, false, false, false, false, false, false, false, false, false, false, false, false, false, false, false, false, false, false, false, false, false, false, false, false, false, false, false, false, false, false, false, false, false, false, false, false, false, false, false, false, false, false, false, false, false, false, false, true, false, false, false]}, {\"title\": \"Quarterly sales for part 76314-002\"}], \"label\": \"76314-002\", \"method\": \"update\"}, {\"args\": [{\"visible\": [false, false, false, false, false, false, false, false, false, false, false, false, false, false, false, false, false, false, false, false, false, false, false, false, false, false, false, false, false, false, false, false, false, false, false, false, false, false, false, false, false, false, false, false, false, false, false, false, false, false, false, false, false, false, false, false, false, false, false, false, false, false, false, false, false, false, false, false, false, false, false, false, false, false, false, false, false, false, false, false, false, false, false, false, false, false, false, false, false, false, false, false, false, false, false, false, false, true, false, false]}, {\"title\": \"Quarterly sales for part 76335-006\"}], \"label\": \"76335-006\", \"method\": \"update\"}, {\"args\": [{\"visible\": [false, false, false, false, false, false, false, false, false, false, false, false, false, false, false, false, false, false, false, false, false, false, false, false, false, false, false, false, false, false, false, false, false, false, false, false, false, false, false, false, false, false, false, false, false, false, false, false, false, false, false, false, false, false, false, false, false, false, false, false, false, false, false, false, false, false, false, false, false, false, false, false, false, false, false, false, false, false, false, false, false, false, false, false, false, false, false, false, false, false, false, false, false, false, false, false, false, false, true, false]}, {\"title\": \"Quarterly sales for part 76454-100\"}], \"label\": \"76454-100\", \"method\": \"update\"}, {\"args\": [{\"visible\": [false, false, false, false, false, false, false, false, false, false, false, false, false, false, false, false, false, false, false, false, false, false, false, false, false, false, false, false, false, false, false, false, false, false, false, false, false, false, false, false, false, false, false, false, false, false, false, false, false, false, false, false, false, false, false, false, false, false, false, false, false, false, false, false, false, false, false, false, false, false, false, false, false, false, false, false, false, false, false, false, false, false, false, false, false, false, false, false, false, false, false, false, false, false, false, false, false, false, false, true]}, {\"title\": \"Quarterly sales for part 98132-889\"}], \"label\": \"98132-889\", \"method\": \"update\"}]}], \"xaxis\": {\"dtick\": 1, \"tick0\": 2016, \"tickmode\": \"linear\"}, \"yaxis\": {\"title\": {\"text\": \"Sales\"}}},\n",
       "                        {\"responsive\": true}\n",
       "                    ).then(function(){\n",
       "                            \n",
       "var gd = document.getElementById('92a6d42f-fc49-4619-8d6f-799b389297c1');\n",
       "var x = new MutationObserver(function (mutations, observer) {{\n",
       "        var display = window.getComputedStyle(gd).display;\n",
       "        if (!display || display === 'none') {{\n",
       "            console.log([gd, 'removed!']);\n",
       "            Plotly.purge(gd);\n",
       "            observer.disconnect();\n",
       "        }}\n",
       "}});\n",
       "\n",
       "// Listen for the removal of the full notebook cells\n",
       "var notebookContainer = gd.closest('#notebook-container');\n",
       "if (notebookContainer) {{\n",
       "    x.observe(notebookContainer, {childList: true});\n",
       "}}\n",
       "\n",
       "// Listen for the clearing of the current output cell\n",
       "var outputEl = gd.closest('.output');\n",
       "if (outputEl) {{\n",
       "    x.observe(outputEl, {childList: true});\n",
       "}}\n",
       "\n",
       "                        })\n",
       "                };\n",
       "                \n",
       "            </script>\n",
       "        </div>\n",
       "</body>\n",
       "</html>"
      ]
     },
     "metadata": {
      "tags": []
     },
     "output_type": "display_data"
    }
   ],
   "source": [
    "# Define a figure\n",
    "fig = go.Figure()\n",
    "\n",
    "# Find all unique parts and sort the list\n",
    "all_parts = sorted(parts_popularity_df['part'].unique())\n",
    "\n",
    "# Run through all parts and create a line+marker plot for each part\n",
    "for part in all_parts:\n",
    "  # Create a mask and filter the dataframe\n",
    "  mask = parts_popularity_df['part'] == part\n",
    "  filter_part_df = parts_popularity_df[mask]\n",
    "  \n",
    "  # Add plot to figure\n",
    "  fig.add_trace(\n",
    "      go.Scatter(x=filter_part_df['date_quarter'], \n",
    "                 y=filter_part_df['sales'],\n",
    "                 name=part\n",
    "      )\n",
    "  )\n",
    "\n",
    "# Create the dropdown menu\n",
    "visibility = [False]*len(all_parts)\n",
    "plot_buttons = [dict(label=all_parts[i],\n",
    "                     method='update',\n",
    "                     args=[{\"visible\": [visibility[j] if i!=j else True for j in range(len(visibility))]},\n",
    "                           {\"title\": f'Quarterly sales for part {all_parts[i]}'}]) for i in range(len(all_parts))]\n",
    "\n",
    "# Add title, axis labels, and dropdown menus\n",
    "fig.update_layout(\n",
    "    xaxis = dict(\n",
    "        tickmode = 'linear',\n",
    "        tick0 = 2016,\n",
    "        dtick = 1\n",
    "    ),\n",
    "    yaxis = dict(\n",
    "        title = 'Sales'\n",
    "    ),\n",
    "    title = dict(\n",
    "        text='Quarterly sales for all parts'\n",
    "    ),\n",
    "    updatemenus=[ \n",
    "        dict( \n",
    "            active=-1, \n",
    "            buttons=list(plot_buttons), \n",
    "        ) \n",
    "    ],\n",
    ")\n",
    "\n",
    "# Show plot\n",
    "fig.show()"
   ]
  },
  {
   "cell_type": "markdown",
   "metadata": {
    "id": "VeqqrKI6LpTJ"
   },
   "source": [
    "To see the different part's individual graph, it is possible to use either the legends or the dropdown menu to filter the data.\n",
    "\n",
    "Looking at the graphs for all parts, a common trend can be seen for the quarterly sales. All parts (or most, as it is hard to see) experienced a larger dip in sales in 2016Q4 (or around this quarter). This might indicate that something happened in 2016Q4, and that sales for this quarter might not be great.\n",
    "\n",
    "For *0699-7041* it can be seen that the quarterly sales has increased steadily since 2017Q2, though with a dip in 2018Q2 before continuing to rise again. This indicate that the part has increased in popularity lately and might continue this trend.\n",
    "It's also seen that the quarterly sales for *37205-992* has increased since 2017. The part was very popular in 2016Q1, but fell in popularity until 2017Q2, where a positive trend stared.   \n",
    "\n",
    "For *10237-832* it's seen that 2017 generally had better quarterly sales than in 2018. But there is a large rise in sales from 2018Q3 to 2018Q4, which might indicate that the sales for *10237-832* might rise in 2019.\n",
    "While for *51346-145* it can be seen that the sales rose in 2017Q4, which made 2017 a good year for the part. Comparing 2018 to 2017, the part had a mediocre year, as the quartly sales have been pretty steady throughout the year. \n"
   ]
  },
  {
   "cell_type": "markdown",
   "metadata": {
    "id": "lapWpWIaOl2L"
   },
   "source": [
    "#### 2.4. What is the average price paid for a part and the price history for parts? (5 pts)\n",
    "\n",
    "**Identify product trends. If a product is very expensive and purchase orders are going down, it might be worth considering the price of the item, as well as its relevance in the market. If a product has suddenly become very popular, it could be interesting to increase the price and see if costumers will continue to buy it, as this could increase profit for the company.**\n",
    "\n",
    "**Compute the answer, plot appropriately, and write a paragraph describing the findings.**"
   ]
  },
  {
   "cell_type": "markdown",
   "metadata": {
    "id": "f0NxhdetsMCy"
   },
   "source": [
    "To show the average price for each part, we create a query that use the `AVG` function to average the `price` column, and then group the data by the `part` column. The data is then plotted in bar plots so that it's possible to compare all average prices: "
   ]
  },
  {
   "cell_type": "code",
   "execution_count": null,
   "metadata": {
    "id": "IVDsRjedPBeW"
   },
   "outputs": [],
   "source": [
    "# Creating query to find the average price for each part\n",
    "query = \"\"\"\n",
    "        SELECT part, AVG(price) AS avg_price\n",
    "        FROM transactions_sql\n",
    "        GROUP BY part\n",
    "        ORDER BY avg_price DESC\n",
    "        \"\"\"\n",
    "\n",
    "# Creates dataframe\n",
    "parts_avg = spark.sql(query)\n",
    "parts_avg_df = parts_avg.toPandas()"
   ]
  },
  {
   "cell_type": "code",
   "execution_count": null,
   "metadata": {
    "colab": {
     "base_uri": "https://localhost:8080/",
     "height": 542
    },
    "id": "wJwG627ZD9J_",
    "outputId": "93ff85c7-cee9-4540-b9db-8071b7175623"
   },
   "outputs": [
    {
     "data": {
      "text/html": [
       "<html>\n",
       "<head><meta charset=\"utf-8\" /></head>\n",
       "<body>\n",
       "    <div>\n",
       "            <script src=\"https://cdnjs.cloudflare.com/ajax/libs/mathjax/2.7.5/MathJax.js?config=TeX-AMS-MML_SVG\"></script><script type=\"text/javascript\">if (window.MathJax) {MathJax.Hub.Config({SVG: {font: \"STIX-Web\"}});}</script>\n",
       "                <script type=\"text/javascript\">window.PlotlyConfig = {MathJaxConfig: 'local'};</script>\n",
       "        <script src=\"https://cdn.plot.ly/plotly-latest.min.js\"></script>    \n",
       "            <div id=\"092c7fc8-4f90-4f56-8ca2-aafd54705f08\" class=\"plotly-graph-div\" style=\"height:525px; width:100%;\"></div>\n",
       "            <script type=\"text/javascript\">\n",
       "                \n",
       "                    window.PLOTLYENV=window.PLOTLYENV || {};\n",
       "                    \n",
       "                if (document.getElementById(\"092c7fc8-4f90-4f56-8ca2-aafd54705f08\")) {\n",
       "                    Plotly.newPlot(\n",
       "                        '092c7fc8-4f90-4f56-8ca2-aafd54705f08',\n",
       "                        [{\"type\": \"bar\", \"x\": [\"17156-617\", \"0268-1401\", \"16477-306\", \"76117-001\", \"51531-9500\", \"0185-0373\", \"51346-145\", \"51138-049\", \"49035-530\", \"16590-177\", \"36987-1697\", \"58668-4281\", \"49288-0285\", \"51523-002\", \"54973-9150\", \"0268-1128\", \"70253-307\", \"68462-565\", \"68180-121\", \"10578-049\", \"50458-560\", \"49999-737\", \"0228-2167\", \"49349-471\", \"49349-106\", \"49520-501\", \"68752-024\", \"62011-0219\", \"54868-5165\", \"52343-025\", \"51060-032\", \"65044-3014\", \"0603-6134\", \"55154-5057\", \"54092-515\", \"59779-028\", \"0699-7041\", \"13537-259\", \"67544-356\", \"55700-014\", \"51079-947\", \"13537-468\", \"10237-832\", \"55566-2100\", \"50563-113\", \"68233-011\", \"16714-295\", \"41167-0843\", \"52125-136\", \"49349-820\", \"49967-724\", \"37205-992\", \"35356-325\", \"62742-4030\", \"68084-172\", \"52380-1102\", \"49349-314\", \"21695-931\", \"49738-105\", \"0268-6107\", \"55856-0003\", \"58596-001\", \"54868-6311\", \"16729-167\", \"10267-2529\", \"76314-002\", \"62670-4404\", \"44946-1046\", \"55289-164\", \"21695-267\", \"24286-1562\", \"61398-0828\", \"76335-006\", \"49349-842\", \"0615-7679\", \"52959-433\", \"62756-707\", \"49348-574\", \"52125-444\", \"36800-952\", \"37205-951\", \"98132-889\", \"43419-018\", \"42254-213\", \"68084-595\", \"58118-5060\", \"49288-0655\", \"48951-4042\", \"63629-2733\", \"24385-268\", \"60505-2867\", \"54473-578\", \"59779-601\", \"54123-957\", \"54868-0823\", \"67046-030\", \"51346-126\", \"0268-1604\", \"41163-428\", \"76454-100\"], \"y\": [997.7699618252841, 992.9176190350506, 986.6914469401041, 974.0301702325994, 972.8671858795976, 972.1900257637831, 965.9527091688782, 964.4186983865405, 954.6940851923246, 951.235688804975, 943.5109935871606, 933.3796441766281, 928.3574009622846, 924.7219803440678, 912.558357359871, 903.7694437459934, 900.2339513266959, 896.7801924294572, 885.5255089679747, 875.9769075128097, 873.806934655231, 867.6294128417969, 866.0058743800593, 864.3443614350268, 859.545400402214, 850.4958170657336, 838.0137068245915, 822.365772291844, 820.8204689025879, 815.8330374686949, 794.985840435176, 793.9364020869417, 790.6788715709339, 776.785568393083, 768.7829534636071, 760.4861791784114, 732.7664515071884, 728.6769290434247, 672.5846853698326, 658.1504853252873, 649.9623918866778, 636.2578285272173, 623.0167220135124, 615.0815178744764, 591.3640591200962, 574.4168393548159, 571.8135379532637, 559.5792862410398, 555.2980928113384, 553.6962658620021, 536.5977573901151, 534.5735094493493, 532.1634875667095, 531.805187854138, 514.4980244175081, 501.0411977423243, 495.4674695771316, 493.3817463248117, 487.28514189767367, 475.468621643295, 465.20881479093345, 463.69804249193845, 447.8760797263932, 446.05819666333593, 444.3614323933919, 443.52402264884347, 419.27936168150467, 411.3837783030975, 411.1392604317635, 393.0085171705101, 376.85592416368956, 367.36115492059946, 364.91279123343674, 364.35352602871984, 361.60944512718083, 333.74233951425197, 304.85094832159155, 304.3267265840707, 280.31695177540274, 255.75942605440733, 226.3008517630825, 221.5116626274295, 221.3131135588239, 219.343135145844, 215.02386474609375, 214.57665076931775, 214.50379025805128, 212.6100876112491, 202.74388381958008, 200.18137906809324, 185.19739654541016, 174.19364414760045, 169.16148943219866, 164.66823605900137, 157.26182653360846, 154.03246454092172, 137.96932213350854, 131.79651076218178, 128.1712877006941, 127.13690027532219]}],\n",
       "                        {\"template\": {\"data\": {\"bar\": [{\"error_x\": {\"color\": \"#2a3f5f\"}, \"error_y\": {\"color\": \"#2a3f5f\"}, \"marker\": {\"line\": {\"color\": \"#E5ECF6\", \"width\": 0.5}}, \"type\": \"bar\"}], \"barpolar\": [{\"marker\": {\"line\": {\"color\": \"#E5ECF6\", \"width\": 0.5}}, \"type\": \"barpolar\"}], \"carpet\": [{\"aaxis\": {\"endlinecolor\": \"#2a3f5f\", \"gridcolor\": \"white\", \"linecolor\": \"white\", \"minorgridcolor\": \"white\", \"startlinecolor\": \"#2a3f5f\"}, \"baxis\": {\"endlinecolor\": \"#2a3f5f\", \"gridcolor\": \"white\", \"linecolor\": \"white\", \"minorgridcolor\": \"white\", \"startlinecolor\": \"#2a3f5f\"}, \"type\": \"carpet\"}], \"choropleth\": [{\"colorbar\": {\"outlinewidth\": 0, \"ticks\": \"\"}, \"type\": \"choropleth\"}], \"contour\": [{\"colorbar\": {\"outlinewidth\": 0, \"ticks\": \"\"}, \"colorscale\": [[0.0, \"#0d0887\"], [0.1111111111111111, \"#46039f\"], [0.2222222222222222, \"#7201a8\"], [0.3333333333333333, \"#9c179e\"], [0.4444444444444444, \"#bd3786\"], [0.5555555555555556, \"#d8576b\"], [0.6666666666666666, \"#ed7953\"], [0.7777777777777778, \"#fb9f3a\"], [0.8888888888888888, \"#fdca26\"], [1.0, \"#f0f921\"]], \"type\": \"contour\"}], \"contourcarpet\": [{\"colorbar\": {\"outlinewidth\": 0, \"ticks\": \"\"}, \"type\": \"contourcarpet\"}], \"heatmap\": [{\"colorbar\": {\"outlinewidth\": 0, \"ticks\": \"\"}, \"colorscale\": [[0.0, \"#0d0887\"], [0.1111111111111111, \"#46039f\"], [0.2222222222222222, \"#7201a8\"], [0.3333333333333333, \"#9c179e\"], [0.4444444444444444, \"#bd3786\"], [0.5555555555555556, \"#d8576b\"], [0.6666666666666666, \"#ed7953\"], [0.7777777777777778, \"#fb9f3a\"], [0.8888888888888888, \"#fdca26\"], [1.0, \"#f0f921\"]], \"type\": \"heatmap\"}], \"heatmapgl\": [{\"colorbar\": {\"outlinewidth\": 0, \"ticks\": \"\"}, \"colorscale\": [[0.0, \"#0d0887\"], [0.1111111111111111, \"#46039f\"], [0.2222222222222222, \"#7201a8\"], [0.3333333333333333, \"#9c179e\"], [0.4444444444444444, \"#bd3786\"], [0.5555555555555556, \"#d8576b\"], [0.6666666666666666, \"#ed7953\"], [0.7777777777777778, \"#fb9f3a\"], [0.8888888888888888, \"#fdca26\"], [1.0, \"#f0f921\"]], \"type\": \"heatmapgl\"}], \"histogram\": [{\"marker\": {\"colorbar\": {\"outlinewidth\": 0, \"ticks\": \"\"}}, \"type\": \"histogram\"}], \"histogram2d\": [{\"colorbar\": {\"outlinewidth\": 0, \"ticks\": \"\"}, \"colorscale\": [[0.0, \"#0d0887\"], [0.1111111111111111, \"#46039f\"], [0.2222222222222222, \"#7201a8\"], [0.3333333333333333, \"#9c179e\"], [0.4444444444444444, \"#bd3786\"], [0.5555555555555556, \"#d8576b\"], [0.6666666666666666, \"#ed7953\"], [0.7777777777777778, \"#fb9f3a\"], [0.8888888888888888, \"#fdca26\"], [1.0, \"#f0f921\"]], \"type\": \"histogram2d\"}], \"histogram2dcontour\": [{\"colorbar\": {\"outlinewidth\": 0, \"ticks\": \"\"}, \"colorscale\": [[0.0, \"#0d0887\"], [0.1111111111111111, \"#46039f\"], [0.2222222222222222, \"#7201a8\"], [0.3333333333333333, \"#9c179e\"], [0.4444444444444444, \"#bd3786\"], [0.5555555555555556, \"#d8576b\"], [0.6666666666666666, \"#ed7953\"], [0.7777777777777778, \"#fb9f3a\"], [0.8888888888888888, \"#fdca26\"], [1.0, \"#f0f921\"]], \"type\": \"histogram2dcontour\"}], \"mesh3d\": [{\"colorbar\": {\"outlinewidth\": 0, \"ticks\": \"\"}, \"type\": \"mesh3d\"}], \"parcoords\": [{\"line\": {\"colorbar\": {\"outlinewidth\": 0, \"ticks\": \"\"}}, \"type\": \"parcoords\"}], \"pie\": [{\"automargin\": true, \"type\": \"pie\"}], \"scatter\": [{\"marker\": {\"colorbar\": {\"outlinewidth\": 0, \"ticks\": \"\"}}, \"type\": \"scatter\"}], \"scatter3d\": [{\"line\": {\"colorbar\": {\"outlinewidth\": 0, \"ticks\": \"\"}}, \"marker\": {\"colorbar\": {\"outlinewidth\": 0, \"ticks\": \"\"}}, \"type\": \"scatter3d\"}], \"scattercarpet\": [{\"marker\": {\"colorbar\": {\"outlinewidth\": 0, \"ticks\": \"\"}}, \"type\": \"scattercarpet\"}], \"scattergeo\": [{\"marker\": {\"colorbar\": {\"outlinewidth\": 0, \"ticks\": \"\"}}, \"type\": \"scattergeo\"}], \"scattergl\": [{\"marker\": {\"colorbar\": {\"outlinewidth\": 0, \"ticks\": \"\"}}, \"type\": \"scattergl\"}], \"scattermapbox\": [{\"marker\": {\"colorbar\": {\"outlinewidth\": 0, \"ticks\": \"\"}}, \"type\": \"scattermapbox\"}], \"scatterpolar\": [{\"marker\": {\"colorbar\": {\"outlinewidth\": 0, \"ticks\": \"\"}}, \"type\": \"scatterpolar\"}], \"scatterpolargl\": [{\"marker\": {\"colorbar\": {\"outlinewidth\": 0, \"ticks\": \"\"}}, \"type\": \"scatterpolargl\"}], \"scatterternary\": [{\"marker\": {\"colorbar\": {\"outlinewidth\": 0, \"ticks\": \"\"}}, \"type\": \"scatterternary\"}], \"surface\": [{\"colorbar\": {\"outlinewidth\": 0, \"ticks\": \"\"}, \"colorscale\": [[0.0, \"#0d0887\"], [0.1111111111111111, \"#46039f\"], [0.2222222222222222, \"#7201a8\"], [0.3333333333333333, \"#9c179e\"], [0.4444444444444444, \"#bd3786\"], [0.5555555555555556, \"#d8576b\"], [0.6666666666666666, \"#ed7953\"], [0.7777777777777778, \"#fb9f3a\"], [0.8888888888888888, \"#fdca26\"], [1.0, \"#f0f921\"]], \"type\": \"surface\"}], \"table\": [{\"cells\": {\"fill\": {\"color\": \"#EBF0F8\"}, \"line\": {\"color\": \"white\"}}, \"header\": {\"fill\": {\"color\": \"#C8D4E3\"}, \"line\": {\"color\": \"white\"}}, \"type\": \"table\"}]}, \"layout\": {\"annotationdefaults\": {\"arrowcolor\": \"#2a3f5f\", \"arrowhead\": 0, \"arrowwidth\": 1}, \"coloraxis\": {\"colorbar\": {\"outlinewidth\": 0, \"ticks\": \"\"}}, \"colorscale\": {\"diverging\": [[0, \"#8e0152\"], [0.1, \"#c51b7d\"], [0.2, \"#de77ae\"], [0.3, \"#f1b6da\"], [0.4, \"#fde0ef\"], [0.5, \"#f7f7f7\"], [0.6, \"#e6f5d0\"], [0.7, \"#b8e186\"], [0.8, \"#7fbc41\"], [0.9, \"#4d9221\"], [1, \"#276419\"]], \"sequential\": [[0.0, \"#0d0887\"], [0.1111111111111111, \"#46039f\"], [0.2222222222222222, \"#7201a8\"], [0.3333333333333333, \"#9c179e\"], [0.4444444444444444, \"#bd3786\"], [0.5555555555555556, \"#d8576b\"], [0.6666666666666666, \"#ed7953\"], [0.7777777777777778, \"#fb9f3a\"], [0.8888888888888888, \"#fdca26\"], [1.0, \"#f0f921\"]], \"sequentialminus\": [[0.0, \"#0d0887\"], [0.1111111111111111, \"#46039f\"], [0.2222222222222222, \"#7201a8\"], [0.3333333333333333, \"#9c179e\"], [0.4444444444444444, \"#bd3786\"], [0.5555555555555556, \"#d8576b\"], [0.6666666666666666, \"#ed7953\"], [0.7777777777777778, \"#fb9f3a\"], [0.8888888888888888, \"#fdca26\"], [1.0, \"#f0f921\"]]}, \"colorway\": [\"#636efa\", \"#EF553B\", \"#00cc96\", \"#ab63fa\", \"#FFA15A\", \"#19d3f3\", \"#FF6692\", \"#B6E880\", \"#FF97FF\", \"#FECB52\"], \"font\": {\"color\": \"#2a3f5f\"}, \"geo\": {\"bgcolor\": \"white\", \"lakecolor\": \"white\", \"landcolor\": \"#E5ECF6\", \"showlakes\": true, \"showland\": true, \"subunitcolor\": \"white\"}, \"hoverlabel\": {\"align\": \"left\"}, \"hovermode\": \"closest\", \"mapbox\": {\"style\": \"light\"}, \"paper_bgcolor\": \"white\", \"plot_bgcolor\": \"#E5ECF6\", \"polar\": {\"angularaxis\": {\"gridcolor\": \"white\", \"linecolor\": \"white\", \"ticks\": \"\"}, \"bgcolor\": \"#E5ECF6\", \"radialaxis\": {\"gridcolor\": \"white\", \"linecolor\": \"white\", \"ticks\": \"\"}}, \"scene\": {\"xaxis\": {\"backgroundcolor\": \"#E5ECF6\", \"gridcolor\": \"white\", \"gridwidth\": 2, \"linecolor\": \"white\", \"showbackground\": true, \"ticks\": \"\", \"zerolinecolor\": \"white\"}, \"yaxis\": {\"backgroundcolor\": \"#E5ECF6\", \"gridcolor\": \"white\", \"gridwidth\": 2, \"linecolor\": \"white\", \"showbackground\": true, \"ticks\": \"\", \"zerolinecolor\": \"white\"}, \"zaxis\": {\"backgroundcolor\": \"#E5ECF6\", \"gridcolor\": \"white\", \"gridwidth\": 2, \"linecolor\": \"white\", \"showbackground\": true, \"ticks\": \"\", \"zerolinecolor\": \"white\"}}, \"shapedefaults\": {\"line\": {\"color\": \"#2a3f5f\"}}, \"ternary\": {\"aaxis\": {\"gridcolor\": \"white\", \"linecolor\": \"white\", \"ticks\": \"\"}, \"baxis\": {\"gridcolor\": \"white\", \"linecolor\": \"white\", \"ticks\": \"\"}, \"bgcolor\": \"#E5ECF6\", \"caxis\": {\"gridcolor\": \"white\", \"linecolor\": \"white\", \"ticks\": \"\"}}, \"title\": {\"x\": 0.05}, \"xaxis\": {\"automargin\": true, \"gridcolor\": \"white\", \"linecolor\": \"white\", \"ticks\": \"\", \"title\": {\"standoff\": 15}, \"zerolinecolor\": \"white\", \"zerolinewidth\": 2}, \"yaxis\": {\"automargin\": true, \"gridcolor\": \"white\", \"linecolor\": \"white\", \"ticks\": \"\", \"title\": {\"standoff\": 15}, \"zerolinecolor\": \"white\", \"zerolinewidth\": 2}}}, \"title\": {\"text\": \"Average price for parts, for all transactions\"}, \"yaxis\": {\"title\": {\"text\": \"Average price in Euro\"}}},\n",
       "                        {\"responsive\": true}\n",
       "                    ).then(function(){\n",
       "                            \n",
       "var gd = document.getElementById('092c7fc8-4f90-4f56-8ca2-aafd54705f08');\n",
       "var x = new MutationObserver(function (mutations, observer) {{\n",
       "        var display = window.getComputedStyle(gd).display;\n",
       "        if (!display || display === 'none') {{\n",
       "            console.log([gd, 'removed!']);\n",
       "            Plotly.purge(gd);\n",
       "            observer.disconnect();\n",
       "        }}\n",
       "}});\n",
       "\n",
       "// Listen for the removal of the full notebook cells\n",
       "var notebookContainer = gd.closest('#notebook-container');\n",
       "if (notebookContainer) {{\n",
       "    x.observe(notebookContainer, {childList: true});\n",
       "}}\n",
       "\n",
       "// Listen for the clearing of the current output cell\n",
       "var outputEl = gd.closest('.output');\n",
       "if (outputEl) {{\n",
       "    x.observe(outputEl, {childList: true});\n",
       "}}\n",
       "\n",
       "                        })\n",
       "                };\n",
       "                \n",
       "            </script>\n",
       "        </div>\n",
       "</body>\n",
       "</html>"
      ]
     },
     "metadata": {
      "tags": []
     },
     "output_type": "display_data"
    }
   ],
   "source": [
    "# Creates figure\n",
    "fig = go.Figure()\n",
    "\n",
    "# Add bar plot\n",
    "fig.add_trace(\n",
    "      go.Bar(x=parts_avg_df['part'], \n",
    "             y=parts_avg_df['avg_price'],\n",
    "      )\n",
    "  )\n",
    "\n",
    "# Update titles and axis labels\n",
    "fig.update_layout(\n",
    "    yaxis = dict(\n",
    "        title='Average price in Euro'\n",
    "    ),\n",
    "    title = dict(\n",
    "        text='Average price for parts, for all transactions'\n",
    "    ),\n",
    ")\n",
    "\n",
    "# Show plot\n",
    "fig.show()"
   ]
  },
  {
   "cell_type": "markdown",
   "metadata": {
    "id": "fu6xIjpi_cvR"
   },
   "source": [
    "The x-axis might only show every other part (depending on your screen size), but it is possible to hover over a bar to see what part it belongs to and see the value of the average price.\n",
    "\n",
    "We see that the parts span a wide range of average prices, where *17156-617* is on average the most expensive part and *76454-100* is the least expensive part. "
   ]
  },
  {
   "cell_type": "markdown",
   "metadata": {
    "id": "OOMQ8S1yK2Io"
   },
   "source": [
    "But the average price doesn't tell much about how much the parts are being sold for through time. The price may vary, depending on e.g. demand and the price history for the different parts could therefore be of interest. \n",
    "\n",
    "We find the price history for each yearly quarter, such that it can be compared to the quarterly sale history from part 2.3. To get the price history, a query is made that gets the `part` column, transforms the `price` column to show the average price and the `date` column is changed to show the year and quarter. The average price is found by grouping the table by the `part` column and the yearly quarter. Finally the table is then sorted by part and yearly quarter. The data is then plotted as a line plot to show the daily variance in price:"
   ]
  },
  {
   "cell_type": "code",
   "execution_count": null,
   "metadata": {
    "id": "HrzRyKRsD9F1"
   },
   "outputs": [],
   "source": [
    "# Query to get part, price and date column\n",
    "query = f\"\"\"\n",
    "        SELECT part,\n",
    "               CONCAT(CAST(YEAR(date) AS string), 'Q', CAST(QUARTER(date) AS string)) AS date_quarter, \n",
    "               AVG(price) AS avg_quarterly_price\n",
    "        FROM transactions_sql\n",
    "        GROUP BY part, date_quarter\n",
    "        ORDER BY part, date_quarter\n",
    "        \"\"\"\n",
    "\n",
    "# Create dataframe\n",
    "part_price = spark.sql(query)\n",
    "part_price_df = part_price.toPandas()"
   ]
  },
  {
   "cell_type": "code",
   "execution_count": null,
   "metadata": {
    "colab": {
     "base_uri": "https://localhost:8080/",
     "height": 542
    },
    "id": "m4fKVD7DE_ma",
    "outputId": "13f33ef8-4577-46fa-8b72-834f79c47c8a"
   },
   "outputs": [
    {
     "data": {
      "text/html": [
       "<html>\n",
       "<head><meta charset=\"utf-8\" /></head>\n",
       "<body>\n",
       "    <div>\n",
       "            <script src=\"https://cdnjs.cloudflare.com/ajax/libs/mathjax/2.7.5/MathJax.js?config=TeX-AMS-MML_SVG\"></script><script type=\"text/javascript\">if (window.MathJax) {MathJax.Hub.Config({SVG: {font: \"STIX-Web\"}});}</script>\n",
       "                <script type=\"text/javascript\">window.PlotlyConfig = {MathJaxConfig: 'local'};</script>\n",
       "        <script src=\"https://cdn.plot.ly/plotly-latest.min.js\"></script>    \n",
       "            <div id=\"87d82d0d-0c32-4ca4-9fcd-8c624469f95d\" class=\"plotly-graph-div\" style=\"height:525px; width:100%;\"></div>\n",
       "            <script type=\"text/javascript\">\n",
       "                \n",
       "                    window.PLOTLYENV=window.PLOTLYENV || {};\n",
       "                    \n",
       "                if (document.getElementById(\"87d82d0d-0c32-4ca4-9fcd-8c624469f95d\")) {\n",
       "                    Plotly.newPlot(\n",
       "                        '87d82d0d-0c32-4ca4-9fcd-8c624469f95d',\n",
       "                        [{\"name\": \"0185-0373\", \"type\": \"scatter\", \"x\": [\"2016Q1\", \"2016Q2\", \"2016Q3\", \"2016Q4\", \"2017Q1\", \"2017Q2\", \"2017Q3\", \"2017Q4\", \"2018Q1\", \"2018Q2\", \"2018Q3\", \"2018Q4\"], \"y\": [987.3762939453125, 970.3619907924107, 979.1111043294271, 1002.1425018310547, 955.914794921875, 979.4373931884766, 967.1634674072266, 968.4276968149038, 970.3109334309896, 974.6778157552084, 965.7859552556819, 967.3134436974159]}, {\"name\": \"0228-2167\", \"type\": \"scatter\", \"x\": [\"2016Q1\", \"2016Q2\", \"2016Q3\", \"2016Q4\", \"2017Q1\", \"2017Q2\", \"2017Q3\", \"2017Q4\", \"2018Q1\", \"2018Q2\", \"2018Q3\", \"2018Q4\"], \"y\": [941.7055560302734, 836.0756985591008, 922.645255455604, 926.5021944912997, 939.8063681466239, 782.23974609375, 808.6699362182617, 875.3625786190942, 831.4552873883929, 872.6465442364032, 959.9138732709383, 762.2429489135742]}, {\"name\": \"0268-1128\", \"type\": \"scatter\", \"x\": [\"2016Q1\", \"2016Q2\", \"2016Q3\", \"2016Q4\", \"2017Q1\", \"2017Q2\", \"2017Q3\", \"2017Q4\", \"2018Q1\", \"2018Q2\", \"2018Q3\", \"2018Q4\"], \"y\": [859.3718112065242, 873.5107214791434, 998.7326497395833, 795.0580539703369, 785.3239059448242, 933.6946655273438, 903.3206697351792, 935.672487894694, 971.2644373575846, 819.4244490729438, 1009.2796468098958, 980.6039151278409]}, {\"name\": \"0268-1401\", \"type\": \"scatter\", \"x\": [\"2016Q1\", \"2016Q2\", \"2016Q3\", \"2016Q4\", \"2017Q1\", \"2017Q2\", \"2017Q3\", \"2017Q4\", \"2018Q1\", \"2018Q2\", \"2018Q3\", \"2018Q4\"], \"y\": [910.4326700846354, 1029.7556060791017, 812.5135314941406, 1009.4793334960938, 1045.432363656851, 1042.3761160714287, 1063.9959852430557, 1000.4425948293585, 968.3505737304688, 1076.2298583984375, 1055.3977858599494, 886.7447611490885]}, {\"name\": \"0268-1604\", \"type\": \"scatter\", \"x\": [\"2016Q1\", \"2016Q2\", \"2016Q3\", \"2016Q4\", \"2017Q1\", \"2017Q2\", \"2017Q3\", \"2017Q4\", \"2018Q1\", \"2018Q2\", \"2018Q3\", \"2018Q4\"], \"y\": [135.2857949393136, 130.67055969238282, 125.77814553000711, 128.10833485921225, 124.055248484892, 125.21888046264648, 130.97066802978514, 133.01138599102313, 141.52109718322754, 132.9984612098107, 135.93531248304578, 129.26928492954798]}, {\"name\": \"0268-6107\", \"type\": \"scatter\", \"x\": [\"2016Q1\", \"2016Q2\", \"2016Q3\", \"2016Q4\", \"2017Q1\", \"2017Q2\", \"2017Q3\", \"2017Q4\", \"2018Q1\", \"2018Q2\", \"2018Q3\", \"2018Q4\"], \"y\": [474.90065409342446, 474.0705290763609, 476.4461835225423, 475.71067810058594, 473.9181729830228, 472.3183026994978, 481.5122333873402, 484.4965450889186, 472.53597663430605, 472.98361760919744, 475.54134715687144, 472.83389547596806]}, {\"name\": \"0603-6134\", \"type\": \"scatter\", \"x\": [\"2016Q1\", \"2016Q2\", \"2016Q3\", \"2016Q4\", \"2017Q1\", \"2017Q2\", \"2017Q3\", \"2017Q4\", \"2018Q1\", \"2018Q2\", \"2018Q3\", \"2018Q4\"], \"y\": [789.9850463867188, 797.9535180664062, 791.6185641818577, 782.1133422851562, 792.6317106548108, 782.0902602251838, 778.6928817085598, 789.8027487362133, 783.720074821921, 802.0456199645996, 786.5318089535361, 816.7152303059896]}, {\"name\": \"0615-7679\", \"type\": \"scatter\", \"x\": [\"2016Q1\", \"2016Q2\", \"2016Q3\", \"2016Q4\", \"2017Q1\", \"2017Q2\", \"2017Q3\", \"2017Q4\", \"2018Q1\", \"2018Q2\", \"2018Q3\", \"2018Q4\"], \"y\": [364.9694637722439, 370.6811988467262, 356.6586049397786, 353.3617350260417, 369.73914010184154, 362.17249432732075, 347.6326823515051, 355.83290318080356, 353.8011743882123, 342.4301229623648, 354.8263735089983, 386.41243445354957]}, {\"name\": \"0699-7041\", \"type\": \"scatter\", \"x\": [\"2016Q1\", \"2016Q2\", \"2016Q3\", \"2016Q4\", \"2017Q1\", \"2017Q2\", \"2017Q3\", \"2017Q4\", \"2018Q1\", \"2018Q2\", \"2018Q3\", \"2018Q4\"], \"y\": [789.3279651460193, 712.7149571010044, 724.1720660665761, 768.0283860426682, 741.0059242248535, 840.3023943219866, 792.78369140625, 733.1684799194336, 711.4440949538658, 648.3672197129991, 732.8087826683408, 705.9748693395544]}, {\"name\": \"10237-832\", \"type\": \"scatter\", \"x\": [\"2016Q1\", \"2016Q2\", \"2016Q3\", \"2016Q4\", \"2017Q1\", \"2017Q2\", \"2017Q3\", \"2017Q4\", \"2018Q1\", \"2018Q2\", \"2018Q3\", \"2018Q4\"], \"y\": [563.7170928955078, 576.0306105180221, 690.5699869791666, 578.854238656851, 665.4223066965739, 524.7197036743164, 626.9133341471354, 602.7442016601562, 663.9852867126465, 766.2190185546875, 701.0400804792132, 597.3160336812338]}, {\"name\": \"10267-2529\", \"type\": \"scatter\", \"x\": [\"2016Q1\", \"2016Q2\", \"2016Q3\", \"2016Q4\", \"2017Q1\", \"2017Q2\", \"2017Q3\", \"2017Q4\", \"2018Q1\", \"2018Q2\", \"2018Q3\", \"2018Q4\"], \"y\": [461.6117919921875, 448.7572498321533, 479.3075065612793, 420.5642830984933, 463.8454506613991, 436.33253309461804, 414.2141371506911, 460.8320007324219, 429.0873377182904, 424.61434173583984, 439.6414315359933, 453.8170430501302]}, {\"name\": \"10578-049\", \"type\": \"scatter\", \"x\": [\"2016Q1\", \"2016Q2\", \"2016Q3\", \"2016Q4\", \"2017Q1\", \"2017Q2\", \"2017Q3\", \"2017Q4\", \"2018Q1\", \"2018Q2\", \"2018Q3\", \"2018Q4\"], \"y\": [820.3131568545386, 759.9659912109375, 974.5789772033692, 988.3886274857955, 736.0826782226562, 790.1215139535757, 845.6165974934896, 950.318613688151, 800.0109182504507, 1054.313900596217, 1002.5391322544643, 770.8463689630681]}, {\"name\": \"13537-259\", \"type\": \"scatter\", \"x\": [\"2016Q1\", \"2016Q2\", \"2016Q3\", \"2016Q4\", \"2017Q1\", \"2017Q2\", \"2017Q3\", \"2017Q4\", \"2018Q1\", \"2018Q2\", \"2018Q3\", \"2018Q4\"], \"y\": [756.5354056980299, 716.5386071777343, 742.3805966584579, 700.5219970703125, 708.7040657832705, 743.4813103926809, 720.1474151611328, 732.4848961463341, 701.1550632052952, 718.8643711635044, 734.1845910644531, 768.0504455566406]}, {\"name\": \"13537-468\", \"type\": \"scatter\", \"x\": [\"2016Q1\", \"2016Q2\", \"2016Q3\", \"2016Q4\", \"2017Q1\", \"2017Q2\", \"2017Q3\", \"2017Q4\", \"2018Q1\", \"2018Q2\", \"2018Q3\", \"2018Q4\"], \"y\": [652.7851275275735, 691.1938332950367, 629.8764457702637, 655.1674041748047, 567.452001953125, 661.2758178710938, 631.2833133273655, 603.2164611816406, 673.1104801722935, 598.7735072544643, 594.7454155815972, 630.1510696411133]}, {\"name\": \"16477-306\", \"type\": \"scatter\", \"x\": [\"2016Q1\", \"2016Q2\", \"2016Q3\", \"2016Q4\", \"2017Q1\", \"2017Q2\", \"2017Q3\", \"2017Q4\", \"2018Q1\", \"2018Q2\", \"2018Q3\", \"2018Q4\"], \"y\": [969.2907215465199, 1000.2638617621528, 976.9492111206055, 974.0880004882813, 966.5319552951389, 1027.2174987792969, 1000.7141810825893, 1007.7989153180804, 981.3341761997768, 999.2760731090199, 972.2101372612847, 989.6336447975852]}, {\"name\": \"16590-177\", \"type\": \"scatter\", \"x\": [\"2016Q1\", \"2016Q2\", \"2016Q3\", \"2016Q4\", \"2017Q1\", \"2017Q2\", \"2017Q3\", \"2017Q4\", \"2018Q1\", \"2018Q2\", \"2018Q3\", \"2018Q4\"], \"y\": [901.7098066541884, 851.2737401326498, 1034.987832205636, 1217.2140502929688, 870.2297668457031, 979.3132486979167, 1012.2505891587999, 1018.9331176757812, 1166.071219889323, 804.9710469563802, 961.969165802002, 900.161319732666]}, {\"name\": \"16714-295\", \"type\": \"scatter\", \"x\": [\"2016Q1\", \"2016Q2\", \"2016Q3\", \"2016Q4\", \"2017Q1\", \"2017Q2\", \"2017Q3\", \"2017Q4\", \"2018Q1\", \"2018Q2\", \"2018Q3\", \"2018Q4\"], \"y\": [515.5116171836853, 603.504646664574, 581.981396484375, 597.5833587646484, 537.5605454878373, 557.9879116482205, 573.8716186523437, 573.224593389602, 613.187440999349, 559.9924741472516, 589.1490009014423, 616.0793617248535]}, {\"name\": \"16729-167\", \"type\": \"scatter\", \"x\": [\"2016Q1\", \"2016Q2\", \"2016Q3\", \"2016Q4\", \"2017Q1\", \"2017Q2\", \"2017Q3\", \"2017Q4\", \"2018Q1\", \"2018Q2\", \"2018Q3\", \"2018Q4\"], \"y\": [424.80467027606386, 525.6719672463157, 451.2528018951416, 403.6927695641151, 468.2761279019442, 450.8103591918945, 376.92948259626115, 444.0903951856825, 448.05343350497157, 437.2680317207619, 420.37415194511414, 471.5366455078125]}, {\"name\": \"17156-617\", \"type\": \"scatter\", \"x\": [\"2016Q1\", \"2016Q2\", \"2016Q3\", \"2016Q4\", \"2017Q1\", \"2017Q2\", \"2017Q3\", \"2017Q4\", \"2018Q1\", \"2018Q2\", \"2018Q3\", \"2018Q4\"], \"y\": [989.9996091781125, 1002.8235327148437, 983.0311787923177, 926.1116638183594, 992.3307896664268, 915.3964762369792, 989.5410558527166, 1004.0651785043569, 1054.1991416529606, 1040.3424101329986, 1011.2366358439127, 1000.6240183512369]}, {\"name\": \"21695-267\", \"type\": \"scatter\", \"x\": [\"2016Q1\", \"2016Q2\", \"2016Q3\", \"2016Q4\", \"2017Q1\", \"2017Q2\", \"2017Q3\", \"2017Q4\", \"2018Q1\", \"2018Q2\", \"2018Q3\", \"2018Q4\"], \"y\": [412.8692169189453, 385.02047538757324, 372.3469446355646, 434.4686846051897, 406.18334197998047, 404.37475925021704, 384.5827377319336, 370.6466360653148, 421.7997690836589, 375.7394625345866, 326.71099853515625, 415.3760579427083]}, {\"name\": \"21695-931\", \"type\": \"scatter\", \"x\": [\"2016Q1\", \"2016Q2\", \"2016Q3\", \"2016Q4\", \"2017Q1\", \"2017Q2\", \"2017Q3\", \"2017Q4\", \"2018Q1\", \"2018Q2\", \"2018Q3\", \"2018Q4\"], \"y\": [556.9129916920382, 426.9449818929036, 409.865601675851, 559.1012878417969, 472.922695795695, 507.92999267578125, 541.7946806514965, 478.27941458565846, 438.7846174973708, 581.50531539917, 448.13613008197984, 484.12130694919165]}, {\"name\": \"24286-1562\", \"type\": \"scatter\", \"x\": [\"2016Q1\", \"2016Q2\", \"2016Q3\", \"2016Q4\", \"2017Q1\", \"2017Q2\", \"2017Q3\", \"2017Q4\", \"2018Q1\", \"2018Q2\", \"2018Q3\", \"2018Q4\"], \"y\": [345.43072627140924, 390.7636026235727, 388.9632687038845, 388.18710708618164, 380.62767791748047, 394.73085102282073, 350.70183840664953, 353.1648544311523, 398.5837206159319, 372.2916276114328, 395.1843765258789, 382.5517905099051]}, {\"name\": \"24385-268\", \"type\": \"scatter\", \"x\": [\"2016Q1\", \"2016Q2\", \"2016Q3\", \"2016Q4\", \"2017Q1\", \"2017Q2\", \"2017Q3\", \"2017Q4\", \"2018Q1\", \"2018Q2\", \"2018Q3\", \"2018Q4\"], \"y\": [189.40969031197685, 198.5236576625279, 217.42750040690103, 210.20488052368165, 187.05481719970703, 187.44761875697546, 207.1532183560458, 213.86677593655057, 205.52032901929772, 190.63183638628792, 201.14149128306997, 212.91757724159643]}, {\"name\": \"35356-325\", \"type\": \"scatter\", \"x\": [\"2016Q1\", \"2016Q2\", \"2016Q3\", \"2016Q4\", \"2017Q1\", \"2017Q2\", \"2017Q3\", \"2017Q4\", \"2018Q1\", \"2018Q2\", \"2018Q3\", \"2018Q4\"], \"y\": [462.60370621314416, 446.3538713957134, 585.8857676188151, 540.1774978637695, 593.3155831557053, 557.4475601196289, 615.211820602417, 455.6580326246179, 539.8504521335874, 571.5000417608964, 498.0077254351448, 607.9809710184733]}, {\"name\": \"36800-952\", \"type\": \"scatter\", \"x\": [\"2016Q1\", \"2016Q2\", \"2016Q3\", \"2016Q4\", \"2017Q1\", \"2017Q2\", \"2017Q3\", \"2017Q4\", \"2018Q1\", \"2018Q2\", \"2018Q3\", \"2018Q4\"], \"y\": [263.87441940307616, 256.59156681941107, 277.8121337890625, 256.6974365234375, 248.25408020019532, 253.20791931152343, 236.56000137329102, 247.37915547688803, 256.6814022064209, 252.91294583407316, 243.83986536661783, 264.7191683451335]}, {\"name\": \"36987-1697\", \"type\": \"scatter\", \"x\": [\"2016Q1\", \"2016Q2\", \"2016Q3\", \"2016Q4\", \"2017Q1\", \"2017Q2\", \"2017Q3\", \"2017Q4\", \"2018Q1\", \"2018Q2\", \"2018Q3\", \"2018Q4\"], \"y\": [951.2938606955788, 931.8272999354771, 932.3820877075195, 964.8433363172743, 902.5453932020399, 867.354745718149, 933.790757921007, 881.9901717336554, 1013.2694430881077, 1000.1340134564568, 948.5740203857422, 981.4703840775924]}, {\"name\": \"37205-951\", \"type\": \"scatter\", \"x\": [\"2016Q1\", \"2016Q2\", \"2016Q3\", \"2016Q4\", \"2017Q1\", \"2017Q2\", \"2017Q3\", \"2017Q4\", \"2018Q1\", \"2018Q2\", \"2018Q3\", \"2018Q4\"], \"y\": [209.02131702053933, 219.97995717901932, 217.5839135306222, 192.63249683380127, 236.53080156114368, 240.16459884643555, 242.97910898382014, 230.40333826401655, 230.33000083591628, 231.34557342529297, 237.99257516860962, 219.2191450330946]}, {\"name\": \"37205-992\", \"type\": \"scatter\", \"x\": [\"2016Q1\", \"2016Q2\", \"2016Q3\", \"2016Q4\", \"2017Q1\", \"2017Q2\", \"2017Q3\", \"2017Q4\", \"2018Q1\", \"2018Q2\", \"2018Q3\", \"2018Q4\"], \"y\": [547.2456854145702, 530.4049165899104, 453.6142096268503, 610.8420013427734, 580.5415539211697, 629.905048717152, 525.2554321289062, 479.2975645519438, 564.954981994629, 544.2248878479004, 531.8606478373209, 495.1574737548828]}, {\"name\": \"41163-428\", \"type\": \"scatter\", \"x\": [\"2016Q1\", \"2016Q2\", \"2016Q3\", \"2016Q4\", \"2017Q1\", \"2017Q2\", \"2017Q3\", \"2017Q4\", \"2018Q1\", \"2018Q2\", \"2018Q3\", \"2018Q4\"], \"y\": [126.71705350008878, 124.88101637990852, 127.05502149793837, 132.39666748046875, 130.26183498606963, 130.55759514702692, 128.98925323486327, 130.18790181477866, 124.14096248851104, 129.52696545918783, 129.08909797668457, 129.01768493652344]}, {\"name\": \"41167-0843\", \"type\": \"scatter\", \"x\": [\"2016Q1\", \"2016Q2\", \"2016Q3\", \"2017Q1\", \"2017Q2\", \"2017Q3\", \"2017Q4\", \"2018Q1\", \"2018Q2\", \"2018Q3\", \"2018Q4\"], \"y\": [554.7744842529297, 589.9623707362583, 599.8062438964844, 596.5550003051758, 494.60302298409596, 637.6160685221354, 526.5789998372396, 512.0864628383091, 536.1237525939941, 569.6151275634766, 557.7799942016602]}, {\"name\": \"42254-213\", \"type\": \"scatter\", \"x\": [\"2016Q1\", \"2016Q2\", \"2016Q3\", \"2016Q4\", \"2017Q1\", \"2017Q2\", \"2017Q3\", \"2017Q4\", \"2018Q1\", \"2018Q2\", \"2018Q3\", \"2018Q4\"], \"y\": [220.9858413696289, 221.97562936636118, 218.67436356977984, 232.89999389648438, 227.84084796905518, 214.89760208129883, 228.77005004882812, 213.51845332554407, 218.68360137939453, 218.79595845540365, 206.14538296786222, 219.78879755193537]}, {\"name\": \"43419-018\", \"type\": \"scatter\", \"x\": [\"2016Q1\", \"2016Q2\", \"2016Q3\", \"2016Q4\", \"2017Q1\", \"2017Q2\", \"2017Q3\", \"2017Q4\", \"2018Q1\", \"2018Q2\", \"2018Q3\", \"2018Q4\", \"2019Q2\"], \"y\": [232.63063587861902, 209.5736991882324, 227.69404792785645, 268.0550003051758, 208.30037778966567, 239.78258918313418, 214.04467112223307, 221.90624178372897, 212.74557291666667, 218.7173334757487, 232.76920249245384, 221.72874552408854, 139.55999755859375]}, {\"name\": \"44946-1046\", \"type\": \"scatter\", \"x\": [\"2016Q1\", \"2016Q2\", \"2016Q3\", \"2016Q4\", \"2017Q1\", \"2017Q2\", \"2017Q3\", \"2017Q4\", \"2018Q1\", \"2018Q2\", \"2018Q3\", \"2018Q4\"], \"y\": [417.34239908854164, 420.503659202939, 411.78653208414715, 406.01111178927954, 403.5990517356179, 417.9238510131836, 410.4352274576823, 412.8638258713942, 405.5815200805664, 408.49903615315753, 411.21363740808823, 402.11646894975144]}, {\"name\": \"48951-4042\", \"type\": \"scatter\", \"x\": [\"2016Q1\", \"2016Q2\", \"2016Q3\", \"2016Q4\", \"2017Q1\", \"2017Q2\", \"2017Q3\", \"2017Q4\", \"2018Q1\", \"2018Q2\", \"2018Q3\", \"2018Q4\"], \"y\": [231.71150941115158, 197.69639994303387, 226.71585273742676, 218.97060546875, 227.08609367819395, 214.62997273036413, 226.7654067993164, 195.863203385297, 200.13341639592096, 215.250679397583, 188.07305974545687, 205.4189208984375]}, {\"name\": \"49035-530\", \"type\": \"scatter\", \"x\": [\"2016Q1\", \"2016Q2\", \"2016Q3\", \"2016Q4\", \"2017Q1\", \"2017Q2\", \"2017Q3\", \"2017Q4\", \"2018Q1\", \"2018Q2\", \"2018Q3\", \"2018Q4\"], \"y\": [924.4560241699219, 1023.3677406311035, 862.6766526963976, 1066.7375030517578, 965.8228098551432, 881.4087219238281, 965.5506732647235, 879.302001953125, 966.8836995442708, 951.2869151722301, 953.6062970842634, 1030.999267578125]}, {\"name\": \"49288-0285\", \"type\": \"scatter\", \"x\": [\"2016Q1\", \"2016Q2\", \"2016Q3\", \"2016Q4\", \"2017Q1\", \"2017Q2\", \"2017Q3\", \"2017Q4\", \"2018Q1\", \"2018Q2\", \"2018Q3\", \"2018Q4\", \"2019Q1\"], \"y\": [886.8401184082031, 881.8866912841797, 1241.6671316964287, 1069.3650207519531, 640.3628627232143, 1088.7253757052952, 1017.0434154163707, 927.6456520774148, 901.6357282002767, 837.9571100870768, 844.1816961115056, 953.9939836774554, 1051.0799560546875]}, {\"name\": \"49288-0655\", \"type\": \"scatter\", \"x\": [\"2016Q1\", \"2016Q2\", \"2016Q3\", \"2016Q4\", \"2017Q1\", \"2017Q2\", \"2017Q3\", \"2017Q4\", \"2018Q1\", \"2018Q2\", \"2018Q3\", \"2018Q4\"], \"y\": [237.56365694318498, 220.26704788208008, 207.97285788399833, 149.61000061035156, 315.26552124023436, 181.94750022888184, 206.16668624877929, 194.2253017425537, 192.46500142415366, 206.79850873080167, 204.24484507242838, 204.87915420532227]}, {\"name\": \"49348-574\", \"type\": \"scatter\", \"x\": [\"2016Q1\", \"2016Q2\", \"2016Q3\", \"2016Q4\", \"2017Q1\", \"2017Q2\", \"2017Q3\", \"2017Q4\", \"2018Q1\", \"2018Q2\", \"2018Q3\", \"2018Q4\"], \"y\": [316.7065393784467, 312.7978159586589, 294.70408058166504, 326.8199971516927, 298.13398376464846, 308.59010060628253, 302.1265604654948, 311.0509780080695, 293.52893211728053, 311.6255474090576, 279.22354489281065, 308.4724182128906]}, {\"name\": \"49349-106\", \"type\": \"scatter\", \"x\": [\"2016Q1\", \"2016Q2\", \"2016Q3\", \"2016Q4\", \"2017Q1\", \"2017Q2\", \"2017Q3\", \"2017Q4\", \"2018Q1\", \"2018Q2\", \"2018Q3\", \"2018Q4\"], \"y\": [812.4988661545974, 766.8955612182617, 854.5366938664363, 885.947279188368, 839.5646682739258, 943.3786600748698, 884.7878332519531, 937.2195289248511, 820.484665552775, 905.225714183989, 918.7071321275499, 815.1387532552084]}, {\"name\": \"49349-314\", \"type\": \"scatter\", \"x\": [\"2016Q1\", \"2016Q2\", \"2016Q3\", \"2016Q4\", \"2017Q1\", \"2017Q2\", \"2017Q3\", \"2017Q4\", \"2018Q1\", \"2018Q2\", \"2018Q3\", \"2018Q4\"], \"y\": [497.90402439662387, 500.1484592982701, 483.8252746582031, 509.85999298095703, 492.9268611027644, 494.02146402994794, 490.2124816894531, 501.4757167271205, 495.1933563232422, 497.91544752854566, 494.679179798473, 484.8651008605957]}, {\"name\": \"49349-471\", \"type\": \"scatter\", \"x\": [\"2016Q1\", \"2016Q2\", \"2016Q3\", \"2016Q4\", \"2017Q1\", \"2017Q2\", \"2017Q3\", \"2017Q4\", \"2018Q1\", \"2018Q2\", \"2018Q3\", \"2018Q4\"], \"y\": [859.6249167702415, 891.3357340494791, 867.145185990767, 799.2681121826172, 888.0270128752056, 878.0158935546875, 872.3220178940717, 874.9266572840073, 854.8638854980469, 842.8753286508413, 814.2170061383929, 871.9810180664062]}, {\"name\": \"49349-820\", \"type\": \"scatter\", \"x\": [\"2016Q1\", \"2016Q2\", \"2016Q3\", \"2016Q4\", \"2017Q1\", \"2017Q2\", \"2017Q3\", \"2017Q4\", \"2018Q1\", \"2018Q2\", \"2018Q3\", \"2018Q4\"], \"y\": [523.0001174926758, 508.9654434867527, 575.4199966430664, 536.9940032958984, 573.7984523773193, 610.5034578763522, 464.570180719549, 534.9914306640625, 572.2146626790365, 618.8749643961588, 612.981332567003, 521.6028301532452]}, {\"name\": \"49349-842\", \"type\": \"scatter\", \"x\": [\"2016Q1\", \"2016Q2\", \"2016Q3\", \"2016Q4\", \"2017Q1\", \"2017Q2\", \"2017Q3\", \"2017Q4\", \"2018Q1\", \"2018Q2\", \"2018Q3\", \"2018Q4\"], \"y\": [366.0113343738374, 335.46999800832646, 345.72292556762693, 392.2234252929687, 341.3061505831205, 322.9719433784485, 389.72073554992676, 330.8240915934245, 388.1999997225675, 403.41229756673175, 393.221409517176, 377.8073926653181]}, {\"name\": \"49520-501\", \"type\": \"scatter\", \"x\": [\"2016Q1\", \"2016Q2\", \"2016Q3\", \"2016Q4\", \"2017Q1\", \"2017Q2\", \"2017Q3\", \"2017Q4\", \"2018Q1\", \"2018Q2\", \"2018Q3\", \"2018Q4\"], \"y\": [797.1529316149259, 868.2798512776693, 932.9692993164062, 782.1920043945313, 882.679515009341, 818.6098463270399, 869.2748489379883, 848.0027858189175, 820.3815389779897, 866.1434209914435, 828.3127453613281, 826.4649433336759]}, {\"name\": \"49738-105\", \"type\": \"scatter\", \"x\": [\"2016Q1\", \"2016Q2\", \"2016Q3\", \"2016Q4\", \"2017Q1\", \"2017Q2\", \"2017Q3\", \"2017Q4\", \"2018Q1\", \"2018Q2\", \"2018Q3\", \"2018Q4\"], \"y\": [496.2531807639382, 490.5161868824678, 490.10736287434895, 512.9978688557943, 478.1656856536865, 489.3752899169922, 482.8628336588542, 486.8496810913086, 477.5890935262044, 494.3417136452415, 480.76520453559027, 486.5309143066406]}, {\"name\": \"49967-724\", \"type\": \"scatter\", \"x\": [\"2016Q1\", \"2016Q2\", \"2016Q3\", \"2016Q4\", \"2017Q1\", \"2017Q2\", \"2017Q3\", \"2017Q4\", \"2018Q1\", \"2018Q2\", \"2018Q3\", \"2018Q4\"], \"y\": [522.3931783040365, 508.6411975097656, 536.7416334885818, 545.4610806978666, 509.52422877720426, 550.9551456996372, 550.3616485595703, 547.3542999267578, 541.033151065602, 540.1837219238281, 576.3016784667968, 545.0821978251139]}, {\"name\": \"49999-737\", \"type\": \"scatter\", \"x\": [\"2016Q1\", \"2016Q2\", \"2016Q3\", \"2016Q4\", \"2017Q1\", \"2017Q2\", \"2017Q3\", \"2017Q4\", \"2018Q1\", \"2018Q2\", \"2018Q3\", \"2018Q4\"], \"y\": [883.7416489545037, 872.4502014160156, 876.5179332386364, 859.258349609375, 870.8212471008301, 850.5251187411221, 832.0275268554688, 842.4216349283854, 885.1591186523438, 855.0839233398438, 873.7653281471946, 886.2361916934742]}, {\"name\": \"50458-560\", \"type\": \"scatter\", \"x\": [\"2016Q1\", \"2016Q2\", \"2016Q3\", \"2016Q4\", \"2017Q1\", \"2017Q2\", \"2017Q3\", \"2017Q4\", \"2018Q1\", \"2018Q2\", \"2018Q3\", \"2018Q4\"], \"y\": [907.6609369913737, 655.2943019866943, 788.7114345005581, 692.5578664143881, 1019.3678588867188, 1099.124538845486, 899.7604023326527, 860.9089609781901, 783.5653119768415, 777.139853737571, 866.0069427490234, 932.4090637207031]}, {\"name\": \"50563-113\", \"type\": \"scatter\", \"x\": [\"2016Q1\", \"2016Q2\", \"2016Q3\", \"2016Q4\", \"2017Q1\", \"2017Q2\", \"2017Q3\", \"2017Q4\", \"2018Q1\", \"2018Q2\", \"2018Q3\", \"2018Q4\"], \"y\": [673.2926266318873, 485.5831136703491, 507.87490666707356, 539.8968113490513, 498.0731241861979, 620.801461612477, 562.7664566040039, 637.8973834698016, 594.3315605163574, 627.3779522439708, 603.3374012841118, 685.6134150578425]}, {\"name\": \"51060-032\", \"type\": \"scatter\", \"x\": [\"2016Q1\", \"2016Q2\", \"2016Q3\", \"2016Q4\", \"2017Q1\", \"2017Q2\", \"2017Q3\", \"2017Q4\", \"2018Q1\", \"2018Q2\", \"2018Q3\", \"2018Q4\"], \"y\": [794.657829284668, 738.3138545109675, 721.41796875, 909.5742710658482, 795.1250643048968, 603.8344841003418, 843.0295243696733, 721.2342338562012, 810.2980596368963, 1078.6466674804688, 877.4239463806152, 819.8423274113582]}, {\"name\": \"51079-947\", \"type\": \"scatter\", \"x\": [\"2016Q1\", \"2016Q2\", \"2016Q3\", \"2016Q4\", \"2017Q1\", \"2017Q2\", \"2017Q3\", \"2017Q4\", \"2018Q1\", \"2018Q2\", \"2018Q3\", \"2018Q4\"], \"y\": [635.8814535701977, 649.2577070756392, 650.3121002197265, 650.8688125610352, 627.7725441672585, 652.4090314592634, 658.5369309645432, 655.253428141276, 649.9400520324707, 647.2380605844351, 657.1433621920072, 682.3436050415039]}, {\"name\": \"51138-049\", \"type\": \"scatter\", \"x\": [\"2016Q1\", \"2016Q2\", \"2016Q3\", \"2016Q4\", \"2017Q1\", \"2017Q2\", \"2017Q3\", \"2017Q4\", \"2018Q1\", \"2018Q2\", \"2018Q3\", \"2018Q4\"], \"y\": [929.2065264727619, 1042.2064729578356, 982.8670026991102, 690.1199951171875, 977.8878326416016, 996.4863243103027, 869.4832007998511, 955.4755859375, 988.1260056929154, 913.3106972023293, 1016.905226763557, 965.5069380540115]}, {\"name\": \"51346-126\", \"type\": \"scatter\", \"x\": [\"2016Q1\", \"2016Q2\", \"2016Q3\", \"2016Q4\", \"2017Q1\", \"2017Q2\", \"2017Q3\", \"2017Q4\", \"2018Q1\", \"2018Q2\", \"2018Q3\", \"2018Q4\"], \"y\": [124.82149089466442, 134.84681930541993, 141.27153719388522, 137.17999267578125, 140.6937255859375, 131.0718196522106, 144.02202933175224, 139.72220012119837, 138.33944819523737, 144.59216870759664, 152.2361544095553, 128.5475001335144]}, {\"name\": \"51346-145\", \"type\": \"scatter\", \"x\": [\"2016Q1\", \"2016Q2\", \"2016Q3\", \"2016Q4\", \"2017Q1\", \"2017Q2\", \"2017Q3\", \"2017Q4\", \"2018Q1\", \"2018Q2\", \"2018Q3\", \"2018Q4\"], \"y\": [969.6695575714111, 979.040773664202, 977.2185340294471, 957.3747122628348, 963.5702630905878, 969.4924149946733, 960.4758935546874, 960.6649277630975, 971.0027988978794, 951.4361763000488, 959.6692531419837, 965.3417205810547]}, {\"name\": \"51523-002\", \"type\": \"scatter\", \"x\": [\"2016Q1\", \"2016Q2\", \"2016Q3\", \"2016Q4\", \"2017Q1\", \"2017Q2\", \"2017Q3\", \"2017Q4\", \"2018Q1\", \"2018Q2\", \"2018Q3\", \"2018Q4\"], \"y\": [890.4201938795006, 960.3863573576275, 879.0755530463325, 960.3057657877604, 971.739013671875, 842.0678903680099, 918.9652835621554, 972.8267261135962, 826.1890577588763, 962.2204165251359, 952.5028466796875, 892.9190012613932]}, {\"name\": \"51531-9500\", \"type\": \"scatter\", \"x\": [\"2016Q1\", \"2016Q2\", \"2016Q3\", \"2016Q4\", \"2017Q1\", \"2017Q2\", \"2017Q3\", \"2017Q4\", \"2018Q1\", \"2018Q2\", \"2018Q3\", \"2018Q4\"], \"y\": [951.6856079101562, 969.9302327473958, 977.5825398763021, 968.5935872395834, 992.9181365966797, 967.8685845269097, 967.0722249348959, 935.0505482066761, 998.7807224818638, 948.62099609375, 976.0724792480469, 1013.3964011452415]}, {\"name\": \"52125-136\", \"type\": \"scatter\", \"x\": [\"2016Q1\", \"2016Q2\", \"2016Q3\", \"2016Q4\", \"2017Q1\", \"2017Q2\", \"2017Q3\", \"2017Q4\", \"2018Q1\", \"2018Q2\", \"2018Q3\", \"2018Q4\"], \"y\": [508.48153762817384, 524.2696966552735, 579.1000493367513, 589.7565409342448, 522.7792892456055, 551.3499353027344, 516.3331536187065, 581.0235725685402, 581.3730482018512, 538.8777793601707, 529.3350974635074, 631.2413482666016]}, {\"name\": \"52125-444\", \"type\": \"scatter\", \"x\": [\"2016Q1\", \"2016Q2\", \"2016Q3\", \"2016Q4\", \"2017Q1\", \"2017Q2\", \"2017Q3\", \"2017Q4\", \"2018Q1\", \"2018Q2\", \"2018Q3\", \"2018Q4\"], \"y\": [279.87120194868606, 281.75311889648435, 288.82716064453126, 271.4626007080078, 279.6185408882473, 280.5429331461589, 280.23917061941967, 278.1415710449219, 282.05933430989586, 278.85051682416133, 278.5062455397386, 279.1966939290365]}, {\"name\": \"52343-025\", \"type\": \"scatter\", \"x\": [\"2016Q1\", \"2016Q2\", \"2016Q3\", \"2016Q4\", \"2017Q1\", \"2017Q2\", \"2017Q3\", \"2017Q4\", \"2018Q1\", \"2018Q2\", \"2018Q3\", \"2018Q4\"], \"y\": [850.8914672851563, 834.1744733537946, 794.8940694173177, 879.8799845377604, 815.6175262451172, 754.2084574381511, 784.0084248860677, 775.3616870698474, 812.7599779211956, 867.6113570363898, 821.7700268554687, 832.6541188557943]}, {\"name\": \"52380-1102\", \"type\": \"scatter\", \"x\": [\"2016Q1\", \"2016Q2\", \"2016Q3\", \"2016Q4\", \"2017Q1\", \"2017Q2\", \"2017Q3\", \"2017Q4\", \"2018Q1\", \"2018Q2\", \"2018Q3\", \"2018Q4\"], \"y\": [507.54181446748623, 479.47436777750653, 316.11059951782227, 435.06380399068195, 610.1710815429688, 542.6969324747721, 433.5846242904663, 535.126354598999, 475.4991495768229, 510.1514371984145, 607.0774688720703, 478.06154918670654]}, {\"name\": \"52959-433\", \"type\": \"scatter\", \"x\": [\"2016Q1\", \"2016Q2\", \"2016Q3\", \"2016Q4\", \"2017Q1\", \"2017Q2\", \"2017Q3\", \"2017Q4\", \"2018Q1\", \"2018Q2\", \"2018Q3\", \"2018Q4\"], \"y\": [331.2081111027644, 331.78419428286344, 336.13550522748164, 332.68743896484375, 335.69106038411456, 338.1351513671875, 333.3214867001488, 326.5225350516183, 338.59466552734375, 335.4646558259663, 332.6796441329153, 333.4681785846579]}, {\"name\": \"54092-515\", \"type\": \"scatter\", \"x\": [\"2016Q1\", \"2016Q2\", \"2016Q3\", \"2016Q4\", \"2017Q1\", \"2017Q2\", \"2017Q3\", \"2017Q4\", \"2018Q1\", \"2018Q2\", \"2018Q3\", \"2018Q4\"], \"y\": [770.9888763427734, 774.9592651367187, 764.9336591448102, 739.2703683035714, 764.4029284025494, 769.89853515625, 763.1251723345588, 774.1347784745066, 772.0722495631168, 767.6860419379341, 775.6442667643229, 769.2920761108398]}, {\"name\": \"54123-957\", \"type\": \"scatter\", \"x\": [\"2016Q1\", \"2016Q2\", \"2016Q3\", \"2016Q4\", \"2017Q1\", \"2017Q2\", \"2017Q3\", \"2017Q4\", \"2018Q1\", \"2018Q2\", \"2018Q3\", \"2018Q4\"], \"y\": [168.78416792551675, 178.81719970703125, 158.01416746775308, 160.2497990926107, 148.02833302815756, 161.5999994277954, 160.36499977111816, 190.78685490574156, 146.34555435180664, 159.93996986976038, 134.97342927115304, 207.9234504699707]}, {\"name\": \"54473-578\", \"type\": \"scatter\", \"x\": [\"2016Q1\", \"2016Q2\", \"2016Q3\", \"2016Q4\", \"2017Q1\", \"2017Q2\", \"2017Q3\", \"2017Q4\", \"2018Q1\", \"2018Q2\", \"2018Q3\", \"2018Q4\"], \"y\": [187.58385998269787, 183.6700008616728, 175.6194786658654, 172.51055145263672, 195.26444498697916, 157.20232035319012, 167.187315259661, 192.36900177001954, 176.21855280949518, 168.605917278089, 159.84450101852417, 164.0188013712565]}, {\"name\": \"54868-0823\", \"type\": \"scatter\", \"x\": [\"2016Q1\", \"2016Q2\", \"2016Q3\", \"2016Q4\", \"2017Q1\", \"2017Q2\", \"2017Q3\", \"2017Q4\", \"2018Q1\", \"2018Q2\", \"2018Q3\", \"2018Q4\"], \"y\": [148.86773390997024, 153.7603779842979, 157.0118672688802, 135.48686726888022, 165.7995232802171, 158.48352142333985, 154.74900124289772, 152.79046694437662, 161.18899448939732, 161.01530942049894, 150.0846003656802, 168.32485562279112]}, {\"name\": \"54868-5165\", \"type\": \"scatter\", \"x\": [\"2016Q1\", \"2016Q2\", \"2016Q3\", \"2016Q4\", \"2017Q1\", \"2017Q2\", \"2017Q3\", \"2017Q4\", \"2018Q1\", \"2018Q2\", \"2018Q3\", \"2018Q4\"], \"y\": [962.8177829318577, 846.2139064243862, 991.7251408894857, 1118.3299763997395, 782.6306440565321, 716.1632022857666, 863.0050849914551, 675.7721737948331, 699.1802988688152, 866.42138671875, 787.3244779586792, 967.9195760091146]}, {\"name\": \"54868-6311\", \"type\": \"scatter\", \"x\": [\"2016Q1\", \"2016Q2\", \"2016Q3\", \"2016Q4\", \"2017Q1\", \"2017Q2\", \"2017Q3\", \"2017Q4\", \"2018Q1\", \"2018Q2\", \"2018Q3\", \"2018Q4\"], \"y\": [371.9414324079241, 492.10809898376465, 464.3000318739149, 623.67333984375, 450.36488189697263, 376.1040445963542, 467.02178250826324, 486.9800453186035, 440.92750431941107, 465.89558762770434, 432.33157976935894, 412.52301045467976]}, {\"name\": \"54973-9150\", \"type\": \"scatter\", \"x\": [\"2016Q1\", \"2016Q2\", \"2016Q3\", \"2016Q4\", \"2017Q1\", \"2017Q2\", \"2017Q3\", \"2017Q4\", \"2018Q1\", \"2018Q2\", \"2018Q3\", \"2018Q4\"], \"y\": [859.3356378728694, 935.4979341947115, 918.9869283040365, 917.5313110351562, 905.434639485677, 819.3271993001302, 929.5359242757162, 926.0386250813802, 942.6129479041466, 922.1491088867188, 924.7780812581381, 907.6068954467773]}, {\"name\": \"55154-5057\", \"type\": \"scatter\", \"x\": [\"2016Q1\", \"2016Q2\", \"2016Q3\", \"2016Q4\", \"2017Q1\", \"2017Q2\", \"2017Q3\", \"2017Q4\", \"2018Q1\", \"2018Q2\", \"2018Q3\", \"2018Q4\"], \"y\": [651.2548767725626, 646.2127731986668, 1026.990471733941, 809.4219631618923, 723.3902718680246, 755.3898636667352, 654.8184643851387, 952.2218627929688, 880.3667085820979, 759.0971422106028, 1076.003303527832, 770.4556418026195]}, {\"name\": \"55289-164\", \"type\": \"scatter\", \"x\": [\"2016Q1\", \"2016Q2\", \"2016Q3\", \"2016Q4\", \"2017Q1\", \"2017Q2\", \"2017Q3\", \"2017Q4\", \"2018Q1\", \"2018Q2\", \"2018Q3\", \"2018Q4\"], \"y\": [414.53941614487593, 406.9349869948167, 339.8577513694763, 490.6274871826172, 424.50482584635415, 502.04369354248047, 444.92545025165265, 381.5679992675781, 441.09041595458984, 402.7572843763563, 369.07994689941404, 361.19391196114674]}, {\"name\": \"55566-2100\", \"type\": \"scatter\", \"x\": [\"2016Q1\", \"2016Q2\", \"2016Q3\", \"2016Q4\", \"2017Q1\", \"2017Q2\", \"2017Q3\", \"2017Q4\", \"2018Q1\", \"2018Q2\", \"2018Q3\", \"2018Q4\"], \"y\": [637.5022152987393, 634.7283229827881, 584.6229989188058, 565.1159896850586, 508.9503692626953, 623.3861836751302, 629.7797673543295, 624.1122149299173, 690.5777608235677, 531.431637103741, 678.5100735751065, 606.0561805138221]}, {\"name\": \"55700-014\", \"type\": \"scatter\", \"x\": [\"2016Q1\", \"2016Q2\", \"2016Q3\", \"2016Q4\", \"2017Q1\", \"2017Q2\", \"2017Q3\", \"2017Q4\", \"2018Q1\", \"2018Q2\", \"2018Q3\", \"2018Q4\"], \"y\": [657.9044213867187, 655.4047241210938, 669.479638671875, 638.9249979654948, 667.4271334134615, 651.4163167317708, 655.8940734863281, 643.6238977768842, 668.1854705810547, 652.0163196382068, 661.9857940673828, 663.4661675814924]}, {\"name\": \"55856-0003\", \"type\": \"scatter\", \"x\": [\"2016Q1\", \"2016Q2\", \"2016Q3\", \"2016Q4\", \"2017Q1\", \"2017Q2\", \"2017Q3\", \"2017Q4\", \"2018Q1\", \"2018Q2\", \"2018Q3\", \"2018Q4\"], \"y\": [407.72730908027063, 460.7181044868801, 419.7649259567261, 301.6038496494293, 586.435866355896, 532.5605181739444, 458.99055519104, 537.1035833358765, 424.8129549026489, 483.87559861403247, 430.3344548543294, 506.8004961013794]}, {\"name\": \"58118-5060\", \"type\": \"scatter\", \"x\": [\"2016Q1\", \"2016Q2\", \"2016Q3\", \"2016Q4\", \"2017Q1\", \"2017Q2\", \"2017Q3\", \"2017Q4\", \"2018Q1\", \"2018Q2\", \"2018Q3\", \"2018Q4\"], \"y\": [220.6189675166689, 227.17091126875445, 207.52276582303256, 329.7566731770833, 217.9398482750202, 215.49691009521484, 246.72395530113806, 182.13258925728175, 171.84175792107214, 227.65860137939453, 206.96996323958686, 226.67168070475262]}, {\"name\": \"58596-001\", \"type\": \"scatter\", \"x\": [\"2016Q1\", \"2016Q2\", \"2016Q3\", \"2016Q4\", \"2017Q1\", \"2017Q2\", \"2017Q3\", \"2017Q4\", \"2018Q1\", \"2018Q2\", \"2018Q3\", \"2018Q4\"], \"y\": [468.9876403808594, 460.800057547433, 470.4628601074219, 457.9791971842448, 458.8717498779297, 468.3087615966797, 461.3898396809896, 465.6779109409877, 458.78428867885043, 468.6187313304228, 468.5732250213623, 448.6949724469866]}, {\"name\": \"58668-4281\", \"type\": \"scatter\", \"x\": [\"2016Q1\", \"2016Q2\", \"2016Q3\", \"2016Q4\", \"2017Q1\", \"2017Q2\", \"2017Q3\", \"2017Q4\", \"2018Q1\", \"2018Q2\", \"2018Q3\", \"2018Q4\"], \"y\": [906.3408485412598, 815.5983371734619, 1074.5198974609375, 874.4328028361002, 1091.6597843170166, 1033.4684306553431, 994.4411719185965, 701.8565107073102, 840.7535705566406, 867.6070987477023, 935.8501011241566, 1036.4213209152222]}, {\"name\": \"59779-028\", \"type\": \"scatter\", \"x\": [\"2016Q1\", \"2016Q2\", \"2016Q3\", \"2016Q4\", \"2017Q1\", \"2017Q2\", \"2017Q3\", \"2017Q4\", \"2018Q1\", \"2018Q2\", \"2018Q3\", \"2018Q4\"], \"y\": [887.5656799316406, 765.7889984130859, 624.3506644112723, 854.4400024414062, 869.0718383789062, 762.8995666503906, 672.0472634055398, 746.6485682896206, 549.5700073242188, 675.4952725497159, 843.9683329264323, 944.1766688028971]}, {\"name\": \"59779-601\", \"type\": \"scatter\", \"x\": [\"2016Q1\", \"2016Q2\", \"2016Q3\", \"2016Q4\", \"2017Q1\", \"2017Q2\", \"2017Q3\", \"2017Q4\", \"2018Q1\", \"2018Q2\", \"2018Q3\", \"2018Q4\"], \"y\": [178.39617919921875, 143.24076989980844, 197.0834197998047, 208.49249839782715, 170.2204990386963, 194.14319801330566, 156.07400093078613, 171.99373541937933, 164.16379992167154, 174.78208432878768, 182.63300132751465, 138.0469767252604]}, {\"name\": \"60505-2867\", \"type\": \"scatter\", \"x\": [\"2016Q1\", \"2016Q2\", \"2016Q3\", \"2016Q4\", \"2017Q1\", \"2017Q2\", \"2017Q3\", \"2017Q4\", \"2018Q1\", \"2018Q2\", \"2018Q3\", \"2018Q4\"], \"y\": [203.08155862908615, 180.81353679456208, 162.53468322753906, 148.59500122070312, 190.24816182454427, 176.832726912065, 193.07805768181296, 176.128398548473, 180.56516774495444, 183.66677379608154, 191.51155598958334, 190.5803695678711]}, {\"name\": \"61398-0828\", \"type\": \"scatter\", \"x\": [\"2016Q1\", \"2016Q2\", \"2016Q3\", \"2016Q4\", \"2017Q1\", \"2017Q2\", \"2017Q3\", \"2017Q4\", \"2018Q1\", \"2018Q2\", \"2018Q3\", \"2018Q4\"], \"y\": [383.0150014703924, 347.83989160711116, 441.86559295654297, 353.6800003051758, 403.9412307739258, 424.52500406901044, 340.70287831624347, 351.14275418795074, 340.35039774576825, 348.8719472249349, 379.43048095703125, 349.5713358561198]}, {\"name\": \"62011-0219\", \"type\": \"scatter\", \"x\": [\"2016Q1\", \"2016Q2\", \"2016Q3\", \"2016Q4\", \"2017Q1\", \"2017Q2\", \"2017Q3\", \"2017Q4\", \"2018Q1\", \"2018Q2\", \"2018Q3\", \"2018Q4\"], \"y\": [841.5630315965221, 819.5404211956521, 817.7031902444774, 783.5003487723214, 829.0064733168658, 821.988187902114, 805.2305077446831, 832.4688206722861, 805.868634905134, 796.2388626901727, 839.9667863516972, 848.1483535766602]}, {\"name\": \"62670-4404\", \"type\": \"scatter\", \"x\": [\"2016Q1\", \"2016Q2\", \"2016Q3\", \"2016Q4\", \"2017Q1\", \"2017Q2\", \"2017Q3\", \"2017Q4\", \"2018Q1\", \"2018Q2\", \"2018Q3\", \"2018Q4\"], \"y\": [421.00693562825523, 465.5442199707031, 367.778443230523, 436.67499923706055, 380.7930023193359, 241.31000518798828, 467.68965584891185, 311.7528599330357, 427.06194661458335, 429.0390006303787, 432.9905090332031, 464.06960423787433]}, {\"name\": \"62742-4030\", \"type\": \"scatter\", \"x\": [\"2016Q1\", \"2016Q2\", \"2016Q3\", \"2016Q4\", \"2017Q1\", \"2017Q2\", \"2017Q3\", \"2017Q4\", \"2018Q1\", \"2018Q2\", \"2018Q3\", \"2018Q4\"], \"y\": [534.835274251302, 530.4434901646206, 522.2337493896484, 559.4000040690104, 531.2839965820312, 539.6580429077148, 529.2437438964844, 532.2489318847656, 544.7833251953125, 523.9493103027344, 521.8584442138672, 529.0227996826172]}, {\"name\": \"62756-707\", \"type\": \"scatter\", \"x\": [\"2016Q1\", \"2016Q2\", \"2016Q3\", \"2016Q4\", \"2017Q1\", \"2017Q2\", \"2017Q3\", \"2017Q4\", \"2018Q1\", \"2018Q2\", \"2018Q3\", \"2018Q4\"], \"y\": [247.53926262488733, 308.2387228012085, 347.4760971069336, 311.36546325683594, 291.96714673723494, 312.7977100719105, 363.13079833984375, 312.18637924194337, 349.0652291434152, 277.51726659138996, 287.68264503479, 288.9837499856949]}, {\"name\": \"63629-2733\", \"type\": \"scatter\", \"x\": [\"2016Q1\", \"2016Q2\", \"2016Q3\", \"2016Q4\", \"2017Q1\", \"2017Q2\", \"2017Q3\", \"2017Q4\", \"2018Q1\", \"2018Q2\", \"2018Q3\", \"2018Q4\"], \"y\": [225.1417791193182, 207.91422816685267, 197.07889048258463, 194.93671875, 209.73468017578125, 162.33783874511718, 203.32115851508246, 203.38750076293945, 194.87992789528587, 208.8258274623326, 195.63568115234375, 203.59231567382812]}, {\"name\": \"65044-3014\", \"type\": \"scatter\", \"x\": [\"2016Q1\", \"2016Q2\", \"2016Q3\", \"2016Q4\", \"2017Q1\", \"2017Q2\", \"2017Q3\", \"2017Q4\", \"2018Q1\", \"2018Q2\", \"2018Q3\", \"2018Q4\"], \"y\": [815.5333364981192, 758.1079462224787, 795.2379964192709, 792.6776504516602, 776.9247581845239, 761.2094306945801, 795.9112548828125, 788.8088541666667, 822.2799987792969, 805.2880374684054, 842.4395395914713, 795.8455132378472]}, {\"name\": \"67046-030\", \"type\": \"scatter\", \"x\": [\"2016Q1\", \"2016Q2\", \"2016Q3\", \"2016Q4\", \"2017Q1\", \"2017Q2\", \"2017Q3\", \"2017Q4\", \"2018Q1\", \"2018Q2\", \"2018Q3\", \"2018Q4\"], \"y\": [155.47227235273883, 153.6378527189556, 154.4501713344029, 149.55680084228516, 147.0947109222412, 156.81045750209265, 163.36687927246095, 151.92664436672044, 159.11003667658025, 152.88172578811646, 146.86341014661286, 158.14977297575578]}, {\"name\": \"67544-356\", \"type\": \"scatter\", \"x\": [\"2016Q1\", \"2016Q2\", \"2016Q3\", \"2016Q4\", \"2017Q1\", \"2017Q2\", \"2017Q3\", \"2017Q4\", \"2018Q1\", \"2018Q2\", \"2018Q3\", \"2018Q4\"], \"y\": [650.764752556296, 656.5512880597796, 748.9233055114746, 890.4850158691406, 716.8453857421875, 648.045932006836, 679.7269679478237, 609.1969940185547, 637.9141191755023, 674.1392963115985, 724.9836314808239, 625.8685272216796]}, {\"name\": \"68084-172\", \"type\": \"scatter\", \"x\": [\"2016Q1\", \"2016Q2\", \"2016Q3\", \"2016Q4\", \"2017Q1\", \"2017Q2\", \"2017Q3\", \"2017Q4\", \"2018Q1\", \"2018Q2\", \"2018Q3\", \"2018Q4\"], \"y\": [506.9182005988227, 487.70211113823785, 587.0407126290457, 611.8443123953683, 566.0357153320313, 503.60159660788145, 540.9998727416992, 483.34065315940165, 496.0113983154297, 540.6832452071341, 457.5521647135417, 412.1323071993314]}, {\"name\": \"68084-595\", \"type\": \"scatter\", \"x\": [\"2016Q1\", \"2016Q2\", \"2016Q3\", \"2016Q4\", \"2017Q1\", \"2017Q2\", \"2017Q3\", \"2017Q4\", \"2018Q1\", \"2018Q2\", \"2018Q3\", \"2018Q4\"], \"y\": [193.25583457946777, 232.5990558971058, 221.4807645357572, 210.0494384765625, 220.2540537516276, 217.07092989408054, 222.04903211091695, 211.2122795798562, 217.51783243815103, 213.23764377170139, 228.0000015258789, 199.24259222121466]}, {\"name\": \"68180-121\", \"type\": \"scatter\", \"x\": [\"2016Q1\", \"2016Q2\", \"2016Q3\", \"2016Q4\", \"2017Q1\", \"2017Q2\", \"2017Q3\", \"2017Q4\", \"2018Q1\", \"2018Q2\", \"2018Q3\", \"2018Q4\"], \"y\": [950.6596743935033, 904.8906784057617, 828.4323338099888, 656.0170288085938, 956.3090565999349, 908.9565551757812, 970.8006536310369, 996.9585745675223, 667.7459954155815, 819.0734901428223, 870.2207463582357, 877.0802164713542]}, {\"name\": \"68233-011\", \"type\": \"scatter\", \"x\": [\"2016Q1\", \"2016Q2\", \"2016Q3\", \"2016Q4\", \"2017Q1\", \"2017Q2\", \"2017Q3\", \"2017Q4\", \"2018Q1\", \"2018Q2\", \"2018Q3\", \"2018Q4\"], \"y\": [570.3142422762784, 535.5722300211588, 584.7669166116153, 625.2414289202009, 555.9316792805989, 564.5893685477121, 557.1281594669117, 578.9953536987305, 593.7472389622739, 601.3143182051809, 587.122454474954, 547.9465701454565]}, {\"name\": \"68462-565\", \"type\": \"scatter\", \"x\": [\"2016Q1\", \"2016Q2\", \"2016Q3\", \"2016Q4\", \"2017Q1\", \"2017Q2\", \"2017Q3\", \"2017Q4\", \"2018Q1\", \"2018Q2\", \"2018Q3\", \"2018Q4\"], \"y\": [939.761552734375, 916.8400336371528, 971.8715026855468, 999.6370422363282, 870.0709917622228, 853.5356521606445, 835.9760165744358, 870.1492712402344, 896.852312360491, 859.3146362304688, 855.0060857137045, 961.0785369873047]}, {\"name\": \"68752-024\", \"type\": \"scatter\", \"x\": [\"2016Q1\", \"2016Q2\", \"2016Q3\", \"2016Q4\", \"2017Q1\", \"2017Q2\", \"2017Q3\", \"2017Q4\", \"2018Q1\", \"2018Q2\", \"2018Q3\", \"2018Q4\"], \"y\": [825.1306656547215, 866.3285494717685, 839.0078957297585, 824.9571228027344, 857.4132080078125, 852.169677734375, 830.2597142269736, 825.1787190755208, 819.3365885416666, 837.6259087456597, 838.2395740855824, 840.83251953125]}, {\"name\": \"70253-307\", \"type\": \"scatter\", \"x\": [\"2016Q1\", \"2016Q2\", \"2016Q3\", \"2016Q4\", \"2017Q1\", \"2017Q2\", \"2017Q3\", \"2017Q4\", \"2018Q1\", \"2018Q2\", \"2018Q3\", \"2018Q4\"], \"y\": [909.3394582648026, 923.4610252380371, 913.1164001464844, 912.5026092529297, 901.0935974121094, 871.180464895148, 906.864247639974, 902.7644483778212, 877.7043287489149, 913.2712249755859, 877.3742453835227, 915.8365060906661]}, {\"name\": \"76117-001\", \"type\": \"scatter\", \"x\": [\"2016Q1\", \"2016Q2\", \"2016Q3\", \"2016Q4\", \"2017Q1\", \"2017Q2\", \"2017Q3\", \"2017Q4\", \"2018Q1\", \"2018Q2\", \"2018Q3\", \"2018Q4\"], \"y\": [974.0708211263021, 971.1700642903646, 1008.7703094482422, 1009.308339436849, 1024.9646131727432, 1013.1969350179037, 1032.0988325639205, 875.1777787642045, 877.7915704900569, 1012.0734558105469, 909.8907012939453, 972.2343872070312]}, {\"name\": \"76314-002\", \"type\": \"scatter\", \"x\": [\"2016Q1\", \"2016Q2\", \"2016Q3\", \"2016Q4\", \"2017Q1\", \"2017Q2\", \"2017Q3\", \"2017Q4\", \"2018Q1\", \"2018Q2\", \"2018Q3\", \"2018Q4\"], \"y\": [448.12957763671875, 444.40440105569775, 435.35999843052457, 434.53159790039064, 440.45138210720484, 439.8795509338379, 445.9663798014323, 451.8743403508113, 431.0516662597656, 443.45294189453125, 442.92000233043325, 441.83199920654295]}, {\"name\": \"76335-006\", \"type\": \"scatter\", \"x\": [\"2016Q1\", \"2016Q2\", \"2016Q3\", \"2016Q4\", \"2017Q1\", \"2017Q2\", \"2017Q3\", \"2017Q4\", \"2018Q1\", \"2018Q2\", \"2018Q3\", \"2018Q4\"], \"y\": [357.55539957682294, 364.0978658040365, 378.1111297607422, 350.36951904296876, 371.38206481933594, 334.086664835612, 374.07555135091144, 365.269677734375, 389.35, 349.44520451472357, 372.86941805752843, 401.2917938232422]}, {\"name\": \"76454-100\", \"type\": \"scatter\", \"x\": [\"2016Q1\", \"2016Q2\", \"2016Q3\", \"2016Q4\", \"2017Q1\", \"2017Q2\", \"2017Q3\", \"2017Q4\", \"2018Q1\", \"2018Q2\", \"2018Q3\", \"2018Q4\"], \"y\": [126.3944001197815, 121.01323083730844, 129.145000631159, 128.17687225341797, 131.70002110799155, 124.65759822300502, 136.22100105285645, 127.73475687127365, 126.80043060302734, 125.73128051757813, 128.25013415018717, 122.63968048095703]}, {\"name\": \"98132-889\", \"type\": \"scatter\", \"x\": [\"2016Q1\", \"2016Q2\", \"2016Q3\", \"2016Q4\", \"2017Q1\", \"2017Q2\", \"2017Q3\", \"2017Q4\", \"2018Q1\", \"2018Q2\", \"2018Q3\", \"2018Q4\"], \"y\": [228.68805658249627, 212.5804944719587, 227.07550048828125, 229.26963806152344, 224.67352653952207, 231.09589667069284, 222.3972736705433, 209.1465800892223, 207.92950134277345, 225.49066755506726, 226.25035603841147, 207.48751983642578]}],\n",
       "                        {\"template\": {\"data\": {\"bar\": [{\"error_x\": {\"color\": \"#2a3f5f\"}, \"error_y\": {\"color\": \"#2a3f5f\"}, \"marker\": {\"line\": {\"color\": \"#E5ECF6\", \"width\": 0.5}}, \"type\": \"bar\"}], \"barpolar\": [{\"marker\": {\"line\": {\"color\": \"#E5ECF6\", \"width\": 0.5}}, \"type\": \"barpolar\"}], \"carpet\": [{\"aaxis\": {\"endlinecolor\": \"#2a3f5f\", \"gridcolor\": \"white\", \"linecolor\": \"white\", \"minorgridcolor\": \"white\", \"startlinecolor\": \"#2a3f5f\"}, \"baxis\": {\"endlinecolor\": \"#2a3f5f\", \"gridcolor\": \"white\", \"linecolor\": \"white\", \"minorgridcolor\": \"white\", \"startlinecolor\": \"#2a3f5f\"}, \"type\": \"carpet\"}], \"choropleth\": [{\"colorbar\": {\"outlinewidth\": 0, \"ticks\": \"\"}, \"type\": \"choropleth\"}], \"contour\": [{\"colorbar\": {\"outlinewidth\": 0, \"ticks\": \"\"}, \"colorscale\": [[0.0, \"#0d0887\"], [0.1111111111111111, \"#46039f\"], [0.2222222222222222, \"#7201a8\"], [0.3333333333333333, \"#9c179e\"], [0.4444444444444444, \"#bd3786\"], [0.5555555555555556, \"#d8576b\"], [0.6666666666666666, \"#ed7953\"], [0.7777777777777778, \"#fb9f3a\"], [0.8888888888888888, \"#fdca26\"], [1.0, \"#f0f921\"]], \"type\": \"contour\"}], \"contourcarpet\": [{\"colorbar\": {\"outlinewidth\": 0, \"ticks\": \"\"}, \"type\": \"contourcarpet\"}], \"heatmap\": [{\"colorbar\": {\"outlinewidth\": 0, \"ticks\": \"\"}, \"colorscale\": [[0.0, \"#0d0887\"], [0.1111111111111111, \"#46039f\"], [0.2222222222222222, \"#7201a8\"], [0.3333333333333333, \"#9c179e\"], [0.4444444444444444, \"#bd3786\"], [0.5555555555555556, \"#d8576b\"], [0.6666666666666666, \"#ed7953\"], [0.7777777777777778, \"#fb9f3a\"], [0.8888888888888888, \"#fdca26\"], [1.0, \"#f0f921\"]], \"type\": \"heatmap\"}], \"heatmapgl\": [{\"colorbar\": {\"outlinewidth\": 0, \"ticks\": \"\"}, \"colorscale\": [[0.0, \"#0d0887\"], [0.1111111111111111, \"#46039f\"], [0.2222222222222222, \"#7201a8\"], [0.3333333333333333, \"#9c179e\"], [0.4444444444444444, \"#bd3786\"], [0.5555555555555556, \"#d8576b\"], [0.6666666666666666, \"#ed7953\"], [0.7777777777777778, \"#fb9f3a\"], [0.8888888888888888, \"#fdca26\"], [1.0, \"#f0f921\"]], \"type\": \"heatmapgl\"}], \"histogram\": [{\"marker\": {\"colorbar\": {\"outlinewidth\": 0, \"ticks\": \"\"}}, \"type\": \"histogram\"}], \"histogram2d\": [{\"colorbar\": {\"outlinewidth\": 0, \"ticks\": \"\"}, \"colorscale\": [[0.0, \"#0d0887\"], [0.1111111111111111, \"#46039f\"], [0.2222222222222222, \"#7201a8\"], [0.3333333333333333, \"#9c179e\"], [0.4444444444444444, \"#bd3786\"], [0.5555555555555556, \"#d8576b\"], [0.6666666666666666, \"#ed7953\"], [0.7777777777777778, \"#fb9f3a\"], [0.8888888888888888, \"#fdca26\"], [1.0, \"#f0f921\"]], \"type\": \"histogram2d\"}], \"histogram2dcontour\": [{\"colorbar\": {\"outlinewidth\": 0, \"ticks\": \"\"}, \"colorscale\": [[0.0, \"#0d0887\"], [0.1111111111111111, \"#46039f\"], [0.2222222222222222, \"#7201a8\"], [0.3333333333333333, \"#9c179e\"], [0.4444444444444444, \"#bd3786\"], [0.5555555555555556, \"#d8576b\"], [0.6666666666666666, \"#ed7953\"], [0.7777777777777778, \"#fb9f3a\"], [0.8888888888888888, \"#fdca26\"], [1.0, \"#f0f921\"]], \"type\": \"histogram2dcontour\"}], \"mesh3d\": [{\"colorbar\": {\"outlinewidth\": 0, \"ticks\": \"\"}, \"type\": \"mesh3d\"}], \"parcoords\": [{\"line\": {\"colorbar\": {\"outlinewidth\": 0, \"ticks\": \"\"}}, \"type\": \"parcoords\"}], \"pie\": [{\"automargin\": true, \"type\": \"pie\"}], \"scatter\": [{\"marker\": {\"colorbar\": {\"outlinewidth\": 0, \"ticks\": \"\"}}, \"type\": \"scatter\"}], \"scatter3d\": [{\"line\": {\"colorbar\": {\"outlinewidth\": 0, \"ticks\": \"\"}}, \"marker\": {\"colorbar\": {\"outlinewidth\": 0, \"ticks\": \"\"}}, \"type\": \"scatter3d\"}], \"scattercarpet\": [{\"marker\": {\"colorbar\": {\"outlinewidth\": 0, \"ticks\": \"\"}}, \"type\": \"scattercarpet\"}], \"scattergeo\": [{\"marker\": {\"colorbar\": {\"outlinewidth\": 0, \"ticks\": \"\"}}, \"type\": \"scattergeo\"}], \"scattergl\": [{\"marker\": {\"colorbar\": {\"outlinewidth\": 0, \"ticks\": \"\"}}, \"type\": \"scattergl\"}], \"scattermapbox\": [{\"marker\": {\"colorbar\": {\"outlinewidth\": 0, \"ticks\": \"\"}}, \"type\": \"scattermapbox\"}], \"scatterpolar\": [{\"marker\": {\"colorbar\": {\"outlinewidth\": 0, \"ticks\": \"\"}}, \"type\": \"scatterpolar\"}], \"scatterpolargl\": [{\"marker\": {\"colorbar\": {\"outlinewidth\": 0, \"ticks\": \"\"}}, \"type\": \"scatterpolargl\"}], \"scatterternary\": [{\"marker\": {\"colorbar\": {\"outlinewidth\": 0, \"ticks\": \"\"}}, \"type\": \"scatterternary\"}], \"surface\": [{\"colorbar\": {\"outlinewidth\": 0, \"ticks\": \"\"}, \"colorscale\": [[0.0, \"#0d0887\"], [0.1111111111111111, \"#46039f\"], [0.2222222222222222, \"#7201a8\"], [0.3333333333333333, \"#9c179e\"], [0.4444444444444444, \"#bd3786\"], [0.5555555555555556, \"#d8576b\"], [0.6666666666666666, \"#ed7953\"], [0.7777777777777778, \"#fb9f3a\"], [0.8888888888888888, \"#fdca26\"], [1.0, \"#f0f921\"]], \"type\": \"surface\"}], \"table\": [{\"cells\": {\"fill\": {\"color\": \"#EBF0F8\"}, \"line\": {\"color\": \"white\"}}, \"header\": {\"fill\": {\"color\": \"#C8D4E3\"}, \"line\": {\"color\": \"white\"}}, \"type\": \"table\"}]}, \"layout\": {\"annotationdefaults\": {\"arrowcolor\": \"#2a3f5f\", \"arrowhead\": 0, \"arrowwidth\": 1}, \"coloraxis\": {\"colorbar\": {\"outlinewidth\": 0, \"ticks\": \"\"}}, \"colorscale\": {\"diverging\": [[0, \"#8e0152\"], [0.1, \"#c51b7d\"], [0.2, \"#de77ae\"], [0.3, \"#f1b6da\"], [0.4, \"#fde0ef\"], [0.5, \"#f7f7f7\"], [0.6, \"#e6f5d0\"], [0.7, \"#b8e186\"], [0.8, \"#7fbc41\"], [0.9, \"#4d9221\"], [1, \"#276419\"]], \"sequential\": [[0.0, \"#0d0887\"], [0.1111111111111111, \"#46039f\"], [0.2222222222222222, \"#7201a8\"], [0.3333333333333333, \"#9c179e\"], [0.4444444444444444, \"#bd3786\"], [0.5555555555555556, \"#d8576b\"], [0.6666666666666666, \"#ed7953\"], [0.7777777777777778, \"#fb9f3a\"], [0.8888888888888888, \"#fdca26\"], [1.0, \"#f0f921\"]], \"sequentialminus\": [[0.0, \"#0d0887\"], [0.1111111111111111, \"#46039f\"], [0.2222222222222222, \"#7201a8\"], [0.3333333333333333, \"#9c179e\"], [0.4444444444444444, \"#bd3786\"], [0.5555555555555556, \"#d8576b\"], [0.6666666666666666, \"#ed7953\"], [0.7777777777777778, \"#fb9f3a\"], [0.8888888888888888, \"#fdca26\"], [1.0, \"#f0f921\"]]}, \"colorway\": [\"#636efa\", \"#EF553B\", \"#00cc96\", \"#ab63fa\", \"#FFA15A\", \"#19d3f3\", \"#FF6692\", \"#B6E880\", \"#FF97FF\", \"#FECB52\"], \"font\": {\"color\": \"#2a3f5f\"}, \"geo\": {\"bgcolor\": \"white\", \"lakecolor\": \"white\", \"landcolor\": \"#E5ECF6\", \"showlakes\": true, \"showland\": true, \"subunitcolor\": \"white\"}, \"hoverlabel\": {\"align\": \"left\"}, \"hovermode\": \"closest\", \"mapbox\": {\"style\": \"light\"}, \"paper_bgcolor\": \"white\", \"plot_bgcolor\": \"#E5ECF6\", \"polar\": {\"angularaxis\": {\"gridcolor\": \"white\", \"linecolor\": \"white\", \"ticks\": \"\"}, \"bgcolor\": \"#E5ECF6\", \"radialaxis\": {\"gridcolor\": \"white\", \"linecolor\": \"white\", \"ticks\": \"\"}}, \"scene\": {\"xaxis\": {\"backgroundcolor\": \"#E5ECF6\", \"gridcolor\": \"white\", \"gridwidth\": 2, \"linecolor\": \"white\", \"showbackground\": true, \"ticks\": \"\", \"zerolinecolor\": \"white\"}, \"yaxis\": {\"backgroundcolor\": \"#E5ECF6\", \"gridcolor\": \"white\", \"gridwidth\": 2, \"linecolor\": \"white\", \"showbackground\": true, \"ticks\": \"\", \"zerolinecolor\": \"white\"}, \"zaxis\": {\"backgroundcolor\": \"#E5ECF6\", \"gridcolor\": \"white\", \"gridwidth\": 2, \"linecolor\": \"white\", \"showbackground\": true, \"ticks\": \"\", \"zerolinecolor\": \"white\"}}, \"shapedefaults\": {\"line\": {\"color\": \"#2a3f5f\"}}, \"ternary\": {\"aaxis\": {\"gridcolor\": \"white\", \"linecolor\": \"white\", \"ticks\": \"\"}, \"baxis\": {\"gridcolor\": \"white\", \"linecolor\": \"white\", \"ticks\": \"\"}, \"bgcolor\": \"#E5ECF6\", \"caxis\": {\"gridcolor\": \"white\", \"linecolor\": \"white\", \"ticks\": \"\"}}, \"title\": {\"x\": 0.05}, \"xaxis\": {\"automargin\": true, \"gridcolor\": \"white\", \"linecolor\": \"white\", \"ticks\": \"\", \"title\": {\"standoff\": 15}, \"zerolinecolor\": \"white\", \"zerolinewidth\": 2}, \"yaxis\": {\"automargin\": true, \"gridcolor\": \"white\", \"linecolor\": \"white\", \"ticks\": \"\", \"title\": {\"standoff\": 15}, \"zerolinecolor\": \"white\", \"zerolinewidth\": 2}}}, \"title\": {\"text\": \"Average quarterly price history for all parts\"}, \"updatemenus\": [{\"active\": -1, \"buttons\": [{\"args\": [{\"visible\": [true, false, false, false, false, false, false, false, false, false, false, false, false, false, false, false, false, false, false, false, false, false, false, false, false, false, false, false, false, false, false, false, false, false, false, false, false, false, false, false, false, false, false, false, false, false, false, false, false, false, false, false, false, false, false, false, false, false, false, false, false, false, false, false, false, false, false, false, false, false, false, false, false, false, false, false, false, false, false, false, false, false, false, false, false, false, false, false, false, false, false, false, false, false, false, false, false, false, false, false]}, {\"title\": \"Price history for 0185-0373\"}], \"label\": \"0185-0373\", \"method\": \"update\"}, {\"args\": [{\"visible\": [false, true, false, false, false, false, false, false, false, false, false, false, false, false, false, false, false, false, false, false, false, false, false, false, false, false, false, false, false, false, false, false, false, false, false, false, false, false, false, false, false, false, false, false, false, false, false, false, false, false, false, false, false, false, false, false, false, false, false, false, false, false, false, false, false, false, false, false, false, false, false, false, false, false, false, false, false, false, false, false, false, false, false, false, false, false, false, false, false, false, false, false, false, false, false, false, false, false, false, false]}, {\"title\": \"Price history for 0228-2167\"}], \"label\": \"0228-2167\", \"method\": \"update\"}, {\"args\": [{\"visible\": [false, false, true, false, false, false, false, false, false, false, false, false, false, false, false, false, false, false, false, false, false, false, false, false, false, false, false, false, false, false, false, false, false, false, false, false, false, false, false, false, false, false, false, false, false, false, false, false, false, false, false, false, false, false, false, false, false, false, false, false, false, false, false, false, false, false, false, false, false, false, false, false, false, false, false, false, false, false, false, false, false, false, false, false, false, false, false, false, false, false, false, false, false, false, false, false, false, false, false, false]}, {\"title\": \"Price history for 0268-1128\"}], \"label\": \"0268-1128\", \"method\": \"update\"}, {\"args\": [{\"visible\": [false, false, false, true, false, false, false, false, false, false, false, false, false, false, false, false, false, false, false, false, false, false, false, false, false, false, false, false, false, false, false, false, false, false, false, false, false, false, false, false, false, false, false, false, false, false, false, false, false, false, false, false, false, false, false, false, false, false, false, false, false, false, false, false, false, false, false, false, false, false, false, false, false, false, false, false, false, false, false, false, false, false, false, false, false, false, false, false, false, false, false, false, false, false, false, false, false, false, false, false]}, {\"title\": \"Price history for 0268-1401\"}], \"label\": \"0268-1401\", \"method\": \"update\"}, {\"args\": [{\"visible\": [false, false, false, false, true, false, false, false, false, false, false, false, false, false, false, false, false, false, false, false, false, false, false, false, false, false, false, false, false, false, false, false, false, false, false, false, false, false, false, false, false, false, false, false, false, false, false, false, false, false, false, false, false, false, false, false, false, false, false, false, false, false, false, false, false, false, false, false, false, false, false, false, false, false, false, false, false, false, false, false, false, false, false, false, false, false, false, false, false, false, false, false, false, false, false, false, false, false, false, false]}, {\"title\": \"Price history for 0268-1604\"}], \"label\": \"0268-1604\", \"method\": \"update\"}, {\"args\": [{\"visible\": [false, false, false, false, false, true, false, false, false, false, false, false, false, false, false, false, false, false, false, false, false, false, false, false, false, false, false, false, false, false, false, false, false, false, false, false, false, false, false, false, false, false, false, false, false, false, false, false, false, false, false, false, false, false, false, false, false, false, false, false, false, false, false, false, false, false, false, false, false, false, false, false, false, false, false, false, false, false, false, false, false, false, false, false, false, false, false, false, false, false, false, false, false, false, false, false, false, false, false, false]}, {\"title\": \"Price history for 0268-6107\"}], \"label\": \"0268-6107\", \"method\": \"update\"}, {\"args\": [{\"visible\": [false, false, false, false, false, false, true, false, false, false, false, false, false, false, false, false, false, false, false, false, false, false, false, false, false, false, false, false, false, false, false, false, false, false, false, false, false, false, false, false, false, false, false, false, false, false, false, false, false, false, false, false, false, false, false, false, false, false, false, false, false, false, false, false, false, false, false, false, false, false, false, false, false, false, false, false, false, false, false, false, false, false, false, false, false, false, false, false, false, false, false, false, false, false, false, false, false, false, false, false]}, {\"title\": \"Price history for 0603-6134\"}], \"label\": \"0603-6134\", \"method\": \"update\"}, {\"args\": [{\"visible\": [false, false, false, false, false, false, false, true, false, false, false, false, false, false, false, false, false, false, false, false, false, false, false, false, false, false, false, false, false, false, false, false, false, false, false, false, false, false, false, false, false, false, false, false, false, false, false, false, false, false, false, false, false, false, false, false, false, false, false, false, false, false, false, false, false, false, false, false, false, false, false, false, false, false, false, false, false, false, false, false, false, false, false, false, false, false, false, false, false, false, false, false, false, false, false, false, false, false, false, false]}, {\"title\": \"Price history for 0615-7679\"}], \"label\": \"0615-7679\", \"method\": \"update\"}, {\"args\": [{\"visible\": [false, false, false, false, false, false, false, false, true, false, false, false, false, false, false, false, false, false, false, false, false, false, false, false, false, false, false, false, false, false, false, false, false, false, false, false, false, false, false, false, false, false, false, false, false, false, false, false, false, false, false, false, false, false, false, false, false, false, false, false, false, false, false, false, false, false, false, false, false, false, false, false, false, false, false, false, false, false, false, false, false, false, false, false, false, false, false, false, false, false, false, false, false, false, false, false, false, false, false, false]}, {\"title\": \"Price history for 0699-7041\"}], \"label\": \"0699-7041\", \"method\": \"update\"}, {\"args\": [{\"visible\": [false, false, false, false, false, false, false, false, false, true, false, false, false, false, false, false, false, false, false, false, false, false, false, false, false, false, false, false, false, false, false, false, false, false, false, false, false, false, false, false, false, false, false, false, false, false, false, false, false, false, false, false, false, false, false, false, false, false, false, false, false, false, false, false, false, false, false, false, false, false, false, false, false, false, false, false, false, false, false, false, false, false, false, false, false, false, false, false, false, false, false, false, false, false, false, false, false, false, false, false]}, {\"title\": \"Price history for 10237-832\"}], \"label\": \"10237-832\", \"method\": \"update\"}, {\"args\": [{\"visible\": [false, false, false, false, false, false, false, false, false, false, true, false, false, false, false, false, false, false, false, false, false, false, false, false, false, false, false, false, false, false, false, false, false, false, false, false, false, false, false, false, false, false, false, false, false, false, false, false, false, false, false, false, false, false, false, false, false, false, false, false, false, false, false, false, false, false, false, false, false, false, false, false, false, false, false, false, false, false, false, false, false, false, false, false, false, false, false, false, false, false, false, false, false, false, false, false, false, false, false, false]}, {\"title\": \"Price history for 10267-2529\"}], \"label\": \"10267-2529\", \"method\": \"update\"}, {\"args\": [{\"visible\": [false, false, false, false, false, false, false, false, false, false, false, true, false, false, false, false, false, false, false, false, false, false, false, false, false, false, false, false, false, false, false, false, false, false, false, false, false, false, false, false, false, false, false, false, false, false, false, false, false, false, false, false, false, false, false, false, false, false, false, false, false, false, false, false, false, false, false, false, false, false, false, false, false, false, false, false, false, false, false, false, false, false, false, false, false, false, false, false, false, false, false, false, false, false, false, false, false, false, false, false]}, {\"title\": \"Price history for 10578-049\"}], \"label\": \"10578-049\", \"method\": \"update\"}, {\"args\": [{\"visible\": [false, false, false, false, false, false, false, false, false, false, false, false, true, false, false, false, false, false, false, false, false, false, false, false, false, false, false, false, false, false, false, false, false, false, false, false, false, false, false, false, false, false, false, false, false, false, false, false, false, false, false, false, false, false, false, false, false, false, false, false, false, false, false, false, false, false, false, false, false, false, false, false, false, false, false, false, false, false, false, false, false, false, false, false, false, false, false, false, false, false, false, false, false, false, false, false, false, false, false, false]}, {\"title\": \"Price history for 13537-259\"}], \"label\": \"13537-259\", \"method\": \"update\"}, {\"args\": [{\"visible\": [false, false, false, false, false, false, false, false, false, false, false, false, false, true, false, false, false, false, false, false, false, false, false, false, false, false, false, false, false, false, false, false, false, false, false, false, false, false, false, false, false, false, false, false, false, false, false, false, false, false, false, false, false, false, false, false, false, false, false, false, false, false, false, false, false, false, false, false, false, false, false, false, false, false, false, false, false, false, false, false, false, false, false, false, false, false, false, false, false, false, false, false, false, false, false, false, false, false, false, false]}, {\"title\": \"Price history for 13537-468\"}], \"label\": \"13537-468\", \"method\": \"update\"}, {\"args\": [{\"visible\": [false, false, false, false, false, false, false, false, false, false, false, false, false, false, true, false, false, false, false, false, false, false, false, false, false, false, false, false, false, false, false, false, false, false, false, false, false, false, false, false, false, false, false, false, false, false, false, false, false, false, false, false, false, false, false, false, false, false, false, false, false, false, false, false, false, false, false, false, false, false, false, false, false, false, false, false, false, false, false, false, false, false, false, false, false, false, false, false, false, false, false, false, false, false, false, false, false, false, false, false]}, {\"title\": \"Price history for 16477-306\"}], \"label\": \"16477-306\", \"method\": \"update\"}, {\"args\": [{\"visible\": [false, false, false, false, false, false, false, false, false, false, false, false, false, false, false, true, false, false, false, false, false, false, false, false, false, false, false, false, false, false, false, false, false, false, false, false, false, false, false, false, false, false, false, false, false, false, false, false, false, false, false, false, false, false, false, false, false, false, false, false, false, false, false, false, false, false, false, false, false, false, false, false, false, false, false, false, false, false, false, false, false, false, false, false, false, false, false, false, false, false, false, false, false, false, false, false, false, false, false, false]}, {\"title\": \"Price history for 16590-177\"}], \"label\": \"16590-177\", \"method\": \"update\"}, {\"args\": [{\"visible\": [false, false, false, false, false, false, false, false, false, false, false, false, false, false, false, false, true, false, false, false, false, false, false, false, false, false, false, false, false, false, false, false, false, false, false, false, false, false, false, false, false, false, false, false, false, false, false, false, false, false, false, false, false, false, false, false, false, false, false, false, false, false, false, false, false, false, false, false, false, false, false, false, false, false, false, false, false, false, false, false, false, false, false, false, false, false, false, false, false, false, false, false, false, false, false, false, false, false, false, false]}, {\"title\": \"Price history for 16714-295\"}], \"label\": \"16714-295\", \"method\": \"update\"}, {\"args\": [{\"visible\": [false, false, false, false, false, false, false, false, false, false, false, false, false, false, false, false, false, true, false, false, false, false, false, false, false, false, false, false, false, false, false, false, false, false, false, false, false, false, false, false, false, false, false, false, false, false, false, false, false, false, false, false, false, false, false, false, false, false, false, false, false, false, false, false, false, false, false, false, false, false, false, false, false, false, false, false, false, false, false, false, false, false, false, false, false, false, false, false, false, false, false, false, false, false, false, false, false, false, false, false]}, {\"title\": \"Price history for 16729-167\"}], \"label\": \"16729-167\", \"method\": \"update\"}, {\"args\": [{\"visible\": [false, false, false, false, false, false, false, false, false, false, false, false, false, false, false, false, false, false, true, false, false, false, false, false, false, false, false, false, false, false, false, false, false, false, false, false, false, false, false, false, false, false, false, false, false, false, false, false, false, false, false, false, false, false, false, false, false, false, false, false, false, false, false, false, false, false, false, false, false, false, false, false, false, false, false, false, false, false, false, false, false, false, false, false, false, false, false, false, false, false, false, false, false, false, false, false, false, false, false, false]}, {\"title\": \"Price history for 17156-617\"}], \"label\": \"17156-617\", \"method\": \"update\"}, {\"args\": [{\"visible\": [false, false, false, false, false, false, false, false, false, false, false, false, false, false, false, false, false, false, false, true, false, false, false, false, false, false, false, false, false, false, false, false, false, false, false, false, false, false, false, false, false, false, false, false, false, false, false, false, false, false, false, false, false, false, false, false, false, false, false, false, false, false, false, false, false, false, false, false, false, false, false, false, false, false, false, false, false, false, false, false, false, false, false, false, false, false, false, false, false, false, false, false, false, false, false, false, false, false, false, false]}, {\"title\": \"Price history for 21695-267\"}], \"label\": \"21695-267\", \"method\": \"update\"}, {\"args\": [{\"visible\": [false, false, false, false, false, false, false, false, false, false, false, false, false, false, false, false, false, false, false, false, true, false, false, false, false, false, false, false, false, false, false, false, false, false, false, false, false, false, false, false, false, false, false, false, false, false, false, false, false, false, false, false, false, false, false, false, false, false, false, false, false, false, false, false, false, false, false, false, false, false, false, false, false, false, false, false, false, false, false, false, false, false, false, false, false, false, false, false, false, false, false, false, false, false, false, false, false, false, false, false]}, {\"title\": \"Price history for 21695-931\"}], \"label\": \"21695-931\", \"method\": \"update\"}, {\"args\": [{\"visible\": [false, false, false, false, false, false, false, false, false, false, false, false, false, false, false, false, false, false, false, false, false, true, false, false, false, false, false, false, false, false, false, false, false, false, false, false, false, false, false, false, false, false, false, false, false, false, false, false, false, false, false, false, false, false, false, false, false, false, false, false, false, false, false, false, false, false, false, false, false, false, false, false, false, false, false, false, false, false, false, false, false, false, false, false, false, false, false, false, false, false, false, false, false, false, false, false, false, false, false, false]}, {\"title\": \"Price history for 24286-1562\"}], \"label\": \"24286-1562\", \"method\": \"update\"}, {\"args\": [{\"visible\": [false, false, false, false, false, false, false, false, false, false, false, false, false, false, false, false, false, false, false, false, false, false, true, false, false, false, false, false, false, false, false, false, false, false, false, false, false, false, false, false, false, false, false, false, false, false, false, false, false, false, false, false, false, false, false, false, false, false, false, false, false, false, false, false, false, false, false, false, false, false, false, false, false, false, false, false, false, false, false, false, false, false, false, false, false, false, false, false, false, false, false, false, false, false, false, false, false, false, false, false]}, {\"title\": \"Price history for 24385-268\"}], \"label\": \"24385-268\", \"method\": \"update\"}, {\"args\": [{\"visible\": [false, false, false, false, false, false, false, false, false, false, false, false, false, false, false, false, false, false, false, false, false, false, false, true, false, false, false, false, false, false, false, false, false, false, false, false, false, false, false, false, false, false, false, false, false, false, false, false, false, false, false, false, false, false, false, false, false, false, false, false, false, false, false, false, false, false, false, false, false, false, false, false, false, false, false, false, false, false, false, false, false, false, false, false, false, false, false, false, false, false, false, false, false, false, false, false, false, false, false, false]}, {\"title\": \"Price history for 35356-325\"}], \"label\": \"35356-325\", \"method\": \"update\"}, {\"args\": [{\"visible\": [false, false, false, false, false, false, false, false, false, false, false, false, false, false, false, false, false, false, false, false, false, false, false, false, true, false, false, false, false, false, false, false, false, false, false, false, false, false, false, false, false, false, false, false, false, false, false, false, false, false, false, false, false, false, false, false, false, false, false, false, false, false, false, false, false, false, false, false, false, false, false, false, false, false, false, false, false, false, false, false, false, false, false, false, false, false, false, false, false, false, false, false, false, false, false, false, false, false, false, false]}, {\"title\": \"Price history for 36800-952\"}], \"label\": \"36800-952\", \"method\": \"update\"}, {\"args\": [{\"visible\": [false, false, false, false, false, false, false, false, false, false, false, false, false, false, false, false, false, false, false, false, false, false, false, false, false, true, false, false, false, false, false, false, false, false, false, false, false, false, false, false, false, false, false, false, false, false, false, false, false, false, false, false, false, false, false, false, false, false, false, false, false, false, false, false, false, false, false, false, false, false, false, false, false, false, false, false, false, false, false, false, false, false, false, false, false, false, false, false, false, false, false, false, false, false, false, false, false, false, false, false]}, {\"title\": \"Price history for 36987-1697\"}], \"label\": \"36987-1697\", \"method\": \"update\"}, {\"args\": [{\"visible\": [false, false, false, false, false, false, false, false, false, false, false, false, false, false, false, false, false, false, false, false, false, false, false, false, false, false, true, false, false, false, false, false, false, false, false, false, false, false, false, false, false, false, false, false, false, false, false, false, false, false, false, false, false, false, false, false, false, false, false, false, false, false, false, false, false, false, false, false, false, false, false, false, false, false, false, false, false, false, false, false, false, false, false, false, false, false, false, false, false, false, false, false, false, false, false, false, false, false, false, false]}, {\"title\": \"Price history for 37205-951\"}], \"label\": \"37205-951\", \"method\": \"update\"}, {\"args\": [{\"visible\": [false, false, false, false, false, false, false, false, false, false, false, false, false, false, false, false, false, false, false, false, false, false, false, false, false, false, false, true, false, false, false, false, false, false, false, false, false, false, false, false, false, false, false, false, false, false, false, false, false, false, false, false, false, false, false, false, false, false, false, false, false, false, false, false, false, false, false, false, false, false, false, false, false, false, false, false, false, false, false, false, false, false, false, false, false, false, false, false, false, false, false, false, false, false, false, false, false, false, false, false]}, {\"title\": \"Price history for 37205-992\"}], \"label\": \"37205-992\", \"method\": \"update\"}, {\"args\": [{\"visible\": [false, false, false, false, false, false, false, false, false, false, false, false, false, false, false, false, false, false, false, false, false, false, false, false, false, false, false, false, true, false, false, false, false, false, false, false, false, false, false, false, false, false, false, false, false, false, false, false, false, false, false, false, false, false, false, false, false, false, false, false, false, false, false, false, false, false, false, false, false, false, false, false, false, false, false, false, false, false, false, false, false, false, false, false, false, false, false, false, false, false, false, false, false, false, false, false, false, false, false, false]}, {\"title\": \"Price history for 41163-428\"}], \"label\": \"41163-428\", \"method\": \"update\"}, {\"args\": [{\"visible\": [false, false, false, false, false, false, false, false, false, false, false, false, false, false, false, false, false, false, false, false, false, false, false, false, false, false, false, false, false, true, false, false, false, false, false, false, false, false, false, false, false, false, false, false, false, false, false, false, false, false, false, false, false, false, false, false, false, false, false, false, false, false, false, false, false, false, false, false, false, false, false, false, false, false, false, false, false, false, false, false, false, false, false, false, false, false, false, false, false, false, false, false, false, false, false, false, false, false, false, false]}, {\"title\": \"Price history for 41167-0843\"}], \"label\": \"41167-0843\", \"method\": \"update\"}, {\"args\": [{\"visible\": [false, false, false, false, false, false, false, false, false, false, false, false, false, false, false, false, false, false, false, false, false, false, false, false, false, false, false, false, false, false, true, false, false, false, false, false, false, false, false, false, false, false, false, false, false, false, false, false, false, false, false, false, false, false, false, false, false, false, false, false, false, false, false, false, false, false, false, false, false, false, false, false, false, false, false, false, false, false, false, false, false, false, false, false, false, false, false, false, false, false, false, false, false, false, false, false, false, false, false, false]}, {\"title\": \"Price history for 42254-213\"}], \"label\": \"42254-213\", \"method\": \"update\"}, {\"args\": [{\"visible\": [false, false, false, false, false, false, false, false, false, false, false, false, false, false, false, false, false, false, false, false, false, false, false, false, false, false, false, false, false, false, false, true, false, false, false, false, false, false, false, false, false, false, false, false, false, false, false, false, false, false, false, false, false, false, false, false, false, false, false, false, false, false, false, false, false, false, false, false, false, false, false, false, false, false, false, false, false, false, false, false, false, false, false, false, false, false, false, false, false, false, false, false, false, false, false, false, false, false, false, false]}, {\"title\": \"Price history for 43419-018\"}], \"label\": \"43419-018\", \"method\": \"update\"}, {\"args\": [{\"visible\": [false, false, false, false, false, false, false, false, false, false, false, false, false, false, false, false, false, false, false, false, false, false, false, false, false, false, false, false, false, false, false, false, true, false, false, false, false, false, false, false, false, false, false, false, false, false, false, false, false, false, false, false, false, false, false, false, false, false, false, false, false, false, false, false, false, false, false, false, false, false, false, false, false, false, false, false, false, false, false, false, false, false, false, false, false, false, false, false, false, false, false, false, false, false, false, false, false, false, false, false]}, {\"title\": \"Price history for 44946-1046\"}], \"label\": \"44946-1046\", \"method\": \"update\"}, {\"args\": [{\"visible\": [false, false, false, false, false, false, false, false, false, false, false, false, false, false, false, false, false, false, false, false, false, false, false, false, false, false, false, false, false, false, false, false, false, true, false, false, false, false, false, false, false, false, false, false, false, false, false, false, false, false, false, false, false, false, false, false, false, false, false, false, false, false, false, false, false, false, false, false, false, false, false, false, false, false, false, false, false, false, false, false, false, false, false, false, false, false, false, false, false, false, false, false, false, false, false, false, false, false, false, false]}, {\"title\": \"Price history for 48951-4042\"}], \"label\": \"48951-4042\", \"method\": \"update\"}, {\"args\": [{\"visible\": [false, false, false, false, false, false, false, false, false, false, false, false, false, false, false, false, false, false, false, false, false, false, false, false, false, false, false, false, false, false, false, false, false, false, true, false, false, false, false, false, false, false, false, false, false, false, false, false, false, false, false, false, false, false, false, false, false, false, false, false, false, false, false, false, false, false, false, false, false, false, false, false, false, false, false, false, false, false, false, false, false, false, false, false, false, false, false, false, false, false, false, false, false, false, false, false, false, false, false, false]}, {\"title\": \"Price history for 49035-530\"}], \"label\": \"49035-530\", \"method\": \"update\"}, {\"args\": [{\"visible\": [false, false, false, false, false, false, false, false, false, false, false, false, false, false, false, false, false, false, false, false, false, false, false, false, false, false, false, false, false, false, false, false, false, false, false, true, false, false, false, false, false, false, false, false, false, false, false, false, false, false, false, false, false, false, false, false, false, false, false, false, false, false, false, false, false, false, false, false, false, false, false, false, false, false, false, false, false, false, false, false, false, false, false, false, false, false, false, false, false, false, false, false, false, false, false, false, false, false, false, false]}, {\"title\": \"Price history for 49288-0285\"}], \"label\": \"49288-0285\", \"method\": \"update\"}, {\"args\": [{\"visible\": [false, false, false, false, false, false, false, false, false, false, false, false, false, false, false, false, false, false, false, false, false, false, false, false, false, false, false, false, false, false, false, false, false, false, false, false, true, false, false, false, false, false, false, false, false, false, false, false, false, false, false, false, false, false, false, false, false, false, false, false, false, false, false, false, false, false, false, false, false, false, false, false, false, false, false, false, false, false, false, false, false, false, false, false, false, false, false, false, false, false, false, false, false, false, false, false, false, false, false, false]}, {\"title\": \"Price history for 49288-0655\"}], \"label\": \"49288-0655\", \"method\": \"update\"}, {\"args\": [{\"visible\": [false, false, false, false, false, false, false, false, false, false, false, false, false, false, false, false, false, false, false, false, false, false, false, false, false, false, false, false, false, false, false, false, false, false, false, false, false, true, false, false, false, false, false, false, false, false, false, false, false, false, false, false, false, false, false, false, false, false, false, false, false, false, false, false, false, false, false, false, false, false, false, false, false, false, false, false, false, false, false, false, false, false, false, false, false, false, false, false, false, false, false, false, false, false, false, false, false, false, false, false]}, {\"title\": \"Price history for 49348-574\"}], \"label\": \"49348-574\", \"method\": \"update\"}, {\"args\": [{\"visible\": [false, false, false, false, false, false, false, false, false, false, false, false, false, false, false, false, false, false, false, false, false, false, false, false, false, false, false, false, false, false, false, false, false, false, false, false, false, false, true, false, false, false, false, false, false, false, false, false, false, false, false, false, false, false, false, false, false, false, false, false, false, false, false, false, false, false, false, false, false, false, false, false, false, false, false, false, false, false, false, false, false, false, false, false, false, false, false, false, false, false, false, false, false, false, false, false, false, false, false, false]}, {\"title\": \"Price history for 49349-106\"}], \"label\": \"49349-106\", \"method\": \"update\"}, {\"args\": [{\"visible\": [false, false, false, false, false, false, false, false, false, false, false, false, false, false, false, false, false, false, false, false, false, false, false, false, false, false, false, false, false, false, false, false, false, false, false, false, false, false, false, true, false, false, false, false, false, false, false, false, false, false, false, false, false, false, false, false, false, false, false, false, false, false, false, false, false, false, false, false, false, false, false, false, false, false, false, false, false, false, false, false, false, false, false, false, false, false, false, false, false, false, false, false, false, false, false, false, false, false, false, false]}, {\"title\": \"Price history for 49349-314\"}], \"label\": \"49349-314\", \"method\": \"update\"}, {\"args\": [{\"visible\": [false, false, false, false, false, false, false, false, false, false, false, false, false, false, false, false, false, false, false, false, false, false, false, false, false, false, false, false, false, false, false, false, false, false, false, false, false, false, false, false, true, false, false, false, false, false, false, false, false, false, false, false, false, false, false, false, false, false, false, false, false, false, false, false, false, false, false, false, false, false, false, false, false, false, false, false, false, false, false, false, false, false, false, false, false, false, false, false, false, false, false, false, false, false, false, false, false, false, false, false]}, {\"title\": \"Price history for 49349-471\"}], \"label\": \"49349-471\", \"method\": \"update\"}, {\"args\": [{\"visible\": [false, false, false, false, false, false, false, false, false, false, false, false, false, false, false, false, false, false, false, false, false, false, false, false, false, false, false, false, false, false, false, false, false, false, false, false, false, false, false, false, false, true, false, false, false, false, false, false, false, false, false, false, false, false, false, false, false, false, false, false, false, false, false, false, false, false, false, false, false, false, false, false, false, false, false, false, false, false, false, false, false, false, false, false, false, false, false, false, false, false, false, false, false, false, false, false, false, false, false, false]}, {\"title\": \"Price history for 49349-820\"}], \"label\": \"49349-820\", \"method\": \"update\"}, {\"args\": [{\"visible\": [false, false, false, false, false, false, false, false, false, false, false, false, false, false, false, false, false, false, false, false, false, false, false, false, false, false, false, false, false, false, false, false, false, false, false, false, false, false, false, false, false, false, true, false, false, false, false, false, false, false, false, false, false, false, false, false, false, false, false, false, false, false, false, false, false, false, false, false, false, false, false, false, false, false, false, false, false, false, false, false, false, false, false, false, false, false, false, false, false, false, false, false, false, false, false, false, false, false, false, false]}, {\"title\": \"Price history for 49349-842\"}], \"label\": \"49349-842\", \"method\": \"update\"}, {\"args\": [{\"visible\": [false, false, false, false, false, false, false, false, false, false, false, false, false, false, false, false, false, false, false, false, false, false, false, false, false, false, false, false, false, false, false, false, false, false, false, false, false, false, false, false, false, false, false, true, false, false, false, false, false, false, false, false, false, false, false, false, false, false, false, false, false, false, false, false, false, false, false, false, false, false, false, false, false, false, false, false, false, false, false, false, false, false, false, false, false, false, false, false, false, false, false, false, false, false, false, false, false, false, false, false]}, {\"title\": \"Price history for 49520-501\"}], \"label\": \"49520-501\", \"method\": \"update\"}, {\"args\": [{\"visible\": [false, false, false, false, false, false, false, false, false, false, false, false, false, false, false, false, false, false, false, false, false, false, false, false, false, false, false, false, false, false, false, false, false, false, false, false, false, false, false, false, false, false, false, false, true, false, false, false, false, false, false, false, false, false, false, false, false, false, false, false, false, false, false, false, false, false, false, false, false, false, false, false, false, false, false, false, false, false, false, false, false, false, false, false, false, false, false, false, false, false, false, false, false, false, false, false, false, false, false, false]}, {\"title\": \"Price history for 49738-105\"}], \"label\": \"49738-105\", \"method\": \"update\"}, {\"args\": [{\"visible\": [false, false, false, false, false, false, false, false, false, false, false, false, false, false, false, false, false, false, false, false, false, false, false, false, false, false, false, false, false, false, false, false, false, false, false, false, false, false, false, false, false, false, false, false, false, true, false, false, false, false, false, false, false, false, false, false, false, false, false, false, false, false, false, false, false, false, false, false, false, false, false, false, false, false, false, false, false, false, false, false, false, false, false, false, false, false, false, false, false, false, false, false, false, false, false, false, false, false, false, false]}, {\"title\": \"Price history for 49967-724\"}], \"label\": \"49967-724\", \"method\": \"update\"}, {\"args\": [{\"visible\": [false, false, false, false, false, false, false, false, false, false, false, false, false, false, false, false, false, false, false, false, false, false, false, false, false, false, false, false, false, false, false, false, false, false, false, false, false, false, false, false, false, false, false, false, false, false, true, false, false, false, false, false, false, false, false, false, false, false, false, false, false, false, false, false, false, false, false, false, false, false, false, false, false, false, false, false, false, false, false, false, false, false, false, false, false, false, false, false, false, false, false, false, false, false, false, false, false, false, false, false]}, {\"title\": \"Price history for 49999-737\"}], \"label\": \"49999-737\", \"method\": \"update\"}, {\"args\": [{\"visible\": [false, false, false, false, false, false, false, false, false, false, false, false, false, false, false, false, false, false, false, false, false, false, false, false, false, false, false, false, false, false, false, false, false, false, false, false, false, false, false, false, false, false, false, false, false, false, false, true, false, false, false, false, false, false, false, false, false, false, false, false, false, false, false, false, false, false, false, false, false, false, false, false, false, false, false, false, false, false, false, false, false, false, false, false, false, false, false, false, false, false, false, false, false, false, false, false, false, false, false, false]}, {\"title\": \"Price history for 50458-560\"}], \"label\": \"50458-560\", \"method\": \"update\"}, {\"args\": [{\"visible\": [false, false, false, false, false, false, false, false, false, false, false, false, false, false, false, false, false, false, false, false, false, false, false, false, false, false, false, false, false, false, false, false, false, false, false, false, false, false, false, false, false, false, false, false, false, false, false, false, true, false, false, false, false, false, false, false, false, false, false, false, false, false, false, false, false, false, false, false, false, false, false, false, false, false, false, false, false, false, false, false, false, false, false, false, false, false, false, false, false, false, false, false, false, false, false, false, false, false, false, false]}, {\"title\": \"Price history for 50563-113\"}], \"label\": \"50563-113\", \"method\": \"update\"}, {\"args\": [{\"visible\": [false, false, false, false, false, false, false, false, false, false, false, false, false, false, false, false, false, false, false, false, false, false, false, false, false, false, false, false, false, false, false, false, false, false, false, false, false, false, false, false, false, false, false, false, false, false, false, false, false, true, false, false, false, false, false, false, false, false, false, false, false, false, false, false, false, false, false, false, false, false, false, false, false, false, false, false, false, false, false, false, false, false, false, false, false, false, false, false, false, false, false, false, false, false, false, false, false, false, false, false]}, {\"title\": \"Price history for 51060-032\"}], \"label\": \"51060-032\", \"method\": \"update\"}, {\"args\": [{\"visible\": [false, false, false, false, false, false, false, false, false, false, false, false, false, false, false, false, false, false, false, false, false, false, false, false, false, false, false, false, false, false, false, false, false, false, false, false, false, false, false, false, false, false, false, false, false, false, false, false, false, false, true, false, false, false, false, false, false, false, false, false, false, false, false, false, false, false, false, false, false, false, false, false, false, false, false, false, false, false, false, false, false, false, false, false, false, false, false, false, false, false, false, false, false, false, false, false, false, false, false, false]}, {\"title\": \"Price history for 51079-947\"}], \"label\": \"51079-947\", \"method\": \"update\"}, {\"args\": [{\"visible\": [false, false, false, false, false, false, false, false, false, false, false, false, false, false, false, false, false, false, false, false, false, false, false, false, false, false, false, false, false, false, false, false, false, false, false, false, false, false, false, false, false, false, false, false, false, false, false, false, false, false, false, true, false, false, false, false, false, false, false, false, false, false, false, false, false, false, false, false, false, false, false, false, false, false, false, false, false, false, false, false, false, false, false, false, false, false, false, false, false, false, false, false, false, false, false, false, false, false, false, false]}, {\"title\": \"Price history for 51138-049\"}], \"label\": \"51138-049\", \"method\": \"update\"}, {\"args\": [{\"visible\": [false, false, false, false, false, false, false, false, false, false, false, false, false, false, false, false, false, false, false, false, false, false, false, false, false, false, false, false, false, false, false, false, false, false, false, false, false, false, false, false, false, false, false, false, false, false, false, false, false, false, false, false, true, false, false, false, false, false, false, false, false, false, false, false, false, false, false, false, false, false, false, false, false, false, false, false, false, false, false, false, false, false, false, false, false, false, false, false, false, false, false, false, false, false, false, false, false, false, false, false]}, {\"title\": \"Price history for 51346-126\"}], \"label\": \"51346-126\", \"method\": \"update\"}, {\"args\": [{\"visible\": [false, false, false, false, false, false, false, false, false, false, false, false, false, false, false, false, false, false, false, false, false, false, false, false, false, false, false, false, false, false, false, false, false, false, false, false, false, false, false, false, false, false, false, false, false, false, false, false, false, false, false, false, false, true, false, false, false, false, false, false, false, false, false, false, false, false, false, false, false, false, false, false, false, false, false, false, false, false, false, false, false, false, false, false, false, false, false, false, false, false, false, false, false, false, false, false, false, false, false, false]}, {\"title\": \"Price history for 51346-145\"}], \"label\": \"51346-145\", \"method\": \"update\"}, {\"args\": [{\"visible\": [false, false, false, false, false, false, false, false, false, false, false, false, false, false, false, false, false, false, false, false, false, false, false, false, false, false, false, false, false, false, false, false, false, false, false, false, false, false, false, false, false, false, false, false, false, false, false, false, false, false, false, false, false, false, true, false, false, false, false, false, false, false, false, false, false, false, false, false, false, false, false, false, false, false, false, false, false, false, false, false, false, false, false, false, false, false, false, false, false, false, false, false, false, false, false, false, false, false, false, false]}, {\"title\": \"Price history for 51523-002\"}], \"label\": \"51523-002\", \"method\": \"update\"}, {\"args\": [{\"visible\": [false, false, false, false, false, false, false, false, false, false, false, false, false, false, false, false, false, false, false, false, false, false, false, false, false, false, false, false, false, false, false, false, false, false, false, false, false, false, false, false, false, false, false, false, false, false, false, false, false, false, false, false, false, false, false, true, false, false, false, false, false, false, false, false, false, false, false, false, false, false, false, false, false, false, false, false, false, false, false, false, false, false, false, false, false, false, false, false, false, false, false, false, false, false, false, false, false, false, false, false]}, {\"title\": \"Price history for 51531-9500\"}], \"label\": \"51531-9500\", \"method\": \"update\"}, {\"args\": [{\"visible\": [false, false, false, false, false, false, false, false, false, false, false, false, false, false, false, false, false, false, false, false, false, false, false, false, false, false, false, false, false, false, false, false, false, false, false, false, false, false, false, false, false, false, false, false, false, false, false, false, false, false, false, false, false, false, false, false, true, false, false, false, false, false, false, false, false, false, false, false, false, false, false, false, false, false, false, false, false, false, false, false, false, false, false, false, false, false, false, false, false, false, false, false, false, false, false, false, false, false, false, false]}, {\"title\": \"Price history for 52125-136\"}], \"label\": \"52125-136\", \"method\": \"update\"}, {\"args\": [{\"visible\": [false, false, false, false, false, false, false, false, false, false, false, false, false, false, false, false, false, false, false, false, false, false, false, false, false, false, false, false, false, false, false, false, false, false, false, false, false, false, false, false, false, false, false, false, false, false, false, false, false, false, false, false, false, false, false, false, false, true, false, false, false, false, false, false, false, false, false, false, false, false, false, false, false, false, false, false, false, false, false, false, false, false, false, false, false, false, false, false, false, false, false, false, false, false, false, false, false, false, false, false]}, {\"title\": \"Price history for 52125-444\"}], \"label\": \"52125-444\", \"method\": \"update\"}, {\"args\": [{\"visible\": [false, false, false, false, false, false, false, false, false, false, false, false, false, false, false, false, false, false, false, false, false, false, false, false, false, false, false, false, false, false, false, false, false, false, false, false, false, false, false, false, false, false, false, false, false, false, false, false, false, false, false, false, false, false, false, false, false, false, true, false, false, false, false, false, false, false, false, false, false, false, false, false, false, false, false, false, false, false, false, false, false, false, false, false, false, false, false, false, false, false, false, false, false, false, false, false, false, false, false, false]}, {\"title\": \"Price history for 52343-025\"}], \"label\": \"52343-025\", \"method\": \"update\"}, {\"args\": [{\"visible\": [false, false, false, false, false, false, false, false, false, false, false, false, false, false, false, false, false, false, false, false, false, false, false, false, false, false, false, false, false, false, false, false, false, false, false, false, false, false, false, false, false, false, false, false, false, false, false, false, false, false, false, false, false, false, false, false, false, false, false, true, false, false, false, false, false, false, false, false, false, false, false, false, false, false, false, false, false, false, false, false, false, false, false, false, false, false, false, false, false, false, false, false, false, false, false, false, false, false, false, false]}, {\"title\": \"Price history for 52380-1102\"}], \"label\": \"52380-1102\", \"method\": \"update\"}, {\"args\": [{\"visible\": [false, false, false, false, false, false, false, false, false, false, false, false, false, false, false, false, false, false, false, false, false, false, false, false, false, false, false, false, false, false, false, false, false, false, false, false, false, false, false, false, false, false, false, false, false, false, false, false, false, false, false, false, false, false, false, false, false, false, false, false, true, false, false, false, false, false, false, false, false, false, false, false, false, false, false, false, false, false, false, false, false, false, false, false, false, false, false, false, false, false, false, false, false, false, false, false, false, false, false, false]}, {\"title\": \"Price history for 52959-433\"}], \"label\": \"52959-433\", \"method\": \"update\"}, {\"args\": [{\"visible\": [false, false, false, false, false, false, false, false, false, false, false, false, false, false, false, false, false, false, false, false, false, false, false, false, false, false, false, false, false, false, false, false, false, false, false, false, false, false, false, false, false, false, false, false, false, false, false, false, false, false, false, false, false, false, false, false, false, false, false, false, false, true, false, false, false, false, false, false, false, false, false, false, false, false, false, false, false, false, false, false, false, false, false, false, false, false, false, false, false, false, false, false, false, false, false, false, false, false, false, false]}, {\"title\": \"Price history for 54092-515\"}], \"label\": \"54092-515\", \"method\": \"update\"}, {\"args\": [{\"visible\": [false, false, false, false, false, false, false, false, false, false, false, false, false, false, false, false, false, false, false, false, false, false, false, false, false, false, false, false, false, false, false, false, false, false, false, false, false, false, false, false, false, false, false, false, false, false, false, false, false, false, false, false, false, false, false, false, false, false, false, false, false, false, true, false, false, false, false, false, false, false, false, false, false, false, false, false, false, false, false, false, false, false, false, false, false, false, false, false, false, false, false, false, false, false, false, false, false, false, false, false]}, {\"title\": \"Price history for 54123-957\"}], \"label\": \"54123-957\", \"method\": \"update\"}, {\"args\": [{\"visible\": [false, false, false, false, false, false, false, false, false, false, false, false, false, false, false, false, false, false, false, false, false, false, false, false, false, false, false, false, false, false, false, false, false, false, false, false, false, false, false, false, false, false, false, false, false, false, false, false, false, false, false, false, false, false, false, false, false, false, false, false, false, false, false, true, false, false, false, false, false, false, false, false, false, false, false, false, false, false, false, false, false, false, false, false, false, false, false, false, false, false, false, false, false, false, false, false, false, false, false, false]}, {\"title\": \"Price history for 54473-578\"}], \"label\": \"54473-578\", \"method\": \"update\"}, {\"args\": [{\"visible\": [false, false, false, false, false, false, false, false, false, false, false, false, false, false, false, false, false, false, false, false, false, false, false, false, false, false, false, false, false, false, false, false, false, false, false, false, false, false, false, false, false, false, false, false, false, false, false, false, false, false, false, false, false, false, false, false, false, false, false, false, false, false, false, false, true, false, false, false, false, false, false, false, false, false, false, false, false, false, false, false, false, false, false, false, false, false, false, false, false, false, false, false, false, false, false, false, false, false, false, false]}, {\"title\": \"Price history for 54868-0823\"}], \"label\": \"54868-0823\", \"method\": \"update\"}, {\"args\": [{\"visible\": [false, false, false, false, false, false, false, false, false, false, false, false, false, false, false, false, false, false, false, false, false, false, false, false, false, false, false, false, false, false, false, false, false, false, false, false, false, false, false, false, false, false, false, false, false, false, false, false, false, false, false, false, false, false, false, false, false, false, false, false, false, false, false, false, false, true, false, false, false, false, false, false, false, false, false, false, false, false, false, false, false, false, false, false, false, false, false, false, false, false, false, false, false, false, false, false, false, false, false, false]}, {\"title\": \"Price history for 54868-5165\"}], \"label\": \"54868-5165\", \"method\": \"update\"}, {\"args\": [{\"visible\": [false, false, false, false, false, false, false, false, false, false, false, false, false, false, false, false, false, false, false, false, false, false, false, false, false, false, false, false, false, false, false, false, false, false, false, false, false, false, false, false, false, false, false, false, false, false, false, false, false, false, false, false, false, false, false, false, false, false, false, false, false, false, false, false, false, false, true, false, false, false, false, false, false, false, false, false, false, false, false, false, false, false, false, false, false, false, false, false, false, false, false, false, false, false, false, false, false, false, false, false]}, {\"title\": \"Price history for 54868-6311\"}], \"label\": \"54868-6311\", \"method\": \"update\"}, {\"args\": [{\"visible\": [false, false, false, false, false, false, false, false, false, false, false, false, false, false, false, false, false, false, false, false, false, false, false, false, false, false, false, false, false, false, false, false, false, false, false, false, false, false, false, false, false, false, false, false, false, false, false, false, false, false, false, false, false, false, false, false, false, false, false, false, false, false, false, false, false, false, false, true, false, false, false, false, false, false, false, false, false, false, false, false, false, false, false, false, false, false, false, false, false, false, false, false, false, false, false, false, false, false, false, false]}, {\"title\": \"Price history for 54973-9150\"}], \"label\": \"54973-9150\", \"method\": \"update\"}, {\"args\": [{\"visible\": [false, false, false, false, false, false, false, false, false, false, false, false, false, false, false, false, false, false, false, false, false, false, false, false, false, false, false, false, false, false, false, false, false, false, false, false, false, false, false, false, false, false, false, false, false, false, false, false, false, false, false, false, false, false, false, false, false, false, false, false, false, false, false, false, false, false, false, false, true, false, false, false, false, false, false, false, false, false, false, false, false, false, false, false, false, false, false, false, false, false, false, false, false, false, false, false, false, false, false, false]}, {\"title\": \"Price history for 55154-5057\"}], \"label\": \"55154-5057\", \"method\": \"update\"}, {\"args\": [{\"visible\": [false, false, false, false, false, false, false, false, false, false, false, false, false, false, false, false, false, false, false, false, false, false, false, false, false, false, false, false, false, false, false, false, false, false, false, false, false, false, false, false, false, false, false, false, false, false, false, false, false, false, false, false, false, false, false, false, false, false, false, false, false, false, false, false, false, false, false, false, false, true, false, false, false, false, false, false, false, false, false, false, false, false, false, false, false, false, false, false, false, false, false, false, false, false, false, false, false, false, false, false]}, {\"title\": \"Price history for 55289-164\"}], \"label\": \"55289-164\", \"method\": \"update\"}, {\"args\": [{\"visible\": [false, false, false, false, false, false, false, false, false, false, false, false, false, false, false, false, false, false, false, false, false, false, false, false, false, false, false, false, false, false, false, false, false, false, false, false, false, false, false, false, false, false, false, false, false, false, false, false, false, false, false, false, false, false, false, false, false, false, false, false, false, false, false, false, false, false, false, false, false, false, true, false, false, false, false, false, false, false, false, false, false, false, false, false, false, false, false, false, false, false, false, false, false, false, false, false, false, false, false, false]}, {\"title\": \"Price history for 55566-2100\"}], \"label\": \"55566-2100\", \"method\": \"update\"}, {\"args\": [{\"visible\": [false, false, false, false, false, false, false, false, false, false, false, false, false, false, false, false, false, false, false, false, false, false, false, false, false, false, false, false, false, false, false, false, false, false, false, false, false, false, false, false, false, false, false, false, false, false, false, false, false, false, false, false, false, false, false, false, false, false, false, false, false, false, false, false, false, false, false, false, false, false, false, true, false, false, false, false, false, false, false, false, false, false, false, false, false, false, false, false, false, false, false, false, false, false, false, false, false, false, false, false]}, {\"title\": \"Price history for 55700-014\"}], \"label\": \"55700-014\", \"method\": \"update\"}, {\"args\": [{\"visible\": [false, false, false, false, false, false, false, false, false, false, false, false, false, false, false, false, false, false, false, false, false, false, false, false, false, false, false, false, false, false, false, false, false, false, false, false, false, false, false, false, false, false, false, false, false, false, false, false, false, false, false, false, false, false, false, false, false, false, false, false, false, false, false, false, false, false, false, false, false, false, false, false, true, false, false, false, false, false, false, false, false, false, false, false, false, false, false, false, false, false, false, false, false, false, false, false, false, false, false, false]}, {\"title\": \"Price history for 55856-0003\"}], \"label\": \"55856-0003\", \"method\": \"update\"}, {\"args\": [{\"visible\": [false, false, false, false, false, false, false, false, false, false, false, false, false, false, false, false, false, false, false, false, false, false, false, false, false, false, false, false, false, false, false, false, false, false, false, false, false, false, false, false, false, false, false, false, false, false, false, false, false, false, false, false, false, false, false, false, false, false, false, false, false, false, false, false, false, false, false, false, false, false, false, false, false, true, false, false, false, false, false, false, false, false, false, false, false, false, false, false, false, false, false, false, false, false, false, false, false, false, false, false]}, {\"title\": \"Price history for 58118-5060\"}], \"label\": \"58118-5060\", \"method\": \"update\"}, {\"args\": [{\"visible\": [false, false, false, false, false, false, false, false, false, false, false, false, false, false, false, false, false, false, false, false, false, false, false, false, false, false, false, false, false, false, false, false, false, false, false, false, false, false, false, false, false, false, false, false, false, false, false, false, false, false, false, false, false, false, false, false, false, false, false, false, false, false, false, false, false, false, false, false, false, false, false, false, false, false, true, false, false, false, false, false, false, false, false, false, false, false, false, false, false, false, false, false, false, false, false, false, false, false, false, false]}, {\"title\": \"Price history for 58596-001\"}], \"label\": \"58596-001\", \"method\": \"update\"}, {\"args\": [{\"visible\": [false, false, false, false, false, false, false, false, false, false, false, false, false, false, false, false, false, false, false, false, false, false, false, false, false, false, false, false, false, false, false, false, false, false, false, false, false, false, false, false, false, false, false, false, false, false, false, false, false, false, false, false, false, false, false, false, false, false, false, false, false, false, false, false, false, false, false, false, false, false, false, false, false, false, false, true, false, false, false, false, false, false, false, false, false, false, false, false, false, false, false, false, false, false, false, false, false, false, false, false]}, {\"title\": \"Price history for 58668-4281\"}], \"label\": \"58668-4281\", \"method\": \"update\"}, {\"args\": [{\"visible\": [false, false, false, false, false, false, false, false, false, false, false, false, false, false, false, false, false, false, false, false, false, false, false, false, false, false, false, false, false, false, false, false, false, false, false, false, false, false, false, false, false, false, false, false, false, false, false, false, false, false, false, false, false, false, false, false, false, false, false, false, false, false, false, false, false, false, false, false, false, false, false, false, false, false, false, false, true, false, false, false, false, false, false, false, false, false, false, false, false, false, false, false, false, false, false, false, false, false, false, false]}, {\"title\": \"Price history for 59779-028\"}], \"label\": \"59779-028\", \"method\": \"update\"}, {\"args\": [{\"visible\": [false, false, false, false, false, false, false, false, false, false, false, false, false, false, false, false, false, false, false, false, false, false, false, false, false, false, false, false, false, false, false, false, false, false, false, false, false, false, false, false, false, false, false, false, false, false, false, false, false, false, false, false, false, false, false, false, false, false, false, false, false, false, false, false, false, false, false, false, false, false, false, false, false, false, false, false, false, true, false, false, false, false, false, false, false, false, false, false, false, false, false, false, false, false, false, false, false, false, false, false]}, {\"title\": \"Price history for 59779-601\"}], \"label\": \"59779-601\", \"method\": \"update\"}, {\"args\": [{\"visible\": [false, false, false, false, false, false, false, false, false, false, false, false, false, false, false, false, false, false, false, false, false, false, false, false, false, false, false, false, false, false, false, false, false, false, false, false, false, false, false, false, false, false, false, false, false, false, false, false, false, false, false, false, false, false, false, false, false, false, false, false, false, false, false, false, false, false, false, false, false, false, false, false, false, false, false, false, false, false, true, false, false, false, false, false, false, false, false, false, false, false, false, false, false, false, false, false, false, false, false, false]}, {\"title\": \"Price history for 60505-2867\"}], \"label\": \"60505-2867\", \"method\": \"update\"}, {\"args\": [{\"visible\": [false, false, false, false, false, false, false, false, false, false, false, false, false, false, false, false, false, false, false, false, false, false, false, false, false, false, false, false, false, false, false, false, false, false, false, false, false, false, false, false, false, false, false, false, false, false, false, false, false, false, false, false, false, false, false, false, false, false, false, false, false, false, false, false, false, false, false, false, false, false, false, false, false, false, false, false, false, false, false, true, false, false, false, false, false, false, false, false, false, false, false, false, false, false, false, false, false, false, false, false]}, {\"title\": \"Price history for 61398-0828\"}], \"label\": \"61398-0828\", \"method\": \"update\"}, {\"args\": [{\"visible\": [false, false, false, false, false, false, false, false, false, false, false, false, false, false, false, false, false, false, false, false, false, false, false, false, false, false, false, false, false, false, false, false, false, false, false, false, false, false, false, false, false, false, false, false, false, false, false, false, false, false, false, false, false, false, false, false, false, false, false, false, false, false, false, false, false, false, false, false, false, false, false, false, false, false, false, false, false, false, false, false, true, false, false, false, false, false, false, false, false, false, false, false, false, false, false, false, false, false, false, false]}, {\"title\": \"Price history for 62011-0219\"}], \"label\": \"62011-0219\", \"method\": \"update\"}, {\"args\": [{\"visible\": [false, false, false, false, false, false, false, false, false, false, false, false, false, false, false, false, false, false, false, false, false, false, false, false, false, false, false, false, false, false, false, false, false, false, false, false, false, false, false, false, false, false, false, false, false, false, false, false, false, false, false, false, false, false, false, false, false, false, false, false, false, false, false, false, false, false, false, false, false, false, false, false, false, false, false, false, false, false, false, false, false, true, false, false, false, false, false, false, false, false, false, false, false, false, false, false, false, false, false, false]}, {\"title\": \"Price history for 62670-4404\"}], \"label\": \"62670-4404\", \"method\": \"update\"}, {\"args\": [{\"visible\": [false, false, false, false, false, false, false, false, false, false, false, false, false, false, false, false, false, false, false, false, false, false, false, false, false, false, false, false, false, false, false, false, false, false, false, false, false, false, false, false, false, false, false, false, false, false, false, false, false, false, false, false, false, false, false, false, false, false, false, false, false, false, false, false, false, false, false, false, false, false, false, false, false, false, false, false, false, false, false, false, false, false, true, false, false, false, false, false, false, false, false, false, false, false, false, false, false, false, false, false]}, {\"title\": \"Price history for 62742-4030\"}], \"label\": \"62742-4030\", \"method\": \"update\"}, {\"args\": [{\"visible\": [false, false, false, false, false, false, false, false, false, false, false, false, false, false, false, false, false, false, false, false, false, false, false, false, false, false, false, false, false, false, false, false, false, false, false, false, false, false, false, false, false, false, false, false, false, false, false, false, false, false, false, false, false, false, false, false, false, false, false, false, false, false, false, false, false, false, false, false, false, false, false, false, false, false, false, false, false, false, false, false, false, false, false, true, false, false, false, false, false, false, false, false, false, false, false, false, false, false, false, false]}, {\"title\": \"Price history for 62756-707\"}], \"label\": \"62756-707\", \"method\": \"update\"}, {\"args\": [{\"visible\": [false, false, false, false, false, false, false, false, false, false, false, false, false, false, false, false, false, false, false, false, false, false, false, false, false, false, false, false, false, false, false, false, false, false, false, false, false, false, false, false, false, false, false, false, false, false, false, false, false, false, false, false, false, false, false, false, false, false, false, false, false, false, false, false, false, false, false, false, false, false, false, false, false, false, false, false, false, false, false, false, false, false, false, false, true, false, false, false, false, false, false, false, false, false, false, false, false, false, false, false]}, {\"title\": \"Price history for 63629-2733\"}], \"label\": \"63629-2733\", \"method\": \"update\"}, {\"args\": [{\"visible\": [false, false, false, false, false, false, false, false, false, false, false, false, false, false, false, false, false, false, false, false, false, false, false, false, false, false, false, false, false, false, false, false, false, false, false, false, false, false, false, false, false, false, false, false, false, false, false, false, false, false, false, false, false, false, false, false, false, false, false, false, false, false, false, false, false, false, false, false, false, false, false, false, false, false, false, false, false, false, false, false, false, false, false, false, false, true, false, false, false, false, false, false, false, false, false, false, false, false, false, false]}, {\"title\": \"Price history for 65044-3014\"}], \"label\": \"65044-3014\", \"method\": \"update\"}, {\"args\": [{\"visible\": [false, false, false, false, false, false, false, false, false, false, false, false, false, false, false, false, false, false, false, false, false, false, false, false, false, false, false, false, false, false, false, false, false, false, false, false, false, false, false, false, false, false, false, false, false, false, false, false, false, false, false, false, false, false, false, false, false, false, false, false, false, false, false, false, false, false, false, false, false, false, false, false, false, false, false, false, false, false, false, false, false, false, false, false, false, false, true, false, false, false, false, false, false, false, false, false, false, false, false, false]}, {\"title\": \"Price history for 67046-030\"}], \"label\": \"67046-030\", \"method\": \"update\"}, {\"args\": [{\"visible\": [false, false, false, false, false, false, false, false, false, false, false, false, false, false, false, false, false, false, false, false, false, false, false, false, false, false, false, false, false, false, false, false, false, false, false, false, false, false, false, false, false, false, false, false, false, false, false, false, false, false, false, false, false, false, false, false, false, false, false, false, false, false, false, false, false, false, false, false, false, false, false, false, false, false, false, false, false, false, false, false, false, false, false, false, false, false, false, true, false, false, false, false, false, false, false, false, false, false, false, false]}, {\"title\": \"Price history for 67544-356\"}], \"label\": \"67544-356\", \"method\": \"update\"}, {\"args\": [{\"visible\": [false, false, false, false, false, false, false, false, false, false, false, false, false, false, false, false, false, false, false, false, false, false, false, false, false, false, false, false, false, false, false, false, false, false, false, false, false, false, false, false, false, false, false, false, false, false, false, false, false, false, false, false, false, false, false, false, false, false, false, false, false, false, false, false, false, false, false, false, false, false, false, false, false, false, false, false, false, false, false, false, false, false, false, false, false, false, false, false, true, false, false, false, false, false, false, false, false, false, false, false]}, {\"title\": \"Price history for 68084-172\"}], \"label\": \"68084-172\", \"method\": \"update\"}, {\"args\": [{\"visible\": [false, false, false, false, false, false, false, false, false, false, false, false, false, false, false, false, false, false, false, false, false, false, false, false, false, false, false, false, false, false, false, false, false, false, false, false, false, false, false, false, false, false, false, false, false, false, false, false, false, false, false, false, false, false, false, false, false, false, false, false, false, false, false, false, false, false, false, false, false, false, false, false, false, false, false, false, false, false, false, false, false, false, false, false, false, false, false, false, false, true, false, false, false, false, false, false, false, false, false, false]}, {\"title\": \"Price history for 68084-595\"}], \"label\": \"68084-595\", \"method\": \"update\"}, {\"args\": [{\"visible\": [false, false, false, false, false, false, false, false, false, false, false, false, false, false, false, false, false, false, false, false, false, false, false, false, false, false, false, false, false, false, false, false, false, false, false, false, false, false, false, false, false, false, false, false, false, false, false, false, false, false, false, false, false, false, false, false, false, false, false, false, false, false, false, false, false, false, false, false, false, false, false, false, false, false, false, false, false, false, false, false, false, false, false, false, false, false, false, false, false, false, true, false, false, false, false, false, false, false, false, false]}, {\"title\": \"Price history for 68180-121\"}], \"label\": \"68180-121\", \"method\": \"update\"}, {\"args\": [{\"visible\": [false, false, false, false, false, false, false, false, false, false, false, false, false, false, false, false, false, false, false, false, false, false, false, false, false, false, false, false, false, false, false, false, false, false, false, false, false, false, false, false, false, false, false, false, false, false, false, false, false, false, false, false, false, false, false, false, false, false, false, false, false, false, false, false, false, false, false, false, false, false, false, false, false, false, false, false, false, false, false, false, false, false, false, false, false, false, false, false, false, false, false, true, false, false, false, false, false, false, false, false]}, {\"title\": \"Price history for 68233-011\"}], \"label\": \"68233-011\", \"method\": \"update\"}, {\"args\": [{\"visible\": [false, false, false, false, false, false, false, false, false, false, false, false, false, false, false, false, false, false, false, false, false, false, false, false, false, false, false, false, false, false, false, false, false, false, false, false, false, false, false, false, false, false, false, false, false, false, false, false, false, false, false, false, false, false, false, false, false, false, false, false, false, false, false, false, false, false, false, false, false, false, false, false, false, false, false, false, false, false, false, false, false, false, false, false, false, false, false, false, false, false, false, false, true, false, false, false, false, false, false, false]}, {\"title\": \"Price history for 68462-565\"}], \"label\": \"68462-565\", \"method\": \"update\"}, {\"args\": [{\"visible\": [false, false, false, false, false, false, false, false, false, false, false, false, false, false, false, false, false, false, false, false, false, false, false, false, false, false, false, false, false, false, false, false, false, false, false, false, false, false, false, false, false, false, false, false, false, false, false, false, false, false, false, false, false, false, false, false, false, false, false, false, false, false, false, false, false, false, false, false, false, false, false, false, false, false, false, false, false, false, false, false, false, false, false, false, false, false, false, false, false, false, false, false, false, true, false, false, false, false, false, false]}, {\"title\": \"Price history for 68752-024\"}], \"label\": \"68752-024\", \"method\": \"update\"}, {\"args\": [{\"visible\": [false, false, false, false, false, false, false, false, false, false, false, false, false, false, false, false, false, false, false, false, false, false, false, false, false, false, false, false, false, false, false, false, false, false, false, false, false, false, false, false, false, false, false, false, false, false, false, false, false, false, false, false, false, false, false, false, false, false, false, false, false, false, false, false, false, false, false, false, false, false, false, false, false, false, false, false, false, false, false, false, false, false, false, false, false, false, false, false, false, false, false, false, false, false, true, false, false, false, false, false]}, {\"title\": \"Price history for 70253-307\"}], \"label\": \"70253-307\", \"method\": \"update\"}, {\"args\": [{\"visible\": [false, false, false, false, false, false, false, false, false, false, false, false, false, false, false, false, false, false, false, false, false, false, false, false, false, false, false, false, false, false, false, false, false, false, false, false, false, false, false, false, false, false, false, false, false, false, false, false, false, false, false, false, false, false, false, false, false, false, false, false, false, false, false, false, false, false, false, false, false, false, false, false, false, false, false, false, false, false, false, false, false, false, false, false, false, false, false, false, false, false, false, false, false, false, false, true, false, false, false, false]}, {\"title\": \"Price history for 76117-001\"}], \"label\": \"76117-001\", \"method\": \"update\"}, {\"args\": [{\"visible\": [false, false, false, false, false, false, false, false, false, false, false, false, false, false, false, false, false, false, false, false, false, false, false, false, false, false, false, false, false, false, false, false, false, false, false, false, false, false, false, false, false, false, false, false, false, false, false, false, false, false, false, false, false, false, false, false, false, false, false, false, false, false, false, false, false, false, false, false, false, false, false, false, false, false, false, false, false, false, false, false, false, false, false, false, false, false, false, false, false, false, false, false, false, false, false, false, true, false, false, false]}, {\"title\": \"Price history for 76314-002\"}], \"label\": \"76314-002\", \"method\": \"update\"}, {\"args\": [{\"visible\": [false, false, false, false, false, false, false, false, false, false, false, false, false, false, false, false, false, false, false, false, false, false, false, false, false, false, false, false, false, false, false, false, false, false, false, false, false, false, false, false, false, false, false, false, false, false, false, false, false, false, false, false, false, false, false, false, false, false, false, false, false, false, false, false, false, false, false, false, false, false, false, false, false, false, false, false, false, false, false, false, false, false, false, false, false, false, false, false, false, false, false, false, false, false, false, false, false, true, false, false]}, {\"title\": \"Price history for 76335-006\"}], \"label\": \"76335-006\", \"method\": \"update\"}, {\"args\": [{\"visible\": [false, false, false, false, false, false, false, false, false, false, false, false, false, false, false, false, false, false, false, false, false, false, false, false, false, false, false, false, false, false, false, false, false, false, false, false, false, false, false, false, false, false, false, false, false, false, false, false, false, false, false, false, false, false, false, false, false, false, false, false, false, false, false, false, false, false, false, false, false, false, false, false, false, false, false, false, false, false, false, false, false, false, false, false, false, false, false, false, false, false, false, false, false, false, false, false, false, false, true, false]}, {\"title\": \"Price history for 76454-100\"}], \"label\": \"76454-100\", \"method\": \"update\"}, {\"args\": [{\"visible\": [false, false, false, false, false, false, false, false, false, false, false, false, false, false, false, false, false, false, false, false, false, false, false, false, false, false, false, false, false, false, false, false, false, false, false, false, false, false, false, false, false, false, false, false, false, false, false, false, false, false, false, false, false, false, false, false, false, false, false, false, false, false, false, false, false, false, false, false, false, false, false, false, false, false, false, false, false, false, false, false, false, false, false, false, false, false, false, false, false, false, false, false, false, false, false, false, false, false, false, true]}, {\"title\": \"Price history for 98132-889\"}], \"label\": \"98132-889\", \"method\": \"update\"}]}], \"yaxis\": {\"title\": {\"text\": \"Average price in Euro\"}}},\n",
       "                        {\"responsive\": true}\n",
       "                    ).then(function(){\n",
       "                            \n",
       "var gd = document.getElementById('87d82d0d-0c32-4ca4-9fcd-8c624469f95d');\n",
       "var x = new MutationObserver(function (mutations, observer) {{\n",
       "        var display = window.getComputedStyle(gd).display;\n",
       "        if (!display || display === 'none') {{\n",
       "            console.log([gd, 'removed!']);\n",
       "            Plotly.purge(gd);\n",
       "            observer.disconnect();\n",
       "        }}\n",
       "}});\n",
       "\n",
       "// Listen for the removal of the full notebook cells\n",
       "var notebookContainer = gd.closest('#notebook-container');\n",
       "if (notebookContainer) {{\n",
       "    x.observe(notebookContainer, {childList: true});\n",
       "}}\n",
       "\n",
       "// Listen for the clearing of the current output cell\n",
       "var outputEl = gd.closest('.output');\n",
       "if (outputEl) {{\n",
       "    x.observe(outputEl, {childList: true});\n",
       "}}\n",
       "\n",
       "                        })\n",
       "                };\n",
       "                \n",
       "            </script>\n",
       "        </div>\n",
       "</body>\n",
       "</html>"
      ]
     },
     "metadata": {
      "tags": []
     },
     "output_type": "display_data"
    }
   ],
   "source": [
    "# Create figure\n",
    "fig = go.Figure()\n",
    "\n",
    "# Get all unique parts from the dataframe and sort the list\n",
    "all_parts = part_price_df['part'].unique()\n",
    "\n",
    "# Go through each part and plot the data\n",
    "for part in all_parts:\n",
    "  filter_part = part_price_df[part_price_df['part'] == part]\n",
    "\n",
    "  fig.add_trace(\n",
    "      go.Scatter(x=filter_part['date_quarter'], \n",
    "                 y=filter_part['avg_quarterly_price'],\n",
    "                 name=part)\n",
    "  )\n",
    "\n",
    "# Create the dropdown menu\n",
    "visibility = [False]*len(all_parts)\n",
    "plot_buttons = [dict(label=all_parts[i],\n",
    "                     method='update',\n",
    "                     args=[{\"visible\": [visibility[j] if i!=j else True for j in range(len(visibility))]},\n",
    "                           {\"title\": f'Price history for {all_parts[i]}'}]) for i in range(len(all_parts))]\n",
    "\n",
    "# Add title. axis labels, and dropdown menus\n",
    "fig.update_layout(\n",
    "    title = dict(\n",
    "        text='Average quarterly price history for all parts'\n",
    "    ),\n",
    "    updatemenus=[ \n",
    "        dict( \n",
    "            active=-1, \n",
    "            buttons=list(plot_buttons), \n",
    "        ) \n",
    "    ],\n",
    "    yaxis=dict(\n",
    "        title='Average price in Euro'\n",
    "    )\n",
    ")\n",
    "\n",
    "# Show plot\n",
    "fig.show()"
   ]
  },
  {
   "cell_type": "markdown",
   "metadata": {
    "id": "q8WeNGF__vTZ"
   },
   "source": [
    "To see the different parts individual graph, it is possible to use either the legends or the dropdown menu to filter the data.\n",
    "\n",
    "If we look at part *0699-7041* and *10237-832*, which we also analyzed in part 2.3, we see that for part *0699-7041* the average quarterly price of the part varies a alot. \n",
    "If the quarterly average price is compared to the plot for the quarterly sales, we see that the price follows an opposite trend of the sales. \n",
    "We see that the sales had a minimum in 2017Q2, but it is here that the price is highest. From 2017Q2, the price then starts to fall and as the price is getting the lower, more sales are achieved. Though, the peak in sales is in 2018Q1 but the minimum price is 2018Q2, which might be a result of pridicting that the were going to increase further.\n",
    "\n",
    "Looking at part *10237-832* we see a similar trend for sales and price. Looking at 2017, we see that the prices are low, while varying a little. Starting from 2018Q1 the sales starts to fall and the price starts to increase. \n",
    "It's seen that the peak in the price and minimum of the sales are shifted. The lowering in the price, even though the sales were low, could be an attempt to boost sales.\n",
    "This attempt were succesful, as it can be seen that after lowering the price in 2018Q3 the sales rose for 2018Q4."
   ]
  },
  {
   "cell_type": "markdown",
   "metadata": {
    "id": "e5TbMoeROxym"
   },
   "source": [
    "### Are there any clients for which profit is declining? (12.5 pts)\n",
    "\n",
    "Declining profit from a specific client may indicate that the client is dissatisfied with the product. Gaining a new client is often much more work than retaining one. Early warnings about declining profit may help your boss fighting customer churn. Answer the following questions and provide appropriate visualisations for each of them. As mentioned before, include headers, legends and well-written descriptions for graphs/charts.\n"
   ]
  },
  {
   "cell_type": "markdown",
   "metadata": {
    "id": "MsDYc835O2lz"
   },
   "source": [
    "#### 2.5. Compute and visualise the trend in total purchases for all customers, per yearly quarter. (5 pts)\n"
   ]
  },
  {
   "cell_type": "markdown",
   "metadata": {
    "id": "_jkmB3WIkc2p"
   },
   "source": [
    "**You should also add a paragraph describing your findings.**"
   ]
  },
  {
   "cell_type": "markdown",
   "metadata": {
    "id": "QBUAelV_fTxq"
   },
   "source": [
    "To find the total purchases by yearly quarter for all customers, a query is made, taking the `company` column, transforming the `date` column to be the yearly quarter and using the `COUNT` function to find the amount of sales. To get the amount for each customer per yeerly quarter, the table is grouped by the `company` and the yearly quarter. The table is then sorted by the yearly quarter in ascending order.\n",
    "\n",
    "To visualize this, a line+marker plot is created to show the different trends:"
   ]
  },
  {
   "cell_type": "code",
   "execution_count": null,
   "metadata": {
    "id": "2PY6OiqlO_c3"
   },
   "outputs": [],
   "source": [
    "# Creating a query to get the sales per yearly quarter for all customers\n",
    "query = \"\"\"\n",
    "        SELECT company, \n",
    "               CONCAT(CAST(YEAR(date) AS string), 'Q', CAST(QUARTER(date) AS string)) AS date_quarter, \n",
    "               Count(1) as purchases\n",
    "        FROM transactions_sql\n",
    "        GROUP BY date_quarter, company\n",
    "        ORDER BY date_quarter ASC\n",
    "        \"\"\"\n",
    "\n",
    "# Create dataframe\n",
    "quarter_purchases = spark.sql(query)\n",
    "quarter_purchases_df = quarter_purchases.toPandas()"
   ]
  },
  {
   "cell_type": "code",
   "execution_count": null,
   "metadata": {
    "colab": {
     "base_uri": "https://localhost:8080/",
     "height": 542
    },
    "id": "0cVn5Ewoo9ST",
    "outputId": "2371e2d2-3b85-4d5d-d4f6-c082d151917d"
   },
   "outputs": [
    {
     "data": {
      "text/html": [
       "<html>\n",
       "<head><meta charset=\"utf-8\" /></head>\n",
       "<body>\n",
       "    <div>\n",
       "            <script src=\"https://cdnjs.cloudflare.com/ajax/libs/mathjax/2.7.5/MathJax.js?config=TeX-AMS-MML_SVG\"></script><script type=\"text/javascript\">if (window.MathJax) {MathJax.Hub.Config({SVG: {font: \"STIX-Web\"}});}</script>\n",
       "                <script type=\"text/javascript\">window.PlotlyConfig = {MathJaxConfig: 'local'};</script>\n",
       "        <script src=\"https://cdn.plot.ly/plotly-latest.min.js\"></script>    \n",
       "            <div id=\"4db6b13c-5069-4f9e-ad9e-46ee8cfbb285\" class=\"plotly-graph-div\" style=\"height:525px; width:100%;\"></div>\n",
       "            <script type=\"text/javascript\">\n",
       "                \n",
       "                    window.PLOTLYENV=window.PLOTLYENV || {};\n",
       "                    \n",
       "                if (document.getElementById(\"4db6b13c-5069-4f9e-ad9e-46ee8cfbb285\")) {\n",
       "                    Plotly.newPlot(\n",
       "                        '4db6b13c-5069-4f9e-ad9e-46ee8cfbb285',\n",
       "                        [{\"name\": \"Avaveo\", \"type\": \"scatter\", \"x\": [\"2016Q1\", \"2016Q2\", \"2016Q3\", \"2016Q4\", \"2017Q1\", \"2017Q2\", \"2017Q3\", \"2017Q4\", \"2018Q1\", \"2018Q2\", \"2018Q3\", \"2018Q4\"], \"y\": [13, 12, 11, 7, 17, 15, 17, 17, 17, 18, 18, 19]}, {\"name\": \"Brainsphere\", \"type\": \"scatter\", \"x\": [\"2016Q1\", \"2016Q2\", \"2016Q3\", \"2016Q4\", \"2017Q1\", \"2017Q2\", \"2017Q3\", \"2017Q4\", \"2018Q1\", \"2018Q2\", \"2018Q3\", \"2018Q4\"], \"y\": [109, 115, 69, 33, 100, 83, 119, 105, 101, 97, 89, 92]}, {\"name\": \"Bubblemix\", \"type\": \"scatter\", \"x\": [\"2016Q1\", \"2016Q2\", \"2016Q3\", \"2016Q4\", \"2017Q1\", \"2017Q2\", \"2017Q3\", \"2017Q4\", \"2018Q1\", \"2018Q2\", \"2018Q3\", \"2018Q4\"], \"y\": [1, 5, 3, 1, 3, 1, 8, 5, 3, 3, 5, 7]}, {\"name\": \"Buzzbean\", \"type\": \"scatter\", \"x\": [\"2016Q1\", \"2016Q2\", \"2016Q3\", \"2016Q4\", \"2017Q1\", \"2017Q2\", \"2017Q3\", \"2017Q4\", \"2018Q1\", \"2018Q2\", \"2018Q3\", \"2018Q4\"], \"y\": [107, 92, 58, 42, 96, 90, 103, 89, 117, 100, 112, 114]}, {\"name\": \"Chatterbridge\", \"type\": \"scatter\", \"x\": [\"2016Q1\", \"2016Q2\", \"2016Q3\", \"2016Q4\", \"2017Q1\", \"2017Q2\", \"2017Q3\", \"2017Q4\", \"2018Q1\", \"2018Q2\", \"2018Q3\", \"2018Q4\"], \"y\": [143, 138, 89, 38, 121, 99, 127, 123, 116, 148, 140, 135]}, {\"name\": \"Eimbee\", \"type\": \"scatter\", \"x\": [\"2016Q1\", \"2016Q2\", \"2016Q3\", \"2016Q4\", \"2017Q1\", \"2017Q2\", \"2017Q3\", \"2017Q4\", \"2018Q1\", \"2018Q2\", \"2018Q3\", \"2018Q4\"], \"y\": [31, 36, 28, 13, 38, 39, 50, 35, 46, 48, 43, 43]}, {\"name\": \"Flipstorm\", \"type\": \"scatter\", \"x\": [\"2016Q1\", \"2016Q2\", \"2016Q3\", \"2016Q4\", \"2017Q1\", \"2017Q2\", \"2017Q3\", \"2017Q4\", \"2018Q1\", \"2018Q2\", \"2018Q3\", \"2018Q4\", \"2019Q1\", \"2019Q2\"], \"y\": [459, 282, 110, 32, 75, 28, 17, 18, 10, 2, 4, 1, 1, 1]}, {\"name\": \"Gabcube\", \"type\": \"scatter\", \"x\": [\"2016Q1\", \"2016Q2\", \"2016Q3\", \"2016Q4\", \"2017Q1\", \"2017Q2\", \"2017Q3\", \"2017Q4\", \"2018Q1\", \"2018Q2\", \"2018Q3\", \"2018Q4\"], \"y\": [34, 19, 21, 14, 31, 28, 31, 21, 33, 32, 23, 35]}, {\"name\": \"Gabtune\", \"type\": \"scatter\", \"x\": [\"2016Q1\", \"2016Q2\", \"2017Q1\", \"2017Q2\", \"2017Q3\", \"2017Q4\", \"2018Q1\", \"2018Q2\", \"2018Q3\", \"2018Q4\"], \"y\": [3, 2, 1, 1, 1, 1, 5, 2, 3, 5]}, {\"name\": \"Gevee\", \"type\": \"scatter\", \"x\": [\"2016Q1\", \"2016Q2\", \"2016Q3\", \"2016Q4\", \"2017Q1\", \"2017Q3\", \"2017Q4\", \"2018Q1\", \"2018Q2\", \"2018Q3\", \"2018Q4\"], \"y\": [4, 1, 5, 1, 5, 3, 5, 4, 1, 2, 4]}, {\"name\": \"Innojam\", \"type\": \"scatter\", \"x\": [\"2016Q1\", \"2016Q2\", \"2016Q3\", \"2017Q1\", \"2017Q2\", \"2017Q3\", \"2017Q4\", \"2018Q1\", \"2018Q2\", \"2018Q3\", \"2018Q4\"], \"y\": [5, 4, 3, 4, 3, 2, 1, 4, 7, 5, 2]}, {\"name\": \"Kanoodle\", \"type\": \"scatter\", \"x\": [\"2016Q1\", \"2016Q2\", \"2016Q3\", \"2016Q4\", \"2017Q1\", \"2017Q2\", \"2017Q3\", \"2017Q4\", \"2018Q1\", \"2018Q2\", \"2018Q3\", \"2018Q4\"], \"y\": [5, 13, 6, 8, 9, 9, 9, 18, 6, 12, 11, 4]}, {\"name\": \"Lajo\", \"type\": \"scatter\", \"x\": [\"2016Q1\", \"2016Q2\", \"2016Q3\", \"2016Q4\", \"2017Q1\", \"2017Q2\", \"2017Q3\", \"2017Q4\", \"2018Q1\", \"2018Q2\", \"2018Q3\", \"2018Q4\"], \"y\": [23, 21, 11, 9, 24, 11, 19, 14, 20, 14, 19, 16]}, {\"name\": \"Ntags\", \"type\": \"scatter\", \"x\": [\"2016Q1\", \"2016Q2\", \"2016Q3\", \"2016Q4\", \"2017Q1\", \"2017Q2\", \"2017Q3\", \"2017Q4\", \"2018Q1\", \"2018Q2\", \"2018Q3\", \"2018Q4\"], \"y\": [129, 106, 92, 54, 112, 107, 134, 124, 132, 133, 107, 118]}, {\"name\": \"Realpoint\", \"type\": \"scatter\", \"x\": [\"2016Q1\", \"2016Q2\", \"2016Q3\", \"2016Q4\", \"2017Q1\", \"2017Q2\", \"2017Q3\", \"2017Q4\", \"2018Q1\", \"2018Q2\", \"2018Q3\", \"2018Q4\"], \"y\": [9, 6, 7, 6, 17, 6, 14, 15, 12, 17, 18, 16]}, {\"name\": \"Rhycero\", \"type\": \"scatter\", \"x\": [\"2016Q1\", \"2016Q2\", \"2016Q3\", \"2016Q4\", \"2017Q1\", \"2017Q2\", \"2017Q3\", \"2017Q4\", \"2018Q1\", \"2018Q2\", \"2018Q3\", \"2018Q4\"], \"y\": [16, 16, 12, 3, 16, 12, 14, 20, 13, 21, 20, 14]}, {\"name\": \"Riffpath\", \"type\": \"scatter\", \"x\": [\"2016Q1\", \"2016Q2\", \"2016Q3\", \"2016Q4\", \"2017Q1\", \"2017Q2\", \"2017Q3\", \"2017Q4\", \"2018Q1\", \"2018Q2\", \"2018Q3\", \"2018Q4\"], \"y\": [9, 13, 6, 6, 13, 13, 7, 13, 8, 17, 14, 11]}, {\"name\": \"Roodel\", \"type\": \"scatter\", \"x\": [\"2016Q1\", \"2016Q2\", \"2016Q3\", \"2016Q4\", \"2017Q1\", \"2017Q2\", \"2017Q3\", \"2017Q4\", \"2018Q1\", \"2018Q2\", \"2018Q3\", \"2018Q4\"], \"y\": [49, 48, 35, 17, 55, 35, 47, 49, 48, 49, 58, 61]}, {\"name\": \"Shufflebeat\", \"type\": \"scatter\", \"x\": [\"2016Q1\", \"2016Q2\", \"2016Q3\", \"2016Q4\", \"2017Q1\", \"2017Q2\", \"2017Q3\", \"2017Q4\", \"2018Q1\", \"2018Q2\", \"2018Q3\", \"2018Q4\"], \"y\": [127, 147, 97, 43, 113, 89, 132, 125, 126, 118, 122, 136]}, {\"name\": \"Tagtune\", \"type\": \"scatter\", \"x\": [\"2016Q1\", \"2017Q2\", \"2017Q4\", \"2018Q1\", \"2018Q3\", \"2018Q4\"], \"y\": [1, 1, 2, 4, 2, 1]}, {\"name\": \"Teklist\", \"type\": \"scatter\", \"x\": [\"2016Q1\", \"2016Q2\", \"2016Q3\", \"2016Q4\", \"2017Q1\", \"2017Q2\", \"2017Q3\", \"2017Q4\", \"2018Q1\", \"2018Q2\", \"2018Q3\", \"2018Q4\"], \"y\": [34, 28, 28, 16, 40, 28, 38, 34, 30, 47, 28, 36]}, {\"name\": \"Thoughtmix\", \"type\": \"scatter\", \"x\": [\"2016Q1\", \"2016Q2\", \"2016Q3\", \"2016Q4\", \"2017Q1\", \"2017Q2\", \"2017Q3\", \"2017Q4\", \"2018Q1\", \"2018Q2\", \"2018Q3\", \"2018Q4\"], \"y\": [215, 212, 179, 80, 215, 186, 234, 222, 245, 239, 226, 243]}, {\"name\": \"Twitterbeat\", \"type\": \"scatter\", \"x\": [\"2016Q1\", \"2016Q2\", \"2016Q3\", \"2016Q4\", \"2017Q1\", \"2017Q2\", \"2017Q3\", \"2017Q4\", \"2018Q1\", \"2018Q2\", \"2018Q3\", \"2018Q4\"], \"y\": [168, 160, 137, 71, 194, 145, 206, 189, 166, 191, 191, 210]}, {\"name\": \"Voomm\", \"type\": \"scatter\", \"x\": [\"2016Q1\", \"2016Q2\", \"2016Q3\", \"2016Q4\", \"2017Q1\", \"2017Q2\", \"2017Q3\", \"2017Q4\", \"2018Q1\"], \"y\": [102, 60, 24, 7, 12, 1, 9, 3, 2]}, {\"name\": \"Wordify\", \"type\": \"scatter\", \"x\": [\"2016Q1\", \"2016Q2\", \"2016Q3\", \"2016Q4\", \"2017Q1\", \"2017Q2\", \"2017Q3\", \"2017Q4\", \"2018Q1\", \"2018Q2\", \"2018Q3\", \"2018Q4\"], \"y\": [70, 74, 42, 36, 69, 74, 75, 90, 71, 80, 87, 85]}, {\"name\": \"Yozio\", \"type\": \"scatter\", \"x\": [\"2016Q1\", \"2016Q2\", \"2016Q3\", \"2016Q4\", \"2017Q1\", \"2017Q2\", \"2017Q3\", \"2017Q4\", \"2018Q1\", \"2018Q2\", \"2018Q3\", \"2018Q4\"], \"y\": [64, 52, 33, 20, 48, 50, 59, 51, 49, 40, 67, 49]}, {\"name\": \"Zoonder\", \"type\": \"scatter\", \"x\": [\"2016Q1\", \"2016Q2\", \"2016Q3\", \"2016Q4\", \"2017Q1\", \"2017Q2\", \"2017Q3\", \"2017Q4\", \"2018Q1\", \"2018Q2\", \"2018Q3\", \"2018Q4\"], \"y\": [36, 34, 36, 10, 25, 36, 36, 42, 28, 39, 32, 42]}, {\"name\": \"Zooxo\", \"type\": \"scatter\", \"x\": [\"2016Q1\", \"2016Q2\", \"2016Q3\", \"2016Q4\", \"2017Q1\", \"2017Q2\", \"2017Q3\", \"2017Q4\", \"2018Q1\", \"2018Q2\", \"2018Q3\", \"2018Q4\"], \"y\": [121, 144, 91, 39, 136, 117, 134, 151, 139, 151, 147, 134]}],\n",
       "                        {\"template\": {\"data\": {\"bar\": [{\"error_x\": {\"color\": \"#2a3f5f\"}, \"error_y\": {\"color\": \"#2a3f5f\"}, \"marker\": {\"line\": {\"color\": \"#E5ECF6\", \"width\": 0.5}}, \"type\": \"bar\"}], \"barpolar\": [{\"marker\": {\"line\": {\"color\": \"#E5ECF6\", \"width\": 0.5}}, \"type\": \"barpolar\"}], \"carpet\": [{\"aaxis\": {\"endlinecolor\": \"#2a3f5f\", \"gridcolor\": \"white\", \"linecolor\": \"white\", \"minorgridcolor\": \"white\", \"startlinecolor\": \"#2a3f5f\"}, \"baxis\": {\"endlinecolor\": \"#2a3f5f\", \"gridcolor\": \"white\", \"linecolor\": \"white\", \"minorgridcolor\": \"white\", \"startlinecolor\": \"#2a3f5f\"}, \"type\": \"carpet\"}], \"choropleth\": [{\"colorbar\": {\"outlinewidth\": 0, \"ticks\": \"\"}, \"type\": \"choropleth\"}], \"contour\": [{\"colorbar\": {\"outlinewidth\": 0, \"ticks\": \"\"}, \"colorscale\": [[0.0, \"#0d0887\"], [0.1111111111111111, \"#46039f\"], [0.2222222222222222, \"#7201a8\"], [0.3333333333333333, \"#9c179e\"], [0.4444444444444444, \"#bd3786\"], [0.5555555555555556, \"#d8576b\"], [0.6666666666666666, \"#ed7953\"], [0.7777777777777778, \"#fb9f3a\"], [0.8888888888888888, \"#fdca26\"], [1.0, \"#f0f921\"]], \"type\": \"contour\"}], \"contourcarpet\": [{\"colorbar\": {\"outlinewidth\": 0, \"ticks\": \"\"}, \"type\": \"contourcarpet\"}], \"heatmap\": [{\"colorbar\": {\"outlinewidth\": 0, \"ticks\": \"\"}, \"colorscale\": [[0.0, \"#0d0887\"], [0.1111111111111111, \"#46039f\"], [0.2222222222222222, \"#7201a8\"], [0.3333333333333333, \"#9c179e\"], [0.4444444444444444, \"#bd3786\"], [0.5555555555555556, \"#d8576b\"], [0.6666666666666666, \"#ed7953\"], [0.7777777777777778, \"#fb9f3a\"], [0.8888888888888888, \"#fdca26\"], [1.0, \"#f0f921\"]], \"type\": \"heatmap\"}], \"heatmapgl\": [{\"colorbar\": {\"outlinewidth\": 0, \"ticks\": \"\"}, \"colorscale\": [[0.0, \"#0d0887\"], [0.1111111111111111, \"#46039f\"], [0.2222222222222222, \"#7201a8\"], [0.3333333333333333, \"#9c179e\"], [0.4444444444444444, \"#bd3786\"], [0.5555555555555556, \"#d8576b\"], [0.6666666666666666, \"#ed7953\"], [0.7777777777777778, \"#fb9f3a\"], [0.8888888888888888, \"#fdca26\"], [1.0, \"#f0f921\"]], \"type\": \"heatmapgl\"}], \"histogram\": [{\"marker\": {\"colorbar\": {\"outlinewidth\": 0, \"ticks\": \"\"}}, \"type\": \"histogram\"}], \"histogram2d\": [{\"colorbar\": {\"outlinewidth\": 0, \"ticks\": \"\"}, \"colorscale\": [[0.0, \"#0d0887\"], [0.1111111111111111, \"#46039f\"], [0.2222222222222222, \"#7201a8\"], [0.3333333333333333, \"#9c179e\"], [0.4444444444444444, \"#bd3786\"], [0.5555555555555556, \"#d8576b\"], [0.6666666666666666, \"#ed7953\"], [0.7777777777777778, \"#fb9f3a\"], [0.8888888888888888, \"#fdca26\"], [1.0, \"#f0f921\"]], \"type\": \"histogram2d\"}], \"histogram2dcontour\": [{\"colorbar\": {\"outlinewidth\": 0, \"ticks\": \"\"}, \"colorscale\": [[0.0, \"#0d0887\"], [0.1111111111111111, \"#46039f\"], [0.2222222222222222, \"#7201a8\"], [0.3333333333333333, \"#9c179e\"], [0.4444444444444444, \"#bd3786\"], [0.5555555555555556, \"#d8576b\"], [0.6666666666666666, \"#ed7953\"], [0.7777777777777778, \"#fb9f3a\"], [0.8888888888888888, \"#fdca26\"], [1.0, \"#f0f921\"]], \"type\": \"histogram2dcontour\"}], \"mesh3d\": [{\"colorbar\": {\"outlinewidth\": 0, \"ticks\": \"\"}, \"type\": \"mesh3d\"}], \"parcoords\": [{\"line\": {\"colorbar\": {\"outlinewidth\": 0, \"ticks\": \"\"}}, \"type\": \"parcoords\"}], \"pie\": [{\"automargin\": true, \"type\": \"pie\"}], \"scatter\": [{\"marker\": {\"colorbar\": {\"outlinewidth\": 0, \"ticks\": \"\"}}, \"type\": \"scatter\"}], \"scatter3d\": [{\"line\": {\"colorbar\": {\"outlinewidth\": 0, \"ticks\": \"\"}}, \"marker\": {\"colorbar\": {\"outlinewidth\": 0, \"ticks\": \"\"}}, \"type\": \"scatter3d\"}], \"scattercarpet\": [{\"marker\": {\"colorbar\": {\"outlinewidth\": 0, \"ticks\": \"\"}}, \"type\": \"scattercarpet\"}], \"scattergeo\": [{\"marker\": {\"colorbar\": {\"outlinewidth\": 0, \"ticks\": \"\"}}, \"type\": \"scattergeo\"}], \"scattergl\": [{\"marker\": {\"colorbar\": {\"outlinewidth\": 0, \"ticks\": \"\"}}, \"type\": \"scattergl\"}], \"scattermapbox\": [{\"marker\": {\"colorbar\": {\"outlinewidth\": 0, \"ticks\": \"\"}}, \"type\": \"scattermapbox\"}], \"scatterpolar\": [{\"marker\": {\"colorbar\": {\"outlinewidth\": 0, \"ticks\": \"\"}}, \"type\": \"scatterpolar\"}], \"scatterpolargl\": [{\"marker\": {\"colorbar\": {\"outlinewidth\": 0, \"ticks\": \"\"}}, \"type\": \"scatterpolargl\"}], \"scatterternary\": [{\"marker\": {\"colorbar\": {\"outlinewidth\": 0, \"ticks\": \"\"}}, \"type\": \"scatterternary\"}], \"surface\": [{\"colorbar\": {\"outlinewidth\": 0, \"ticks\": \"\"}, \"colorscale\": [[0.0, \"#0d0887\"], [0.1111111111111111, \"#46039f\"], [0.2222222222222222, \"#7201a8\"], [0.3333333333333333, \"#9c179e\"], [0.4444444444444444, \"#bd3786\"], [0.5555555555555556, \"#d8576b\"], [0.6666666666666666, \"#ed7953\"], [0.7777777777777778, \"#fb9f3a\"], [0.8888888888888888, \"#fdca26\"], [1.0, \"#f0f921\"]], \"type\": \"surface\"}], \"table\": [{\"cells\": {\"fill\": {\"color\": \"#EBF0F8\"}, \"line\": {\"color\": \"white\"}}, \"header\": {\"fill\": {\"color\": \"#C8D4E3\"}, \"line\": {\"color\": \"white\"}}, \"type\": \"table\"}]}, \"layout\": {\"annotationdefaults\": {\"arrowcolor\": \"#2a3f5f\", \"arrowhead\": 0, \"arrowwidth\": 1}, \"coloraxis\": {\"colorbar\": {\"outlinewidth\": 0, \"ticks\": \"\"}}, \"colorscale\": {\"diverging\": [[0, \"#8e0152\"], [0.1, \"#c51b7d\"], [0.2, \"#de77ae\"], [0.3, \"#f1b6da\"], [0.4, \"#fde0ef\"], [0.5, \"#f7f7f7\"], [0.6, \"#e6f5d0\"], [0.7, \"#b8e186\"], [0.8, \"#7fbc41\"], [0.9, \"#4d9221\"], [1, \"#276419\"]], \"sequential\": [[0.0, \"#0d0887\"], [0.1111111111111111, \"#46039f\"], [0.2222222222222222, \"#7201a8\"], [0.3333333333333333, \"#9c179e\"], [0.4444444444444444, \"#bd3786\"], [0.5555555555555556, \"#d8576b\"], [0.6666666666666666, \"#ed7953\"], [0.7777777777777778, \"#fb9f3a\"], [0.8888888888888888, \"#fdca26\"], [1.0, \"#f0f921\"]], \"sequentialminus\": [[0.0, \"#0d0887\"], [0.1111111111111111, \"#46039f\"], [0.2222222222222222, \"#7201a8\"], [0.3333333333333333, \"#9c179e\"], [0.4444444444444444, \"#bd3786\"], [0.5555555555555556, \"#d8576b\"], [0.6666666666666666, \"#ed7953\"], [0.7777777777777778, \"#fb9f3a\"], [0.8888888888888888, \"#fdca26\"], [1.0, \"#f0f921\"]]}, \"colorway\": [\"#636efa\", \"#EF553B\", \"#00cc96\", \"#ab63fa\", \"#FFA15A\", \"#19d3f3\", \"#FF6692\", \"#B6E880\", \"#FF97FF\", \"#FECB52\"], \"font\": {\"color\": \"#2a3f5f\"}, \"geo\": {\"bgcolor\": \"white\", \"lakecolor\": \"white\", \"landcolor\": \"#E5ECF6\", \"showlakes\": true, \"showland\": true, \"subunitcolor\": \"white\"}, \"hoverlabel\": {\"align\": \"left\"}, \"hovermode\": \"closest\", \"mapbox\": {\"style\": \"light\"}, \"paper_bgcolor\": \"white\", \"plot_bgcolor\": \"#E5ECF6\", \"polar\": {\"angularaxis\": {\"gridcolor\": \"white\", \"linecolor\": \"white\", \"ticks\": \"\"}, \"bgcolor\": \"#E5ECF6\", \"radialaxis\": {\"gridcolor\": \"white\", \"linecolor\": \"white\", \"ticks\": \"\"}}, \"scene\": {\"xaxis\": {\"backgroundcolor\": \"#E5ECF6\", \"gridcolor\": \"white\", \"gridwidth\": 2, \"linecolor\": \"white\", \"showbackground\": true, \"ticks\": \"\", \"zerolinecolor\": \"white\"}, \"yaxis\": {\"backgroundcolor\": \"#E5ECF6\", \"gridcolor\": \"white\", \"gridwidth\": 2, \"linecolor\": \"white\", \"showbackground\": true, \"ticks\": \"\", \"zerolinecolor\": \"white\"}, \"zaxis\": {\"backgroundcolor\": \"#E5ECF6\", \"gridcolor\": \"white\", \"gridwidth\": 2, \"linecolor\": \"white\", \"showbackground\": true, \"ticks\": \"\", \"zerolinecolor\": \"white\"}}, \"shapedefaults\": {\"line\": {\"color\": \"#2a3f5f\"}}, \"ternary\": {\"aaxis\": {\"gridcolor\": \"white\", \"linecolor\": \"white\", \"ticks\": \"\"}, \"baxis\": {\"gridcolor\": \"white\", \"linecolor\": \"white\", \"ticks\": \"\"}, \"bgcolor\": \"#E5ECF6\", \"caxis\": {\"gridcolor\": \"white\", \"linecolor\": \"white\", \"ticks\": \"\"}}, \"title\": {\"x\": 0.05}, \"xaxis\": {\"automargin\": true, \"gridcolor\": \"white\", \"linecolor\": \"white\", \"ticks\": \"\", \"title\": {\"standoff\": 15}, \"zerolinecolor\": \"white\", \"zerolinewidth\": 2}, \"yaxis\": {\"automargin\": true, \"gridcolor\": \"white\", \"linecolor\": \"white\", \"ticks\": \"\", \"title\": {\"standoff\": 15}, \"zerolinecolor\": \"white\", \"zerolinewidth\": 2}}}, \"title\": {\"text\": \"Total sales per yearly quarter - All customers\"}, \"updatemenus\": [{\"active\": -1, \"buttons\": [{\"args\": [{\"visible\": [true, false, false, false, false, false, false, false, false, false, false, false, false, false, false, false, false, false, false, false, false, false, false, false, false, false, false, false]}, {\"title\": \"Total purchases per yearly quarter: Avaveo\"}], \"label\": \"Avaveo\", \"method\": \"update\"}, {\"args\": [{\"visible\": [false, true, false, false, false, false, false, false, false, false, false, false, false, false, false, false, false, false, false, false, false, false, false, false, false, false, false, false]}, {\"title\": \"Total purchases per yearly quarter: Brainsphere\"}], \"label\": \"Brainsphere\", \"method\": \"update\"}, {\"args\": [{\"visible\": [false, false, true, false, false, false, false, false, false, false, false, false, false, false, false, false, false, false, false, false, false, false, false, false, false, false, false, false]}, {\"title\": \"Total purchases per yearly quarter: Bubblemix\"}], \"label\": \"Bubblemix\", \"method\": \"update\"}, {\"args\": [{\"visible\": [false, false, false, true, false, false, false, false, false, false, false, false, false, false, false, false, false, false, false, false, false, false, false, false, false, false, false, false]}, {\"title\": \"Total purchases per yearly quarter: Buzzbean\"}], \"label\": \"Buzzbean\", \"method\": \"update\"}, {\"args\": [{\"visible\": [false, false, false, false, true, false, false, false, false, false, false, false, false, false, false, false, false, false, false, false, false, false, false, false, false, false, false, false]}, {\"title\": \"Total purchases per yearly quarter: Chatterbridge\"}], \"label\": \"Chatterbridge\", \"method\": \"update\"}, {\"args\": [{\"visible\": [false, false, false, false, false, true, false, false, false, false, false, false, false, false, false, false, false, false, false, false, false, false, false, false, false, false, false, false]}, {\"title\": \"Total purchases per yearly quarter: Eimbee\"}], \"label\": \"Eimbee\", \"method\": \"update\"}, {\"args\": [{\"visible\": [false, false, false, false, false, false, true, false, false, false, false, false, false, false, false, false, false, false, false, false, false, false, false, false, false, false, false, false]}, {\"title\": \"Total purchases per yearly quarter: Flipstorm\"}], \"label\": \"Flipstorm\", \"method\": \"update\"}, {\"args\": [{\"visible\": [false, false, false, false, false, false, false, true, false, false, false, false, false, false, false, false, false, false, false, false, false, false, false, false, false, false, false, false]}, {\"title\": \"Total purchases per yearly quarter: Gabcube\"}], \"label\": \"Gabcube\", \"method\": \"update\"}, {\"args\": [{\"visible\": [false, false, false, false, false, false, false, false, true, false, false, false, false, false, false, false, false, false, false, false, false, false, false, false, false, false, false, false]}, {\"title\": \"Total purchases per yearly quarter: Gabtune\"}], \"label\": \"Gabtune\", \"method\": \"update\"}, {\"args\": [{\"visible\": [false, false, false, false, false, false, false, false, false, true, false, false, false, false, false, false, false, false, false, false, false, false, false, false, false, false, false, false]}, {\"title\": \"Total purchases per yearly quarter: Gevee\"}], \"label\": \"Gevee\", \"method\": \"update\"}, {\"args\": [{\"visible\": [false, false, false, false, false, false, false, false, false, false, true, false, false, false, false, false, false, false, false, false, false, false, false, false, false, false, false, false]}, {\"title\": \"Total purchases per yearly quarter: Innojam\"}], \"label\": \"Innojam\", \"method\": \"update\"}, {\"args\": [{\"visible\": [false, false, false, false, false, false, false, false, false, false, false, true, false, false, false, false, false, false, false, false, false, false, false, false, false, false, false, false]}, {\"title\": \"Total purchases per yearly quarter: Kanoodle\"}], \"label\": \"Kanoodle\", \"method\": \"update\"}, {\"args\": [{\"visible\": [false, false, false, false, false, false, false, false, false, false, false, false, true, false, false, false, false, false, false, false, false, false, false, false, false, false, false, false]}, {\"title\": \"Total purchases per yearly quarter: Lajo\"}], \"label\": \"Lajo\", \"method\": \"update\"}, {\"args\": [{\"visible\": [false, false, false, false, false, false, false, false, false, false, false, false, false, true, false, false, false, false, false, false, false, false, false, false, false, false, false, false]}, {\"title\": \"Total purchases per yearly quarter: Ntags\"}], \"label\": \"Ntags\", \"method\": \"update\"}, {\"args\": [{\"visible\": [false, false, false, false, false, false, false, false, false, false, false, false, false, false, true, false, false, false, false, false, false, false, false, false, false, false, false, false]}, {\"title\": \"Total purchases per yearly quarter: Realpoint\"}], \"label\": \"Realpoint\", \"method\": \"update\"}, {\"args\": [{\"visible\": [false, false, false, false, false, false, false, false, false, false, false, false, false, false, false, true, false, false, false, false, false, false, false, false, false, false, false, false]}, {\"title\": \"Total purchases per yearly quarter: Rhycero\"}], \"label\": \"Rhycero\", \"method\": \"update\"}, {\"args\": [{\"visible\": [false, false, false, false, false, false, false, false, false, false, false, false, false, false, false, false, true, false, false, false, false, false, false, false, false, false, false, false]}, {\"title\": \"Total purchases per yearly quarter: Riffpath\"}], \"label\": \"Riffpath\", \"method\": \"update\"}, {\"args\": [{\"visible\": [false, false, false, false, false, false, false, false, false, false, false, false, false, false, false, false, false, true, false, false, false, false, false, false, false, false, false, false]}, {\"title\": \"Total purchases per yearly quarter: Roodel\"}], \"label\": \"Roodel\", \"method\": \"update\"}, {\"args\": [{\"visible\": [false, false, false, false, false, false, false, false, false, false, false, false, false, false, false, false, false, false, true, false, false, false, false, false, false, false, false, false]}, {\"title\": \"Total purchases per yearly quarter: Shufflebeat\"}], \"label\": \"Shufflebeat\", \"method\": \"update\"}, {\"args\": [{\"visible\": [false, false, false, false, false, false, false, false, false, false, false, false, false, false, false, false, false, false, false, true, false, false, false, false, false, false, false, false]}, {\"title\": \"Total purchases per yearly quarter: Tagtune\"}], \"label\": \"Tagtune\", \"method\": \"update\"}, {\"args\": [{\"visible\": [false, false, false, false, false, false, false, false, false, false, false, false, false, false, false, false, false, false, false, false, true, false, false, false, false, false, false, false]}, {\"title\": \"Total purchases per yearly quarter: Teklist\"}], \"label\": \"Teklist\", \"method\": \"update\"}, {\"args\": [{\"visible\": [false, false, false, false, false, false, false, false, false, false, false, false, false, false, false, false, false, false, false, false, false, true, false, false, false, false, false, false]}, {\"title\": \"Total purchases per yearly quarter: Thoughtmix\"}], \"label\": \"Thoughtmix\", \"method\": \"update\"}, {\"args\": [{\"visible\": [false, false, false, false, false, false, false, false, false, false, false, false, false, false, false, false, false, false, false, false, false, false, true, false, false, false, false, false]}, {\"title\": \"Total purchases per yearly quarter: Twitterbeat\"}], \"label\": \"Twitterbeat\", \"method\": \"update\"}, {\"args\": [{\"visible\": [false, false, false, false, false, false, false, false, false, false, false, false, false, false, false, false, false, false, false, false, false, false, false, true, false, false, false, false]}, {\"title\": \"Total purchases per yearly quarter: Voomm\"}], \"label\": \"Voomm\", \"method\": \"update\"}, {\"args\": [{\"visible\": [false, false, false, false, false, false, false, false, false, false, false, false, false, false, false, false, false, false, false, false, false, false, false, false, true, false, false, false]}, {\"title\": \"Total purchases per yearly quarter: Wordify\"}], \"label\": \"Wordify\", \"method\": \"update\"}, {\"args\": [{\"visible\": [false, false, false, false, false, false, false, false, false, false, false, false, false, false, false, false, false, false, false, false, false, false, false, false, false, true, false, false]}, {\"title\": \"Total purchases per yearly quarter: Yozio\"}], \"label\": \"Yozio\", \"method\": \"update\"}, {\"args\": [{\"visible\": [false, false, false, false, false, false, false, false, false, false, false, false, false, false, false, false, false, false, false, false, false, false, false, false, false, false, true, false]}, {\"title\": \"Total purchases per yearly quarter: Zoonder\"}], \"label\": \"Zoonder\", \"method\": \"update\"}, {\"args\": [{\"visible\": [false, false, false, false, false, false, false, false, false, false, false, false, false, false, false, false, false, false, false, false, false, false, false, false, false, false, false, true]}, {\"title\": \"Total purchases per yearly quarter: Zooxo\"}], \"label\": \"Zooxo\", \"method\": \"update\"}]}], \"yaxis\": {\"title\": {\"text\": \"Sales\"}}},\n",
       "                        {\"responsive\": true}\n",
       "                    ).then(function(){\n",
       "                            \n",
       "var gd = document.getElementById('4db6b13c-5069-4f9e-ad9e-46ee8cfbb285');\n",
       "var x = new MutationObserver(function (mutations, observer) {{\n",
       "        var display = window.getComputedStyle(gd).display;\n",
       "        if (!display || display === 'none') {{\n",
       "            console.log([gd, 'removed!']);\n",
       "            Plotly.purge(gd);\n",
       "            observer.disconnect();\n",
       "        }}\n",
       "}});\n",
       "\n",
       "// Listen for the removal of the full notebook cells\n",
       "var notebookContainer = gd.closest('#notebook-container');\n",
       "if (notebookContainer) {{\n",
       "    x.observe(notebookContainer, {childList: true});\n",
       "}}\n",
       "\n",
       "// Listen for the clearing of the current output cell\n",
       "var outputEl = gd.closest('.output');\n",
       "if (outputEl) {{\n",
       "    x.observe(outputEl, {childList: true});\n",
       "}}\n",
       "\n",
       "                        })\n",
       "                };\n",
       "                \n",
       "            </script>\n",
       "        </div>\n",
       "</body>\n",
       "</html>"
      ]
     },
     "metadata": {
      "tags": []
     },
     "output_type": "display_data"
    }
   ],
   "source": [
    "# Create figure\n",
    "fig = go.Figure()\n",
    "\n",
    "# Get all companies in sorted order\n",
    "all_companies = sorted(quarter_purchases_df['company'].unique())\n",
    "\n",
    "# Add the plots for all the companies\n",
    "for com in all_companies:\n",
    "  # Filter the dataframe\n",
    "  filter_quater_df = quarter_purchases_df[quarter_purchases_df['company'] == com]\n",
    "  \n",
    "  # Add the graph to the plot\n",
    "  fig.add_trace(\n",
    "      go.Scatter(x=filter_quater_df['date_quarter'], \n",
    "                 y=filter_quater_df['purchases'],\n",
    "                 name=com)\n",
    "    )\n",
    "\n",
    "\n",
    "# Create the dropdown menu and its options\n",
    "visibility = [False]*len(all_companies)\n",
    "plot_buttons = [dict(label=all_companies[i],\n",
    "                     method='update',\n",
    "                     args=[{\"visible\": [visibility[j] if i!=j else True for j in range(len(visibility))]},\n",
    "                           {\"title\": f'Total purchases per yearly quarter: {all_companies[i]}'}]) for i in range(len(all_companies))]\n",
    "\n",
    "# Update the figures title and axis labels\n",
    "fig.update_layout(\n",
    "    title = dict(\n",
    "        text='Total sales per yearly quarter - All customers'\n",
    "    ),\n",
    "    yaxis = dict(\n",
    "        title='Sales'\n",
    "    ),\n",
    "    updatemenus=[ \n",
    "        dict( \n",
    "            active=-1, \n",
    "            buttons=list(plot_buttons), \n",
    "        ) \n",
    "    ],\n",
    ")\n",
    "\n",
    "# Show the figure\n",
    "fig.show()"
   ]
  },
  {
   "cell_type": "markdown",
   "metadata": {
    "id": "n_vGRZTGUTYr"
   },
   "source": [
    "To see the different customers, it is possible to use either the legends or the dropdown menu to filter the data.\n",
    "\n",
    "Looking at all graphs at the same time, it's clear that the total sales for all (or most, as it's hard to see) customers had a dip in the fourth quarter of 2016 (as mentioned in part 2.3). But afterwards, already in the first quarter of 2017, the total amount of sales starts rising again for many of the customers. For some customers, the number of sales have risen slowly since, varying for each year. For others the number of sales have returned to a similar level before the dip, but then the sales have stagnated (e.g. for *Brainsphere*). For a few companies the total amount of sales didn't just dip, but have fallen steady since the first transaction date (e.g. for *Flipstorm*)."
   ]
  },
  {
   "cell_type": "markdown",
   "metadata": {
    "id": "Iqt7w6L7O69l"
   },
   "source": [
    "#### 2.6 Find profit-per-customer trends. (7.5 pts)\n",
    "\n",
    "**Find the customers for which profit declined in 2018, relative to 2016. By how much has profit declined? What are the three customers for which profit is declining the most?**\n",
    "\n",
    "**Compute the answer, plot appropriately, and write a paragraph describing the findings.**\n"
   ]
  },
  {
   "cell_type": "markdown",
   "metadata": {
    "id": "4haEyxGLvgUT"
   },
   "source": [
    "To find the customers which profit declined in 2018 relative to 2016, we have to find the revenue for each year. \n",
    "A query is made, which creates a temporary table. In this temporary table the `company` column is chosen, and three new columns is created. The first of these columns is the sum of the price for all rows with a date in 2016. The second column is the same, but for 2018. And the third column is the difference between these two columns. To get the difference for each customer, the table is grouped by the `company` column. \n",
    "Using the temporary table, a new table is created using all the columns from the temporary table and creating new column, displaying the difference in percent. \n",
    "The table is then filtered to only show the rows where the difference is negative. \n",
    "Finally the table is sorted by the difference in ascending order.\n",
    "\n",
    "To visualize this, a table and a bar plot is created:"
   ]
  },
  {
   "cell_type": "code",
   "execution_count": null,
   "metadata": {
    "id": "KClkLOwZO_6o"
   },
   "outputs": [],
   "source": [
    "# Create a query that makes a temporary table containing the comapanies and \n",
    "# their revenue in 2016 and 2018, as well as the \n",
    "# differene between these revenues.\n",
    "# Create a new table using these columns and creating an additional column \n",
    "# showing the percentwise decrease\n",
    "query = \"\"\"\n",
    "        WITH revenue_sql AS\n",
    "        (\n",
    "          SELECT company, \n",
    "                 SUM(CASE WHEN YEAR(date) = 2016 THEN price END) AS revenue_2016,\n",
    "                 SUM(CASE WHEN YEAR(date) = 2018 THEN price END) AS revenue_2018,\n",
    "                 SUM(CASE WHEN YEAR(date) = 2018 THEN price END) - SUM(CASE WHEN YEAR(date) = 2016 THEN price END) AS diff\n",
    "          FROM transactions_sql\n",
    "          GROUP BY company\n",
    "        )\n",
    "        SELECT company, \n",
    "               revenue_2016,\n",
    "               revenue_2018,\n",
    "               diff,\n",
    "               diff/revenue_2016 * 100 as percent\n",
    "        FROM revenue_sql\n",
    "        WHERE diff < 0\n",
    "        ORDER BY diff ASC\n",
    "        \"\"\"\n",
    "\n",
    "# Create dataframe\n",
    "yearly_revenue = spark.sql(query)\n",
    "yearly_revenue_df = yearly_revenue.toPandas()"
   ]
  },
  {
   "cell_type": "code",
   "execution_count": null,
   "metadata": {
    "colab": {
     "base_uri": "https://localhost:8080/",
     "height": 142
    },
    "id": "dBX0JCYEo_Sy",
    "outputId": "424ed54f-3ca9-4512-8dab-54c5d401901a"
   },
   "outputs": [
    {
     "data": {
      "text/html": [
       "<div>\n",
       "<style scoped>\n",
       "    .dataframe tbody tr th:only-of-type {\n",
       "        vertical-align: middle;\n",
       "    }\n",
       "\n",
       "    .dataframe tbody tr th {\n",
       "        vertical-align: top;\n",
       "    }\n",
       "\n",
       "    .dataframe thead th {\n",
       "        text-align: right;\n",
       "    }\n",
       "</style>\n",
       "<table border=\"1\" class=\"dataframe\">\n",
       "  <thead>\n",
       "    <tr style=\"text-align: right;\">\n",
       "      <th></th>\n",
       "      <th>company</th>\n",
       "      <th>revenue_2016</th>\n",
       "      <th>revenue_2018</th>\n",
       "      <th>diff</th>\n",
       "      <th>percent</th>\n",
       "    </tr>\n",
       "  </thead>\n",
       "  <tbody>\n",
       "    <tr>\n",
       "      <th>0</th>\n",
       "      <td>Flipstorm</td>\n",
       "      <td>503462.020019</td>\n",
       "      <td>10362.530037</td>\n",
       "      <td>-493099.489982</td>\n",
       "      <td>-97.941745</td>\n",
       "    </tr>\n",
       "    <tr>\n",
       "      <th>1</th>\n",
       "      <td>Voomm</td>\n",
       "      <td>108205.260330</td>\n",
       "      <td>1717.719971</td>\n",
       "      <td>-106487.540359</td>\n",
       "      <td>-98.412536</td>\n",
       "    </tr>\n",
       "    <tr>\n",
       "      <th>2</th>\n",
       "      <td>Gevee</td>\n",
       "      <td>6178.700027</td>\n",
       "      <td>5834.569984</td>\n",
       "      <td>-344.130043</td>\n",
       "      <td>-5.569619</td>\n",
       "    </tr>\n",
       "  </tbody>\n",
       "</table>\n",
       "</div>"
      ],
      "text/plain": [
       "     company   revenue_2016  revenue_2018           diff    percent\n",
       "0  Flipstorm  503462.020019  10362.530037 -493099.489982 -97.941745\n",
       "1      Voomm  108205.260330   1717.719971 -106487.540359 -98.412536\n",
       "2      Gevee    6178.700027   5834.569984    -344.130043  -5.569619"
      ]
     },
     "execution_count": 93,
     "metadata": {
      "tags": []
     },
     "output_type": "execute_result"
    }
   ],
   "source": [
    "# Show dataframe\n",
    "yearly_revenue_df"
   ]
  },
  {
   "cell_type": "code",
   "execution_count": null,
   "metadata": {
    "colab": {
     "base_uri": "https://localhost:8080/",
     "height": 542
    },
    "id": "PTZA6O4MpA_8",
    "outputId": "3a21c816-ef1e-4cf6-c44a-019002b18821"
   },
   "outputs": [
    {
     "data": {
      "text/html": [
       "<html>\n",
       "<head><meta charset=\"utf-8\" /></head>\n",
       "<body>\n",
       "    <div>\n",
       "            <script src=\"https://cdnjs.cloudflare.com/ajax/libs/mathjax/2.7.5/MathJax.js?config=TeX-AMS-MML_SVG\"></script><script type=\"text/javascript\">if (window.MathJax) {MathJax.Hub.Config({SVG: {font: \"STIX-Web\"}});}</script>\n",
       "                <script type=\"text/javascript\">window.PlotlyConfig = {MathJaxConfig: 'local'};</script>\n",
       "        <script src=\"https://cdn.plot.ly/plotly-latest.min.js\"></script>    \n",
       "            <div id=\"daaaf0ef-5816-4a80-b0c8-f2143a926dab\" class=\"plotly-graph-div\" style=\"height:525px; width:100%;\"></div>\n",
       "            <script type=\"text/javascript\">\n",
       "                \n",
       "                    window.PLOTLYENV=window.PLOTLYENV || {};\n",
       "                    \n",
       "                if (document.getElementById(\"daaaf0ef-5816-4a80-b0c8-f2143a926dab\")) {\n",
       "                    Plotly.newPlot(\n",
       "                        'daaaf0ef-5816-4a80-b0c8-f2143a926dab',\n",
       "                        [{\"name\": \"2016\", \"type\": \"bar\", \"x\": [\"Flipstorm\", \"Voomm\", \"Gevee\"], \"y\": [503462.0200185776, 108205.2603302002, 6178.70002746582]}, {\"name\": \"2018\", \"type\": \"bar\", \"x\": [\"Flipstorm\", \"Voomm\", \"Gevee\"], \"y\": [10362.53003692627, 1717.719970703125, 5834.569984436035]}],\n",
       "                        {\"barmode\": \"group\", \"template\": {\"data\": {\"bar\": [{\"error_x\": {\"color\": \"#2a3f5f\"}, \"error_y\": {\"color\": \"#2a3f5f\"}, \"marker\": {\"line\": {\"color\": \"#E5ECF6\", \"width\": 0.5}}, \"type\": \"bar\"}], \"barpolar\": [{\"marker\": {\"line\": {\"color\": \"#E5ECF6\", \"width\": 0.5}}, \"type\": \"barpolar\"}], \"carpet\": [{\"aaxis\": {\"endlinecolor\": \"#2a3f5f\", \"gridcolor\": \"white\", \"linecolor\": \"white\", \"minorgridcolor\": \"white\", \"startlinecolor\": \"#2a3f5f\"}, \"baxis\": {\"endlinecolor\": \"#2a3f5f\", \"gridcolor\": \"white\", \"linecolor\": \"white\", \"minorgridcolor\": \"white\", \"startlinecolor\": \"#2a3f5f\"}, \"type\": \"carpet\"}], \"choropleth\": [{\"colorbar\": {\"outlinewidth\": 0, \"ticks\": \"\"}, \"type\": \"choropleth\"}], \"contour\": [{\"colorbar\": {\"outlinewidth\": 0, \"ticks\": \"\"}, \"colorscale\": [[0.0, \"#0d0887\"], [0.1111111111111111, \"#46039f\"], [0.2222222222222222, \"#7201a8\"], [0.3333333333333333, \"#9c179e\"], [0.4444444444444444, \"#bd3786\"], [0.5555555555555556, \"#d8576b\"], [0.6666666666666666, \"#ed7953\"], [0.7777777777777778, \"#fb9f3a\"], [0.8888888888888888, \"#fdca26\"], [1.0, \"#f0f921\"]], \"type\": \"contour\"}], \"contourcarpet\": [{\"colorbar\": {\"outlinewidth\": 0, \"ticks\": \"\"}, \"type\": \"contourcarpet\"}], \"heatmap\": [{\"colorbar\": {\"outlinewidth\": 0, \"ticks\": \"\"}, \"colorscale\": [[0.0, \"#0d0887\"], [0.1111111111111111, \"#46039f\"], [0.2222222222222222, \"#7201a8\"], [0.3333333333333333, \"#9c179e\"], [0.4444444444444444, \"#bd3786\"], [0.5555555555555556, \"#d8576b\"], [0.6666666666666666, \"#ed7953\"], [0.7777777777777778, \"#fb9f3a\"], [0.8888888888888888, \"#fdca26\"], [1.0, \"#f0f921\"]], \"type\": \"heatmap\"}], \"heatmapgl\": [{\"colorbar\": {\"outlinewidth\": 0, \"ticks\": \"\"}, \"colorscale\": [[0.0, \"#0d0887\"], [0.1111111111111111, \"#46039f\"], [0.2222222222222222, \"#7201a8\"], [0.3333333333333333, \"#9c179e\"], [0.4444444444444444, \"#bd3786\"], [0.5555555555555556, \"#d8576b\"], [0.6666666666666666, \"#ed7953\"], [0.7777777777777778, \"#fb9f3a\"], [0.8888888888888888, \"#fdca26\"], [1.0, \"#f0f921\"]], \"type\": \"heatmapgl\"}], \"histogram\": [{\"marker\": {\"colorbar\": {\"outlinewidth\": 0, \"ticks\": \"\"}}, \"type\": \"histogram\"}], \"histogram2d\": [{\"colorbar\": {\"outlinewidth\": 0, \"ticks\": \"\"}, \"colorscale\": [[0.0, \"#0d0887\"], [0.1111111111111111, \"#46039f\"], [0.2222222222222222, \"#7201a8\"], [0.3333333333333333, \"#9c179e\"], [0.4444444444444444, \"#bd3786\"], [0.5555555555555556, \"#d8576b\"], [0.6666666666666666, \"#ed7953\"], [0.7777777777777778, \"#fb9f3a\"], [0.8888888888888888, \"#fdca26\"], [1.0, \"#f0f921\"]], \"type\": \"histogram2d\"}], \"histogram2dcontour\": [{\"colorbar\": {\"outlinewidth\": 0, \"ticks\": \"\"}, \"colorscale\": [[0.0, \"#0d0887\"], [0.1111111111111111, \"#46039f\"], [0.2222222222222222, \"#7201a8\"], [0.3333333333333333, \"#9c179e\"], [0.4444444444444444, \"#bd3786\"], [0.5555555555555556, \"#d8576b\"], [0.6666666666666666, \"#ed7953\"], [0.7777777777777778, \"#fb9f3a\"], [0.8888888888888888, \"#fdca26\"], [1.0, \"#f0f921\"]], \"type\": \"histogram2dcontour\"}], \"mesh3d\": [{\"colorbar\": {\"outlinewidth\": 0, \"ticks\": \"\"}, \"type\": \"mesh3d\"}], \"parcoords\": [{\"line\": {\"colorbar\": {\"outlinewidth\": 0, \"ticks\": \"\"}}, \"type\": \"parcoords\"}], \"pie\": [{\"automargin\": true, \"type\": \"pie\"}], \"scatter\": [{\"marker\": {\"colorbar\": {\"outlinewidth\": 0, \"ticks\": \"\"}}, \"type\": \"scatter\"}], \"scatter3d\": [{\"line\": {\"colorbar\": {\"outlinewidth\": 0, \"ticks\": \"\"}}, \"marker\": {\"colorbar\": {\"outlinewidth\": 0, \"ticks\": \"\"}}, \"type\": \"scatter3d\"}], \"scattercarpet\": [{\"marker\": {\"colorbar\": {\"outlinewidth\": 0, \"ticks\": \"\"}}, \"type\": \"scattercarpet\"}], \"scattergeo\": [{\"marker\": {\"colorbar\": {\"outlinewidth\": 0, \"ticks\": \"\"}}, \"type\": \"scattergeo\"}], \"scattergl\": [{\"marker\": {\"colorbar\": {\"outlinewidth\": 0, \"ticks\": \"\"}}, \"type\": \"scattergl\"}], \"scattermapbox\": [{\"marker\": {\"colorbar\": {\"outlinewidth\": 0, \"ticks\": \"\"}}, \"type\": \"scattermapbox\"}], \"scatterpolar\": [{\"marker\": {\"colorbar\": {\"outlinewidth\": 0, \"ticks\": \"\"}}, \"type\": \"scatterpolar\"}], \"scatterpolargl\": [{\"marker\": {\"colorbar\": {\"outlinewidth\": 0, \"ticks\": \"\"}}, \"type\": \"scatterpolargl\"}], \"scatterternary\": [{\"marker\": {\"colorbar\": {\"outlinewidth\": 0, \"ticks\": \"\"}}, \"type\": \"scatterternary\"}], \"surface\": [{\"colorbar\": {\"outlinewidth\": 0, \"ticks\": \"\"}, \"colorscale\": [[0.0, \"#0d0887\"], [0.1111111111111111, \"#46039f\"], [0.2222222222222222, \"#7201a8\"], [0.3333333333333333, \"#9c179e\"], [0.4444444444444444, \"#bd3786\"], [0.5555555555555556, \"#d8576b\"], [0.6666666666666666, \"#ed7953\"], [0.7777777777777778, \"#fb9f3a\"], [0.8888888888888888, \"#fdca26\"], [1.0, \"#f0f921\"]], \"type\": \"surface\"}], \"table\": [{\"cells\": {\"fill\": {\"color\": \"#EBF0F8\"}, \"line\": {\"color\": \"white\"}}, \"header\": {\"fill\": {\"color\": \"#C8D4E3\"}, \"line\": {\"color\": \"white\"}}, \"type\": \"table\"}]}, \"layout\": {\"annotationdefaults\": {\"arrowcolor\": \"#2a3f5f\", \"arrowhead\": 0, \"arrowwidth\": 1}, \"coloraxis\": {\"colorbar\": {\"outlinewidth\": 0, \"ticks\": \"\"}}, \"colorscale\": {\"diverging\": [[0, \"#8e0152\"], [0.1, \"#c51b7d\"], [0.2, \"#de77ae\"], [0.3, \"#f1b6da\"], [0.4, \"#fde0ef\"], [0.5, \"#f7f7f7\"], [0.6, \"#e6f5d0\"], [0.7, \"#b8e186\"], [0.8, \"#7fbc41\"], [0.9, \"#4d9221\"], [1, \"#276419\"]], \"sequential\": [[0.0, \"#0d0887\"], [0.1111111111111111, \"#46039f\"], [0.2222222222222222, \"#7201a8\"], [0.3333333333333333, \"#9c179e\"], [0.4444444444444444, \"#bd3786\"], [0.5555555555555556, \"#d8576b\"], [0.6666666666666666, \"#ed7953\"], [0.7777777777777778, \"#fb9f3a\"], [0.8888888888888888, \"#fdca26\"], [1.0, \"#f0f921\"]], \"sequentialminus\": [[0.0, \"#0d0887\"], [0.1111111111111111, \"#46039f\"], [0.2222222222222222, \"#7201a8\"], [0.3333333333333333, \"#9c179e\"], [0.4444444444444444, \"#bd3786\"], [0.5555555555555556, \"#d8576b\"], [0.6666666666666666, \"#ed7953\"], [0.7777777777777778, \"#fb9f3a\"], [0.8888888888888888, \"#fdca26\"], [1.0, \"#f0f921\"]]}, \"colorway\": [\"#636efa\", \"#EF553B\", \"#00cc96\", \"#ab63fa\", \"#FFA15A\", \"#19d3f3\", \"#FF6692\", \"#B6E880\", \"#FF97FF\", \"#FECB52\"], \"font\": {\"color\": \"#2a3f5f\"}, \"geo\": {\"bgcolor\": \"white\", \"lakecolor\": \"white\", \"landcolor\": \"#E5ECF6\", \"showlakes\": true, \"showland\": true, \"subunitcolor\": \"white\"}, \"hoverlabel\": {\"align\": \"left\"}, \"hovermode\": \"closest\", \"mapbox\": {\"style\": \"light\"}, \"paper_bgcolor\": \"white\", \"plot_bgcolor\": \"#E5ECF6\", \"polar\": {\"angularaxis\": {\"gridcolor\": \"white\", \"linecolor\": \"white\", \"ticks\": \"\"}, \"bgcolor\": \"#E5ECF6\", \"radialaxis\": {\"gridcolor\": \"white\", \"linecolor\": \"white\", \"ticks\": \"\"}}, \"scene\": {\"xaxis\": {\"backgroundcolor\": \"#E5ECF6\", \"gridcolor\": \"white\", \"gridwidth\": 2, \"linecolor\": \"white\", \"showbackground\": true, \"ticks\": \"\", \"zerolinecolor\": \"white\"}, \"yaxis\": {\"backgroundcolor\": \"#E5ECF6\", \"gridcolor\": \"white\", \"gridwidth\": 2, \"linecolor\": \"white\", \"showbackground\": true, \"ticks\": \"\", \"zerolinecolor\": \"white\"}, \"zaxis\": {\"backgroundcolor\": \"#E5ECF6\", \"gridcolor\": \"white\", \"gridwidth\": 2, \"linecolor\": \"white\", \"showbackground\": true, \"ticks\": \"\", \"zerolinecolor\": \"white\"}}, \"shapedefaults\": {\"line\": {\"color\": \"#2a3f5f\"}}, \"ternary\": {\"aaxis\": {\"gridcolor\": \"white\", \"linecolor\": \"white\", \"ticks\": \"\"}, \"baxis\": {\"gridcolor\": \"white\", \"linecolor\": \"white\", \"ticks\": \"\"}, \"bgcolor\": \"#E5ECF6\", \"caxis\": {\"gridcolor\": \"white\", \"linecolor\": \"white\", \"ticks\": \"\"}}, \"title\": {\"x\": 0.05}, \"xaxis\": {\"automargin\": true, \"gridcolor\": \"white\", \"linecolor\": \"white\", \"ticks\": \"\", \"title\": {\"standoff\": 15}, \"zerolinecolor\": \"white\", \"zerolinewidth\": 2}, \"yaxis\": {\"automargin\": true, \"gridcolor\": \"white\", \"linecolor\": \"white\", \"ticks\": \"\", \"title\": {\"standoff\": 15}, \"zerolinecolor\": \"white\", \"zerolinewidth\": 2}}}, \"title\": {\"text\": \"Revenue for companies in 2016 and 2018\"}, \"yaxis\": {\"title\": {\"text\": \"Revenue in Euro\"}}},\n",
       "                        {\"responsive\": true}\n",
       "                    ).then(function(){\n",
       "                            \n",
       "var gd = document.getElementById('daaaf0ef-5816-4a80-b0c8-f2143a926dab');\n",
       "var x = new MutationObserver(function (mutations, observer) {{\n",
       "        var display = window.getComputedStyle(gd).display;\n",
       "        if (!display || display === 'none') {{\n",
       "            console.log([gd, 'removed!']);\n",
       "            Plotly.purge(gd);\n",
       "            observer.disconnect();\n",
       "        }}\n",
       "}});\n",
       "\n",
       "// Listen for the removal of the full notebook cells\n",
       "var notebookContainer = gd.closest('#notebook-container');\n",
       "if (notebookContainer) {{\n",
       "    x.observe(notebookContainer, {childList: true});\n",
       "}}\n",
       "\n",
       "// Listen for the clearing of the current output cell\n",
       "var outputEl = gd.closest('.output');\n",
       "if (outputEl) {{\n",
       "    x.observe(outputEl, {childList: true});\n",
       "}}\n",
       "\n",
       "                        })\n",
       "                };\n",
       "                \n",
       "            </script>\n",
       "        </div>\n",
       "</body>\n",
       "</html>"
      ]
     },
     "metadata": {
      "tags": []
     },
     "output_type": "display_data"
    }
   ],
   "source": [
    "# Get all companies and revenue in 2016 and 2018\n",
    "companies = yearly_revenue_df.company.values\n",
    "revenue_2016 = yearly_revenue_df.revenue_2016.values\n",
    "revenue_2018 = yearly_revenue_df.revenue_2018.values\n",
    "\n",
    "# Create the figure and add the bar plots\n",
    "fig = go.Figure(data=[\n",
    "    go.Bar(name='2016', x=companies, y=revenue_2016),\n",
    "    go.Bar(name='2018', x=companies, y=revenue_2018)\n",
    "])\n",
    "\n",
    "# Change the bar mode\n",
    "# Add title and axis label\n",
    "fig.update_layout(\n",
    "    barmode='group',\n",
    "    title_text='Revenue for companies in 2016 and 2018',\n",
    "    yaxis=dict(\n",
    "        title='Revenue in Euro'\n",
    "    )\n",
    ")\n",
    "\n",
    "# Show the figure\n",
    "fig.show()"
   ]
  },
  {
   "cell_type": "markdown",
   "metadata": {
    "id": "F1C04CRAovoa"
   },
   "source": [
    "From the plot (or table) above, it's seen that there only is three companies where profit declined in 2018, relative to 2016: *Flipstorm*, *Voomm*, and *Gevee*.\n",
    "It's seen that *Flipstorm* had the biggest decrease in profit with difference of $-493099.5$ Euro, corresponding to a decrease of $-97.94\\%$ in profit.\n",
    "Second is *Voom* with a difference of $-106487.54$ Euro, but with a slightly higher percentwise decrease of $-98.41\\%$, as the drop compared to *Flipstorm's* is relatively larger.\n",
    "For *Gevee* the drop is not that large. The profit difference is only $-344.13$ Euro, which still corresponds to a $-5.57 \\%$ drop in profit.\n",
    "\n",
    "The large drops from *Flipstorm* and *Voomm* could be the result of different things. It could be that the customers have found a new main supplier for their parts, which is why the profit has decreased over the years. Another possibility is that the customers have faced economically difficulities, which they haven't recovered from.\n",
    "Regarding *Gevee*, the decrease is so small that there is no need to consider if the company has faced economical hardship. The difference could just be a small variation from year to year."
   ]
  },
  {
   "cell_type": "markdown",
   "metadata": {
    "id": "jiAsuVan3VIx"
   },
   "source": [
    "## Part 3: Your own insights (10 pts)\n",
    "\n",
    "Time to explore the data freely to create two valuable, actionable insights. This is your chance to show your ability to do fully self-directed data analysis. \n",
    "\n",
    "Your insights should be non-trivial. A trivial finding would be, e.g., \"the number of currencies in which we record transations is $n$\". That's not a particularly groundbreaking insight. Dig a bit deeper!"
   ]
  },
  {
   "cell_type": "markdown",
   "metadata": {
    "id": "e6Qugm1KO9Ws"
   },
   "source": [
    "#### 3.1. Add your own query #1 (5 pts)\n",
    "\n",
    "**Impress your boss providing a valuable data-driven insight. Why is this relevant? Describe the query in words and provide appropriate visualisations. Write a paragraph describing your findings.**"
   ]
  },
  {
   "cell_type": "markdown",
   "metadata": {
    "id": "rEzjvln4UGsD"
   },
   "source": [
    "We have looked into the sales for the different customers, but it could very interesting to see where in the world our sales happens and if the sales increase of decrease in the different countries. This information could be used to see which countries to focus on and if any measures is needed to boost sales for countries where sales are declining. It also reveals which new countries that could be possible to begin selling in. \n",
    "\n",
    "To get the sales for each country per year, a SQL query is made that takes the `country` column, the `date` column and transform it to only be the year, and a new column, showing the amount of sales per year, is created using the `COUNT` function.\n",
    "A `GROUP BY` is then used to group the sales by country and year. The table is then sorted by country and year in ascending order.\n",
    "\n",
    "To visualize this a grouped bar chart is created for each year and country, to show if the sales are rising or falling in the different countries:"
   ]
  },
  {
   "cell_type": "code",
   "execution_count": null,
   "metadata": {
    "id": "3L1nigLW3Ult"
   },
   "outputs": [],
   "source": [
    "# Create query to get the total sales every year for each country\n",
    "query = \"\"\"\n",
    "        SELECT country, \n",
    "               YEAR(date) AS year, \n",
    "               COUNT(1) AS sales\n",
    "        FROM transactions_sql\n",
    "        GROUP BY country, year\n",
    "        ORDER BY country, year ASC\n",
    "        \"\"\"\n",
    "\n",
    "# Create dataframe\n",
    "country_purchases = spark.sql(query)\n",
    "country_purchases_df = country_purchases.toPandas()"
   ]
  },
  {
   "cell_type": "code",
   "execution_count": null,
   "metadata": {
    "colab": {
     "base_uri": "https://localhost:8080/",
     "height": 542
    },
    "id": "yaySUGPeQjvl",
    "outputId": "e00a5d90-53b7-4a41-acc0-f1fdd0973574"
   },
   "outputs": [
    {
     "data": {
      "text/html": [
       "<html>\n",
       "<head><meta charset=\"utf-8\" /></head>\n",
       "<body>\n",
       "    <div>\n",
       "            <script src=\"https://cdnjs.cloudflare.com/ajax/libs/mathjax/2.7.5/MathJax.js?config=TeX-AMS-MML_SVG\"></script><script type=\"text/javascript\">if (window.MathJax) {MathJax.Hub.Config({SVG: {font: \"STIX-Web\"}});}</script>\n",
       "                <script type=\"text/javascript\">window.PlotlyConfig = {MathJaxConfig: 'local'};</script>\n",
       "        <script src=\"https://cdn.plot.ly/plotly-latest.min.js\"></script>    \n",
       "            <div id=\"9724a4fb-7a68-428b-8f44-6195b83c7445\" class=\"plotly-graph-div\" style=\"height:525px; width:100%;\"></div>\n",
       "            <script type=\"text/javascript\">\n",
       "                \n",
       "                    window.PLOTLYENV=window.PLOTLYENV || {};\n",
       "                    \n",
       "                if (document.getElementById(\"9724a4fb-7a68-428b-8f44-6195b83c7445\")) {\n",
       "                    Plotly.newPlot(\n",
       "                        '9724a4fb-7a68-428b-8f44-6195b83c7445',\n",
       "                        [{\"name\": \"2016\", \"type\": \"bar\", \"x\": [\"France\", \"Germany\", \"Greece\", \"Japan\", \"Netherlands\", \"Portugal\", \"Spain\", \"Switzerland\", \"United Kingdom\", \"United States\"], \"y\": [1224, 299, 869, 42, 118, 2072, 408, 1, 395, 338]}, {\"name\": \"2017\", \"type\": \"bar\", \"x\": [\"France\", \"Germany\", \"Greece\", \"Japan\", \"Netherlands\", \"Portugal\", \"Spain\", \"Switzerland\", \"United Kingdom\", \"United States\"], \"y\": [1112, 378, 414, 62, 150, 2549, 470, 3, 538, 447]}, {\"name\": \"2018\", \"type\": \"bar\", \"x\": [\"France\", \"Germany\", \"Greece\", \"Japan\", \"Netherlands\", \"Portugal\", \"Spain\", \"Switzerland\", \"United Kingdom\", \"United States\"], \"y\": [1109, 443, 338, 51, 159, 2726, 539, 7, 571, 464]}],\n",
       "                        {\"barmode\": \"group\", \"template\": {\"data\": {\"bar\": [{\"error_x\": {\"color\": \"#2a3f5f\"}, \"error_y\": {\"color\": \"#2a3f5f\"}, \"marker\": {\"line\": {\"color\": \"#E5ECF6\", \"width\": 0.5}}, \"type\": \"bar\"}], \"barpolar\": [{\"marker\": {\"line\": {\"color\": \"#E5ECF6\", \"width\": 0.5}}, \"type\": \"barpolar\"}], \"carpet\": [{\"aaxis\": {\"endlinecolor\": \"#2a3f5f\", \"gridcolor\": \"white\", \"linecolor\": \"white\", \"minorgridcolor\": \"white\", \"startlinecolor\": \"#2a3f5f\"}, \"baxis\": {\"endlinecolor\": \"#2a3f5f\", \"gridcolor\": \"white\", \"linecolor\": \"white\", \"minorgridcolor\": \"white\", \"startlinecolor\": \"#2a3f5f\"}, \"type\": \"carpet\"}], \"choropleth\": [{\"colorbar\": {\"outlinewidth\": 0, \"ticks\": \"\"}, \"type\": \"choropleth\"}], \"contour\": [{\"colorbar\": {\"outlinewidth\": 0, \"ticks\": \"\"}, \"colorscale\": [[0.0, \"#0d0887\"], [0.1111111111111111, \"#46039f\"], [0.2222222222222222, \"#7201a8\"], [0.3333333333333333, \"#9c179e\"], [0.4444444444444444, \"#bd3786\"], [0.5555555555555556, \"#d8576b\"], [0.6666666666666666, \"#ed7953\"], [0.7777777777777778, \"#fb9f3a\"], [0.8888888888888888, \"#fdca26\"], [1.0, \"#f0f921\"]], \"type\": \"contour\"}], \"contourcarpet\": [{\"colorbar\": {\"outlinewidth\": 0, \"ticks\": \"\"}, \"type\": \"contourcarpet\"}], \"heatmap\": [{\"colorbar\": {\"outlinewidth\": 0, \"ticks\": \"\"}, \"colorscale\": [[0.0, \"#0d0887\"], [0.1111111111111111, \"#46039f\"], [0.2222222222222222, \"#7201a8\"], [0.3333333333333333, \"#9c179e\"], [0.4444444444444444, \"#bd3786\"], [0.5555555555555556, \"#d8576b\"], [0.6666666666666666, \"#ed7953\"], [0.7777777777777778, \"#fb9f3a\"], [0.8888888888888888, \"#fdca26\"], [1.0, \"#f0f921\"]], \"type\": \"heatmap\"}], \"heatmapgl\": [{\"colorbar\": {\"outlinewidth\": 0, \"ticks\": \"\"}, \"colorscale\": [[0.0, \"#0d0887\"], [0.1111111111111111, \"#46039f\"], [0.2222222222222222, \"#7201a8\"], [0.3333333333333333, \"#9c179e\"], [0.4444444444444444, \"#bd3786\"], [0.5555555555555556, \"#d8576b\"], [0.6666666666666666, \"#ed7953\"], [0.7777777777777778, \"#fb9f3a\"], [0.8888888888888888, \"#fdca26\"], [1.0, \"#f0f921\"]], \"type\": \"heatmapgl\"}], \"histogram\": [{\"marker\": {\"colorbar\": {\"outlinewidth\": 0, \"ticks\": \"\"}}, \"type\": \"histogram\"}], \"histogram2d\": [{\"colorbar\": {\"outlinewidth\": 0, \"ticks\": \"\"}, \"colorscale\": [[0.0, \"#0d0887\"], [0.1111111111111111, \"#46039f\"], [0.2222222222222222, \"#7201a8\"], [0.3333333333333333, \"#9c179e\"], [0.4444444444444444, \"#bd3786\"], [0.5555555555555556, \"#d8576b\"], [0.6666666666666666, \"#ed7953\"], [0.7777777777777778, \"#fb9f3a\"], [0.8888888888888888, \"#fdca26\"], [1.0, \"#f0f921\"]], \"type\": \"histogram2d\"}], \"histogram2dcontour\": [{\"colorbar\": {\"outlinewidth\": 0, \"ticks\": \"\"}, \"colorscale\": [[0.0, \"#0d0887\"], [0.1111111111111111, \"#46039f\"], [0.2222222222222222, \"#7201a8\"], [0.3333333333333333, \"#9c179e\"], [0.4444444444444444, \"#bd3786\"], [0.5555555555555556, \"#d8576b\"], [0.6666666666666666, \"#ed7953\"], [0.7777777777777778, \"#fb9f3a\"], [0.8888888888888888, \"#fdca26\"], [1.0, \"#f0f921\"]], \"type\": \"histogram2dcontour\"}], \"mesh3d\": [{\"colorbar\": {\"outlinewidth\": 0, \"ticks\": \"\"}, \"type\": \"mesh3d\"}], \"parcoords\": [{\"line\": {\"colorbar\": {\"outlinewidth\": 0, \"ticks\": \"\"}}, \"type\": \"parcoords\"}], \"pie\": [{\"automargin\": true, \"type\": \"pie\"}], \"scatter\": [{\"marker\": {\"colorbar\": {\"outlinewidth\": 0, \"ticks\": \"\"}}, \"type\": \"scatter\"}], \"scatter3d\": [{\"line\": {\"colorbar\": {\"outlinewidth\": 0, \"ticks\": \"\"}}, \"marker\": {\"colorbar\": {\"outlinewidth\": 0, \"ticks\": \"\"}}, \"type\": \"scatter3d\"}], \"scattercarpet\": [{\"marker\": {\"colorbar\": {\"outlinewidth\": 0, \"ticks\": \"\"}}, \"type\": \"scattercarpet\"}], \"scattergeo\": [{\"marker\": {\"colorbar\": {\"outlinewidth\": 0, \"ticks\": \"\"}}, \"type\": \"scattergeo\"}], \"scattergl\": [{\"marker\": {\"colorbar\": {\"outlinewidth\": 0, \"ticks\": \"\"}}, \"type\": \"scattergl\"}], \"scattermapbox\": [{\"marker\": {\"colorbar\": {\"outlinewidth\": 0, \"ticks\": \"\"}}, \"type\": \"scattermapbox\"}], \"scatterpolar\": [{\"marker\": {\"colorbar\": {\"outlinewidth\": 0, \"ticks\": \"\"}}, \"type\": \"scatterpolar\"}], \"scatterpolargl\": [{\"marker\": {\"colorbar\": {\"outlinewidth\": 0, \"ticks\": \"\"}}, \"type\": \"scatterpolargl\"}], \"scatterternary\": [{\"marker\": {\"colorbar\": {\"outlinewidth\": 0, \"ticks\": \"\"}}, \"type\": \"scatterternary\"}], \"surface\": [{\"colorbar\": {\"outlinewidth\": 0, \"ticks\": \"\"}, \"colorscale\": [[0.0, \"#0d0887\"], [0.1111111111111111, \"#46039f\"], [0.2222222222222222, \"#7201a8\"], [0.3333333333333333, \"#9c179e\"], [0.4444444444444444, \"#bd3786\"], [0.5555555555555556, \"#d8576b\"], [0.6666666666666666, \"#ed7953\"], [0.7777777777777778, \"#fb9f3a\"], [0.8888888888888888, \"#fdca26\"], [1.0, \"#f0f921\"]], \"type\": \"surface\"}], \"table\": [{\"cells\": {\"fill\": {\"color\": \"#EBF0F8\"}, \"line\": {\"color\": \"white\"}}, \"header\": {\"fill\": {\"color\": \"#C8D4E3\"}, \"line\": {\"color\": \"white\"}}, \"type\": \"table\"}]}, \"layout\": {\"annotationdefaults\": {\"arrowcolor\": \"#2a3f5f\", \"arrowhead\": 0, \"arrowwidth\": 1}, \"coloraxis\": {\"colorbar\": {\"outlinewidth\": 0, \"ticks\": \"\"}}, \"colorscale\": {\"diverging\": [[0, \"#8e0152\"], [0.1, \"#c51b7d\"], [0.2, \"#de77ae\"], [0.3, \"#f1b6da\"], [0.4, \"#fde0ef\"], [0.5, \"#f7f7f7\"], [0.6, \"#e6f5d0\"], [0.7, \"#b8e186\"], [0.8, \"#7fbc41\"], [0.9, \"#4d9221\"], [1, \"#276419\"]], \"sequential\": [[0.0, \"#0d0887\"], [0.1111111111111111, \"#46039f\"], [0.2222222222222222, \"#7201a8\"], [0.3333333333333333, \"#9c179e\"], [0.4444444444444444, \"#bd3786\"], [0.5555555555555556, \"#d8576b\"], [0.6666666666666666, \"#ed7953\"], [0.7777777777777778, \"#fb9f3a\"], [0.8888888888888888, \"#fdca26\"], [1.0, \"#f0f921\"]], \"sequentialminus\": [[0.0, \"#0d0887\"], [0.1111111111111111, \"#46039f\"], [0.2222222222222222, \"#7201a8\"], [0.3333333333333333, \"#9c179e\"], [0.4444444444444444, \"#bd3786\"], [0.5555555555555556, \"#d8576b\"], [0.6666666666666666, \"#ed7953\"], [0.7777777777777778, \"#fb9f3a\"], [0.8888888888888888, \"#fdca26\"], [1.0, \"#f0f921\"]]}, \"colorway\": [\"#636efa\", \"#EF553B\", \"#00cc96\", \"#ab63fa\", \"#FFA15A\", \"#19d3f3\", \"#FF6692\", \"#B6E880\", \"#FF97FF\", \"#FECB52\"], \"font\": {\"color\": \"#2a3f5f\"}, \"geo\": {\"bgcolor\": \"white\", \"lakecolor\": \"white\", \"landcolor\": \"#E5ECF6\", \"showlakes\": true, \"showland\": true, \"subunitcolor\": \"white\"}, \"hoverlabel\": {\"align\": \"left\"}, \"hovermode\": \"closest\", \"mapbox\": {\"style\": \"light\"}, \"paper_bgcolor\": \"white\", \"plot_bgcolor\": \"#E5ECF6\", \"polar\": {\"angularaxis\": {\"gridcolor\": \"white\", \"linecolor\": \"white\", \"ticks\": \"\"}, \"bgcolor\": \"#E5ECF6\", \"radialaxis\": {\"gridcolor\": \"white\", \"linecolor\": \"white\", \"ticks\": \"\"}}, \"scene\": {\"xaxis\": {\"backgroundcolor\": \"#E5ECF6\", \"gridcolor\": \"white\", \"gridwidth\": 2, \"linecolor\": \"white\", \"showbackground\": true, \"ticks\": \"\", \"zerolinecolor\": \"white\"}, \"yaxis\": {\"backgroundcolor\": \"#E5ECF6\", \"gridcolor\": \"white\", \"gridwidth\": 2, \"linecolor\": \"white\", \"showbackground\": true, \"ticks\": \"\", \"zerolinecolor\": \"white\"}, \"zaxis\": {\"backgroundcolor\": \"#E5ECF6\", \"gridcolor\": \"white\", \"gridwidth\": 2, \"linecolor\": \"white\", \"showbackground\": true, \"ticks\": \"\", \"zerolinecolor\": \"white\"}}, \"shapedefaults\": {\"line\": {\"color\": \"#2a3f5f\"}}, \"ternary\": {\"aaxis\": {\"gridcolor\": \"white\", \"linecolor\": \"white\", \"ticks\": \"\"}, \"baxis\": {\"gridcolor\": \"white\", \"linecolor\": \"white\", \"ticks\": \"\"}, \"bgcolor\": \"#E5ECF6\", \"caxis\": {\"gridcolor\": \"white\", \"linecolor\": \"white\", \"ticks\": \"\"}}, \"title\": {\"x\": 0.05}, \"xaxis\": {\"automargin\": true, \"gridcolor\": \"white\", \"linecolor\": \"white\", \"ticks\": \"\", \"title\": {\"standoff\": 15}, \"zerolinecolor\": \"white\", \"zerolinewidth\": 2}, \"yaxis\": {\"automargin\": true, \"gridcolor\": \"white\", \"linecolor\": \"white\", \"ticks\": \"\", \"title\": {\"standoff\": 15}, \"zerolinecolor\": \"white\", \"zerolinewidth\": 2}}}, \"title\": {\"text\": \"Sales in different countries per year\"}, \"yaxis\": {\"title\": {\"text\": \"Sales\"}}},\n",
       "                        {\"responsive\": true}\n",
       "                    ).then(function(){\n",
       "                            \n",
       "var gd = document.getElementById('9724a4fb-7a68-428b-8f44-6195b83c7445');\n",
       "var x = new MutationObserver(function (mutations, observer) {{\n",
       "        var display = window.getComputedStyle(gd).display;\n",
       "        if (!display || display === 'none') {{\n",
       "            console.log([gd, 'removed!']);\n",
       "            Plotly.purge(gd);\n",
       "            observer.disconnect();\n",
       "        }}\n",
       "}});\n",
       "\n",
       "// Listen for the removal of the full notebook cells\n",
       "var notebookContainer = gd.closest('#notebook-container');\n",
       "if (notebookContainer) {{\n",
       "    x.observe(notebookContainer, {childList: true});\n",
       "}}\n",
       "\n",
       "// Listen for the clearing of the current output cell\n",
       "var outputEl = gd.closest('.output');\n",
       "if (outputEl) {{\n",
       "    x.observe(outputEl, {childList: true});\n",
       "}}\n",
       "\n",
       "                        })\n",
       "                };\n",
       "                \n",
       "            </script>\n",
       "        </div>\n",
       "</body>\n",
       "</html>"
      ]
     },
     "metadata": {
      "tags": []
     },
     "output_type": "display_data"
    }
   ],
   "source": [
    "# Create a figure\n",
    "fig = go.Figure()\n",
    "\n",
    "# Define relevant years\n",
    "years = [2016, 2017, 2018]\n",
    "\n",
    "# Go through each year and create a bar plot\n",
    "for year in years:\n",
    "  # Create a condition to get data from a specifc year\n",
    "  condition = country_purchases_df['year'] == year\n",
    "  # Get the x- and y-values for the year\n",
    "  x_values = country_purchases_df.loc[condition, 'country'].values\n",
    "  y_values = country_purchases_df.loc[condition, 'sales'].values\n",
    "\n",
    "  # Add bar plot\n",
    "  fig.add_trace(\n",
    "      go.Bar(x=x_values, \n",
    "             y=y_values,\n",
    "             name=year),\n",
    "  )\n",
    "\n",
    "# Update title, axis labels and group mode\n",
    "fig.update_layout(\n",
    "    title_text=\"Sales in different countries per year\",\n",
    "    barmode='group',\n",
    "    yaxis = dict(\n",
    "        title='Sales'\n",
    "    ),\n",
    ")\n",
    "\n",
    "# Show figure\n",
    "fig.show()"
   ]
  },
  {
   "cell_type": "markdown",
   "metadata": {
    "id": "IylAR2MWUHh7"
   },
   "source": [
    "The bar chart is shown above. Here it is possible to hover over a bar to see the amount of sales the bar represents. It is very hard to see the data for Switzerland, but it shows three bars with 1, 3, and 7 sales for 2016, 2017 and 2018 respectively.\n",
    "\n",
    "It is seen that most sales comes from Portugal, which has the most sales of all countries for all three years. \n",
    "Furthermore, the sales have been rising in most countries. Especially in Portugal where sales nearly has risen with 700 sales over two years. There is some countries where sales have stagnated or fallen. We see that sales in Greece has fallen drastically from 869 to 338 in two years. This could be an indication that some measures is needed to get sales a up again in Greece. Meanwhile, the sales in France have fallen in 2017 and then stagnated in 2018. There is also a few sales happening in Japan, but the sales amount have been pretty stable, as it has risen and fallen a bit through the years.\n",
    "\n",
    "From this it is seen that sales happens in a lot of the larger countries in Europe. A country that could be expanded to could be Italy, which isn't on the list, as Italy is one of the larger country i Europe (6th largest in Europe by population). "
   ]
  },
  {
   "cell_type": "markdown",
   "metadata": {
    "id": "nPoM8mtz3kmt"
   },
   "source": [
    "#### 3.2. Add your own query #2 (5 pts)\n",
    "\n",
    "**Impress your boss providing a valuable data-driven insight. Why is this relevant? Describe the query in words and provide appropriate visualisations. Write a paragraph describing your findings.**"
   ]
  },
  {
   "cell_type": "markdown",
   "metadata": {
    "id": "TDjreiBGzLec"
   },
   "source": [
    "We have checked the sales in the relevant countries, but it could be interesting to see which country creates the most revenue. This could reveal if there is a positive correlation between the amount of sales and the revenue for each country or if some countries place large orders, while stille generating a large revenue. This could be useful to see the importance of generating sales and if there should be a focus on generating more, which would be the case with a positive correlation between the amount of sales and the revenue.\n",
    "\n",
    "The query is made by selecting the `country` column, transforming the `date` column to only including the year, and a new column column is created using the `SUM` function on the `price` column to find the revenue. A `GROUP BY` is then used to group the sales by country and year. The table is then sorted by country and year in ascending order.\n",
    "\n",
    "Again, the best way to visualize this, is by using a grouped bar chart, to compare the revenue for each year and revenue between countries:"
   ]
  },
  {
   "cell_type": "code",
   "execution_count": null,
   "metadata": {
    "id": "gwDFiCH741FL"
   },
   "outputs": [],
   "source": [
    "# Create query to get the revenue each year from each country\n",
    "query = \"\"\"\n",
    "        SELECT country, YEAR(date) AS year, SUM(price) AS revenue\n",
    "        FROM transactions_sql\n",
    "        GROUP BY country, year\n",
    "        ORDER BY country, year ASC\n",
    "        \"\"\"\n",
    " \n",
    "# Create dataframe\n",
    "country_revenue = spark.sql(query)\n",
    "country_revenue_df = country_revenue.toPandas()"
   ]
  },
  {
   "cell_type": "code",
   "execution_count": null,
   "metadata": {
    "colab": {
     "base_uri": "https://localhost:8080/",
     "height": 542
    },
    "id": "wPp5-Bb62xA1",
    "outputId": "a3f5b253-a4c7-4e7d-ea84-7b6a6b440b1f"
   },
   "outputs": [
    {
     "data": {
      "text/html": [
       "<html>\n",
       "<head><meta charset=\"utf-8\" /></head>\n",
       "<body>\n",
       "    <div>\n",
       "            <script src=\"https://cdnjs.cloudflare.com/ajax/libs/mathjax/2.7.5/MathJax.js?config=TeX-AMS-MML_SVG\"></script><script type=\"text/javascript\">if (window.MathJax) {MathJax.Hub.Config({SVG: {font: \"STIX-Web\"}});}</script>\n",
       "                <script type=\"text/javascript\">window.PlotlyConfig = {MathJaxConfig: 'local'};</script>\n",
       "        <script src=\"https://cdn.plot.ly/plotly-latest.min.js\"></script>    \n",
       "            <div id=\"423b6dff-ff17-4015-b0c3-bc38f88a0d8d\" class=\"plotly-graph-div\" style=\"height:525px; width:100%;\"></div>\n",
       "            <script type=\"text/javascript\">\n",
       "                \n",
       "                    window.PLOTLYENV=window.PLOTLYENV || {};\n",
       "                    \n",
       "                if (document.getElementById(\"423b6dff-ff17-4015-b0c3-bc38f88a0d8d\")) {\n",
       "                    Plotly.newPlot(\n",
       "                        '423b6dff-ff17-4015-b0c3-bc38f88a0d8d',\n",
       "                        [{\"name\": \"2016\", \"type\": \"bar\", \"x\": [\"France\", \"Germany\", \"Greece\", \"Japan\", \"Netherlands\", \"Portugal\", \"Spain\", \"Switzerland\", \"United Kingdom\", \"United States\"], \"y\": [690530.3000640869, 167797.67028045654, 498151.57005023956, 24319.86489868164, 66445.49002838135, 1196988.2398004532, 236446.26984024048, 158.1999969482422, 228791.29359054565, 182164.2985458374]}, {\"name\": \"2017\", \"type\": \"bar\", \"x\": [\"France\", \"Germany\", \"Greece\", \"Japan\", \"Netherlands\", \"Portugal\", \"Spain\", \"Switzerland\", \"United Kingdom\", \"United States\"], \"y\": [661040.1895275116, 219581.06993865967, 226094.72020721436, 33591.586250305176, 80808.21991729736, 1496541.1391910315, 275343.40017700195, 2011.7200317382812, 312970.6833190918, 243985.01403427124]}, {\"name\": \"2018\", \"type\": \"bar\", \"x\": [\"France\", \"Germany\", \"Greece\", \"Japan\", \"Netherlands\", \"Portugal\", \"Spain\", \"Switzerland\", \"United Kingdom\", \"United States\"], \"y\": [659682.6697881222, 257126.55973052979, 189224.65049743652, 29102.882720947266, 94485.30033874512, 1569810.679901123, 312331.43003845215, 3998.030044555664, 325839.35974502563, 242129.09215527773]}],\n",
       "                        {\"barmode\": \"group\", \"template\": {\"data\": {\"bar\": [{\"error_x\": {\"color\": \"#2a3f5f\"}, \"error_y\": {\"color\": \"#2a3f5f\"}, \"marker\": {\"line\": {\"color\": \"#E5ECF6\", \"width\": 0.5}}, \"type\": \"bar\"}], \"barpolar\": [{\"marker\": {\"line\": {\"color\": \"#E5ECF6\", \"width\": 0.5}}, \"type\": \"barpolar\"}], \"carpet\": [{\"aaxis\": {\"endlinecolor\": \"#2a3f5f\", \"gridcolor\": \"white\", \"linecolor\": \"white\", \"minorgridcolor\": \"white\", \"startlinecolor\": \"#2a3f5f\"}, \"baxis\": {\"endlinecolor\": \"#2a3f5f\", \"gridcolor\": \"white\", \"linecolor\": \"white\", \"minorgridcolor\": \"white\", \"startlinecolor\": \"#2a3f5f\"}, \"type\": \"carpet\"}], \"choropleth\": [{\"colorbar\": {\"outlinewidth\": 0, \"ticks\": \"\"}, \"type\": \"choropleth\"}], \"contour\": [{\"colorbar\": {\"outlinewidth\": 0, \"ticks\": \"\"}, \"colorscale\": [[0.0, \"#0d0887\"], [0.1111111111111111, \"#46039f\"], [0.2222222222222222, \"#7201a8\"], [0.3333333333333333, \"#9c179e\"], [0.4444444444444444, \"#bd3786\"], [0.5555555555555556, \"#d8576b\"], [0.6666666666666666, \"#ed7953\"], [0.7777777777777778, \"#fb9f3a\"], [0.8888888888888888, \"#fdca26\"], [1.0, \"#f0f921\"]], \"type\": \"contour\"}], \"contourcarpet\": [{\"colorbar\": {\"outlinewidth\": 0, \"ticks\": \"\"}, \"type\": \"contourcarpet\"}], \"heatmap\": [{\"colorbar\": {\"outlinewidth\": 0, \"ticks\": \"\"}, \"colorscale\": [[0.0, \"#0d0887\"], [0.1111111111111111, \"#46039f\"], [0.2222222222222222, \"#7201a8\"], [0.3333333333333333, \"#9c179e\"], [0.4444444444444444, \"#bd3786\"], [0.5555555555555556, \"#d8576b\"], [0.6666666666666666, \"#ed7953\"], [0.7777777777777778, \"#fb9f3a\"], [0.8888888888888888, \"#fdca26\"], [1.0, \"#f0f921\"]], \"type\": \"heatmap\"}], \"heatmapgl\": [{\"colorbar\": {\"outlinewidth\": 0, \"ticks\": \"\"}, \"colorscale\": [[0.0, \"#0d0887\"], [0.1111111111111111, \"#46039f\"], [0.2222222222222222, \"#7201a8\"], [0.3333333333333333, \"#9c179e\"], [0.4444444444444444, \"#bd3786\"], [0.5555555555555556, \"#d8576b\"], [0.6666666666666666, \"#ed7953\"], [0.7777777777777778, \"#fb9f3a\"], [0.8888888888888888, \"#fdca26\"], [1.0, \"#f0f921\"]], \"type\": \"heatmapgl\"}], \"histogram\": [{\"marker\": {\"colorbar\": {\"outlinewidth\": 0, \"ticks\": \"\"}}, \"type\": \"histogram\"}], \"histogram2d\": [{\"colorbar\": {\"outlinewidth\": 0, \"ticks\": \"\"}, \"colorscale\": [[0.0, \"#0d0887\"], [0.1111111111111111, \"#46039f\"], [0.2222222222222222, \"#7201a8\"], [0.3333333333333333, \"#9c179e\"], [0.4444444444444444, \"#bd3786\"], [0.5555555555555556, \"#d8576b\"], [0.6666666666666666, \"#ed7953\"], [0.7777777777777778, \"#fb9f3a\"], [0.8888888888888888, \"#fdca26\"], [1.0, \"#f0f921\"]], \"type\": \"histogram2d\"}], \"histogram2dcontour\": [{\"colorbar\": {\"outlinewidth\": 0, \"ticks\": \"\"}, \"colorscale\": [[0.0, \"#0d0887\"], [0.1111111111111111, \"#46039f\"], [0.2222222222222222, \"#7201a8\"], [0.3333333333333333, \"#9c179e\"], [0.4444444444444444, \"#bd3786\"], [0.5555555555555556, \"#d8576b\"], [0.6666666666666666, \"#ed7953\"], [0.7777777777777778, \"#fb9f3a\"], [0.8888888888888888, \"#fdca26\"], [1.0, \"#f0f921\"]], \"type\": \"histogram2dcontour\"}], \"mesh3d\": [{\"colorbar\": {\"outlinewidth\": 0, \"ticks\": \"\"}, \"type\": \"mesh3d\"}], \"parcoords\": [{\"line\": {\"colorbar\": {\"outlinewidth\": 0, \"ticks\": \"\"}}, \"type\": \"parcoords\"}], \"pie\": [{\"automargin\": true, \"type\": \"pie\"}], \"scatter\": [{\"marker\": {\"colorbar\": {\"outlinewidth\": 0, \"ticks\": \"\"}}, \"type\": \"scatter\"}], \"scatter3d\": [{\"line\": {\"colorbar\": {\"outlinewidth\": 0, \"ticks\": \"\"}}, \"marker\": {\"colorbar\": {\"outlinewidth\": 0, \"ticks\": \"\"}}, \"type\": \"scatter3d\"}], \"scattercarpet\": [{\"marker\": {\"colorbar\": {\"outlinewidth\": 0, \"ticks\": \"\"}}, \"type\": \"scattercarpet\"}], \"scattergeo\": [{\"marker\": {\"colorbar\": {\"outlinewidth\": 0, \"ticks\": \"\"}}, \"type\": \"scattergeo\"}], \"scattergl\": [{\"marker\": {\"colorbar\": {\"outlinewidth\": 0, \"ticks\": \"\"}}, \"type\": \"scattergl\"}], \"scattermapbox\": [{\"marker\": {\"colorbar\": {\"outlinewidth\": 0, \"ticks\": \"\"}}, \"type\": \"scattermapbox\"}], \"scatterpolar\": [{\"marker\": {\"colorbar\": {\"outlinewidth\": 0, \"ticks\": \"\"}}, \"type\": \"scatterpolar\"}], \"scatterpolargl\": [{\"marker\": {\"colorbar\": {\"outlinewidth\": 0, \"ticks\": \"\"}}, \"type\": \"scatterpolargl\"}], \"scatterternary\": [{\"marker\": {\"colorbar\": {\"outlinewidth\": 0, \"ticks\": \"\"}}, \"type\": \"scatterternary\"}], \"surface\": [{\"colorbar\": {\"outlinewidth\": 0, \"ticks\": \"\"}, \"colorscale\": [[0.0, \"#0d0887\"], [0.1111111111111111, \"#46039f\"], [0.2222222222222222, \"#7201a8\"], [0.3333333333333333, \"#9c179e\"], [0.4444444444444444, \"#bd3786\"], [0.5555555555555556, \"#d8576b\"], [0.6666666666666666, \"#ed7953\"], [0.7777777777777778, \"#fb9f3a\"], [0.8888888888888888, \"#fdca26\"], [1.0, \"#f0f921\"]], \"type\": \"surface\"}], \"table\": [{\"cells\": {\"fill\": {\"color\": \"#EBF0F8\"}, \"line\": {\"color\": \"white\"}}, \"header\": {\"fill\": {\"color\": \"#C8D4E3\"}, \"line\": {\"color\": \"white\"}}, \"type\": \"table\"}]}, \"layout\": {\"annotationdefaults\": {\"arrowcolor\": \"#2a3f5f\", \"arrowhead\": 0, \"arrowwidth\": 1}, \"coloraxis\": {\"colorbar\": {\"outlinewidth\": 0, \"ticks\": \"\"}}, \"colorscale\": {\"diverging\": [[0, \"#8e0152\"], [0.1, \"#c51b7d\"], [0.2, \"#de77ae\"], [0.3, \"#f1b6da\"], [0.4, \"#fde0ef\"], [0.5, \"#f7f7f7\"], [0.6, \"#e6f5d0\"], [0.7, \"#b8e186\"], [0.8, \"#7fbc41\"], [0.9, \"#4d9221\"], [1, \"#276419\"]], \"sequential\": [[0.0, \"#0d0887\"], [0.1111111111111111, \"#46039f\"], [0.2222222222222222, \"#7201a8\"], [0.3333333333333333, \"#9c179e\"], [0.4444444444444444, \"#bd3786\"], [0.5555555555555556, \"#d8576b\"], [0.6666666666666666, \"#ed7953\"], [0.7777777777777778, \"#fb9f3a\"], [0.8888888888888888, \"#fdca26\"], [1.0, \"#f0f921\"]], \"sequentialminus\": [[0.0, \"#0d0887\"], [0.1111111111111111, \"#46039f\"], [0.2222222222222222, \"#7201a8\"], [0.3333333333333333, \"#9c179e\"], [0.4444444444444444, \"#bd3786\"], [0.5555555555555556, \"#d8576b\"], [0.6666666666666666, \"#ed7953\"], [0.7777777777777778, \"#fb9f3a\"], [0.8888888888888888, \"#fdca26\"], [1.0, \"#f0f921\"]]}, \"colorway\": [\"#636efa\", \"#EF553B\", \"#00cc96\", \"#ab63fa\", \"#FFA15A\", \"#19d3f3\", \"#FF6692\", \"#B6E880\", \"#FF97FF\", \"#FECB52\"], \"font\": {\"color\": \"#2a3f5f\"}, \"geo\": {\"bgcolor\": \"white\", \"lakecolor\": \"white\", \"landcolor\": \"#E5ECF6\", \"showlakes\": true, \"showland\": true, \"subunitcolor\": \"white\"}, \"hoverlabel\": {\"align\": \"left\"}, \"hovermode\": \"closest\", \"mapbox\": {\"style\": \"light\"}, \"paper_bgcolor\": \"white\", \"plot_bgcolor\": \"#E5ECF6\", \"polar\": {\"angularaxis\": {\"gridcolor\": \"white\", \"linecolor\": \"white\", \"ticks\": \"\"}, \"bgcolor\": \"#E5ECF6\", \"radialaxis\": {\"gridcolor\": \"white\", \"linecolor\": \"white\", \"ticks\": \"\"}}, \"scene\": {\"xaxis\": {\"backgroundcolor\": \"#E5ECF6\", \"gridcolor\": \"white\", \"gridwidth\": 2, \"linecolor\": \"white\", \"showbackground\": true, \"ticks\": \"\", \"zerolinecolor\": \"white\"}, \"yaxis\": {\"backgroundcolor\": \"#E5ECF6\", \"gridcolor\": \"white\", \"gridwidth\": 2, \"linecolor\": \"white\", \"showbackground\": true, \"ticks\": \"\", \"zerolinecolor\": \"white\"}, \"zaxis\": {\"backgroundcolor\": \"#E5ECF6\", \"gridcolor\": \"white\", \"gridwidth\": 2, \"linecolor\": \"white\", \"showbackground\": true, \"ticks\": \"\", \"zerolinecolor\": \"white\"}}, \"shapedefaults\": {\"line\": {\"color\": \"#2a3f5f\"}}, \"ternary\": {\"aaxis\": {\"gridcolor\": \"white\", \"linecolor\": \"white\", \"ticks\": \"\"}, \"baxis\": {\"gridcolor\": \"white\", \"linecolor\": \"white\", \"ticks\": \"\"}, \"bgcolor\": \"#E5ECF6\", \"caxis\": {\"gridcolor\": \"white\", \"linecolor\": \"white\", \"ticks\": \"\"}}, \"title\": {\"x\": 0.05}, \"xaxis\": {\"automargin\": true, \"gridcolor\": \"white\", \"linecolor\": \"white\", \"ticks\": \"\", \"title\": {\"standoff\": 15}, \"zerolinecolor\": \"white\", \"zerolinewidth\": 2}, \"yaxis\": {\"automargin\": true, \"gridcolor\": \"white\", \"linecolor\": \"white\", \"ticks\": \"\", \"title\": {\"standoff\": 15}, \"zerolinecolor\": \"white\", \"zerolinewidth\": 2}}}, \"title\": {\"text\": \"Revenue in different countries per year\"}, \"yaxis\": {\"title\": {\"text\": \"Revenue in Euro\"}}},\n",
       "                        {\"responsive\": true}\n",
       "                    ).then(function(){\n",
       "                            \n",
       "var gd = document.getElementById('423b6dff-ff17-4015-b0c3-bc38f88a0d8d');\n",
       "var x = new MutationObserver(function (mutations, observer) {{\n",
       "        var display = window.getComputedStyle(gd).display;\n",
       "        if (!display || display === 'none') {{\n",
       "            console.log([gd, 'removed!']);\n",
       "            Plotly.purge(gd);\n",
       "            observer.disconnect();\n",
       "        }}\n",
       "}});\n",
       "\n",
       "// Listen for the removal of the full notebook cells\n",
       "var notebookContainer = gd.closest('#notebook-container');\n",
       "if (notebookContainer) {{\n",
       "    x.observe(notebookContainer, {childList: true});\n",
       "}}\n",
       "\n",
       "// Listen for the clearing of the current output cell\n",
       "var outputEl = gd.closest('.output');\n",
       "if (outputEl) {{\n",
       "    x.observe(outputEl, {childList: true});\n",
       "}}\n",
       "\n",
       "                        })\n",
       "                };\n",
       "                \n",
       "            </script>\n",
       "        </div>\n",
       "</body>\n",
       "</html>"
      ]
     },
     "metadata": {
      "tags": []
     },
     "output_type": "display_data"
    }
   ],
   "source": [
    "# Create figure\n",
    "fig = go.Figure()\n",
    "\n",
    "# Define relevant years\n",
    "years = [2016, 2017, 2018]\n",
    "\n",
    "# Go through each year and create a bar plot\n",
    "for year in years:\n",
    "  # Create a condition to get data from a specifc year\n",
    "  condition = country_revenue_df['year'] == year\n",
    "  # Get the x- and y-values for the year\n",
    "  x_values = country_revenue_df.loc[condition, 'country'].values\n",
    "  y_values = country_revenue_df.loc[condition, 'revenue'].values\n",
    "\n",
    "  # Add bar plot\n",
    "  fig.add_trace(\n",
    "      go.Bar(x=x_values, \n",
    "             y=y_values,\n",
    "             name=year),\n",
    "  )\n",
    "\n",
    "# Update title, axis labels and group mode\n",
    "fig.update_layout(\n",
    "    title_text=\"Revenue in different countries per year\",\n",
    "    barmode='group',\n",
    "    yaxis = dict(\n",
    "        title='Revenue in Euro'\n",
    "    ),\n",
    ")\n",
    "\n",
    "# Show figure\n",
    "fig.show()"
   ]
  },
  {
   "cell_type": "markdown",
   "metadata": {
    "id": "Soadhw5uzMLC"
   },
   "source": [
    "It is again very hard to see the data for Switzerland, but it shows three bars with 158.2, 2011.72, and 3998.03 Euro in revenue for 2016, 2017 and 2018 respectively.\n",
    "\n",
    "It can be seen that the revenue bar plot looks very much alike the sales bar plot, which indicate that there is a positive correlation between sales and revenue. Though, for the United States the revenue bars doesn't follow the same pattern as the sales bars. In the sales bar plot, we see that there is a increase in sales from 2017 to 2018. But in the revenue plot, the revenue has decreased by nearly 2k Euro from 2017 to 2018. So even though the United States is making more orders, the order size or the price of parts has changed resulting in lower revenue.\n",
    "\n",
    "But, it can be said that more sales often equals to more revenue. This shows why a focus on getting more sales in different countries from existing customers and potential customers is important in generating a higher revenue."
   ]
  },
  {
   "cell_type": "markdown",
   "metadata": {
    "id": "AH70WZCda6T1"
   },
   "source": [
    "<font color='green'>**TA Comment**: 3/5 pts. Not a very insightful query given the query above it\n",
    "</font>"
   ]
  }
 ],
 "metadata": {
  "colab": {
   "collapsed_sections": [],
   "name": "02807: Project 2.ipynb",
   "provenance": [],
   "toc_visible": true
  },
  "kernelspec": {
   "display_name": "Python 3",
   "language": "python",
   "name": "python3"
  },
  "language_info": {
   "codemirror_mode": {
    "name": "ipython",
    "version": 3
   },
   "file_extension": ".py",
   "mimetype": "text/x-python",
   "name": "python",
   "nbconvert_exporter": "python",
   "pygments_lexer": "ipython3",
   "version": "3.9.0"
  }
 },
 "nbformat": 4,
 "nbformat_minor": 1
}
